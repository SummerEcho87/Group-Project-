{
 "cells": [
  {
   "cell_type": "code",
   "execution_count": 1,
   "id": "5439fe43-1bec-4290-951b-2d0281983f34",
   "metadata": {},
   "outputs": [],
   "source": [
    "Combined = read.csv(\"C:/Users/Summe/Documents/GitHub/Group-Project-/Data/Combine Data Sets.csv\")"
   ]
  },
  {
   "cell_type": "code",
   "execution_count": 2,
   "id": "18775a19-ca1d-462b-b7f3-92b1e22cae5e",
   "metadata": {
    "collapsed": true,
    "jupyter": {
     "outputs_hidden": true,
     "source_hidden": true
    },
    "tags": []
   },
   "outputs": [
    {
     "name": "stderr",
     "output_type": "stream",
     "text": [
      "\n",
      "Attaching package: 'dplyr'\n",
      "\n",
      "\n",
      "The following objects are masked from 'package:stats':\n",
      "\n",
      "    filter, lag\n",
      "\n",
      "\n",
      "The following objects are masked from 'package:base':\n",
      "\n",
      "    intersect, setdiff, setequal, union\n",
      "\n",
      "\n",
      "Warning message:\n",
      "\"package 'rcompanion' was built under R version 4.1.3\"\n",
      "Warning message:\n",
      "\"package 'car' was built under R version 4.1.3\"\n",
      "Loading required package: carData\n",
      "\n",
      "Warning message:\n",
      "\"package 'carData' was built under R version 4.1.3\"\n",
      "\n",
      "Attaching package: 'car'\n",
      "\n",
      "\n",
      "The following object is masked from 'package:dplyr':\n",
      "\n",
      "    recode\n",
      "\n",
      "\n",
      "Warning message:\n",
      "\"package 'IDPmisc' was built under R version 4.1.3\"\n",
      "Installing package into 'C:/Users/Summe/OneDrive/Documents/R/win-library/4.1'\n",
      "(as 'lib' is unspecified)\n",
      "\n"
     ]
    },
    {
     "name": "stdout",
     "output_type": "stream",
     "text": [
      "package 'caret' successfully unpacked and MD5 sums checked\n"
     ]
    },
    {
     "name": "stderr",
     "output_type": "stream",
     "text": [
      "Warning message:\n",
      "\"cannot remove prior installation of package 'caret'\"\n",
      "Warning message in file.copy(savedcopy, lib, recursive = TRUE):\n",
      "\"problem copying C:\\Users\\Summe\\OneDrive\\Documents\\R\\win-library\\4.1\\00LOCK\\caret\\libs\\x64\\caret.dll to C:\\Users\\Summe\\OneDrive\\Documents\\R\\win-library\\4.1\\caret\\libs\\x64\\caret.dll: Permission denied\"\n",
      "Warning message:\n",
      "\"restored 'caret'\"\n"
     ]
    },
    {
     "name": "stdout",
     "output_type": "stream",
     "text": [
      "\n",
      "The downloaded binary packages are in\n",
      "\tC:\\Users\\Summe\\AppData\\Local\\Temp\\Rtmp2Ze7bM\\downloaded_packages\n"
     ]
    },
    {
     "name": "stderr",
     "output_type": "stream",
     "text": [
      "Installing package into 'C:/Users/Summe/OneDrive/Documents/R/win-library/4.1'\n",
      "(as 'lib' is unspecified)\n",
      "\n"
     ]
    },
    {
     "name": "stdout",
     "output_type": "stream",
     "text": [
      "package 'gvlma' successfully unpacked and MD5 sums checked\n",
      "\n",
      "The downloaded binary packages are in\n",
      "\tC:\\Users\\Summe\\AppData\\Local\\Temp\\Rtmp2Ze7bM\\downloaded_packages\n"
     ]
    },
    {
     "name": "stderr",
     "output_type": "stream",
     "text": [
      "Installing package into 'C:/Users/Summe/OneDrive/Documents/R/win-library/4.1'\n",
      "(as 'lib' is unspecified)\n",
      "\n"
     ]
    },
    {
     "name": "stdout",
     "output_type": "stream",
     "text": [
      "package 'predictmeans' successfully unpacked and MD5 sums checked\n",
      "\n",
      "The downloaded binary packages are in\n",
      "\tC:\\Users\\Summe\\AppData\\Local\\Temp\\Rtmp2Ze7bM\\downloaded_packages\n"
     ]
    },
    {
     "name": "stderr",
     "output_type": "stream",
     "text": [
      "Installing package into 'C:/Users/Summe/OneDrive/Documents/R/win-library/4.1'\n",
      "(as 'lib' is unspecified)\n",
      "\n"
     ]
    },
    {
     "name": "stdout",
     "output_type": "stream",
     "text": [
      "package 'e1071' successfully unpacked and MD5 sums checked\n"
     ]
    },
    {
     "name": "stderr",
     "output_type": "stream",
     "text": [
      "Warning message:\n",
      "\"cannot remove prior installation of package 'e1071'\"\n",
      "Warning message in file.copy(savedcopy, lib, recursive = TRUE):\n",
      "\"problem copying C:\\Users\\Summe\\OneDrive\\Documents\\R\\win-library\\4.1\\00LOCK\\e1071\\libs\\x64\\e1071.dll to C:\\Users\\Summe\\OneDrive\\Documents\\R\\win-library\\4.1\\e1071\\libs\\x64\\e1071.dll: Permission denied\"\n",
      "Warning message:\n",
      "\"restored 'e1071'\"\n"
     ]
    },
    {
     "name": "stdout",
     "output_type": "stream",
     "text": [
      "\n",
      "The downloaded binary packages are in\n",
      "\tC:\\Users\\Summe\\AppData\\Local\\Temp\\Rtmp2Ze7bM\\downloaded_packages\n"
     ]
    },
    {
     "name": "stderr",
     "output_type": "stream",
     "text": [
      "Installing package into 'C:/Users/Summe/OneDrive/Documents/R/win-library/4.1'\n",
      "(as 'lib' is unspecified)\n",
      "\n"
     ]
    },
    {
     "name": "stdout",
     "output_type": "stream",
     "text": [
      "package 'lmtest' successfully unpacked and MD5 sums checked\n"
     ]
    },
    {
     "name": "stderr",
     "output_type": "stream",
     "text": [
      "Warning message:\n",
      "\"cannot remove prior installation of package 'lmtest'\"\n",
      "Warning message in file.copy(savedcopy, lib, recursive = TRUE):\n",
      "\"problem copying C:\\Users\\Summe\\OneDrive\\Documents\\R\\win-library\\4.1\\00LOCK\\lmtest\\libs\\x64\\lmtest.dll to C:\\Users\\Summe\\OneDrive\\Documents\\R\\win-library\\4.1\\lmtest\\libs\\x64\\lmtest.dll: Permission denied\"\n",
      "Warning message:\n",
      "\"restored 'lmtest'\"\n"
     ]
    },
    {
     "name": "stdout",
     "output_type": "stream",
     "text": [
      "\n",
      "The downloaded binary packages are in\n",
      "\tC:\\Users\\Summe\\AppData\\Local\\Temp\\Rtmp2Ze7bM\\downloaded_packages\n"
     ]
    },
    {
     "name": "stderr",
     "output_type": "stream",
     "text": [
      "Warning message:\n",
      "\"package 'caret' was built under R version 4.1.3\"\n",
      "Loading required package: ggplot2\n",
      "\n",
      "Warning message:\n",
      "\"package 'ggplot2' was built under R version 4.1.3\"\n",
      "Loading required package: lattice\n",
      "\n",
      "Warning message:\n",
      "\"package 'predictmeans' was built under R version 4.1.3\"\n",
      "Loading required package: lme4\n",
      "\n",
      "Warning message:\n",
      "\"package 'lme4' was built under R version 4.1.3\"\n",
      "Loading required package: Matrix\n",
      "\n",
      "Loading required package: nlme\n",
      "\n",
      "\n",
      "Attaching package: 'nlme'\n",
      "\n",
      "\n",
      "The following object is masked from 'package:lme4':\n",
      "\n",
      "    lmList\n",
      "\n",
      "\n",
      "The following object is masked from 'package:dplyr':\n",
      "\n",
      "    collapse\n",
      "\n",
      "\n",
      "Loading required package: lmeInfo\n",
      "\n",
      "Warning message:\n",
      "\"package 'lmeInfo' was built under R version 4.1.3\"\n",
      "Loading required package: parallel\n",
      "\n",
      "Warning message:\n",
      "\"package 'e1071' was built under R version 4.1.3\"\n",
      "Warning message:\n",
      "\"package 'lmtest' was built under R version 4.1.3\"\n",
      "Loading required package: zoo\n",
      "\n",
      "\n",
      "Attaching package: 'zoo'\n",
      "\n",
      "\n",
      "The following objects are masked from 'package:base':\n",
      "\n",
      "    as.Date, as.Date.numeric\n",
      "\n",
      "\n"
     ]
    }
   ],
   "source": [
    "library(\"dplyr\")\n",
    "library(\"rcompanion\")\n",
    "library(\"car\")\n",
    "library(\"IDPmisc\")\n",
    "install.packages(\"caret\")\n",
    "install.packages(\"gvlma\")\n",
    "install.packages(\"predictmeans\")\n",
    "install.packages(\"e1071\")\n",
    "install.packages(\"lmtest\")\n",
    "library(\"caret\")\n",
    "library(\"gvlma\")\n",
    "library(\"predictmeans\")\n",
    "library(\"e1071\")\n",
    "library(\"lmtest\")"
   ]
  },
  {
   "cell_type": "code",
   "execution_count": 3,
   "id": "db5babc7-e466-4229-a43b-cf47e1bcae81",
   "metadata": {
    "collapsed": true,
    "jupyter": {
     "outputs_hidden": true
    },
    "tags": []
   },
   "outputs": [
    {
     "data": {
      "text/plain": [
       "      id               title               type           description       \n",
       " Length:11542       Length:11542       Length:11542       Length:11542      \n",
       " Class :character   Class :character   Class :character   Class :character  \n",
       " Mode  :character   Mode  :character   Mode  :character   Mode  :character  \n",
       "                                                                            \n",
       "                                                                            \n",
       "                                                                            \n",
       "                                                                            \n",
       "  release_year  age_certification     runtime          genres         \n",
       " Min.   :1901   Length:11542       Min.   :  0.00   Length:11542      \n",
       " 1st Qu.:2010   Class :character   1st Qu.: 43.00   Class :character  \n",
       " Median :2017   Mode  :character   Median : 82.00   Mode  :character  \n",
       " Mean   :2011                      Mean   : 74.84                     \n",
       " 3rd Qu.:2020                      3rd Qu.:102.00                     \n",
       " Max.   :2022                      Max.   :255.00                     \n",
       "                                                                      \n",
       " production_countries    seasons         imdb_id            imdb_score   \n",
       " Length:11542         Min.   : 1.000   Length:11542       Min.   :1.000  \n",
       " Class :character     1st Qu.: 1.000   Class :character   1st Qu.:6.000  \n",
       " Mode  :character     Median : 2.000   Mode  :character   Median :6.800  \n",
       "                      Mean   : 2.876                      Mean   :6.654  \n",
       "                      3rd Qu.: 3.000                      3rd Qu.:7.500  \n",
       "                      Max.   :63.000                      Max.   :9.600  \n",
       "                      NA's   :7350                        NA's   :1020   \n",
       "   imdb_votes      tmdb_popularity      tmdb_score    \n",
       " Min.   :      5   Min.   :   0.009   Min.   : 0.500  \n",
       " 1st Qu.:    602   1st Qu.:   3.205   1st Qu.: 6.200  \n",
       " Median :   3256   Median :   8.086   Median : 6.900  \n",
       " Mean   :  35893   Mean   :  23.279   Mean   : 6.847  \n",
       " 3rd Qu.:  17902   3rd Qu.:  18.221   3rd Qu.: 7.600  \n",
       " Max.   :2555504   Max.   :4447.894   Max.   :10.000  \n",
       " NA's   :1048      NA's   :174        NA's   :739     "
      ]
     },
     "metadata": {},
     "output_type": "display_data"
    }
   ],
   "source": [
    "summary(Combined)"
   ]
  },
  {
   "cell_type": "code",
   "execution_count": 25,
   "id": "9f09b594-cbef-43df-a2e9-52954beb8d8f",
   "metadata": {},
   "outputs": [],
   "source": [
    "Means <- na.omit(Combined %>% summarize(Mean = mean(imdb_score)))"
   ]
  },
  {
   "cell_type": "code",
   "execution_count": 28,
   "id": "18dfbd85-25dd-4d9d-b0c3-0a169fb6312e",
   "metadata": {},
   "outputs": [
    {
     "data": {
      "text/html": [
       "6.65440980802129"
      ],
      "text/latex": [
       "6.65440980802129"
      ],
      "text/markdown": [
       "6.65440980802129"
      ],
      "text/plain": [
       "[1] 6.65441"
      ]
     },
     "metadata": {},
     "output_type": "display_data"
    }
   ],
   "source": [
    "mean(Combined$imdb_score, na.rm = TRUE)"
   ]
  },
  {
   "cell_type": "code",
   "execution_count": 4,
   "id": "fb2d1964-2306-431a-abee-949c8266827f",
   "metadata": {},
   "outputs": [],
   "source": [
    "SHOW <- (Combined %>% filter(type %in% c('SHOW')))"
   ]
  },
  {
   "cell_type": "code",
   "execution_count": 5,
   "id": "2dfc3c5b-f1f7-4171-b6bd-508d2b04bc3e",
   "metadata": {},
   "outputs": [],
   "source": [
    "MOVIE <- (Combined %>% filter(type %in% c('MOVIE')))"
   ]
  },
  {
   "cell_type": "code",
   "execution_count": 6,
   "id": "6f82654e-d1b2-4949-96b3-b8e41e7c4336",
   "metadata": {},
   "outputs": [
    {
     "data": {
      "text/html": [
       "'SHOW'"
      ],
      "text/latex": [
       "'SHOW'"
      ],
      "text/markdown": [
       "'SHOW'"
      ],
      "text/plain": [
       "[1] \"SHOW\""
      ]
     },
     "metadata": {},
     "output_type": "display_data"
    }
   ],
   "source": [
    "unique(SHOW$type)"
   ]
  },
  {
   "cell_type": "code",
   "execution_count": 7,
   "id": "f4560036-b17c-48bd-984d-8222d910696c",
   "metadata": {},
   "outputs": [
    {
     "data": {
      "text/html": [
       "'MOVIE'"
      ],
      "text/latex": [
       "'MOVIE'"
      ],
      "text/markdown": [
       "'MOVIE'"
      ],
      "text/plain": [
       "[1] \"MOVIE\""
      ]
     },
     "metadata": {},
     "output_type": "display_data"
    }
   ],
   "source": [
    "unique(MOVIE$type)"
   ]
  },
  {
   "cell_type": "code",
   "execution_count": 8,
   "id": "3916d8c4-e1ba-4322-a450-c5e21f21d00a",
   "metadata": {},
   "outputs": [],
   "source": [
    "# Look at Means"
   ]
  },
  {
   "cell_type": "code",
   "execution_count": 31,
   "id": "59a843e3-faa8-4888-b013-4372f6d28d5e",
   "metadata": {},
   "outputs": [],
   "source": [
    "MOVIE_mean = mean(MOVIE$imdb_score, na.rm = TRUE)"
   ]
  },
  {
   "cell_type": "code",
   "execution_count": 32,
   "id": "576911b6-88b9-48db-b80c-767127b321df",
   "metadata": {},
   "outputs": [
    {
     "data": {
      "text/html": [
       "6.40434978928356"
      ],
      "text/latex": [
       "6.40434978928356"
      ],
      "text/markdown": [
       "6.40434978928356"
      ],
      "text/plain": [
       "[1] 6.40435"
      ]
     },
     "metadata": {},
     "output_type": "display_data"
    }
   ],
   "source": [
    "MOVIE_mean"
   ]
  },
  {
   "cell_type": "code",
   "execution_count": 33,
   "id": "8206e940-1b6c-4cd6-a52c-74549b244695",
   "metadata": {},
   "outputs": [],
   "source": [
    "SHOW_mean = mean(SHOW$imdb_score, na.rm = TRUE)"
   ]
  },
  {
   "cell_type": "code",
   "execution_count": 34,
   "id": "05c03bd6-6d24-448b-8d61-730517cbcd6a",
   "metadata": {},
   "outputs": [
    {
     "data": {
      "text/html": [
       "7.08282619907169"
      ],
      "text/latex": [
       "7.08282619907169"
      ],
      "text/markdown": [
       "7.08282619907169"
      ],
      "text/plain": [
       "[1] 7.082826"
      ]
     },
     "metadata": {},
     "output_type": "display_data"
    }
   ],
   "source": [
    "SHOW_mean"
   ]
  },
  {
   "cell_type": "code",
   "execution_count": null,
   "id": "5e13c87e-dc55-405c-a1e5-d281f4f11339",
   "metadata": {},
   "outputs": [],
   "source": []
  }
 ],
 "metadata": {
  "kernelspec": {
   "display_name": "R",
   "language": "R",
   "name": "ir"
  },
  "language_info": {
   "codemirror_mode": "r",
   "file_extension": ".r",
   "mimetype": "text/x-r-source",
   "name": "R",
   "pygments_lexer": "r",
   "version": "4.1.2"
  }
 },
 "nbformat": 4,
 "nbformat_minor": 5
}
