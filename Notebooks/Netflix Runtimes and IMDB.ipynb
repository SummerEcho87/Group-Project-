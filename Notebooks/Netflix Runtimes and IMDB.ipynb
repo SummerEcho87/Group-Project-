{
 "cells": [
  {
   "cell_type": "code",
   "execution_count": 1,
   "id": "c53de3f0-6ef6-4141-b567-90b6d761771e",
   "metadata": {},
   "outputs": [],
   "source": [
    "Netflix = read.csv(\"../Data/Netflix_titles.csv\")"
   ]
  },
  {
   "cell_type": "code",
   "execution_count": 2,
   "id": "4ee66911-2efe-4fde-a61a-b3ccf43fb388",
   "metadata": {
    "collapsed": true,
    "jupyter": {
     "outputs_hidden": true,
     "source_hidden": true
    },
    "tags": []
   },
   "outputs": [
    {
     "name": "stderr",
     "output_type": "stream",
     "text": [
      "\n",
      "Attaching package: 'dplyr'\n",
      "\n",
      "\n",
      "The following objects are masked from 'package:stats':\n",
      "\n",
      "    filter, lag\n",
      "\n",
      "\n",
      "The following objects are masked from 'package:base':\n",
      "\n",
      "    intersect, setdiff, setequal, union\n",
      "\n",
      "\n",
      "Warning message:\n",
      "\"package 'rcompanion' was built under R version 4.1.3\"\n",
      "Warning message:\n",
      "\"package 'car' was built under R version 4.1.3\"\n",
      "Loading required package: carData\n",
      "\n",
      "Warning message:\n",
      "\"package 'carData' was built under R version 4.1.3\"\n",
      "\n",
      "Attaching package: 'car'\n",
      "\n",
      "\n",
      "The following object is masked from 'package:dplyr':\n",
      "\n",
      "    recode\n",
      "\n",
      "\n",
      "Warning message:\n",
      "\"package 'IDPmisc' was built under R version 4.1.3\"\n",
      "Installing package into 'C:/Users/Summe/OneDrive/Documents/R/win-library/4.1'\n",
      "(as 'lib' is unspecified)\n",
      "\n"
     ]
    },
    {
     "name": "stdout",
     "output_type": "stream",
     "text": [
      "package 'caret' successfully unpacked and MD5 sums checked\n",
      "\n",
      "The downloaded binary packages are in\n",
      "\tC:\\Users\\Summe\\AppData\\Local\\Temp\\RtmpqOdRep\\downloaded_packages\n"
     ]
    },
    {
     "name": "stderr",
     "output_type": "stream",
     "text": [
      "Installing package into 'C:/Users/Summe/OneDrive/Documents/R/win-library/4.1'\n",
      "(as 'lib' is unspecified)\n",
      "\n"
     ]
    },
    {
     "name": "stdout",
     "output_type": "stream",
     "text": [
      "package 'gvlma' successfully unpacked and MD5 sums checked\n",
      "\n",
      "The downloaded binary packages are in\n",
      "\tC:\\Users\\Summe\\AppData\\Local\\Temp\\RtmpqOdRep\\downloaded_packages\n"
     ]
    },
    {
     "name": "stderr",
     "output_type": "stream",
     "text": [
      "Installing package into 'C:/Users/Summe/OneDrive/Documents/R/win-library/4.1'\n",
      "(as 'lib' is unspecified)\n",
      "\n"
     ]
    },
    {
     "name": "stdout",
     "output_type": "stream",
     "text": [
      "package 'predictmeans' successfully unpacked and MD5 sums checked\n",
      "\n",
      "The downloaded binary packages are in\n",
      "\tC:\\Users\\Summe\\AppData\\Local\\Temp\\RtmpqOdRep\\downloaded_packages\n"
     ]
    },
    {
     "name": "stderr",
     "output_type": "stream",
     "text": [
      "Installing package into 'C:/Users/Summe/OneDrive/Documents/R/win-library/4.1'\n",
      "(as 'lib' is unspecified)\n",
      "\n"
     ]
    },
    {
     "name": "stdout",
     "output_type": "stream",
     "text": [
      "package 'e1071' successfully unpacked and MD5 sums checked\n"
     ]
    },
    {
     "name": "stderr",
     "output_type": "stream",
     "text": [
      "Warning message:\n",
      "\"cannot remove prior installation of package 'e1071'\"\n",
      "Warning message in file.copy(savedcopy, lib, recursive = TRUE):\n",
      "\"problem copying C:\\Users\\Summe\\OneDrive\\Documents\\R\\win-library\\4.1\\00LOCK\\e1071\\libs\\x64\\e1071.dll to C:\\Users\\Summe\\OneDrive\\Documents\\R\\win-library\\4.1\\e1071\\libs\\x64\\e1071.dll: Permission denied\"\n",
      "Warning message:\n",
      "\"restored 'e1071'\"\n"
     ]
    },
    {
     "name": "stdout",
     "output_type": "stream",
     "text": [
      "\n",
      "The downloaded binary packages are in\n",
      "\tC:\\Users\\Summe\\AppData\\Local\\Temp\\RtmpqOdRep\\downloaded_packages\n"
     ]
    },
    {
     "name": "stderr",
     "output_type": "stream",
     "text": [
      "Installing package into 'C:/Users/Summe/OneDrive/Documents/R/win-library/4.1'\n",
      "(as 'lib' is unspecified)\n",
      "\n"
     ]
    },
    {
     "name": "stdout",
     "output_type": "stream",
     "text": [
      "package 'lmtest' successfully unpacked and MD5 sums checked\n"
     ]
    },
    {
     "name": "stderr",
     "output_type": "stream",
     "text": [
      "Warning message:\n",
      "\"cannot remove prior installation of package 'lmtest'\"\n",
      "Warning message in file.copy(savedcopy, lib, recursive = TRUE):\n",
      "\"problem copying C:\\Users\\Summe\\OneDrive\\Documents\\R\\win-library\\4.1\\00LOCK\\lmtest\\libs\\x64\\lmtest.dll to C:\\Users\\Summe\\OneDrive\\Documents\\R\\win-library\\4.1\\lmtest\\libs\\x64\\lmtest.dll: Permission denied\"\n",
      "Warning message:\n",
      "\"restored 'lmtest'\"\n"
     ]
    },
    {
     "name": "stdout",
     "output_type": "stream",
     "text": [
      "\n",
      "The downloaded binary packages are in\n",
      "\tC:\\Users\\Summe\\AppData\\Local\\Temp\\RtmpqOdRep\\downloaded_packages\n"
     ]
    },
    {
     "name": "stderr",
     "output_type": "stream",
     "text": [
      "Warning message:\n",
      "\"package 'caret' was built under R version 4.1.3\"\n",
      "Loading required package: ggplot2\n",
      "\n",
      "Warning message:\n",
      "\"package 'ggplot2' was built under R version 4.1.3\"\n",
      "Loading required package: lattice\n",
      "\n",
      "Warning message:\n",
      "\"package 'predictmeans' was built under R version 4.1.3\"\n",
      "Loading required package: lme4\n",
      "\n",
      "Warning message:\n",
      "\"package 'lme4' was built under R version 4.1.3\"\n",
      "Loading required package: Matrix\n",
      "\n",
      "Loading required package: nlme\n",
      "\n",
      "\n",
      "Attaching package: 'nlme'\n",
      "\n",
      "\n",
      "The following object is masked from 'package:lme4':\n",
      "\n",
      "    lmList\n",
      "\n",
      "\n",
      "The following object is masked from 'package:dplyr':\n",
      "\n",
      "    collapse\n",
      "\n",
      "\n",
      "Loading required package: lmeInfo\n",
      "\n",
      "Warning message:\n",
      "\"package 'lmeInfo' was built under R version 4.1.3\"\n",
      "Loading required package: parallel\n",
      "\n",
      "Warning message:\n",
      "\"package 'e1071' was built under R version 4.1.3\"\n",
      "Warning message:\n",
      "\"package 'lmtest' was built under R version 4.1.3\"\n",
      "Loading required package: zoo\n",
      "\n",
      "\n",
      "Attaching package: 'zoo'\n",
      "\n",
      "\n",
      "The following objects are masked from 'package:base':\n",
      "\n",
      "    as.Date, as.Date.numeric\n",
      "\n",
      "\n"
     ]
    }
   ],
   "source": [
    "library(\"dplyr\")\n",
    "library(\"rcompanion\")\n",
    "library(\"car\")\n",
    "library(\"IDPmisc\")\n",
    "install.packages(\"caret\")\n",
    "install.packages(\"gvlma\")\n",
    "install.packages(\"predictmeans\")\n",
    "install.packages(\"e1071\")\n",
    "install.packages(\"lmtest\")\n",
    "library(\"caret\")\n",
    "library(\"gvlma\")\n",
    "library(\"predictmeans\")\n",
    "library(\"e1071\")\n",
    "library(\"lmtest\")"
   ]
  },
  {
   "cell_type": "code",
   "execution_count": 3,
   "id": "02073f4d-b8d8-4198-b830-e09416a7aa3b",
   "metadata": {
    "collapsed": true,
    "jupyter": {
     "outputs_hidden": true
    },
    "tags": []
   },
   "outputs": [
    {
     "data": {
      "text/html": [
       "<table class=\"dataframe\">\n",
       "<caption>A data.frame: 6 × 15</caption>\n",
       "<thead>\n",
       "\t<tr><th></th><th scope=col>id</th><th scope=col>title</th><th scope=col>type</th><th scope=col>description</th><th scope=col>release_year</th><th scope=col>age_certification</th><th scope=col>runtime</th><th scope=col>genres</th><th scope=col>production_countries</th><th scope=col>seasons</th><th scope=col>imdb_id</th><th scope=col>imdb_score</th><th scope=col>imdb_votes</th><th scope=col>tmdb_popularity</th><th scope=col>tmdb_score</th></tr>\n",
       "\t<tr><th></th><th scope=col>&lt;chr&gt;</th><th scope=col>&lt;chr&gt;</th><th scope=col>&lt;chr&gt;</th><th scope=col>&lt;chr&gt;</th><th scope=col>&lt;int&gt;</th><th scope=col>&lt;chr&gt;</th><th scope=col>&lt;int&gt;</th><th scope=col>&lt;chr&gt;</th><th scope=col>&lt;chr&gt;</th><th scope=col>&lt;dbl&gt;</th><th scope=col>&lt;chr&gt;</th><th scope=col>&lt;dbl&gt;</th><th scope=col>&lt;dbl&gt;</th><th scope=col>&lt;dbl&gt;</th><th scope=col>&lt;dbl&gt;</th></tr>\n",
       "</thead>\n",
       "<tbody>\n",
       "\t<tr><th scope=row>1</th><td>ts300399</td><td>Five Came Back: The Reference Films</td><td>SHOW </td><td>This collection includes 12 World War II-era propaganda films â€” many of which are graphic and offensive â€” discussed in the docuseries \"Five Came Back.\"                                                                                                                                                                                                                                                                    </td><td>1945</td><td>TV-MA</td><td> 51</td><td>['documentation']                          </td><td>['US']      </td><td> 1</td><td>         </td><td> NA</td><td>    NA</td><td> 0.600</td><td>   NA</td></tr>\n",
       "\t<tr><th scope=row>2</th><td>tm84618 </td><td>Taxi Driver                        </td><td>MOVIE</td><td>A mentally unstable Vietnam War veteran works as a night-time taxi driver in New York City where the perceived decadence and sleaze feed his urge for violent action.                                                                                                                                                                                                                                                          </td><td>1976</td><td>R    </td><td>114</td><td>['drama', 'crime']                         </td><td>['US']      </td><td>NA</td><td>tt0075314</td><td>8.2</td><td>808582</td><td>40.965</td><td>8.179</td></tr>\n",
       "\t<tr><th scope=row>3</th><td>tm154986</td><td>Deliverance                        </td><td>MOVIE</td><td>Intent on seeing the Cahulawassee River before it's turned into one huge lake, outdoor fanatic Lewis Medlock takes his friends on a river-rafting trip they'll never forget into the dangerous American back-country.                                                                                                                                                                                                          </td><td>1972</td><td>R    </td><td>109</td><td>['drama', 'action', 'thriller', 'european']</td><td>['US']      </td><td>NA</td><td>tt0068473</td><td>7.7</td><td>107673</td><td>10.010</td><td>7.300</td></tr>\n",
       "\t<tr><th scope=row>4</th><td>tm127384</td><td>Monty Python and the Holy Grail    </td><td>MOVIE</td><td>King Arthur, accompanied by his squire, recruits his Knights of the Round Table, including Sir Bedevere the Wise, Sir Lancelot the Brave, Sir Robin the Not-Quite-So-Brave-As-Sir-Lancelot and Sir Galahad the Pure. On the way, Arthur battles the Black Knight who, despite having had all his limbs chopped off, insists he can still fight. They reach Camelot, but Arthur decides not  to enter, as \"it is a silly place\".</td><td>1975</td><td>PG   </td><td> 91</td><td>['fantasy', 'action', 'comedy']            </td><td>['GB']      </td><td>NA</td><td>tt0071853</td><td>8.2</td><td>534486</td><td>15.461</td><td>7.811</td></tr>\n",
       "\t<tr><th scope=row>5</th><td>tm120801</td><td>The Dirty Dozen                    </td><td>MOVIE</td><td>12 American military prisoners in World War II are ordered to infiltrate a well-guarded enemy chÃ¢teau and kill the Nazi officers vacationing there. The soldiers, most of whom are facing death sentences for a variety of violent crimes, agree to the mission and the possible commuting of their sentences.                                                                                                                </td><td>1967</td><td>     </td><td>150</td><td>['war', 'action']                          </td><td>['GB', 'US']</td><td>NA</td><td>tt0061578</td><td>7.7</td><td> 72662</td><td>20.398</td><td>7.600</td></tr>\n",
       "\t<tr><th scope=row>6</th><td>ts22164 </td><td>Monty Python's Flying Circus       </td><td>SHOW </td><td>A British sketch comedy series with the shows being composed of surreality, risquÃ© or innuendo-laden humour, sight gags and observational sketches without punchlines.                                                                                                                                                                                                                                                        </td><td>1969</td><td>TV-14</td><td> 30</td><td>['comedy', 'european']                     </td><td>['GB']      </td><td> 4</td><td>tt0063929</td><td>8.8</td><td> 73424</td><td>17.617</td><td>8.306</td></tr>\n",
       "</tbody>\n",
       "</table>\n"
      ],
      "text/latex": [
       "A data.frame: 6 × 15\n",
       "\\begin{tabular}{r|lllllllllllllll}\n",
       "  & id & title & type & description & release\\_year & age\\_certification & runtime & genres & production\\_countries & seasons & imdb\\_id & imdb\\_score & imdb\\_votes & tmdb\\_popularity & tmdb\\_score\\\\\n",
       "  & <chr> & <chr> & <chr> & <chr> & <int> & <chr> & <int> & <chr> & <chr> & <dbl> & <chr> & <dbl> & <dbl> & <dbl> & <dbl>\\\\\n",
       "\\hline\n",
       "\t1 & ts300399 & Five Came Back: The Reference Films & SHOW  & This collection includes 12 World War II-era propaganda films â€” many of which are graphic and offensive â€” discussed in the docuseries \"Five Came Back.\"                                                                                                                                                                                                                                                                     & 1945 & TV-MA &  51 & {[}'documentation'{]}                           & {[}'US'{]}       &  1 &           &  NA &     NA &  0.600 &    NA\\\\\n",
       "\t2 & tm84618  & Taxi Driver                         & MOVIE & A mentally unstable Vietnam War veteran works as a night-time taxi driver in New York City where the perceived decadence and sleaze feed his urge for violent action.                                                                                                                                                                                                                                                           & 1976 & R     & 114 & {[}'drama', 'crime'{]}                          & {[}'US'{]}       & NA & tt0075314 & 8.2 & 808582 & 40.965 & 8.179\\\\\n",
       "\t3 & tm154986 & Deliverance                         & MOVIE & Intent on seeing the Cahulawassee River before it's turned into one huge lake, outdoor fanatic Lewis Medlock takes his friends on a river-rafting trip they'll never forget into the dangerous American back-country.                                                                                                                                                                                                           & 1972 & R     & 109 & {[}'drama', 'action', 'thriller', 'european'{]} & {[}'US'{]}       & NA & tt0068473 & 7.7 & 107673 & 10.010 & 7.300\\\\\n",
       "\t4 & tm127384 & Monty Python and the Holy Grail     & MOVIE & King Arthur, accompanied by his squire, recruits his Knights of the Round Table, including Sir Bedevere the Wise, Sir Lancelot the Brave, Sir Robin the Not-Quite-So-Brave-As-Sir-Lancelot and Sir Galahad the Pure. On the way, Arthur battles the Black Knight who, despite having had all his limbs chopped off, insists he can still fight. They reach Camelot, but Arthur decides not  to enter, as \"it is a silly place\". & 1975 & PG    &  91 & {[}'fantasy', 'action', 'comedy'{]}             & {[}'GB'{]}       & NA & tt0071853 & 8.2 & 534486 & 15.461 & 7.811\\\\\n",
       "\t5 & tm120801 & The Dirty Dozen                     & MOVIE & 12 American military prisoners in World War II are ordered to infiltrate a well-guarded enemy chÃ¢teau and kill the Nazi officers vacationing there. The soldiers, most of whom are facing death sentences for a variety of violent crimes, agree to the mission and the possible commuting of their sentences.                                                                                                                 & 1967 &       & 150 & {[}'war', 'action'{]}                           & {[}'GB', 'US'{]} & NA & tt0061578 & 7.7 &  72662 & 20.398 & 7.600\\\\\n",
       "\t6 & ts22164  & Monty Python's Flying Circus        & SHOW  & A British sketch comedy series with the shows being composed of surreality, risquÃ© or innuendo-laden humour, sight gags and observational sketches without punchlines.                                                                                                                                                                                                                                                         & 1969 & TV-14 &  30 & {[}'comedy', 'european'{]}                      & {[}'GB'{]}       &  4 & tt0063929 & 8.8 &  73424 & 17.617 & 8.306\\\\\n",
       "\\end{tabular}\n"
      ],
      "text/markdown": [
       "\n",
       "A data.frame: 6 × 15\n",
       "\n",
       "| <!--/--> | id &lt;chr&gt; | title &lt;chr&gt; | type &lt;chr&gt; | description &lt;chr&gt; | release_year &lt;int&gt; | age_certification &lt;chr&gt; | runtime &lt;int&gt; | genres &lt;chr&gt; | production_countries &lt;chr&gt; | seasons &lt;dbl&gt; | imdb_id &lt;chr&gt; | imdb_score &lt;dbl&gt; | imdb_votes &lt;dbl&gt; | tmdb_popularity &lt;dbl&gt; | tmdb_score &lt;dbl&gt; |\n",
       "|---|---|---|---|---|---|---|---|---|---|---|---|---|---|---|---|\n",
       "| 1 | ts300399 | Five Came Back: The Reference Films | SHOW  | This collection includes 12 World War II-era propaganda films â€” many of which are graphic and offensive â€” discussed in the docuseries \"Five Came Back.\"                                                                                                                                                                                                                                                                     | 1945 | TV-MA |  51 | ['documentation']                           | ['US']       |  1 | <!----> |  NA |     NA |  0.600 |    NA |\n",
       "| 2 | tm84618  | Taxi Driver                         | MOVIE | A mentally unstable Vietnam War veteran works as a night-time taxi driver in New York City where the perceived decadence and sleaze feed his urge for violent action.                                                                                                                                                                                                                                                           | 1976 | R     | 114 | ['drama', 'crime']                          | ['US']       | NA | tt0075314 | 8.2 | 808582 | 40.965 | 8.179 |\n",
       "| 3 | tm154986 | Deliverance                         | MOVIE | Intent on seeing the Cahulawassee River before it's turned into one huge lake, outdoor fanatic Lewis Medlock takes his friends on a river-rafting trip they'll never forget into the dangerous American back-country.                                                                                                                                                                                                           | 1972 | R     | 109 | ['drama', 'action', 'thriller', 'european'] | ['US']       | NA | tt0068473 | 7.7 | 107673 | 10.010 | 7.300 |\n",
       "| 4 | tm127384 | Monty Python and the Holy Grail     | MOVIE | King Arthur, accompanied by his squire, recruits his Knights of the Round Table, including Sir Bedevere the Wise, Sir Lancelot the Brave, Sir Robin the Not-Quite-So-Brave-As-Sir-Lancelot and Sir Galahad the Pure. On the way, Arthur battles the Black Knight who, despite having had all his limbs chopped off, insists he can still fight. They reach Camelot, but Arthur decides not  to enter, as \"it is a silly place\". | 1975 | PG    |  91 | ['fantasy', 'action', 'comedy']             | ['GB']       | NA | tt0071853 | 8.2 | 534486 | 15.461 | 7.811 |\n",
       "| 5 | tm120801 | The Dirty Dozen                     | MOVIE | 12 American military prisoners in World War II are ordered to infiltrate a well-guarded enemy chÃ¢teau and kill the Nazi officers vacationing there. The soldiers, most of whom are facing death sentences for a variety of violent crimes, agree to the mission and the possible commuting of their sentences.                                                                                                                 | 1967 | <!----> | 150 | ['war', 'action']                           | ['GB', 'US'] | NA | tt0061578 | 7.7 |  72662 | 20.398 | 7.600 |\n",
       "| 6 | ts22164  | Monty Python's Flying Circus        | SHOW  | A British sketch comedy series with the shows being composed of surreality, risquÃ© or innuendo-laden humour, sight gags and observational sketches without punchlines.                                                                                                                                                                                                                                                         | 1969 | TV-14 |  30 | ['comedy', 'european']                      | ['GB']       |  4 | tt0063929 | 8.8 |  73424 | 17.617 | 8.306 |\n",
       "\n"
      ],
      "text/plain": [
       "  id       title                               type \n",
       "1 ts300399 Five Came Back: The Reference Films SHOW \n",
       "2 tm84618  Taxi Driver                         MOVIE\n",
       "3 tm154986 Deliverance                         MOVIE\n",
       "4 tm127384 Monty Python and the Holy Grail     MOVIE\n",
       "5 tm120801 The Dirty Dozen                     MOVIE\n",
       "6 ts22164  Monty Python's Flying Circus        SHOW \n",
       "  description                                                                                                                                                                                                                                                                                                                                                                                                                    \n",
       "1 This collection includes 12 World War II-era propaganda films â\\200” many of which are graphic and offensive â\\200” discussed in the docuseries \"Five Came Back.\"                                                                                                                                                                                                                                                                    \n",
       "2 A mentally unstable Vietnam War veteran works as a night-time taxi driver in New York City where the perceived decadence and sleaze feed his urge for violent action.                                                                                                                                                                                                                                                          \n",
       "3 Intent on seeing the Cahulawassee River before it's turned into one huge lake, outdoor fanatic Lewis Medlock takes his friends on a river-rafting trip they'll never forget into the dangerous American back-country.                                                                                                                                                                                                          \n",
       "4 King Arthur, accompanied by his squire, recruits his Knights of the Round Table, including Sir Bedevere the Wise, Sir Lancelot the Brave, Sir Robin the Not-Quite-So-Brave-As-Sir-Lancelot and Sir Galahad the Pure. On the way, Arthur battles the Black Knight who, despite having had all his limbs chopped off, insists he can still fight. They reach Camelot, but Arthur decides not  to enter, as \"it is a silly place\".\n",
       "5 12 American military prisoners in World War II are ordered to infiltrate a well-guarded enemy chÃ¢teau and kill the Nazi officers vacationing there. The soldiers, most of whom are facing death sentences for a variety of violent crimes, agree to the mission and the possible commuting of their sentences.                                                                                                                \n",
       "6 A British sketch comedy series with the shows being composed of surreality, risquÃ© or innuendo-laden humour, sight gags and observational sketches without punchlines.                                                                                                                                                                                                                                                        \n",
       "  release_year age_certification runtime\n",
       "1 1945         TV-MA              51    \n",
       "2 1976         R                 114    \n",
       "3 1972         R                 109    \n",
       "4 1975         PG                 91    \n",
       "5 1967                           150    \n",
       "6 1969         TV-14              30    \n",
       "  genres                                      production_countries seasons\n",
       "1 ['documentation']                           ['US']                1     \n",
       "2 ['drama', 'crime']                          ['US']               NA     \n",
       "3 ['drama', 'action', 'thriller', 'european'] ['US']               NA     \n",
       "4 ['fantasy', 'action', 'comedy']             ['GB']               NA     \n",
       "5 ['war', 'action']                           ['GB', 'US']         NA     \n",
       "6 ['comedy', 'european']                      ['GB']                4     \n",
       "  imdb_id   imdb_score imdb_votes tmdb_popularity tmdb_score\n",
       "1            NA            NA      0.600             NA     \n",
       "2 tt0075314 8.2        808582     40.965          8.179     \n",
       "3 tt0068473 7.7        107673     10.010          7.300     \n",
       "4 tt0071853 8.2        534486     15.461          7.811     \n",
       "5 tt0061578 7.7         72662     20.398          7.600     \n",
       "6 tt0063929 8.8         73424     17.617          8.306     "
      ]
     },
     "metadata": {},
     "output_type": "display_data"
    }
   ],
   "source": [
    "head(Netflix)"
   ]
  },
  {
   "cell_type": "markdown",
   "id": "a450a6b1-261c-41f2-8694-7a862bc79b0f",
   "metadata": {},
   "source": [
    "# How have movie/show times changed through the decades? "
   ]
  },
  {
   "cell_type": "code",
   "execution_count": 4,
   "id": "468ef49b-5db4-48c8-a7e4-3a7ebc79c74f",
   "metadata": {},
   "outputs": [],
   "source": [
    "# Create seperate df's for Shows and Movies "
   ]
  },
  {
   "cell_type": "code",
   "execution_count": 5,
   "id": "221e693f-6bbd-4672-9ead-13310b16b2f7",
   "metadata": {},
   "outputs": [],
   "source": [
    "NetflixSHOW <- (Netflix %>% filter(type %in% c('SHOW')))"
   ]
  },
  {
   "cell_type": "code",
   "execution_count": 6,
   "id": "f77cef78-895e-4946-a61b-a5880c1a33cd",
   "metadata": {},
   "outputs": [],
   "source": [
    "write.csv(NetflixSHOW,\"../Data/NetflixSHOW.csv\", row.names = FALSE)"
   ]
  },
  {
   "cell_type": "code",
   "execution_count": 7,
   "id": "16166d16-6146-4319-aa36-87c7ad51a033",
   "metadata": {},
   "outputs": [],
   "source": [
    "NetflixMOVIE <- (Netflix %>% filter(type %in% c('MOVIE')))"
   ]
  },
  {
   "cell_type": "code",
   "execution_count": 8,
   "id": "3234a8ad-e694-4ecb-805c-36098ca3e931",
   "metadata": {
    "collapsed": true,
    "jupyter": {
     "outputs_hidden": true
    },
    "tags": []
   },
   "outputs": [
    {
     "data": {
      "text/html": [
       "<table class=\"dataframe\">\n",
       "<caption>A data.frame: 6 × 15</caption>\n",
       "<thead>\n",
       "\t<tr><th></th><th scope=col>id</th><th scope=col>title</th><th scope=col>type</th><th scope=col>description</th><th scope=col>release_year</th><th scope=col>age_certification</th><th scope=col>runtime</th><th scope=col>genres</th><th scope=col>production_countries</th><th scope=col>seasons</th><th scope=col>imdb_id</th><th scope=col>imdb_score</th><th scope=col>imdb_votes</th><th scope=col>tmdb_popularity</th><th scope=col>tmdb_score</th></tr>\n",
       "\t<tr><th></th><th scope=col>&lt;chr&gt;</th><th scope=col>&lt;chr&gt;</th><th scope=col>&lt;chr&gt;</th><th scope=col>&lt;chr&gt;</th><th scope=col>&lt;int&gt;</th><th scope=col>&lt;chr&gt;</th><th scope=col>&lt;int&gt;</th><th scope=col>&lt;chr&gt;</th><th scope=col>&lt;chr&gt;</th><th scope=col>&lt;dbl&gt;</th><th scope=col>&lt;chr&gt;</th><th scope=col>&lt;dbl&gt;</th><th scope=col>&lt;dbl&gt;</th><th scope=col>&lt;dbl&gt;</th><th scope=col>&lt;dbl&gt;</th></tr>\n",
       "</thead>\n",
       "<tbody>\n",
       "\t<tr><th scope=row>1</th><td>tm84618 </td><td>Taxi Driver                    </td><td>MOVIE</td><td>A mentally unstable Vietnam War veteran works as a night-time taxi driver in New York City where the perceived decadence and sleaze feed his urge for violent action.                                                                                                                                                                                                                                                                                             </td><td>1976</td><td>R </td><td>114</td><td>['drama', 'crime']                         </td><td>['US']      </td><td>NA</td><td>tt0075314</td><td>8.2</td><td>808582</td><td>40.965</td><td>8.179</td></tr>\n",
       "\t<tr><th scope=row>2</th><td>tm154986</td><td>Deliverance                    </td><td>MOVIE</td><td>Intent on seeing the Cahulawassee River before it's turned into one huge lake, outdoor fanatic Lewis Medlock takes his friends on a river-rafting trip they'll never forget into the dangerous American back-country.                                                                                                                                                                                                                                             </td><td>1972</td><td>R </td><td>109</td><td>['drama', 'action', 'thriller', 'european']</td><td>['US']      </td><td>NA</td><td>tt0068473</td><td>7.7</td><td>107673</td><td>10.010</td><td>7.300</td></tr>\n",
       "\t<tr><th scope=row>3</th><td>tm127384</td><td>Monty Python and the Holy Grail</td><td>MOVIE</td><td>King Arthur, accompanied by his squire, recruits his Knights of the Round Table, including Sir Bedevere the Wise, Sir Lancelot the Brave, Sir Robin the Not-Quite-So-Brave-As-Sir-Lancelot and Sir Galahad the Pure. On the way, Arthur battles the Black Knight who, despite having had all his limbs chopped off, insists he can still fight. They reach Camelot, but Arthur decides not  to enter, as \"it is a silly place\".                                   </td><td>1975</td><td>PG</td><td> 91</td><td>['fantasy', 'action', 'comedy']            </td><td>['GB']      </td><td>NA</td><td>tt0071853</td><td>8.2</td><td>534486</td><td>15.461</td><td>7.811</td></tr>\n",
       "\t<tr><th scope=row>4</th><td>tm120801</td><td>The Dirty Dozen                </td><td>MOVIE</td><td>12 American military prisoners in World War II are ordered to infiltrate a well-guarded enemy chÃ¢teau and kill the Nazi officers vacationing there. The soldiers, most of whom are facing death sentences for a variety of violent crimes, agree to the mission and the possible commuting of their sentences.                                                                                                                                                   </td><td>1967</td><td>  </td><td>150</td><td>['war', 'action']                          </td><td>['GB', 'US']</td><td>NA</td><td>tt0061578</td><td>7.7</td><td> 72662</td><td>20.398</td><td>7.600</td></tr>\n",
       "\t<tr><th scope=row>5</th><td>tm70993 </td><td>Life of Brian                  </td><td>MOVIE</td><td>Brian Cohen is an average young Jewish man, but through a series of ridiculous events, he gains a reputation as the Messiah. When he's not dodging his followers or being scolded by his shrill mother, the hapless Brian has to contend with the pompous Pontius Pilate and acronym-obsessed members of a separatist movement. Rife with Monty Python's signature absurdity, the tale finds Brian's life paralleling Biblical lore, albeit with many more laughs.</td><td>1979</td><td>R </td><td> 94</td><td>['comedy']                                 </td><td>['GB']      </td><td>NA</td><td>tt0079470</td><td>8.0</td><td>395024</td><td>17.770</td><td>7.800</td></tr>\n",
       "\t<tr><th scope=row>6</th><td>tm14873 </td><td>Dirty Harry                    </td><td>MOVIE</td><td>When a madman dubbed 'Scorpio' terrorizes San Francisco, hard-nosed cop, Harry Callahan â€“ famous for his take-no-prisoners approach to law enforcement â€“ is tasked with hunting down the psychopath. Harry eventually collars Scorpio in the process of rescuing a kidnap victim, only to see him walk on technicalities. Now, the maverick detective is determined to nail the maniac himself.                                                               </td><td>1971</td><td>R </td><td>102</td><td>['thriller', 'action', 'crime']            </td><td>['US']      </td><td>NA</td><td>tt0066999</td><td>7.7</td><td>155051</td><td>12.817</td><td>7.500</td></tr>\n",
       "</tbody>\n",
       "</table>\n"
      ],
      "text/latex": [
       "A data.frame: 6 × 15\n",
       "\\begin{tabular}{r|lllllllllllllll}\n",
       "  & id & title & type & description & release\\_year & age\\_certification & runtime & genres & production\\_countries & seasons & imdb\\_id & imdb\\_score & imdb\\_votes & tmdb\\_popularity & tmdb\\_score\\\\\n",
       "  & <chr> & <chr> & <chr> & <chr> & <int> & <chr> & <int> & <chr> & <chr> & <dbl> & <chr> & <dbl> & <dbl> & <dbl> & <dbl>\\\\\n",
       "\\hline\n",
       "\t1 & tm84618  & Taxi Driver                     & MOVIE & A mentally unstable Vietnam War veteran works as a night-time taxi driver in New York City where the perceived decadence and sleaze feed his urge for violent action.                                                                                                                                                                                                                                                                                              & 1976 & R  & 114 & {[}'drama', 'crime'{]}                          & {[}'US'{]}       & NA & tt0075314 & 8.2 & 808582 & 40.965 & 8.179\\\\\n",
       "\t2 & tm154986 & Deliverance                     & MOVIE & Intent on seeing the Cahulawassee River before it's turned into one huge lake, outdoor fanatic Lewis Medlock takes his friends on a river-rafting trip they'll never forget into the dangerous American back-country.                                                                                                                                                                                                                                              & 1972 & R  & 109 & {[}'drama', 'action', 'thriller', 'european'{]} & {[}'US'{]}       & NA & tt0068473 & 7.7 & 107673 & 10.010 & 7.300\\\\\n",
       "\t3 & tm127384 & Monty Python and the Holy Grail & MOVIE & King Arthur, accompanied by his squire, recruits his Knights of the Round Table, including Sir Bedevere the Wise, Sir Lancelot the Brave, Sir Robin the Not-Quite-So-Brave-As-Sir-Lancelot and Sir Galahad the Pure. On the way, Arthur battles the Black Knight who, despite having had all his limbs chopped off, insists he can still fight. They reach Camelot, but Arthur decides not  to enter, as \"it is a silly place\".                                    & 1975 & PG &  91 & {[}'fantasy', 'action', 'comedy'{]}             & {[}'GB'{]}       & NA & tt0071853 & 8.2 & 534486 & 15.461 & 7.811\\\\\n",
       "\t4 & tm120801 & The Dirty Dozen                 & MOVIE & 12 American military prisoners in World War II are ordered to infiltrate a well-guarded enemy chÃ¢teau and kill the Nazi officers vacationing there. The soldiers, most of whom are facing death sentences for a variety of violent crimes, agree to the mission and the possible commuting of their sentences.                                                                                                                                                    & 1967 &    & 150 & {[}'war', 'action'{]}                           & {[}'GB', 'US'{]} & NA & tt0061578 & 7.7 &  72662 & 20.398 & 7.600\\\\\n",
       "\t5 & tm70993  & Life of Brian                   & MOVIE & Brian Cohen is an average young Jewish man, but through a series of ridiculous events, he gains a reputation as the Messiah. When he's not dodging his followers or being scolded by his shrill mother, the hapless Brian has to contend with the pompous Pontius Pilate and acronym-obsessed members of a separatist movement. Rife with Monty Python's signature absurdity, the tale finds Brian's life paralleling Biblical lore, albeit with many more laughs. & 1979 & R  &  94 & {[}'comedy'{]}                                  & {[}'GB'{]}       & NA & tt0079470 & 8.0 & 395024 & 17.770 & 7.800\\\\\n",
       "\t6 & tm14873  & Dirty Harry                     & MOVIE & When a madman dubbed 'Scorpio' terrorizes San Francisco, hard-nosed cop, Harry Callahan â€“ famous for his take-no-prisoners approach to law enforcement â€“ is tasked with hunting down the psychopath. Harry eventually collars Scorpio in the process of rescuing a kidnap victim, only to see him walk on technicalities. Now, the maverick detective is determined to nail the maniac himself.                                                                & 1971 & R  & 102 & {[}'thriller', 'action', 'crime'{]}             & {[}'US'{]}       & NA & tt0066999 & 7.7 & 155051 & 12.817 & 7.500\\\\\n",
       "\\end{tabular}\n"
      ],
      "text/markdown": [
       "\n",
       "A data.frame: 6 × 15\n",
       "\n",
       "| <!--/--> | id &lt;chr&gt; | title &lt;chr&gt; | type &lt;chr&gt; | description &lt;chr&gt; | release_year &lt;int&gt; | age_certification &lt;chr&gt; | runtime &lt;int&gt; | genres &lt;chr&gt; | production_countries &lt;chr&gt; | seasons &lt;dbl&gt; | imdb_id &lt;chr&gt; | imdb_score &lt;dbl&gt; | imdb_votes &lt;dbl&gt; | tmdb_popularity &lt;dbl&gt; | tmdb_score &lt;dbl&gt; |\n",
       "|---|---|---|---|---|---|---|---|---|---|---|---|---|---|---|---|\n",
       "| 1 | tm84618  | Taxi Driver                     | MOVIE | A mentally unstable Vietnam War veteran works as a night-time taxi driver in New York City where the perceived decadence and sleaze feed his urge for violent action.                                                                                                                                                                                                                                                                                              | 1976 | R  | 114 | ['drama', 'crime']                          | ['US']       | NA | tt0075314 | 8.2 | 808582 | 40.965 | 8.179 |\n",
       "| 2 | tm154986 | Deliverance                     | MOVIE | Intent on seeing the Cahulawassee River before it's turned into one huge lake, outdoor fanatic Lewis Medlock takes his friends on a river-rafting trip they'll never forget into the dangerous American back-country.                                                                                                                                                                                                                                              | 1972 | R  | 109 | ['drama', 'action', 'thriller', 'european'] | ['US']       | NA | tt0068473 | 7.7 | 107673 | 10.010 | 7.300 |\n",
       "| 3 | tm127384 | Monty Python and the Holy Grail | MOVIE | King Arthur, accompanied by his squire, recruits his Knights of the Round Table, including Sir Bedevere the Wise, Sir Lancelot the Brave, Sir Robin the Not-Quite-So-Brave-As-Sir-Lancelot and Sir Galahad the Pure. On the way, Arthur battles the Black Knight who, despite having had all his limbs chopped off, insists he can still fight. They reach Camelot, but Arthur decides not  to enter, as \"it is a silly place\".                                    | 1975 | PG |  91 | ['fantasy', 'action', 'comedy']             | ['GB']       | NA | tt0071853 | 8.2 | 534486 | 15.461 | 7.811 |\n",
       "| 4 | tm120801 | The Dirty Dozen                 | MOVIE | 12 American military prisoners in World War II are ordered to infiltrate a well-guarded enemy chÃ¢teau and kill the Nazi officers vacationing there. The soldiers, most of whom are facing death sentences for a variety of violent crimes, agree to the mission and the possible commuting of their sentences.                                                                                                                                                    | 1967 | <!----> | 150 | ['war', 'action']                           | ['GB', 'US'] | NA | tt0061578 | 7.7 |  72662 | 20.398 | 7.600 |\n",
       "| 5 | tm70993  | Life of Brian                   | MOVIE | Brian Cohen is an average young Jewish man, but through a series of ridiculous events, he gains a reputation as the Messiah. When he's not dodging his followers or being scolded by his shrill mother, the hapless Brian has to contend with the pompous Pontius Pilate and acronym-obsessed members of a separatist movement. Rife with Monty Python's signature absurdity, the tale finds Brian's life paralleling Biblical lore, albeit with many more laughs. | 1979 | R  |  94 | ['comedy']                                  | ['GB']       | NA | tt0079470 | 8.0 | 395024 | 17.770 | 7.800 |\n",
       "| 6 | tm14873  | Dirty Harry                     | MOVIE | When a madman dubbed 'Scorpio' terrorizes San Francisco, hard-nosed cop, Harry Callahan â€“ famous for his take-no-prisoners approach to law enforcement â€“ is tasked with hunting down the psychopath. Harry eventually collars Scorpio in the process of rescuing a kidnap victim, only to see him walk on technicalities. Now, the maverick detective is determined to nail the maniac himself.                                                                | 1971 | R  | 102 | ['thriller', 'action', 'crime']             | ['US']       | NA | tt0066999 | 7.7 | 155051 | 12.817 | 7.500 |\n",
       "\n"
      ],
      "text/plain": [
       "  id       title                           type \n",
       "1 tm84618  Taxi Driver                     MOVIE\n",
       "2 tm154986 Deliverance                     MOVIE\n",
       "3 tm127384 Monty Python and the Holy Grail MOVIE\n",
       "4 tm120801 The Dirty Dozen                 MOVIE\n",
       "5 tm70993  Life of Brian                   MOVIE\n",
       "6 tm14873  Dirty Harry                     MOVIE\n",
       "  description                                                                                                                                                                                                                                                                                                                                                                                                                                                       \n",
       "1 A mentally unstable Vietnam War veteran works as a night-time taxi driver in New York City where the perceived decadence and sleaze feed his urge for violent action.                                                                                                                                                                                                                                                                                             \n",
       "2 Intent on seeing the Cahulawassee River before it's turned into one huge lake, outdoor fanatic Lewis Medlock takes his friends on a river-rafting trip they'll never forget into the dangerous American back-country.                                                                                                                                                                                                                                             \n",
       "3 King Arthur, accompanied by his squire, recruits his Knights of the Round Table, including Sir Bedevere the Wise, Sir Lancelot the Brave, Sir Robin the Not-Quite-So-Brave-As-Sir-Lancelot and Sir Galahad the Pure. On the way, Arthur battles the Black Knight who, despite having had all his limbs chopped off, insists he can still fight. They reach Camelot, but Arthur decides not  to enter, as \"it is a silly place\".                                   \n",
       "4 12 American military prisoners in World War II are ordered to infiltrate a well-guarded enemy chÃ¢teau and kill the Nazi officers vacationing there. The soldiers, most of whom are facing death sentences for a variety of violent crimes, agree to the mission and the possible commuting of their sentences.                                                                                                                                                   \n",
       "5 Brian Cohen is an average young Jewish man, but through a series of ridiculous events, he gains a reputation as the Messiah. When he's not dodging his followers or being scolded by his shrill mother, the hapless Brian has to contend with the pompous Pontius Pilate and acronym-obsessed members of a separatist movement. Rife with Monty Python's signature absurdity, the tale finds Brian's life paralleling Biblical lore, albeit with many more laughs.\n",
       "6 When a madman dubbed 'Scorpio' terrorizes San Francisco, hard-nosed cop, Harry Callahan â\\200“ famous for his take-no-prisoners approach to law enforcement â\\200“ is tasked with hunting down the psychopath. Harry eventually collars Scorpio in the process of rescuing a kidnap victim, only to see him walk on technicalities. Now, the maverick detective is determined to nail the maniac himself.                                                               \n",
       "  release_year age_certification runtime\n",
       "1 1976         R                 114    \n",
       "2 1972         R                 109    \n",
       "3 1975         PG                 91    \n",
       "4 1967                           150    \n",
       "5 1979         R                  94    \n",
       "6 1971         R                 102    \n",
       "  genres                                      production_countries seasons\n",
       "1 ['drama', 'crime']                          ['US']               NA     \n",
       "2 ['drama', 'action', 'thriller', 'european'] ['US']               NA     \n",
       "3 ['fantasy', 'action', 'comedy']             ['GB']               NA     \n",
       "4 ['war', 'action']                           ['GB', 'US']         NA     \n",
       "5 ['comedy']                                  ['GB']               NA     \n",
       "6 ['thriller', 'action', 'crime']             ['US']               NA     \n",
       "  imdb_id   imdb_score imdb_votes tmdb_popularity tmdb_score\n",
       "1 tt0075314 8.2        808582     40.965          8.179     \n",
       "2 tt0068473 7.7        107673     10.010          7.300     \n",
       "3 tt0071853 8.2        534486     15.461          7.811     \n",
       "4 tt0061578 7.7         72662     20.398          7.600     \n",
       "5 tt0079470 8.0        395024     17.770          7.800     \n",
       "6 tt0066999 7.7        155051     12.817          7.500     "
      ]
     },
     "metadata": {},
     "output_type": "display_data"
    }
   ],
   "source": [
    "head(NetflixMOVIE)"
   ]
  },
  {
   "cell_type": "code",
   "execution_count": 9,
   "id": "bc074fd1-82c4-4957-a27b-7c9396f42411",
   "metadata": {},
   "outputs": [],
   "source": [
    "write.csv(NetflixMOVIE,\"../Data/NetflixMOVIE.csv\", row.names = FALSE)"
   ]
  },
  {
   "cell_type": "code",
   "execution_count": 10,
   "id": "3e41412b-885b-4835-88b6-890aa02c4d88",
   "metadata": {
    "collapsed": true,
    "jupyter": {
     "outputs_hidden": true
    },
    "tags": []
   },
   "outputs": [
    {
     "data": {
      "text/html": [
       "<table class=\"dataframe\">\n",
       "<caption>A data.frame: 6 × 15</caption>\n",
       "<thead>\n",
       "\t<tr><th></th><th scope=col>id</th><th scope=col>title</th><th scope=col>type</th><th scope=col>description</th><th scope=col>release_year</th><th scope=col>age_certification</th><th scope=col>runtime</th><th scope=col>genres</th><th scope=col>production_countries</th><th scope=col>seasons</th><th scope=col>imdb_id</th><th scope=col>imdb_score</th><th scope=col>imdb_votes</th><th scope=col>tmdb_popularity</th><th scope=col>tmdb_score</th></tr>\n",
       "\t<tr><th></th><th scope=col>&lt;chr&gt;</th><th scope=col>&lt;chr&gt;</th><th scope=col>&lt;chr&gt;</th><th scope=col>&lt;chr&gt;</th><th scope=col>&lt;int&gt;</th><th scope=col>&lt;chr&gt;</th><th scope=col>&lt;int&gt;</th><th scope=col>&lt;chr&gt;</th><th scope=col>&lt;chr&gt;</th><th scope=col>&lt;dbl&gt;</th><th scope=col>&lt;chr&gt;</th><th scope=col>&lt;dbl&gt;</th><th scope=col>&lt;dbl&gt;</th><th scope=col>&lt;dbl&gt;</th><th scope=col>&lt;dbl&gt;</th></tr>\n",
       "</thead>\n",
       "<tbody>\n",
       "\t<tr><th scope=row>1</th><td>ts300399</td><td>Five Came Back: The Reference Films</td><td>SHOW</td><td>This collection includes 12 World War II-era propaganda films â€” many of which are graphic and offensive â€” discussed in the docuseries \"Five Came Back.\"                                                                                                                                                                                                                                                                                                                                                                                                                                                                                </td><td>1945</td><td>TV-MA</td><td>51</td><td>['documentation']                                                       </td><td>['US']</td><td> 1</td><td>         </td><td> NA</td><td>    NA</td><td>  0.600</td><td>   NA</td></tr>\n",
       "\t<tr><th scope=row>2</th><td>ts22164 </td><td>Monty Python's Flying Circus       </td><td>SHOW</td><td>A British sketch comedy series with the shows being composed of surreality, risquÃ© or innuendo-laden humour, sight gags and observational sketches without punchlines.                                                                                                                                                                                                                                                                                                                                                                                                                                                                    </td><td>1969</td><td>TV-14</td><td>30</td><td>['comedy', 'european']                                                  </td><td>['GB']</td><td> 4</td><td>tt0063929</td><td>8.8</td><td> 73424</td><td> 17.617</td><td>8.306</td></tr>\n",
       "\t<tr><th scope=row>3</th><td>ts45948 </td><td>Monty Python's Fliegender Zirkus   </td><td>SHOW</td><td>Monty Python's Fliegender Zirkus consisted of two 45-minute Monty Python German television comedy specials produced by WDR for West German television. The two episodes were first broadcast in January and December 1972 and were shot entirely on film and mostly on location in Bavaria, with the first episode recorded in German and the second recorded in English and then dubbed into German.                                                                                                                                                                                                                                      </td><td>1972</td><td>TV-MA</td><td>43</td><td>['comedy']                                                              </td><td>[]    </td><td> 1</td><td>tt0202477</td><td>8.1</td><td>  2151</td><td>  1.487</td><td>7.000</td></tr>\n",
       "\t<tr><th scope=row>4</th><td>ts20681 </td><td>Seinfeld                           </td><td>SHOW</td><td>A stand-up comedian and his three offbeat friends weather the pitfalls and payoffs of life in New York City in the '90s. It's a show about nothing.                                                                                                                                                                                                                                                                                                                                                                                                                                                                                        </td><td>1989</td><td>TV-PG</td><td>24</td><td>['comedy']                                                              </td><td>['US']</td><td> 9</td><td>tt0098904</td><td>8.9</td><td>308824</td><td>130.213</td><td>8.301</td></tr>\n",
       "\t<tr><th scope=row>5</th><td>ts22082 </td><td>Knight Rider                       </td><td>SHOW</td><td>Michael Long, an undercover police officer, is shot while investigating a case and left for dead by his assailants. He is rescued by Wilton Knight, a wealthy, dying millionaire and inventor who arranges life-saving surgery, including a new face and a new identity--that of Michael Knight. Michael is then given a special computerized and indestructible car called the Knight Industries Two Thousand (nicknamed KITT), and a mission: apprehend criminals who are beyond the reach of the law. The series depicts Michael's exploits as he and KITT battle the forces of evil on behalf of the Foundation for Law and Government.</td><td>1982</td><td>TV-PG</td><td>51</td><td>['scifi', 'action', 'crime', 'drama']                                   </td><td>['US']</td><td> 4</td><td>tt0083437</td><td>6.9</td><td> 34115</td><td> 50.267</td><td>7.500</td></tr>\n",
       "\t<tr><th scope=row>6</th><td>ts21715 </td><td><span style=white-space:pre-wrap>Thomas &amp; Friends                   </span></td><td>SHOW</td><td><span style=white-space:pre-wrap>Thomas &amp; Friends is a British children's television series, which had its first broadcast on the ITV network on 4 September 1984. It is based on The Railway Series of books by the Reverend Wilbert Awdry and his son, Christopher Awdry. These books deal with the adventures of a group of anthropomorphised locomotives and road vehicles who live on the fictional Island of Sodor. The books were based on stories Wilbert told to entertain his son, Christopher during his recovery from measles. From Series one to four, many of the stories are based on events from Awdry's personal experience.                               </span></td><td>1984</td><td>TV-Y </td><td>10</td><td>['animation', 'family', 'comedy', 'fantasy', 'drama', 'action', 'music']</td><td>['GB']</td><td>24</td><td>tt0086815</td><td>6.5</td><td><span style=white-space:pre-wrap>  5104</span></td><td> 42.196</td><td>6.500</td></tr>\n",
       "</tbody>\n",
       "</table>\n"
      ],
      "text/latex": [
       "A data.frame: 6 × 15\n",
       "\\begin{tabular}{r|lllllllllllllll}\n",
       "  & id & title & type & description & release\\_year & age\\_certification & runtime & genres & production\\_countries & seasons & imdb\\_id & imdb\\_score & imdb\\_votes & tmdb\\_popularity & tmdb\\_score\\\\\n",
       "  & <chr> & <chr> & <chr> & <chr> & <int> & <chr> & <int> & <chr> & <chr> & <dbl> & <chr> & <dbl> & <dbl> & <dbl> & <dbl>\\\\\n",
       "\\hline\n",
       "\t1 & ts300399 & Five Came Back: The Reference Films & SHOW & This collection includes 12 World War II-era propaganda films â€” many of which are graphic and offensive â€” discussed in the docuseries \"Five Came Back.\"                                                                                                                                                                                                                                                                                                                                                                                                                                                                                 & 1945 & TV-MA & 51 & {[}'documentation'{]}                                                        & {[}'US'{]} &  1 &           &  NA &     NA &   0.600 &    NA\\\\\n",
       "\t2 & ts22164  & Monty Python's Flying Circus        & SHOW & A British sketch comedy series with the shows being composed of surreality, risquÃ© or innuendo-laden humour, sight gags and observational sketches without punchlines.                                                                                                                                                                                                                                                                                                                                                                                                                                                                     & 1969 & TV-14 & 30 & {[}'comedy', 'european'{]}                                                   & {[}'GB'{]} &  4 & tt0063929 & 8.8 &  73424 &  17.617 & 8.306\\\\\n",
       "\t3 & ts45948  & Monty Python's Fliegender Zirkus    & SHOW & Monty Python's Fliegender Zirkus consisted of two 45-minute Monty Python German television comedy specials produced by WDR for West German television. The two episodes were first broadcast in January and December 1972 and were shot entirely on film and mostly on location in Bavaria, with the first episode recorded in German and the second recorded in English and then dubbed into German.                                                                                                                                                                                                                                       & 1972 & TV-MA & 43 & {[}'comedy'{]}                                                               & {[}{]}     &  1 & tt0202477 & 8.1 &   2151 &   1.487 & 7.000\\\\\n",
       "\t4 & ts20681  & Seinfeld                            & SHOW & A stand-up comedian and his three offbeat friends weather the pitfalls and payoffs of life in New York City in the '90s. It's a show about nothing.                                                                                                                                                                                                                                                                                                                                                                                                                                                                                         & 1989 & TV-PG & 24 & {[}'comedy'{]}                                                               & {[}'US'{]} &  9 & tt0098904 & 8.9 & 308824 & 130.213 & 8.301\\\\\n",
       "\t5 & ts22082  & Knight Rider                        & SHOW & Michael Long, an undercover police officer, is shot while investigating a case and left for dead by his assailants. He is rescued by Wilton Knight, a wealthy, dying millionaire and inventor who arranges life-saving surgery, including a new face and a new identity--that of Michael Knight. Michael is then given a special computerized and indestructible car called the Knight Industries Two Thousand (nicknamed KITT), and a mission: apprehend criminals who are beyond the reach of the law. The series depicts Michael's exploits as he and KITT battle the forces of evil on behalf of the Foundation for Law and Government. & 1982 & TV-PG & 51 & {[}'scifi', 'action', 'crime', 'drama'{]}                                    & {[}'US'{]} &  4 & tt0083437 & 6.9 &  34115 &  50.267 & 7.500\\\\\n",
       "\t6 & ts21715  & Thomas \\& Friends                    & SHOW & Thomas \\& Friends is a British children's television series, which had its first broadcast on the ITV network on 4 September 1984. It is based on The Railway Series of books by the Reverend Wilbert Awdry and his son, Christopher Awdry. These books deal with the adventures of a group of anthropomorphised locomotives and road vehicles who live on the fictional Island of Sodor. The books were based on stories Wilbert told to entertain his son, Christopher during his recovery from measles. From Series one to four, many of the stories are based on events from Awdry's personal experience.                                & 1984 & TV-Y  & 10 & {[}'animation', 'family', 'comedy', 'fantasy', 'drama', 'action', 'music'{]} & {[}'GB'{]} & 24 & tt0086815 & 6.5 &   5104 &  42.196 & 6.500\\\\\n",
       "\\end{tabular}\n"
      ],
      "text/markdown": [
       "\n",
       "A data.frame: 6 × 15\n",
       "\n",
       "| <!--/--> | id &lt;chr&gt; | title &lt;chr&gt; | type &lt;chr&gt; | description &lt;chr&gt; | release_year &lt;int&gt; | age_certification &lt;chr&gt; | runtime &lt;int&gt; | genres &lt;chr&gt; | production_countries &lt;chr&gt; | seasons &lt;dbl&gt; | imdb_id &lt;chr&gt; | imdb_score &lt;dbl&gt; | imdb_votes &lt;dbl&gt; | tmdb_popularity &lt;dbl&gt; | tmdb_score &lt;dbl&gt; |\n",
       "|---|---|---|---|---|---|---|---|---|---|---|---|---|---|---|---|\n",
       "| 1 | ts300399 | Five Came Back: The Reference Films | SHOW | This collection includes 12 World War II-era propaganda films â€” many of which are graphic and offensive â€” discussed in the docuseries \"Five Came Back.\"                                                                                                                                                                                                                                                                                                                                                                                                                                                                                 | 1945 | TV-MA | 51 | ['documentation']                                                        | ['US'] |  1 | <!----> |  NA |     NA |   0.600 |    NA |\n",
       "| 2 | ts22164  | Monty Python's Flying Circus        | SHOW | A British sketch comedy series with the shows being composed of surreality, risquÃ© or innuendo-laden humour, sight gags and observational sketches without punchlines.                                                                                                                                                                                                                                                                                                                                                                                                                                                                     | 1969 | TV-14 | 30 | ['comedy', 'european']                                                   | ['GB'] |  4 | tt0063929 | 8.8 |  73424 |  17.617 | 8.306 |\n",
       "| 3 | ts45948  | Monty Python's Fliegender Zirkus    | SHOW | Monty Python's Fliegender Zirkus consisted of two 45-minute Monty Python German television comedy specials produced by WDR for West German television. The two episodes were first broadcast in January and December 1972 and were shot entirely on film and mostly on location in Bavaria, with the first episode recorded in German and the second recorded in English and then dubbed into German.                                                                                                                                                                                                                                       | 1972 | TV-MA | 43 | ['comedy']                                                               | []     |  1 | tt0202477 | 8.1 |   2151 |   1.487 | 7.000 |\n",
       "| 4 | ts20681  | Seinfeld                            | SHOW | A stand-up comedian and his three offbeat friends weather the pitfalls and payoffs of life in New York City in the '90s. It's a show about nothing.                                                                                                                                                                                                                                                                                                                                                                                                                                                                                         | 1989 | TV-PG | 24 | ['comedy']                                                               | ['US'] |  9 | tt0098904 | 8.9 | 308824 | 130.213 | 8.301 |\n",
       "| 5 | ts22082  | Knight Rider                        | SHOW | Michael Long, an undercover police officer, is shot while investigating a case and left for dead by his assailants. He is rescued by Wilton Knight, a wealthy, dying millionaire and inventor who arranges life-saving surgery, including a new face and a new identity--that of Michael Knight. Michael is then given a special computerized and indestructible car called the Knight Industries Two Thousand (nicknamed KITT), and a mission: apprehend criminals who are beyond the reach of the law. The series depicts Michael's exploits as he and KITT battle the forces of evil on behalf of the Foundation for Law and Government. | 1982 | TV-PG | 51 | ['scifi', 'action', 'crime', 'drama']                                    | ['US'] |  4 | tt0083437 | 6.9 |  34115 |  50.267 | 7.500 |\n",
       "| 6 | ts21715  | Thomas &amp; Friends                    | SHOW | Thomas &amp; Friends is a British children's television series, which had its first broadcast on the ITV network on 4 September 1984. It is based on The Railway Series of books by the Reverend Wilbert Awdry and his son, Christopher Awdry. These books deal with the adventures of a group of anthropomorphised locomotives and road vehicles who live on the fictional Island of Sodor. The books were based on stories Wilbert told to entertain his son, Christopher during his recovery from measles. From Series one to four, many of the stories are based on events from Awdry's personal experience.                                | 1984 | TV-Y  | 10 | ['animation', 'family', 'comedy', 'fantasy', 'drama', 'action', 'music'] | ['GB'] | 24 | tt0086815 | 6.5 |   5104 |  42.196 | 6.500 |\n",
       "\n"
      ],
      "text/plain": [
       "  id       title                               type\n",
       "1 ts300399 Five Came Back: The Reference Films SHOW\n",
       "2 ts22164  Monty Python's Flying Circus        SHOW\n",
       "3 ts45948  Monty Python's Fliegender Zirkus    SHOW\n",
       "4 ts20681  Seinfeld                            SHOW\n",
       "5 ts22082  Knight Rider                        SHOW\n",
       "6 ts21715  Thomas & Friends                    SHOW\n",
       "  description                                                                                                                                                                                                                                                                                                                                                                                                                                                                                                                                                                                                                                \n",
       "1 This collection includes 12 World War II-era propaganda films â\\200” many of which are graphic and offensive â\\200” discussed in the docuseries \"Five Came Back.\"                                                                                                                                                                                                                                                                                                                                                                                                                                                                                \n",
       "2 A British sketch comedy series with the shows being composed of surreality, risquÃ© or innuendo-laden humour, sight gags and observational sketches without punchlines.                                                                                                                                                                                                                                                                                                                                                                                                                                                                    \n",
       "3 Monty Python's Fliegender Zirkus consisted of two 45-minute Monty Python German television comedy specials produced by WDR for West German television. The two episodes were first broadcast in January and December 1972 and were shot entirely on film and mostly on location in Bavaria, with the first episode recorded in German and the second recorded in English and then dubbed into German.                                                                                                                                                                                                                                      \n",
       "4 A stand-up comedian and his three offbeat friends weather the pitfalls and payoffs of life in New York City in the '90s. It's a show about nothing.                                                                                                                                                                                                                                                                                                                                                                                                                                                                                        \n",
       "5 Michael Long, an undercover police officer, is shot while investigating a case and left for dead by his assailants. He is rescued by Wilton Knight, a wealthy, dying millionaire and inventor who arranges life-saving surgery, including a new face and a new identity--that of Michael Knight. Michael is then given a special computerized and indestructible car called the Knight Industries Two Thousand (nicknamed KITT), and a mission: apprehend criminals who are beyond the reach of the law. The series depicts Michael's exploits as he and KITT battle the forces of evil on behalf of the Foundation for Law and Government.\n",
       "6 Thomas & Friends is a British children's television series, which had its first broadcast on the ITV network on 4 September 1984. It is based on The Railway Series of books by the Reverend Wilbert Awdry and his son, Christopher Awdry. These books deal with the adventures of a group of anthropomorphised locomotives and road vehicles who live on the fictional Island of Sodor. The books were based on stories Wilbert told to entertain his son, Christopher during his recovery from measles. From Series one to four, many of the stories are based on events from Awdry's personal experience.                               \n",
       "  release_year age_certification runtime\n",
       "1 1945         TV-MA             51     \n",
       "2 1969         TV-14             30     \n",
       "3 1972         TV-MA             43     \n",
       "4 1989         TV-PG             24     \n",
       "5 1982         TV-PG             51     \n",
       "6 1984         TV-Y              10     \n",
       "  genres                                                                  \n",
       "1 ['documentation']                                                       \n",
       "2 ['comedy', 'european']                                                  \n",
       "3 ['comedy']                                                              \n",
       "4 ['comedy']                                                              \n",
       "5 ['scifi', 'action', 'crime', 'drama']                                   \n",
       "6 ['animation', 'family', 'comedy', 'fantasy', 'drama', 'action', 'music']\n",
       "  production_countries seasons imdb_id   imdb_score imdb_votes tmdb_popularity\n",
       "1 ['US']                1                 NA            NA       0.600        \n",
       "2 ['GB']                4      tt0063929 8.8         73424      17.617        \n",
       "3 []                    1      tt0202477 8.1          2151       1.487        \n",
       "4 ['US']                9      tt0098904 8.9        308824     130.213        \n",
       "5 ['US']                4      tt0083437 6.9         34115      50.267        \n",
       "6 ['GB']               24      tt0086815 6.5          5104      42.196        \n",
       "  tmdb_score\n",
       "1    NA     \n",
       "2 8.306     \n",
       "3 7.000     \n",
       "4 8.301     \n",
       "5 7.500     \n",
       "6 6.500     "
      ]
     },
     "metadata": {},
     "output_type": "display_data"
    }
   ],
   "source": [
    "head(NetflixSHOW)"
   ]
  },
  {
   "cell_type": "code",
   "execution_count": 11,
   "id": "0bf18fc2-1fa5-4d80-a076-be7727e2618e",
   "metadata": {},
   "outputs": [],
   "source": [
    "# Create 3 data frames for 3 different decades"
   ]
  },
  {
   "cell_type": "code",
   "execution_count": 12,
   "id": "0d35da02-1dd4-4824-a992-1514d88adc34",
   "metadata": {},
   "outputs": [],
   "source": [
    "Netflix90 <- (Netflix %>% filter(release_year %in% c('1990','1991','1992','1993','1994','1995','1996','1997','1998','1999')))"
   ]
  },
  {
   "cell_type": "code",
   "execution_count": 13,
   "id": "466b8d3e-7b00-4752-8045-74b3319ad6ce",
   "metadata": {},
   "outputs": [],
   "source": [
    "write.csv(Netflix90,\"../Data/Netflix90.csv\", row.names = FALSE)"
   ]
  },
  {
   "cell_type": "code",
   "execution_count": 14,
   "id": "31a4c722-35c5-41e9-ba27-8b24da670c2c",
   "metadata": {},
   "outputs": [],
   "source": [
    "Netflix00 <- (Netflix %>% filter(release_year %in% c('2000','2001','2002','2003','2004','2005','2006','2007','2008','2009')))"
   ]
  },
  {
   "cell_type": "code",
   "execution_count": 15,
   "id": "0ae7b573-2424-44e2-9fdc-199d7f74b907",
   "metadata": {},
   "outputs": [],
   "source": [
    "Netflix10 <- (Netflix %>% filter(release_year %in% c('2010','2011','2012','2013','2014','2015','2016','2017','2018','2019')))"
   ]
  },
  {
   "cell_type": "code",
   "execution_count": 16,
   "id": "23615d9d-786b-468e-8407-c84a83827ec2",
   "metadata": {},
   "outputs": [],
   "source": [
    "# Check to see of there are movies AND shows in each set. "
   ]
  },
  {
   "cell_type": "code",
   "execution_count": 17,
   "id": "a9af1905-b116-4bb6-b66c-33b5e57b5750",
   "metadata": {},
   "outputs": [
    {
     "data": {
      "text/html": [
       "<style>\n",
       ".list-inline {list-style: none; margin:0; padding: 0}\n",
       ".list-inline>li {display: inline-block}\n",
       ".list-inline>li:not(:last-child)::after {content: \"\\00b7\"; padding: 0 .5ex}\n",
       "</style>\n",
       "<ol class=list-inline><li>'MOVIE'</li><li>'SHOW'</li></ol>\n"
      ],
      "text/latex": [
       "\\begin{enumerate*}\n",
       "\\item 'MOVIE'\n",
       "\\item 'SHOW'\n",
       "\\end{enumerate*}\n"
      ],
      "text/markdown": [
       "1. 'MOVIE'\n",
       "2. 'SHOW'\n",
       "\n",
       "\n"
      ],
      "text/plain": [
       "[1] \"MOVIE\" \"SHOW\" "
      ]
     },
     "metadata": {},
     "output_type": "display_data"
    }
   ],
   "source": [
    "unique(Netflix90$type)"
   ]
  },
  {
   "cell_type": "code",
   "execution_count": 18,
   "id": "af88b866-6687-4865-b669-2c69fcd9c0b8",
   "metadata": {},
   "outputs": [
    {
     "data": {
      "text/html": [
       "<style>\n",
       ".list-inline {list-style: none; margin:0; padding: 0}\n",
       ".list-inline>li {display: inline-block}\n",
       ".list-inline>li:not(:last-child)::after {content: \"\\00b7\"; padding: 0 .5ex}\n",
       "</style>\n",
       "<ol class=list-inline><li>'SHOW'</li><li>'MOVIE'</li></ol>\n"
      ],
      "text/latex": [
       "\\begin{enumerate*}\n",
       "\\item 'SHOW'\n",
       "\\item 'MOVIE'\n",
       "\\end{enumerate*}\n"
      ],
      "text/markdown": [
       "1. 'SHOW'\n",
       "2. 'MOVIE'\n",
       "\n",
       "\n"
      ],
      "text/plain": [
       "[1] \"SHOW\"  \"MOVIE\""
      ]
     },
     "metadata": {},
     "output_type": "display_data"
    }
   ],
   "source": [
    "unique(Netflix00$type)"
   ]
  },
  {
   "cell_type": "code",
   "execution_count": 19,
   "id": "c584d304-519b-428c-8a62-81a9022597a6",
   "metadata": {},
   "outputs": [
    {
     "data": {
      "text/html": [
       "<style>\n",
       ".list-inline {list-style: none; margin:0; padding: 0}\n",
       ".list-inline>li {display: inline-block}\n",
       ".list-inline>li:not(:last-child)::after {content: \"\\00b7\"; padding: 0 .5ex}\n",
       "</style>\n",
       "<ol class=list-inline><li>'SHOW'</li><li>'MOVIE'</li></ol>\n"
      ],
      "text/latex": [
       "\\begin{enumerate*}\n",
       "\\item 'SHOW'\n",
       "\\item 'MOVIE'\n",
       "\\end{enumerate*}\n"
      ],
      "text/markdown": [
       "1. 'SHOW'\n",
       "2. 'MOVIE'\n",
       "\n",
       "\n"
      ],
      "text/plain": [
       "[1] \"SHOW\"  \"MOVIE\""
      ]
     },
     "metadata": {},
     "output_type": "display_data"
    }
   ],
   "source": [
    "unique(Netflix10$type)"
   ]
  },
  {
   "cell_type": "markdown",
   "id": "f7e4b21e-2aa5-44fe-b49e-1f9ddabffffa",
   "metadata": {},
   "source": [
    "# How have MOVIE runtimes changed over the decades? "
   ]
  },
  {
   "cell_type": "code",
   "execution_count": 20,
   "id": "426ef509-ef0a-4d0f-82b6-dd1610c4eb00",
   "metadata": {},
   "outputs": [],
   "source": [
    "# First, let's look at movies from the 90's!"
   ]
  },
  {
   "cell_type": "code",
   "execution_count": 21,
   "id": "4e6fbdf6-9521-413f-bba2-43570e462910",
   "metadata": {},
   "outputs": [],
   "source": [
    "NetflixMOVIE90 <- (Netflix90 %>% filter(type %in% c('MOVIE')))"
   ]
  },
  {
   "cell_type": "code",
   "execution_count": 22,
   "id": "386d0e09-fb10-45c9-98d8-d8f916a61711",
   "metadata": {},
   "outputs": [],
   "source": [
    "# Let's look at average movie run time by 90s year "
   ]
  },
  {
   "cell_type": "code",
   "execution_count": 23,
   "id": "bef3249a-2366-4f51-a6dc-85f17c6ba198",
   "metadata": {},
   "outputs": [],
   "source": [
    "MeansRunTime90 <- NetflixMOVIE90 %>% group_by(release_year) %>% summarize(Mean = mean(runtime))"
   ]
  },
  {
   "cell_type": "code",
   "execution_count": 24,
   "id": "eb4068a4-646c-4d07-8fb4-e0a882d1473b",
   "metadata": {
    "tags": []
   },
   "outputs": [
    {
     "data": {
      "text/html": [
       "<table class=\"dataframe\">\n",
       "<caption>A tibble: 10 × 2</caption>\n",
       "<thead>\n",
       "\t<tr><th scope=col>release_year</th><th scope=col>Mean</th></tr>\n",
       "\t<tr><th scope=col>&lt;int&gt;</th><th scope=col>&lt;dbl&gt;</th></tr>\n",
       "</thead>\n",
       "<tbody>\n",
       "\t<tr><td>1990</td><td>119.28571</td></tr>\n",
       "\t<tr><td>1991</td><td> 88.72727</td></tr>\n",
       "\t<tr><td>1992</td><td> 92.00000</td></tr>\n",
       "\t<tr><td>1993</td><td>119.50000</td></tr>\n",
       "\t<tr><td>1994</td><td>126.58333</td></tr>\n",
       "\t<tr><td>1995</td><td>126.50000</td></tr>\n",
       "\t<tr><td>1996</td><td>105.80000</td></tr>\n",
       "\t<tr><td>1997</td><td>121.07143</td></tr>\n",
       "\t<tr><td>1998</td><td>112.41176</td></tr>\n",
       "\t<tr><td>1999</td><td>123.80000</td></tr>\n",
       "</tbody>\n",
       "</table>\n"
      ],
      "text/latex": [
       "A tibble: 10 × 2\n",
       "\\begin{tabular}{ll}\n",
       " release\\_year & Mean\\\\\n",
       " <int> & <dbl>\\\\\n",
       "\\hline\n",
       "\t 1990 & 119.28571\\\\\n",
       "\t 1991 &  88.72727\\\\\n",
       "\t 1992 &  92.00000\\\\\n",
       "\t 1993 & 119.50000\\\\\n",
       "\t 1994 & 126.58333\\\\\n",
       "\t 1995 & 126.50000\\\\\n",
       "\t 1996 & 105.80000\\\\\n",
       "\t 1997 & 121.07143\\\\\n",
       "\t 1998 & 112.41176\\\\\n",
       "\t 1999 & 123.80000\\\\\n",
       "\\end{tabular}\n"
      ],
      "text/markdown": [
       "\n",
       "A tibble: 10 × 2\n",
       "\n",
       "| release_year &lt;int&gt; | Mean &lt;dbl&gt; |\n",
       "|---|---|\n",
       "| 1990 | 119.28571 |\n",
       "| 1991 |  88.72727 |\n",
       "| 1992 |  92.00000 |\n",
       "| 1993 | 119.50000 |\n",
       "| 1994 | 126.58333 |\n",
       "| 1995 | 126.50000 |\n",
       "| 1996 | 105.80000 |\n",
       "| 1997 | 121.07143 |\n",
       "| 1998 | 112.41176 |\n",
       "| 1999 | 123.80000 |\n",
       "\n"
      ],
      "text/plain": [
       "   release_year Mean     \n",
       "1  1990         119.28571\n",
       "2  1991          88.72727\n",
       "3  1992          92.00000\n",
       "4  1993         119.50000\n",
       "5  1994         126.58333\n",
       "6  1995         126.50000\n",
       "7  1996         105.80000\n",
       "8  1997         121.07143\n",
       "9  1998         112.41176\n",
       "10 1999         123.80000"
      ]
     },
     "metadata": {},
     "output_type": "display_data"
    }
   ],
   "source": [
    "MeansRunTime90"
   ]
  },
  {
   "cell_type": "code",
   "execution_count": 25,
   "id": "40e6ce35-ea83-447b-b5c4-ec2812ef325c",
   "metadata": {},
   "outputs": [],
   "source": [
    "# And now to find the over all average for all 90s movies "
   ]
  },
  {
   "cell_type": "code",
   "execution_count": 26,
   "id": "c9addcaf-2482-4dc4-b58d-d58e8fac5922",
   "metadata": {},
   "outputs": [],
   "source": [
    "TotalMeansRunTime90 <- NetflixMOVIE90 %>% summarize(Mean = mean(runtime))"
   ]
  },
  {
   "cell_type": "code",
   "execution_count": 27,
   "id": "f17ab36c-4a63-463e-8fad-f7b754cbccfb",
   "metadata": {},
   "outputs": [
    {
     "data": {
      "text/html": [
       "<table class=\"dataframe\">\n",
       "<caption>A data.frame: 1 × 1</caption>\n",
       "<thead>\n",
       "\t<tr><th scope=col>Mean</th></tr>\n",
       "\t<tr><th scope=col>&lt;dbl&gt;</th></tr>\n",
       "</thead>\n",
       "<tbody>\n",
       "\t<tr><td>115.6429</td></tr>\n",
       "</tbody>\n",
       "</table>\n"
      ],
      "text/latex": [
       "A data.frame: 1 × 1\n",
       "\\begin{tabular}{l}\n",
       " Mean\\\\\n",
       " <dbl>\\\\\n",
       "\\hline\n",
       "\t 115.6429\\\\\n",
       "\\end{tabular}\n"
      ],
      "text/markdown": [
       "\n",
       "A data.frame: 1 × 1\n",
       "\n",
       "| Mean &lt;dbl&gt; |\n",
       "|---|\n",
       "| 115.6429 |\n",
       "\n"
      ],
      "text/plain": [
       "  Mean    \n",
       "1 115.6429"
      ]
     },
     "metadata": {},
     "output_type": "display_data"
    }
   ],
   "source": [
    "TotalMeansRunTime90"
   ]
  },
  {
   "cell_type": "code",
   "execution_count": 28,
   "id": "c8356bba-3853-485b-be9b-7ea1b77eb8e7",
   "metadata": {},
   "outputs": [],
   "source": [
    "# Now the same thing for the 2000's"
   ]
  },
  {
   "cell_type": "code",
   "execution_count": 29,
   "id": "ce0110ff-5bd8-48b1-bc3e-ed764e429d18",
   "metadata": {},
   "outputs": [],
   "source": [
    "NetflixMOVIE00 <- (Netflix00 %>% filter(type %in% c('MOVIE')))"
   ]
  },
  {
   "cell_type": "code",
   "execution_count": 30,
   "id": "432a3ee8-da71-46ca-b726-31b2a21ba3c8",
   "metadata": {},
   "outputs": [],
   "source": [
    "MeansRunTime00 <- NetflixMOVIE00 %>% summarize(Mean = mean(runtime))"
   ]
  },
  {
   "cell_type": "code",
   "execution_count": 31,
   "id": "3b3c6df7-a08a-47ee-b439-7f930afc3f38",
   "metadata": {},
   "outputs": [
    {
     "data": {
      "text/html": [
       "<table class=\"dataframe\">\n",
       "<caption>A data.frame: 1 × 1</caption>\n",
       "<thead>\n",
       "\t<tr><th scope=col>Mean</th></tr>\n",
       "\t<tr><th scope=col>&lt;dbl&gt;</th></tr>\n",
       "</thead>\n",
       "<tbody>\n",
       "\t<tr><td>114.2981</td></tr>\n",
       "</tbody>\n",
       "</table>\n"
      ],
      "text/latex": [
       "A data.frame: 1 × 1\n",
       "\\begin{tabular}{l}\n",
       " Mean\\\\\n",
       " <dbl>\\\\\n",
       "\\hline\n",
       "\t 114.2981\\\\\n",
       "\\end{tabular}\n"
      ],
      "text/markdown": [
       "\n",
       "A data.frame: 1 × 1\n",
       "\n",
       "| Mean &lt;dbl&gt; |\n",
       "|---|\n",
       "| 114.2981 |\n",
       "\n"
      ],
      "text/plain": [
       "  Mean    \n",
       "1 114.2981"
      ]
     },
     "metadata": {},
     "output_type": "display_data"
    }
   ],
   "source": [
    "MeansRunTime00"
   ]
  },
  {
   "cell_type": "code",
   "execution_count": 32,
   "id": "b9158775-9581-4356-a328-fc2b552109e0",
   "metadata": {},
   "outputs": [],
   "source": [
    "# And for the 2010's!"
   ]
  },
  {
   "cell_type": "code",
   "execution_count": 33,
   "id": "b32e7d08-8aa7-4fc2-aedd-e00b443a378c",
   "metadata": {},
   "outputs": [],
   "source": [
    "NetflixMOVIE10 <- (Netflix10 %>% filter(type %in% c('MOVIE')))"
   ]
  },
  {
   "cell_type": "code",
   "execution_count": 34,
   "id": "6ff9539a-c759-4b7a-8ebe-4cfa93c25469",
   "metadata": {},
   "outputs": [],
   "source": [
    "MeansRunTime10 <- NetflixMOVIE10 %>% summarize(Mean = mean(runtime))"
   ]
  },
  {
   "cell_type": "code",
   "execution_count": 35,
   "id": "2e9c99de-a2d8-4f3e-bcd1-7a6a39a5a954",
   "metadata": {},
   "outputs": [
    {
     "data": {
      "text/html": [
       "<table class=\"dataframe\">\n",
       "<caption>A data.frame: 1 × 1</caption>\n",
       "<thead>\n",
       "\t<tr><th scope=col>Mean</th></tr>\n",
       "\t<tr><th scope=col>&lt;dbl&gt;</th></tr>\n",
       "</thead>\n",
       "<tbody>\n",
       "\t<tr><td>96.86845</td></tr>\n",
       "</tbody>\n",
       "</table>\n"
      ],
      "text/latex": [
       "A data.frame: 1 × 1\n",
       "\\begin{tabular}{l}\n",
       " Mean\\\\\n",
       " <dbl>\\\\\n",
       "\\hline\n",
       "\t 96.86845\\\\\n",
       "\\end{tabular}\n"
      ],
      "text/markdown": [
       "\n",
       "A data.frame: 1 × 1\n",
       "\n",
       "| Mean &lt;dbl&gt; |\n",
       "|---|\n",
       "| 96.86845 |\n",
       "\n"
      ],
      "text/plain": [
       "  Mean    \n",
       "1 96.86845"
      ]
     },
     "metadata": {},
     "output_type": "display_data"
    }
   ],
   "source": [
    "MeansRunTime10"
   ]
  },
  {
   "cell_type": "code",
   "execution_count": 36,
   "id": "8b93ad05-ede6-451b-a8ea-51b90bf6ab19",
   "metadata": {},
   "outputs": [],
   "source": [
    "# Average for all Movies "
   ]
  },
  {
   "cell_type": "code",
   "execution_count": 37,
   "id": "8e1a57f5-11c2-4682-9f72-b08e8d4cee7c",
   "metadata": {},
   "outputs": [],
   "source": [
    "MeansRunTimeTotal <- NetflixMOVIE %>% summarize(Mean = mean(runtime))"
   ]
  },
  {
   "cell_type": "code",
   "execution_count": 38,
   "id": "3cbe51f8-0cf6-44a1-b6de-ad30d63c54ea",
   "metadata": {},
   "outputs": [
    {
     "data": {
      "text/html": [
       "<table class=\"dataframe\">\n",
       "<caption>A data.frame: 1 × 1</caption>\n",
       "<thead>\n",
       "\t<tr><th scope=col>Mean</th></tr>\n",
       "\t<tr><th scope=col>&lt;dbl&gt;</th></tr>\n",
       "</thead>\n",
       "<tbody>\n",
       "\t<tr><td>98.21368</td></tr>\n",
       "</tbody>\n",
       "</table>\n"
      ],
      "text/latex": [
       "A data.frame: 1 × 1\n",
       "\\begin{tabular}{l}\n",
       " Mean\\\\\n",
       " <dbl>\\\\\n",
       "\\hline\n",
       "\t 98.21368\\\\\n",
       "\\end{tabular}\n"
      ],
      "text/markdown": [
       "\n",
       "A data.frame: 1 × 1\n",
       "\n",
       "| Mean &lt;dbl&gt; |\n",
       "|---|\n",
       "| 98.21368 |\n",
       "\n"
      ],
      "text/plain": [
       "  Mean    \n",
       "1 98.21368"
      ]
     },
     "metadata": {},
     "output_type": "display_data"
    }
   ],
   "source": [
    "MeansRunTimeTotal"
   ]
  },
  {
   "cell_type": "code",
   "execution_count": 39,
   "id": "7506f502-432a-439f-b365-5f64db28f4f8",
   "metadata": {},
   "outputs": [
    {
     "data": {
      "text/html": [
       "98"
      ],
      "text/latex": [
       "98"
      ],
      "text/markdown": [
       "98"
      ],
      "text/plain": [
       "[1] 98"
      ]
     },
     "metadata": {},
     "output_type": "display_data"
    }
   ],
   "source": [
    "nrow(NetflixMOVIE90[!is.na(NetflixMOVIE90$runtime),])"
   ]
  },
  {
   "cell_type": "code",
   "execution_count": 40,
   "id": "47e5a952-0521-45c2-9282-756c47d4305a",
   "metadata": {},
   "outputs": [
    {
     "data": {
      "text/html": [
       "2136"
      ],
      "text/latex": [
       "2136"
      ],
      "text/markdown": [
       "2136"
      ],
      "text/plain": [
       "[1] 2136"
      ]
     },
     "metadata": {},
     "output_type": "display_data"
    }
   ],
   "source": [
    "nrow(NetflixMOVIE10[!is.na(NetflixMOVIE10$runtime),])"
   ]
  },
  {
   "cell_type": "code",
   "execution_count": 41,
   "id": "887eaa3d-4479-4d1e-a5af-c0e8da626414",
   "metadata": {},
   "outputs": [
    {
     "data": {
      "text/html": [
       "265"
      ],
      "text/latex": [
       "265"
      ],
      "text/markdown": [
       "265"
      ],
      "text/plain": [
       "[1] 265"
      ]
     },
     "metadata": {},
     "output_type": "display_data"
    }
   ],
   "source": [
    "nrow(NetflixMOVIE00[!is.na(NetflixMOVIE00$runtime),])"
   ]
  },
  {
   "cell_type": "markdown",
   "id": "c50e37a0-ef7d-48b9-a5f6-8b63aa328aca",
   "metadata": {},
   "source": [
    "nΣ(Xj – X..)2 \n",
    "\n",
    "n: the sample size of group j\n",
    "Σ: a greek symbol that means “sum”\n",
    "Xj: the mean of group j\n",
    "X..: the overall mean\n",
    "\n",
    "sample size of group j(sum)(mean of group j- overall mean)2\n",
    "\n",
    "**Perform a Kruskal-Wallis test for data that is non-parametic (in our case uneven sample sizes)?**\n"
   ]
  },
  {
   "cell_type": "code",
   "execution_count": 42,
   "id": "9dcef152-a06f-4be7-9056-f28cb8ee0722",
   "metadata": {},
   "outputs": [
    {
     "data": {
      "text/html": [
       "3744"
      ],
      "text/latex": [
       "3744"
      ],
      "text/markdown": [
       "3744"
      ],
      "text/plain": [
       "[1] 3744"
      ]
     },
     "metadata": {},
     "output_type": "display_data"
    }
   ],
   "source": [
    "nrow(NetflixMOVIE[!is.na(NetflixMOVIE$runtime),])"
   ]
  },
  {
   "cell_type": "markdown",
   "id": "a938a432-9f5f-47ed-ba94-cb376ea17657",
   "metadata": {},
   "source": [
    "# How have SHOW runtimes changed over the decades? "
   ]
  },
  {
   "cell_type": "code",
   "execution_count": 43,
   "id": "f9d2a3b9-f5bd-4d9d-a27c-c8633e005095",
   "metadata": {},
   "outputs": [],
   "source": [
    "NetflixSHOW90 <- (Netflix90 %>% filter(type %in% c('SHOW')))"
   ]
  },
  {
   "cell_type": "code",
   "execution_count": 44,
   "id": "729f4981-6125-4f8c-9c88-5541178c68dd",
   "metadata": {
    "collapsed": true,
    "jupyter": {
     "outputs_hidden": true
    },
    "tags": []
   },
   "outputs": [
    {
     "data": {
      "text/html": [
       "<table class=\"dataframe\">\n",
       "<caption>A data.frame: 23 × 15</caption>\n",
       "<thead>\n",
       "\t<tr><th scope=col>id</th><th scope=col>title</th><th scope=col>type</th><th scope=col>description</th><th scope=col>release_year</th><th scope=col>age_certification</th><th scope=col>runtime</th><th scope=col>genres</th><th scope=col>production_countries</th><th scope=col>seasons</th><th scope=col>imdb_id</th><th scope=col>imdb_score</th><th scope=col>imdb_votes</th><th scope=col>tmdb_popularity</th><th scope=col>tmdb_score</th></tr>\n",
       "\t<tr><th scope=col>&lt;chr&gt;</th><th scope=col>&lt;chr&gt;</th><th scope=col>&lt;chr&gt;</th><th scope=col>&lt;chr&gt;</th><th scope=col>&lt;int&gt;</th><th scope=col>&lt;chr&gt;</th><th scope=col>&lt;int&gt;</th><th scope=col>&lt;chr&gt;</th><th scope=col>&lt;chr&gt;</th><th scope=col>&lt;dbl&gt;</th><th scope=col>&lt;chr&gt;</th><th scope=col>&lt;dbl&gt;</th><th scope=col>&lt;dbl&gt;</th><th scope=col>&lt;dbl&gt;</th><th scope=col>&lt;dbl&gt;</th></tr>\n",
       "</thead>\n",
       "<tbody>\n",
       "\t<tr><td>ts22176 </td><td>Stargate SG-1                   </td><td>SHOW</td><td>The story of Stargate SG-1 begins about a year after the events of the feature film, when the United States government learns that an ancient alien device called the Stargate can access a network of such devices on a multitude of planets. SG-1 is an elite Air Force special operations team, one of more than two dozen teams from Earth who explore the galaxy and defend against alien threats such as the Goa'uld, Replicators, and the Ori.                                                                                                                                                        </td><td>1997</td><td>TV-PG</td><td>44</td><td>['scifi', 'drama', 'action']                                                       </td><td>['CA', 'US']</td><td>10</td><td>tt0118480 </td><td>8.4</td><td> 90196</td><td> 88.851</td><td>8.300</td></tr>\n",
       "\t<tr><td>ts21223 </td><td>PokÃ©mon                        </td><td>SHOW</td><td>Join Ash accompanied by his partner Pikachu, as he travels through many regions, meets new friends and faces new challenges on his quest to become a PokÃ©mon Master.                                                                                                                                                                                                                                                                                                                                                                                                                                        </td><td>1997</td><td>TV-Y7</td><td>22</td><td>['action', 'scifi', 'animation', 'comedy', 'fantasy', 'family']                    </td><td>['JP']      </td><td>25</td><td>tt14053732</td><td>7.4</td><td>   198</td><td>115.356</td><td>7.633</td></tr>\n",
       "\t<tr><td>ts20339 </td><td>One Piece                       </td><td>SHOW</td><td>Years ago, the fearsome Pirate King, Gol D. Roger was executed leaving a huge pile of treasure and the famous \"One Piece\" behind. Whoever claims the \"One Piece\" will be named the new King of the Pirates. Monkey D. Luffy, a boy who consumed a \"Devil Fruit,\" decides to follow in the footsteps of his idol, the pirate Shanks, and find the One Piece. It helps, of course, that his body has the properties of rubber and that he's surrounded by a bevy of skilled fighters and thieves to help him along the way. Luffy will do anything to get the One Piece and become King of the Pirates!        </td><td>1999</td><td>TV-14</td><td>23</td><td>['animation', 'action', 'comedy', 'drama', 'fantasy']                              </td><td>['JP']      </td><td>21</td><td>tt0388629 </td><td>8.8</td><td>117129</td><td>143.457</td><td>8.764</td></tr>\n",
       "\t<tr><td>ts5145  </td><td>The Challenge                   </td><td>SHOW</td><td>Each Challenge pits numerous cast members from past seasons of reality shows against each other, dividing them into two separate teams according to different criteria, such as gender, which show they first appeared on, whether or not they're veterans or rookies on the show, etc. The two teams compete in numerous missions in order to win prizes and advance in the overall game.                                                                                                                                                                                                                   </td><td>1998</td><td>TV-14</td><td>40</td><td>['reality', 'comedy', 'drama', 'scifi']                                            </td><td>['US']      </td><td>37</td><td>tt6274074 </td><td>7.8</td><td>  3362</td><td> 18.075</td><td>7.700</td></tr>\n",
       "\t<tr><td>ts34435 </td><td>Cowboy Bebop                    </td><td>SHOW</td><td>In 2071, roughly fifty years after an accident with a hyperspace gateway made the Earth almost uninhabitable, humanity has colonized most of the rocky planets and moons of the Solar System. Amid a rising crime rate, the Inter Solar System Police (ISSP) set up a legalized contract system, in which registered bounty hunters (also referred to as \"Cowboys\") chase criminals and bring them in alive in return for a reward.                                                                                                                                                                          </td><td>1998</td><td>TV-14</td><td>25</td><td>['animation', 'action', 'scifi', 'western', 'comedy', 'drama', 'thriller']         </td><td>['JP']      </td><td> 1</td><td>tt0213338 </td><td>8.9</td><td>115448</td><td> 35.402</td><td>8.522</td></tr>\n",
       "\t<tr><td>ts20983 </td><td>Neon Genesis Evangelion         </td><td>SHOW</td><td>At the turn of the century, the Angels returned to Earth, seeking to wipe out humanity in an apocalyptic fury. Devastated, mankind's last remnants moved underground to wait for the day when the Angels would come back to finish the job. Fifteen years later, that day has come... but this time, humanity is ready to fight back with terrifying bio-mechanical weapons known as the Evangelions. Watch as Shinji, Rei, Asuka and the rest of the mysterious shadow agency Nerv battle to save earth from total annihilation.                                                                            </td><td>1995</td><td>TV-14</td><td>24</td><td>['drama', 'scifi', 'animation', 'action', 'fantasy', 'thriller']                   </td><td>['JP']      </td><td> 1</td><td>tt0112159 </td><td>8.5</td><td> 66629</td><td> 49.270</td><td>8.637</td></tr>\n",
       "\t<tr><td>ts20960 </td><td>Power Rangers                   </td><td>SHOW</td><td>A team of teenagers with attitude are recruited to save Angel Grove from the evil witch, Rita Repulsa, and later, Lord Zedd, Emperor of all he sees, and their horde of monsters.                                                                                                                                                                                                                                                                                                                                                                                                                            </td><td>1993</td><td>TV-Y7</td><td>22</td><td>['action', 'scifi', 'fantasy', 'family']                                           </td><td>['US']      </td><td>29</td><td>tt0106064 </td><td>6.5</td><td> 22110</td><td> 19.699</td><td>6.800</td></tr>\n",
       "\t<tr><td>ts25252 </td><td>Yu-Gi-Oh!                       </td><td>SHOW</td><td>A timid young boy who loves all sorts of games, one day solves an ancient puzzle known as the Millennium Puzzle, causing his body to play host to a mysterious spirit with the personality of a gambler.                                                                                                                                                                                                                                                                                                                                                                                                     </td><td>1998</td><td>TV-Y </td><td>22</td><td>['scifi', 'action', 'family', 'fantasy', 'animation', 'comedy', 'drama']           </td><td>['JP']      </td><td> 7</td><td>tt4834194 </td><td>7.3</td><td> 21113</td><td> 33.504</td><td>7.358</td></tr>\n",
       "\t<tr><td>ts22193 </td><td>The Magic School Bus            </td><td>SHOW</td><td>An eccentric schoolteacher takes her class on wondrous educational field trips with the help of a magical school bus.                                                                                                                                                                                                                                                                                                                                                                                                                                                                                        </td><td>1994</td><td>TV-Y </td><td>26</td><td>['animation', 'scifi', 'comedy', 'family', 'fantasy']                              </td><td>['CA', 'US']</td><td> 4</td><td>tt0108847 </td><td>7.8</td><td>  9829</td><td> 16.830</td><td>7.800</td></tr>\n",
       "\t<tr><td>ts22489 </td><td>Goosebumps                      </td><td>SHOW</td><td>Anything can turn spooky in this horror anthology series based on the best-selling books by master of kid horror, R.L. Stine. In every episode, see what happens when regular kids find themselves in scary situations, and how they work to confront and overcome their fears.                                                                                                                                                                                                                                                                                                                              </td><td>1995</td><td>TV-PG</td><td>22</td><td>['scifi', 'thriller', 'family', 'fantasy', 'horror', 'music']                      </td><td>['US', 'CA']</td><td> 4</td><td>tt0111987 </td><td>7.6</td><td> 13493</td><td> 63.687</td><td>7.900</td></tr>\n",
       "\t<tr><td>ts16919 </td><td>All That                        </td><td>SHOW</td><td>The new kids of comedy bring the funny as All That, Americaâ€™s #1 kidâ€™s sketch comedy show, returns with a new cast and a few familiar faces. From Executive Producers Kenan Thompson and Kel Mitchell.                                                                                                                                                                                                                                                                                                                                                                                                   </td><td>1994</td><td>TV-G </td><td>22</td><td>['comedy', 'family', 'music']                                                      </td><td>['US']      </td><td>11</td><td>tt0111875 </td><td>7.5</td><td>  7718</td><td>  6.688</td><td>8.400</td></tr>\n",
       "\t<tr><td><span style=white-space:pre-wrap>ts8570  </span></td><td><span style=white-space:pre-wrap>Barney &amp; Friends                </span></td><td>SHOW</td><td><span style=white-space:pre-wrap>Barney &amp; Friends is an American children's television series aimed at children from ages 2 to 5. The series, which first aired on April 6, 1992, features the title character Barney, a purple anthropomorphic Tyrannosaurus rex who conveys educational messages through songs and small dance routines with a friendly, optimistic attitude.\n",
       "\n",
       "New episodes have not been produced since 2009; however reruns continue to air on various PBS stations.                                                                                                                                                    </span></td><td>1992</td><td>TV-G </td><td>28</td><td><span style=white-space:pre-wrap>['comedy', 'family']                                                               </span></td><td><span style=white-space:pre-wrap>['US']      </span></td><td>14</td><td>tt0144701 </td><td>3.8</td><td><span style=white-space:pre-wrap>  9624</span></td><td> 14.641</td><td>4.900</td></tr>\n",
       "\t<tr><td>ts27693 </td><td><span style=white-space:pre-wrap>Kenan &amp; Kel                     </span></td><td>SHOW</td><td><span style=white-space:pre-wrap>Set in Chicago, the show follows the kid-friendly misadventures of two high-school friends who are always scheming and dreaming. Kenan, who works at a grocery store, constantly devises crazy plans to strike it rich, while orange-soda-loving buddy Kel is always dragged along for the ride despite his track record for messing things up.                                                                                                                                                                                                                                                              </span></td><td>1996</td><td>TV-Y7</td><td>25</td><td><span style=white-space:pre-wrap>['family', 'comedy']                                                               </span></td><td><span style=white-space:pre-wrap>['US']      </span></td><td> 4</td><td>tt0115231 </td><td>7.8</td><td> 15620</td><td> 33.544</td><td>8.300</td></tr>\n",
       "\t<tr><td>ts251477</td><td>My First Errand                 </td><td>SHOW</td><td>â€œHajimete no Otsukaiâ€ (First Errand) is a Japanese TV show that follows small children as they carry out errands for their parents.                                                                                                                                                                                                                                                                                                                                                                                                                                                                      </td><td>1991</td><td>TV-G </td><td>18</td><td>['documentation', 'family', 'reality']                                             </td><td>['JP']      </td><td>12</td><td>          </td><td> NA</td><td>    NA</td><td>  7.730</td><td>7.800</td></tr>\n",
       "\t<tr><td>ts22286 </td><td>Cardcaptor Sakura               </td><td>SHOW</td><td>Sakura Kinomoto, an elementary school student who discovers that she possesses magical powers after accidentally freeing a set of magical cards from the book they had been sealed in for years. She is then tasked with retrieving those cards in order to avoid an unknown catastrophe from befalling the world.                                                                                                                                                                                                                                                                                           </td><td>1998</td><td>TV-Y7</td><td>25</td><td>['scifi', 'animation', 'action', 'comedy', 'drama', 'family', 'fantasy', 'romance']</td><td>['JP']      </td><td> 4</td><td>tt0221735 </td><td>8.0</td><td>  5008</td><td> 35.757</td><td>8.700</td></tr>\n",
       "\t<tr><td>ts11397 </td><td>Adventures of Sonic the Hedgehog</td><td>SHOW</td><td>Follow the adventures of Sonic the Hedgehog, and his sidekick Tails, as they attempt to stop Dr. Robotnik and his array of robots from taking over the planet Mobius.                                                                                                                                                                                                                                                                                                                                                                                                                                        </td><td>1993</td><td>TV-Y7</td><td>22</td><td>['scifi', 'animation', 'action', 'comedy', 'family', 'fantasy', 'western']         </td><td>['US']      </td><td> 4</td><td>tt0222518 </td><td>6.2</td><td>  3902</td><td> 13.313</td><td>6.300</td></tr>\n",
       "\t<tr><td>ts20918 </td><td>The Parkers                     </td><td>SHOW</td><td>The Parkers is an American sitcom that aired on UPN from August 30, 1999, to May 10, 2004. A spin-off of UPN's Moesha, The Parkers features the mother-daughter team of Nikki and Kim Parker. The Parkers' signature \"Heeyyy\" greeting became very popular in the early 2000s.                                                                                                                                                                                                                                                                                                                               </td><td>1999</td><td>TV-PG</td><td>19</td><td>['comedy']                                                                         </td><td>['US']      </td><td> 5</td><td>tt0200353 </td><td>6.8</td><td>  2377</td><td>  5.745</td><td>8.100</td></tr>\n",
       "\t<tr><td>ts21693 </td><td>Sister, Sister                  </td><td>SHOW</td><td>Twins Tia Landry and Tamera Campbell were separated and adopted at birth. Fourteen years later, they encounter each other by chance at the mall. After the families meet, Tia's widowed father agrees to let Tamera and her single mother move in with them.                                                                                                                                                                                                                                                                                                                                                 </td><td>1994</td><td>TV-PG</td><td>22</td><td>['comedy', 'drama', 'family']                                                      </td><td>['US']      </td><td> 6</td><td>tt0108927 </td><td>6.2</td><td> 12657</td><td> 21.489</td><td>7.500</td></tr>\n",
       "\t<tr><td>ts20939 </td><td><span style=white-space:pre-wrap>Moesha                          </span></td><td>SHOW</td><td>Moesha was an American sitcom series that aired on the UPN network from January 23, 1996 to May 14, 2001. The series stars R&amp;B singer Brandy Norwood as Moesha Mitchell, a high school student living with her family in the Leimert Park neighborhood of South Central Los Angeles. It was originally ordered as a pilot for the CBS network's 1995-1996 television season, who rejected. It was then picked up by UPN, who aired it as a mid-season replacement. It went on to become the biggest success for the nascent network and one of the greatest hits over the course of the network's entire run.</td><td>1996</td><td>TV-PG</td><td>21</td><td><span style=white-space:pre-wrap>['drama', 'comedy', 'family']                                                      </span></td><td><span style=white-space:pre-wrap>['US']      </span></td><td> 6</td><td>tt0115275 </td><td>5.8</td><td><span style=white-space:pre-wrap>  3747</span></td><td> 10.901</td><td>7.000</td></tr>\n",
       "\t<tr><td>ts21684 </td><td>Heartbreak High                 </td><td>SHOW</td><td>The ins and outs of the classroom lives of a group of students who attend the fictional Hartley High School in Sydney.                                                                                                                                                                                                                                                                                                                                                                                                                                                                                       </td><td>1994</td><td>TV-MA</td><td>45</td><td>['drama', 'romance', 'comedy']                                                     </td><td>['AU']      </td><td> 7</td><td>tt5582224 </td><td>7.8</td><td>  3139</td><td>  7.222</td><td>7.300</td></tr>\n",
       "\t<tr><td>ts22080 </td><td>Oggy and the Cockroaches        </td><td>SHOW</td><td>Oggy, an anthropomorphic cat, would prefer to spend his days watching television and eating, but is continuously pestered by three roaches: Joey, Marky and Dee Dee. The cockroaches' slapstick mischief ranges from plundering Oggy's refrigerator to hijacking the train he just boarded. In many situations Oggy is also helped by Jack, who is more violent and short-tempered than him and is also annoyed by the cockroaches. Bob, a short-tempered bulldog, also appears in the show, and is Oggy's neighbor.                                                                                         </td><td>1999</td><td>TV-Y7</td><td> 9</td><td>['animation', 'comedy', 'family', 'action', 'european']                            </td><td>['FR']      </td><td> 7</td><td>tt0213363 </td><td>7.4</td><td>  4281</td><td> 40.189</td><td>7.500</td></tr>\n",
       "\t<tr><td>ts22039 </td><td>H                               </td><td>SHOW</td><td>H is a French sitcom with seventy-one, 22-minute episodes. The series was created by Kader Aoun, Xavier Matthieu and Ã‰ric Judor, and produced by Phillippe Berthe, Ã‰douard Molinaro, Jean-Luc Moreau and Charles NÃ©mÃ¨s. It ran from 24 October 1998 to 20 April 2002 on Canal+. In Canada, it is shown weekly on TV5.\n",
       "\n",
       "The title \"H\" comes from the three words that characterize the series: Humour, Histoire et HÃ´pital.                                                                                                                                                                            </td><td>1998</td><td>TV-MA</td><td>25</td><td>['comedy']                                                                         </td><td>['FR']      </td><td> 4</td><td>tt0173554 </td><td>7.4</td><td>  1727</td><td>  7.905</td><td>7.600</td></tr>\n",
       "\t<tr><td>ts224786</td><td>Escalona                        </td><td>SHOW</td><td>The improbable real life of Rafael Escalona, who had no music education and became Colombia's king of vallenato music, chronicling everyday life.                                                                                                                                                                                                                                                                                                                                                                                                                                                            </td><td>1991</td><td>TV-MA</td><td>44</td><td>['drama']                                                                          </td><td>['CO']      </td><td> 1</td><td>          </td><td> NA</td><td>    NA</td><td>  7.352</td><td>7.600</td></tr>\n",
       "</tbody>\n",
       "</table>\n"
      ],
      "text/latex": [
       "A data.frame: 23 × 15\n",
       "\\begin{tabular}{lllllllllllllll}\n",
       " id & title & type & description & release\\_year & age\\_certification & runtime & genres & production\\_countries & seasons & imdb\\_id & imdb\\_score & imdb\\_votes & tmdb\\_popularity & tmdb\\_score\\\\\n",
       " <chr> & <chr> & <chr> & <chr> & <int> & <chr> & <int> & <chr> & <chr> & <dbl> & <chr> & <dbl> & <dbl> & <dbl> & <dbl>\\\\\n",
       "\\hline\n",
       "\t ts22176  & Stargate SG-1                    & SHOW & The story of Stargate SG-1 begins about a year after the events of the feature film, when the United States government learns that an ancient alien device called the Stargate can access a network of such devices on a multitude of planets. SG-1 is an elite Air Force special operations team, one of more than two dozen teams from Earth who explore the galaxy and defend against alien threats such as the Goa'uld, Replicators, and the Ori.                                                                                                                                                         & 1997 & TV-PG & 44 & {[}'scifi', 'drama', 'action'{]}                                                        & {[}'CA', 'US'{]} & 10 & tt0118480  & 8.4 &  90196 &  88.851 & 8.300\\\\\n",
       "\t ts21223  & PokÃ©mon                         & SHOW & Join Ash accompanied by his partner Pikachu, as he travels through many regions, meets new friends and faces new challenges on his quest to become a PokÃ©mon Master.                                                                                                                                                                                                                                                                                                                                                                                                                                         & 1997 & TV-Y7 & 22 & {[}'action', 'scifi', 'animation', 'comedy', 'fantasy', 'family'{]}                     & {[}'JP'{]}       & 25 & tt14053732 & 7.4 &    198 & 115.356 & 7.633\\\\\n",
       "\t ts20339  & One Piece                        & SHOW & Years ago, the fearsome Pirate King, Gol D. Roger was executed leaving a huge pile of treasure and the famous \"One Piece\" behind. Whoever claims the \"One Piece\" will be named the new King of the Pirates. Monkey D. Luffy, a boy who consumed a \"Devil Fruit,\" decides to follow in the footsteps of his idol, the pirate Shanks, and find the One Piece. It helps, of course, that his body has the properties of rubber and that he's surrounded by a bevy of skilled fighters and thieves to help him along the way. Luffy will do anything to get the One Piece and become King of the Pirates!         & 1999 & TV-14 & 23 & {[}'animation', 'action', 'comedy', 'drama', 'fantasy'{]}                               & {[}'JP'{]}       & 21 & tt0388629  & 8.8 & 117129 & 143.457 & 8.764\\\\\n",
       "\t ts5145   & The Challenge                    & SHOW & Each Challenge pits numerous cast members from past seasons of reality shows against each other, dividing them into two separate teams according to different criteria, such as gender, which show they first appeared on, whether or not they're veterans or rookies on the show, etc. The two teams compete in numerous missions in order to win prizes and advance in the overall game.                                                                                                                                                                                                                    & 1998 & TV-14 & 40 & {[}'reality', 'comedy', 'drama', 'scifi'{]}                                             & {[}'US'{]}       & 37 & tt6274074  & 7.8 &   3362 &  18.075 & 7.700\\\\\n",
       "\t ts34435  & Cowboy Bebop                     & SHOW & In 2071, roughly fifty years after an accident with a hyperspace gateway made the Earth almost uninhabitable, humanity has colonized most of the rocky planets and moons of the Solar System. Amid a rising crime rate, the Inter Solar System Police (ISSP) set up a legalized contract system, in which registered bounty hunters (also referred to as \"Cowboys\") chase criminals and bring them in alive in return for a reward.                                                                                                                                                                           & 1998 & TV-14 & 25 & {[}'animation', 'action', 'scifi', 'western', 'comedy', 'drama', 'thriller'{]}          & {[}'JP'{]}       &  1 & tt0213338  & 8.9 & 115448 &  35.402 & 8.522\\\\\n",
       "\t ts20983  & Neon Genesis Evangelion          & SHOW & At the turn of the century, the Angels returned to Earth, seeking to wipe out humanity in an apocalyptic fury. Devastated, mankind's last remnants moved underground to wait for the day when the Angels would come back to finish the job. Fifteen years later, that day has come... but this time, humanity is ready to fight back with terrifying bio-mechanical weapons known as the Evangelions. Watch as Shinji, Rei, Asuka and the rest of the mysterious shadow agency Nerv battle to save earth from total annihilation.                                                                             & 1995 & TV-14 & 24 & {[}'drama', 'scifi', 'animation', 'action', 'fantasy', 'thriller'{]}                    & {[}'JP'{]}       &  1 & tt0112159  & 8.5 &  66629 &  49.270 & 8.637\\\\\n",
       "\t ts20960  & Power Rangers                    & SHOW & A team of teenagers with attitude are recruited to save Angel Grove from the evil witch, Rita Repulsa, and later, Lord Zedd, Emperor of all he sees, and their horde of monsters.                                                                                                                                                                                                                                                                                                                                                                                                                             & 1993 & TV-Y7 & 22 & {[}'action', 'scifi', 'fantasy', 'family'{]}                                            & {[}'US'{]}       & 29 & tt0106064  & 6.5 &  22110 &  19.699 & 6.800\\\\\n",
       "\t ts25252  & Yu-Gi-Oh!                        & SHOW & A timid young boy who loves all sorts of games, one day solves an ancient puzzle known as the Millennium Puzzle, causing his body to play host to a mysterious spirit with the personality of a gambler.                                                                                                                                                                                                                                                                                                                                                                                                      & 1998 & TV-Y  & 22 & {[}'scifi', 'action', 'family', 'fantasy', 'animation', 'comedy', 'drama'{]}            & {[}'JP'{]}       &  7 & tt4834194  & 7.3 &  21113 &  33.504 & 7.358\\\\\n",
       "\t ts22193  & The Magic School Bus             & SHOW & An eccentric schoolteacher takes her class on wondrous educational field trips with the help of a magical school bus.                                                                                                                                                                                                                                                                                                                                                                                                                                                                                         & 1994 & TV-Y  & 26 & {[}'animation', 'scifi', 'comedy', 'family', 'fantasy'{]}                               & {[}'CA', 'US'{]} &  4 & tt0108847  & 7.8 &   9829 &  16.830 & 7.800\\\\\n",
       "\t ts22489  & Goosebumps                       & SHOW & Anything can turn spooky in this horror anthology series based on the best-selling books by master of kid horror, R.L. Stine. In every episode, see what happens when regular kids find themselves in scary situations, and how they work to confront and overcome their fears.                                                                                                                                                                                                                                                                                                                               & 1995 & TV-PG & 22 & {[}'scifi', 'thriller', 'family', 'fantasy', 'horror', 'music'{]}                       & {[}'US', 'CA'{]} &  4 & tt0111987  & 7.6 &  13493 &  63.687 & 7.900\\\\\n",
       "\t ts16919  & All That                         & SHOW & The new kids of comedy bring the funny as All That, Americaâ€™s \\#1 kidâ€™s sketch comedy show, returns with a new cast and a few familiar faces. From Executive Producers Kenan Thompson and Kel Mitchell.                                                                                                                                                                                                                                                                                                                                                                                                    & 1994 & TV-G  & 22 & {[}'comedy', 'family', 'music'{]}                                                       & {[}'US'{]}       & 11 & tt0111875  & 7.5 &   7718 &   6.688 & 8.400\\\\\n",
       "\t ts8570   & Barney \\& Friends                 & SHOW & Barney \\& Friends is an American children's television series aimed at children from ages 2 to 5. The series, which first aired on April 6, 1992, features the title character Barney, a purple anthropomorphic Tyrannosaurus rex who conveys educational messages through songs and small dance routines with a friendly, optimistic attitude.\n",
       "\n",
       "New episodes have not been produced since 2009; however reruns continue to air on various PBS stations.                                                                                                                                                     & 1992 & TV-G  & 28 & {[}'comedy', 'family'{]}                                                                & {[}'US'{]}       & 14 & tt0144701  & 3.8 &   9624 &  14.641 & 4.900\\\\\n",
       "\t ts27693  & Kenan \\& Kel                      & SHOW & Set in Chicago, the show follows the kid-friendly misadventures of two high-school friends who are always scheming and dreaming. Kenan, who works at a grocery store, constantly devises crazy plans to strike it rich, while orange-soda-loving buddy Kel is always dragged along for the ride despite his track record for messing things up.                                                                                                                                                                                                                                                               & 1996 & TV-Y7 & 25 & {[}'family', 'comedy'{]}                                                                & {[}'US'{]}       &  4 & tt0115231  & 7.8 &  15620 &  33.544 & 8.300\\\\\n",
       "\t ts251477 & My First Errand                  & SHOW & â€œHajimete no Otsukaiâ€ (First Errand) is a Japanese TV show that follows small children as they carry out errands for their parents.                                                                                                                                                                                                                                                                                                                                                                                                                                                                       & 1991 & TV-G  & 18 & {[}'documentation', 'family', 'reality'{]}                                              & {[}'JP'{]}       & 12 &            &  NA &     NA &   7.730 & 7.800\\\\\n",
       "\t ts22286  & Cardcaptor Sakura                & SHOW & Sakura Kinomoto, an elementary school student who discovers that she possesses magical powers after accidentally freeing a set of magical cards from the book they had been sealed in for years. She is then tasked with retrieving those cards in order to avoid an unknown catastrophe from befalling the world.                                                                                                                                                                                                                                                                                            & 1998 & TV-Y7 & 25 & {[}'scifi', 'animation', 'action', 'comedy', 'drama', 'family', 'fantasy', 'romance'{]} & {[}'JP'{]}       &  4 & tt0221735  & 8.0 &   5008 &  35.757 & 8.700\\\\\n",
       "\t ts11397  & Adventures of Sonic the Hedgehog & SHOW & Follow the adventures of Sonic the Hedgehog, and his sidekick Tails, as they attempt to stop Dr. Robotnik and his array of robots from taking over the planet Mobius.                                                                                                                                                                                                                                                                                                                                                                                                                                         & 1993 & TV-Y7 & 22 & {[}'scifi', 'animation', 'action', 'comedy', 'family', 'fantasy', 'western'{]}          & {[}'US'{]}       &  4 & tt0222518  & 6.2 &   3902 &  13.313 & 6.300\\\\\n",
       "\t ts20918  & The Parkers                      & SHOW & The Parkers is an American sitcom that aired on UPN from August 30, 1999, to May 10, 2004. A spin-off of UPN's Moesha, The Parkers features the mother-daughter team of Nikki and Kim Parker. The Parkers' signature \"Heeyyy\" greeting became very popular in the early 2000s.                                                                                                                                                                                                                                                                                                                                & 1999 & TV-PG & 19 & {[}'comedy'{]}                                                                          & {[}'US'{]}       &  5 & tt0200353  & 6.8 &   2377 &   5.745 & 8.100\\\\\n",
       "\t ts21693  & Sister, Sister                   & SHOW & Twins Tia Landry and Tamera Campbell were separated and adopted at birth. Fourteen years later, they encounter each other by chance at the mall. After the families meet, Tia's widowed father agrees to let Tamera and her single mother move in with them.                                                                                                                                                                                                                                                                                                                                                  & 1994 & TV-PG & 22 & {[}'comedy', 'drama', 'family'{]}                                                       & {[}'US'{]}       &  6 & tt0108927  & 6.2 &  12657 &  21.489 & 7.500\\\\\n",
       "\t ts20939  & Moesha                           & SHOW & Moesha was an American sitcom series that aired on the UPN network from January 23, 1996 to May 14, 2001. The series stars R\\&B singer Brandy Norwood as Moesha Mitchell, a high school student living with her family in the Leimert Park neighborhood of South Central Los Angeles. It was originally ordered as a pilot for the CBS network's 1995-1996 television season, who rejected. It was then picked up by UPN, who aired it as a mid-season replacement. It went on to become the biggest success for the nascent network and one of the greatest hits over the course of the network's entire run. & 1996 & TV-PG & 21 & {[}'drama', 'comedy', 'family'{]}                                                       & {[}'US'{]}       &  6 & tt0115275  & 5.8 &   3747 &  10.901 & 7.000\\\\\n",
       "\t ts21684  & Heartbreak High                  & SHOW & The ins and outs of the classroom lives of a group of students who attend the fictional Hartley High School in Sydney.                                                                                                                                                                                                                                                                                                                                                                                                                                                                                        & 1994 & TV-MA & 45 & {[}'drama', 'romance', 'comedy'{]}                                                      & {[}'AU'{]}       &  7 & tt5582224  & 7.8 &   3139 &   7.222 & 7.300\\\\\n",
       "\t ts22080  & Oggy and the Cockroaches         & SHOW & Oggy, an anthropomorphic cat, would prefer to spend his days watching television and eating, but is continuously pestered by three roaches: Joey, Marky and Dee Dee. The cockroaches' slapstick mischief ranges from plundering Oggy's refrigerator to hijacking the train he just boarded. In many situations Oggy is also helped by Jack, who is more violent and short-tempered than him and is also annoyed by the cockroaches. Bob, a short-tempered bulldog, also appears in the show, and is Oggy's neighbor.                                                                                          & 1999 & TV-Y7 &  9 & {[}'animation', 'comedy', 'family', 'action', 'european'{]}                             & {[}'FR'{]}       &  7 & tt0213363  & 7.4 &   4281 &  40.189 & 7.500\\\\\n",
       "\t ts22039  & H                                & SHOW & H is a French sitcom with seventy-one, 22-minute episodes. The series was created by Kader Aoun, Xavier Matthieu and Ã‰ric Judor, and produced by Phillippe Berthe, Ã‰douard Molinaro, Jean-Luc Moreau and Charles NÃ©mÃ¨s. It ran from 24 October 1998 to 20 April 2002 on Canal+. In Canada, it is shown weekly on TV5.\n",
       "\n",
       "The title \"H\" comes from the three words that characterize the series: Humour, Histoire et HÃ´pital.                                                                                                                                                                             & 1998 & TV-MA & 25 & {[}'comedy'{]}                                                                          & {[}'FR'{]}       &  4 & tt0173554  & 7.4 &   1727 &   7.905 & 7.600\\\\\n",
       "\t ts224786 & Escalona                         & SHOW & The improbable real life of Rafael Escalona, who had no music education and became Colombia's king of vallenato music, chronicling everyday life.                                                                                                                                                                                                                                                                                                                                                                                                                                                             & 1991 & TV-MA & 44 & {[}'drama'{]}                                                                           & {[}'CO'{]}       &  1 &            &  NA &     NA &   7.352 & 7.600\\\\\n",
       "\\end{tabular}\n"
      ],
      "text/markdown": [
       "\n",
       "A data.frame: 23 × 15\n",
       "\n",
       "| id &lt;chr&gt; | title &lt;chr&gt; | type &lt;chr&gt; | description &lt;chr&gt; | release_year &lt;int&gt; | age_certification &lt;chr&gt; | runtime &lt;int&gt; | genres &lt;chr&gt; | production_countries &lt;chr&gt; | seasons &lt;dbl&gt; | imdb_id &lt;chr&gt; | imdb_score &lt;dbl&gt; | imdb_votes &lt;dbl&gt; | tmdb_popularity &lt;dbl&gt; | tmdb_score &lt;dbl&gt; |\n",
       "|---|---|---|---|---|---|---|---|---|---|---|---|---|---|---|\n",
       "| ts22176  | Stargate SG-1                    | SHOW | The story of Stargate SG-1 begins about a year after the events of the feature film, when the United States government learns that an ancient alien device called the Stargate can access a network of such devices on a multitude of planets. SG-1 is an elite Air Force special operations team, one of more than two dozen teams from Earth who explore the galaxy and defend against alien threats such as the Goa'uld, Replicators, and the Ori.                                                                                                                                                         | 1997 | TV-PG | 44 | ['scifi', 'drama', 'action']                                                        | ['CA', 'US'] | 10 | tt0118480  | 8.4 |  90196 |  88.851 | 8.300 |\n",
       "| ts21223  | PokÃ©mon                         | SHOW | Join Ash accompanied by his partner Pikachu, as he travels through many regions, meets new friends and faces new challenges on his quest to become a PokÃ©mon Master.                                                                                                                                                                                                                                                                                                                                                                                                                                         | 1997 | TV-Y7 | 22 | ['action', 'scifi', 'animation', 'comedy', 'fantasy', 'family']                     | ['JP']       | 25 | tt14053732 | 7.4 |    198 | 115.356 | 7.633 |\n",
       "| ts20339  | One Piece                        | SHOW | Years ago, the fearsome Pirate King, Gol D. Roger was executed leaving a huge pile of treasure and the famous \"One Piece\" behind. Whoever claims the \"One Piece\" will be named the new King of the Pirates. Monkey D. Luffy, a boy who consumed a \"Devil Fruit,\" decides to follow in the footsteps of his idol, the pirate Shanks, and find the One Piece. It helps, of course, that his body has the properties of rubber and that he's surrounded by a bevy of skilled fighters and thieves to help him along the way. Luffy will do anything to get the One Piece and become King of the Pirates!         | 1999 | TV-14 | 23 | ['animation', 'action', 'comedy', 'drama', 'fantasy']                               | ['JP']       | 21 | tt0388629  | 8.8 | 117129 | 143.457 | 8.764 |\n",
       "| ts5145   | The Challenge                    | SHOW | Each Challenge pits numerous cast members from past seasons of reality shows against each other, dividing them into two separate teams according to different criteria, such as gender, which show they first appeared on, whether or not they're veterans or rookies on the show, etc. The two teams compete in numerous missions in order to win prizes and advance in the overall game.                                                                                                                                                                                                                    | 1998 | TV-14 | 40 | ['reality', 'comedy', 'drama', 'scifi']                                             | ['US']       | 37 | tt6274074  | 7.8 |   3362 |  18.075 | 7.700 |\n",
       "| ts34435  | Cowboy Bebop                     | SHOW | In 2071, roughly fifty years after an accident with a hyperspace gateway made the Earth almost uninhabitable, humanity has colonized most of the rocky planets and moons of the Solar System. Amid a rising crime rate, the Inter Solar System Police (ISSP) set up a legalized contract system, in which registered bounty hunters (also referred to as \"Cowboys\") chase criminals and bring them in alive in return for a reward.                                                                                                                                                                           | 1998 | TV-14 | 25 | ['animation', 'action', 'scifi', 'western', 'comedy', 'drama', 'thriller']          | ['JP']       |  1 | tt0213338  | 8.9 | 115448 |  35.402 | 8.522 |\n",
       "| ts20983  | Neon Genesis Evangelion          | SHOW | At the turn of the century, the Angels returned to Earth, seeking to wipe out humanity in an apocalyptic fury. Devastated, mankind's last remnants moved underground to wait for the day when the Angels would come back to finish the job. Fifteen years later, that day has come... but this time, humanity is ready to fight back with terrifying bio-mechanical weapons known as the Evangelions. Watch as Shinji, Rei, Asuka and the rest of the mysterious shadow agency Nerv battle to save earth from total annihilation.                                                                             | 1995 | TV-14 | 24 | ['drama', 'scifi', 'animation', 'action', 'fantasy', 'thriller']                    | ['JP']       |  1 | tt0112159  | 8.5 |  66629 |  49.270 | 8.637 |\n",
       "| ts20960  | Power Rangers                    | SHOW | A team of teenagers with attitude are recruited to save Angel Grove from the evil witch, Rita Repulsa, and later, Lord Zedd, Emperor of all he sees, and their horde of monsters.                                                                                                                                                                                                                                                                                                                                                                                                                             | 1993 | TV-Y7 | 22 | ['action', 'scifi', 'fantasy', 'family']                                            | ['US']       | 29 | tt0106064  | 6.5 |  22110 |  19.699 | 6.800 |\n",
       "| ts25252  | Yu-Gi-Oh!                        | SHOW | A timid young boy who loves all sorts of games, one day solves an ancient puzzle known as the Millennium Puzzle, causing his body to play host to a mysterious spirit with the personality of a gambler.                                                                                                                                                                                                                                                                                                                                                                                                      | 1998 | TV-Y  | 22 | ['scifi', 'action', 'family', 'fantasy', 'animation', 'comedy', 'drama']            | ['JP']       |  7 | tt4834194  | 7.3 |  21113 |  33.504 | 7.358 |\n",
       "| ts22193  | The Magic School Bus             | SHOW | An eccentric schoolteacher takes her class on wondrous educational field trips with the help of a magical school bus.                                                                                                                                                                                                                                                                                                                                                                                                                                                                                         | 1994 | TV-Y  | 26 | ['animation', 'scifi', 'comedy', 'family', 'fantasy']                               | ['CA', 'US'] |  4 | tt0108847  | 7.8 |   9829 |  16.830 | 7.800 |\n",
       "| ts22489  | Goosebumps                       | SHOW | Anything can turn spooky in this horror anthology series based on the best-selling books by master of kid horror, R.L. Stine. In every episode, see what happens when regular kids find themselves in scary situations, and how they work to confront and overcome their fears.                                                                                                                                                                                                                                                                                                                               | 1995 | TV-PG | 22 | ['scifi', 'thriller', 'family', 'fantasy', 'horror', 'music']                       | ['US', 'CA'] |  4 | tt0111987  | 7.6 |  13493 |  63.687 | 7.900 |\n",
       "| ts16919  | All That                         | SHOW | The new kids of comedy bring the funny as All That, Americaâ€™s #1 kidâ€™s sketch comedy show, returns with a new cast and a few familiar faces. From Executive Producers Kenan Thompson and Kel Mitchell.                                                                                                                                                                                                                                                                                                                                                                                                    | 1994 | TV-G  | 22 | ['comedy', 'family', 'music']                                                       | ['US']       | 11 | tt0111875  | 7.5 |   7718 |   6.688 | 8.400 |\n",
       "| ts8570   | Barney &amp; Friends                 | SHOW | Barney &amp; Friends is an American children's television series aimed at children from ages 2 to 5. The series, which first aired on April 6, 1992, features the title character Barney, a purple anthropomorphic Tyrannosaurus rex who conveys educational messages through songs and small dance routines with a friendly, optimistic attitude.\n",
       "\n",
       "New episodes have not been produced since 2009; however reruns continue to air on various PBS stations.                                                                                                                                                     | 1992 | TV-G  | 28 | ['comedy', 'family']                                                                | ['US']       | 14 | tt0144701  | 3.8 |   9624 |  14.641 | 4.900 |\n",
       "| ts27693  | Kenan &amp; Kel                      | SHOW | Set in Chicago, the show follows the kid-friendly misadventures of two high-school friends who are always scheming and dreaming. Kenan, who works at a grocery store, constantly devises crazy plans to strike it rich, while orange-soda-loving buddy Kel is always dragged along for the ride despite his track record for messing things up.                                                                                                                                                                                                                                                               | 1996 | TV-Y7 | 25 | ['family', 'comedy']                                                                | ['US']       |  4 | tt0115231  | 7.8 |  15620 |  33.544 | 8.300 |\n",
       "| ts251477 | My First Errand                  | SHOW | â€œHajimete no Otsukaiâ€ (First Errand) is a Japanese TV show that follows small children as they carry out errands for their parents.                                                                                                                                                                                                                                                                                                                                                                                                                                                                       | 1991 | TV-G  | 18 | ['documentation', 'family', 'reality']                                              | ['JP']       | 12 | <!----> |  NA |     NA |   7.730 | 7.800 |\n",
       "| ts22286  | Cardcaptor Sakura                | SHOW | Sakura Kinomoto, an elementary school student who discovers that she possesses magical powers after accidentally freeing a set of magical cards from the book they had been sealed in for years. She is then tasked with retrieving those cards in order to avoid an unknown catastrophe from befalling the world.                                                                                                                                                                                                                                                                                            | 1998 | TV-Y7 | 25 | ['scifi', 'animation', 'action', 'comedy', 'drama', 'family', 'fantasy', 'romance'] | ['JP']       |  4 | tt0221735  | 8.0 |   5008 |  35.757 | 8.700 |\n",
       "| ts11397  | Adventures of Sonic the Hedgehog | SHOW | Follow the adventures of Sonic the Hedgehog, and his sidekick Tails, as they attempt to stop Dr. Robotnik and his array of robots from taking over the planet Mobius.                                                                                                                                                                                                                                                                                                                                                                                                                                         | 1993 | TV-Y7 | 22 | ['scifi', 'animation', 'action', 'comedy', 'family', 'fantasy', 'western']          | ['US']       |  4 | tt0222518  | 6.2 |   3902 |  13.313 | 6.300 |\n",
       "| ts20918  | The Parkers                      | SHOW | The Parkers is an American sitcom that aired on UPN from August 30, 1999, to May 10, 2004. A spin-off of UPN's Moesha, The Parkers features the mother-daughter team of Nikki and Kim Parker. The Parkers' signature \"Heeyyy\" greeting became very popular in the early 2000s.                                                                                                                                                                                                                                                                                                                                | 1999 | TV-PG | 19 | ['comedy']                                                                          | ['US']       |  5 | tt0200353  | 6.8 |   2377 |   5.745 | 8.100 |\n",
       "| ts21693  | Sister, Sister                   | SHOW | Twins Tia Landry and Tamera Campbell were separated and adopted at birth. Fourteen years later, they encounter each other by chance at the mall. After the families meet, Tia's widowed father agrees to let Tamera and her single mother move in with them.                                                                                                                                                                                                                                                                                                                                                  | 1994 | TV-PG | 22 | ['comedy', 'drama', 'family']                                                       | ['US']       |  6 | tt0108927  | 6.2 |  12657 |  21.489 | 7.500 |\n",
       "| ts20939  | Moesha                           | SHOW | Moesha was an American sitcom series that aired on the UPN network from January 23, 1996 to May 14, 2001. The series stars R&amp;B singer Brandy Norwood as Moesha Mitchell, a high school student living with her family in the Leimert Park neighborhood of South Central Los Angeles. It was originally ordered as a pilot for the CBS network's 1995-1996 television season, who rejected. It was then picked up by UPN, who aired it as a mid-season replacement. It went on to become the biggest success for the nascent network and one of the greatest hits over the course of the network's entire run. | 1996 | TV-PG | 21 | ['drama', 'comedy', 'family']                                                       | ['US']       |  6 | tt0115275  | 5.8 |   3747 |  10.901 | 7.000 |\n",
       "| ts21684  | Heartbreak High                  | SHOW | The ins and outs of the classroom lives of a group of students who attend the fictional Hartley High School in Sydney.                                                                                                                                                                                                                                                                                                                                                                                                                                                                                        | 1994 | TV-MA | 45 | ['drama', 'romance', 'comedy']                                                      | ['AU']       |  7 | tt5582224  | 7.8 |   3139 |   7.222 | 7.300 |\n",
       "| ts22080  | Oggy and the Cockroaches         | SHOW | Oggy, an anthropomorphic cat, would prefer to spend his days watching television and eating, but is continuously pestered by three roaches: Joey, Marky and Dee Dee. The cockroaches' slapstick mischief ranges from plundering Oggy's refrigerator to hijacking the train he just boarded. In many situations Oggy is also helped by Jack, who is more violent and short-tempered than him and is also annoyed by the cockroaches. Bob, a short-tempered bulldog, also appears in the show, and is Oggy's neighbor.                                                                                          | 1999 | TV-Y7 |  9 | ['animation', 'comedy', 'family', 'action', 'european']                             | ['FR']       |  7 | tt0213363  | 7.4 |   4281 |  40.189 | 7.500 |\n",
       "| ts22039  | H                                | SHOW | H is a French sitcom with seventy-one, 22-minute episodes. The series was created by Kader Aoun, Xavier Matthieu and Ã‰ric Judor, and produced by Phillippe Berthe, Ã‰douard Molinaro, Jean-Luc Moreau and Charles NÃ©mÃ¨s. It ran from 24 October 1998 to 20 April 2002 on Canal+. In Canada, it is shown weekly on TV5.\n",
       "\n",
       "The title \"H\" comes from the three words that characterize the series: Humour, Histoire et HÃ´pital.                                                                                                                                                                             | 1998 | TV-MA | 25 | ['comedy']                                                                          | ['FR']       |  4 | tt0173554  | 7.4 |   1727 |   7.905 | 7.600 |\n",
       "| ts224786 | Escalona                         | SHOW | The improbable real life of Rafael Escalona, who had no music education and became Colombia's king of vallenato music, chronicling everyday life.                                                                                                                                                                                                                                                                                                                                                                                                                                                             | 1991 | TV-MA | 44 | ['drama']                                                                           | ['CO']       |  1 | <!----> |  NA |     NA |   7.352 | 7.600 |\n",
       "\n"
      ],
      "text/plain": [
       "   id       title                            type\n",
       "1  ts22176  Stargate SG-1                    SHOW\n",
       "2  ts21223  PokÃ©mon                         SHOW\n",
       "3  ts20339  One Piece                        SHOW\n",
       "4  ts5145   The Challenge                    SHOW\n",
       "5  ts34435  Cowboy Bebop                     SHOW\n",
       "6  ts20983  Neon Genesis Evangelion          SHOW\n",
       "7  ts20960  Power Rangers                    SHOW\n",
       "8  ts25252  Yu-Gi-Oh!                        SHOW\n",
       "9  ts22193  The Magic School Bus             SHOW\n",
       "10 ts22489  Goosebumps                       SHOW\n",
       "11 ts16919  All That                         SHOW\n",
       "12 ts8570   Barney & Friends                 SHOW\n",
       "13 ts27693  Kenan & Kel                      SHOW\n",
       "14 ts251477 My First Errand                  SHOW\n",
       "15 ts22286  Cardcaptor Sakura                SHOW\n",
       "16 ts11397  Adventures of Sonic the Hedgehog SHOW\n",
       "17 ts20918  The Parkers                      SHOW\n",
       "18 ts21693  Sister, Sister                   SHOW\n",
       "19 ts20939  Moesha                           SHOW\n",
       "20 ts21684  Heartbreak High                  SHOW\n",
       "21 ts22080  Oggy and the Cockroaches         SHOW\n",
       "22 ts22039  H                                SHOW\n",
       "23 ts224786 Escalona                         SHOW\n",
       "   description                                                                                                                                                                                                                                                                                                                                                                                                                                                                                                                                                                                                  \n",
       "1  The story of Stargate SG-1 begins about a year after the events of the feature film, when the United States government learns that an ancient alien device called the Stargate can access a network of such devices on a multitude of planets. SG-1 is an elite Air Force special operations team, one of more than two dozen teams from Earth who explore the galaxy and defend against alien threats such as the Goa'uld, Replicators, and the Ori.                                                                                                                                                        \n",
       "2  Join Ash accompanied by his partner Pikachu, as he travels through many regions, meets new friends and faces new challenges on his quest to become a PokÃ©mon Master.                                                                                                                                                                                                                                                                                                                                                                                                                                        \n",
       "3  Years ago, the fearsome Pirate King, Gol D. Roger was executed leaving a huge pile of treasure and the famous \"One Piece\" behind. Whoever claims the \"One Piece\" will be named the new King of the Pirates. Monkey D. Luffy, a boy who consumed a \"Devil Fruit,\" decides to follow in the footsteps of his idol, the pirate Shanks, and find the One Piece. It helps, of course, that his body has the properties of rubber and that he's surrounded by a bevy of skilled fighters and thieves to help him along the way. Luffy will do anything to get the One Piece and become King of the Pirates!        \n",
       "4  Each Challenge pits numerous cast members from past seasons of reality shows against each other, dividing them into two separate teams according to different criteria, such as gender, which show they first appeared on, whether or not they're veterans or rookies on the show, etc. The two teams compete in numerous missions in order to win prizes and advance in the overall game.                                                                                                                                                                                                                   \n",
       "5  In 2071, roughly fifty years after an accident with a hyperspace gateway made the Earth almost uninhabitable, humanity has colonized most of the rocky planets and moons of the Solar System. Amid a rising crime rate, the Inter Solar System Police (ISSP) set up a legalized contract system, in which registered bounty hunters (also referred to as \"Cowboys\") chase criminals and bring them in alive in return for a reward.                                                                                                                                                                          \n",
       "6  At the turn of the century, the Angels returned to Earth, seeking to wipe out humanity in an apocalyptic fury. Devastated, mankind's last remnants moved underground to wait for the day when the Angels would come back to finish the job. Fifteen years later, that day has come... but this time, humanity is ready to fight back with terrifying bio-mechanical weapons known as the Evangelions. Watch as Shinji, Rei, Asuka and the rest of the mysterious shadow agency Nerv battle to save earth from total annihilation.                                                                            \n",
       "7  A team of teenagers with attitude are recruited to save Angel Grove from the evil witch, Rita Repulsa, and later, Lord Zedd, Emperor of all he sees, and their horde of monsters.                                                                                                                                                                                                                                                                                                                                                                                                                            \n",
       "8  A timid young boy who loves all sorts of games, one day solves an ancient puzzle known as the Millennium Puzzle, causing his body to play host to a mysterious spirit with the personality of a gambler.                                                                                                                                                                                                                                                                                                                                                                                                     \n",
       "9  An eccentric schoolteacher takes her class on wondrous educational field trips with the help of a magical school bus.                                                                                                                                                                                                                                                                                                                                                                                                                                                                                        \n",
       "10 Anything can turn spooky in this horror anthology series based on the best-selling books by master of kid horror, R.L. Stine. In every episode, see what happens when regular kids find themselves in scary situations, and how they work to confront and overcome their fears.                                                                                                                                                                                                                                                                                                                              \n",
       "11 The new kids of comedy bring the funny as All That, Americaâ\\200\\231s #1 kidâ\\200\\231s sketch comedy show, returns with a new cast and a few familiar faces. From Executive Producers Kenan Thompson and Kel Mitchell.                                                                                                                                                                                                                                                                                                                                                                                                   \n",
       "12 Barney & Friends is an American children's television series aimed at children from ages 2 to 5. The series, which first aired on April 6, 1992, features the title character Barney, a purple anthropomorphic Tyrannosaurus rex who conveys educational messages through songs and small dance routines with a friendly, optimistic attitude.\\n\\nNew episodes have not been produced since 2009; however reruns continue to air on various PBS stations.                                                                                                                                                    \n",
       "13 Set in Chicago, the show follows the kid-friendly misadventures of two high-school friends who are always scheming and dreaming. Kenan, who works at a grocery store, constantly devises crazy plans to strike it rich, while orange-soda-loving buddy Kel is always dragged along for the ride despite his track record for messing things up.                                                                                                                                                                                                                                                              \n",
       "14 â\\200œHajimete no Otsukaiâ\\200\\235 (First Errand) is a Japanese TV show that follows small children as they carry out errands for their parents.                                                                                                                                                                                                                                                                                                                                                                                                                                                                      \n",
       "15 Sakura Kinomoto, an elementary school student who discovers that she possesses magical powers after accidentally freeing a set of magical cards from the book they had been sealed in for years. She is then tasked with retrieving those cards in order to avoid an unknown catastrophe from befalling the world.                                                                                                                                                                                                                                                                                           \n",
       "16 Follow the adventures of Sonic the Hedgehog, and his sidekick Tails, as they attempt to stop Dr. Robotnik and his array of robots from taking over the planet Mobius.                                                                                                                                                                                                                                                                                                                                                                                                                                        \n",
       "17 The Parkers is an American sitcom that aired on UPN from August 30, 1999, to May 10, 2004. A spin-off of UPN's Moesha, The Parkers features the mother-daughter team of Nikki and Kim Parker. The Parkers' signature \"Heeyyy\" greeting became very popular in the early 2000s.                                                                                                                                                                                                                                                                                                                               \n",
       "18 Twins Tia Landry and Tamera Campbell were separated and adopted at birth. Fourteen years later, they encounter each other by chance at the mall. After the families meet, Tia's widowed father agrees to let Tamera and her single mother move in with them.                                                                                                                                                                                                                                                                                                                                                 \n",
       "19 Moesha was an American sitcom series that aired on the UPN network from January 23, 1996 to May 14, 2001. The series stars R&B singer Brandy Norwood as Moesha Mitchell, a high school student living with her family in the Leimert Park neighborhood of South Central Los Angeles. It was originally ordered as a pilot for the CBS network's 1995-1996 television season, who rejected. It was then picked up by UPN, who aired it as a mid-season replacement. It went on to become the biggest success for the nascent network and one of the greatest hits over the course of the network's entire run.\n",
       "20 The ins and outs of the classroom lives of a group of students who attend the fictional Hartley High School in Sydney.                                                                                                                                                                                                                                                                                                                                                                                                                                                                                       \n",
       "21 Oggy, an anthropomorphic cat, would prefer to spend his days watching television and eating, but is continuously pestered by three roaches: Joey, Marky and Dee Dee. The cockroaches' slapstick mischief ranges from plundering Oggy's refrigerator to hijacking the train he just boarded. In many situations Oggy is also helped by Jack, who is more violent and short-tempered than him and is also annoyed by the cockroaches. Bob, a short-tempered bulldog, also appears in the show, and is Oggy's neighbor.                                                                                         \n",
       "22 H is a French sitcom with seventy-one, 22-minute episodes. The series was created by Kader Aoun, Xavier Matthieu and Ã‰ric Judor, and produced by Phillippe Berthe, Ã‰douard Molinaro, Jean-Luc Moreau and Charles NÃ©mÃ¨s. It ran from 24 October 1998 to 20 April 2002 on Canal+. In Canada, it is shown weekly on TV5.\\n\\nThe title \"H\" comes from the three words that characterize the series: Humour, Histoire et HÃ´pital.                                                                                                                                                                            \n",
       "23 The improbable real life of Rafael Escalona, who had no music education and became Colombia's king of vallenato music, chronicling everyday life.                                                                                                                                                                                                                                                                                                                                                                                                                                                            \n",
       "   release_year age_certification runtime\n",
       "1  1997         TV-PG             44     \n",
       "2  1997         TV-Y7             22     \n",
       "3  1999         TV-14             23     \n",
       "4  1998         TV-14             40     \n",
       "5  1998         TV-14             25     \n",
       "6  1995         TV-14             24     \n",
       "7  1993         TV-Y7             22     \n",
       "8  1998         TV-Y              22     \n",
       "9  1994         TV-Y              26     \n",
       "10 1995         TV-PG             22     \n",
       "11 1994         TV-G              22     \n",
       "12 1992         TV-G              28     \n",
       "13 1996         TV-Y7             25     \n",
       "14 1991         TV-G              18     \n",
       "15 1998         TV-Y7             25     \n",
       "16 1993         TV-Y7             22     \n",
       "17 1999         TV-PG             19     \n",
       "18 1994         TV-PG             22     \n",
       "19 1996         TV-PG             21     \n",
       "20 1994         TV-MA             45     \n",
       "21 1999         TV-Y7              9     \n",
       "22 1998         TV-MA             25     \n",
       "23 1991         TV-MA             44     \n",
       "   genres                                                                             \n",
       "1  ['scifi', 'drama', 'action']                                                       \n",
       "2  ['action', 'scifi', 'animation', 'comedy', 'fantasy', 'family']                    \n",
       "3  ['animation', 'action', 'comedy', 'drama', 'fantasy']                              \n",
       "4  ['reality', 'comedy', 'drama', 'scifi']                                            \n",
       "5  ['animation', 'action', 'scifi', 'western', 'comedy', 'drama', 'thriller']         \n",
       "6  ['drama', 'scifi', 'animation', 'action', 'fantasy', 'thriller']                   \n",
       "7  ['action', 'scifi', 'fantasy', 'family']                                           \n",
       "8  ['scifi', 'action', 'family', 'fantasy', 'animation', 'comedy', 'drama']           \n",
       "9  ['animation', 'scifi', 'comedy', 'family', 'fantasy']                              \n",
       "10 ['scifi', 'thriller', 'family', 'fantasy', 'horror', 'music']                      \n",
       "11 ['comedy', 'family', 'music']                                                      \n",
       "12 ['comedy', 'family']                                                               \n",
       "13 ['family', 'comedy']                                                               \n",
       "14 ['documentation', 'family', 'reality']                                             \n",
       "15 ['scifi', 'animation', 'action', 'comedy', 'drama', 'family', 'fantasy', 'romance']\n",
       "16 ['scifi', 'animation', 'action', 'comedy', 'family', 'fantasy', 'western']         \n",
       "17 ['comedy']                                                                         \n",
       "18 ['comedy', 'drama', 'family']                                                      \n",
       "19 ['drama', 'comedy', 'family']                                                      \n",
       "20 ['drama', 'romance', 'comedy']                                                     \n",
       "21 ['animation', 'comedy', 'family', 'action', 'european']                            \n",
       "22 ['comedy']                                                                         \n",
       "23 ['drama']                                                                          \n",
       "   production_countries seasons imdb_id    imdb_score imdb_votes\n",
       "1  ['CA', 'US']         10      tt0118480  8.4         90196    \n",
       "2  ['JP']               25      tt14053732 7.4           198    \n",
       "3  ['JP']               21      tt0388629  8.8        117129    \n",
       "4  ['US']               37      tt6274074  7.8          3362    \n",
       "5  ['JP']                1      tt0213338  8.9        115448    \n",
       "6  ['JP']                1      tt0112159  8.5         66629    \n",
       "7  ['US']               29      tt0106064  6.5         22110    \n",
       "8  ['JP']                7      tt4834194  7.3         21113    \n",
       "9  ['CA', 'US']          4      tt0108847  7.8          9829    \n",
       "10 ['US', 'CA']          4      tt0111987  7.6         13493    \n",
       "11 ['US']               11      tt0111875  7.5          7718    \n",
       "12 ['US']               14      tt0144701  3.8          9624    \n",
       "13 ['US']                4      tt0115231  7.8         15620    \n",
       "14 ['JP']               12                  NA            NA    \n",
       "15 ['JP']                4      tt0221735  8.0          5008    \n",
       "16 ['US']                4      tt0222518  6.2          3902    \n",
       "17 ['US']                5      tt0200353  6.8          2377    \n",
       "18 ['US']                6      tt0108927  6.2         12657    \n",
       "19 ['US']                6      tt0115275  5.8          3747    \n",
       "20 ['AU']                7      tt5582224  7.8          3139    \n",
       "21 ['FR']                7      tt0213363  7.4          4281    \n",
       "22 ['FR']                4      tt0173554  7.4          1727    \n",
       "23 ['CO']                1                  NA            NA    \n",
       "   tmdb_popularity tmdb_score\n",
       "1   88.851         8.300     \n",
       "2  115.356         7.633     \n",
       "3  143.457         8.764     \n",
       "4   18.075         7.700     \n",
       "5   35.402         8.522     \n",
       "6   49.270         8.637     \n",
       "7   19.699         6.800     \n",
       "8   33.504         7.358     \n",
       "9   16.830         7.800     \n",
       "10  63.687         7.900     \n",
       "11   6.688         8.400     \n",
       "12  14.641         4.900     \n",
       "13  33.544         8.300     \n",
       "14   7.730         7.800     \n",
       "15  35.757         8.700     \n",
       "16  13.313         6.300     \n",
       "17   5.745         8.100     \n",
       "18  21.489         7.500     \n",
       "19  10.901         7.000     \n",
       "20   7.222         7.300     \n",
       "21  40.189         7.500     \n",
       "22   7.905         7.600     \n",
       "23   7.352         7.600     "
      ]
     },
     "metadata": {},
     "output_type": "display_data"
    }
   ],
   "source": [
    "NetflixSHOW90"
   ]
  },
  {
   "cell_type": "code",
   "execution_count": 45,
   "id": "1d4dac78-4048-4506-bfba-63c1728d6d24",
   "metadata": {},
   "outputs": [],
   "source": [
    "NetflixSHOW00 <- (Netflix00 %>% filter(type %in% c('SHOW')))"
   ]
  },
  {
   "cell_type": "code",
   "execution_count": 46,
   "id": "5adea09a-cf58-4648-9a18-a716e55dbd96",
   "metadata": {},
   "outputs": [],
   "source": [
    "NetflixSHOW10 <- (Netflix10 %>% filter(type %in% c('SHOW')))"
   ]
  },
  {
   "cell_type": "code",
   "execution_count": 47,
   "id": "24050ae5-6d57-4e15-9c6d-1591f5674d1d",
   "metadata": {},
   "outputs": [],
   "source": [
    "TotalMeansRunTimeSHOW90 <- NetflixSHOW90 %>% summarize(Mean = mean(runtime))"
   ]
  },
  {
   "cell_type": "code",
   "execution_count": 48,
   "id": "f862b261-6183-4b6c-b5d4-565f59dd7a33",
   "metadata": {},
   "outputs": [
    {
     "data": {
      "text/html": [
       "<table class=\"dataframe\">\n",
       "<caption>A data.frame: 1 × 1</caption>\n",
       "<thead>\n",
       "\t<tr><th scope=col>Mean</th></tr>\n",
       "\t<tr><th scope=col>&lt;dbl&gt;</th></tr>\n",
       "</thead>\n",
       "<tbody>\n",
       "\t<tr><td>25.86957</td></tr>\n",
       "</tbody>\n",
       "</table>\n"
      ],
      "text/latex": [
       "A data.frame: 1 × 1\n",
       "\\begin{tabular}{l}\n",
       " Mean\\\\\n",
       " <dbl>\\\\\n",
       "\\hline\n",
       "\t 25.86957\\\\\n",
       "\\end{tabular}\n"
      ],
      "text/markdown": [
       "\n",
       "A data.frame: 1 × 1\n",
       "\n",
       "| Mean &lt;dbl&gt; |\n",
       "|---|\n",
       "| 25.86957 |\n",
       "\n"
      ],
      "text/plain": [
       "  Mean    \n",
       "1 25.86957"
      ]
     },
     "metadata": {},
     "output_type": "display_data"
    }
   ],
   "source": [
    "TotalMeansRunTimeSHOW90"
   ]
  },
  {
   "cell_type": "code",
   "execution_count": 49,
   "id": "c39ab36d-b88d-4d45-a61b-17d5fe8e1a14",
   "metadata": {},
   "outputs": [],
   "source": [
    "TotalMeansRunTimeSHOW00 <- NetflixSHOW00 %>% summarize(Mean = mean(runtime))"
   ]
  },
  {
   "cell_type": "code",
   "execution_count": 50,
   "id": "f19707a7-ea7a-440c-9e50-5dbd650d27ae",
   "metadata": {},
   "outputs": [
    {
     "data": {
      "text/html": [
       "<table class=\"dataframe\">\n",
       "<caption>A data.frame: 1 × 1</caption>\n",
       "<thead>\n",
       "\t<tr><th scope=col>Mean</th></tr>\n",
       "\t<tr><th scope=col>&lt;dbl&gt;</th></tr>\n",
       "</thead>\n",
       "<tbody>\n",
       "\t<tr><td>36.14423</td></tr>\n",
       "</tbody>\n",
       "</table>\n"
      ],
      "text/latex": [
       "A data.frame: 1 × 1\n",
       "\\begin{tabular}{l}\n",
       " Mean\\\\\n",
       " <dbl>\\\\\n",
       "\\hline\n",
       "\t 36.14423\\\\\n",
       "\\end{tabular}\n"
      ],
      "text/markdown": [
       "\n",
       "A data.frame: 1 × 1\n",
       "\n",
       "| Mean &lt;dbl&gt; |\n",
       "|---|\n",
       "| 36.14423 |\n",
       "\n"
      ],
      "text/plain": [
       "  Mean    \n",
       "1 36.14423"
      ]
     },
     "metadata": {},
     "output_type": "display_data"
    }
   ],
   "source": [
    "TotalMeansRunTimeSHOW00"
   ]
  },
  {
   "cell_type": "code",
   "execution_count": 51,
   "id": "17f5d055-6f31-47ea-bbb2-2f24cfb52c8b",
   "metadata": {},
   "outputs": [],
   "source": [
    "TotalMeansRunTimeSHOW10 <- NetflixSHOW10 %>% summarize(Mean = mean(runtime))"
   ]
  },
  {
   "cell_type": "code",
   "execution_count": 52,
   "id": "97bedff2-1b82-47e1-8da5-26d67351e175",
   "metadata": {},
   "outputs": [
    {
     "data": {
      "text/html": [
       "<table class=\"dataframe\">\n",
       "<caption>A data.frame: 1 × 1</caption>\n",
       "<thead>\n",
       "\t<tr><th scope=col>Mean</th></tr>\n",
       "\t<tr><th scope=col>&lt;dbl&gt;</th></tr>\n",
       "</thead>\n",
       "<tbody>\n",
       "\t<tr><td>38.67466</td></tr>\n",
       "</tbody>\n",
       "</table>\n"
      ],
      "text/latex": [
       "A data.frame: 1 × 1\n",
       "\\begin{tabular}{l}\n",
       " Mean\\\\\n",
       " <dbl>\\\\\n",
       "\\hline\n",
       "\t 38.67466\\\\\n",
       "\\end{tabular}\n"
      ],
      "text/markdown": [
       "\n",
       "A data.frame: 1 × 1\n",
       "\n",
       "| Mean &lt;dbl&gt; |\n",
       "|---|\n",
       "| 38.67466 |\n",
       "\n"
      ],
      "text/plain": [
       "  Mean    \n",
       "1 38.67466"
      ]
     },
     "metadata": {},
     "output_type": "display_data"
    }
   ],
   "source": [
    "TotalMeansRunTimeSHOW10"
   ]
  },
  {
   "cell_type": "markdown",
   "id": "5c9b0afb-0291-4deb-a209-cabd5c4c37ad",
   "metadata": {},
   "source": [
    "# RECODE "
   ]
  },
  {
   "cell_type": "code",
   "execution_count": 53,
   "id": "38536689-a29e-435e-933b-3a28b65b7aa7",
   "metadata": {},
   "outputs": [],
   "source": [
    "NetflixRecode = read.csv('C:/users/Summe/Documents/GitHub/Group-Project-/Data/PythonRecodeforNetflix.csv')"
   ]
  },
  {
   "cell_type": "code",
   "execution_count": 54,
   "id": "2cca0d4d-1ea6-4753-9a01-8975cdf74eba",
   "metadata": {
    "collapsed": true,
    "jupyter": {
     "outputs_hidden": true
    },
    "tags": []
   },
   "outputs": [
    {
     "data": {
      "text/html": [
       "<table class=\"dataframe\">\n",
       "<caption>A data.frame: 5850 × 16</caption>\n",
       "<thead>\n",
       "\t<tr><th scope=col>id</th><th scope=col>title</th><th scope=col>type</th><th scope=col>description</th><th scope=col>release_year</th><th scope=col>age_certification</th><th scope=col>runtime</th><th scope=col>genres</th><th scope=col>production_countries</th><th scope=col>seasons</th><th scope=col>imdb_id</th><th scope=col>imdb_score</th><th scope=col>imdb_votes</th><th scope=col>tmdb_popularity</th><th scope=col>tmdb_score</th><th scope=col>Realease_Year1</th></tr>\n",
       "\t<tr><th scope=col>&lt;chr&gt;</th><th scope=col>&lt;chr&gt;</th><th scope=col>&lt;chr&gt;</th><th scope=col>&lt;chr&gt;</th><th scope=col>&lt;int&gt;</th><th scope=col>&lt;chr&gt;</th><th scope=col>&lt;int&gt;</th><th scope=col>&lt;chr&gt;</th><th scope=col>&lt;chr&gt;</th><th scope=col>&lt;dbl&gt;</th><th scope=col>&lt;chr&gt;</th><th scope=col>&lt;dbl&gt;</th><th scope=col>&lt;dbl&gt;</th><th scope=col>&lt;dbl&gt;</th><th scope=col>&lt;dbl&gt;</th><th scope=col>&lt;int&gt;</th></tr>\n",
       "</thead>\n",
       "<tbody>\n",
       "\t<tr><td>ts300399</td><td>Five Came Back: The Reference Films</td><td>SHOW </td><td>This collection includes 12 World War II-era propaganda films â€” many of which are graphic and offensive â€” discussed in the docuseries \"Five Came Back.\"                                                                                                                                                                                                                                                                                                                                      </td><td>1945</td><td>TV-MA</td><td> 51</td><td>['documentation']                                  </td><td>['US']            </td><td> 1</td><td>         </td><td> NA</td><td>    NA</td><td> 0.600</td><td>   NA</td><td>4</td></tr>\n",
       "\t<tr><td>tm84618 </td><td>Taxi Driver                        </td><td>MOVIE</td><td>A mentally unstable Vietnam War veteran works as a night-time taxi driver in New York City where the perceived decadence and sleaze feed his urge for violent action.                                                                                                                                                                                                                                                                                                                            </td><td>1976</td><td>R    </td><td>114</td><td>['drama', 'crime']                                 </td><td>['US']            </td><td>NA</td><td>tt0075314</td><td>8.2</td><td>808582</td><td>40.965</td><td>8.179</td><td>4</td></tr>\n",
       "\t<tr><td>tm154986</td><td>Deliverance                        </td><td>MOVIE</td><td>Intent on seeing the Cahulawassee River before it's turned into one huge lake, outdoor fanatic Lewis Medlock takes his friends on a river-rafting trip they'll never forget into the dangerous American back-country.                                                                                                                                                                                                                                                                            </td><td>1972</td><td>R    </td><td>109</td><td>['drama', 'action', 'thriller', 'european']        </td><td>['US']            </td><td>NA</td><td>tt0068473</td><td>7.7</td><td>107673</td><td>10.010</td><td>7.300</td><td>4</td></tr>\n",
       "\t<tr><td>tm127384</td><td>Monty Python and the Holy Grail    </td><td>MOVIE</td><td>King Arthur, accompanied by his squire, recruits his Knights of the Round Table, including Sir Bedevere the Wise, Sir Lancelot the Brave, Sir Robin the Not-Quite-So-Brave-As-Sir-Lancelot and Sir Galahad the Pure. On the way, Arthur battles the Black Knight who, despite having had all his limbs chopped off, insists he can still fight. They reach Camelot, but Arthur decides not  to enter, as \"it is a silly place\".                                                                  </td><td>1975</td><td>PG   </td><td> 91</td><td>['fantasy', 'action', 'comedy']                    </td><td>['GB']            </td><td>NA</td><td>tt0071853</td><td>8.2</td><td>534486</td><td>15.461</td><td>7.811</td><td>4</td></tr>\n",
       "\t<tr><td>tm120801</td><td>The Dirty Dozen                    </td><td>MOVIE</td><td>12 American military prisoners in World War II are ordered to infiltrate a well-guarded enemy chÃ¢teau and kill the Nazi officers vacationing there. The soldiers, most of whom are facing death sentences for a variety of violent crimes, agree to the mission and the possible commuting of their sentences.                                                                                                                                                                                  </td><td>1967</td><td>     </td><td>150</td><td>['war', 'action']                                  </td><td>['GB', 'US']      </td><td>NA</td><td>tt0061578</td><td>7.7</td><td> 72662</td><td>20.398</td><td>7.600</td><td>4</td></tr>\n",
       "\t<tr><td>ts22164 </td><td>Monty Python's Flying Circus       </td><td>SHOW </td><td>A British sketch comedy series with the shows being composed of surreality, risquÃ© or innuendo-laden humour, sight gags and observational sketches without punchlines.                                                                                                                                                                                                                                                                                                                          </td><td>1969</td><td>TV-14</td><td> 30</td><td>['comedy', 'european']                             </td><td>['GB']            </td><td> 4</td><td>tt0063929</td><td>8.8</td><td> 73424</td><td>17.617</td><td>8.306</td><td>4</td></tr>\n",
       "\t<tr><td>tm70993 </td><td>Life of Brian                      </td><td>MOVIE</td><td>Brian Cohen is an average young Jewish man, but through a series of ridiculous events, he gains a reputation as the Messiah. When he's not dodging his followers or being scolded by his shrill mother, the hapless Brian has to contend with the pompous Pontius Pilate and acronym-obsessed members of a separatist movement. Rife with Monty Python's signature absurdity, the tale finds Brian's life paralleling Biblical lore, albeit with many more laughs.                               </td><td>1979</td><td>R    </td><td> 94</td><td>['comedy']                                         </td><td>['GB']            </td><td>NA</td><td>tt0079470</td><td>8.0</td><td>395024</td><td>17.770</td><td>7.800</td><td>4</td></tr>\n",
       "\t<tr><td>tm14873 </td><td>Dirty Harry                        </td><td>MOVIE</td><td>When a madman dubbed 'Scorpio' terrorizes San Francisco, hard-nosed cop, Harry Callahan â€“ famous for his take-no-prisoners approach to law enforcement â€“ is tasked with hunting down the psychopath. Harry eventually collars Scorpio in the process of rescuing a kidnap victim, only to see him walk on technicalities. Now, the maverick detective is determined to nail the maniac himself.                                                                                              </td><td>1971</td><td>R    </td><td>102</td><td>['thriller', 'action', 'crime']                    </td><td>['US']            </td><td>NA</td><td>tt0066999</td><td>7.7</td><td>155051</td><td>12.817</td><td>7.500</td><td>4</td></tr>\n",
       "\t<tr><td>tm119281</td><td>Bonnie and Clyde                   </td><td>MOVIE</td><td>In the 1930s, bored waitress Bonnie Parker falls in love with an ex-con named Clyde Barrow and together they start a violent crime spree through the country, stealing cars and robbing banks.                                                                                                                                                                                                                                                                                                   </td><td>1967</td><td>R    </td><td>110</td><td>['crime', 'drama', 'action']                       </td><td>['US']            </td><td>NA</td><td>tt0061418</td><td>7.7</td><td>112048</td><td>15.687</td><td>7.500</td><td>4</td></tr>\n",
       "\t<tr><td>tm98978 </td><td>The Blue Lagoon                    </td><td>MOVIE</td><td>Two small children and a ship's cook survive a shipwreck and find safety on an idyllic tropical island. Soon, however, the cook dies and the young boy and girl are left on their own. Days become years and Emmeline and Richard make a home for themselves surrounded by exotic creatures and nature's beauty. But will they ever see civilization again?                                                                                                                                      </td><td>1980</td><td>R    </td><td>104</td><td>['romance', 'action', 'drama']                     </td><td>['US']            </td><td>NA</td><td>tt0080453</td><td>5.8</td><td> 69844</td><td>50.324</td><td>6.156</td><td>4</td></tr>\n",
       "\t<tr><td>tm44204 </td><td>The Guns of Navarone               </td><td>MOVIE</td><td>A team of allied saboteurs are assigned an impossible mission: infiltrate an impregnable Nazi-held island and destroy the two enormous long-range field guns that prevent the rescue of 2,000 trapped British soldiers.                                                                                                                                                                                                                                                                          </td><td>1961</td><td>     </td><td>158</td><td>['action', 'drama', 'war']                         </td><td>['GB', 'US']      </td><td>NA</td><td>tt0054953</td><td>7.5</td><td> 50748</td><td>13.844</td><td>7.300</td><td>4</td></tr>\n",
       "\t<tr><td>tm67378 </td><td>The Professionals                  </td><td>MOVIE</td><td>An arrogant Texas millionaire hires four adventurers to rescue his kidnapped wife from a notorious Mexican bandit.                                                                                                                                                                                                                                                                                                                                                                               </td><td>1966</td><td>PG-13</td><td>117</td><td>['western', 'action', 'european']                  </td><td>['US']            </td><td>NA</td><td>tt0060862</td><td>7.3</td><td> 16446</td><td>13.123</td><td>7.100</td><td>4</td></tr>\n",
       "\t<tr><td>tm69997 </td><td>Richard Pryor: Live in Concert     </td><td>MOVIE</td><td>Richard Pryor delivers monologues on race, sex, family and his favorite targetâ€”himself, live at the Terrace Theatre in Long Beach, California.                                                                                                                                                                                                                                                                                                                                                 </td><td>1979</td><td>R    </td><td> 78</td><td>['comedy', 'documentation']                        </td><td>['US']            </td><td>NA</td><td>tt0079807</td><td>8.1</td><td>  5141</td><td> 4.718</td><td>7.500</td><td>4</td></tr>\n",
       "\t<tr><td>tm16479 </td><td>White Christmas                    </td><td>MOVIE</td><td>Two talented song-and-dance men team up after the war to become one of the hottest acts in show business. In time they befriend and become romantically involved with the beautiful Haynes sisters who comprise a sister act.                                                                                                                                                                                                                                                                    </td><td>1954</td><td>     </td><td>115</td><td>['romance', 'comedy']                              </td><td>['US']            </td><td>NA</td><td>tt0047673</td><td>7.5</td><td> 42488</td><td> 8.915</td><td>7.200</td><td>4</td></tr>\n",
       "\t<tr><td>tm135083</td><td>Cairo Station                      </td><td>MOVIE</td><td>Qinawi, a physically challenged peddler who makes his living selling newspapers in the central Cairo train station, is obsessed by Hanuma, an attractive young woman who sells drinks. While she jokes with him about a possible relationship, she is actually in love with Abu Siri, a strong and respected porter at the station who is struggling to unionize his fellow workers to combat their boss' exploitative and abusive treatment.                                                    </td><td>1958</td><td>     </td><td> 77</td><td>['drama', 'crime', 'comedy']                       </td><td>['EG']            </td><td>NA</td><td>tt0051390</td><td>7.5</td><td>  4471</td><td> 5.546</td><td>7.300</td><td>4</td></tr>\n",
       "\t<tr><td>tm89386 </td><td>Hitler: A Career                   </td><td>MOVIE</td><td>A keen chronicle of the unlikely rise to power of Adolf Hitler (1889-1945) and a dissection of the Third Reich (1933-1945), but also an analysis of mass psychology and how the desperate crowd can be deceived and shepherded to the slaughterhouse.                                                                                                                                                                                                                                            </td><td>1977</td><td>PG   </td><td>150</td><td>['history', 'documentation', 'european']           </td><td>['DE']            </td><td>NA</td><td>tt0191182</td><td>7.5</td><td>  2460</td><td> 4.305</td><td>7.300</td><td>4</td></tr>\n",
       "\t<tr><td>tm156453</td><td>FTA                                </td><td>MOVIE</td><td>A documentary about a political troupe headed by actors Jane Fonda and Donald Sutherland which traveled to towns near military bases in the US in the early 1970s. The group put on shows called \"F.T.A.\", which stood for \"F**k the Army\", and was aimed at convincing soldiers to voice their opposition to the Vietnam War, which was raging at the time. Various singers, actors and other entertainers performed antiwar songs and skits during the show.                                   </td><td>1972</td><td>R    </td><td> 97</td><td>['war', 'documentation', 'music', 'comedy']        </td><td>['US']            </td><td>NA</td><td>tt0068562</td><td>6.2</td><td>   418</td><td> 1.268</td><td>6.100</td><td>4</td></tr>\n",
       "\t<tr><td>tm14350 </td><td>Alexandriaâ€¦ Why?                 </td><td>MOVIE</td><td>Set against the panoramic backdrop of war-torn Egypt, director Youssef Chahine tells a highly personal tale of love and determination. Amid the poverty, death and suffering caused by World War II, 18 year-old Yehia, retreats into a private world of fantasy and longing. Obsessed with Hollywood, he dreams of one day studying filmmaking in America, but after falling in love and discovering the lies of European occupation, Yehia profoundly reevaluates his identity and allegiances.</td><td>1979</td><td>     </td><td>133</td><td>['drama']                                          </td><td>['EG']            </td><td>NA</td><td>tt0077751</td><td>7.2</td><td>  1727</td><td> 1.370</td><td>6.000</td><td>4</td></tr>\n",
       "\t<tr><td>tm81728 </td><td>The Land                           </td><td>MOVIE</td><td>Set in 1933, the mayor informs the peasants that the share of irrigation of their land will be split equally between them and feudal lord Mahmoud Bey. The peasants send Muhammad Effendi to submit a petition to the government. Then Mahmoud Bey proposes a project that would require taking part of the peasants' lands.                                                                                                                                                                     </td><td>1969</td><td>     </td><td>129</td><td>['drama']                                          </td><td>['EG']            </td><td>NA</td><td>tt0064038</td><td>8.1</td><td>  1958</td><td> 1.265</td><td>8.500</td><td>4</td></tr>\n",
       "\t<tr><td>tm94651 </td><td>Dostana                            </td><td>MOVIE</td><td>Two close friends decide to enter law enforcement, one as a police officer, the other as a lawyer, but their friendship begins to unravel when they both fall in love with the same woman.                                                                                                                                                                                                                                                                                                       </td><td>1980</td><td>     </td><td>161</td><td>['drama', 'comedy', 'crime', 'romance', 'action']  </td><td>['IN']            </td><td>NA</td><td>tt0080653</td><td>2.1</td><td>    25</td><td> 3.980</td><td>4.900</td><td>4</td></tr>\n",
       "\t<tr><td>tm27298 </td><td>Saladin the Victorious             </td><td>MOVIE</td><td>Saladin, the first sultan of Egypt and Syria, leads the Muslim military campaign against the invading Christians from Europe during the Third Crusade.                                                                                                                                                                                                                                                                                                                                           </td><td>1963</td><td>     </td><td>186</td><td>['action', 'drama', 'war', 'history', 'romance']   </td><td>['EG']            </td><td>NA</td><td>tt0057357</td><td>7.6</td><td>  2508</td><td> 4.156</td><td>7.100</td><td>4</td></tr>\n",
       "\t<tr><td>tm100027</td><td>Alibaba Aur 40 Chor                </td><td>MOVIE</td><td>The movie is based on the story of Ali Baba and the Forty Thieves, from the One Thousand and One Nights or Arabian Tales. The role of Ali Baba is played by Dharmendra and Hema Malini play Morjina.                                                                                                                                                                                                                                                                                             </td><td>1979</td><td>     </td><td>146</td><td>['drama', 'romance', 'action', 'fantasy', 'family']</td><td>['SU', 'IN']      </td><td>NA</td><td>tt0079749</td><td>6.2</td><td>   565</td><td> 2.582</td><td>6.800</td><td>4</td></tr>\n",
       "\t<tr><td>tm19608 </td><td>The Blazing Sun                    </td><td>MOVIE</td><td>A rich landlord floods and destroys a village on purpose to prevent the people living there from making a profit off their crops. What he doesn't know is that his own daughter is in love with Ahmed, a young man from the village.                                                                                                                                                                                                                                                             </td><td>1954</td><td>     </td><td>100</td><td>['crime', 'romance', 'drama']                      </td><td>['EG']            </td><td>NA</td><td>tt0047500</td><td>7.4</td><td>  1219</td><td> 2.184</td><td>7.000</td><td>4</td></tr>\n",
       "\t<tr><td>tm204541</td><td>Dark Waters                        </td><td>MOVIE</td><td>Ragab, a poor sailor, returns home to Alexandria after three years of absence, during which he tried to save money to marry his one true love, Hamedah. But there's trouble on the harbor, and with an old friend.                                                                                                                                                                                                                                                                               </td><td>1956</td><td>     </td><td>120</td><td>['action', 'drama', 'romance', 'thriller']         </td><td>['EG']            </td><td>NA</td><td>tt0049761</td><td>6.7</td><td>   610</td><td> 0.849</td><td>5.900</td><td>4</td></tr>\n",
       "\t<tr><td>tm259855</td><td>We Are All for the Fatherland      </td><td>MOVIE</td><td>After the 1978 Israeli invasion of Lebanon, children try to sing the national anthem as citizens search for hope in the war-torn South.                                                                                                                                                                                                                                                                                                                                                          </td><td>1979</td><td>     </td><td> 74</td><td>['documentation']                                  </td><td>['LB', 'CA', 'FR']</td><td>NA</td><td>tt0170799</td><td>6.1</td><td>    47</td><td> 0.600</td><td>5.200</td><td>4</td></tr>\n",
       "\t<tr><td>tm356209</td><td>Singapore                          </td><td>MOVIE</td><td>When his employee disappears in Singapore, Shyam travels from India to investigate the absence and becomes entangled in a deadly plot.                                                                                                                                                                                                                                                                                                                                                           </td><td>1960</td><td>     </td><td>158</td><td>['drama', 'thriller', 'crime']                     </td><td>['IN']            </td><td>NA</td><td>tt0268639</td><td>6.4</td><td>    84</td><td> 0.792</td><td>6.300</td><td>4</td></tr>\n",
       "\t<tr><td>ts45948 </td><td>Monty Python's Fliegender Zirkus   </td><td>SHOW </td><td>Monty Python's Fliegender Zirkus consisted of two 45-minute Monty Python German television comedy specials produced by WDR for West German television. The two episodes were first broadcast in January and December 1972 and were shot entirely on film and mostly on location in Bavaria, with the first episode recorded in German and the second recorded in English and then dubbed into German.                                                                                            </td><td>1972</td><td>TV-MA</td><td> 43</td><td>['comedy']                                         </td><td>[]                </td><td> 1</td><td>tt0202477</td><td>8.1</td><td>  2151</td><td> 1.487</td><td>7.000</td><td>4</td></tr>\n",
       "\t<tr><td>tm200475</td><td>Beirut, Oh Beirut                  </td><td>MOVIE</td><td>In the aftermath of the 1967 defeat, four young Lebanese try to figure out their places in a society whose rules seem to have changed. It proved to be an extraordinary anticipation of the civil war that would engulf the country while the film was being edited.                                                                                                                                                                                                                             </td><td>1975</td><td>     </td><td>110</td><td>['drama']                                          </td><td>['LB']            </td><td>NA</td><td>tt0169599</td><td>6.4</td><td>   108</td><td> 1.025</td><td>7.200</td><td>4</td></tr>\n",
       "\t<tr><td>tm90896 </td><td>The Return of the Prodigal Son     </td><td>MOVIE</td><td>In this Andre Gide adaptation, an activist is released after many years in prison and returns home, shaking up established relationships among his family members at the farm governed by his strict father. Demonstrating Chahineâ€™s eclecticism, this is an elegant melodrama, exuberant musical, layered allegory, and profound portrait of personal and political disillusionment.                                                                                                          </td><td>1976</td><td>     </td><td>124</td><td>['music', 'drama', 'crime']                        </td><td>['DZ', 'EG']      </td><td>NA</td><td>tt0074168</td><td>7.2</td><td>   780</td><td> 1.858</td><td>5.300</td><td>4</td></tr>\n",
       "\t<tr><td>tm336403</td><td>Khoon Khoon                        </td><td>MOVIE</td><td>As a crazed killer blazes a trail of blood through an anxious city, a hardened cop aims to take him down by any means in this remake of Dirty Harry.                                                                                                                                                                                                                                                                                                                                             </td><td>1973</td><td>     </td><td>131</td><td>['crime', 'thriller']                              </td><td>['IN']            </td><td>NA</td><td>tt0230412</td><td>5.1</td><td>    41</td><td> 1.948</td><td>3.800</td><td>4</td></tr>\n",
       "\t<tr><td>...</td><td>...</td><td>...</td><td>...</td><td>...</td><td>...</td><td>...</td><td>...</td><td>...</td><td>...</td><td>...</td><td>...</td><td>...</td><td>...</td><td>...</td><td>...</td></tr>\n",
       "\t<tr><td>tm851599 </td><td>Tersanjung: The Movie                       </td><td>MOVIE</td><td>After growing up in a tumultuous household, Yura finds herself in a love triangle with two close friends as she faces a personal and financial crisis.                                                                                                                                                                                                                                                                                                                                                                                                                                                                                                                                                                                                                                                                                                                                                 </td><td>2021</td><td>     </td><td>114</td><td>['drama', 'romance']                 </td><td>['ID']      </td><td>NA</td><td>tt11668994</td><td>5.8</td><td> 216</td><td> 2.747</td><td> 8.2</td><td>4</td></tr>\n",
       "\t<tr><td>tm1110241</td><td>Kaaval                                      </td><td>MOVIE</td><td>Thampan and Antony are a long time best friends and business partners who owned a saw mill at Kattappana in the past. A family tragedy and its falling-out separates them for good. But now Antony and his family faces a grievous situation, and he is forced to ask his old friend for a help out. The timeline of the story spans over two generations                                                                                                                                                                                                                                                                                                                                                                                                                                                                                                                                              </td><td>2021</td><td>     </td><td>148</td><td>['thriller', 'action', 'drama']      </td><td>['IN']      </td><td>NA</td><td>tt11182984</td><td>5.1</td><td>1497</td><td> 1.978</td><td> 5.3</td><td>4</td></tr>\n",
       "\t<tr><td>tm993616 </td><td>The Tambour of Retribution                  </td><td>MOVIE</td><td>The son of the swordsman falls in love with the daughter of Tagaga in a social paradox based on selling joy (wedding) and buying death                                                                                                                                                                                                                                                                                                                                                                                                                                                                                                                                                                                                                                                                                                                                                                 </td><td>2021</td><td>     </td><td> 92</td><td>['drama']                            </td><td>['SA']      </td><td>NA</td><td>tt13657102</td><td>6.8</td><td>1007</td><td> 1.971</td><td> 7.5</td><td>4</td></tr>\n",
       "\t<tr><td>tm1099342</td><td>Devdas Brothers                             </td><td>MOVIE</td><td>After their first heartbreaks, four jilted young men plan drastic ways to get back at the women who left them - and are in for a sobering lesson.                                                                                                                                                                                                                                                                                                                                                                                                                                                                                                                                                                                                                                                                                                                                                      </td><td>2021</td><td>     </td><td> 99</td><td>['drama']                            </td><td>[]          </td><td>NA</td><td>tt12478372</td><td>3.3</td><td>  51</td><td>    NA</td><td>  NA</td><td>4</td></tr>\n",
       "\t<tr><td>tm831387 </td><td>What Happened to Mr Cha?                    </td><td>MOVIE</td><td>With the peak of his career long behind him, an actor clings to his past glory â€” until a sudden wake-up call forces him to face who he's become.                                                                                                                                                                                                                                                                                                                                                                                                                                                                                                                                                                                                                                                                                                                                                     </td><td>2021</td><td>     </td><td>102</td><td>['comedy', 'drama']                  </td><td>['KR']      </td><td>NA</td><td>tt13667212</td><td>4.3</td><td> 357</td><td> 9.066</td><td> 6.9</td><td>4</td></tr>\n",
       "\t<tr><td>tm878575 </td><td>The Heartbreak Club                         </td><td>MOVIE</td><td>Coping with heartbreak, the shy owner of floundering cafe find solace in the Javanese love songs of Didi Kempot.                                                                                                                                                                                                                                                                                                                                                                                                                                                                                                                                                                                                                                                                                                                                                                                       </td><td>2021</td><td>     </td><td>101</td><td>['comedy', 'drama', 'romance']       </td><td>['ID']      </td><td>NA</td><td>tt11841144</td><td>6.3</td><td> 196</td><td> 1.401</td><td> 8.0</td><td>4</td></tr>\n",
       "\t<tr><td>ts287687 </td><td>Lava Ka Dhaava                              </td><td>SHOW </td><td>Actor Jaaved Jaafferi brings his signature humor to this Hindi dubbing of the show where teams creatively navigate rooms flooded with make-believe lava.                                                                                                                                                                                                                                                                                                                                                                                                                                                                                                                                                                                                                                                                                                                                               </td><td>2021</td><td>     </td><td> 30</td><td>['reality']                          </td><td>['IO']      </td><td> 1</td><td>tt14492912</td><td>6.1</td><td>  42</td><td> 1.499</td><td>  NA</td><td>4</td></tr>\n",
       "\t<tr><td>tm1099969</td><td>Angeliena                                   </td><td>MOVIE</td><td>After a string of life-changing revelations, a beloved parking attendant pieces a new plan together and chases her dream of traveling the world.                                                                                                                                                                                                                                                                                                                                                                                                                                                                                                                                                                                                                                                                                                                                                       </td><td>2021</td><td>     </td><td> 95</td><td>['comedy', 'drama', 'family']        </td><td>['ZA']      </td><td>NA</td><td>tt15303262</td><td>7.3</td><td>1164</td><td> 3.827</td><td> 6.0</td><td>4</td></tr>\n",
       "\t<tr><td>ts319608 </td><td>The Family That Sings Together: The Camargos</td><td>SHOW </td><td>Surrounded by family and friends, ZezÃ© Di Camargo and daughter Wanessa spend time together and collaborate creatively in this exclusive reality series.                                                                                                                                                                                                                                                                                                                                                                                                                                                                                                                                                                                                                                                                                                                                               </td><td>2021</td><td>     </td><td> 39</td><td>['documentation', 'music', 'reality']</td><td>['BR']      </td><td> 1</td><td>tt16260968</td><td>5.3</td><td>  45</td><td> 1.002</td><td>  NA</td><td>4</td></tr>\n",
       "\t<tr><td>tm846586 </td><td>Layla Majnun                                </td><td>MOVIE</td><td>While in Azerbaijan, Layla, an Indonesian scholar, falls for Samir, an admirer of her work â€” but her arranged marriage stands in the way.                                                                                                                                                                                                                                                                                                                                                                                                                                                                                                                                                                                                                                                                                                                                                            </td><td>2021</td><td>     </td><td>119</td><td>['romance', 'drama']                 </td><td>['ID']      </td><td>NA</td><td>tt11313944</td><td>6.0</td><td> 277</td><td> 2.727</td><td> 7.5</td><td>4</td></tr>\n",
       "\t<tr><td>ts288861 </td><td>Let's Eat                                   </td><td>SHOW </td><td>A food-blogging insurance agent encounters a friend from elementary school with a vendetta against him -- but soon becomes her sidekick.                                                                                                                                                                                                                                                                                                                                                                                                                                                                                                                                                                                                                                                                                                                                                               </td><td>2021</td><td>TV-14</td><td> 60</td><td>['drama', 'comedy']                  </td><td>['TH']      </td><td> 1</td><td>tt15978704</td><td>8.2</td><td>   5</td><td> 2.334</td><td>  NA</td><td>4</td></tr>\n",
       "\t<tr><td>ts273317 </td><td>Pitta Kathalu                               </td><td>SHOW </td><td>Four different women, four journeys of love and betrayal. The common thread? They all want to dismantle the patriarchy.                                                                                                                                                                                                                                                                                                                                                                                                                                                                                                                                                                                                                                                                                                                                                                                </td><td>2021</td><td>TV-MA</td><td> 37</td><td>['drama', 'romance']                 </td><td>['IN']      </td><td> 1</td><td>tt13878800</td><td>5.1</td><td> 738</td><td> 1.400</td><td> 5.5</td><td>4</td></tr>\n",
       "\t<tr><td>tm996479 </td><td><span style=white-space:pre-wrap>Tuesdays And Fridays                        </span></td><td>MOVIE</td><td><span style=white-space:pre-wrap>Two millennials get into a relationship where they are allowed to meet only on 'Tuesdays &amp; Fridays'.                                                                                                                                                                                                                                                                                                                                                                                                                                                                                                                                                                                                                                                                                                                                                                                                   </span></td><td>2021</td><td><span style=white-space:pre-wrap>     </span></td><td>106</td><td><span style=white-space:pre-wrap>['romance', 'comedy']                </span></td><td>['GB', 'IN']</td><td>NA</td><td>tt9176102 </td><td>4.4</td><td> 792</td><td> 1.589</td><td> 5.3</td><td>4</td></tr>\n",
       "\t<tr><td>ts307884 </td><td>HQ Barbers                                  </td><td>SHOW </td><td>When a family run barber shop in the heart of Lagos is threatened by real estate developers, they'll do whatever it takes to stay in business.                                                                                                                                                                                                                                                                                                                                                                                                                                                                                                                                                                                                                                                                                                                                                         </td><td>2021</td><td>TV-14</td><td> 24</td><td>['comedy']                           </td><td>['NG']      </td><td> 1</td><td>          </td><td> NA</td><td>  NA</td><td> 0.840</td><td>  NA</td><td>4</td></tr>\n",
       "\t<tr><td>tm1091956</td><td>A Faraway Land                              </td><td>MOVIE</td><td>In the Faroe Islands, a married woman meets a reporter filming a documentary on overseas Filipino workers, which soon sparks a complicated love story.                                                                                                                                                                                                                                                                                                                                                                                                                                                                                                                                                                                                                                                                                                                                                 </td><td>2021</td><td>     </td><td>101</td><td>['drama']                            </td><td>['PH', 'FO']</td><td>NA</td><td>tt15260940</td><td>5.0</td><td> 136</td><td> 1.748</td><td> 6.7</td><td>4</td></tr>\n",
       "\t<tr><td>tm985747 </td><td>I Missed You                                </td><td>MOVIE</td><td>A woman who was overwhelmed by work and had no time to imagine the future. Her paralyzed life was interrupted by a live-streaming man who always has fun in life and acts wildly, resulting in a series of fermentation processes.                                                                                                                                                                                                                                                                                                                                                                                                                                                                                                                                                                                                                                                                     </td><td>2021</td><td>     </td><td> 96</td><td>['drama', 'romance']                 </td><td>['TW']      </td><td>NA</td><td>tt14051714</td><td>5.7</td><td> 250</td><td> 2.451</td><td> 6.3</td><td>4</td></tr>\n",
       "\t<tr><td>tm959213 </td><td>My Amanda                                   </td><td>MOVIE</td><td>Two unusually close friends share every aspect of their lives together. As their lives evolve, their bond remains the only constant.                                                                                                                                                                                                                                                                                                                                                                                                                                                                                                                                                                                                                                                                                                                                                                   </td><td>2021</td><td>     </td><td> 89</td><td>['drama', 'romance']                 </td><td>['PH']      </td><td>NA</td><td>tt13136084</td><td>5.7</td><td> 308</td><td> 2.908</td><td> 5.7</td><td>4</td></tr>\n",
       "\t<tr><td>tm1040816</td><td>Momshies! Your Soul is Mine                 </td><td>MOVIE</td><td>Three women with totally different lives accidentally get their souls switched as they struggle with the comedic misadventures of their new worlds, they realize that their own lives and families are worth loving and living for. Jolene, a famous person who always has fans in public, Mylene - an overprotected lady who always gets pleasure and love and Karlene - a rich famous social media influencer all switch bodies but their lives did not just change, but their souls switched that leaves them with no choice but to stick together to live the peculiar lives of each other. Karlene then has to convince a group of investors to invest in her near-bankrupt hotel, but no one believes her because she is trapped in Myleneâ€™s body. In the process of all of their imaginative scenarios, they drew closer to each other into becoming the soul sisters they are destined to be.</td><td>2021</td><td>     </td><td>108</td><td>['comedy']                           </td><td>['PH']      </td><td>NA</td><td>tt14412240</td><td>5.8</td><td>  27</td><td> 2.170</td><td>  NA</td><td>4</td></tr>\n",
       "\t<tr><td>tm1053409</td><td>Happiness Ever After                        </td><td>MOVIE</td><td>Five years later from where we left our characters, again tackling sisterhood and friendship, this time with the inclusion of a new romantic arc.                                                                                                                                                                                                                                                                                                                                                                                                                                                                                                                                                                                                                                                                                                                                                      </td><td>2021</td><td>     </td><td> 99</td><td>['drama', 'romance']                 </td><td>['ZA']      </td><td>NA</td><td>tt14307890</td><td>4.2</td><td> 163</td><td>11.536</td><td> 7.3</td><td>4</td></tr>\n",
       "\t<tr><td>tm1165179</td><td>Kongsi Raya                                 </td><td>MOVIE</td><td>Jack - a Chinese chef-manager who is in-line to take over his family`s restaurant and Sharifah, a TV programme producer for her celebrity chef father Rahim - are crazy in love. But both their fathers are against their relationship and it all escalates in intensity until the two families challenge each other in a televised cooking competition. Jack and Sharifah must find a solution before all of that gets out of hand.                                                                                                                                                                                                                                                                                                                                                                                                                                                                   </td><td>2022</td><td>     </td><td>102</td><td>['comedy']                           </td><td>['MY']      </td><td>NA</td><td>tt16806990</td><td>7.0</td><td>  66</td><td> 2.112</td><td>  NA</td><td>4</td></tr>\n",
       "\t<tr><td>tm1216735</td><td>Sun of the Soil                             </td><td>MOVIE</td><td>In 14th-century Mali, an ambitious young royal named Mansa Musa ascended the throne of the richest kingdom in human history. This follows Malian artist Abdou Ouologuem on a journey to discover the truth behind the legendary African king.                                                                                                                                                                                                                                                                                                                                                                                                                                                                                                                                                                                                                                                          </td><td>2022</td><td>     </td><td> 26</td><td>[]                                   </td><td>[]          </td><td>NA</td><td>          </td><td> NA</td><td>  NA</td><td> 1.179</td><td> 7.0</td><td>4</td></tr>\n",
       "\t<tr><td>tm985215 </td><td>Princess 'Daya'Reese                        </td><td>MOVIE</td><td>Reese is a con artist from Manila who dreams of living like royalty. An opportunity arrives in the form of Princess Ulap, a runaway princess from the mysterious kingdom of Oro, who looks exactly like her. Switching places in exchange for gold, Reese flies to Ulap's kingdom where she meets Caleb, a young and determined reporter who is doing a documentary on the island of Oro. The road to happily ever after becomes bumpy when the man in search for truth begins to fall in love with the fake princess.                                                                                                                                                                                                                                                                                                                                                                                 </td><td>2021</td><td>     </td><td>115</td><td>['comedy', 'romance']                </td><td>['PH']      </td><td>NA</td><td>tt13399802</td><td>7.1</td><td>  50</td><td> 1.383</td><td>  NA</td><td>4</td></tr>\n",
       "\t<tr><td>tm1066324</td><td>Super Monsters: Once Upon a Rhyme           </td><td>MOVIE</td><td>The Super Monsters rethink exemplary fantasies and most loved nursery rhymes with a melodic, otherworldly twist.                                                                                                                                                                                                                                                                                                                                                                                                                                                                                                                                                                                                                                                                                                                                                                                       </td><td>2021</td><td>     </td><td> 25</td><td>['animation', 'family']              </td><td>[]          </td><td>NA</td><td>tt14586752</td><td>5.6</td><td>  38</td><td>53.762</td><td> 6.3</td><td>4</td></tr>\n",
       "\t<tr><td>tm1097142</td><td>My Bride                                    </td><td>MOVIE</td><td>The story follows a young man and woman who go through various situations in their journey to find the right partner, which raises questions about traditional marriage and marriage based on love.                                                                                                                                                                                                                                                                                                                                                                                                                                                                                                                                                                                                                                                                                                    </td><td>2021</td><td>     </td><td> 93</td><td>['romance', 'comedy', 'drama']       </td><td>['EG']      </td><td>NA</td><td>tt14216488</td><td>5.0</td><td> 327</td><td> 2.545</td><td> 5.3</td><td>4</td></tr>\n",
       "\t<tr><td>tm1074617</td><td>Bling Empire - The Afterparty               </td><td>MOVIE</td><td>The stars of \"Bling Empire\" discuss the show's success and play bling-themed games, then comic Joel Kim Booster makes his case for joining the cast.                                                                                                                                                                                                                                                                                                                                                                                                                                                                                                                                                                                                                                                                                                                                                   </td><td>2021</td><td>     </td><td> 35</td><td>[]                                   </td><td>['US']      </td><td>NA</td><td>          </td><td> NA</td><td>  NA</td><td>    NA</td><td>  NA</td><td>4</td></tr>\n",
       "\t<tr><td>tm1014599</td><td>Fine Wine                                   </td><td>MOVIE</td><td>A beautiful love story that can happen between two people regardless of their age gaps.                                                                                                                                                                                                                                                                                                                                                                                                                                                                                                                                                                                                                                                                                                                                                                                                                </td><td>2021</td><td>     </td><td>100</td><td>['romance', 'drama']                 </td><td>['NG']      </td><td>NA</td><td>tt13857480</td><td>6.8</td><td>  45</td><td> 1.466</td><td>  NA</td><td>4</td></tr>\n",
       "\t<tr><td>tm898842 </td><td>C/O Kaadhal                                 </td><td>MOVIE</td><td>A heart warming film that explores the concept of romance with episodes involving four sets of people of different age group.                                                                                                                                                                                                                                                                                                                                                                                                                                                                                                                                                                                                                                                                                                                                                                          </td><td>2021</td><td>     </td><td>134</td><td>['drama']                            </td><td>[]          </td><td>NA</td><td>tt11803618</td><td>7.7</td><td> 348</td><td>    NA</td><td>  NA</td><td>4</td></tr>\n",
       "\t<tr><td>tm1059008</td><td>Lokillo                                     </td><td>MOVIE</td><td>A controversial TV host and comedian who has built his career on sexist humor is forced to assume a woman's identity to elude a relentless drug dealer.                                                                                                                                                                                                                                                                                                                                                                                                                                                                                                                                                                                                                                                                                                                                                </td><td>2021</td><td>     </td><td> 90</td><td>['comedy']                           </td><td>['CO']      </td><td>NA</td><td>tt14585902</td><td>3.8</td><td>  68</td><td>26.005</td><td> 6.3</td><td>4</td></tr>\n",
       "\t<tr><td>tm1035612</td><td>Dad Stop Embarrassing Me - The Afterparty   </td><td>MOVIE</td><td>Jamie Foxx, David Alan Grier and more from the cast of the family comedy discuss the show, humiliating family moments, bad BBQ dishes and sitcom openings.                                                                                                                                                                                                                                                                                                                                                                                                                                                                                                                                                                                                                                                                                                                                             </td><td>2021</td><td>PG-13</td><td> 37</td><td>[]                                   </td><td>['US']      </td><td>NA</td><td>          </td><td> NA</td><td>  NA</td><td> 1.296</td><td>10.0</td><td>4</td></tr>\n",
       "\t<tr><td>ts271048 </td><td>Mighty Little Bheem: Kite Festival          </td><td>SHOW </td><td>With winter behind them, Bheem and his townspeople usher in a sunny new season in all their favorite ways during the Makar Sankranti festival.                                                                                                                                                                                                                                                                                                                                                                                                                                                                                                                                                                                                                                                                                                                                                         </td><td>2021</td><td>     </td><td>  7</td><td>['family', 'animation', 'comedy']    </td><td>[]          </td><td> 1</td><td>tt13711094</td><td>7.8</td><td>  18</td><td> 2.289</td><td>10.0</td><td>4</td></tr>\n",
       "</tbody>\n",
       "</table>\n"
      ],
      "text/latex": [
       "A data.frame: 5850 × 16\n",
       "\\begin{tabular}{llllllllllllllll}\n",
       " id & title & type & description & release\\_year & age\\_certification & runtime & genres & production\\_countries & seasons & imdb\\_id & imdb\\_score & imdb\\_votes & tmdb\\_popularity & tmdb\\_score & Realease\\_Year1\\\\\n",
       " <chr> & <chr> & <chr> & <chr> & <int> & <chr> & <int> & <chr> & <chr> & <dbl> & <chr> & <dbl> & <dbl> & <dbl> & <dbl> & <int>\\\\\n",
       "\\hline\n",
       "\t ts300399 & Five Came Back: The Reference Films & SHOW  & This collection includes 12 World War II-era propaganda films â€” many of which are graphic and offensive â€” discussed in the docuseries \"Five Came Back.\"                                                                                                                                                                                                                                                                                                                                       & 1945 & TV-MA &  51 & {[}'documentation'{]}                                   & {[}'US'{]}             &  1 &           &  NA &     NA &  0.600 &    NA & 4\\\\\n",
       "\t tm84618  & Taxi Driver                         & MOVIE & A mentally unstable Vietnam War veteran works as a night-time taxi driver in New York City where the perceived decadence and sleaze feed his urge for violent action.                                                                                                                                                                                                                                                                                                                             & 1976 & R     & 114 & {[}'drama', 'crime'{]}                                  & {[}'US'{]}             & NA & tt0075314 & 8.2 & 808582 & 40.965 & 8.179 & 4\\\\\n",
       "\t tm154986 & Deliverance                         & MOVIE & Intent on seeing the Cahulawassee River before it's turned into one huge lake, outdoor fanatic Lewis Medlock takes his friends on a river-rafting trip they'll never forget into the dangerous American back-country.                                                                                                                                                                                                                                                                             & 1972 & R     & 109 & {[}'drama', 'action', 'thriller', 'european'{]}         & {[}'US'{]}             & NA & tt0068473 & 7.7 & 107673 & 10.010 & 7.300 & 4\\\\\n",
       "\t tm127384 & Monty Python and the Holy Grail     & MOVIE & King Arthur, accompanied by his squire, recruits his Knights of the Round Table, including Sir Bedevere the Wise, Sir Lancelot the Brave, Sir Robin the Not-Quite-So-Brave-As-Sir-Lancelot and Sir Galahad the Pure. On the way, Arthur battles the Black Knight who, despite having had all his limbs chopped off, insists he can still fight. They reach Camelot, but Arthur decides not  to enter, as \"it is a silly place\".                                                                   & 1975 & PG    &  91 & {[}'fantasy', 'action', 'comedy'{]}                     & {[}'GB'{]}             & NA & tt0071853 & 8.2 & 534486 & 15.461 & 7.811 & 4\\\\\n",
       "\t tm120801 & The Dirty Dozen                     & MOVIE & 12 American military prisoners in World War II are ordered to infiltrate a well-guarded enemy chÃ¢teau and kill the Nazi officers vacationing there. The soldiers, most of whom are facing death sentences for a variety of violent crimes, agree to the mission and the possible commuting of their sentences.                                                                                                                                                                                   & 1967 &       & 150 & {[}'war', 'action'{]}                                   & {[}'GB', 'US'{]}       & NA & tt0061578 & 7.7 &  72662 & 20.398 & 7.600 & 4\\\\\n",
       "\t ts22164  & Monty Python's Flying Circus        & SHOW  & A British sketch comedy series with the shows being composed of surreality, risquÃ© or innuendo-laden humour, sight gags and observational sketches without punchlines.                                                                                                                                                                                                                                                                                                                           & 1969 & TV-14 &  30 & {[}'comedy', 'european'{]}                              & {[}'GB'{]}             &  4 & tt0063929 & 8.8 &  73424 & 17.617 & 8.306 & 4\\\\\n",
       "\t tm70993  & Life of Brian                       & MOVIE & Brian Cohen is an average young Jewish man, but through a series of ridiculous events, he gains a reputation as the Messiah. When he's not dodging his followers or being scolded by his shrill mother, the hapless Brian has to contend with the pompous Pontius Pilate and acronym-obsessed members of a separatist movement. Rife with Monty Python's signature absurdity, the tale finds Brian's life paralleling Biblical lore, albeit with many more laughs.                                & 1979 & R     &  94 & {[}'comedy'{]}                                          & {[}'GB'{]}             & NA & tt0079470 & 8.0 & 395024 & 17.770 & 7.800 & 4\\\\\n",
       "\t tm14873  & Dirty Harry                         & MOVIE & When a madman dubbed 'Scorpio' terrorizes San Francisco, hard-nosed cop, Harry Callahan â€“ famous for his take-no-prisoners approach to law enforcement â€“ is tasked with hunting down the psychopath. Harry eventually collars Scorpio in the process of rescuing a kidnap victim, only to see him walk on technicalities. Now, the maverick detective is determined to nail the maniac himself.                                                                                               & 1971 & R     & 102 & {[}'thriller', 'action', 'crime'{]}                     & {[}'US'{]}             & NA & tt0066999 & 7.7 & 155051 & 12.817 & 7.500 & 4\\\\\n",
       "\t tm119281 & Bonnie and Clyde                    & MOVIE & In the 1930s, bored waitress Bonnie Parker falls in love with an ex-con named Clyde Barrow and together they start a violent crime spree through the country, stealing cars and robbing banks.                                                                                                                                                                                                                                                                                                    & 1967 & R     & 110 & {[}'crime', 'drama', 'action'{]}                        & {[}'US'{]}             & NA & tt0061418 & 7.7 & 112048 & 15.687 & 7.500 & 4\\\\\n",
       "\t tm98978  & The Blue Lagoon                     & MOVIE & Two small children and a ship's cook survive a shipwreck and find safety on an idyllic tropical island. Soon, however, the cook dies and the young boy and girl are left on their own. Days become years and Emmeline and Richard make a home for themselves surrounded by exotic creatures and nature's beauty. But will they ever see civilization again?                                                                                                                                       & 1980 & R     & 104 & {[}'romance', 'action', 'drama'{]}                      & {[}'US'{]}             & NA & tt0080453 & 5.8 &  69844 & 50.324 & 6.156 & 4\\\\\n",
       "\t tm44204  & The Guns of Navarone                & MOVIE & A team of allied saboteurs are assigned an impossible mission: infiltrate an impregnable Nazi-held island and destroy the two enormous long-range field guns that prevent the rescue of 2,000 trapped British soldiers.                                                                                                                                                                                                                                                                           & 1961 &       & 158 & {[}'action', 'drama', 'war'{]}                          & {[}'GB', 'US'{]}       & NA & tt0054953 & 7.5 &  50748 & 13.844 & 7.300 & 4\\\\\n",
       "\t tm67378  & The Professionals                   & MOVIE & An arrogant Texas millionaire hires four adventurers to rescue his kidnapped wife from a notorious Mexican bandit.                                                                                                                                                                                                                                                                                                                                                                                & 1966 & PG-13 & 117 & {[}'western', 'action', 'european'{]}                   & {[}'US'{]}             & NA & tt0060862 & 7.3 &  16446 & 13.123 & 7.100 & 4\\\\\n",
       "\t tm69997  & Richard Pryor: Live in Concert      & MOVIE & Richard Pryor delivers monologues on race, sex, family and his favorite targetâ€”himself, live at the Terrace Theatre in Long Beach, California.                                                                                                                                                                                                                                                                                                                                                  & 1979 & R     &  78 & {[}'comedy', 'documentation'{]}                         & {[}'US'{]}             & NA & tt0079807 & 8.1 &   5141 &  4.718 & 7.500 & 4\\\\\n",
       "\t tm16479  & White Christmas                     & MOVIE & Two talented song-and-dance men team up after the war to become one of the hottest acts in show business. In time they befriend and become romantically involved with the beautiful Haynes sisters who comprise a sister act.                                                                                                                                                                                                                                                                     & 1954 &       & 115 & {[}'romance', 'comedy'{]}                               & {[}'US'{]}             & NA & tt0047673 & 7.5 &  42488 &  8.915 & 7.200 & 4\\\\\n",
       "\t tm135083 & Cairo Station                       & MOVIE & Qinawi, a physically challenged peddler who makes his living selling newspapers in the central Cairo train station, is obsessed by Hanuma, an attractive young woman who sells drinks. While she jokes with him about a possible relationship, she is actually in love with Abu Siri, a strong and respected porter at the station who is struggling to unionize his fellow workers to combat their boss' exploitative and abusive treatment.                                                     & 1958 &       &  77 & {[}'drama', 'crime', 'comedy'{]}                        & {[}'EG'{]}             & NA & tt0051390 & 7.5 &   4471 &  5.546 & 7.300 & 4\\\\\n",
       "\t tm89386  & Hitler: A Career                    & MOVIE & A keen chronicle of the unlikely rise to power of Adolf Hitler (1889-1945) and a dissection of the Third Reich (1933-1945), but also an analysis of mass psychology and how the desperate crowd can be deceived and shepherded to the slaughterhouse.                                                                                                                                                                                                                                             & 1977 & PG    & 150 & {[}'history', 'documentation', 'european'{]}            & {[}'DE'{]}             & NA & tt0191182 & 7.5 &   2460 &  4.305 & 7.300 & 4\\\\\n",
       "\t tm156453 & FTA                                 & MOVIE & A documentary about a political troupe headed by actors Jane Fonda and Donald Sutherland which traveled to towns near military bases in the US in the early 1970s. The group put on shows called \"F.T.A.\", which stood for \"F**k the Army\", and was aimed at convincing soldiers to voice their opposition to the Vietnam War, which was raging at the time. Various singers, actors and other entertainers performed antiwar songs and skits during the show.                                    & 1972 & R     &  97 & {[}'war', 'documentation', 'music', 'comedy'{]}         & {[}'US'{]}             & NA & tt0068562 & 6.2 &    418 &  1.268 & 6.100 & 4\\\\\n",
       "\t tm14350  & Alexandriaâ€¦ Why?                  & MOVIE & Set against the panoramic backdrop of war-torn Egypt, director Youssef Chahine tells a highly personal tale of love and determination. Amid the poverty, death and suffering caused by World War II, 18 year-old Yehia, retreats into a private world of fantasy and longing. Obsessed with Hollywood, he dreams of one day studying filmmaking in America, but after falling in love and discovering the lies of European occupation, Yehia profoundly reevaluates his identity and allegiances. & 1979 &       & 133 & {[}'drama'{]}                                           & {[}'EG'{]}             & NA & tt0077751 & 7.2 &   1727 &  1.370 & 6.000 & 4\\\\\n",
       "\t tm81728  & The Land                            & MOVIE & Set in 1933, the mayor informs the peasants that the share of irrigation of their land will be split equally between them and feudal lord Mahmoud Bey. The peasants send Muhammad Effendi to submit a petition to the government. Then Mahmoud Bey proposes a project that would require taking part of the peasants' lands.                                                                                                                                                                      & 1969 &       & 129 & {[}'drama'{]}                                           & {[}'EG'{]}             & NA & tt0064038 & 8.1 &   1958 &  1.265 & 8.500 & 4\\\\\n",
       "\t tm94651  & Dostana                             & MOVIE & Two close friends decide to enter law enforcement, one as a police officer, the other as a lawyer, but their friendship begins to unravel when they both fall in love with the same woman.                                                                                                                                                                                                                                                                                                        & 1980 &       & 161 & {[}'drama', 'comedy', 'crime', 'romance', 'action'{]}   & {[}'IN'{]}             & NA & tt0080653 & 2.1 &     25 &  3.980 & 4.900 & 4\\\\\n",
       "\t tm27298  & Saladin the Victorious              & MOVIE & Saladin, the first sultan of Egypt and Syria, leads the Muslim military campaign against the invading Christians from Europe during the Third Crusade.                                                                                                                                                                                                                                                                                                                                            & 1963 &       & 186 & {[}'action', 'drama', 'war', 'history', 'romance'{]}    & {[}'EG'{]}             & NA & tt0057357 & 7.6 &   2508 &  4.156 & 7.100 & 4\\\\\n",
       "\t tm100027 & Alibaba Aur 40 Chor                 & MOVIE & The movie is based on the story of Ali Baba and the Forty Thieves, from the One Thousand and One Nights or Arabian Tales. The role of Ali Baba is played by Dharmendra and Hema Malini play Morjina.                                                                                                                                                                                                                                                                                              & 1979 &       & 146 & {[}'drama', 'romance', 'action', 'fantasy', 'family'{]} & {[}'SU', 'IN'{]}       & NA & tt0079749 & 6.2 &    565 &  2.582 & 6.800 & 4\\\\\n",
       "\t tm19608  & The Blazing Sun                     & MOVIE & A rich landlord floods and destroys a village on purpose to prevent the people living there from making a profit off their crops. What he doesn't know is that his own daughter is in love with Ahmed, a young man from the village.                                                                                                                                                                                                                                                              & 1954 &       & 100 & {[}'crime', 'romance', 'drama'{]}                       & {[}'EG'{]}             & NA & tt0047500 & 7.4 &   1219 &  2.184 & 7.000 & 4\\\\\n",
       "\t tm204541 & Dark Waters                         & MOVIE & Ragab, a poor sailor, returns home to Alexandria after three years of absence, during which he tried to save money to marry his one true love, Hamedah. But there's trouble on the harbor, and with an old friend.                                                                                                                                                                                                                                                                                & 1956 &       & 120 & {[}'action', 'drama', 'romance', 'thriller'{]}          & {[}'EG'{]}             & NA & tt0049761 & 6.7 &    610 &  0.849 & 5.900 & 4\\\\\n",
       "\t tm259855 & We Are All for the Fatherland       & MOVIE & After the 1978 Israeli invasion of Lebanon, children try to sing the national anthem as citizens search for hope in the war-torn South.                                                                                                                                                                                                                                                                                                                                                           & 1979 &       &  74 & {[}'documentation'{]}                                   & {[}'LB', 'CA', 'FR'{]} & NA & tt0170799 & 6.1 &     47 &  0.600 & 5.200 & 4\\\\\n",
       "\t tm356209 & Singapore                           & MOVIE & When his employee disappears in Singapore, Shyam travels from India to investigate the absence and becomes entangled in a deadly plot.                                                                                                                                                                                                                                                                                                                                                            & 1960 &       & 158 & {[}'drama', 'thriller', 'crime'{]}                      & {[}'IN'{]}             & NA & tt0268639 & 6.4 &     84 &  0.792 & 6.300 & 4\\\\\n",
       "\t ts45948  & Monty Python's Fliegender Zirkus    & SHOW  & Monty Python's Fliegender Zirkus consisted of two 45-minute Monty Python German television comedy specials produced by WDR for West German television. The two episodes were first broadcast in January and December 1972 and were shot entirely on film and mostly on location in Bavaria, with the first episode recorded in German and the second recorded in English and then dubbed into German.                                                                                             & 1972 & TV-MA &  43 & {[}'comedy'{]}                                          & {[}{]}                 &  1 & tt0202477 & 8.1 &   2151 &  1.487 & 7.000 & 4\\\\\n",
       "\t tm200475 & Beirut, Oh Beirut                   & MOVIE & In the aftermath of the 1967 defeat, four young Lebanese try to figure out their places in a society whose rules seem to have changed. It proved to be an extraordinary anticipation of the civil war that would engulf the country while the film was being edited.                                                                                                                                                                                                                              & 1975 &       & 110 & {[}'drama'{]}                                           & {[}'LB'{]}             & NA & tt0169599 & 6.4 &    108 &  1.025 & 7.200 & 4\\\\\n",
       "\t tm90896  & The Return of the Prodigal Son      & MOVIE & In this Andre Gide adaptation, an activist is released after many years in prison and returns home, shaking up established relationships among his family members at the farm governed by his strict father. Demonstrating Chahineâ€™s eclecticism, this is an elegant melodrama, exuberant musical, layered allegory, and profound portrait of personal and political disillusionment.                                                                                                           & 1976 &       & 124 & {[}'music', 'drama', 'crime'{]}                         & {[}'DZ', 'EG'{]}       & NA & tt0074168 & 7.2 &    780 &  1.858 & 5.300 & 4\\\\\n",
       "\t tm336403 & Khoon Khoon                         & MOVIE & As a crazed killer blazes a trail of blood through an anxious city, a hardened cop aims to take him down by any means in this remake of Dirty Harry.                                                                                                                                                                                                                                                                                                                                              & 1973 &       & 131 & {[}'crime', 'thriller'{]}                               & {[}'IN'{]}             & NA & tt0230412 & 5.1 &     41 &  1.948 & 3.800 & 4\\\\\n",
       "\t ... & ... & ... & ... & ... & ... & ... & ... & ... & ... & ... & ... & ... & ... & ... & ...\\\\\n",
       "\t tm851599  & Tersanjung: The Movie                        & MOVIE & After growing up in a tumultuous household, Yura finds herself in a love triangle with two close friends as she faces a personal and financial crisis.                                                                                                                                                                                                                                                                                                                                                                                                                                                                                                                                                                                                                                                                                                                                                  & 2021 &       & 114 & {[}'drama', 'romance'{]}                  & {[}'ID'{]}       & NA & tt11668994 & 5.8 &  216 &  2.747 &  8.2 & 4\\\\\n",
       "\t tm1110241 & Kaaval                                       & MOVIE & Thampan and Antony are a long time best friends and business partners who owned a saw mill at Kattappana in the past. A family tragedy and its falling-out separates them for good. But now Antony and his family faces a grievous situation, and he is forced to ask his old friend for a help out. The timeline of the story spans over two generations                                                                                                                                                                                                                                                                                                                                                                                                                                                                                                                                               & 2021 &       & 148 & {[}'thriller', 'action', 'drama'{]}       & {[}'IN'{]}       & NA & tt11182984 & 5.1 & 1497 &  1.978 &  5.3 & 4\\\\\n",
       "\t tm993616  & The Tambour of Retribution                   & MOVIE & The son of the swordsman falls in love with the daughter of Tagaga in a social paradox based on selling joy (wedding) and buying death                                                                                                                                                                                                                                                                                                                                                                                                                                                                                                                                                                                                                                                                                                                                                                  & 2021 &       &  92 & {[}'drama'{]}                             & {[}'SA'{]}       & NA & tt13657102 & 6.8 & 1007 &  1.971 &  7.5 & 4\\\\\n",
       "\t tm1099342 & Devdas Brothers                              & MOVIE & After their first heartbreaks, four jilted young men plan drastic ways to get back at the women who left them - and are in for a sobering lesson.                                                                                                                                                                                                                                                                                                                                                                                                                                                                                                                                                                                                                                                                                                                                                       & 2021 &       &  99 & {[}'drama'{]}                             & {[}{]}           & NA & tt12478372 & 3.3 &   51 &     NA &   NA & 4\\\\\n",
       "\t tm831387  & What Happened to Mr Cha?                     & MOVIE & With the peak of his career long behind him, an actor clings to his past glory â€” until a sudden wake-up call forces him to face who he's become.                                                                                                                                                                                                                                                                                                                                                                                                                                                                                                                                                                                                                                                                                                                                                      & 2021 &       & 102 & {[}'comedy', 'drama'{]}                   & {[}'KR'{]}       & NA & tt13667212 & 4.3 &  357 &  9.066 &  6.9 & 4\\\\\n",
       "\t tm878575  & The Heartbreak Club                          & MOVIE & Coping with heartbreak, the shy owner of floundering cafe find solace in the Javanese love songs of Didi Kempot.                                                                                                                                                                                                                                                                                                                                                                                                                                                                                                                                                                                                                                                                                                                                                                                        & 2021 &       & 101 & {[}'comedy', 'drama', 'romance'{]}        & {[}'ID'{]}       & NA & tt11841144 & 6.3 &  196 &  1.401 &  8.0 & 4\\\\\n",
       "\t ts287687  & Lava Ka Dhaava                               & SHOW  & Actor Jaaved Jaafferi brings his signature humor to this Hindi dubbing of the show where teams creatively navigate rooms flooded with make-believe lava.                                                                                                                                                                                                                                                                                                                                                                                                                                                                                                                                                                                                                                                                                                                                                & 2021 &       &  30 & {[}'reality'{]}                           & {[}'IO'{]}       &  1 & tt14492912 & 6.1 &   42 &  1.499 &   NA & 4\\\\\n",
       "\t tm1099969 & Angeliena                                    & MOVIE & After a string of life-changing revelations, a beloved parking attendant pieces a new plan together and chases her dream of traveling the world.                                                                                                                                                                                                                                                                                                                                                                                                                                                                                                                                                                                                                                                                                                                                                        & 2021 &       &  95 & {[}'comedy', 'drama', 'family'{]}         & {[}'ZA'{]}       & NA & tt15303262 & 7.3 & 1164 &  3.827 &  6.0 & 4\\\\\n",
       "\t ts319608  & The Family That Sings Together: The Camargos & SHOW  & Surrounded by family and friends, ZezÃ© Di Camargo and daughter Wanessa spend time together and collaborate creatively in this exclusive reality series.                                                                                                                                                                                                                                                                                                                                                                                                                                                                                                                                                                                                                                                                                                                                                & 2021 &       &  39 & {[}'documentation', 'music', 'reality'{]} & {[}'BR'{]}       &  1 & tt16260968 & 5.3 &   45 &  1.002 &   NA & 4\\\\\n",
       "\t tm846586  & Layla Majnun                                 & MOVIE & While in Azerbaijan, Layla, an Indonesian scholar, falls for Samir, an admirer of her work â€” but her arranged marriage stands in the way.                                                                                                                                                                                                                                                                                                                                                                                                                                                                                                                                                                                                                                                                                                                                                             & 2021 &       & 119 & {[}'romance', 'drama'{]}                  & {[}'ID'{]}       & NA & tt11313944 & 6.0 &  277 &  2.727 &  7.5 & 4\\\\\n",
       "\t ts288861  & Let's Eat                                    & SHOW  & A food-blogging insurance agent encounters a friend from elementary school with a vendetta against him -- but soon becomes her sidekick.                                                                                                                                                                                                                                                                                                                                                                                                                                                                                                                                                                                                                                                                                                                                                                & 2021 & TV-14 &  60 & {[}'drama', 'comedy'{]}                   & {[}'TH'{]}       &  1 & tt15978704 & 8.2 &    5 &  2.334 &   NA & 4\\\\\n",
       "\t ts273317  & Pitta Kathalu                                & SHOW  & Four different women, four journeys of love and betrayal. The common thread? They all want to dismantle the patriarchy.                                                                                                                                                                                                                                                                                                                                                                                                                                                                                                                                                                                                                                                                                                                                                                                 & 2021 & TV-MA &  37 & {[}'drama', 'romance'{]}                  & {[}'IN'{]}       &  1 & tt13878800 & 5.1 &  738 &  1.400 &  5.5 & 4\\\\\n",
       "\t tm996479  & Tuesdays And Fridays                         & MOVIE & Two millennials get into a relationship where they are allowed to meet only on 'Tuesdays \\& Fridays'.                                                                                                                                                                                                                                                                                                                                                                                                                                                                                                                                                                                                                                                                                                                                                                                                    & 2021 &       & 106 & {[}'romance', 'comedy'{]}                 & {[}'GB', 'IN'{]} & NA & tt9176102  & 4.4 &  792 &  1.589 &  5.3 & 4\\\\\n",
       "\t ts307884  & HQ Barbers                                   & SHOW  & When a family run barber shop in the heart of Lagos is threatened by real estate developers, they'll do whatever it takes to stay in business.                                                                                                                                                                                                                                                                                                                                                                                                                                                                                                                                                                                                                                                                                                                                                          & 2021 & TV-14 &  24 & {[}'comedy'{]}                            & {[}'NG'{]}       &  1 &            &  NA &   NA &  0.840 &   NA & 4\\\\\n",
       "\t tm1091956 & A Faraway Land                               & MOVIE & In the Faroe Islands, a married woman meets a reporter filming a documentary on overseas Filipino workers, which soon sparks a complicated love story.                                                                                                                                                                                                                                                                                                                                                                                                                                                                                                                                                                                                                                                                                                                                                  & 2021 &       & 101 & {[}'drama'{]}                             & {[}'PH', 'FO'{]} & NA & tt15260940 & 5.0 &  136 &  1.748 &  6.7 & 4\\\\\n",
       "\t tm985747  & I Missed You                                 & MOVIE & A woman who was overwhelmed by work and had no time to imagine the future. Her paralyzed life was interrupted by a live-streaming man who always has fun in life and acts wildly, resulting in a series of fermentation processes.                                                                                                                                                                                                                                                                                                                                                                                                                                                                                                                                                                                                                                                                      & 2021 &       &  96 & {[}'drama', 'romance'{]}                  & {[}'TW'{]}       & NA & tt14051714 & 5.7 &  250 &  2.451 &  6.3 & 4\\\\\n",
       "\t tm959213  & My Amanda                                    & MOVIE & Two unusually close friends share every aspect of their lives together. As their lives evolve, their bond remains the only constant.                                                                                                                                                                                                                                                                                                                                                                                                                                                                                                                                                                                                                                                                                                                                                                    & 2021 &       &  89 & {[}'drama', 'romance'{]}                  & {[}'PH'{]}       & NA & tt13136084 & 5.7 &  308 &  2.908 &  5.7 & 4\\\\\n",
       "\t tm1040816 & Momshies! Your Soul is Mine                  & MOVIE & Three women with totally different lives accidentally get their souls switched as they struggle with the comedic misadventures of their new worlds, they realize that their own lives and families are worth loving and living for. Jolene, a famous person who always has fans in public, Mylene - an overprotected lady who always gets pleasure and love and Karlene - a rich famous social media influencer all switch bodies but their lives did not just change, but their souls switched that leaves them with no choice but to stick together to live the peculiar lives of each other. Karlene then has to convince a group of investors to invest in her near-bankrupt hotel, but no one believes her because she is trapped in Myleneâ€™s body. In the process of all of their imaginative scenarios, they drew closer to each other into becoming the soul sisters they are destined to be. & 2021 &       & 108 & {[}'comedy'{]}                            & {[}'PH'{]}       & NA & tt14412240 & 5.8 &   27 &  2.170 &   NA & 4\\\\\n",
       "\t tm1053409 & Happiness Ever After                         & MOVIE & Five years later from where we left our characters, again tackling sisterhood and friendship, this time with the inclusion of a new romantic arc.                                                                                                                                                                                                                                                                                                                                                                                                                                                                                                                                                                                                                                                                                                                                                       & 2021 &       &  99 & {[}'drama', 'romance'{]}                  & {[}'ZA'{]}       & NA & tt14307890 & 4.2 &  163 & 11.536 &  7.3 & 4\\\\\n",
       "\t tm1165179 & Kongsi Raya                                  & MOVIE & Jack - a Chinese chef-manager who is in-line to take over his family`s restaurant and Sharifah, a TV programme producer for her celebrity chef father Rahim - are crazy in love. But both their fathers are against their relationship and it all escalates in intensity until the two families challenge each other in a televised cooking competition. Jack and Sharifah must find a solution before all of that gets out of hand.                                                                                                                                                                                                                                                                                                                                                                                                                                                                    & 2022 &       & 102 & {[}'comedy'{]}                            & {[}'MY'{]}       & NA & tt16806990 & 7.0 &   66 &  2.112 &   NA & 4\\\\\n",
       "\t tm1216735 & Sun of the Soil                              & MOVIE & In 14th-century Mali, an ambitious young royal named Mansa Musa ascended the throne of the richest kingdom in human history. This follows Malian artist Abdou Ouologuem on a journey to discover the truth behind the legendary African king.                                                                                                                                                                                                                                                                                                                                                                                                                                                                                                                                                                                                                                                           & 2022 &       &  26 & {[}{]}                                    & {[}{]}           & NA &            &  NA &   NA &  1.179 &  7.0 & 4\\\\\n",
       "\t tm985215  & Princess 'Daya'Reese                         & MOVIE & Reese is a con artist from Manila who dreams of living like royalty. An opportunity arrives in the form of Princess Ulap, a runaway princess from the mysterious kingdom of Oro, who looks exactly like her. Switching places in exchange for gold, Reese flies to Ulap's kingdom where she meets Caleb, a young and determined reporter who is doing a documentary on the island of Oro. The road to happily ever after becomes bumpy when the man in search for truth begins to fall in love with the fake princess.                                                                                                                                                                                                                                                                                                                                                                                  & 2021 &       & 115 & {[}'comedy', 'romance'{]}                 & {[}'PH'{]}       & NA & tt13399802 & 7.1 &   50 &  1.383 &   NA & 4\\\\\n",
       "\t tm1066324 & Super Monsters: Once Upon a Rhyme            & MOVIE & The Super Monsters rethink exemplary fantasies and most loved nursery rhymes with a melodic, otherworldly twist.                                                                                                                                                                                                                                                                                                                                                                                                                                                                                                                                                                                                                                                                                                                                                                                        & 2021 &       &  25 & {[}'animation', 'family'{]}               & {[}{]}           & NA & tt14586752 & 5.6 &   38 & 53.762 &  6.3 & 4\\\\\n",
       "\t tm1097142 & My Bride                                     & MOVIE & The story follows a young man and woman who go through various situations in their journey to find the right partner, which raises questions about traditional marriage and marriage based on love.                                                                                                                                                                                                                                                                                                                                                                                                                                                                                                                                                                                                                                                                                                     & 2021 &       &  93 & {[}'romance', 'comedy', 'drama'{]}        & {[}'EG'{]}       & NA & tt14216488 & 5.0 &  327 &  2.545 &  5.3 & 4\\\\\n",
       "\t tm1074617 & Bling Empire - The Afterparty                & MOVIE & The stars of \"Bling Empire\" discuss the show's success and play bling-themed games, then comic Joel Kim Booster makes his case for joining the cast.                                                                                                                                                                                                                                                                                                                                                                                                                                                                                                                                                                                                                                                                                                                                                    & 2021 &       &  35 & {[}{]}                                    & {[}'US'{]}       & NA &            &  NA &   NA &     NA &   NA & 4\\\\\n",
       "\t tm1014599 & Fine Wine                                    & MOVIE & A beautiful love story that can happen between two people regardless of their age gaps.                                                                                                                                                                                                                                                                                                                                                                                                                                                                                                                                                                                                                                                                                                                                                                                                                 & 2021 &       & 100 & {[}'romance', 'drama'{]}                  & {[}'NG'{]}       & NA & tt13857480 & 6.8 &   45 &  1.466 &   NA & 4\\\\\n",
       "\t tm898842  & C/O Kaadhal                                  & MOVIE & A heart warming film that explores the concept of romance with episodes involving four sets of people of different age group.                                                                                                                                                                                                                                                                                                                                                                                                                                                                                                                                                                                                                                                                                                                                                                           & 2021 &       & 134 & {[}'drama'{]}                             & {[}{]}           & NA & tt11803618 & 7.7 &  348 &     NA &   NA & 4\\\\\n",
       "\t tm1059008 & Lokillo                                      & MOVIE & A controversial TV host and comedian who has built his career on sexist humor is forced to assume a woman's identity to elude a relentless drug dealer.                                                                                                                                                                                                                                                                                                                                                                                                                                                                                                                                                                                                                                                                                                                                                 & 2021 &       &  90 & {[}'comedy'{]}                            & {[}'CO'{]}       & NA & tt14585902 & 3.8 &   68 & 26.005 &  6.3 & 4\\\\\n",
       "\t tm1035612 & Dad Stop Embarrassing Me - The Afterparty    & MOVIE & Jamie Foxx, David Alan Grier and more from the cast of the family comedy discuss the show, humiliating family moments, bad BBQ dishes and sitcom openings.                                                                                                                                                                                                                                                                                                                                                                                                                                                                                                                                                                                                                                                                                                                                              & 2021 & PG-13 &  37 & {[}{]}                                    & {[}'US'{]}       & NA &            &  NA &   NA &  1.296 & 10.0 & 4\\\\\n",
       "\t ts271048  & Mighty Little Bheem: Kite Festival           & SHOW  & With winter behind them, Bheem and his townspeople usher in a sunny new season in all their favorite ways during the Makar Sankranti festival.                                                                                                                                                                                                                                                                                                                                                                                                                                                                                                                                                                                                                                                                                                                                                          & 2021 &       &   7 & {[}'family', 'animation', 'comedy'{]}     & {[}{]}           &  1 & tt13711094 & 7.8 &   18 &  2.289 & 10.0 & 4\\\\\n",
       "\\end{tabular}\n"
      ],
      "text/markdown": [
       "\n",
       "A data.frame: 5850 × 16\n",
       "\n",
       "| id &lt;chr&gt; | title &lt;chr&gt; | type &lt;chr&gt; | description &lt;chr&gt; | release_year &lt;int&gt; | age_certification &lt;chr&gt; | runtime &lt;int&gt; | genres &lt;chr&gt; | production_countries &lt;chr&gt; | seasons &lt;dbl&gt; | imdb_id &lt;chr&gt; | imdb_score &lt;dbl&gt; | imdb_votes &lt;dbl&gt; | tmdb_popularity &lt;dbl&gt; | tmdb_score &lt;dbl&gt; | Realease_Year1 &lt;int&gt; |\n",
       "|---|---|---|---|---|---|---|---|---|---|---|---|---|---|---|---|\n",
       "| ts300399 | Five Came Back: The Reference Films | SHOW  | This collection includes 12 World War II-era propaganda films â€” many of which are graphic and offensive â€” discussed in the docuseries \"Five Came Back.\"                                                                                                                                                                                                                                                                                                                                       | 1945 | TV-MA |  51 | ['documentation']                                   | ['US']             |  1 | <!----> |  NA |     NA |  0.600 |    NA | 4 |\n",
       "| tm84618  | Taxi Driver                         | MOVIE | A mentally unstable Vietnam War veteran works as a night-time taxi driver in New York City where the perceived decadence and sleaze feed his urge for violent action.                                                                                                                                                                                                                                                                                                                             | 1976 | R     | 114 | ['drama', 'crime']                                  | ['US']             | NA | tt0075314 | 8.2 | 808582 | 40.965 | 8.179 | 4 |\n",
       "| tm154986 | Deliverance                         | MOVIE | Intent on seeing the Cahulawassee River before it's turned into one huge lake, outdoor fanatic Lewis Medlock takes his friends on a river-rafting trip they'll never forget into the dangerous American back-country.                                                                                                                                                                                                                                                                             | 1972 | R     | 109 | ['drama', 'action', 'thriller', 'european']         | ['US']             | NA | tt0068473 | 7.7 | 107673 | 10.010 | 7.300 | 4 |\n",
       "| tm127384 | Monty Python and the Holy Grail     | MOVIE | King Arthur, accompanied by his squire, recruits his Knights of the Round Table, including Sir Bedevere the Wise, Sir Lancelot the Brave, Sir Robin the Not-Quite-So-Brave-As-Sir-Lancelot and Sir Galahad the Pure. On the way, Arthur battles the Black Knight who, despite having had all his limbs chopped off, insists he can still fight. They reach Camelot, but Arthur decides not  to enter, as \"it is a silly place\".                                                                   | 1975 | PG    |  91 | ['fantasy', 'action', 'comedy']                     | ['GB']             | NA | tt0071853 | 8.2 | 534486 | 15.461 | 7.811 | 4 |\n",
       "| tm120801 | The Dirty Dozen                     | MOVIE | 12 American military prisoners in World War II are ordered to infiltrate a well-guarded enemy chÃ¢teau and kill the Nazi officers vacationing there. The soldiers, most of whom are facing death sentences for a variety of violent crimes, agree to the mission and the possible commuting of their sentences.                                                                                                                                                                                   | 1967 | <!----> | 150 | ['war', 'action']                                   | ['GB', 'US']       | NA | tt0061578 | 7.7 |  72662 | 20.398 | 7.600 | 4 |\n",
       "| ts22164  | Monty Python's Flying Circus        | SHOW  | A British sketch comedy series with the shows being composed of surreality, risquÃ© or innuendo-laden humour, sight gags and observational sketches without punchlines.                                                                                                                                                                                                                                                                                                                           | 1969 | TV-14 |  30 | ['comedy', 'european']                              | ['GB']             |  4 | tt0063929 | 8.8 |  73424 | 17.617 | 8.306 | 4 |\n",
       "| tm70993  | Life of Brian                       | MOVIE | Brian Cohen is an average young Jewish man, but through a series of ridiculous events, he gains a reputation as the Messiah. When he's not dodging his followers or being scolded by his shrill mother, the hapless Brian has to contend with the pompous Pontius Pilate and acronym-obsessed members of a separatist movement. Rife with Monty Python's signature absurdity, the tale finds Brian's life paralleling Biblical lore, albeit with many more laughs.                                | 1979 | R     |  94 | ['comedy']                                          | ['GB']             | NA | tt0079470 | 8.0 | 395024 | 17.770 | 7.800 | 4 |\n",
       "| tm14873  | Dirty Harry                         | MOVIE | When a madman dubbed 'Scorpio' terrorizes San Francisco, hard-nosed cop, Harry Callahan â€“ famous for his take-no-prisoners approach to law enforcement â€“ is tasked with hunting down the psychopath. Harry eventually collars Scorpio in the process of rescuing a kidnap victim, only to see him walk on technicalities. Now, the maverick detective is determined to nail the maniac himself.                                                                                               | 1971 | R     | 102 | ['thriller', 'action', 'crime']                     | ['US']             | NA | tt0066999 | 7.7 | 155051 | 12.817 | 7.500 | 4 |\n",
       "| tm119281 | Bonnie and Clyde                    | MOVIE | In the 1930s, bored waitress Bonnie Parker falls in love with an ex-con named Clyde Barrow and together they start a violent crime spree through the country, stealing cars and robbing banks.                                                                                                                                                                                                                                                                                                    | 1967 | R     | 110 | ['crime', 'drama', 'action']                        | ['US']             | NA | tt0061418 | 7.7 | 112048 | 15.687 | 7.500 | 4 |\n",
       "| tm98978  | The Blue Lagoon                     | MOVIE | Two small children and a ship's cook survive a shipwreck and find safety on an idyllic tropical island. Soon, however, the cook dies and the young boy and girl are left on their own. Days become years and Emmeline and Richard make a home for themselves surrounded by exotic creatures and nature's beauty. But will they ever see civilization again?                                                                                                                                       | 1980 | R     | 104 | ['romance', 'action', 'drama']                      | ['US']             | NA | tt0080453 | 5.8 |  69844 | 50.324 | 6.156 | 4 |\n",
       "| tm44204  | The Guns of Navarone                | MOVIE | A team of allied saboteurs are assigned an impossible mission: infiltrate an impregnable Nazi-held island and destroy the two enormous long-range field guns that prevent the rescue of 2,000 trapped British soldiers.                                                                                                                                                                                                                                                                           | 1961 | <!----> | 158 | ['action', 'drama', 'war']                          | ['GB', 'US']       | NA | tt0054953 | 7.5 |  50748 | 13.844 | 7.300 | 4 |\n",
       "| tm67378  | The Professionals                   | MOVIE | An arrogant Texas millionaire hires four adventurers to rescue his kidnapped wife from a notorious Mexican bandit.                                                                                                                                                                                                                                                                                                                                                                                | 1966 | PG-13 | 117 | ['western', 'action', 'european']                   | ['US']             | NA | tt0060862 | 7.3 |  16446 | 13.123 | 7.100 | 4 |\n",
       "| tm69997  | Richard Pryor: Live in Concert      | MOVIE | Richard Pryor delivers monologues on race, sex, family and his favorite targetâ€”himself, live at the Terrace Theatre in Long Beach, California.                                                                                                                                                                                                                                                                                                                                                  | 1979 | R     |  78 | ['comedy', 'documentation']                         | ['US']             | NA | tt0079807 | 8.1 |   5141 |  4.718 | 7.500 | 4 |\n",
       "| tm16479  | White Christmas                     | MOVIE | Two talented song-and-dance men team up after the war to become one of the hottest acts in show business. In time they befriend and become romantically involved with the beautiful Haynes sisters who comprise a sister act.                                                                                                                                                                                                                                                                     | 1954 | <!----> | 115 | ['romance', 'comedy']                               | ['US']             | NA | tt0047673 | 7.5 |  42488 |  8.915 | 7.200 | 4 |\n",
       "| tm135083 | Cairo Station                       | MOVIE | Qinawi, a physically challenged peddler who makes his living selling newspapers in the central Cairo train station, is obsessed by Hanuma, an attractive young woman who sells drinks. While she jokes with him about a possible relationship, she is actually in love with Abu Siri, a strong and respected porter at the station who is struggling to unionize his fellow workers to combat their boss' exploitative and abusive treatment.                                                     | 1958 | <!----> |  77 | ['drama', 'crime', 'comedy']                        | ['EG']             | NA | tt0051390 | 7.5 |   4471 |  5.546 | 7.300 | 4 |\n",
       "| tm89386  | Hitler: A Career                    | MOVIE | A keen chronicle of the unlikely rise to power of Adolf Hitler (1889-1945) and a dissection of the Third Reich (1933-1945), but also an analysis of mass psychology and how the desperate crowd can be deceived and shepherded to the slaughterhouse.                                                                                                                                                                                                                                             | 1977 | PG    | 150 | ['history', 'documentation', 'european']            | ['DE']             | NA | tt0191182 | 7.5 |   2460 |  4.305 | 7.300 | 4 |\n",
       "| tm156453 | FTA                                 | MOVIE | A documentary about a political troupe headed by actors Jane Fonda and Donald Sutherland which traveled to towns near military bases in the US in the early 1970s. The group put on shows called \"F.T.A.\", which stood for \"F**k the Army\", and was aimed at convincing soldiers to voice their opposition to the Vietnam War, which was raging at the time. Various singers, actors and other entertainers performed antiwar songs and skits during the show.                                    | 1972 | R     |  97 | ['war', 'documentation', 'music', 'comedy']         | ['US']             | NA | tt0068562 | 6.2 |    418 |  1.268 | 6.100 | 4 |\n",
       "| tm14350  | Alexandriaâ€¦ Why?                  | MOVIE | Set against the panoramic backdrop of war-torn Egypt, director Youssef Chahine tells a highly personal tale of love and determination. Amid the poverty, death and suffering caused by World War II, 18 year-old Yehia, retreats into a private world of fantasy and longing. Obsessed with Hollywood, he dreams of one day studying filmmaking in America, but after falling in love and discovering the lies of European occupation, Yehia profoundly reevaluates his identity and allegiances. | 1979 | <!----> | 133 | ['drama']                                           | ['EG']             | NA | tt0077751 | 7.2 |   1727 |  1.370 | 6.000 | 4 |\n",
       "| tm81728  | The Land                            | MOVIE | Set in 1933, the mayor informs the peasants that the share of irrigation of their land will be split equally between them and feudal lord Mahmoud Bey. The peasants send Muhammad Effendi to submit a petition to the government. Then Mahmoud Bey proposes a project that would require taking part of the peasants' lands.                                                                                                                                                                      | 1969 | <!----> | 129 | ['drama']                                           | ['EG']             | NA | tt0064038 | 8.1 |   1958 |  1.265 | 8.500 | 4 |\n",
       "| tm94651  | Dostana                             | MOVIE | Two close friends decide to enter law enforcement, one as a police officer, the other as a lawyer, but their friendship begins to unravel when they both fall in love with the same woman.                                                                                                                                                                                                                                                                                                        | 1980 | <!----> | 161 | ['drama', 'comedy', 'crime', 'romance', 'action']   | ['IN']             | NA | tt0080653 | 2.1 |     25 |  3.980 | 4.900 | 4 |\n",
       "| tm27298  | Saladin the Victorious              | MOVIE | Saladin, the first sultan of Egypt and Syria, leads the Muslim military campaign against the invading Christians from Europe during the Third Crusade.                                                                                                                                                                                                                                                                                                                                            | 1963 | <!----> | 186 | ['action', 'drama', 'war', 'history', 'romance']    | ['EG']             | NA | tt0057357 | 7.6 |   2508 |  4.156 | 7.100 | 4 |\n",
       "| tm100027 | Alibaba Aur 40 Chor                 | MOVIE | The movie is based on the story of Ali Baba and the Forty Thieves, from the One Thousand and One Nights or Arabian Tales. The role of Ali Baba is played by Dharmendra and Hema Malini play Morjina.                                                                                                                                                                                                                                                                                              | 1979 | <!----> | 146 | ['drama', 'romance', 'action', 'fantasy', 'family'] | ['SU', 'IN']       | NA | tt0079749 | 6.2 |    565 |  2.582 | 6.800 | 4 |\n",
       "| tm19608  | The Blazing Sun                     | MOVIE | A rich landlord floods and destroys a village on purpose to prevent the people living there from making a profit off their crops. What he doesn't know is that his own daughter is in love with Ahmed, a young man from the village.                                                                                                                                                                                                                                                              | 1954 | <!----> | 100 | ['crime', 'romance', 'drama']                       | ['EG']             | NA | tt0047500 | 7.4 |   1219 |  2.184 | 7.000 | 4 |\n",
       "| tm204541 | Dark Waters                         | MOVIE | Ragab, a poor sailor, returns home to Alexandria after three years of absence, during which he tried to save money to marry his one true love, Hamedah. But there's trouble on the harbor, and with an old friend.                                                                                                                                                                                                                                                                                | 1956 | <!----> | 120 | ['action', 'drama', 'romance', 'thriller']          | ['EG']             | NA | tt0049761 | 6.7 |    610 |  0.849 | 5.900 | 4 |\n",
       "| tm259855 | We Are All for the Fatherland       | MOVIE | After the 1978 Israeli invasion of Lebanon, children try to sing the national anthem as citizens search for hope in the war-torn South.                                                                                                                                                                                                                                                                                                                                                           | 1979 | <!----> |  74 | ['documentation']                                   | ['LB', 'CA', 'FR'] | NA | tt0170799 | 6.1 |     47 |  0.600 | 5.200 | 4 |\n",
       "| tm356209 | Singapore                           | MOVIE | When his employee disappears in Singapore, Shyam travels from India to investigate the absence and becomes entangled in a deadly plot.                                                                                                                                                                                                                                                                                                                                                            | 1960 | <!----> | 158 | ['drama', 'thriller', 'crime']                      | ['IN']             | NA | tt0268639 | 6.4 |     84 |  0.792 | 6.300 | 4 |\n",
       "| ts45948  | Monty Python's Fliegender Zirkus    | SHOW  | Monty Python's Fliegender Zirkus consisted of two 45-minute Monty Python German television comedy specials produced by WDR for West German television. The two episodes were first broadcast in January and December 1972 and were shot entirely on film and mostly on location in Bavaria, with the first episode recorded in German and the second recorded in English and then dubbed into German.                                                                                             | 1972 | TV-MA |  43 | ['comedy']                                          | []                 |  1 | tt0202477 | 8.1 |   2151 |  1.487 | 7.000 | 4 |\n",
       "| tm200475 | Beirut, Oh Beirut                   | MOVIE | In the aftermath of the 1967 defeat, four young Lebanese try to figure out their places in a society whose rules seem to have changed. It proved to be an extraordinary anticipation of the civil war that would engulf the country while the film was being edited.                                                                                                                                                                                                                              | 1975 | <!----> | 110 | ['drama']                                           | ['LB']             | NA | tt0169599 | 6.4 |    108 |  1.025 | 7.200 | 4 |\n",
       "| tm90896  | The Return of the Prodigal Son      | MOVIE | In this Andre Gide adaptation, an activist is released after many years in prison and returns home, shaking up established relationships among his family members at the farm governed by his strict father. Demonstrating Chahineâ€™s eclecticism, this is an elegant melodrama, exuberant musical, layered allegory, and profound portrait of personal and political disillusionment.                                                                                                           | 1976 | <!----> | 124 | ['music', 'drama', 'crime']                         | ['DZ', 'EG']       | NA | tt0074168 | 7.2 |    780 |  1.858 | 5.300 | 4 |\n",
       "| tm336403 | Khoon Khoon                         | MOVIE | As a crazed killer blazes a trail of blood through an anxious city, a hardened cop aims to take him down by any means in this remake of Dirty Harry.                                                                                                                                                                                                                                                                                                                                              | 1973 | <!----> | 131 | ['crime', 'thriller']                               | ['IN']             | NA | tt0230412 | 5.1 |     41 |  1.948 | 3.800 | 4 |\n",
       "| ... | ... | ... | ... | ... | ... | ... | ... | ... | ... | ... | ... | ... | ... | ... | ... |\n",
       "| tm851599  | Tersanjung: The Movie                        | MOVIE | After growing up in a tumultuous household, Yura finds herself in a love triangle with two close friends as she faces a personal and financial crisis.                                                                                                                                                                                                                                                                                                                                                                                                                                                                                                                                                                                                                                                                                                                                                  | 2021 | <!----> | 114 | ['drama', 'romance']                  | ['ID']       | NA | tt11668994 | 5.8 |  216 |  2.747 |  8.2 | 4 |\n",
       "| tm1110241 | Kaaval                                       | MOVIE | Thampan and Antony are a long time best friends and business partners who owned a saw mill at Kattappana in the past. A family tragedy and its falling-out separates them for good. But now Antony and his family faces a grievous situation, and he is forced to ask his old friend for a help out. The timeline of the story spans over two generations                                                                                                                                                                                                                                                                                                                                                                                                                                                                                                                                               | 2021 | <!----> | 148 | ['thriller', 'action', 'drama']       | ['IN']       | NA | tt11182984 | 5.1 | 1497 |  1.978 |  5.3 | 4 |\n",
       "| tm993616  | The Tambour of Retribution                   | MOVIE | The son of the swordsman falls in love with the daughter of Tagaga in a social paradox based on selling joy (wedding) and buying death                                                                                                                                                                                                                                                                                                                                                                                                                                                                                                                                                                                                                                                                                                                                                                  | 2021 | <!----> |  92 | ['drama']                             | ['SA']       | NA | tt13657102 | 6.8 | 1007 |  1.971 |  7.5 | 4 |\n",
       "| tm1099342 | Devdas Brothers                              | MOVIE | After their first heartbreaks, four jilted young men plan drastic ways to get back at the women who left them - and are in for a sobering lesson.                                                                                                                                                                                                                                                                                                                                                                                                                                                                                                                                                                                                                                                                                                                                                       | 2021 | <!----> |  99 | ['drama']                             | []           | NA | tt12478372 | 3.3 |   51 |     NA |   NA | 4 |\n",
       "| tm831387  | What Happened to Mr Cha?                     | MOVIE | With the peak of his career long behind him, an actor clings to his past glory â€” until a sudden wake-up call forces him to face who he's become.                                                                                                                                                                                                                                                                                                                                                                                                                                                                                                                                                                                                                                                                                                                                                      | 2021 | <!----> | 102 | ['comedy', 'drama']                   | ['KR']       | NA | tt13667212 | 4.3 |  357 |  9.066 |  6.9 | 4 |\n",
       "| tm878575  | The Heartbreak Club                          | MOVIE | Coping with heartbreak, the shy owner of floundering cafe find solace in the Javanese love songs of Didi Kempot.                                                                                                                                                                                                                                                                                                                                                                                                                                                                                                                                                                                                                                                                                                                                                                                        | 2021 | <!----> | 101 | ['comedy', 'drama', 'romance']        | ['ID']       | NA | tt11841144 | 6.3 |  196 |  1.401 |  8.0 | 4 |\n",
       "| ts287687  | Lava Ka Dhaava                               | SHOW  | Actor Jaaved Jaafferi brings his signature humor to this Hindi dubbing of the show where teams creatively navigate rooms flooded with make-believe lava.                                                                                                                                                                                                                                                                                                                                                                                                                                                                                                                                                                                                                                                                                                                                                | 2021 | <!----> |  30 | ['reality']                           | ['IO']       |  1 | tt14492912 | 6.1 |   42 |  1.499 |   NA | 4 |\n",
       "| tm1099969 | Angeliena                                    | MOVIE | After a string of life-changing revelations, a beloved parking attendant pieces a new plan together and chases her dream of traveling the world.                                                                                                                                                                                                                                                                                                                                                                                                                                                                                                                                                                                                                                                                                                                                                        | 2021 | <!----> |  95 | ['comedy', 'drama', 'family']         | ['ZA']       | NA | tt15303262 | 7.3 | 1164 |  3.827 |  6.0 | 4 |\n",
       "| ts319608  | The Family That Sings Together: The Camargos | SHOW  | Surrounded by family and friends, ZezÃ© Di Camargo and daughter Wanessa spend time together and collaborate creatively in this exclusive reality series.                                                                                                                                                                                                                                                                                                                                                                                                                                                                                                                                                                                                                                                                                                                                                | 2021 | <!----> |  39 | ['documentation', 'music', 'reality'] | ['BR']       |  1 | tt16260968 | 5.3 |   45 |  1.002 |   NA | 4 |\n",
       "| tm846586  | Layla Majnun                                 | MOVIE | While in Azerbaijan, Layla, an Indonesian scholar, falls for Samir, an admirer of her work â€” but her arranged marriage stands in the way.                                                                                                                                                                                                                                                                                                                                                                                                                                                                                                                                                                                                                                                                                                                                                             | 2021 | <!----> | 119 | ['romance', 'drama']                  | ['ID']       | NA | tt11313944 | 6.0 |  277 |  2.727 |  7.5 | 4 |\n",
       "| ts288861  | Let's Eat                                    | SHOW  | A food-blogging insurance agent encounters a friend from elementary school with a vendetta against him -- but soon becomes her sidekick.                                                                                                                                                                                                                                                                                                                                                                                                                                                                                                                                                                                                                                                                                                                                                                | 2021 | TV-14 |  60 | ['drama', 'comedy']                   | ['TH']       |  1 | tt15978704 | 8.2 |    5 |  2.334 |   NA | 4 |\n",
       "| ts273317  | Pitta Kathalu                                | SHOW  | Four different women, four journeys of love and betrayal. The common thread? They all want to dismantle the patriarchy.                                                                                                                                                                                                                                                                                                                                                                                                                                                                                                                                                                                                                                                                                                                                                                                 | 2021 | TV-MA |  37 | ['drama', 'romance']                  | ['IN']       |  1 | tt13878800 | 5.1 |  738 |  1.400 |  5.5 | 4 |\n",
       "| tm996479  | Tuesdays And Fridays                         | MOVIE | Two millennials get into a relationship where they are allowed to meet only on 'Tuesdays &amp; Fridays'.                                                                                                                                                                                                                                                                                                                                                                                                                                                                                                                                                                                                                                                                                                                                                                                                    | 2021 | <!----> | 106 | ['romance', 'comedy']                 | ['GB', 'IN'] | NA | tt9176102  | 4.4 |  792 |  1.589 |  5.3 | 4 |\n",
       "| ts307884  | HQ Barbers                                   | SHOW  | When a family run barber shop in the heart of Lagos is threatened by real estate developers, they'll do whatever it takes to stay in business.                                                                                                                                                                                                                                                                                                                                                                                                                                                                                                                                                                                                                                                                                                                                                          | 2021 | TV-14 |  24 | ['comedy']                            | ['NG']       |  1 | <!----> |  NA |   NA |  0.840 |   NA | 4 |\n",
       "| tm1091956 | A Faraway Land                               | MOVIE | In the Faroe Islands, a married woman meets a reporter filming a documentary on overseas Filipino workers, which soon sparks a complicated love story.                                                                                                                                                                                                                                                                                                                                                                                                                                                                                                                                                                                                                                                                                                                                                  | 2021 | <!----> | 101 | ['drama']                             | ['PH', 'FO'] | NA | tt15260940 | 5.0 |  136 |  1.748 |  6.7 | 4 |\n",
       "| tm985747  | I Missed You                                 | MOVIE | A woman who was overwhelmed by work and had no time to imagine the future. Her paralyzed life was interrupted by a live-streaming man who always has fun in life and acts wildly, resulting in a series of fermentation processes.                                                                                                                                                                                                                                                                                                                                                                                                                                                                                                                                                                                                                                                                      | 2021 | <!----> |  96 | ['drama', 'romance']                  | ['TW']       | NA | tt14051714 | 5.7 |  250 |  2.451 |  6.3 | 4 |\n",
       "| tm959213  | My Amanda                                    | MOVIE | Two unusually close friends share every aspect of their lives together. As their lives evolve, their bond remains the only constant.                                                                                                                                                                                                                                                                                                                                                                                                                                                                                                                                                                                                                                                                                                                                                                    | 2021 | <!----> |  89 | ['drama', 'romance']                  | ['PH']       | NA | tt13136084 | 5.7 |  308 |  2.908 |  5.7 | 4 |\n",
       "| tm1040816 | Momshies! Your Soul is Mine                  | MOVIE | Three women with totally different lives accidentally get their souls switched as they struggle with the comedic misadventures of their new worlds, they realize that their own lives and families are worth loving and living for. Jolene, a famous person who always has fans in public, Mylene - an overprotected lady who always gets pleasure and love and Karlene - a rich famous social media influencer all switch bodies but their lives did not just change, but their souls switched that leaves them with no choice but to stick together to live the peculiar lives of each other. Karlene then has to convince a group of investors to invest in her near-bankrupt hotel, but no one believes her because she is trapped in Myleneâ€™s body. In the process of all of their imaginative scenarios, they drew closer to each other into becoming the soul sisters they are destined to be. | 2021 | <!----> | 108 | ['comedy']                            | ['PH']       | NA | tt14412240 | 5.8 |   27 |  2.170 |   NA | 4 |\n",
       "| tm1053409 | Happiness Ever After                         | MOVIE | Five years later from where we left our characters, again tackling sisterhood and friendship, this time with the inclusion of a new romantic arc.                                                                                                                                                                                                                                                                                                                                                                                                                                                                                                                                                                                                                                                                                                                                                       | 2021 | <!----> |  99 | ['drama', 'romance']                  | ['ZA']       | NA | tt14307890 | 4.2 |  163 | 11.536 |  7.3 | 4 |\n",
       "| tm1165179 | Kongsi Raya                                  | MOVIE | Jack - a Chinese chef-manager who is in-line to take over his family`s restaurant and Sharifah, a TV programme producer for her celebrity chef father Rahim - are crazy in love. But both their fathers are against their relationship and it all escalates in intensity until the two families challenge each other in a televised cooking competition. Jack and Sharifah must find a solution before all of that gets out of hand.                                                                                                                                                                                                                                                                                                                                                                                                                                                                    | 2022 | <!----> | 102 | ['comedy']                            | ['MY']       | NA | tt16806990 | 7.0 |   66 |  2.112 |   NA | 4 |\n",
       "| tm1216735 | Sun of the Soil                              | MOVIE | In 14th-century Mali, an ambitious young royal named Mansa Musa ascended the throne of the richest kingdom in human history. This follows Malian artist Abdou Ouologuem on a journey to discover the truth behind the legendary African king.                                                                                                                                                                                                                                                                                                                                                                                                                                                                                                                                                                                                                                                           | 2022 | <!----> |  26 | []                                    | []           | NA | <!----> |  NA |   NA |  1.179 |  7.0 | 4 |\n",
       "| tm985215  | Princess 'Daya'Reese                         | MOVIE | Reese is a con artist from Manila who dreams of living like royalty. An opportunity arrives in the form of Princess Ulap, a runaway princess from the mysterious kingdom of Oro, who looks exactly like her. Switching places in exchange for gold, Reese flies to Ulap's kingdom where she meets Caleb, a young and determined reporter who is doing a documentary on the island of Oro. The road to happily ever after becomes bumpy when the man in search for truth begins to fall in love with the fake princess.                                                                                                                                                                                                                                                                                                                                                                                  | 2021 | <!----> | 115 | ['comedy', 'romance']                 | ['PH']       | NA | tt13399802 | 7.1 |   50 |  1.383 |   NA | 4 |\n",
       "| tm1066324 | Super Monsters: Once Upon a Rhyme            | MOVIE | The Super Monsters rethink exemplary fantasies and most loved nursery rhymes with a melodic, otherworldly twist.                                                                                                                                                                                                                                                                                                                                                                                                                                                                                                                                                                                                                                                                                                                                                                                        | 2021 | <!----> |  25 | ['animation', 'family']               | []           | NA | tt14586752 | 5.6 |   38 | 53.762 |  6.3 | 4 |\n",
       "| tm1097142 | My Bride                                     | MOVIE | The story follows a young man and woman who go through various situations in their journey to find the right partner, which raises questions about traditional marriage and marriage based on love.                                                                                                                                                                                                                                                                                                                                                                                                                                                                                                                                                                                                                                                                                                     | 2021 | <!----> |  93 | ['romance', 'comedy', 'drama']        | ['EG']       | NA | tt14216488 | 5.0 |  327 |  2.545 |  5.3 | 4 |\n",
       "| tm1074617 | Bling Empire - The Afterparty                | MOVIE | The stars of \"Bling Empire\" discuss the show's success and play bling-themed games, then comic Joel Kim Booster makes his case for joining the cast.                                                                                                                                                                                                                                                                                                                                                                                                                                                                                                                                                                                                                                                                                                                                                    | 2021 | <!----> |  35 | []                                    | ['US']       | NA | <!----> |  NA |   NA |     NA |   NA | 4 |\n",
       "| tm1014599 | Fine Wine                                    | MOVIE | A beautiful love story that can happen between two people regardless of their age gaps.                                                                                                                                                                                                                                                                                                                                                                                                                                                                                                                                                                                                                                                                                                                                                                                                                 | 2021 | <!----> | 100 | ['romance', 'drama']                  | ['NG']       | NA | tt13857480 | 6.8 |   45 |  1.466 |   NA | 4 |\n",
       "| tm898842  | C/O Kaadhal                                  | MOVIE | A heart warming film that explores the concept of romance with episodes involving four sets of people of different age group.                                                                                                                                                                                                                                                                                                                                                                                                                                                                                                                                                                                                                                                                                                                                                                           | 2021 | <!----> | 134 | ['drama']                             | []           | NA | tt11803618 | 7.7 |  348 |     NA |   NA | 4 |\n",
       "| tm1059008 | Lokillo                                      | MOVIE | A controversial TV host and comedian who has built his career on sexist humor is forced to assume a woman's identity to elude a relentless drug dealer.                                                                                                                                                                                                                                                                                                                                                                                                                                                                                                                                                                                                                                                                                                                                                 | 2021 | <!----> |  90 | ['comedy']                            | ['CO']       | NA | tt14585902 | 3.8 |   68 | 26.005 |  6.3 | 4 |\n",
       "| tm1035612 | Dad Stop Embarrassing Me - The Afterparty    | MOVIE | Jamie Foxx, David Alan Grier and more from the cast of the family comedy discuss the show, humiliating family moments, bad BBQ dishes and sitcom openings.                                                                                                                                                                                                                                                                                                                                                                                                                                                                                                                                                                                                                                                                                                                                              | 2021 | PG-13 |  37 | []                                    | ['US']       | NA | <!----> |  NA |   NA |  1.296 | 10.0 | 4 |\n",
       "| ts271048  | Mighty Little Bheem: Kite Festival           | SHOW  | With winter behind them, Bheem and his townspeople usher in a sunny new season in all their favorite ways during the Makar Sankranti festival.                                                                                                                                                                                                                                                                                                                                                                                                                                                                                                                                                                                                                                                                                                                                                          | 2021 | <!----> |   7 | ['family', 'animation', 'comedy']     | []           |  1 | tt13711094 | 7.8 |   18 |  2.289 | 10.0 | 4 |\n",
       "\n"
      ],
      "text/plain": [
       "     id        title                                        type \n",
       "1    ts300399  Five Came Back: The Reference Films          SHOW \n",
       "2    tm84618   Taxi Driver                                  MOVIE\n",
       "3    tm154986  Deliverance                                  MOVIE\n",
       "4    tm127384  Monty Python and the Holy Grail              MOVIE\n",
       "5    tm120801  The Dirty Dozen                              MOVIE\n",
       "6    ts22164   Monty Python's Flying Circus                 SHOW \n",
       "7    tm70993   Life of Brian                                MOVIE\n",
       "8    tm14873   Dirty Harry                                  MOVIE\n",
       "9    tm119281  Bonnie and Clyde                             MOVIE\n",
       "10   tm98978   The Blue Lagoon                              MOVIE\n",
       "11   tm44204   The Guns of Navarone                         MOVIE\n",
       "12   tm67378   The Professionals                            MOVIE\n",
       "13   tm69997   Richard Pryor: Live in Concert               MOVIE\n",
       "14   tm16479   White Christmas                              MOVIE\n",
       "15   tm135083  Cairo Station                                MOVIE\n",
       "16   tm89386   Hitler: A Career                             MOVIE\n",
       "17   tm156453  FTA                                          MOVIE\n",
       "18   tm14350   Alexandriaâ\\200¦ Why?                           MOVIE\n",
       "19   tm81728   The Land                                     MOVIE\n",
       "20   tm94651   Dostana                                      MOVIE\n",
       "21   tm27298   Saladin the Victorious                       MOVIE\n",
       "22   tm100027  Alibaba Aur 40 Chor                          MOVIE\n",
       "23   tm19608   The Blazing Sun                              MOVIE\n",
       "24   tm204541  Dark Waters                                  MOVIE\n",
       "25   tm259855  We Are All for the Fatherland                MOVIE\n",
       "26   tm356209  Singapore                                    MOVIE\n",
       "27   ts45948   Monty Python's Fliegender Zirkus             SHOW \n",
       "28   tm200475  Beirut, Oh Beirut                            MOVIE\n",
       "29   tm90896   The Return of the Prodigal Son               MOVIE\n",
       "30   tm336403  Khoon Khoon                                  MOVIE\n",
       "...  ...       ...                                          ...  \n",
       "5821 tm851599  Tersanjung: The Movie                        MOVIE\n",
       "5822 tm1110241 Kaaval                                       MOVIE\n",
       "5823 tm993616  The Tambour of Retribution                   MOVIE\n",
       "5824 tm1099342 Devdas Brothers                              MOVIE\n",
       "5825 tm831387  What Happened to Mr Cha?                     MOVIE\n",
       "5826 tm878575  The Heartbreak Club                          MOVIE\n",
       "5827 ts287687  Lava Ka Dhaava                               SHOW \n",
       "5828 tm1099969 Angeliena                                    MOVIE\n",
       "5829 ts319608  The Family That Sings Together: The Camargos SHOW \n",
       "5830 tm846586  Layla Majnun                                 MOVIE\n",
       "5831 ts288861  Let's Eat                                    SHOW \n",
       "5832 ts273317  Pitta Kathalu                                SHOW \n",
       "5833 tm996479  Tuesdays And Fridays                         MOVIE\n",
       "5834 ts307884  HQ Barbers                                   SHOW \n",
       "5835 tm1091956 A Faraway Land                               MOVIE\n",
       "5836 tm985747  I Missed You                                 MOVIE\n",
       "5837 tm959213  My Amanda                                    MOVIE\n",
       "5838 tm1040816 Momshies! Your Soul is Mine                  MOVIE\n",
       "5839 tm1053409 Happiness Ever After                         MOVIE\n",
       "5840 tm1165179 Kongsi Raya                                  MOVIE\n",
       "5841 tm1216735 Sun of the Soil                              MOVIE\n",
       "5842 tm985215  Princess 'Daya'Reese                         MOVIE\n",
       "5843 tm1066324 Super Monsters: Once Upon a Rhyme            MOVIE\n",
       "5844 tm1097142 My Bride                                     MOVIE\n",
       "5845 tm1074617 Bling Empire - The Afterparty                MOVIE\n",
       "5846 tm1014599 Fine Wine                                    MOVIE\n",
       "5847 tm898842  C/O Kaadhal                                  MOVIE\n",
       "5848 tm1059008 Lokillo                                      MOVIE\n",
       "5849 tm1035612 Dad Stop Embarrassing Me - The Afterparty    MOVIE\n",
       "5850 ts271048  Mighty Little Bheem: Kite Festival           SHOW \n",
       "     description                                                                                                                                                                                                                                                                                                                                                                                                                                                                                                                                                                                                                                                                                                                                                                                                                                                                                            \n",
       "1    This collection includes 12 World War II-era propaganda films â\\200” many of which are graphic and offensive â\\200” discussed in the docuseries \"Five Came Back.\"                                                                                                                                                                                                                                                                                                                                                                                                                                                                                                                                                                                                                                                                                                                                            \n",
       "2    A mentally unstable Vietnam War veteran works as a night-time taxi driver in New York City where the perceived decadence and sleaze feed his urge for violent action.                                                                                                                                                                                                                                                                                                                                                                                                                                                                                                                                                                                                                                                                                                                                  \n",
       "3    Intent on seeing the Cahulawassee River before it's turned into one huge lake, outdoor fanatic Lewis Medlock takes his friends on a river-rafting trip they'll never forget into the dangerous American back-country.                                                                                                                                                                                                                                                                                                                                                                                                                                                                                                                                                                                                                                                                                  \n",
       "4    King Arthur, accompanied by his squire, recruits his Knights of the Round Table, including Sir Bedevere the Wise, Sir Lancelot the Brave, Sir Robin the Not-Quite-So-Brave-As-Sir-Lancelot and Sir Galahad the Pure. On the way, Arthur battles the Black Knight who, despite having had all his limbs chopped off, insists he can still fight. They reach Camelot, but Arthur decides not  to enter, as \"it is a silly place\".                                                                                                                                                                                                                                                                                                                                                                                                                                                                        \n",
       "5    12 American military prisoners in World War II are ordered to infiltrate a well-guarded enemy chÃ¢teau and kill the Nazi officers vacationing there. The soldiers, most of whom are facing death sentences for a variety of violent crimes, agree to the mission and the possible commuting of their sentences.                                                                                                                                                                                                                                                                                                                                                                                                                                                                                                                                                                                        \n",
       "6    A British sketch comedy series with the shows being composed of surreality, risquÃ© or innuendo-laden humour, sight gags and observational sketches without punchlines.                                                                                                                                                                                                                                                                                                                                                                                                                                                                                                                                                                                                                                                                                                                                \n",
       "7    Brian Cohen is an average young Jewish man, but through a series of ridiculous events, he gains a reputation as the Messiah. When he's not dodging his followers or being scolded by his shrill mother, the hapless Brian has to contend with the pompous Pontius Pilate and acronym-obsessed members of a separatist movement. Rife with Monty Python's signature absurdity, the tale finds Brian's life paralleling Biblical lore, albeit with many more laughs.                                                                                                                                                                                                                                                                                                                                                                                                                                     \n",
       "8    When a madman dubbed 'Scorpio' terrorizes San Francisco, hard-nosed cop, Harry Callahan â\\200“ famous for his take-no-prisoners approach to law enforcement â\\200“ is tasked with hunting down the psychopath. Harry eventually collars Scorpio in the process of rescuing a kidnap victim, only to see him walk on technicalities. Now, the maverick detective is determined to nail the maniac himself.                                                                                                                                                                                                                                                                                                                                                                                                                                                                                                    \n",
       "9    In the 1930s, bored waitress Bonnie Parker falls in love with an ex-con named Clyde Barrow and together they start a violent crime spree through the country, stealing cars and robbing banks.                                                                                                                                                                                                                                                                                                                                                                                                                                                                                                                                                                                                                                                                                                         \n",
       "10   Two small children and a ship's cook survive a shipwreck and find safety on an idyllic tropical island. Soon, however, the cook dies and the young boy and girl are left on their own. Days become years and Emmeline and Richard make a home for themselves surrounded by exotic creatures and nature's beauty. But will they ever see civilization again?                                                                                                                                                                                                                                                                                                                                                                                                                                                                                                                                            \n",
       "11   A team of allied saboteurs are assigned an impossible mission: infiltrate an impregnable Nazi-held island and destroy the two enormous long-range field guns that prevent the rescue of 2,000 trapped British soldiers.                                                                                                                                                                                                                                                                                                                                                                                                                                                                                                                                                                                                                                                                                \n",
       "12   An arrogant Texas millionaire hires four adventurers to rescue his kidnapped wife from a notorious Mexican bandit.                                                                                                                                                                                                                                                                                                                                                                                                                                                                                                                                                                                                                                                                                                                                                                                     \n",
       "13   Richard Pryor delivers monologues on race, sex, family and his favorite targetâ\\200”himself, live at the Terrace Theatre in Long Beach, California.                                                                                                                                                                                                                                                                                                                                                                                                                                                                                                                                                                                                                                                                                                                                                       \n",
       "14   Two talented song-and-dance men team up after the war to become one of the hottest acts in show business. In time they befriend and become romantically involved with the beautiful Haynes sisters who comprise a sister act.                                                                                                                                                                                                                                                                                                                                                                                                                                                                                                                                                                                                                                                                          \n",
       "15   Qinawi, a physically challenged peddler who makes his living selling newspapers in the central Cairo train station, is obsessed by Hanuma, an attractive young woman who sells drinks. While she jokes with him about a possible relationship, she is actually in love with Abu Siri, a strong and respected porter at the station who is struggling to unionize his fellow workers to combat their boss' exploitative and abusive treatment.                                                                                                                                                                                                                                                                                                                                                                                                                                                          \n",
       "16   A keen chronicle of the unlikely rise to power of Adolf Hitler (1889-1945) and a dissection of the Third Reich (1933-1945), but also an analysis of mass psychology and how the desperate crowd can be deceived and shepherded to the slaughterhouse.                                                                                                                                                                                                                                                                                                                                                                                                                                                                                                                                                                                                                                                  \n",
       "17   A documentary about a political troupe headed by actors Jane Fonda and Donald Sutherland which traveled to towns near military bases in the US in the early 1970s. The group put on shows called \"F.T.A.\", which stood for \"F**k the Army\", and was aimed at convincing soldiers to voice their opposition to the Vietnam War, which was raging at the time. Various singers, actors and other entertainers performed antiwar songs and skits during the show.                                                                                                                                                                                                                                                                                                                                                                                                                                         \n",
       "18   Set against the panoramic backdrop of war-torn Egypt, director Youssef Chahine tells a highly personal tale of love and determination. Amid the poverty, death and suffering caused by World War II, 18 year-old Yehia, retreats into a private world of fantasy and longing. Obsessed with Hollywood, he dreams of one day studying filmmaking in America, but after falling in love and discovering the lies of European occupation, Yehia profoundly reevaluates his identity and allegiances.                                                                                                                                                                                                                                                                                                                                                                                                      \n",
       "19   Set in 1933, the mayor informs the peasants that the share of irrigation of their land will be split equally between them and feudal lord Mahmoud Bey. The peasants send Muhammad Effendi to submit a petition to the government. Then Mahmoud Bey proposes a project that would require taking part of the peasants' lands.                                                                                                                                                                                                                                                                                                                                                                                                                                                                                                                                                                           \n",
       "20   Two close friends decide to enter law enforcement, one as a police officer, the other as a lawyer, but their friendship begins to unravel when they both fall in love with the same woman.                                                                                                                                                                                                                                                                                                                                                                                                                                                                                                                                                                                                                                                                                                             \n",
       "21   Saladin, the first sultan of Egypt and Syria, leads the Muslim military campaign against the invading Christians from Europe during the Third Crusade.                                                                                                                                                                                                                                                                                                                                                                                                                                                                                                                                                                                                                                                                                                                                                 \n",
       "22   The movie is based on the story of Ali Baba and the Forty Thieves, from the One Thousand and One Nights or Arabian Tales. The role of Ali Baba is played by Dharmendra and Hema Malini play Morjina.                                                                                                                                                                                                                                                                                                                                                                                                                                                                                                                                                                                                                                                                                                   \n",
       "23   A rich landlord floods and destroys a village on purpose to prevent the people living there from making a profit off their crops. What he doesn't know is that his own daughter is in love with Ahmed, a young man from the village.                                                                                                                                                                                                                                                                                                                                                                                                                                                                                                                                                                                                                                                                   \n",
       "24   Ragab, a poor sailor, returns home to Alexandria after three years of absence, during which he tried to save money to marry his one true love, Hamedah. But there's trouble on the harbor, and with an old friend.                                                                                                                                                                                                                                                                                                                                                                                                                                                                                                                                                                                                                                                                                     \n",
       "25   After the 1978 Israeli invasion of Lebanon, children try to sing the national anthem as citizens search for hope in the war-torn South.                                                                                                                                                                                                                                                                                                                                                                                                                                                                                                                                                                                                                                                                                                                                                                \n",
       "26   When his employee disappears in Singapore, Shyam travels from India to investigate the absence and becomes entangled in a deadly plot.                                                                                                                                                                                                                                                                                                                                                                                                                                                                                                                                                                                                                                                                                                                                                                 \n",
       "27   Monty Python's Fliegender Zirkus consisted of two 45-minute Monty Python German television comedy specials produced by WDR for West German television. The two episodes were first broadcast in January and December 1972 and were shot entirely on film and mostly on location in Bavaria, with the first episode recorded in German and the second recorded in English and then dubbed into German.                                                                                                                                                                                                                                                                                                                                                                                                                                                                                                  \n",
       "28   In the aftermath of the 1967 defeat, four young Lebanese try to figure out their places in a society whose rules seem to have changed. It proved to be an extraordinary anticipation of the civil war that would engulf the country while the film was being edited.                                                                                                                                                                                                                                                                                                                                                                                                                                                                                                                                                                                                                                   \n",
       "29   In this Andre Gide adaptation, an activist is released after many years in prison and returns home, shaking up established relationships among his family members at the farm governed by his strict father. Demonstrating Chahineâ\\200\\231s eclecticism, this is an elegant melodrama, exuberant musical, layered allegory, and profound portrait of personal and political disillusionment.                                                                                                                                                                                                                                                                                                                                                                                                                                                                                                                \n",
       "30   As a crazed killer blazes a trail of blood through an anxious city, a hardened cop aims to take him down by any means in this remake of Dirty Harry.                                                                                                                                                                                                                                                                                                                                                                                                                                                                                                                                                                                                                                                                                                                                                   \n",
       "...  ...                                                                                                                                                                                                                                                                                                                                                                                                                                                                                                                                                                                                                                                                                                                                                                                                                                                                                                    \n",
       "5821 After growing up in a tumultuous household, Yura finds herself in a love triangle with two close friends as she faces a personal and financial crisis.                                                                                                                                                                                                                                                                                                                                                                                                                                                                                                                                                                                                                                                                                                                                                 \n",
       "5822 Thampan and Antony are a long time best friends and business partners who owned a saw mill at Kattappana in the past. A family tragedy and its falling-out separates them for good. But now Antony and his family faces a grievous situation, and he is forced to ask his old friend for a help out. The timeline of the story spans over two generations                                                                                                                                                                                                                                                                                                                                                                                                                                                                                                                                              \n",
       "5823 The son of the swordsman falls in love with the daughter of Tagaga in a social paradox based on selling joy (wedding) and buying death                                                                                                                                                                                                                                                                                                                                                                                                                                                                                                                                                                                                                                                                                                                                                                 \n",
       "5824 After their first heartbreaks, four jilted young men plan drastic ways to get back at the women who left them - and are in for a sobering lesson.                                                                                                                                                                                                                                                                                                                                                                                                                                                                                                                                                                                                                                                                                                                                                      \n",
       "5825 With the peak of his career long behind him, an actor clings to his past glory â\\200” until a sudden wake-up call forces him to face who he's become.                                                                                                                                                                                                                                                                                                                                                                                                                                                                                                                                                                                                                                                                                                                                                     \n",
       "5826 Coping with heartbreak, the shy owner of floundering cafe find solace in the Javanese love songs of Didi Kempot.                                                                                                                                                                                                                                                                                                                                                                                                                                                                                                                                                                                                                                                                                                                                                                                       \n",
       "5827 Actor Jaaved Jaafferi brings his signature humor to this Hindi dubbing of the show where teams creatively navigate rooms flooded with make-believe lava.                                                                                                                                                                                                                                                                                                                                                                                                                                                                                                                                                                                                                                                                                                                                               \n",
       "5828 After a string of life-changing revelations, a beloved parking attendant pieces a new plan together and chases her dream of traveling the world.                                                                                                                                                                                                                                                                                                                                                                                                                                                                                                                                                                                                                                                                                                                                                       \n",
       "5829 Surrounded by family and friends, ZezÃ© Di Camargo and daughter Wanessa spend time together and collaborate creatively in this exclusive reality series.                                                                                                                                                                                                                                                                                                                                                                                                                                                                                                                                                                                                                                                                                                                                               \n",
       "5830 While in Azerbaijan, Layla, an Indonesian scholar, falls for Samir, an admirer of her work â\\200” but her arranged marriage stands in the way.                                                                                                                                                                                                                                                                                                                                                                                                                                                                                                                                                                                                                                                                                                                                                            \n",
       "5831 A food-blogging insurance agent encounters a friend from elementary school with a vendetta against him -- but soon becomes her sidekick.                                                                                                                                                                                                                                                                                                                                                                                                                                                                                                                                                                                                                                                                                                                                                               \n",
       "5832 Four different women, four journeys of love and betrayal. The common thread? They all want to dismantle the patriarchy.                                                                                                                                                                                                                                                                                                                                                                                                                                                                                                                                                                                                                                                                                                                                                                                \n",
       "5833 Two millennials get into a relationship where they are allowed to meet only on 'Tuesdays & Fridays'.                                                                                                                                                                                                                                                                                                                                                                                                                                                                                                                                                                                                                                                                                                                                                                                                   \n",
       "5834 When a family run barber shop in the heart of Lagos is threatened by real estate developers, they'll do whatever it takes to stay in business.                                                                                                                                                                                                                                                                                                                                                                                                                                                                                                                                                                                                                                                                                                                                                         \n",
       "5835 In the Faroe Islands, a married woman meets a reporter filming a documentary on overseas Filipino workers, which soon sparks a complicated love story.                                                                                                                                                                                                                                                                                                                                                                                                                                                                                                                                                                                                                                                                                                                                                 \n",
       "5836 A woman who was overwhelmed by work and had no time to imagine the future. Her paralyzed life was interrupted by a live-streaming man who always has fun in life and acts wildly, resulting in a series of fermentation processes.                                                                                                                                                                                                                                                                                                                                                                                                                                                                                                                                                                                                                                                                     \n",
       "5837 Two unusually close friends share every aspect of their lives together. As their lives evolve, their bond remains the only constant.                                                                                                                                                                                                                                                                                                                                                                                                                                                                                                                                                                                                                                                                                                                                                                   \n",
       "5838 Three women with totally different lives accidentally get their souls switched as they struggle with the comedic misadventures of their new worlds, they realize that their own lives and families are worth loving and living for. Jolene, a famous person who always has fans in public, Mylene - an overprotected lady who always gets pleasure and love and Karlene - a rich famous social media influencer all switch bodies but their lives did not just change, but their souls switched that leaves them with no choice but to stick together to live the peculiar lives of each other. Karlene then has to convince a group of investors to invest in her near-bankrupt hotel, but no one believes her because she is trapped in Myleneâ\\200\\231s body. In the process of all of their imaginative scenarios, they drew closer to each other into becoming the soul sisters they are destined to be.\n",
       "5839 Five years later from where we left our characters, again tackling sisterhood and friendship, this time with the inclusion of a new romantic arc.                                                                                                                                                                                                                                                                                                                                                                                                                                                                                                                                                                                                                                                                                                                                                      \n",
       "5840 Jack - a Chinese chef-manager who is in-line to take over his family`s restaurant and Sharifah, a TV programme producer for her celebrity chef father Rahim - are crazy in love. But both their fathers are against their relationship and it all escalates in intensity until the two families challenge each other in a televised cooking competition. Jack and Sharifah must find a solution before all of that gets out of hand.                                                                                                                                                                                                                                                                                                                                                                                                                                                                   \n",
       "5841 In 14th-century Mali, an ambitious young royal named Mansa Musa ascended the throne of the richest kingdom in human history. This follows Malian artist Abdou Ouologuem on a journey to discover the truth behind the legendary African king.                                                                                                                                                                                                                                                                                                                                                                                                                                                                                                                                                                                                                                                          \n",
       "5842 Reese is a con artist from Manila who dreams of living like royalty. An opportunity arrives in the form of Princess Ulap, a runaway princess from the mysterious kingdom of Oro, who looks exactly like her. Switching places in exchange for gold, Reese flies to Ulap's kingdom where she meets Caleb, a young and determined reporter who is doing a documentary on the island of Oro. The road to happily ever after becomes bumpy when the man in search for truth begins to fall in love with the fake princess.                                                                                                                                                                                                                                                                                                                                                                                 \n",
       "5843 The Super Monsters rethink exemplary fantasies and most loved nursery rhymes with a melodic, otherworldly twist.                                                                                                                                                                                                                                                                                                                                                                                                                                                                                                                                                                                                                                                                                                                                                                                       \n",
       "5844 The story follows a young man and woman who go through various situations in their journey to find the right partner, which raises questions about traditional marriage and marriage based on love.                                                                                                                                                                                                                                                                                                                                                                                                                                                                                                                                                                                                                                                                                                    \n",
       "5845 The stars of \"Bling Empire\" discuss the show's success and play bling-themed games, then comic Joel Kim Booster makes his case for joining the cast.                                                                                                                                                                                                                                                                                                                                                                                                                                                                                                                                                                                                                                                                                                                                                   \n",
       "5846 A beautiful love story that can happen between two people regardless of their age gaps.                                                                                                                                                                                                                                                                                                                                                                                                                                                                                                                                                                                                                                                                                                                                                                                                                \n",
       "5847 A heart warming film that explores the concept of romance with episodes involving four sets of people of different age group.                                                                                                                                                                                                                                                                                                                                                                                                                                                                                                                                                                                                                                                                                                                                                                          \n",
       "5848 A controversial TV host and comedian who has built his career on sexist humor is forced to assume a woman's identity to elude a relentless drug dealer.                                                                                                                                                                                                                                                                                                                                                                                                                                                                                                                                                                                                                                                                                                                                                \n",
       "5849 Jamie Foxx, David Alan Grier and more from the cast of the family comedy discuss the show, humiliating family moments, bad BBQ dishes and sitcom openings.                                                                                                                                                                                                                                                                                                                                                                                                                                                                                                                                                                                                                                                                                                                                             \n",
       "5850 With winter behind them, Bheem and his townspeople usher in a sunny new season in all their favorite ways during the Makar Sankranti festival.                                                                                                                                                                                                                                                                                                                                                                                                                                                                                                                                                                                                                                                                                                                                                         \n",
       "     release_year age_certification runtime\n",
       "1    1945         TV-MA              51    \n",
       "2    1976         R                 114    \n",
       "3    1972         R                 109    \n",
       "4    1975         PG                 91    \n",
       "5    1967                           150    \n",
       "6    1969         TV-14              30    \n",
       "7    1979         R                  94    \n",
       "8    1971         R                 102    \n",
       "9    1967         R                 110    \n",
       "10   1980         R                 104    \n",
       "11   1961                           158    \n",
       "12   1966         PG-13             117    \n",
       "13   1979         R                  78    \n",
       "14   1954                           115    \n",
       "15   1958                            77    \n",
       "16   1977         PG                150    \n",
       "17   1972         R                  97    \n",
       "18   1979                           133    \n",
       "19   1969                           129    \n",
       "20   1980                           161    \n",
       "21   1963                           186    \n",
       "22   1979                           146    \n",
       "23   1954                           100    \n",
       "24   1956                           120    \n",
       "25   1979                            74    \n",
       "26   1960                           158    \n",
       "27   1972         TV-MA              43    \n",
       "28   1975                           110    \n",
       "29   1976                           124    \n",
       "30   1973                           131    \n",
       "...  ...          ...               ...    \n",
       "5821 2021                           114    \n",
       "5822 2021                           148    \n",
       "5823 2021                            92    \n",
       "5824 2021                            99    \n",
       "5825 2021                           102    \n",
       "5826 2021                           101    \n",
       "5827 2021                            30    \n",
       "5828 2021                            95    \n",
       "5829 2021                            39    \n",
       "5830 2021                           119    \n",
       "5831 2021         TV-14              60    \n",
       "5832 2021         TV-MA              37    \n",
       "5833 2021                           106    \n",
       "5834 2021         TV-14              24    \n",
       "5835 2021                           101    \n",
       "5836 2021                            96    \n",
       "5837 2021                            89    \n",
       "5838 2021                           108    \n",
       "5839 2021                            99    \n",
       "5840 2022                           102    \n",
       "5841 2022                            26    \n",
       "5842 2021                           115    \n",
       "5843 2021                            25    \n",
       "5844 2021                            93    \n",
       "5845 2021                            35    \n",
       "5846 2021                           100    \n",
       "5847 2021                           134    \n",
       "5848 2021                            90    \n",
       "5849 2021         PG-13              37    \n",
       "5850 2021                             7    \n",
       "     genres                                              production_countries\n",
       "1    ['documentation']                                   ['US']              \n",
       "2    ['drama', 'crime']                                  ['US']              \n",
       "3    ['drama', 'action', 'thriller', 'european']         ['US']              \n",
       "4    ['fantasy', 'action', 'comedy']                     ['GB']              \n",
       "5    ['war', 'action']                                   ['GB', 'US']        \n",
       "6    ['comedy', 'european']                              ['GB']              \n",
       "7    ['comedy']                                          ['GB']              \n",
       "8    ['thriller', 'action', 'crime']                     ['US']              \n",
       "9    ['crime', 'drama', 'action']                        ['US']              \n",
       "10   ['romance', 'action', 'drama']                      ['US']              \n",
       "11   ['action', 'drama', 'war']                          ['GB', 'US']        \n",
       "12   ['western', 'action', 'european']                   ['US']              \n",
       "13   ['comedy', 'documentation']                         ['US']              \n",
       "14   ['romance', 'comedy']                               ['US']              \n",
       "15   ['drama', 'crime', 'comedy']                        ['EG']              \n",
       "16   ['history', 'documentation', 'european']            ['DE']              \n",
       "17   ['war', 'documentation', 'music', 'comedy']         ['US']              \n",
       "18   ['drama']                                           ['EG']              \n",
       "19   ['drama']                                           ['EG']              \n",
       "20   ['drama', 'comedy', 'crime', 'romance', 'action']   ['IN']              \n",
       "21   ['action', 'drama', 'war', 'history', 'romance']    ['EG']              \n",
       "22   ['drama', 'romance', 'action', 'fantasy', 'family'] ['SU', 'IN']        \n",
       "23   ['crime', 'romance', 'drama']                       ['EG']              \n",
       "24   ['action', 'drama', 'romance', 'thriller']          ['EG']              \n",
       "25   ['documentation']                                   ['LB', 'CA', 'FR']  \n",
       "26   ['drama', 'thriller', 'crime']                      ['IN']              \n",
       "27   ['comedy']                                          []                  \n",
       "28   ['drama']                                           ['LB']              \n",
       "29   ['music', 'drama', 'crime']                         ['DZ', 'EG']        \n",
       "30   ['crime', 'thriller']                               ['IN']              \n",
       "...  ...                                                 ...                 \n",
       "5821 ['drama', 'romance']                                ['ID']              \n",
       "5822 ['thriller', 'action', 'drama']                     ['IN']              \n",
       "5823 ['drama']                                           ['SA']              \n",
       "5824 ['drama']                                           []                  \n",
       "5825 ['comedy', 'drama']                                 ['KR']              \n",
       "5826 ['comedy', 'drama', 'romance']                      ['ID']              \n",
       "5827 ['reality']                                         ['IO']              \n",
       "5828 ['comedy', 'drama', 'family']                       ['ZA']              \n",
       "5829 ['documentation', 'music', 'reality']               ['BR']              \n",
       "5830 ['romance', 'drama']                                ['ID']              \n",
       "5831 ['drama', 'comedy']                                 ['TH']              \n",
       "5832 ['drama', 'romance']                                ['IN']              \n",
       "5833 ['romance', 'comedy']                               ['GB', 'IN']        \n",
       "5834 ['comedy']                                          ['NG']              \n",
       "5835 ['drama']                                           ['PH', 'FO']        \n",
       "5836 ['drama', 'romance']                                ['TW']              \n",
       "5837 ['drama', 'romance']                                ['PH']              \n",
       "5838 ['comedy']                                          ['PH']              \n",
       "5839 ['drama', 'romance']                                ['ZA']              \n",
       "5840 ['comedy']                                          ['MY']              \n",
       "5841 []                                                  []                  \n",
       "5842 ['comedy', 'romance']                               ['PH']              \n",
       "5843 ['animation', 'family']                             []                  \n",
       "5844 ['romance', 'comedy', 'drama']                      ['EG']              \n",
       "5845 []                                                  ['US']              \n",
       "5846 ['romance', 'drama']                                ['NG']              \n",
       "5847 ['drama']                                           []                  \n",
       "5848 ['comedy']                                          ['CO']              \n",
       "5849 []                                                  ['US']              \n",
       "5850 ['family', 'animation', 'comedy']                   []                  \n",
       "     seasons imdb_id    imdb_score imdb_votes tmdb_popularity tmdb_score\n",
       "1     1                  NA            NA      0.600             NA     \n",
       "2    NA      tt0075314  8.2        808582     40.965          8.179     \n",
       "3    NA      tt0068473  7.7        107673     10.010          7.300     \n",
       "4    NA      tt0071853  8.2        534486     15.461          7.811     \n",
       "5    NA      tt0061578  7.7         72662     20.398          7.600     \n",
       "6     4      tt0063929  8.8         73424     17.617          8.306     \n",
       "7    NA      tt0079470  8.0        395024     17.770          7.800     \n",
       "8    NA      tt0066999  7.7        155051     12.817          7.500     \n",
       "9    NA      tt0061418  7.7        112048     15.687          7.500     \n",
       "10   NA      tt0080453  5.8         69844     50.324          6.156     \n",
       "11   NA      tt0054953  7.5         50748     13.844          7.300     \n",
       "12   NA      tt0060862  7.3         16446     13.123          7.100     \n",
       "13   NA      tt0079807  8.1          5141      4.718          7.500     \n",
       "14   NA      tt0047673  7.5         42488      8.915          7.200     \n",
       "15   NA      tt0051390  7.5          4471      5.546          7.300     \n",
       "16   NA      tt0191182  7.5          2460      4.305          7.300     \n",
       "17   NA      tt0068562  6.2           418      1.268          6.100     \n",
       "18   NA      tt0077751  7.2          1727      1.370          6.000     \n",
       "19   NA      tt0064038  8.1          1958      1.265          8.500     \n",
       "20   NA      tt0080653  2.1            25      3.980          4.900     \n",
       "21   NA      tt0057357  7.6          2508      4.156          7.100     \n",
       "22   NA      tt0079749  6.2           565      2.582          6.800     \n",
       "23   NA      tt0047500  7.4          1219      2.184          7.000     \n",
       "24   NA      tt0049761  6.7           610      0.849          5.900     \n",
       "25   NA      tt0170799  6.1            47      0.600          5.200     \n",
       "26   NA      tt0268639  6.4            84      0.792          6.300     \n",
       "27    1      tt0202477  8.1          2151      1.487          7.000     \n",
       "28   NA      tt0169599  6.4           108      1.025          7.200     \n",
       "29   NA      tt0074168  7.2           780      1.858          5.300     \n",
       "30   NA      tt0230412  5.1            41      1.948          3.800     \n",
       "...  ...     ...        ...        ...        ...             ...       \n",
       "5821 NA      tt11668994 5.8         216        2.747           8.2      \n",
       "5822 NA      tt11182984 5.1        1497        1.978           5.3      \n",
       "5823 NA      tt13657102 6.8        1007        1.971           7.5      \n",
       "5824 NA      tt12478372 3.3          51           NA            NA      \n",
       "5825 NA      tt13667212 4.3         357        9.066           6.9      \n",
       "5826 NA      tt11841144 6.3         196        1.401           8.0      \n",
       "5827  1      tt14492912 6.1          42        1.499            NA      \n",
       "5828 NA      tt15303262 7.3        1164        3.827           6.0      \n",
       "5829  1      tt16260968 5.3          45        1.002            NA      \n",
       "5830 NA      tt11313944 6.0         277        2.727           7.5      \n",
       "5831  1      tt15978704 8.2           5        2.334            NA      \n",
       "5832  1      tt13878800 5.1         738        1.400           5.5      \n",
       "5833 NA      tt9176102  4.4         792        1.589           5.3      \n",
       "5834  1                  NA          NA        0.840            NA      \n",
       "5835 NA      tt15260940 5.0         136        1.748           6.7      \n",
       "5836 NA      tt14051714 5.7         250        2.451           6.3      \n",
       "5837 NA      tt13136084 5.7         308        2.908           5.7      \n",
       "5838 NA      tt14412240 5.8          27        2.170            NA      \n",
       "5839 NA      tt14307890 4.2         163       11.536           7.3      \n",
       "5840 NA      tt16806990 7.0          66        2.112            NA      \n",
       "5841 NA                  NA          NA        1.179           7.0      \n",
       "5842 NA      tt13399802 7.1          50        1.383            NA      \n",
       "5843 NA      tt14586752 5.6          38       53.762           6.3      \n",
       "5844 NA      tt14216488 5.0         327        2.545           5.3      \n",
       "5845 NA                  NA          NA           NA            NA      \n",
       "5846 NA      tt13857480 6.8          45        1.466            NA      \n",
       "5847 NA      tt11803618 7.7         348           NA            NA      \n",
       "5848 NA      tt14585902 3.8          68       26.005           6.3      \n",
       "5849 NA                  NA          NA        1.296          10.0      \n",
       "5850  1      tt13711094 7.8          18        2.289          10.0      \n",
       "     Realease_Year1\n",
       "1    4             \n",
       "2    4             \n",
       "3    4             \n",
       "4    4             \n",
       "5    4             \n",
       "6    4             \n",
       "7    4             \n",
       "8    4             \n",
       "9    4             \n",
       "10   4             \n",
       "11   4             \n",
       "12   4             \n",
       "13   4             \n",
       "14   4             \n",
       "15   4             \n",
       "16   4             \n",
       "17   4             \n",
       "18   4             \n",
       "19   4             \n",
       "20   4             \n",
       "21   4             \n",
       "22   4             \n",
       "23   4             \n",
       "24   4             \n",
       "25   4             \n",
       "26   4             \n",
       "27   4             \n",
       "28   4             \n",
       "29   4             \n",
       "30   4             \n",
       "...  ...           \n",
       "5821 4             \n",
       "5822 4             \n",
       "5823 4             \n",
       "5824 4             \n",
       "5825 4             \n",
       "5826 4             \n",
       "5827 4             \n",
       "5828 4             \n",
       "5829 4             \n",
       "5830 4             \n",
       "5831 4             \n",
       "5832 4             \n",
       "5833 4             \n",
       "5834 4             \n",
       "5835 4             \n",
       "5836 4             \n",
       "5837 4             \n",
       "5838 4             \n",
       "5839 4             \n",
       "5840 4             \n",
       "5841 4             \n",
       "5842 4             \n",
       "5843 4             \n",
       "5844 4             \n",
       "5845 4             \n",
       "5846 4             \n",
       "5847 4             \n",
       "5848 4             \n",
       "5849 4             \n",
       "5850 4             "
      ]
     },
     "metadata": {},
     "output_type": "display_data"
    }
   ],
   "source": [
    "NetflixRecode"
   ]
  },
  {
   "cell_type": "code",
   "execution_count": 55,
   "id": "cda042de-1a83-478b-9031-9374742df4c5",
   "metadata": {},
   "outputs": [
    {
     "data": {
      "text/html": [
       "<style>\n",
       ".list-inline {list-style: none; margin:0; padding: 0}\n",
       ".list-inline>li {display: inline-block}\n",
       ".list-inline>li:not(:last-child)::after {content: \"\\00b7\"; padding: 0 .5ex}\n",
       "</style>\n",
       "<ol class=list-inline><li>4</li><li>1</li><li>2</li><li>3</li></ol>\n"
      ],
      "text/latex": [
       "\\begin{enumerate*}\n",
       "\\item 4\n",
       "\\item 1\n",
       "\\item 2\n",
       "\\item 3\n",
       "\\end{enumerate*}\n"
      ],
      "text/markdown": [
       "1. 4\n",
       "2. 1\n",
       "3. 2\n",
       "4. 3\n",
       "\n",
       "\n"
      ],
      "text/plain": [
       "[1] 4 1 2 3"
      ]
     },
     "metadata": {},
     "output_type": "display_data"
    }
   ],
   "source": [
    "unique(NetflixRecode$Realease_Year1)"
   ]
  },
  {
   "cell_type": "code",
   "execution_count": 56,
   "id": "616acf2b-f935-4115-b229-868955c412a6",
   "metadata": {},
   "outputs": [],
   "source": [
    "NetflixRecode1 <-(NetflixRecode %>% filter(Realease_Year1 %in% c(1, 2, 3)))"
   ]
  },
  {
   "cell_type": "code",
   "execution_count": 57,
   "id": "85cefd00-ab58-48a4-92a6-fc9d20f6b1cc",
   "metadata": {},
   "outputs": [
    {
     "data": {
      "text/html": [
       "<style>\n",
       ".list-inline {list-style: none; margin:0; padding: 0}\n",
       ".list-inline>li {display: inline-block}\n",
       ".list-inline>li:not(:last-child)::after {content: \"\\00b7\"; padding: 0 .5ex}\n",
       "</style>\n",
       "<ol class=list-inline><li>'MOVIE'</li><li>'SHOW'</li></ol>\n"
      ],
      "text/latex": [
       "\\begin{enumerate*}\n",
       "\\item 'MOVIE'\n",
       "\\item 'SHOW'\n",
       "\\end{enumerate*}\n"
      ],
      "text/markdown": [
       "1. 'MOVIE'\n",
       "2. 'SHOW'\n",
       "\n",
       "\n"
      ],
      "text/plain": [
       "[1] \"MOVIE\" \"SHOW\" "
      ]
     },
     "metadata": {},
     "output_type": "display_data"
    }
   ],
   "source": [
    "unique(NetflixRecode1$type)"
   ]
  },
  {
   "cell_type": "code",
   "execution_count": 58,
   "id": "27ef2f5c-b880-4968-bbe9-8f35fbadc087",
   "metadata": {},
   "outputs": [],
   "source": [
    "NetflixRSHOW <- (NetflixRecode1 %>% filter(type %in% c('SHOW')))"
   ]
  },
  {
   "cell_type": "code",
   "execution_count": 59,
   "id": "b132dbfc-830e-45a5-bfc9-2103af797bb1",
   "metadata": {},
   "outputs": [],
   "source": [
    "NetflixRMOVIE <- (NetflixRecode1 %>% filter(type %in% c('MOVIE')))"
   ]
  },
  {
   "cell_type": "code",
   "execution_count": 60,
   "id": "403f4202-9893-457e-b357-0814533db30e",
   "metadata": {},
   "outputs": [
    {
     "data": {
      "text/html": [
       "'MOVIE'"
      ],
      "text/latex": [
       "'MOVIE'"
      ],
      "text/markdown": [
       "'MOVIE'"
      ],
      "text/plain": [
       "[1] \"MOVIE\""
      ]
     },
     "metadata": {},
     "output_type": "display_data"
    }
   ],
   "source": [
    "unique(NetflixRMOVIE$type)"
   ]
  },
  {
   "cell_type": "markdown",
   "id": "d5739496-3367-4061-9fee-ec0de84057ba",
   "metadata": {},
   "source": [
    "# Perform a Kruskall-Wallis Test to test for analysis of variance when non-parametic (in our case uneven sample sizes)"
   ]
  },
  {
   "cell_type": "markdown",
   "id": "25643ffa-124b-45fb-aec8-42b4824fb61d",
   "metadata": {},
   "source": [
    "**Kruskall-Wallis Test for variance of runtime of shows by year**"
   ]
  },
  {
   "cell_type": "code",
   "execution_count": 61,
   "id": "b0377b79-6ea3-41ee-8326-f15abcadc317",
   "metadata": {},
   "outputs": [
    {
     "data": {
      "text/plain": [
       "\n",
       "\tKruskal-Wallis rank sum test\n",
       "\n",
       "data:  runtime by Realease_Year1\n",
       "Kruskal-Wallis chi-squared = 22.217, df = 2, p-value = 1.499e-05\n"
      ]
     },
     "metadata": {},
     "output_type": "display_data"
    }
   ],
   "source": [
    "kruskal.test(runtime ~ Realease_Year1, data = NetflixRSHOW) "
   ]
  },
  {
   "cell_type": "markdown",
   "id": "6d3c1ef0-a347-4fe2-bf14-ddc31bd52150",
   "metadata": {},
   "source": [
    "**Kruskall-Wallis Test for variance of runtime of movies by year**"
   ]
  },
  {
   "cell_type": "code",
   "execution_count": 62,
   "id": "19071c9f-06f8-479a-a305-ee398b0efb9a",
   "metadata": {},
   "outputs": [
    {
     "data": {
      "text/plain": [
       "\n",
       "\tKruskal-Wallis rank sum test\n",
       "\n",
       "data:  runtime by Realease_Year1\n",
       "Kruskal-Wallis chi-squared = 71.256, df = 2, p-value = 3.365e-16\n"
      ]
     },
     "metadata": {},
     "output_type": "display_data"
    }
   ],
   "source": [
    "kruskal.test(runtime ~ Realease_Year1, data = NetflixRMOVIE) "
   ]
  },
  {
   "cell_type": "markdown",
   "id": "955d0249-4300-4758-b13e-afc4499aa99c",
   "metadata": {},
   "source": [
    "**Since this p-value is less than 0.05, we can reject the null hypothesis that the median runtime is the same across the years** "
   ]
  },
  {
   "cell_type": "markdown",
   "id": "23737853-5a6e-47fd-879e-3166c1d74200",
   "metadata": {},
   "source": [
    "# Have IMDB ratings changed for shows over the decades? If so, how? "
   ]
  },
  {
   "cell_type": "markdown",
   "id": "41e01707-1f1e-4399-b42c-678a189db585",
   "metadata": {},
   "source": [
    "**To start I will run another Kruskal-Wallis test to analyze for variance.**"
   ]
  },
  {
   "cell_type": "code",
   "execution_count": 63,
   "id": "1b7c5dc7-9d35-4747-b650-81630fa028c2",
   "metadata": {},
   "outputs": [
    {
     "data": {
      "text/plain": [
       "\n",
       "\tKruskal-Wallis rank sum test\n",
       "\n",
       "data:  imdb_score by Realease_Year1\n",
       "Kruskal-Wallis chi-squared = 9.3209, df = 2, p-value = 0.009462\n"
      ]
     },
     "metadata": {},
     "output_type": "display_data"
    }
   ],
   "source": [
    "kruskal.test(imdb_score ~ Realease_Year1, data = NetflixRSHOW) "
   ]
  },
  {
   "cell_type": "markdown",
   "id": "16094278-cbf9-4bd5-96eb-701aca5f0340",
   "metadata": {},
   "source": [
    "**Our p-value is showing significant at >.05, so we can assume there is a significant difference in scores as the years change**"
   ]
  },
  {
   "cell_type": "markdown",
   "id": "f6fa94bb-d3aa-4ca9-bcec-5814b603bbd6",
   "metadata": {},
   "source": [
    "**To visualize where the variation lies, I created a line graph using Tableau**"
   ]
  },
  {
   "cell_type": "markdown",
   "id": "dd5c4393-65a8-4f24-9797-f3859ce180e9",
   "metadata": {},
   "source": [
    "# Have IMDB ratings changed for movies over the decades? If so, how? "
   ]
  },
  {
   "cell_type": "code",
   "execution_count": 64,
   "id": "51e4784d-4fa3-4f4f-89f0-9101a2acc00d",
   "metadata": {},
   "outputs": [
    {
     "data": {
      "text/plain": [
       "\n",
       "\tKruskal-Wallis rank sum test\n",
       "\n",
       "data:  imdb_score by Realease_Year1\n",
       "Kruskal-Wallis chi-squared = 39.833, df = 2, p-value = 2.241e-09\n"
      ]
     },
     "metadata": {},
     "output_type": "display_data"
    }
   ],
   "source": [
    "kruskal.test(imdb_score ~ Realease_Year1, data = NetflixRMOVIE) "
   ]
  },
  {
   "cell_type": "markdown",
   "id": "d61bd47b-9324-40a3-9769-faebb187b12c",
   "metadata": {},
   "source": [
    "**To visualize where the variation lies, I created a line graph using Tableau**"
   ]
  }
 ],
 "metadata": {
  "kernelspec": {
   "display_name": "R",
   "language": "R",
   "name": "ir"
  },
  "language_info": {
   "codemirror_mode": "r",
   "file_extension": ".r",
   "mimetype": "text/x-r-source",
   "name": "R",
   "pygments_lexer": "r",
   "version": "4.1.2"
  }
 },
 "nbformat": 4,
 "nbformat_minor": 5
}
