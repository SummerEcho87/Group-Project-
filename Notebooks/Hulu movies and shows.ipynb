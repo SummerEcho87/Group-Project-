{
 "cells": [
  {
   "cell_type": "markdown",
   "id": "3c30a4e3-095c-4037-bac4-dee543a754cf",
   "metadata": {},
   "source": [
    "## Importing Packages\n"
   ]
  },
  {
   "cell_type": "code",
   "execution_count": null,
   "id": "1c85dde8-1a62-4fc1-9b3c-37de9b4bcbf3",
   "metadata": {},
   "outputs": [],
   "source": [
    "install packag"
   ]
  }
 ],
 "metadata": {
  "kernelspec": {
   "display_name": "R",
   "language": "R",
   "name": "ir"
  },
  "language_info": {
   "name": ""
  }
 },
 "nbformat": 4,
 "nbformat_minor": 5
}
