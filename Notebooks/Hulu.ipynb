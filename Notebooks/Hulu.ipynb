{
 "cells": [
  {
   "cell_type": "code",
   "execution_count": 6,
   "id": "36ceef11-13b2-4364-a149-2ff66e1557e4",
   "metadata": {},
   "outputs": [],
   "source": [
    "import pandas as pd\n",
    "\n"
   ]
  },
  {
   "cell_type": "code",
   "execution_count": 7,
   "id": "70c70a08-82ae-4d8e-81b0-f7a88cbd0657",
   "metadata": {},
   "outputs": [],
   "source": [
    "Hulu = pd.read_csv(\"../Data/Hulu_titles.csv\") "
   ]
  },
  {
   "cell_type": "code",
   "execution_count": 1,
   "id": "a8134f4f-c248-4b7f-8d23-e48bad63ab98",
   "metadata": {},
   "outputs": [
    {
     "data": {
      "text/plain": [
       "'/Users/jaclynhuff/Documents/GitHub/Group-Project-/Notebooks'"
      ]
     },
     "execution_count": 1,
     "metadata": {},
     "output_type": "execute_result"
    }
   ],
   "source": [
    "pwd"
   ]
  },
  {
   "cell_type": "code",
   "execution_count": 8,
   "id": "7dd89073-8324-4f6c-9351-1301c94da22f",
   "metadata": {},
   "outputs": [
    {
     "name": "stdout",
     "output_type": "stream",
     "text": [
      "total 19632\n",
      "drwxr-xr-x@ 11 jaclynhuff  staff      352 Aug 15 16:47 \u001b[34m.\u001b[m\u001b[m/\n",
      "drwxr-xr-x@ 11 jaclynhuff  staff      352 Aug 15 16:54 \u001b[34m..\u001b[m\u001b[m/\n",
      "-rw-r--r--@  1 jaclynhuff  staff  1560860 Aug  1 14:57 HuluRaw.csv\n",
      "-rw-r--r--   1 jaclynhuff  staff  2022635 Aug 15 16:47 Hulu_titles.csv\n",
      "-rw-r--r--   1 jaclynhuff  staff  2022635 Aug  4 14:12 Netflix Data.csv\n",
      "-rw-r--r--   1 jaclynhuff  staff    38093 Aug  4 14:12 NetflixOriginals.csv\n",
      "-rw-r--r--   1 jaclynhuff  staff   668026 Aug 15 16:47 NetflixSHOW.csv\n",
      "-rw-r--r--   1 jaclynhuff  staff   506067 Aug  4 14:12 Streaming Services Data.csv\n",
      "-rw-r--r--   1 jaclynhuff  staff   500592 Aug  5 13:03 crunchyroll-credits.csv\n",
      "-rw-r--r--   1 jaclynhuff  staff   612054 Aug  5 13:03 crunchyroll-titles.csv\n",
      "-rw-r--r--   1 jaclynhuff  staff  2098808 Aug 15 16:47 netflix_recode.csv\n"
     ]
    }
   ],
   "source": [
    "ls -al ../Data"
   ]
  },
  {
   "cell_type": "code",
   "execution_count": 9,
   "id": "13d4a4bc-c999-444e-99bd-98815107fb29",
   "metadata": {},
   "outputs": [
    {
     "data": {
      "text/html": [
       "<div>\n",
       "<style scoped>\n",
       "    .dataframe tbody tr th:only-of-type {\n",
       "        vertical-align: middle;\n",
       "    }\n",
       "\n",
       "    .dataframe tbody tr th {\n",
       "        vertical-align: top;\n",
       "    }\n",
       "\n",
       "    .dataframe thead th {\n",
       "        text-align: right;\n",
       "    }\n",
       "</style>\n",
       "<table border=\"1\" class=\"dataframe\">\n",
       "  <thead>\n",
       "    <tr style=\"text-align: right;\">\n",
       "      <th></th>\n",
       "      <th>id</th>\n",
       "      <th>title</th>\n",
       "      <th>type</th>\n",
       "      <th>description</th>\n",
       "      <th>release_year</th>\n",
       "      <th>age_certification</th>\n",
       "      <th>runtime</th>\n",
       "      <th>genres</th>\n",
       "      <th>production_countries</th>\n",
       "      <th>seasons</th>\n",
       "      <th>imdb_id</th>\n",
       "      <th>imdb_score</th>\n",
       "      <th>imdb_votes</th>\n",
       "      <th>tmdb_popularity</th>\n",
       "      <th>tmdb_score</th>\n",
       "    </tr>\n",
       "  </thead>\n",
       "  <tbody>\n",
       "    <tr>\n",
       "      <th>0</th>\n",
       "      <td>ts300399</td>\n",
       "      <td>Five Came Back: The Reference Films</td>\n",
       "      <td>SHOW</td>\n",
       "      <td>This collection includes 12 World War II-era p...</td>\n",
       "      <td>1945</td>\n",
       "      <td>TV-MA</td>\n",
       "      <td>51</td>\n",
       "      <td>['documentation']</td>\n",
       "      <td>['US']</td>\n",
       "      <td>1.0</td>\n",
       "      <td>NaN</td>\n",
       "      <td>NaN</td>\n",
       "      <td>NaN</td>\n",
       "      <td>0.600</td>\n",
       "      <td>NaN</td>\n",
       "    </tr>\n",
       "    <tr>\n",
       "      <th>1</th>\n",
       "      <td>tm84618</td>\n",
       "      <td>Taxi Driver</td>\n",
       "      <td>MOVIE</td>\n",
       "      <td>A mentally unstable Vietnam War veteran works ...</td>\n",
       "      <td>1976</td>\n",
       "      <td>R</td>\n",
       "      <td>114</td>\n",
       "      <td>['drama', 'crime']</td>\n",
       "      <td>['US']</td>\n",
       "      <td>NaN</td>\n",
       "      <td>tt0075314</td>\n",
       "      <td>8.2</td>\n",
       "      <td>808582.0</td>\n",
       "      <td>40.965</td>\n",
       "      <td>8.179</td>\n",
       "    </tr>\n",
       "    <tr>\n",
       "      <th>2</th>\n",
       "      <td>tm154986</td>\n",
       "      <td>Deliverance</td>\n",
       "      <td>MOVIE</td>\n",
       "      <td>Intent on seeing the Cahulawassee River before...</td>\n",
       "      <td>1972</td>\n",
       "      <td>R</td>\n",
       "      <td>109</td>\n",
       "      <td>['drama', 'action', 'thriller', 'european']</td>\n",
       "      <td>['US']</td>\n",
       "      <td>NaN</td>\n",
       "      <td>tt0068473</td>\n",
       "      <td>7.7</td>\n",
       "      <td>107673.0</td>\n",
       "      <td>10.010</td>\n",
       "      <td>7.300</td>\n",
       "    </tr>\n",
       "    <tr>\n",
       "      <th>3</th>\n",
       "      <td>tm127384</td>\n",
       "      <td>Monty Python and the Holy Grail</td>\n",
       "      <td>MOVIE</td>\n",
       "      <td>King Arthur, accompanied by his squire, recrui...</td>\n",
       "      <td>1975</td>\n",
       "      <td>PG</td>\n",
       "      <td>91</td>\n",
       "      <td>['fantasy', 'action', 'comedy']</td>\n",
       "      <td>['GB']</td>\n",
       "      <td>NaN</td>\n",
       "      <td>tt0071853</td>\n",
       "      <td>8.2</td>\n",
       "      <td>534486.0</td>\n",
       "      <td>15.461</td>\n",
       "      <td>7.811</td>\n",
       "    </tr>\n",
       "    <tr>\n",
       "      <th>4</th>\n",
       "      <td>tm120801</td>\n",
       "      <td>The Dirty Dozen</td>\n",
       "      <td>MOVIE</td>\n",
       "      <td>12 American military prisoners in World War II...</td>\n",
       "      <td>1967</td>\n",
       "      <td>NaN</td>\n",
       "      <td>150</td>\n",
       "      <td>['war', 'action']</td>\n",
       "      <td>['GB', 'US']</td>\n",
       "      <td>NaN</td>\n",
       "      <td>tt0061578</td>\n",
       "      <td>7.7</td>\n",
       "      <td>72662.0</td>\n",
       "      <td>20.398</td>\n",
       "      <td>7.600</td>\n",
       "    </tr>\n",
       "  </tbody>\n",
       "</table>\n",
       "</div>"
      ],
      "text/plain": [
       "         id                                title   type  \\\n",
       "0  ts300399  Five Came Back: The Reference Films   SHOW   \n",
       "1   tm84618                          Taxi Driver  MOVIE   \n",
       "2  tm154986                          Deliverance  MOVIE   \n",
       "3  tm127384      Monty Python and the Holy Grail  MOVIE   \n",
       "4  tm120801                      The Dirty Dozen  MOVIE   \n",
       "\n",
       "                                         description  release_year  \\\n",
       "0  This collection includes 12 World War II-era p...          1945   \n",
       "1  A mentally unstable Vietnam War veteran works ...          1976   \n",
       "2  Intent on seeing the Cahulawassee River before...          1972   \n",
       "3  King Arthur, accompanied by his squire, recrui...          1975   \n",
       "4  12 American military prisoners in World War II...          1967   \n",
       "\n",
       "  age_certification  runtime                                       genres  \\\n",
       "0             TV-MA       51                            ['documentation']   \n",
       "1                 R      114                           ['drama', 'crime']   \n",
       "2                 R      109  ['drama', 'action', 'thriller', 'european']   \n",
       "3                PG       91              ['fantasy', 'action', 'comedy']   \n",
       "4               NaN      150                            ['war', 'action']   \n",
       "\n",
       "  production_countries  seasons    imdb_id  imdb_score  imdb_votes  \\\n",
       "0               ['US']      1.0        NaN         NaN         NaN   \n",
       "1               ['US']      NaN  tt0075314         8.2    808582.0   \n",
       "2               ['US']      NaN  tt0068473         7.7    107673.0   \n",
       "3               ['GB']      NaN  tt0071853         8.2    534486.0   \n",
       "4         ['GB', 'US']      NaN  tt0061578         7.7     72662.0   \n",
       "\n",
       "   tmdb_popularity  tmdb_score  \n",
       "0            0.600         NaN  \n",
       "1           40.965       8.179  \n",
       "2           10.010       7.300  \n",
       "3           15.461       7.811  \n",
       "4           20.398       7.600  "
      ]
     },
     "execution_count": 9,
     "metadata": {},
     "output_type": "execute_result"
    }
   ],
   "source": [
    "Hulu.head() "
   ]
  },
  {
   "cell_type": "code",
   "execution_count": 88,
   "id": "dab2cddd-ae31-45b9-8f2c-98d7ee14686e",
   "metadata": {},
   "outputs": [
    {
     "data": {
      "text/plain": [
       "<AxesSubplot:>"
      ]
     },
     "execution_count": 88,
     "metadata": {},
     "output_type": "execute_result"
    },
    {
     "data": {
      "image/png": "[encoded data removed]",
      "text/plain": [
       "<Figure size 432x288 with 1 Axes>"
      ]
     },
     "metadata": {
      "needs_background": "light"
     },
     "output_type": "display_data"
    }
   ],
   "source": [
    "Hulu.runtime.hist() "
   ]
  },
  {
   "cell_type": "markdown",
   "id": "d34a7c6e-962a-4f08-98f0-2f2bfef9138b",
   "metadata": {},
   "source": [
    "### Add new column fill with a set value "
   ]
  },
  {
   "cell_type": "code",
   "execution_count": 89,
   "id": "041b5a2f-f2b4-4b60-8b82-c558735dcec5",
   "metadata": {},
   "outputs": [],
   "source": [
    "Hulu['runtime'] = 'Y'"
   ]
  },
  {
   "cell_type": "code",
   "execution_count": 119,
   "id": "67a5a527-9211-4b5f-a58b-3c35fbf76cf3",
   "metadata": {},
   "outputs": [],
   "source": [
    "Hulusubset = Hulu[['title','release_year']]"
   ]
  },
  {
   "cell_type": "code",
   "execution_count": 120,
   "id": "592c08bc-611b-4235-9091-9fce2172e5a8",
   "metadata": {},
   "outputs": [
    {
     "data": {
      "text/html": [
       "<div>\n",
       "<style scoped>\n",
       "    .dataframe tbody tr th:only-of-type {\n",
       "        vertical-align: middle;\n",
       "    }\n",
       "\n",
       "    .dataframe tbody tr th {\n",
       "        vertical-align: top;\n",
       "    }\n",
       "\n",
       "    .dataframe thead th {\n",
       "        text-align: right;\n",
       "    }\n",
       "</style>\n",
       "<table border=\"1\" class=\"dataframe\">\n",
       "  <thead>\n",
       "    <tr style=\"text-align: right;\">\n",
       "      <th></th>\n",
       "      <th>title</th>\n",
       "      <th>release_year</th>\n",
       "    </tr>\n",
       "  </thead>\n",
       "  <tbody>\n",
       "    <tr>\n",
       "      <th>0</th>\n",
       "      <td>Saturday Night Live</td>\n",
       "      <td>1975</td>\n",
       "    </tr>\n",
       "    <tr>\n",
       "      <th>1</th>\n",
       "      <td>M*A*S*H</td>\n",
       "      <td>1972</td>\n",
       "    </tr>\n",
       "    <tr>\n",
       "      <th>2</th>\n",
       "      <td>I Love Lucy</td>\n",
       "      <td>1951</td>\n",
       "    </tr>\n",
       "    <tr>\n",
       "      <th>3</th>\n",
       "      <td>Taxi</td>\n",
       "      <td>1978</td>\n",
       "    </tr>\n",
       "    <tr>\n",
       "      <th>4</th>\n",
       "      <td>The Mary Tyler Moore Show</td>\n",
       "      <td>1970</td>\n",
       "    </tr>\n",
       "  </tbody>\n",
       "</table>\n",
       "</div>"
      ],
      "text/plain": [
       "                       title  release_year\n",
       "0        Saturday Night Live          1975\n",
       "1                    M*A*S*H          1972\n",
       "2                I Love Lucy          1951\n",
       "3                       Taxi          1978\n",
       "4  The Mary Tyler Moore Show          1970"
      ]
     },
     "execution_count": 120,
     "metadata": {},
     "output_type": "execute_result"
    }
   ],
   "source": [
    "Hulusubset.head()"
   ]
  },
  {
   "cell_type": "code",
   "execution_count": 121,
   "id": "137becc8-47b2-4442-8fe1-17dcde1f1978",
   "metadata": {},
   "outputs": [
    {
     "data": {
      "text/plain": [
       "array([[<AxesSubplot:title={'center':'release_year'}>]], dtype=object)"
      ]
     },
     "execution_count": 121,
     "metadata": {},
     "output_type": "execute_result"
    },
    {
     "data": {
      "image/png": "[encoded data removed]",
      "text/plain": [
       "<Figure size 432x288 with 1 Axes>"
      ]
     },
     "metadata": {
      "needs_background": "light"
     },
     "output_type": "display_data"
    }
   ],
   "source": [
    "Hulusubset.hist()"
   ]
  },
  {
   "cell_type": "code",
   "execution_count": 90,
   "id": "9028506e-0384-4f72-a1cd-9b7ec1eea72e",
   "metadata": {},
   "outputs": [
    {
     "data": {
      "text/html": [
       "<div>\n",
       "<style scoped>\n",
       "    .dataframe tbody tr th:only-of-type {\n",
       "        vertical-align: middle;\n",
       "    }\n",
       "\n",
       "    .dataframe tbody tr th {\n",
       "        vertical-align: top;\n",
       "    }\n",
       "\n",
       "    .dataframe thead th {\n",
       "        text-align: right;\n",
       "    }\n",
       "</style>\n",
       "<table border=\"1\" class=\"dataframe\">\n",
       "  <thead>\n",
       "    <tr style=\"text-align: right;\">\n",
       "      <th></th>\n",
       "      <th>id</th>\n",
       "      <th>title</th>\n",
       "      <th>type</th>\n",
       "      <th>description</th>\n",
       "      <th>release_year</th>\n",
       "      <th>age_certification</th>\n",
       "      <th>runtime</th>\n",
       "      <th>genres</th>\n",
       "      <th>production_countries</th>\n",
       "      <th>seasons</th>\n",
       "      <th>imdb_id</th>\n",
       "      <th>imdb_score</th>\n",
       "      <th>imdb_votes</th>\n",
       "      <th>tmdb_popularity</th>\n",
       "      <th>tmdb_score</th>\n",
       "    </tr>\n",
       "  </thead>\n",
       "  <tbody>\n",
       "    <tr>\n",
       "      <th>0</th>\n",
       "      <td>ts20475</td>\n",
       "      <td>Saturday Night Live</td>\n",
       "      <td>SHOW</td>\n",
       "      <td>A late-night live television sketch comedy and...</td>\n",
       "      <td>1975</td>\n",
       "      <td>TV-14</td>\n",
       "      <td>Y</td>\n",
       "      <td>['music', 'comedy']</td>\n",
       "      <td>['US']</td>\n",
       "      <td>47.0</td>\n",
       "      <td>tt0072562</td>\n",
       "      <td>8.0</td>\n",
       "      <td>47910.0</td>\n",
       "      <td>54.345</td>\n",
       "      <td>6.9</td>\n",
       "    </tr>\n",
       "    <tr>\n",
       "      <th>1</th>\n",
       "      <td>ts20413</td>\n",
       "      <td>M*A*S*H</td>\n",
       "      <td>SHOW</td>\n",
       "      <td>The 4077th Mobile Army Surgical Hospital is st...</td>\n",
       "      <td>1972</td>\n",
       "      <td>TV-PG</td>\n",
       "      <td>Y</td>\n",
       "      <td>['war', 'comedy', 'drama']</td>\n",
       "      <td>['US']</td>\n",
       "      <td>11.0</td>\n",
       "      <td>tt0068098</td>\n",
       "      <td>8.4</td>\n",
       "      <td>55882.0</td>\n",
       "      <td>27.308</td>\n",
       "      <td>8.0</td>\n",
       "    </tr>\n",
       "    <tr>\n",
       "      <th>2</th>\n",
       "      <td>ts20005</td>\n",
       "      <td>I Love Lucy</td>\n",
       "      <td>SHOW</td>\n",
       "      <td>Cuban Bandleader Ricky Ricardo would be happy ...</td>\n",
       "      <td>1951</td>\n",
       "      <td>TV-G</td>\n",
       "      <td>Y</td>\n",
       "      <td>['comedy', 'family']</td>\n",
       "      <td>['US']</td>\n",
       "      <td>9.0</td>\n",
       "      <td>tt0043208</td>\n",
       "      <td>8.5</td>\n",
       "      <td>25944.0</td>\n",
       "      <td>17.088</td>\n",
       "      <td>8.1</td>\n",
       "    </tr>\n",
       "    <tr>\n",
       "      <th>3</th>\n",
       "      <td>ts20669</td>\n",
       "      <td>Taxi</td>\n",
       "      <td>SHOW</td>\n",
       "      <td>Louie De Palma is a cantankerous, acerbic taxi...</td>\n",
       "      <td>1978</td>\n",
       "      <td>TV-PG</td>\n",
       "      <td>Y</td>\n",
       "      <td>['drama', 'comedy']</td>\n",
       "      <td>['US']</td>\n",
       "      <td>5.0</td>\n",
       "      <td>tt0077089</td>\n",
       "      <td>7.7</td>\n",
       "      <td>13379.0</td>\n",
       "      <td>14.346</td>\n",
       "      <td>7.3</td>\n",
       "    </tr>\n",
       "    <tr>\n",
       "      <th>4</th>\n",
       "      <td>ts21049</td>\n",
       "      <td>The Mary Tyler Moore Show</td>\n",
       "      <td>SHOW</td>\n",
       "      <td>30-year-old single Mary Richards moves to Minn...</td>\n",
       "      <td>1970</td>\n",
       "      <td>TV-PG</td>\n",
       "      <td>Y</td>\n",
       "      <td>['comedy']</td>\n",
       "      <td>['US']</td>\n",
       "      <td>7.0</td>\n",
       "      <td>tt0065314</td>\n",
       "      <td>8.2</td>\n",
       "      <td>8692.0</td>\n",
       "      <td>9.290</td>\n",
       "      <td>7.5</td>\n",
       "    </tr>\n",
       "  </tbody>\n",
       "</table>\n",
       "</div>"
      ],
      "text/plain": [
       "        id                      title  type  \\\n",
       "0  ts20475        Saturday Night Live  SHOW   \n",
       "1  ts20413                    M*A*S*H  SHOW   \n",
       "2  ts20005                I Love Lucy  SHOW   \n",
       "3  ts20669                       Taxi  SHOW   \n",
       "4  ts21049  The Mary Tyler Moore Show  SHOW   \n",
       "\n",
       "                                         description  release_year  \\\n",
       "0  A late-night live television sketch comedy and...          1975   \n",
       "1  The 4077th Mobile Army Surgical Hospital is st...          1972   \n",
       "2  Cuban Bandleader Ricky Ricardo would be happy ...          1951   \n",
       "3  Louie De Palma is a cantankerous, acerbic taxi...          1978   \n",
       "4  30-year-old single Mary Richards moves to Minn...          1970   \n",
       "\n",
       "  age_certification runtime                      genres production_countries  \\\n",
       "0             TV-14       Y         ['music', 'comedy']               ['US']   \n",
       "1             TV-PG       Y  ['war', 'comedy', 'drama']               ['US']   \n",
       "2              TV-G       Y        ['comedy', 'family']               ['US']   \n",
       "3             TV-PG       Y         ['drama', 'comedy']               ['US']   \n",
       "4             TV-PG       Y                  ['comedy']               ['US']   \n",
       "\n",
       "   seasons    imdb_id  imdb_score  imdb_votes  tmdb_popularity  tmdb_score  \n",
       "0     47.0  tt0072562         8.0     47910.0           54.345         6.9  \n",
       "1     11.0  tt0068098         8.4     55882.0           27.308         8.0  \n",
       "2      9.0  tt0043208         8.5     25944.0           17.088         8.1  \n",
       "3      5.0  tt0077089         7.7     13379.0           14.346         7.3  \n",
       "4      7.0  tt0065314         8.2      8692.0            9.290         7.5  "
      ]
     },
     "execution_count": 90,
     "metadata": {},
     "output_type": "execute_result"
    }
   ],
   "source": [
    "Hulu.head() "
   ]
  },
  {
   "cell_type": "code",
   "execution_count": 111,
   "id": "1e07a6f5-4929-4726-9c03-4902d68f9778",
   "metadata": {},
   "outputs": [
    {
     "name": "stdout",
     "output_type": "stream",
     "text": [
      "<class 'pandas.core.frame.DataFrame'>\n",
      "RangeIndex: 2398 entries, 0 to 2397\n",
      "Data columns (total 15 columns):\n",
      " #   Column                Non-Null Count  Dtype  \n",
      "---  ------                --------------  -----  \n",
      " 0   id                    2398 non-null   object \n",
      " 1   title                 2398 non-null   object \n",
      " 2   type                  2398 non-null   object \n",
      " 3   description           2385 non-null   object \n",
      " 4   release_year          2398 non-null   int64  \n",
      " 5   age_certification     1713 non-null   object \n",
      " 6   runtime               2398 non-null   object \n",
      " 7   genres                2398 non-null   object \n",
      " 8   production_countries  2398 non-null   object \n",
      " 9   seasons               1330 non-null   float64\n",
      " 10  imdb_id               2263 non-null   object \n",
      " 11  imdb_score            2232 non-null   float64\n",
      " 12  imdb_votes            2231 non-null   float64\n",
      " 13  tmdb_popularity       2348 non-null   float64\n",
      " 14  tmdb_score            2238 non-null   float64\n",
      "dtypes: float64(5), int64(1), object(9)\n",
      "memory usage: 281.1+ KB\n"
     ]
    }
   ],
   "source": [
    "Hulu.info() "
   ]
  },
  {
   "cell_type": "markdown",
   "id": "a6157a5e-21c5-4d08-b76f-a8469b63d3b1",
   "metadata": {},
   "source": [
    "### Checking for missing values"
   ]
  },
  {
   "cell_type": "code",
   "execution_count": 106,
   "id": "a79cfbb9-e51c-4329-8111-78612242a79b",
   "metadata": {},
   "outputs": [
    {
     "data": {
      "text/plain": [
       "id                         0\n",
       "title                      0\n",
       "type                       0\n",
       "description               13\n",
       "release_year               0\n",
       "age_certification        685\n",
       "runtime                    0\n",
       "genres                     0\n",
       "production_countries       0\n",
       "seasons                 1068\n",
       "imdb_id                  135\n",
       "imdb_score               166\n",
       "imdb_votes               167\n",
       "tmdb_popularity           50\n",
       "tmdb_score               160\n",
       "dtype: int64"
      ]
     },
     "execution_count": 106,
     "metadata": {},
     "output_type": "execute_result"
    }
   ],
   "source": [
    "Hulu.isnull().sum()"
   ]
  },
  {
   "cell_type": "markdown",
   "id": "ca478dda-71e6-47e3-b27c-4eaf0b35f0b0",
   "metadata": {},
   "source": [
    "### Examining all genres lists "
   ]
  },
  {
   "cell_type": "code",
   "execution_count": 107,
   "id": "c4525c69-fd9b-405d-ab20-97294a718464",
   "metadata": {},
   "outputs": [
    {
     "data": {
      "text/plain": [
       "array([\"['music', 'comedy']\", \"['war', 'comedy', 'drama']\",\n",
       "       \"['comedy', 'family']\", ..., \"['thriller', 'fantasy', 'scifi']\",\n",
       "       \"['reality', 'music', 'drama', 'horror', 'romance', 'scifi', 'crime', 'action']\",\n",
       "       \"['animation', 'family', 'fantasy']\"], dtype=object)"
      ]
     },
     "execution_count": 107,
     "metadata": {},
     "output_type": "execute_result"
    }
   ],
   "source": [
    "Hulu['genres'].unique()"
   ]
  },
  {
   "cell_type": "code",
   "execution_count": 108,
   "id": "d73e4cf9-d17c-4355-bcec-04d63dc94f13",
   "metadata": {},
   "outputs": [],
   "source": [
    "Hulu[\"genres\"] = Hulu[\"genres\"].apply(lambda s: eval(s))"
   ]
  },
  {
   "cell_type": "code",
   "execution_count": 109,
   "id": "59fbbbe4-39ea-4841-af1a-8a1224a37408",
   "metadata": {},
   "outputs": [
    {
     "data": {
      "text/plain": [
       "['war', 'comedy', 'drama']"
      ]
     },
     "execution_count": 109,
     "metadata": {},
     "output_type": "execute_result"
    }
   ],
   "source": [
    "Hulu.loc[1,'genres']"
   ]
  },
  {
   "cell_type": "code",
   "execution_count": 110,
   "id": "9cdc7ca7-0cc0-41b6-932e-0561b296d0e9",
   "metadata": {},
   "outputs": [],
   "source": [
    "Hulu['type'] = Hulu['type'].astype('str') "
   ]
  },
  {
   "cell_type": "code",
   "execution_count": 113,
   "id": "da7e512e-7530-465a-b1d4-9ca4ce376c60",
   "metadata": {},
   "outputs": [
    {
     "name": "stdout",
     "output_type": "stream",
     "text": [
      "<class 'pandas.core.series.Series'>\n",
      "RangeIndex: 2398 entries, 0 to 2397\n",
      "Series name: type\n",
      "Non-Null Count  Dtype \n",
      "--------------  ----- \n",
      "2398 non-null   object\n",
      "dtypes: object(1)\n",
      "memory usage: 18.9+ KB\n"
     ]
    }
   ],
   "source": [
    "Hulu['type'].info()"
   ]
  },
  {
   "cell_type": "code",
   "execution_count": 116,
   "id": "3007aa18-5a64-4d2e-99cd-2fd1151e2951",
   "metadata": {},
   "outputs": [
    {
     "data": {
      "text/plain": [
       "array(['SHOW', 'MOVIE'], dtype=object)"
      ]
     },
     "execution_count": 116,
     "metadata": {},
     "output_type": "execute_result"
    }
   ],
   "source": [
    "Hulu['type'].unique() "
   ]
  },
  {
   "cell_type": "code",
   "execution_count": null,
   "id": "1d65e060-5604-4b51-90a6-f072123b0059",
   "metadata": {},
   "outputs": [],
   "source": []
  }
 ],
 "metadata": {
  "kernelspec": {
   "display_name": "Python 3 (ipykernel)",
   "language": "python",
   "name": "python3"
  },
  "language_info": {
   "codemirror_mode": {
    "name": "ipython",
    "version": 3
   },
   "file_extension": ".py",
   "mimetype": "text/x-python",
   "name": "python",
   "nbconvert_exporter": "python",
   "pygments_lexer": "ipython3",
   "version": "3.9.12"
  }
 },
 "nbformat": 4,
 "nbformat_minor": 5
}
