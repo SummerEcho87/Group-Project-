{
 "cells": [
  {
   "cell_type": "code",
   "execution_count": 6,
   "id": "c53de3f0-6ef6-4141-b567-90b6d761771e",
   "metadata": {},
   "outputs": [],
   "source": [
    "Netflix = read.csv(\"../Data/netflix_recode.csv\")"
   ]
  },
  {
   "cell_type": "code",
   "execution_count": 5,
   "id": "4ee66911-2efe-4fde-a61a-b3ccf43fb388",
   "metadata": {
    "collapsed": true,
    "jupyter": {
     "outputs_hidden": true,
     "source_hidden": true
    },
    "tags": []
   },
   "outputs": [
    {
     "name": "stderr",
     "output_type": "stream",
     "text": [
      "Warning message:\n",
      "\"package 'caret' is in use and will not be installed\"\n",
      "Warning message:\n",
      "\"package 'gvlma' is in use and will not be installed\"\n",
      "Warning message:\n",
      "\"package 'predictmeans' is in use and will not be installed\"\n",
      "Warning message:\n",
      "\"package 'e1071' is in use and will not be installed\"\n",
      "Warning message:\n",
      "\"package 'lmtest' is in use and will not be installed\"\n"
     ]
    }
   ],
   "source": [
    "library(\"dplyr\")\n",
    "library(\"rcompanion\")\n",
    "library(\"car\")\n",
    "library(\"IDPmisc\")\n",
    "install.packages(\"caret\")\n",
    "install.packages(\"gvlma\")\n",
    "install.packages(\"predictmeans\")\n",
    "install.packages(\"e1071\")\n",
    "install.packages(\"lmtest\")\n",
    "library(\"caret\")\n",
    "library(\"gvlma\")\n",
    "library(\"predictmeans\")\n",
    "library(\"e1071\")\n",
    "library(\"lmtest\")"
   ]
  },
  {
   "cell_type": "code",
   "execution_count": 11,
   "id": "51a971f1-9145-4c07-8e46-f6e8cc842072",
   "metadata": {},
   "outputs": [],
   "source": [
    "# How have movie/show times changed through the decades? "
   ]
  },
  {
   "cell_type": "code",
   "execution_count": 7,
   "id": "468ef49b-5db4-48c8-a7e4-3a7ebc79c74f",
   "metadata": {},
   "outputs": [],
   "source": [
    "# Create seperate df's for Shows and Movies "
   ]
  },
  {
   "cell_type": "code",
   "execution_count": 8,
   "id": "221e693f-6bbd-4672-9ead-13310b16b2f7",
   "metadata": {},
   "outputs": [],
   "source": [
    "NetflixSHOW <- (Netflix %>% filter(type %in% c('SHOW')))"
   ]
  },
  {
   "cell_type": "code",
   "execution_count": 9,
   "id": "16166d16-6146-4319-aa36-87c7ad51a033",
   "metadata": {},
   "outputs": [],
   "source": [
    "NetflixMOVIE <- (Netflix %>% filter(type %in% c('MOVIE')))"
   ]
  },
  {
   "cell_type": "code",
   "execution_count": 10,
   "id": "3e41412b-885b-4835-88b6-890aa02c4d88",
   "metadata": {
    "collapsed": true,
    "jupyter": {
     "outputs_hidden": true
    },
    "tags": []
   },
   "outputs": [
    {
     "data": {
      "text/html": [
       "<table class=\"dataframe\">\n",
       "<caption>A data.frame: 6 × 34</caption>\n",
       "<thead>\n",
       "\t<tr><th></th><th scope=col>X</th><th scope=col>id</th><th scope=col>title</th><th scope=col>type</th><th scope=col>description</th><th scope=col>release_year</th><th scope=col>age_certification</th><th scope=col>runtime</th><th scope=col>production_countries</th><th scope=col>seasons</th><th scope=col>...</th><th scope=col>thriller</th><th scope=col>crime</th><th scope=col>comedy</th><th scope=col>documentation</th><th scope=col>fantasy</th><th scope=col>scifi</th><th scope=col>romance</th><th scope=col>horror</th><th scope=col>history</th><th scope=col>music</th></tr>\n",
       "\t<tr><th></th><th scope=col>&lt;int&gt;</th><th scope=col>&lt;chr&gt;</th><th scope=col>&lt;chr&gt;</th><th scope=col>&lt;chr&gt;</th><th scope=col>&lt;chr&gt;</th><th scope=col>&lt;int&gt;</th><th scope=col>&lt;chr&gt;</th><th scope=col>&lt;int&gt;</th><th scope=col>&lt;chr&gt;</th><th scope=col>&lt;dbl&gt;</th><th scope=col>...</th><th scope=col>&lt;int&gt;</th><th scope=col>&lt;int&gt;</th><th scope=col>&lt;int&gt;</th><th scope=col>&lt;int&gt;</th><th scope=col>&lt;int&gt;</th><th scope=col>&lt;int&gt;</th><th scope=col>&lt;int&gt;</th><th scope=col>&lt;int&gt;</th><th scope=col>&lt;int&gt;</th><th scope=col>&lt;int&gt;</th></tr>\n",
       "</thead>\n",
       "<tbody>\n",
       "\t<tr><th scope=row>1</th><td> 0</td><td>ts300399</td><td>Five Came Back: The Reference Films</td><td>SHOW</td><td>This collection includes 12 World War II-era propaganda films â€” many of which are graphic and offensive â€” discussed in the docuseries \"Five Came Back.\"                                                                                                                                                                                                                                                                                                                                                                                                                                                                                </td><td>1945</td><td>TV-MA</td><td>51</td><td>['US']</td><td> 1</td><td>...</td><td>0</td><td>0</td><td>0</td><td>1</td><td>0</td><td>0</td><td>0</td><td>0</td><td>0</td><td>0</td></tr>\n",
       "\t<tr><th scope=row>2</th><td> 5</td><td>ts22164 </td><td>Monty Python's Flying Circus       </td><td>SHOW</td><td>A British sketch comedy series with the shows being composed of surreality, risquÃ© or innuendo-laden humour, sight gags and observational sketches without punchlines.                                                                                                                                                                                                                                                                                                                                                                                                                                                                    </td><td>1969</td><td>TV-14</td><td>30</td><td>['GB']</td><td> 4</td><td>...</td><td>0</td><td>0</td><td>1</td><td>0</td><td>0</td><td>0</td><td>0</td><td>0</td><td>0</td><td>0</td></tr>\n",
       "\t<tr><th scope=row>3</th><td>26</td><td>ts45948 </td><td>Monty Python's Fliegender Zirkus   </td><td>SHOW</td><td>Monty Python's Fliegender Zirkus consisted of two 45-minute Monty Python German television comedy specials produced by WDR for West German television. The two episodes were first broadcast in January and December 1972 and were shot entirely on film and mostly on location in Bavaria, with the first episode recorded in German and the second recorded in English and then dubbed into German.                                                                                                                                                                                                                                      </td><td>1972</td><td>TV-MA</td><td>43</td><td>[]    </td><td> 1</td><td>...</td><td>0</td><td>0</td><td>1</td><td>0</td><td>0</td><td>0</td><td>0</td><td>0</td><td>0</td><td>0</td></tr>\n",
       "\t<tr><th scope=row>4</th><td>35</td><td>ts20681 </td><td>Seinfeld                           </td><td>SHOW</td><td>A stand-up comedian and his three offbeat friends weather the pitfalls and payoffs of life in New York City in the '90s. It's a show about nothing.                                                                                                                                                                                                                                                                                                                                                                                                                                                                                        </td><td>1989</td><td>TV-PG</td><td>24</td><td>['US']</td><td> 9</td><td>...</td><td>0</td><td>0</td><td>1</td><td>0</td><td>0</td><td>0</td><td>0</td><td>0</td><td>0</td><td>0</td></tr>\n",
       "\t<tr><th scope=row>5</th><td>44</td><td>ts22082 </td><td>Knight Rider                       </td><td>SHOW</td><td>Michael Long, an undercover police officer, is shot while investigating a case and left for dead by his assailants. He is rescued by Wilton Knight, a wealthy, dying millionaire and inventor who arranges life-saving surgery, including a new face and a new identity--that of Michael Knight. Michael is then given a special computerized and indestructible car called the Knight Industries Two Thousand (nicknamed KITT), and a mission: apprehend criminals who are beyond the reach of the law. The series depicts Michael's exploits as he and KITT battle the forces of evil on behalf of the Foundation for Law and Government.</td><td>1982</td><td>TV-PG</td><td>51</td><td>['US']</td><td> 4</td><td>...</td><td>0</td><td>1</td><td>0</td><td>0</td><td>0</td><td>1</td><td>0</td><td>0</td><td>0</td><td>0</td></tr>\n",
       "\t<tr><th scope=row>6</th><td>45</td><td>ts21715 </td><td><span style=white-space:pre-wrap>Thomas &amp; Friends                   </span></td><td>SHOW</td><td><span style=white-space:pre-wrap>Thomas &amp; Friends is a British children's television series, which had its first broadcast on the ITV network on 4 September 1984. It is based on The Railway Series of books by the Reverend Wilbert Awdry and his son, Christopher Awdry. These books deal with the adventures of a group of anthropomorphised locomotives and road vehicles who live on the fictional Island of Sodor. The books were based on stories Wilbert told to entertain his son, Christopher during his recovery from measles. From Series one to four, many of the stories are based on events from Awdry's personal experience.                               </span></td><td>1984</td><td>TV-Y </td><td>10</td><td>['GB']</td><td>24</td><td>...</td><td>0</td><td>0</td><td>1</td><td>0</td><td>1</td><td>0</td><td>0</td><td>0</td><td>0</td><td>1</td></tr>\n",
       "</tbody>\n",
       "</table>\n"
      ],
      "text/latex": [
       "A data.frame: 6 × 34\n",
       "\\begin{tabular}{r|lllllllllllllllllllll}\n",
       "  & X & id & title & type & description & release\\_year & age\\_certification & runtime & production\\_countries & seasons & ... & thriller & crime & comedy & documentation & fantasy & scifi & romance & horror & history & music\\\\\n",
       "  & <int> & <chr> & <chr> & <chr> & <chr> & <int> & <chr> & <int> & <chr> & <dbl> & ... & <int> & <int> & <int> & <int> & <int> & <int> & <int> & <int> & <int> & <int>\\\\\n",
       "\\hline\n",
       "\t1 &  0 & ts300399 & Five Came Back: The Reference Films & SHOW & This collection includes 12 World War II-era propaganda films â€” many of which are graphic and offensive â€” discussed in the docuseries \"Five Came Back.\"                                                                                                                                                                                                                                                                                                                                                                                                                                                                                 & 1945 & TV-MA & 51 & {[}'US'{]} &  1 & ... & 0 & 0 & 0 & 1 & 0 & 0 & 0 & 0 & 0 & 0\\\\\n",
       "\t2 &  5 & ts22164  & Monty Python's Flying Circus        & SHOW & A British sketch comedy series with the shows being composed of surreality, risquÃ© or innuendo-laden humour, sight gags and observational sketches without punchlines.                                                                                                                                                                                                                                                                                                                                                                                                                                                                     & 1969 & TV-14 & 30 & {[}'GB'{]} &  4 & ... & 0 & 0 & 1 & 0 & 0 & 0 & 0 & 0 & 0 & 0\\\\\n",
       "\t3 & 26 & ts45948  & Monty Python's Fliegender Zirkus    & SHOW & Monty Python's Fliegender Zirkus consisted of two 45-minute Monty Python German television comedy specials produced by WDR for West German television. The two episodes were first broadcast in January and December 1972 and were shot entirely on film and mostly on location in Bavaria, with the first episode recorded in German and the second recorded in English and then dubbed into German.                                                                                                                                                                                                                                       & 1972 & TV-MA & 43 & {[}{]}     &  1 & ... & 0 & 0 & 1 & 0 & 0 & 0 & 0 & 0 & 0 & 0\\\\\n",
       "\t4 & 35 & ts20681  & Seinfeld                            & SHOW & A stand-up comedian and his three offbeat friends weather the pitfalls and payoffs of life in New York City in the '90s. It's a show about nothing.                                                                                                                                                                                                                                                                                                                                                                                                                                                                                         & 1989 & TV-PG & 24 & {[}'US'{]} &  9 & ... & 0 & 0 & 1 & 0 & 0 & 0 & 0 & 0 & 0 & 0\\\\\n",
       "\t5 & 44 & ts22082  & Knight Rider                        & SHOW & Michael Long, an undercover police officer, is shot while investigating a case and left for dead by his assailants. He is rescued by Wilton Knight, a wealthy, dying millionaire and inventor who arranges life-saving surgery, including a new face and a new identity--that of Michael Knight. Michael is then given a special computerized and indestructible car called the Knight Industries Two Thousand (nicknamed KITT), and a mission: apprehend criminals who are beyond the reach of the law. The series depicts Michael's exploits as he and KITT battle the forces of evil on behalf of the Foundation for Law and Government. & 1982 & TV-PG & 51 & {[}'US'{]} &  4 & ... & 0 & 1 & 0 & 0 & 0 & 1 & 0 & 0 & 0 & 0\\\\\n",
       "\t6 & 45 & ts21715  & Thomas \\& Friends                    & SHOW & Thomas \\& Friends is a British children's television series, which had its first broadcast on the ITV network on 4 September 1984. It is based on The Railway Series of books by the Reverend Wilbert Awdry and his son, Christopher Awdry. These books deal with the adventures of a group of anthropomorphised locomotives and road vehicles who live on the fictional Island of Sodor. The books were based on stories Wilbert told to entertain his son, Christopher during his recovery from measles. From Series one to four, many of the stories are based on events from Awdry's personal experience.                                & 1984 & TV-Y  & 10 & {[}'GB'{]} & 24 & ... & 0 & 0 & 1 & 0 & 1 & 0 & 0 & 0 & 0 & 1\\\\\n",
       "\\end{tabular}\n"
      ],
      "text/markdown": [
       "\n",
       "A data.frame: 6 × 34\n",
       "\n",
       "| <!--/--> | X &lt;int&gt; | id &lt;chr&gt; | title &lt;chr&gt; | type &lt;chr&gt; | description &lt;chr&gt; | release_year &lt;int&gt; | age_certification &lt;chr&gt; | runtime &lt;int&gt; | production_countries &lt;chr&gt; | seasons &lt;dbl&gt; | ... ... | thriller &lt;int&gt; | crime &lt;int&gt; | comedy &lt;int&gt; | documentation &lt;int&gt; | fantasy &lt;int&gt; | scifi &lt;int&gt; | romance &lt;int&gt; | horror &lt;int&gt; | history &lt;int&gt; | music &lt;int&gt; |\n",
       "|---|---|---|---|---|---|---|---|---|---|---|---|---|---|---|---|---|---|---|---|---|---|\n",
       "| 1 |  0 | ts300399 | Five Came Back: The Reference Films | SHOW | This collection includes 12 World War II-era propaganda films â€” many of which are graphic and offensive â€” discussed in the docuseries \"Five Came Back.\"                                                                                                                                                                                                                                                                                                                                                                                                                                                                                 | 1945 | TV-MA | 51 | ['US'] |  1 | ... | 0 | 0 | 0 | 1 | 0 | 0 | 0 | 0 | 0 | 0 |\n",
       "| 2 |  5 | ts22164  | Monty Python's Flying Circus        | SHOW | A British sketch comedy series with the shows being composed of surreality, risquÃ© or innuendo-laden humour, sight gags and observational sketches without punchlines.                                                                                                                                                                                                                                                                                                                                                                                                                                                                     | 1969 | TV-14 | 30 | ['GB'] |  4 | ... | 0 | 0 | 1 | 0 | 0 | 0 | 0 | 0 | 0 | 0 |\n",
       "| 3 | 26 | ts45948  | Monty Python's Fliegender Zirkus    | SHOW | Monty Python's Fliegender Zirkus consisted of two 45-minute Monty Python German television comedy specials produced by WDR for West German television. The two episodes were first broadcast in January and December 1972 and were shot entirely on film and mostly on location in Bavaria, with the first episode recorded in German and the second recorded in English and then dubbed into German.                                                                                                                                                                                                                                       | 1972 | TV-MA | 43 | []     |  1 | ... | 0 | 0 | 1 | 0 | 0 | 0 | 0 | 0 | 0 | 0 |\n",
       "| 4 | 35 | ts20681  | Seinfeld                            | SHOW | A stand-up comedian and his three offbeat friends weather the pitfalls and payoffs of life in New York City in the '90s. It's a show about nothing.                                                                                                                                                                                                                                                                                                                                                                                                                                                                                         | 1989 | TV-PG | 24 | ['US'] |  9 | ... | 0 | 0 | 1 | 0 | 0 | 0 | 0 | 0 | 0 | 0 |\n",
       "| 5 | 44 | ts22082  | Knight Rider                        | SHOW | Michael Long, an undercover police officer, is shot while investigating a case and left for dead by his assailants. He is rescued by Wilton Knight, a wealthy, dying millionaire and inventor who arranges life-saving surgery, including a new face and a new identity--that of Michael Knight. Michael is then given a special computerized and indestructible car called the Knight Industries Two Thousand (nicknamed KITT), and a mission: apprehend criminals who are beyond the reach of the law. The series depicts Michael's exploits as he and KITT battle the forces of evil on behalf of the Foundation for Law and Government. | 1982 | TV-PG | 51 | ['US'] |  4 | ... | 0 | 1 | 0 | 0 | 0 | 1 | 0 | 0 | 0 | 0 |\n",
       "| 6 | 45 | ts21715  | Thomas &amp; Friends                    | SHOW | Thomas &amp; Friends is a British children's television series, which had its first broadcast on the ITV network on 4 September 1984. It is based on The Railway Series of books by the Reverend Wilbert Awdry and his son, Christopher Awdry. These books deal with the adventures of a group of anthropomorphised locomotives and road vehicles who live on the fictional Island of Sodor. The books were based on stories Wilbert told to entertain his son, Christopher during his recovery from measles. From Series one to four, many of the stories are based on events from Awdry's personal experience.                                | 1984 | TV-Y  | 10 | ['GB'] | 24 | ... | 0 | 0 | 1 | 0 | 1 | 0 | 0 | 0 | 0 | 1 |\n",
       "\n"
      ],
      "text/plain": [
       "  X  id       title                               type\n",
       "1  0 ts300399 Five Came Back: The Reference Films SHOW\n",
       "2  5 ts22164  Monty Python's Flying Circus        SHOW\n",
       "3 26 ts45948  Monty Python's Fliegender Zirkus    SHOW\n",
       "4 35 ts20681  Seinfeld                            SHOW\n",
       "5 44 ts22082  Knight Rider                        SHOW\n",
       "6 45 ts21715  Thomas & Friends                    SHOW\n",
       "  description                                                                                                                                                                                                                                                                                                                                                                                                                                                                                                                                                                                                                                \n",
       "1 This collection includes 12 World War II-era propaganda films â\\200” many of which are graphic and offensive â\\200” discussed in the docuseries \"Five Came Back.\"                                                                                                                                                                                                                                                                                                                                                                                                                                                                                \n",
       "2 A British sketch comedy series with the shows being composed of surreality, risquÃ© or innuendo-laden humour, sight gags and observational sketches without punchlines.                                                                                                                                                                                                                                                                                                                                                                                                                                                                    \n",
       "3 Monty Python's Fliegender Zirkus consisted of two 45-minute Monty Python German television comedy specials produced by WDR for West German television. The two episodes were first broadcast in January and December 1972 and were shot entirely on film and mostly on location in Bavaria, with the first episode recorded in German and the second recorded in English and then dubbed into German.                                                                                                                                                                                                                                      \n",
       "4 A stand-up comedian and his three offbeat friends weather the pitfalls and payoffs of life in New York City in the '90s. It's a show about nothing.                                                                                                                                                                                                                                                                                                                                                                                                                                                                                        \n",
       "5 Michael Long, an undercover police officer, is shot while investigating a case and left for dead by his assailants. He is rescued by Wilton Knight, a wealthy, dying millionaire and inventor who arranges life-saving surgery, including a new face and a new identity--that of Michael Knight. Michael is then given a special computerized and indestructible car called the Knight Industries Two Thousand (nicknamed KITT), and a mission: apprehend criminals who are beyond the reach of the law. The series depicts Michael's exploits as he and KITT battle the forces of evil on behalf of the Foundation for Law and Government.\n",
       "6 Thomas & Friends is a British children's television series, which had its first broadcast on the ITV network on 4 September 1984. It is based on The Railway Series of books by the Reverend Wilbert Awdry and his son, Christopher Awdry. These books deal with the adventures of a group of anthropomorphised locomotives and road vehicles who live on the fictional Island of Sodor. The books were based on stories Wilbert told to entertain his son, Christopher during his recovery from measles. From Series one to four, many of the stories are based on events from Awdry's personal experience.                               \n",
       "  release_year age_certification runtime production_countries seasons ...\n",
       "1 1945         TV-MA             51      ['US']                1      ...\n",
       "2 1969         TV-14             30      ['GB']                4      ...\n",
       "3 1972         TV-MA             43      []                    1      ...\n",
       "4 1989         TV-PG             24      ['US']                9      ...\n",
       "5 1982         TV-PG             51      ['US']                4      ...\n",
       "6 1984         TV-Y              10      ['GB']               24      ...\n",
       "  thriller crime comedy documentation fantasy scifi romance horror history\n",
       "1 0        0     0      1             0       0     0       0      0      \n",
       "2 0        0     1      0             0       0     0       0      0      \n",
       "3 0        0     1      0             0       0     0       0      0      \n",
       "4 0        0     1      0             0       0     0       0      0      \n",
       "5 0        1     0      0             0       1     0       0      0      \n",
       "6 0        0     1      0             1       0     0       0      0      \n",
       "  music\n",
       "1 0    \n",
       "2 0    \n",
       "3 0    \n",
       "4 0    \n",
       "5 0    \n",
       "6 1    "
      ]
     },
     "metadata": {},
     "output_type": "display_data"
    }
   ],
   "source": [
    "head(NetflixSHOW)"
   ]
  },
  {
   "cell_type": "code",
   "execution_count": 15,
   "id": "0bf18fc2-1fa5-4d80-a076-be7727e2618e",
   "metadata": {},
   "outputs": [],
   "source": [
    "# Create 3 data frames for 3 different decades"
   ]
  },
  {
   "cell_type": "code",
   "execution_count": 12,
   "id": "0d35da02-1dd4-4824-a992-1514d88adc34",
   "metadata": {},
   "outputs": [],
   "source": [
    "Netflix90 <- (Netflix %>% filter(release_year %in% c('1990','1991','1992','1993','1994','1995','1996','1997','1998','1999')))"
   ]
  },
  {
   "cell_type": "code",
   "execution_count": 13,
   "id": "31a4c722-35c5-41e9-ba27-8b24da670c2c",
   "metadata": {},
   "outputs": [],
   "source": [
    "Netflix00 <- (Netflix %>% filter(release_year %in% c('2000','2001','2002','2003','2004','2005','2006','2007','2008','2009')))"
   ]
  },
  {
   "cell_type": "code",
   "execution_count": 14,
   "id": "0ae7b573-2424-44e2-9fdc-199d7f74b907",
   "metadata": {},
   "outputs": [],
   "source": [
    "Netflix10 <- (Netflix %>% filter(release_year %in% c('2010','2011','2012','2013','2014','2015','2016','2017','2018','2019')))"
   ]
  },
  {
   "cell_type": "code",
   "execution_count": 16,
   "id": "23615d9d-786b-468e-8407-c84a83827ec2",
   "metadata": {},
   "outputs": [],
   "source": [
    "# Check to see of their are movies AND shows in each set. "
   ]
  },
  {
   "cell_type": "code",
   "execution_count": 17,
   "id": "a9af1905-b116-4bb6-b66c-33b5e57b5750",
   "metadata": {},
   "outputs": [
    {
     "data": {
      "text/html": [
       "<style>\n",
       ".list-inline {list-style: none; margin:0; padding: 0}\n",
       ".list-inline>li {display: inline-block}\n",
       ".list-inline>li:not(:last-child)::after {content: \"\\00b7\"; padding: 0 .5ex}\n",
       "</style>\n",
       "<ol class=list-inline><li>'MOVIE'</li><li>'SHOW'</li></ol>\n"
      ],
      "text/latex": [
       "\\begin{enumerate*}\n",
       "\\item 'MOVIE'\n",
       "\\item 'SHOW'\n",
       "\\end{enumerate*}\n"
      ],
      "text/markdown": [
       "1. 'MOVIE'\n",
       "2. 'SHOW'\n",
       "\n",
       "\n"
      ],
      "text/plain": [
       "[1] \"MOVIE\" \"SHOW\" "
      ]
     },
     "metadata": {},
     "output_type": "display_data"
    }
   ],
   "source": [
    "unique(Netflix90$type)"
   ]
  },
  {
   "cell_type": "code",
   "execution_count": 19,
   "id": "af88b866-6687-4865-b669-2c69fcd9c0b8",
   "metadata": {},
   "outputs": [
    {
     "data": {
      "text/html": [
       "<style>\n",
       ".list-inline {list-style: none; margin:0; padding: 0}\n",
       ".list-inline>li {display: inline-block}\n",
       ".list-inline>li:not(:last-child)::after {content: \"\\00b7\"; padding: 0 .5ex}\n",
       "</style>\n",
       "<ol class=list-inline><li>'SHOW'</li><li>'MOVIE'</li></ol>\n"
      ],
      "text/latex": [
       "\\begin{enumerate*}\n",
       "\\item 'SHOW'\n",
       "\\item 'MOVIE'\n",
       "\\end{enumerate*}\n"
      ],
      "text/markdown": [
       "1. 'SHOW'\n",
       "2. 'MOVIE'\n",
       "\n",
       "\n"
      ],
      "text/plain": [
       "[1] \"SHOW\"  \"MOVIE\""
      ]
     },
     "metadata": {},
     "output_type": "display_data"
    }
   ],
   "source": [
    "unique(Netflix00$type)"
   ]
  },
  {
   "cell_type": "code",
   "execution_count": 20,
   "id": "c584d304-519b-428c-8a62-81a9022597a6",
   "metadata": {},
   "outputs": [
    {
     "data": {
      "text/html": [
       "<style>\n",
       ".list-inline {list-style: none; margin:0; padding: 0}\n",
       ".list-inline>li {display: inline-block}\n",
       ".list-inline>li:not(:last-child)::after {content: \"\\00b7\"; padding: 0 .5ex}\n",
       "</style>\n",
       "<ol class=list-inline><li>'SHOW'</li><li>'MOVIE'</li></ol>\n"
      ],
      "text/latex": [
       "\\begin{enumerate*}\n",
       "\\item 'SHOW'\n",
       "\\item 'MOVIE'\n",
       "\\end{enumerate*}\n"
      ],
      "text/markdown": [
       "1. 'SHOW'\n",
       "2. 'MOVIE'\n",
       "\n",
       "\n"
      ],
      "text/plain": [
       "[1] \"SHOW\"  \"MOVIE\""
      ]
     },
     "metadata": {},
     "output_type": "display_data"
    }
   ],
   "source": [
    "unique(Netflix10$type)"
   ]
  },
  {
   "cell_type": "markdown",
   "id": "f7e4b21e-2aa5-44fe-b49e-1f9ddabffffa",
   "metadata": {},
   "source": [
    "# How have MOVIE times changed over the decades? "
   ]
  },
  {
   "cell_type": "code",
   "execution_count": 22,
   "id": "426ef509-ef0a-4d0f-82b6-dd1610c4eb00",
   "metadata": {},
   "outputs": [],
   "source": [
    "# First, let's look at movies from the 90's!"
   ]
  },
  {
   "cell_type": "code",
   "execution_count": 24,
   "id": "4e6fbdf6-9521-413f-bba2-43570e462910",
   "metadata": {},
   "outputs": [],
   "source": [
    "NetflixMOVIE90 <- (Netflix90 %>% filter(type %in% c('MOVIE')))"
   ]
  },
  {
   "cell_type": "code",
   "execution_count": 23,
   "id": "386d0e09-fb10-45c9-98d8-d8f916a61711",
   "metadata": {},
   "outputs": [],
   "source": [
    "# Let's look at average movie run time by 90s year "
   ]
  },
  {
   "cell_type": "code",
   "execution_count": 27,
   "id": "bef3249a-2366-4f51-a6dc-85f17c6ba198",
   "metadata": {},
   "outputs": [],
   "source": [
    "MeansRunTime90 <- NetflixMOVIE90 %>% group_by(release_year) %>% summarize(Mean = mean(runtime))"
   ]
  },
  {
   "cell_type": "code",
   "execution_count": 28,
   "id": "eb4068a4-646c-4d07-8fb4-e0a882d1473b",
   "metadata": {},
   "outputs": [
    {
     "data": {
      "text/html": [
       "<table class=\"dataframe\">\n",
       "<caption>A tibble: 10 × 2</caption>\n",
       "<thead>\n",
       "\t<tr><th scope=col>release_year</th><th scope=col>Mean</th></tr>\n",
       "\t<tr><th scope=col>&lt;int&gt;</th><th scope=col>&lt;dbl&gt;</th></tr>\n",
       "</thead>\n",
       "<tbody>\n",
       "\t<tr><td>1990</td><td>119.28571</td></tr>\n",
       "\t<tr><td>1991</td><td> 88.72727</td></tr>\n",
       "\t<tr><td>1992</td><td> 92.00000</td></tr>\n",
       "\t<tr><td>1993</td><td>119.50000</td></tr>\n",
       "\t<tr><td>1994</td><td>126.58333</td></tr>\n",
       "\t<tr><td>1995</td><td>126.50000</td></tr>\n",
       "\t<tr><td>1996</td><td>105.80000</td></tr>\n",
       "\t<tr><td>1997</td><td>121.07143</td></tr>\n",
       "\t<tr><td>1998</td><td>112.41176</td></tr>\n",
       "\t<tr><td>1999</td><td>123.80000</td></tr>\n",
       "</tbody>\n",
       "</table>\n"
      ],
      "text/latex": [
       "A tibble: 10 × 2\n",
       "\\begin{tabular}{ll}\n",
       " release\\_year & Mean\\\\\n",
       " <int> & <dbl>\\\\\n",
       "\\hline\n",
       "\t 1990 & 119.28571\\\\\n",
       "\t 1991 &  88.72727\\\\\n",
       "\t 1992 &  92.00000\\\\\n",
       "\t 1993 & 119.50000\\\\\n",
       "\t 1994 & 126.58333\\\\\n",
       "\t 1995 & 126.50000\\\\\n",
       "\t 1996 & 105.80000\\\\\n",
       "\t 1997 & 121.07143\\\\\n",
       "\t 1998 & 112.41176\\\\\n",
       "\t 1999 & 123.80000\\\\\n",
       "\\end{tabular}\n"
      ],
      "text/markdown": [
       "\n",
       "A tibble: 10 × 2\n",
       "\n",
       "| release_year &lt;int&gt; | Mean &lt;dbl&gt; |\n",
       "|---|---|\n",
       "| 1990 | 119.28571 |\n",
       "| 1991 |  88.72727 |\n",
       "| 1992 |  92.00000 |\n",
       "| 1993 | 119.50000 |\n",
       "| 1994 | 126.58333 |\n",
       "| 1995 | 126.50000 |\n",
       "| 1996 | 105.80000 |\n",
       "| 1997 | 121.07143 |\n",
       "| 1998 | 112.41176 |\n",
       "| 1999 | 123.80000 |\n",
       "\n"
      ],
      "text/plain": [
       "   release_year Mean     \n",
       "1  1990         119.28571\n",
       "2  1991          88.72727\n",
       "3  1992          92.00000\n",
       "4  1993         119.50000\n",
       "5  1994         126.58333\n",
       "6  1995         126.50000\n",
       "7  1996         105.80000\n",
       "8  1997         121.07143\n",
       "9  1998         112.41176\n",
       "10 1999         123.80000"
      ]
     },
     "metadata": {},
     "output_type": "display_data"
    }
   ],
   "source": [
    "MeansRunTime90"
   ]
  },
  {
   "cell_type": "code",
   "execution_count": 29,
   "id": "40e6ce35-ea83-447b-b5c4-ec2812ef325c",
   "metadata": {},
   "outputs": [],
   "source": [
    "# And now to find the over all average for all 90s movies "
   ]
  },
  {
   "cell_type": "code",
   "execution_count": 30,
   "id": "c9addcaf-2482-4dc4-b58d-d58e8fac5922",
   "metadata": {},
   "outputs": [],
   "source": [
    "TotalMeansRunTime90 <- NetflixMOVIE90 %>% summarize(Mean = mean(runtime))"
   ]
  },
  {
   "cell_type": "code",
   "execution_count": 31,
   "id": "f17ab36c-4a63-463e-8fad-f7b754cbccfb",
   "metadata": {},
   "outputs": [
    {
     "data": {
      "text/html": [
       "<table class=\"dataframe\">\n",
       "<caption>A data.frame: 1 × 1</caption>\n",
       "<thead>\n",
       "\t<tr><th scope=col>Mean</th></tr>\n",
       "\t<tr><th scope=col>&lt;dbl&gt;</th></tr>\n",
       "</thead>\n",
       "<tbody>\n",
       "\t<tr><td>115.6429</td></tr>\n",
       "</tbody>\n",
       "</table>\n"
      ],
      "text/latex": [
       "A data.frame: 1 × 1\n",
       "\\begin{tabular}{l}\n",
       " Mean\\\\\n",
       " <dbl>\\\\\n",
       "\\hline\n",
       "\t 115.6429\\\\\n",
       "\\end{tabular}\n"
      ],
      "text/markdown": [
       "\n",
       "A data.frame: 1 × 1\n",
       "\n",
       "| Mean &lt;dbl&gt; |\n",
       "|---|\n",
       "| 115.6429 |\n",
       "\n"
      ],
      "text/plain": [
       "  Mean    \n",
       "1 115.6429"
      ]
     },
     "metadata": {},
     "output_type": "display_data"
    }
   ],
   "source": [
    "TotalMeansRunTime90"
   ]
  },
  {
   "cell_type": "code",
   "execution_count": 32,
   "id": "c8356bba-3853-485b-be9b-7ea1b77eb8e7",
   "metadata": {},
   "outputs": [],
   "source": [
    "# Now the same thing for the 2000's"
   ]
  },
  {
   "cell_type": "code",
   "execution_count": 51,
   "id": "ce0110ff-5bd8-48b1-bc3e-ed764e429d18",
   "metadata": {},
   "outputs": [],
   "source": [
    "NetflixMOVIE00 <- (Netflix00 %>% filter(type %in% c('MOVIE')))"
   ]
  },
  {
   "cell_type": "code",
   "execution_count": 52,
   "id": "432a3ee8-da71-46ca-b726-31b2a21ba3c8",
   "metadata": {},
   "outputs": [],
   "source": [
    "MeansRunTime00 <- NetflixMOVIE00 %>% summarize(Mean = mean(runtime))"
   ]
  },
  {
   "cell_type": "code",
   "execution_count": 40,
   "id": "3b3c6df7-a08a-47ee-b439-7f930afc3f38",
   "metadata": {},
   "outputs": [
    {
     "data": {
      "text/html": [
       "<table class=\"dataframe\">\n",
       "<caption>A data.frame: 1 × 1</caption>\n",
       "<thead>\n",
       "\t<tr><th scope=col>Mean</th></tr>\n",
       "\t<tr><th scope=col>&lt;dbl&gt;</th></tr>\n",
       "</thead>\n",
       "<tbody>\n",
       "\t<tr><td>114.2981</td></tr>\n",
       "</tbody>\n",
       "</table>\n"
      ],
      "text/latex": [
       "A data.frame: 1 × 1\n",
       "\\begin{tabular}{l}\n",
       " Mean\\\\\n",
       " <dbl>\\\\\n",
       "\\hline\n",
       "\t 114.2981\\\\\n",
       "\\end{tabular}\n"
      ],
      "text/markdown": [
       "\n",
       "A data.frame: 1 × 1\n",
       "\n",
       "| Mean &lt;dbl&gt; |\n",
       "|---|\n",
       "| 114.2981 |\n",
       "\n"
      ],
      "text/plain": [
       "  Mean    \n",
       "1 114.2981"
      ]
     },
     "metadata": {},
     "output_type": "display_data"
    }
   ],
   "source": [
    "MeansRunTime00"
   ]
  },
  {
   "cell_type": "code",
   "execution_count": 41,
   "id": "b9158775-9581-4356-a328-fc2b552109e0",
   "metadata": {},
   "outputs": [],
   "source": [
    "# And for the 2010's!"
   ]
  },
  {
   "cell_type": "code",
   "execution_count": 49,
   "id": "b32e7d08-8aa7-4fc2-aedd-e00b443a378c",
   "metadata": {},
   "outputs": [],
   "source": [
    "NetflixMOVIE10 <- (Netflix10 %>% filter(type %in% c('MOVIE')))"
   ]
  },
  {
   "cell_type": "code",
   "execution_count": 50,
   "id": "6ff9539a-c759-4b7a-8ebe-4cfa93c25469",
   "metadata": {},
   "outputs": [],
   "source": [
    "MeansRunTime10 <- NetflixMOVIE10 %>% summarize(Mean = mean(runtime))"
   ]
  },
  {
   "cell_type": "code",
   "execution_count": 44,
   "id": "2e9c99de-a2d8-4f3e-bcd1-7a6a39a5a954",
   "metadata": {},
   "outputs": [
    {
     "data": {
      "text/html": [
       "<table class=\"dataframe\">\n",
       "<caption>A data.frame: 1 × 1</caption>\n",
       "<thead>\n",
       "\t<tr><th scope=col>Mean</th></tr>\n",
       "\t<tr><th scope=col>&lt;dbl&gt;</th></tr>\n",
       "</thead>\n",
       "<tbody>\n",
       "\t<tr><td>96.86845</td></tr>\n",
       "</tbody>\n",
       "</table>\n"
      ],
      "text/latex": [
       "A data.frame: 1 × 1\n",
       "\\begin{tabular}{l}\n",
       " Mean\\\\\n",
       " <dbl>\\\\\n",
       "\\hline\n",
       "\t 96.86845\\\\\n",
       "\\end{tabular}\n"
      ],
      "text/markdown": [
       "\n",
       "A data.frame: 1 × 1\n",
       "\n",
       "| Mean &lt;dbl&gt; |\n",
       "|---|\n",
       "| 96.86845 |\n",
       "\n"
      ],
      "text/plain": [
       "  Mean    \n",
       "1 96.86845"
      ]
     },
     "metadata": {},
     "output_type": "display_data"
    }
   ],
   "source": [
    "MeansRunTime10"
   ]
  },
  {
   "cell_type": "code",
   "execution_count": 45,
   "id": "8b93ad05-ede6-451b-a8ea-51b90bf6ab19",
   "metadata": {},
   "outputs": [],
   "source": [
    "# Average for all Movies "
   ]
  },
  {
   "cell_type": "code",
   "execution_count": 46,
   "id": "8e1a57f5-11c2-4682-9f72-b08e8d4cee7c",
   "metadata": {},
   "outputs": [],
   "source": [
    "MeansRunTimeTotal <- NetflixMOVIE %>% summarize(Mean = mean(runtime))"
   ]
  },
  {
   "cell_type": "code",
   "execution_count": 47,
   "id": "3cbe51f8-0cf6-44a1-b6de-ad30d63c54ea",
   "metadata": {},
   "outputs": [
    {
     "data": {
      "text/html": [
       "<table class=\"dataframe\">\n",
       "<caption>A data.frame: 1 × 1</caption>\n",
       "<thead>\n",
       "\t<tr><th scope=col>Mean</th></tr>\n",
       "\t<tr><th scope=col>&lt;dbl&gt;</th></tr>\n",
       "</thead>\n",
       "<tbody>\n",
       "\t<tr><td>115.6429</td></tr>\n",
       "</tbody>\n",
       "</table>\n"
      ],
      "text/latex": [
       "A data.frame: 1 × 1\n",
       "\\begin{tabular}{l}\n",
       " Mean\\\\\n",
       " <dbl>\\\\\n",
       "\\hline\n",
       "\t 115.6429\\\\\n",
       "\\end{tabular}\n"
      ],
      "text/markdown": [
       "\n",
       "A data.frame: 1 × 1\n",
       "\n",
       "| Mean &lt;dbl&gt; |\n",
       "|---|\n",
       "| 115.6429 |\n",
       "\n"
      ],
      "text/plain": [
       "  Mean    \n",
       "1 115.6429"
      ]
     },
     "metadata": {},
     "output_type": "display_data"
    }
   ],
   "source": [
    "MeansRunTimeTotal"
   ]
  },
  {
   "cell_type": "code",
   "execution_count": 48,
   "id": "7506f502-432a-439f-b365-5f64db28f4f8",
   "metadata": {},
   "outputs": [
    {
     "data": {
      "text/html": [
       "98"
      ],
      "text/latex": [
       "98"
      ],
      "text/markdown": [
       "98"
      ],
      "text/plain": [
       "[1] 98"
      ]
     },
     "metadata": {},
     "output_type": "display_data"
    }
   ],
   "source": [
    "nrow(NetflixMOVIE90[!is.na(NetflixMOVIE90$runtime),])"
   ]
  },
  {
   "cell_type": "code",
   "execution_count": 53,
   "id": "47e5a952-0521-45c2-9282-756c47d4305a",
   "metadata": {},
   "outputs": [
    {
     "data": {
      "text/html": [
       "2136"
      ],
      "text/latex": [
       "2136"
      ],
      "text/markdown": [
       "2136"
      ],
      "text/plain": [
       "[1] 2136"
      ]
     },
     "metadata": {},
     "output_type": "display_data"
    }
   ],
   "source": [
    "nrow(NetflixMOVIE10[!is.na(NetflixMOVIE10$runtime),])"
   ]
  },
  {
   "cell_type": "code",
   "execution_count": 54,
   "id": "887eaa3d-4479-4d1e-a5af-c0e8da626414",
   "metadata": {},
   "outputs": [
    {
     "data": {
      "text/html": [
       "265"
      ],
      "text/latex": [
       "265"
      ],
      "text/markdown": [
       "265"
      ],
      "text/plain": [
       "[1] 265"
      ]
     },
     "metadata": {},
     "output_type": "display_data"
    }
   ],
   "source": [
    "nrow(NetflixMOVIE00[!is.na(NetflixMOVIE00$runtime),])"
   ]
  },
  {
   "cell_type": "markdown",
   "id": "c50e37a0-ef7d-48b9-a5f6-8b63aa328aca",
   "metadata": {},
   "source": [
    "nΣ(Xj – X..)2 \n",
    "\n",
    "n: the sample size of group j\n",
    "Σ: a greek symbol that means “sum”\n",
    "Xj: the mean of group j\n",
    "X..: the overall mean\n",
    "\n",
    "sample size of group j(sum)(mean of group j- overall mean)2\n"
   ]
  }
 ],
 "metadata": {
  "kernelspec": {
   "display_name": "R",
   "language": "R",
   "name": "ir"
  },
  "language_info": {
   "codemirror_mode": "r",
   "file_extension": ".r",
   "mimetype": "text/x-r-source",
   "name": "R",
   "pygments_lexer": "r",
   "version": "4.1.2"
  }
 },
 "nbformat": 4,
 "nbformat_minor": 5
}
