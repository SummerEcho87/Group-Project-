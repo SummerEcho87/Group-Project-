{
 "cells": [
  {
   "cell_type": "code",
   "execution_count": 1,
   "id": "0ff965d8-c976-4681-b85b-0b0a244e80e6",
   "metadata": {
    "collapsed": true,
    "jupyter": {
     "outputs_hidden": true
    },
    "tags": [],
    "vscode": {
     "languageId": "r"
    }
   },
   "outputs": [
    {
     "name": "stderr",
     "output_type": "stream",
     "text": [
      "\n",
      "Attaching package: 'dplyr'\n",
      "\n",
      "\n",
      "The following objects are masked from 'package:stats':\n",
      "\n",
      "    filter, lag\n",
      "\n",
      "\n",
      "The following objects are masked from 'package:base':\n",
      "\n",
      "    intersect, setdiff, setequal, union\n",
      "\n",
      "\n",
      "Warning message:\n",
      "\"package 'rcompanion' was built under R version 4.1.3\"\n",
      "Warning message:\n",
      "\"package 'car' was built under R version 4.1.3\"\n",
      "Loading required package: carData\n",
      "\n",
      "Warning message:\n",
      "\"package 'carData' was built under R version 4.1.3\"\n",
      "\n",
      "Attaching package: 'car'\n",
      "\n",
      "\n",
      "The following object is masked from 'package:dplyr':\n",
      "\n",
      "    recode\n",
      "\n",
      "\n",
      "Warning message:\n",
      "\"package 'IDPmisc' was built under R version 4.1.3\"\n"
     ]
    }
   ],
   "source": [
    "library(\"dplyr\")\n",
    "library(\"rcompanion\")\n",
    "library(\"car\")\n",
    "library(\"IDPmisc\")"
   ]
  },
  {
   "cell_type": "code",
   "execution_count": 2,
   "id": "80d29384-3acc-4756-a0cf-48ee3ceaf6db",
   "metadata": {
    "vscode": {
     "languageId": "r"
    }
   },
   "outputs": [],
   "source": [
    "Netflix = read.csv(\"netflix_recode.csv\")"
   ]
  },
  {
   "cell_type": "code",
   "execution_count": 3,
   "id": "fa86dd63-be7a-425f-b2b4-89fe496fe960",
   "metadata": {
    "collapsed": true,
    "jupyter": {
     "outputs_hidden": true
    },
    "tags": [],
    "vscode": {
     "languageId": "r"
    }
   },
   "outputs": [
    {
     "data": {
      "text/html": [
       "<table class=\"dataframe\">\n",
       "<caption>A data.frame: 5850 × 34</caption>\n",
       "<thead>\n",
       "\t<tr><th scope=col>X</th><th scope=col>id</th><th scope=col>title</th><th scope=col>type</th><th scope=col>description</th><th scope=col>release_year</th><th scope=col>age_certification</th><th scope=col>runtime</th><th scope=col>production_countries</th><th scope=col>seasons</th><th scope=col>...</th><th scope=col>thriller</th><th scope=col>crime</th><th scope=col>comedy</th><th scope=col>documentation</th><th scope=col>fantasy</th><th scope=col>scifi</th><th scope=col>romance</th><th scope=col>horror</th><th scope=col>history</th><th scope=col>music</th></tr>\n",
       "\t<tr><th scope=col>&lt;int&gt;</th><th scope=col>&lt;chr&gt;</th><th scope=col>&lt;chr&gt;</th><th scope=col>&lt;chr&gt;</th><th scope=col>&lt;chr&gt;</th><th scope=col>&lt;int&gt;</th><th scope=col>&lt;chr&gt;</th><th scope=col>&lt;int&gt;</th><th scope=col>&lt;chr&gt;</th><th scope=col>&lt;dbl&gt;</th><th scope=col>...</th><th scope=col>&lt;int&gt;</th><th scope=col>&lt;int&gt;</th><th scope=col>&lt;int&gt;</th><th scope=col>&lt;int&gt;</th><th scope=col>&lt;int&gt;</th><th scope=col>&lt;int&gt;</th><th scope=col>&lt;int&gt;</th><th scope=col>&lt;int&gt;</th><th scope=col>&lt;int&gt;</th><th scope=col>&lt;int&gt;</th></tr>\n",
       "</thead>\n",
       "<tbody>\n",
       "\t<tr><td> 0</td><td>ts300399</td><td>Five Came Back: The Reference Films</td><td>SHOW </td><td>This collection includes 12 World War II-era propaganda films â€” many of which are graphic and offensive â€” discussed in the docuseries \"Five Came Back.\"                                                                                                                                                                                                                                                                                                                                      </td><td>1945</td><td>TV-MA</td><td> 51</td><td>['US']            </td><td> 1</td><td>...</td><td>0</td><td>0</td><td>0</td><td>1</td><td>0</td><td>0</td><td>0</td><td>0</td><td>0</td><td>0</td></tr>\n",
       "\t<tr><td> 1</td><td>tm84618 </td><td>Taxi Driver                        </td><td>MOVIE</td><td>A mentally unstable Vietnam War veteran works as a night-time taxi driver in New York City where the perceived decadence and sleaze feed his urge for violent action.                                                                                                                                                                                                                                                                                                                            </td><td>1976</td><td>R    </td><td>114</td><td>['US']            </td><td>NA</td><td>...</td><td>0</td><td>1</td><td>0</td><td>0</td><td>0</td><td>0</td><td>0</td><td>0</td><td>0</td><td>0</td></tr>\n",
       "\t<tr><td> 2</td><td>tm154986</td><td>Deliverance                        </td><td>MOVIE</td><td>Intent on seeing the Cahulawassee River before it's turned into one huge lake, outdoor fanatic Lewis Medlock takes his friends on a river-rafting trip they'll never forget into the dangerous American back-country.                                                                                                                                                                                                                                                                            </td><td>1972</td><td>R    </td><td>109</td><td>['US']            </td><td>NA</td><td>...</td><td>1</td><td>0</td><td>0</td><td>0</td><td>0</td><td>0</td><td>0</td><td>0</td><td>0</td><td>0</td></tr>\n",
       "\t<tr><td> 3</td><td>tm127384</td><td>Monty Python and the Holy Grail    </td><td>MOVIE</td><td>King Arthur, accompanied by his squire, recruits his Knights of the Round Table, including Sir Bedevere the Wise, Sir Lancelot the Brave, Sir Robin the Not-Quite-So-Brave-As-Sir-Lancelot and Sir Galahad the Pure. On the way, Arthur battles the Black Knight who, despite having had all his limbs chopped off, insists he can still fight. They reach Camelot, but Arthur decides not  to enter, as \"it is a silly place\".                                                                  </td><td>1975</td><td>PG   </td><td> 91</td><td>['GB']            </td><td>NA</td><td>...</td><td>0</td><td>0</td><td>1</td><td>0</td><td>1</td><td>0</td><td>0</td><td>0</td><td>0</td><td>0</td></tr>\n",
       "\t<tr><td> 4</td><td>tm120801</td><td>The Dirty Dozen                    </td><td>MOVIE</td><td>12 American military prisoners in World War II are ordered to infiltrate a well-guarded enemy chÃ¢teau and kill the Nazi officers vacationing there. The soldiers, most of whom are facing death sentences for a variety of violent crimes, agree to the mission and the possible commuting of their sentences.                                                                                                                                                                                  </td><td>1967</td><td>     </td><td>150</td><td>['GB', 'US']      </td><td>NA</td><td>...</td><td>0</td><td>0</td><td>0</td><td>0</td><td>0</td><td>0</td><td>0</td><td>0</td><td>0</td><td>0</td></tr>\n",
       "\t<tr><td> 5</td><td>ts22164 </td><td>Monty Python's Flying Circus       </td><td>SHOW </td><td>A British sketch comedy series with the shows being composed of surreality, risquÃ© or innuendo-laden humour, sight gags and observational sketches without punchlines.                                                                                                                                                                                                                                                                                                                          </td><td>1969</td><td>TV-14</td><td> 30</td><td>['GB']            </td><td> 4</td><td>...</td><td>0</td><td>0</td><td>1</td><td>0</td><td>0</td><td>0</td><td>0</td><td>0</td><td>0</td><td>0</td></tr>\n",
       "\t<tr><td> 6</td><td>tm70993 </td><td>Life of Brian                      </td><td>MOVIE</td><td>Brian Cohen is an average young Jewish man, but through a series of ridiculous events, he gains a reputation as the Messiah. When he's not dodging his followers or being scolded by his shrill mother, the hapless Brian has to contend with the pompous Pontius Pilate and acronym-obsessed members of a separatist movement. Rife with Monty Python's signature absurdity, the tale finds Brian's life paralleling Biblical lore, albeit with many more laughs.                               </td><td>1979</td><td>R    </td><td> 94</td><td>['GB']            </td><td>NA</td><td>...</td><td>0</td><td>0</td><td>1</td><td>0</td><td>0</td><td>0</td><td>0</td><td>0</td><td>0</td><td>0</td></tr>\n",
       "\t<tr><td> 7</td><td>tm14873 </td><td>Dirty Harry                        </td><td>MOVIE</td><td>When a madman dubbed 'Scorpio' terrorizes San Francisco, hard-nosed cop, Harry Callahan â€“ famous for his take-no-prisoners approach to law enforcement â€“ is tasked with hunting down the psychopath. Harry eventually collars Scorpio in the process of rescuing a kidnap victim, only to see him walk on technicalities. Now, the maverick detective is determined to nail the maniac himself.                                                                                              </td><td>1971</td><td>R    </td><td>102</td><td>['US']            </td><td>NA</td><td>...</td><td>1</td><td>1</td><td>0</td><td>0</td><td>0</td><td>0</td><td>0</td><td>0</td><td>0</td><td>0</td></tr>\n",
       "\t<tr><td> 8</td><td>tm119281</td><td>Bonnie and Clyde                   </td><td>MOVIE</td><td>In the 1930s, bored waitress Bonnie Parker falls in love with an ex-con named Clyde Barrow and together they start a violent crime spree through the country, stealing cars and robbing banks.                                                                                                                                                                                                                                                                                                   </td><td>1967</td><td>R    </td><td>110</td><td>['US']            </td><td>NA</td><td>...</td><td>0</td><td>1</td><td>0</td><td>0</td><td>0</td><td>0</td><td>0</td><td>0</td><td>0</td><td>0</td></tr>\n",
       "\t<tr><td> 9</td><td>tm98978 </td><td>The Blue Lagoon                    </td><td>MOVIE</td><td>Two small children and a ship's cook survive a shipwreck and find safety on an idyllic tropical island. Soon, however, the cook dies and the young boy and girl are left on their own. Days become years and Emmeline and Richard make a home for themselves surrounded by exotic creatures and nature's beauty. But will they ever see civilization again?                                                                                                                                      </td><td>1980</td><td>R    </td><td>104</td><td>['US']            </td><td>NA</td><td>...</td><td>0</td><td>0</td><td>0</td><td>0</td><td>0</td><td>0</td><td>1</td><td>0</td><td>0</td><td>0</td></tr>\n",
       "\t<tr><td>10</td><td>tm44204 </td><td>The Guns of Navarone               </td><td>MOVIE</td><td>A team of allied saboteurs are assigned an impossible mission: infiltrate an impregnable Nazi-held island and destroy the two enormous long-range field guns that prevent the rescue of 2,000 trapped British soldiers.                                                                                                                                                                                                                                                                          </td><td>1961</td><td>     </td><td>158</td><td>['GB', 'US']      </td><td>NA</td><td>...</td><td>0</td><td>0</td><td>0</td><td>0</td><td>0</td><td>0</td><td>0</td><td>0</td><td>0</td><td>0</td></tr>\n",
       "\t<tr><td>11</td><td>tm67378 </td><td>The Professionals                  </td><td>MOVIE</td><td>An arrogant Texas millionaire hires four adventurers to rescue his kidnapped wife from a notorious Mexican bandit.                                                                                                                                                                                                                                                                                                                                                                               </td><td>1966</td><td>PG-13</td><td>117</td><td>['US']            </td><td>NA</td><td>...</td><td>0</td><td>0</td><td>0</td><td>0</td><td>0</td><td>0</td><td>0</td><td>0</td><td>0</td><td>0</td></tr>\n",
       "\t<tr><td>12</td><td>tm69997 </td><td>Richard Pryor: Live in Concert     </td><td>MOVIE</td><td>Richard Pryor delivers monologues on race, sex, family and his favorite targetâ€”himself, live at the Terrace Theatre in Long Beach, California.                                                                                                                                                                                                                                                                                                                                                 </td><td>1979</td><td>R    </td><td> 78</td><td>['US']            </td><td>NA</td><td>...</td><td>0</td><td>0</td><td>1</td><td>1</td><td>0</td><td>0</td><td>0</td><td>0</td><td>0</td><td>0</td></tr>\n",
       "\t<tr><td>13</td><td>tm16479 </td><td>White Christmas                    </td><td>MOVIE</td><td>Two talented song-and-dance men team up after the war to become one of the hottest acts in show business. In time they befriend and become romantically involved with the beautiful Haynes sisters who comprise a sister act.                                                                                                                                                                                                                                                                    </td><td>1954</td><td>     </td><td>115</td><td>['US']            </td><td>NA</td><td>...</td><td>0</td><td>0</td><td>1</td><td>0</td><td>0</td><td>0</td><td>1</td><td>0</td><td>0</td><td>0</td></tr>\n",
       "\t<tr><td>14</td><td>tm135083</td><td>Cairo Station                      </td><td>MOVIE</td><td>Qinawi, a physically challenged peddler who makes his living selling newspapers in the central Cairo train station, is obsessed by Hanuma, an attractive young woman who sells drinks. While she jokes with him about a possible relationship, she is actually in love with Abu Siri, a strong and respected porter at the station who is struggling to unionize his fellow workers to combat their boss' exploitative and abusive treatment.                                                    </td><td>1958</td><td>     </td><td> 77</td><td>['EG']            </td><td>NA</td><td>...</td><td>0</td><td>1</td><td>1</td><td>0</td><td>0</td><td>0</td><td>0</td><td>0</td><td>0</td><td>0</td></tr>\n",
       "\t<tr><td>15</td><td>tm89386 </td><td>Hitler: A Career                   </td><td>MOVIE</td><td>A keen chronicle of the unlikely rise to power of Adolf Hitler (1889-1945) and a dissection of the Third Reich (1933-1945), but also an analysis of mass psychology and how the desperate crowd can be deceived and shepherded to the slaughterhouse.                                                                                                                                                                                                                                            </td><td>1977</td><td>PG   </td><td>150</td><td>['DE']            </td><td>NA</td><td>...</td><td>0</td><td>0</td><td>0</td><td>1</td><td>0</td><td>0</td><td>0</td><td>0</td><td>1</td><td>0</td></tr>\n",
       "\t<tr><td>16</td><td>tm156453</td><td>FTA                                </td><td>MOVIE</td><td>A documentary about a political troupe headed by actors Jane Fonda and Donald Sutherland which traveled to towns near military bases in the US in the early 1970s. The group put on shows called \"F.T.A.\", which stood for \"F**k the Army\", and was aimed at convincing soldiers to voice their opposition to the Vietnam War, which was raging at the time. Various singers, actors and other entertainers performed antiwar songs and skits during the show.                                   </td><td>1972</td><td>R    </td><td> 97</td><td>['US']            </td><td>NA</td><td>...</td><td>0</td><td>0</td><td>1</td><td>1</td><td>0</td><td>0</td><td>0</td><td>0</td><td>0</td><td>1</td></tr>\n",
       "\t<tr><td>17</td><td>tm14350 </td><td>Alexandriaâ€¦ Why?                 </td><td>MOVIE</td><td>Set against the panoramic backdrop of war-torn Egypt, director Youssef Chahine tells a highly personal tale of love and determination. Amid the poverty, death and suffering caused by World War II, 18 year-old Yehia, retreats into a private world of fantasy and longing. Obsessed with Hollywood, he dreams of one day studying filmmaking in America, but after falling in love and discovering the lies of European occupation, Yehia profoundly reevaluates his identity and allegiances.</td><td>1979</td><td>     </td><td>133</td><td>['EG']            </td><td>NA</td><td>...</td><td>0</td><td>0</td><td>0</td><td>0</td><td>0</td><td>0</td><td>0</td><td>0</td><td>0</td><td>0</td></tr>\n",
       "\t<tr><td>18</td><td>tm81728 </td><td>The Land                           </td><td>MOVIE</td><td>Set in 1933, the mayor informs the peasants that the share of irrigation of their land will be split equally between them and feudal lord Mahmoud Bey. The peasants send Muhammad Effendi to submit a petition to the government. Then Mahmoud Bey proposes a project that would require taking part of the peasants' lands.                                                                                                                                                                     </td><td>1969</td><td>     </td><td>129</td><td>['EG']            </td><td>NA</td><td>...</td><td>0</td><td>0</td><td>0</td><td>0</td><td>0</td><td>0</td><td>0</td><td>0</td><td>0</td><td>0</td></tr>\n",
       "\t<tr><td>19</td><td>tm94651 </td><td>Dostana                            </td><td>MOVIE</td><td>Two close friends decide to enter law enforcement, one as a police officer, the other as a lawyer, but their friendship begins to unravel when they both fall in love with the same woman.                                                                                                                                                                                                                                                                                                       </td><td>1980</td><td>     </td><td>161</td><td>['IN']            </td><td>NA</td><td>...</td><td>0</td><td>1</td><td>1</td><td>0</td><td>0</td><td>0</td><td>1</td><td>0</td><td>0</td><td>0</td></tr>\n",
       "\t<tr><td>20</td><td>tm27298 </td><td>Saladin the Victorious             </td><td>MOVIE</td><td>Saladin, the first sultan of Egypt and Syria, leads the Muslim military campaign against the invading Christians from Europe during the Third Crusade.                                                                                                                                                                                                                                                                                                                                           </td><td>1963</td><td>     </td><td>186</td><td>['EG']            </td><td>NA</td><td>...</td><td>0</td><td>0</td><td>0</td><td>0</td><td>0</td><td>0</td><td>1</td><td>0</td><td>1</td><td>0</td></tr>\n",
       "\t<tr><td>21</td><td>tm100027</td><td>Alibaba Aur 40 Chor                </td><td>MOVIE</td><td>The movie is based on the story of Ali Baba and the Forty Thieves, from the One Thousand and One Nights or Arabian Tales. The role of Ali Baba is played by Dharmendra and Hema Malini play Morjina.                                                                                                                                                                                                                                                                                             </td><td>1979</td><td>     </td><td>146</td><td>['SU', 'IN']      </td><td>NA</td><td>...</td><td>0</td><td>0</td><td>0</td><td>0</td><td>1</td><td>0</td><td>1</td><td>0</td><td>0</td><td>0</td></tr>\n",
       "\t<tr><td>22</td><td>tm19608 </td><td>The Blazing Sun                    </td><td>MOVIE</td><td>A rich landlord floods and destroys a village on purpose to prevent the people living there from making a profit off their crops. What he doesn't know is that his own daughter is in love with Ahmed, a young man from the village.                                                                                                                                                                                                                                                             </td><td>1954</td><td>     </td><td>100</td><td>['EG']            </td><td>NA</td><td>...</td><td>0</td><td>1</td><td>0</td><td>0</td><td>0</td><td>0</td><td>1</td><td>0</td><td>0</td><td>0</td></tr>\n",
       "\t<tr><td>23</td><td>tm204541</td><td>Dark Waters                        </td><td>MOVIE</td><td>Ragab, a poor sailor, returns home to Alexandria after three years of absence, during which he tried to save money to marry his one true love, Hamedah. But there's trouble on the harbor, and with an old friend.                                                                                                                                                                                                                                                                               </td><td>1956</td><td>     </td><td>120</td><td>['EG']            </td><td>NA</td><td>...</td><td>1</td><td>0</td><td>0</td><td>0</td><td>0</td><td>0</td><td>1</td><td>0</td><td>0</td><td>0</td></tr>\n",
       "\t<tr><td>24</td><td>tm259855</td><td>We Are All for the Fatherland      </td><td>MOVIE</td><td>After the 1978 Israeli invasion of Lebanon, children try to sing the national anthem as citizens search for hope in the war-torn South.                                                                                                                                                                                                                                                                                                                                                          </td><td>1979</td><td>     </td><td> 74</td><td>['LB', 'CA', 'FR']</td><td>NA</td><td>...</td><td>0</td><td>0</td><td>0</td><td>1</td><td>0</td><td>0</td><td>0</td><td>0</td><td>0</td><td>0</td></tr>\n",
       "\t<tr><td>25</td><td>tm356209</td><td>Singapore                          </td><td>MOVIE</td><td>When his employee disappears in Singapore, Shyam travels from India to investigate the absence and becomes entangled in a deadly plot.                                                                                                                                                                                                                                                                                                                                                           </td><td>1960</td><td>     </td><td>158</td><td>['IN']            </td><td>NA</td><td>...</td><td>1</td><td>1</td><td>0</td><td>0</td><td>0</td><td>0</td><td>0</td><td>0</td><td>0</td><td>0</td></tr>\n",
       "\t<tr><td>26</td><td>ts45948 </td><td>Monty Python's Fliegender Zirkus   </td><td>SHOW </td><td>Monty Python's Fliegender Zirkus consisted of two 45-minute Monty Python German television comedy specials produced by WDR for West German television. The two episodes were first broadcast in January and December 1972 and were shot entirely on film and mostly on location in Bavaria, with the first episode recorded in German and the second recorded in English and then dubbed into German.                                                                                            </td><td>1972</td><td>TV-MA</td><td> 43</td><td>[]                </td><td> 1</td><td>...</td><td>0</td><td>0</td><td>1</td><td>0</td><td>0</td><td>0</td><td>0</td><td>0</td><td>0</td><td>0</td></tr>\n",
       "\t<tr><td>27</td><td>tm200475</td><td>Beirut, Oh Beirut                  </td><td>MOVIE</td><td>In the aftermath of the 1967 defeat, four young Lebanese try to figure out their places in a society whose rules seem to have changed. It proved to be an extraordinary anticipation of the civil war that would engulf the country while the film was being edited.                                                                                                                                                                                                                             </td><td>1975</td><td>     </td><td>110</td><td>['LB']            </td><td>NA</td><td>...</td><td>0</td><td>0</td><td>0</td><td>0</td><td>0</td><td>0</td><td>0</td><td>0</td><td>0</td><td>0</td></tr>\n",
       "\t<tr><td>28</td><td>tm90896 </td><td>The Return of the Prodigal Son     </td><td>MOVIE</td><td>In this Andre Gide adaptation, an activist is released after many years in prison and returns home, shaking up established relationships among his family members at the farm governed by his strict father. Demonstrating Chahineâ€™s eclecticism, this is an elegant melodrama, exuberant musical, layered allegory, and profound portrait of personal and political disillusionment.                                                                                                          </td><td>1976</td><td>     </td><td>124</td><td>['DZ', 'EG']      </td><td>NA</td><td>...</td><td>0</td><td>1</td><td>0</td><td>0</td><td>0</td><td>0</td><td>0</td><td>0</td><td>0</td><td>1</td></tr>\n",
       "\t<tr><td>29</td><td>tm336403</td><td>Khoon Khoon                        </td><td>MOVIE</td><td>As a crazed killer blazes a trail of blood through an anxious city, a hardened cop aims to take him down by any means in this remake of Dirty Harry.                                                                                                                                                                                                                                                                                                                                             </td><td>1973</td><td>     </td><td>131</td><td>['IN']            </td><td>NA</td><td>...</td><td>1</td><td>1</td><td>0</td><td>0</td><td>0</td><td>0</td><td>0</td><td>0</td><td>0</td><td>0</td></tr>\n",
       "\t<tr><td>...</td><td>...</td><td>...</td><td>...</td><td>...</td><td>...</td><td>...</td><td>...</td><td>...</td><td>...</td><td></td><td>...</td><td>...</td><td>...</td><td>...</td><td>...</td><td>...</td><td>...</td><td>...</td><td>...</td><td>...</td></tr>\n",
       "\t<tr><td>5820</td><td>tm851599 </td><td>Tersanjung: The Movie                       </td><td>MOVIE</td><td>After growing up in a tumultuous household, Yura finds herself in a love triangle with two close friends as she faces a personal and financial crisis.                                                                                                                                                                                                                                                                                                                                                                                                                                                                                                                                                                                                                                                                                                                                                 </td><td>2021</td><td>     </td><td>114</td><td>['ID']      </td><td>NA</td><td>...</td><td>0</td><td>0</td><td>0</td><td>0</td><td>0</td><td>0</td><td>1</td><td>0</td><td>0</td><td>0</td></tr>\n",
       "\t<tr><td>5821</td><td>tm1110241</td><td>Kaaval                                      </td><td>MOVIE</td><td>Thampan and Antony are a long time best friends and business partners who owned a saw mill at Kattappana in the past. A family tragedy and its falling-out separates them for good. But now Antony and his family faces a grievous situation, and he is forced to ask his old friend for a help out. The timeline of the story spans over two generations                                                                                                                                                                                                                                                                                                                                                                                                                                                                                                                                              </td><td>2021</td><td>     </td><td>148</td><td>['IN']      </td><td>NA</td><td>...</td><td>1</td><td>0</td><td>0</td><td>0</td><td>0</td><td>0</td><td>0</td><td>0</td><td>0</td><td>0</td></tr>\n",
       "\t<tr><td>5822</td><td>tm993616 </td><td>The Tambour of Retribution                  </td><td>MOVIE</td><td>The son of the swordsman falls in love with the daughter of Tagaga in a social paradox based on selling joy (wedding) and buying death                                                                                                                                                                                                                                                                                                                                                                                                                                                                                                                                                                                                                                                                                                                                                                 </td><td>2021</td><td>     </td><td> 92</td><td>['SA']      </td><td>NA</td><td>...</td><td>0</td><td>0</td><td>0</td><td>0</td><td>0</td><td>0</td><td>0</td><td>0</td><td>0</td><td>0</td></tr>\n",
       "\t<tr><td>5823</td><td>tm1099342</td><td>Devdas Brothers                             </td><td>MOVIE</td><td>After their first heartbreaks, four jilted young men plan drastic ways to get back at the women who left them - and are in for a sobering lesson.                                                                                                                                                                                                                                                                                                                                                                                                                                                                                                                                                                                                                                                                                                                                                      </td><td>2021</td><td>     </td><td> 99</td><td>[]          </td><td>NA</td><td>...</td><td>0</td><td>0</td><td>0</td><td>0</td><td>0</td><td>0</td><td>0</td><td>0</td><td>0</td><td>0</td></tr>\n",
       "\t<tr><td>5824</td><td>tm831387 </td><td>What Happened to Mr Cha?                    </td><td>MOVIE</td><td>With the peak of his career long behind him, an actor clings to his past glory â€” until a sudden wake-up call forces him to face who he's become.                                                                                                                                                                                                                                                                                                                                                                                                                                                                                                                                                                                                                                                                                                                                                     </td><td>2021</td><td>     </td><td>102</td><td>['KR']      </td><td>NA</td><td>...</td><td>0</td><td>0</td><td>1</td><td>0</td><td>0</td><td>0</td><td>0</td><td>0</td><td>0</td><td>0</td></tr>\n",
       "\t<tr><td>5825</td><td>tm878575 </td><td>The Heartbreak Club                         </td><td>MOVIE</td><td>Coping with heartbreak, the shy owner of floundering cafe find solace in the Javanese love songs of Didi Kempot.                                                                                                                                                                                                                                                                                                                                                                                                                                                                                                                                                                                                                                                                                                                                                                                       </td><td>2021</td><td>     </td><td>101</td><td>['ID']      </td><td>NA</td><td>...</td><td>0</td><td>0</td><td>1</td><td>0</td><td>0</td><td>0</td><td>1</td><td>0</td><td>0</td><td>0</td></tr>\n",
       "\t<tr><td>5826</td><td>ts287687 </td><td>Lava Ka Dhaava                              </td><td>SHOW </td><td>Actor Jaaved Jaafferi brings his signature humor to this Hindi dubbing of the show where teams creatively navigate rooms flooded with make-believe lava.                                                                                                                                                                                                                                                                                                                                                                                                                                                                                                                                                                                                                                                                                                                                               </td><td>2021</td><td>     </td><td> 30</td><td>['IO']      </td><td> 1</td><td>...</td><td>0</td><td>0</td><td>0</td><td>0</td><td>0</td><td>0</td><td>0</td><td>0</td><td>0</td><td>0</td></tr>\n",
       "\t<tr><td>5827</td><td>tm1099969</td><td>Angeliena                                   </td><td>MOVIE</td><td>After a string of life-changing revelations, a beloved parking attendant pieces a new plan together and chases her dream of traveling the world.                                                                                                                                                                                                                                                                                                                                                                                                                                                                                                                                                                                                                                                                                                                                                       </td><td>2021</td><td>     </td><td> 95</td><td>['ZA']      </td><td>NA</td><td>...</td><td>0</td><td>0</td><td>1</td><td>0</td><td>0</td><td>0</td><td>0</td><td>0</td><td>0</td><td>0</td></tr>\n",
       "\t<tr><td>5828</td><td>ts319608 </td><td>The Family That Sings Together: The Camargos</td><td>SHOW </td><td>Surrounded by family and friends, ZezÃ© Di Camargo and daughter Wanessa spend time together and collaborate creatively in this exclusive reality series.                                                                                                                                                                                                                                                                                                                                                                                                                                                                                                                                                                                                                                                                                                                                               </td><td>2021</td><td>     </td><td> 39</td><td>['BR']      </td><td> 1</td><td>...</td><td>0</td><td>0</td><td>0</td><td>1</td><td>0</td><td>0</td><td>0</td><td>0</td><td>0</td><td>1</td></tr>\n",
       "\t<tr><td>5829</td><td>tm846586 </td><td>Layla Majnun                                </td><td>MOVIE</td><td>While in Azerbaijan, Layla, an Indonesian scholar, falls for Samir, an admirer of her work â€” but her arranged marriage stands in the way.                                                                                                                                                                                                                                                                                                                                                                                                                                                                                                                                                                                                                                                                                                                                                            </td><td>2021</td><td>     </td><td>119</td><td>['ID']      </td><td>NA</td><td>...</td><td>0</td><td>0</td><td>0</td><td>0</td><td>0</td><td>0</td><td>1</td><td>0</td><td>0</td><td>0</td></tr>\n",
       "\t<tr><td>5830</td><td>ts288861 </td><td>Let's Eat                                   </td><td>SHOW </td><td>A food-blogging insurance agent encounters a friend from elementary school with a vendetta against him -- but soon becomes her sidekick.                                                                                                                                                                                                                                                                                                                                                                                                                                                                                                                                                                                                                                                                                                                                                               </td><td>2021</td><td>TV-14</td><td> 60</td><td>['TH']      </td><td> 1</td><td>...</td><td>0</td><td>0</td><td>1</td><td>0</td><td>0</td><td>0</td><td>0</td><td>0</td><td>0</td><td>0</td></tr>\n",
       "\t<tr><td>5831</td><td>ts273317 </td><td>Pitta Kathalu                               </td><td>SHOW </td><td>Four different women, four journeys of love and betrayal. The common thread? They all want to dismantle the patriarchy.                                                                                                                                                                                                                                                                                                                                                                                                                                                                                                                                                                                                                                                                                                                                                                                </td><td>2021</td><td>TV-MA</td><td> 37</td><td>['IN']      </td><td> 1</td><td>...</td><td>0</td><td>0</td><td>0</td><td>0</td><td>0</td><td>0</td><td>1</td><td>0</td><td>0</td><td>0</td></tr>\n",
       "\t<tr><td>5832</td><td>tm996479 </td><td><span style=white-space:pre-wrap>Tuesdays And Fridays                        </span></td><td>MOVIE</td><td><span style=white-space:pre-wrap>Two millennials get into a relationship where they are allowed to meet only on 'Tuesdays &amp; Fridays'.                                                                                                                                                                                                                                                                                                                                                                                                                                                                                                                                                                                                                                                                                                                                                                                                   </span></td><td>2021</td><td><span style=white-space:pre-wrap>     </span></td><td>106</td><td>['GB', 'IN']</td><td>NA</td><td>...</td><td>0</td><td>0</td><td>1</td><td>0</td><td>0</td><td>0</td><td>1</td><td>0</td><td>0</td><td>0</td></tr>\n",
       "\t<tr><td>5833</td><td>ts307884 </td><td>HQ Barbers                                  </td><td>SHOW </td><td>When a family run barber shop in the heart of Lagos is threatened by real estate developers, they'll do whatever it takes to stay in business.                                                                                                                                                                                                                                                                                                                                                                                                                                                                                                                                                                                                                                                                                                                                                         </td><td>2021</td><td>TV-14</td><td> 24</td><td>['NG']      </td><td> 1</td><td>...</td><td>0</td><td>0</td><td>1</td><td>0</td><td>0</td><td>0</td><td>0</td><td>0</td><td>0</td><td>0</td></tr>\n",
       "\t<tr><td>5834</td><td>tm1091956</td><td>A Faraway Land                              </td><td>MOVIE</td><td>In the Faroe Islands, a married woman meets a reporter filming a documentary on overseas Filipino workers, which soon sparks a complicated love story.                                                                                                                                                                                                                                                                                                                                                                                                                                                                                                                                                                                                                                                                                                                                                 </td><td>2021</td><td>     </td><td>101</td><td>['PH', 'FO']</td><td>NA</td><td>...</td><td>0</td><td>0</td><td>0</td><td>0</td><td>0</td><td>0</td><td>0</td><td>0</td><td>0</td><td>0</td></tr>\n",
       "\t<tr><td>5835</td><td>tm985747 </td><td>I Missed You                                </td><td>MOVIE</td><td>A woman who was overwhelmed by work and had no time to imagine the future. Her paralyzed life was interrupted by a live-streaming man who always has fun in life and acts wildly, resulting in a series of fermentation processes.                                                                                                                                                                                                                                                                                                                                                                                                                                                                                                                                                                                                                                                                     </td><td>2021</td><td>     </td><td> 96</td><td>['TW']      </td><td>NA</td><td>...</td><td>0</td><td>0</td><td>0</td><td>0</td><td>0</td><td>0</td><td>1</td><td>0</td><td>0</td><td>0</td></tr>\n",
       "\t<tr><td>5836</td><td>tm959213 </td><td>My Amanda                                   </td><td>MOVIE</td><td>Two unusually close friends share every aspect of their lives together. As their lives evolve, their bond remains the only constant.                                                                                                                                                                                                                                                                                                                                                                                                                                                                                                                                                                                                                                                                                                                                                                   </td><td>2021</td><td>     </td><td> 89</td><td>['PH']      </td><td>NA</td><td>...</td><td>0</td><td>0</td><td>0</td><td>0</td><td>0</td><td>0</td><td>1</td><td>0</td><td>0</td><td>0</td></tr>\n",
       "\t<tr><td>5837</td><td>tm1040816</td><td>Momshies! Your Soul is Mine                 </td><td>MOVIE</td><td>Three women with totally different lives accidentally get their souls switched as they struggle with the comedic misadventures of their new worlds, they realize that their own lives and families are worth loving and living for. Jolene, a famous person who always has fans in public, Mylene - an overprotected lady who always gets pleasure and love and Karlene - a rich famous social media influencer all switch bodies but their lives did not just change, but their souls switched that leaves them with no choice but to stick together to live the peculiar lives of each other. Karlene then has to convince a group of investors to invest in her near-bankrupt hotel, but no one believes her because she is trapped in Myleneâ€™s body. In the process of all of their imaginative scenarios, they drew closer to each other into becoming the soul sisters they are destined to be.</td><td>2021</td><td>     </td><td>108</td><td>['PH']      </td><td>NA</td><td>...</td><td>0</td><td>0</td><td>1</td><td>0</td><td>0</td><td>0</td><td>0</td><td>0</td><td>0</td><td>0</td></tr>\n",
       "\t<tr><td>5838</td><td>tm1053409</td><td>Happiness Ever After                        </td><td>MOVIE</td><td>Five years later from where we left our characters, again tackling sisterhood and friendship, this time with the inclusion of a new romantic arc.                                                                                                                                                                                                                                                                                                                                                                                                                                                                                                                                                                                                                                                                                                                                                      </td><td>2021</td><td>     </td><td> 99</td><td>['ZA']      </td><td>NA</td><td>...</td><td>0</td><td>0</td><td>0</td><td>0</td><td>0</td><td>0</td><td>1</td><td>0</td><td>0</td><td>0</td></tr>\n",
       "\t<tr><td>5839</td><td>tm1165179</td><td>Kongsi Raya                                 </td><td>MOVIE</td><td>Jack - a Chinese chef-manager who is in-line to take over his family`s restaurant and Sharifah, a TV programme producer for her celebrity chef father Rahim - are crazy in love. But both their fathers are against their relationship and it all escalates in intensity until the two families challenge each other in a televised cooking competition. Jack and Sharifah must find a solution before all of that gets out of hand.                                                                                                                                                                                                                                                                                                                                                                                                                                                                   </td><td>2022</td><td>     </td><td>102</td><td>['MY']      </td><td>NA</td><td>...</td><td>0</td><td>0</td><td>1</td><td>0</td><td>0</td><td>0</td><td>0</td><td>0</td><td>0</td><td>0</td></tr>\n",
       "\t<tr><td>5840</td><td>tm1216735</td><td>Sun of the Soil                             </td><td>MOVIE</td><td>In 14th-century Mali, an ambitious young royal named Mansa Musa ascended the throne of the richest kingdom in human history. This follows Malian artist Abdou Ouologuem on a journey to discover the truth behind the legendary African king.                                                                                                                                                                                                                                                                                                                                                                                                                                                                                                                                                                                                                                                          </td><td>2022</td><td>     </td><td> 26</td><td>[]          </td><td>NA</td><td>...</td><td>0</td><td>0</td><td>0</td><td>0</td><td>0</td><td>0</td><td>0</td><td>0</td><td>0</td><td>0</td></tr>\n",
       "\t<tr><td>5841</td><td>tm985215 </td><td>Princess 'Daya'Reese                        </td><td>MOVIE</td><td>Reese is a con artist from Manila who dreams of living like royalty. An opportunity arrives in the form of Princess Ulap, a runaway princess from the mysterious kingdom of Oro, who looks exactly like her. Switching places in exchange for gold, Reese flies to Ulap's kingdom where she meets Caleb, a young and determined reporter who is doing a documentary on the island of Oro. The road to happily ever after becomes bumpy when the man in search for truth begins to fall in love with the fake princess.                                                                                                                                                                                                                                                                                                                                                                                 </td><td>2021</td><td>     </td><td>115</td><td>['PH']      </td><td>NA</td><td>...</td><td>0</td><td>0</td><td>1</td><td>0</td><td>0</td><td>0</td><td>1</td><td>0</td><td>0</td><td>0</td></tr>\n",
       "\t<tr><td>5842</td><td>tm1066324</td><td>Super Monsters: Once Upon a Rhyme           </td><td>MOVIE</td><td>The Super Monsters rethink exemplary fantasies and most loved nursery rhymes with a melodic, otherworldly twist.                                                                                                                                                                                                                                                                                                                                                                                                                                                                                                                                                                                                                                                                                                                                                                                       </td><td>2021</td><td>     </td><td> 25</td><td>[]          </td><td>NA</td><td>...</td><td>0</td><td>0</td><td>0</td><td>0</td><td>0</td><td>0</td><td>0</td><td>0</td><td>0</td><td>0</td></tr>\n",
       "\t<tr><td>5843</td><td>tm1097142</td><td>My Bride                                    </td><td>MOVIE</td><td>The story follows a young man and woman who go through various situations in their journey to find the right partner, which raises questions about traditional marriage and marriage based on love.                                                                                                                                                                                                                                                                                                                                                                                                                                                                                                                                                                                                                                                                                                    </td><td>2021</td><td>     </td><td> 93</td><td>['EG']      </td><td>NA</td><td>...</td><td>0</td><td>0</td><td>1</td><td>0</td><td>0</td><td>0</td><td>1</td><td>0</td><td>0</td><td>0</td></tr>\n",
       "\t<tr><td>5844</td><td>tm1074617</td><td>Bling Empire - The Afterparty               </td><td>MOVIE</td><td>The stars of \"Bling Empire\" discuss the show's success and play bling-themed games, then comic Joel Kim Booster makes his case for joining the cast.                                                                                                                                                                                                                                                                                                                                                                                                                                                                                                                                                                                                                                                                                                                                                   </td><td>2021</td><td>     </td><td> 35</td><td>['US']      </td><td>NA</td><td>...</td><td>0</td><td>0</td><td>0</td><td>0</td><td>0</td><td>0</td><td>0</td><td>0</td><td>0</td><td>0</td></tr>\n",
       "\t<tr><td>5845</td><td>tm1014599</td><td>Fine Wine                                   </td><td>MOVIE</td><td>A beautiful love story that can happen between two people regardless of their age gaps.                                                                                                                                                                                                                                                                                                                                                                                                                                                                                                                                                                                                                                                                                                                                                                                                                </td><td>2021</td><td>     </td><td>100</td><td>['NG']      </td><td>NA</td><td>...</td><td>0</td><td>0</td><td>0</td><td>0</td><td>0</td><td>0</td><td>1</td><td>0</td><td>0</td><td>0</td></tr>\n",
       "\t<tr><td>5846</td><td>tm898842 </td><td>C/O Kaadhal                                 </td><td>MOVIE</td><td>A heart warming film that explores the concept of romance with episodes involving four sets of people of different age group.                                                                                                                                                                                                                                                                                                                                                                                                                                                                                                                                                                                                                                                                                                                                                                          </td><td>2021</td><td>     </td><td>134</td><td>[]          </td><td>NA</td><td>...</td><td>0</td><td>0</td><td>0</td><td>0</td><td>0</td><td>0</td><td>0</td><td>0</td><td>0</td><td>0</td></tr>\n",
       "\t<tr><td>5847</td><td>tm1059008</td><td>Lokillo                                     </td><td>MOVIE</td><td>A controversial TV host and comedian who has built his career on sexist humor is forced to assume a woman's identity to elude a relentless drug dealer.                                                                                                                                                                                                                                                                                                                                                                                                                                                                                                                                                                                                                                                                                                                                                </td><td>2021</td><td>     </td><td> 90</td><td>['CO']      </td><td>NA</td><td>...</td><td>0</td><td>0</td><td>1</td><td>0</td><td>0</td><td>0</td><td>0</td><td>0</td><td>0</td><td>0</td></tr>\n",
       "\t<tr><td>5848</td><td>tm1035612</td><td>Dad Stop Embarrassing Me - The Afterparty   </td><td>MOVIE</td><td>Jamie Foxx, David Alan Grier and more from the cast of the family comedy discuss the show, humiliating family moments, bad BBQ dishes and sitcom openings.                                                                                                                                                                                                                                                                                                                                                                                                                                                                                                                                                                                                                                                                                                                                             </td><td>2021</td><td>PG-13</td><td> 37</td><td>['US']      </td><td>NA</td><td>...</td><td>0</td><td>0</td><td>0</td><td>0</td><td>0</td><td>0</td><td>0</td><td>0</td><td>0</td><td>0</td></tr>\n",
       "\t<tr><td>5849</td><td>ts271048 </td><td>Mighty Little Bheem: Kite Festival          </td><td>SHOW </td><td>With winter behind them, Bheem and his townspeople usher in a sunny new season in all their favorite ways during the Makar Sankranti festival.                                                                                                                                                                                                                                                                                                                                                                                                                                                                                                                                                                                                                                                                                                                                                         </td><td>2021</td><td>     </td><td>  7</td><td>[]          </td><td> 1</td><td>...</td><td>0</td><td>0</td><td>1</td><td>0</td><td>0</td><td>0</td><td>0</td><td>0</td><td>0</td><td>0</td></tr>\n",
       "</tbody>\n",
       "</table>\n"
      ],
      "text/latex": [
       "A data.frame: 5850 × 34\n",
       "\\begin{tabular}{lllllllllllllllllllll}\n",
       " X & id & title & type & description & release\\_year & age\\_certification & runtime & production\\_countries & seasons & ... & thriller & crime & comedy & documentation & fantasy & scifi & romance & horror & history & music\\\\\n",
       " <int> & <chr> & <chr> & <chr> & <chr> & <int> & <chr> & <int> & <chr> & <dbl> & ... & <int> & <int> & <int> & <int> & <int> & <int> & <int> & <int> & <int> & <int>\\\\\n",
       "\\hline\n",
       "\t  0 & ts300399 & Five Came Back: The Reference Films & SHOW  & This collection includes 12 World War II-era propaganda films â€” many of which are graphic and offensive â€” discussed in the docuseries \"Five Came Back.\"                                                                                                                                                                                                                                                                                                                                       & 1945 & TV-MA &  51 & {[}'US'{]}             &  1 & ... & 0 & 0 & 0 & 1 & 0 & 0 & 0 & 0 & 0 & 0\\\\\n",
       "\t  1 & tm84618  & Taxi Driver                         & MOVIE & A mentally unstable Vietnam War veteran works as a night-time taxi driver in New York City where the perceived decadence and sleaze feed his urge for violent action.                                                                                                                                                                                                                                                                                                                             & 1976 & R     & 114 & {[}'US'{]}             & NA & ... & 0 & 1 & 0 & 0 & 0 & 0 & 0 & 0 & 0 & 0\\\\\n",
       "\t  2 & tm154986 & Deliverance                         & MOVIE & Intent on seeing the Cahulawassee River before it's turned into one huge lake, outdoor fanatic Lewis Medlock takes his friends on a river-rafting trip they'll never forget into the dangerous American back-country.                                                                                                                                                                                                                                                                             & 1972 & R     & 109 & {[}'US'{]}             & NA & ... & 1 & 0 & 0 & 0 & 0 & 0 & 0 & 0 & 0 & 0\\\\\n",
       "\t  3 & tm127384 & Monty Python and the Holy Grail     & MOVIE & King Arthur, accompanied by his squire, recruits his Knights of the Round Table, including Sir Bedevere the Wise, Sir Lancelot the Brave, Sir Robin the Not-Quite-So-Brave-As-Sir-Lancelot and Sir Galahad the Pure. On the way, Arthur battles the Black Knight who, despite having had all his limbs chopped off, insists he can still fight. They reach Camelot, but Arthur decides not  to enter, as \"it is a silly place\".                                                                   & 1975 & PG    &  91 & {[}'GB'{]}             & NA & ... & 0 & 0 & 1 & 0 & 1 & 0 & 0 & 0 & 0 & 0\\\\\n",
       "\t  4 & tm120801 & The Dirty Dozen                     & MOVIE & 12 American military prisoners in World War II are ordered to infiltrate a well-guarded enemy chÃ¢teau and kill the Nazi officers vacationing there. The soldiers, most of whom are facing death sentences for a variety of violent crimes, agree to the mission and the possible commuting of their sentences.                                                                                                                                                                                   & 1967 &       & 150 & {[}'GB', 'US'{]}       & NA & ... & 0 & 0 & 0 & 0 & 0 & 0 & 0 & 0 & 0 & 0\\\\\n",
       "\t  5 & ts22164  & Monty Python's Flying Circus        & SHOW  & A British sketch comedy series with the shows being composed of surreality, risquÃ© or innuendo-laden humour, sight gags and observational sketches without punchlines.                                                                                                                                                                                                                                                                                                                           & 1969 & TV-14 &  30 & {[}'GB'{]}             &  4 & ... & 0 & 0 & 1 & 0 & 0 & 0 & 0 & 0 & 0 & 0\\\\\n",
       "\t  6 & tm70993  & Life of Brian                       & MOVIE & Brian Cohen is an average young Jewish man, but through a series of ridiculous events, he gains a reputation as the Messiah. When he's not dodging his followers or being scolded by his shrill mother, the hapless Brian has to contend with the pompous Pontius Pilate and acronym-obsessed members of a separatist movement. Rife with Monty Python's signature absurdity, the tale finds Brian's life paralleling Biblical lore, albeit with many more laughs.                                & 1979 & R     &  94 & {[}'GB'{]}             & NA & ... & 0 & 0 & 1 & 0 & 0 & 0 & 0 & 0 & 0 & 0\\\\\n",
       "\t  7 & tm14873  & Dirty Harry                         & MOVIE & When a madman dubbed 'Scorpio' terrorizes San Francisco, hard-nosed cop, Harry Callahan â€“ famous for his take-no-prisoners approach to law enforcement â€“ is tasked with hunting down the psychopath. Harry eventually collars Scorpio in the process of rescuing a kidnap victim, only to see him walk on technicalities. Now, the maverick detective is determined to nail the maniac himself.                                                                                               & 1971 & R     & 102 & {[}'US'{]}             & NA & ... & 1 & 1 & 0 & 0 & 0 & 0 & 0 & 0 & 0 & 0\\\\\n",
       "\t  8 & tm119281 & Bonnie and Clyde                    & MOVIE & In the 1930s, bored waitress Bonnie Parker falls in love with an ex-con named Clyde Barrow and together they start a violent crime spree through the country, stealing cars and robbing banks.                                                                                                                                                                                                                                                                                                    & 1967 & R     & 110 & {[}'US'{]}             & NA & ... & 0 & 1 & 0 & 0 & 0 & 0 & 0 & 0 & 0 & 0\\\\\n",
       "\t  9 & tm98978  & The Blue Lagoon                     & MOVIE & Two small children and a ship's cook survive a shipwreck and find safety on an idyllic tropical island. Soon, however, the cook dies and the young boy and girl are left on their own. Days become years and Emmeline and Richard make a home for themselves surrounded by exotic creatures and nature's beauty. But will they ever see civilization again?                                                                                                                                       & 1980 & R     & 104 & {[}'US'{]}             & NA & ... & 0 & 0 & 0 & 0 & 0 & 0 & 1 & 0 & 0 & 0\\\\\n",
       "\t 10 & tm44204  & The Guns of Navarone                & MOVIE & A team of allied saboteurs are assigned an impossible mission: infiltrate an impregnable Nazi-held island and destroy the two enormous long-range field guns that prevent the rescue of 2,000 trapped British soldiers.                                                                                                                                                                                                                                                                           & 1961 &       & 158 & {[}'GB', 'US'{]}       & NA & ... & 0 & 0 & 0 & 0 & 0 & 0 & 0 & 0 & 0 & 0\\\\\n",
       "\t 11 & tm67378  & The Professionals                   & MOVIE & An arrogant Texas millionaire hires four adventurers to rescue his kidnapped wife from a notorious Mexican bandit.                                                                                                                                                                                                                                                                                                                                                                                & 1966 & PG-13 & 117 & {[}'US'{]}             & NA & ... & 0 & 0 & 0 & 0 & 0 & 0 & 0 & 0 & 0 & 0\\\\\n",
       "\t 12 & tm69997  & Richard Pryor: Live in Concert      & MOVIE & Richard Pryor delivers monologues on race, sex, family and his favorite targetâ€”himself, live at the Terrace Theatre in Long Beach, California.                                                                                                                                                                                                                                                                                                                                                  & 1979 & R     &  78 & {[}'US'{]}             & NA & ... & 0 & 0 & 1 & 1 & 0 & 0 & 0 & 0 & 0 & 0\\\\\n",
       "\t 13 & tm16479  & White Christmas                     & MOVIE & Two talented song-and-dance men team up after the war to become one of the hottest acts in show business. In time they befriend and become romantically involved with the beautiful Haynes sisters who comprise a sister act.                                                                                                                                                                                                                                                                     & 1954 &       & 115 & {[}'US'{]}             & NA & ... & 0 & 0 & 1 & 0 & 0 & 0 & 1 & 0 & 0 & 0\\\\\n",
       "\t 14 & tm135083 & Cairo Station                       & MOVIE & Qinawi, a physically challenged peddler who makes his living selling newspapers in the central Cairo train station, is obsessed by Hanuma, an attractive young woman who sells drinks. While she jokes with him about a possible relationship, she is actually in love with Abu Siri, a strong and respected porter at the station who is struggling to unionize his fellow workers to combat their boss' exploitative and abusive treatment.                                                     & 1958 &       &  77 & {[}'EG'{]}             & NA & ... & 0 & 1 & 1 & 0 & 0 & 0 & 0 & 0 & 0 & 0\\\\\n",
       "\t 15 & tm89386  & Hitler: A Career                    & MOVIE & A keen chronicle of the unlikely rise to power of Adolf Hitler (1889-1945) and a dissection of the Third Reich (1933-1945), but also an analysis of mass psychology and how the desperate crowd can be deceived and shepherded to the slaughterhouse.                                                                                                                                                                                                                                             & 1977 & PG    & 150 & {[}'DE'{]}             & NA & ... & 0 & 0 & 0 & 1 & 0 & 0 & 0 & 0 & 1 & 0\\\\\n",
       "\t 16 & tm156453 & FTA                                 & MOVIE & A documentary about a political troupe headed by actors Jane Fonda and Donald Sutherland which traveled to towns near military bases in the US in the early 1970s. The group put on shows called \"F.T.A.\", which stood for \"F**k the Army\", and was aimed at convincing soldiers to voice their opposition to the Vietnam War, which was raging at the time. Various singers, actors and other entertainers performed antiwar songs and skits during the show.                                    & 1972 & R     &  97 & {[}'US'{]}             & NA & ... & 0 & 0 & 1 & 1 & 0 & 0 & 0 & 0 & 0 & 1\\\\\n",
       "\t 17 & tm14350  & Alexandriaâ€¦ Why?                  & MOVIE & Set against the panoramic backdrop of war-torn Egypt, director Youssef Chahine tells a highly personal tale of love and determination. Amid the poverty, death and suffering caused by World War II, 18 year-old Yehia, retreats into a private world of fantasy and longing. Obsessed with Hollywood, he dreams of one day studying filmmaking in America, but after falling in love and discovering the lies of European occupation, Yehia profoundly reevaluates his identity and allegiances. & 1979 &       & 133 & {[}'EG'{]}             & NA & ... & 0 & 0 & 0 & 0 & 0 & 0 & 0 & 0 & 0 & 0\\\\\n",
       "\t 18 & tm81728  & The Land                            & MOVIE & Set in 1933, the mayor informs the peasants that the share of irrigation of their land will be split equally between them and feudal lord Mahmoud Bey. The peasants send Muhammad Effendi to submit a petition to the government. Then Mahmoud Bey proposes a project that would require taking part of the peasants' lands.                                                                                                                                                                      & 1969 &       & 129 & {[}'EG'{]}             & NA & ... & 0 & 0 & 0 & 0 & 0 & 0 & 0 & 0 & 0 & 0\\\\\n",
       "\t 19 & tm94651  & Dostana                             & MOVIE & Two close friends decide to enter law enforcement, one as a police officer, the other as a lawyer, but their friendship begins to unravel when they both fall in love with the same woman.                                                                                                                                                                                                                                                                                                        & 1980 &       & 161 & {[}'IN'{]}             & NA & ... & 0 & 1 & 1 & 0 & 0 & 0 & 1 & 0 & 0 & 0\\\\\n",
       "\t 20 & tm27298  & Saladin the Victorious              & MOVIE & Saladin, the first sultan of Egypt and Syria, leads the Muslim military campaign against the invading Christians from Europe during the Third Crusade.                                                                                                                                                                                                                                                                                                                                            & 1963 &       & 186 & {[}'EG'{]}             & NA & ... & 0 & 0 & 0 & 0 & 0 & 0 & 1 & 0 & 1 & 0\\\\\n",
       "\t 21 & tm100027 & Alibaba Aur 40 Chor                 & MOVIE & The movie is based on the story of Ali Baba and the Forty Thieves, from the One Thousand and One Nights or Arabian Tales. The role of Ali Baba is played by Dharmendra and Hema Malini play Morjina.                                                                                                                                                                                                                                                                                              & 1979 &       & 146 & {[}'SU', 'IN'{]}       & NA & ... & 0 & 0 & 0 & 0 & 1 & 0 & 1 & 0 & 0 & 0\\\\\n",
       "\t 22 & tm19608  & The Blazing Sun                     & MOVIE & A rich landlord floods and destroys a village on purpose to prevent the people living there from making a profit off their crops. What he doesn't know is that his own daughter is in love with Ahmed, a young man from the village.                                                                                                                                                                                                                                                              & 1954 &       & 100 & {[}'EG'{]}             & NA & ... & 0 & 1 & 0 & 0 & 0 & 0 & 1 & 0 & 0 & 0\\\\\n",
       "\t 23 & tm204541 & Dark Waters                         & MOVIE & Ragab, a poor sailor, returns home to Alexandria after three years of absence, during which he tried to save money to marry his one true love, Hamedah. But there's trouble on the harbor, and with an old friend.                                                                                                                                                                                                                                                                                & 1956 &       & 120 & {[}'EG'{]}             & NA & ... & 1 & 0 & 0 & 0 & 0 & 0 & 1 & 0 & 0 & 0\\\\\n",
       "\t 24 & tm259855 & We Are All for the Fatherland       & MOVIE & After the 1978 Israeli invasion of Lebanon, children try to sing the national anthem as citizens search for hope in the war-torn South.                                                                                                                                                                                                                                                                                                                                                           & 1979 &       &  74 & {[}'LB', 'CA', 'FR'{]} & NA & ... & 0 & 0 & 0 & 1 & 0 & 0 & 0 & 0 & 0 & 0\\\\\n",
       "\t 25 & tm356209 & Singapore                           & MOVIE & When his employee disappears in Singapore, Shyam travels from India to investigate the absence and becomes entangled in a deadly plot.                                                                                                                                                                                                                                                                                                                                                            & 1960 &       & 158 & {[}'IN'{]}             & NA & ... & 1 & 1 & 0 & 0 & 0 & 0 & 0 & 0 & 0 & 0\\\\\n",
       "\t 26 & ts45948  & Monty Python's Fliegender Zirkus    & SHOW  & Monty Python's Fliegender Zirkus consisted of two 45-minute Monty Python German television comedy specials produced by WDR for West German television. The two episodes were first broadcast in January and December 1972 and were shot entirely on film and mostly on location in Bavaria, with the first episode recorded in German and the second recorded in English and then dubbed into German.                                                                                             & 1972 & TV-MA &  43 & {[}{]}                 &  1 & ... & 0 & 0 & 1 & 0 & 0 & 0 & 0 & 0 & 0 & 0\\\\\n",
       "\t 27 & tm200475 & Beirut, Oh Beirut                   & MOVIE & In the aftermath of the 1967 defeat, four young Lebanese try to figure out their places in a society whose rules seem to have changed. It proved to be an extraordinary anticipation of the civil war that would engulf the country while the film was being edited.                                                                                                                                                                                                                              & 1975 &       & 110 & {[}'LB'{]}             & NA & ... & 0 & 0 & 0 & 0 & 0 & 0 & 0 & 0 & 0 & 0\\\\\n",
       "\t 28 & tm90896  & The Return of the Prodigal Son      & MOVIE & In this Andre Gide adaptation, an activist is released after many years in prison and returns home, shaking up established relationships among his family members at the farm governed by his strict father. Demonstrating Chahineâ€™s eclecticism, this is an elegant melodrama, exuberant musical, layered allegory, and profound portrait of personal and political disillusionment.                                                                                                           & 1976 &       & 124 & {[}'DZ', 'EG'{]}       & NA & ... & 0 & 1 & 0 & 0 & 0 & 0 & 0 & 0 & 0 & 1\\\\\n",
       "\t 29 & tm336403 & Khoon Khoon                         & MOVIE & As a crazed killer blazes a trail of blood through an anxious city, a hardened cop aims to take him down by any means in this remake of Dirty Harry.                                                                                                                                                                                                                                                                                                                                              & 1973 &       & 131 & {[}'IN'{]}             & NA & ... & 1 & 1 & 0 & 0 & 0 & 0 & 0 & 0 & 0 & 0\\\\\n",
       "\t ... & ... & ... & ... & ... & ... & ... & ... & ... & ... &  & ... & ... & ... & ... & ... & ... & ... & ... & ... & ...\\\\\n",
       "\t 5820 & tm851599  & Tersanjung: The Movie                        & MOVIE & After growing up in a tumultuous household, Yura finds herself in a love triangle with two close friends as she faces a personal and financial crisis.                                                                                                                                                                                                                                                                                                                                                                                                                                                                                                                                                                                                                                                                                                                                                  & 2021 &       & 114 & {[}'ID'{]}       & NA & ... & 0 & 0 & 0 & 0 & 0 & 0 & 1 & 0 & 0 & 0\\\\\n",
       "\t 5821 & tm1110241 & Kaaval                                       & MOVIE & Thampan and Antony are a long time best friends and business partners who owned a saw mill at Kattappana in the past. A family tragedy and its falling-out separates them for good. But now Antony and his family faces a grievous situation, and he is forced to ask his old friend for a help out. The timeline of the story spans over two generations                                                                                                                                                                                                                                                                                                                                                                                                                                                                                                                                               & 2021 &       & 148 & {[}'IN'{]}       & NA & ... & 1 & 0 & 0 & 0 & 0 & 0 & 0 & 0 & 0 & 0\\\\\n",
       "\t 5822 & tm993616  & The Tambour of Retribution                   & MOVIE & The son of the swordsman falls in love with the daughter of Tagaga in a social paradox based on selling joy (wedding) and buying death                                                                                                                                                                                                                                                                                                                                                                                                                                                                                                                                                                                                                                                                                                                                                                  & 2021 &       &  92 & {[}'SA'{]}       & NA & ... & 0 & 0 & 0 & 0 & 0 & 0 & 0 & 0 & 0 & 0\\\\\n",
       "\t 5823 & tm1099342 & Devdas Brothers                              & MOVIE & After their first heartbreaks, four jilted young men plan drastic ways to get back at the women who left them - and are in for a sobering lesson.                                                                                                                                                                                                                                                                                                                                                                                                                                                                                                                                                                                                                                                                                                                                                       & 2021 &       &  99 & {[}{]}           & NA & ... & 0 & 0 & 0 & 0 & 0 & 0 & 0 & 0 & 0 & 0\\\\\n",
       "\t 5824 & tm831387  & What Happened to Mr Cha?                     & MOVIE & With the peak of his career long behind him, an actor clings to his past glory â€” until a sudden wake-up call forces him to face who he's become.                                                                                                                                                                                                                                                                                                                                                                                                                                                                                                                                                                                                                                                                                                                                                      & 2021 &       & 102 & {[}'KR'{]}       & NA & ... & 0 & 0 & 1 & 0 & 0 & 0 & 0 & 0 & 0 & 0\\\\\n",
       "\t 5825 & tm878575  & The Heartbreak Club                          & MOVIE & Coping with heartbreak, the shy owner of floundering cafe find solace in the Javanese love songs of Didi Kempot.                                                                                                                                                                                                                                                                                                                                                                                                                                                                                                                                                                                                                                                                                                                                                                                        & 2021 &       & 101 & {[}'ID'{]}       & NA & ... & 0 & 0 & 1 & 0 & 0 & 0 & 1 & 0 & 0 & 0\\\\\n",
       "\t 5826 & ts287687  & Lava Ka Dhaava                               & SHOW  & Actor Jaaved Jaafferi brings his signature humor to this Hindi dubbing of the show where teams creatively navigate rooms flooded with make-believe lava.                                                                                                                                                                                                                                                                                                                                                                                                                                                                                                                                                                                                                                                                                                                                                & 2021 &       &  30 & {[}'IO'{]}       &  1 & ... & 0 & 0 & 0 & 0 & 0 & 0 & 0 & 0 & 0 & 0\\\\\n",
       "\t 5827 & tm1099969 & Angeliena                                    & MOVIE & After a string of life-changing revelations, a beloved parking attendant pieces a new plan together and chases her dream of traveling the world.                                                                                                                                                                                                                                                                                                                                                                                                                                                                                                                                                                                                                                                                                                                                                        & 2021 &       &  95 & {[}'ZA'{]}       & NA & ... & 0 & 0 & 1 & 0 & 0 & 0 & 0 & 0 & 0 & 0\\\\\n",
       "\t 5828 & ts319608  & The Family That Sings Together: The Camargos & SHOW  & Surrounded by family and friends, ZezÃ© Di Camargo and daughter Wanessa spend time together and collaborate creatively in this exclusive reality series.                                                                                                                                                                                                                                                                                                                                                                                                                                                                                                                                                                                                                                                                                                                                                & 2021 &       &  39 & {[}'BR'{]}       &  1 & ... & 0 & 0 & 0 & 1 & 0 & 0 & 0 & 0 & 0 & 1\\\\\n",
       "\t 5829 & tm846586  & Layla Majnun                                 & MOVIE & While in Azerbaijan, Layla, an Indonesian scholar, falls for Samir, an admirer of her work â€” but her arranged marriage stands in the way.                                                                                                                                                                                                                                                                                                                                                                                                                                                                                                                                                                                                                                                                                                                                                             & 2021 &       & 119 & {[}'ID'{]}       & NA & ... & 0 & 0 & 0 & 0 & 0 & 0 & 1 & 0 & 0 & 0\\\\\n",
       "\t 5830 & ts288861  & Let's Eat                                    & SHOW  & A food-blogging insurance agent encounters a friend from elementary school with a vendetta against him -- but soon becomes her sidekick.                                                                                                                                                                                                                                                                                                                                                                                                                                                                                                                                                                                                                                                                                                                                                                & 2021 & TV-14 &  60 & {[}'TH'{]}       &  1 & ... & 0 & 0 & 1 & 0 & 0 & 0 & 0 & 0 & 0 & 0\\\\\n",
       "\t 5831 & ts273317  & Pitta Kathalu                                & SHOW  & Four different women, four journeys of love and betrayal. The common thread? They all want to dismantle the patriarchy.                                                                                                                                                                                                                                                                                                                                                                                                                                                                                                                                                                                                                                                                                                                                                                                 & 2021 & TV-MA &  37 & {[}'IN'{]}       &  1 & ... & 0 & 0 & 0 & 0 & 0 & 0 & 1 & 0 & 0 & 0\\\\\n",
       "\t 5832 & tm996479  & Tuesdays And Fridays                         & MOVIE & Two millennials get into a relationship where they are allowed to meet only on 'Tuesdays \\& Fridays'.                                                                                                                                                                                                                                                                                                                                                                                                                                                                                                                                                                                                                                                                                                                                                                                                    & 2021 &       & 106 & {[}'GB', 'IN'{]} & NA & ... & 0 & 0 & 1 & 0 & 0 & 0 & 1 & 0 & 0 & 0\\\\\n",
       "\t 5833 & ts307884  & HQ Barbers                                   & SHOW  & When a family run barber shop in the heart of Lagos is threatened by real estate developers, they'll do whatever it takes to stay in business.                                                                                                                                                                                                                                                                                                                                                                                                                                                                                                                                                                                                                                                                                                                                                          & 2021 & TV-14 &  24 & {[}'NG'{]}       &  1 & ... & 0 & 0 & 1 & 0 & 0 & 0 & 0 & 0 & 0 & 0\\\\\n",
       "\t 5834 & tm1091956 & A Faraway Land                               & MOVIE & In the Faroe Islands, a married woman meets a reporter filming a documentary on overseas Filipino workers, which soon sparks a complicated love story.                                                                                                                                                                                                                                                                                                                                                                                                                                                                                                                                                                                                                                                                                                                                                  & 2021 &       & 101 & {[}'PH', 'FO'{]} & NA & ... & 0 & 0 & 0 & 0 & 0 & 0 & 0 & 0 & 0 & 0\\\\\n",
       "\t 5835 & tm985747  & I Missed You                                 & MOVIE & A woman who was overwhelmed by work and had no time to imagine the future. Her paralyzed life was interrupted by a live-streaming man who always has fun in life and acts wildly, resulting in a series of fermentation processes.                                                                                                                                                                                                                                                                                                                                                                                                                                                                                                                                                                                                                                                                      & 2021 &       &  96 & {[}'TW'{]}       & NA & ... & 0 & 0 & 0 & 0 & 0 & 0 & 1 & 0 & 0 & 0\\\\\n",
       "\t 5836 & tm959213  & My Amanda                                    & MOVIE & Two unusually close friends share every aspect of their lives together. As their lives evolve, their bond remains the only constant.                                                                                                                                                                                                                                                                                                                                                                                                                                                                                                                                                                                                                                                                                                                                                                    & 2021 &       &  89 & {[}'PH'{]}       & NA & ... & 0 & 0 & 0 & 0 & 0 & 0 & 1 & 0 & 0 & 0\\\\\n",
       "\t 5837 & tm1040816 & Momshies! Your Soul is Mine                  & MOVIE & Three women with totally different lives accidentally get their souls switched as they struggle with the comedic misadventures of their new worlds, they realize that their own lives and families are worth loving and living for. Jolene, a famous person who always has fans in public, Mylene - an overprotected lady who always gets pleasure and love and Karlene - a rich famous social media influencer all switch bodies but their lives did not just change, but their souls switched that leaves them with no choice but to stick together to live the peculiar lives of each other. Karlene then has to convince a group of investors to invest in her near-bankrupt hotel, but no one believes her because she is trapped in Myleneâ€™s body. In the process of all of their imaginative scenarios, they drew closer to each other into becoming the soul sisters they are destined to be. & 2021 &       & 108 & {[}'PH'{]}       & NA & ... & 0 & 0 & 1 & 0 & 0 & 0 & 0 & 0 & 0 & 0\\\\\n",
       "\t 5838 & tm1053409 & Happiness Ever After                         & MOVIE & Five years later from where we left our characters, again tackling sisterhood and friendship, this time with the inclusion of a new romantic arc.                                                                                                                                                                                                                                                                                                                                                                                                                                                                                                                                                                                                                                                                                                                                                       & 2021 &       &  99 & {[}'ZA'{]}       & NA & ... & 0 & 0 & 0 & 0 & 0 & 0 & 1 & 0 & 0 & 0\\\\\n",
       "\t 5839 & tm1165179 & Kongsi Raya                                  & MOVIE & Jack - a Chinese chef-manager who is in-line to take over his family`s restaurant and Sharifah, a TV programme producer for her celebrity chef father Rahim - are crazy in love. But both their fathers are against their relationship and it all escalates in intensity until the two families challenge each other in a televised cooking competition. Jack and Sharifah must find a solution before all of that gets out of hand.                                                                                                                                                                                                                                                                                                                                                                                                                                                                    & 2022 &       & 102 & {[}'MY'{]}       & NA & ... & 0 & 0 & 1 & 0 & 0 & 0 & 0 & 0 & 0 & 0\\\\\n",
       "\t 5840 & tm1216735 & Sun of the Soil                              & MOVIE & In 14th-century Mali, an ambitious young royal named Mansa Musa ascended the throne of the richest kingdom in human history. This follows Malian artist Abdou Ouologuem on a journey to discover the truth behind the legendary African king.                                                                                                                                                                                                                                                                                                                                                                                                                                                                                                                                                                                                                                                           & 2022 &       &  26 & {[}{]}           & NA & ... & 0 & 0 & 0 & 0 & 0 & 0 & 0 & 0 & 0 & 0\\\\\n",
       "\t 5841 & tm985215  & Princess 'Daya'Reese                         & MOVIE & Reese is a con artist from Manila who dreams of living like royalty. An opportunity arrives in the form of Princess Ulap, a runaway princess from the mysterious kingdom of Oro, who looks exactly like her. Switching places in exchange for gold, Reese flies to Ulap's kingdom where she meets Caleb, a young and determined reporter who is doing a documentary on the island of Oro. The road to happily ever after becomes bumpy when the man in search for truth begins to fall in love with the fake princess.                                                                                                                                                                                                                                                                                                                                                                                  & 2021 &       & 115 & {[}'PH'{]}       & NA & ... & 0 & 0 & 1 & 0 & 0 & 0 & 1 & 0 & 0 & 0\\\\\n",
       "\t 5842 & tm1066324 & Super Monsters: Once Upon a Rhyme            & MOVIE & The Super Monsters rethink exemplary fantasies and most loved nursery rhymes with a melodic, otherworldly twist.                                                                                                                                                                                                                                                                                                                                                                                                                                                                                                                                                                                                                                                                                                                                                                                        & 2021 &       &  25 & {[}{]}           & NA & ... & 0 & 0 & 0 & 0 & 0 & 0 & 0 & 0 & 0 & 0\\\\\n",
       "\t 5843 & tm1097142 & My Bride                                     & MOVIE & The story follows a young man and woman who go through various situations in their journey to find the right partner, which raises questions about traditional marriage and marriage based on love.                                                                                                                                                                                                                                                                                                                                                                                                                                                                                                                                                                                                                                                                                                     & 2021 &       &  93 & {[}'EG'{]}       & NA & ... & 0 & 0 & 1 & 0 & 0 & 0 & 1 & 0 & 0 & 0\\\\\n",
       "\t 5844 & tm1074617 & Bling Empire - The Afterparty                & MOVIE & The stars of \"Bling Empire\" discuss the show's success and play bling-themed games, then comic Joel Kim Booster makes his case for joining the cast.                                                                                                                                                                                                                                                                                                                                                                                                                                                                                                                                                                                                                                                                                                                                                    & 2021 &       &  35 & {[}'US'{]}       & NA & ... & 0 & 0 & 0 & 0 & 0 & 0 & 0 & 0 & 0 & 0\\\\\n",
       "\t 5845 & tm1014599 & Fine Wine                                    & MOVIE & A beautiful love story that can happen between two people regardless of their age gaps.                                                                                                                                                                                                                                                                                                                                                                                                                                                                                                                                                                                                                                                                                                                                                                                                                 & 2021 &       & 100 & {[}'NG'{]}       & NA & ... & 0 & 0 & 0 & 0 & 0 & 0 & 1 & 0 & 0 & 0\\\\\n",
       "\t 5846 & tm898842  & C/O Kaadhal                                  & MOVIE & A heart warming film that explores the concept of romance with episodes involving four sets of people of different age group.                                                                                                                                                                                                                                                                                                                                                                                                                                                                                                                                                                                                                                                                                                                                                                           & 2021 &       & 134 & {[}{]}           & NA & ... & 0 & 0 & 0 & 0 & 0 & 0 & 0 & 0 & 0 & 0\\\\\n",
       "\t 5847 & tm1059008 & Lokillo                                      & MOVIE & A controversial TV host and comedian who has built his career on sexist humor is forced to assume a woman's identity to elude a relentless drug dealer.                                                                                                                                                                                                                                                                                                                                                                                                                                                                                                                                                                                                                                                                                                                                                 & 2021 &       &  90 & {[}'CO'{]}       & NA & ... & 0 & 0 & 1 & 0 & 0 & 0 & 0 & 0 & 0 & 0\\\\\n",
       "\t 5848 & tm1035612 & Dad Stop Embarrassing Me - The Afterparty    & MOVIE & Jamie Foxx, David Alan Grier and more from the cast of the family comedy discuss the show, humiliating family moments, bad BBQ dishes and sitcom openings.                                                                                                                                                                                                                                                                                                                                                                                                                                                                                                                                                                                                                                                                                                                                              & 2021 & PG-13 &  37 & {[}'US'{]}       & NA & ... & 0 & 0 & 0 & 0 & 0 & 0 & 0 & 0 & 0 & 0\\\\\n",
       "\t 5849 & ts271048  & Mighty Little Bheem: Kite Festival           & SHOW  & With winter behind them, Bheem and his townspeople usher in a sunny new season in all their favorite ways during the Makar Sankranti festival.                                                                                                                                                                                                                                                                                                                                                                                                                                                                                                                                                                                                                                                                                                                                                          & 2021 &       &   7 & {[}{]}           &  1 & ... & 0 & 0 & 1 & 0 & 0 & 0 & 0 & 0 & 0 & 0\\\\\n",
       "\\end{tabular}\n"
      ],
      "text/markdown": [
       "\n",
       "A data.frame: 5850 × 34\n",
       "\n",
       "| X &lt;int&gt; | id &lt;chr&gt; | title &lt;chr&gt; | type &lt;chr&gt; | description &lt;chr&gt; | release_year &lt;int&gt; | age_certification &lt;chr&gt; | runtime &lt;int&gt; | production_countries &lt;chr&gt; | seasons &lt;dbl&gt; | ... ... | thriller &lt;int&gt; | crime &lt;int&gt; | comedy &lt;int&gt; | documentation &lt;int&gt; | fantasy &lt;int&gt; | scifi &lt;int&gt; | romance &lt;int&gt; | horror &lt;int&gt; | history &lt;int&gt; | music &lt;int&gt; |\n",
       "|---|---|---|---|---|---|---|---|---|---|---|---|---|---|---|---|---|---|---|---|---|\n",
       "|  0 | ts300399 | Five Came Back: The Reference Films | SHOW  | This collection includes 12 World War II-era propaganda films â€” many of which are graphic and offensive â€” discussed in the docuseries \"Five Came Back.\"                                                                                                                                                                                                                                                                                                                                       | 1945 | TV-MA |  51 | ['US']             |  1 | ... | 0 | 0 | 0 | 1 | 0 | 0 | 0 | 0 | 0 | 0 |\n",
       "|  1 | tm84618  | Taxi Driver                         | MOVIE | A mentally unstable Vietnam War veteran works as a night-time taxi driver in New York City where the perceived decadence and sleaze feed his urge for violent action.                                                                                                                                                                                                                                                                                                                             | 1976 | R     | 114 | ['US']             | NA | ... | 0 | 1 | 0 | 0 | 0 | 0 | 0 | 0 | 0 | 0 |\n",
       "|  2 | tm154986 | Deliverance                         | MOVIE | Intent on seeing the Cahulawassee River before it's turned into one huge lake, outdoor fanatic Lewis Medlock takes his friends on a river-rafting trip they'll never forget into the dangerous American back-country.                                                                                                                                                                                                                                                                             | 1972 | R     | 109 | ['US']             | NA | ... | 1 | 0 | 0 | 0 | 0 | 0 | 0 | 0 | 0 | 0 |\n",
       "|  3 | tm127384 | Monty Python and the Holy Grail     | MOVIE | King Arthur, accompanied by his squire, recruits his Knights of the Round Table, including Sir Bedevere the Wise, Sir Lancelot the Brave, Sir Robin the Not-Quite-So-Brave-As-Sir-Lancelot and Sir Galahad the Pure. On the way, Arthur battles the Black Knight who, despite having had all his limbs chopped off, insists he can still fight. They reach Camelot, but Arthur decides not  to enter, as \"it is a silly place\".                                                                   | 1975 | PG    |  91 | ['GB']             | NA | ... | 0 | 0 | 1 | 0 | 1 | 0 | 0 | 0 | 0 | 0 |\n",
       "|  4 | tm120801 | The Dirty Dozen                     | MOVIE | 12 American military prisoners in World War II are ordered to infiltrate a well-guarded enemy chÃ¢teau and kill the Nazi officers vacationing there. The soldiers, most of whom are facing death sentences for a variety of violent crimes, agree to the mission and the possible commuting of their sentences.                                                                                                                                                                                   | 1967 | <!----> | 150 | ['GB', 'US']       | NA | ... | 0 | 0 | 0 | 0 | 0 | 0 | 0 | 0 | 0 | 0 |\n",
       "|  5 | ts22164  | Monty Python's Flying Circus        | SHOW  | A British sketch comedy series with the shows being composed of surreality, risquÃ© or innuendo-laden humour, sight gags and observational sketches without punchlines.                                                                                                                                                                                                                                                                                                                           | 1969 | TV-14 |  30 | ['GB']             |  4 | ... | 0 | 0 | 1 | 0 | 0 | 0 | 0 | 0 | 0 | 0 |\n",
       "|  6 | tm70993  | Life of Brian                       | MOVIE | Brian Cohen is an average young Jewish man, but through a series of ridiculous events, he gains a reputation as the Messiah. When he's not dodging his followers or being scolded by his shrill mother, the hapless Brian has to contend with the pompous Pontius Pilate and acronym-obsessed members of a separatist movement. Rife with Monty Python's signature absurdity, the tale finds Brian's life paralleling Biblical lore, albeit with many more laughs.                                | 1979 | R     |  94 | ['GB']             | NA | ... | 0 | 0 | 1 | 0 | 0 | 0 | 0 | 0 | 0 | 0 |\n",
       "|  7 | tm14873  | Dirty Harry                         | MOVIE | When a madman dubbed 'Scorpio' terrorizes San Francisco, hard-nosed cop, Harry Callahan â€“ famous for his take-no-prisoners approach to law enforcement â€“ is tasked with hunting down the psychopath. Harry eventually collars Scorpio in the process of rescuing a kidnap victim, only to see him walk on technicalities. Now, the maverick detective is determined to nail the maniac himself.                                                                                               | 1971 | R     | 102 | ['US']             | NA | ... | 1 | 1 | 0 | 0 | 0 | 0 | 0 | 0 | 0 | 0 |\n",
       "|  8 | tm119281 | Bonnie and Clyde                    | MOVIE | In the 1930s, bored waitress Bonnie Parker falls in love with an ex-con named Clyde Barrow and together they start a violent crime spree through the country, stealing cars and robbing banks.                                                                                                                                                                                                                                                                                                    | 1967 | R     | 110 | ['US']             | NA | ... | 0 | 1 | 0 | 0 | 0 | 0 | 0 | 0 | 0 | 0 |\n",
       "|  9 | tm98978  | The Blue Lagoon                     | MOVIE | Two small children and a ship's cook survive a shipwreck and find safety on an idyllic tropical island. Soon, however, the cook dies and the young boy and girl are left on their own. Days become years and Emmeline and Richard make a home for themselves surrounded by exotic creatures and nature's beauty. But will they ever see civilization again?                                                                                                                                       | 1980 | R     | 104 | ['US']             | NA | ... | 0 | 0 | 0 | 0 | 0 | 0 | 1 | 0 | 0 | 0 |\n",
       "| 10 | tm44204  | The Guns of Navarone                | MOVIE | A team of allied saboteurs are assigned an impossible mission: infiltrate an impregnable Nazi-held island and destroy the two enormous long-range field guns that prevent the rescue of 2,000 trapped British soldiers.                                                                                                                                                                                                                                                                           | 1961 | <!----> | 158 | ['GB', 'US']       | NA | ... | 0 | 0 | 0 | 0 | 0 | 0 | 0 | 0 | 0 | 0 |\n",
       "| 11 | tm67378  | The Professionals                   | MOVIE | An arrogant Texas millionaire hires four adventurers to rescue his kidnapped wife from a notorious Mexican bandit.                                                                                                                                                                                                                                                                                                                                                                                | 1966 | PG-13 | 117 | ['US']             | NA | ... | 0 | 0 | 0 | 0 | 0 | 0 | 0 | 0 | 0 | 0 |\n",
       "| 12 | tm69997  | Richard Pryor: Live in Concert      | MOVIE | Richard Pryor delivers monologues on race, sex, family and his favorite targetâ€”himself, live at the Terrace Theatre in Long Beach, California.                                                                                                                                                                                                                                                                                                                                                  | 1979 | R     |  78 | ['US']             | NA | ... | 0 | 0 | 1 | 1 | 0 | 0 | 0 | 0 | 0 | 0 |\n",
       "| 13 | tm16479  | White Christmas                     | MOVIE | Two talented song-and-dance men team up after the war to become one of the hottest acts in show business. In time they befriend and become romantically involved with the beautiful Haynes sisters who comprise a sister act.                                                                                                                                                                                                                                                                     | 1954 | <!----> | 115 | ['US']             | NA | ... | 0 | 0 | 1 | 0 | 0 | 0 | 1 | 0 | 0 | 0 |\n",
       "| 14 | tm135083 | Cairo Station                       | MOVIE | Qinawi, a physically challenged peddler who makes his living selling newspapers in the central Cairo train station, is obsessed by Hanuma, an attractive young woman who sells drinks. While she jokes with him about a possible relationship, she is actually in love with Abu Siri, a strong and respected porter at the station who is struggling to unionize his fellow workers to combat their boss' exploitative and abusive treatment.                                                     | 1958 | <!----> |  77 | ['EG']             | NA | ... | 0 | 1 | 1 | 0 | 0 | 0 | 0 | 0 | 0 | 0 |\n",
       "| 15 | tm89386  | Hitler: A Career                    | MOVIE | A keen chronicle of the unlikely rise to power of Adolf Hitler (1889-1945) and a dissection of the Third Reich (1933-1945), but also an analysis of mass psychology and how the desperate crowd can be deceived and shepherded to the slaughterhouse.                                                                                                                                                                                                                                             | 1977 | PG    | 150 | ['DE']             | NA | ... | 0 | 0 | 0 | 1 | 0 | 0 | 0 | 0 | 1 | 0 |\n",
       "| 16 | tm156453 | FTA                                 | MOVIE | A documentary about a political troupe headed by actors Jane Fonda and Donald Sutherland which traveled to towns near military bases in the US in the early 1970s. The group put on shows called \"F.T.A.\", which stood for \"F**k the Army\", and was aimed at convincing soldiers to voice their opposition to the Vietnam War, which was raging at the time. Various singers, actors and other entertainers performed antiwar songs and skits during the show.                                    | 1972 | R     |  97 | ['US']             | NA | ... | 0 | 0 | 1 | 1 | 0 | 0 | 0 | 0 | 0 | 1 |\n",
       "| 17 | tm14350  | Alexandriaâ€¦ Why?                  | MOVIE | Set against the panoramic backdrop of war-torn Egypt, director Youssef Chahine tells a highly personal tale of love and determination. Amid the poverty, death and suffering caused by World War II, 18 year-old Yehia, retreats into a private world of fantasy and longing. Obsessed with Hollywood, he dreams of one day studying filmmaking in America, but after falling in love and discovering the lies of European occupation, Yehia profoundly reevaluates his identity and allegiances. | 1979 | <!----> | 133 | ['EG']             | NA | ... | 0 | 0 | 0 | 0 | 0 | 0 | 0 | 0 | 0 | 0 |\n",
       "| 18 | tm81728  | The Land                            | MOVIE | Set in 1933, the mayor informs the peasants that the share of irrigation of their land will be split equally between them and feudal lord Mahmoud Bey. The peasants send Muhammad Effendi to submit a petition to the government. Then Mahmoud Bey proposes a project that would require taking part of the peasants' lands.                                                                                                                                                                      | 1969 | <!----> | 129 | ['EG']             | NA | ... | 0 | 0 | 0 | 0 | 0 | 0 | 0 | 0 | 0 | 0 |\n",
       "| 19 | tm94651  | Dostana                             | MOVIE | Two close friends decide to enter law enforcement, one as a police officer, the other as a lawyer, but their friendship begins to unravel when they both fall in love with the same woman.                                                                                                                                                                                                                                                                                                        | 1980 | <!----> | 161 | ['IN']             | NA | ... | 0 | 1 | 1 | 0 | 0 | 0 | 1 | 0 | 0 | 0 |\n",
       "| 20 | tm27298  | Saladin the Victorious              | MOVIE | Saladin, the first sultan of Egypt and Syria, leads the Muslim military campaign against the invading Christians from Europe during the Third Crusade.                                                                                                                                                                                                                                                                                                                                            | 1963 | <!----> | 186 | ['EG']             | NA | ... | 0 | 0 | 0 | 0 | 0 | 0 | 1 | 0 | 1 | 0 |\n",
       "| 21 | tm100027 | Alibaba Aur 40 Chor                 | MOVIE | The movie is based on the story of Ali Baba and the Forty Thieves, from the One Thousand and One Nights or Arabian Tales. The role of Ali Baba is played by Dharmendra and Hema Malini play Morjina.                                                                                                                                                                                                                                                                                              | 1979 | <!----> | 146 | ['SU', 'IN']       | NA | ... | 0 | 0 | 0 | 0 | 1 | 0 | 1 | 0 | 0 | 0 |\n",
       "| 22 | tm19608  | The Blazing Sun                     | MOVIE | A rich landlord floods and destroys a village on purpose to prevent the people living there from making a profit off their crops. What he doesn't know is that his own daughter is in love with Ahmed, a young man from the village.                                                                                                                                                                                                                                                              | 1954 | <!----> | 100 | ['EG']             | NA | ... | 0 | 1 | 0 | 0 | 0 | 0 | 1 | 0 | 0 | 0 |\n",
       "| 23 | tm204541 | Dark Waters                         | MOVIE | Ragab, a poor sailor, returns home to Alexandria after three years of absence, during which he tried to save money to marry his one true love, Hamedah. But there's trouble on the harbor, and with an old friend.                                                                                                                                                                                                                                                                                | 1956 | <!----> | 120 | ['EG']             | NA | ... | 1 | 0 | 0 | 0 | 0 | 0 | 1 | 0 | 0 | 0 |\n",
       "| 24 | tm259855 | We Are All for the Fatherland       | MOVIE | After the 1978 Israeli invasion of Lebanon, children try to sing the national anthem as citizens search for hope in the war-torn South.                                                                                                                                                                                                                                                                                                                                                           | 1979 | <!----> |  74 | ['LB', 'CA', 'FR'] | NA | ... | 0 | 0 | 0 | 1 | 0 | 0 | 0 | 0 | 0 | 0 |\n",
       "| 25 | tm356209 | Singapore                           | MOVIE | When his employee disappears in Singapore, Shyam travels from India to investigate the absence and becomes entangled in a deadly plot.                                                                                                                                                                                                                                                                                                                                                            | 1960 | <!----> | 158 | ['IN']             | NA | ... | 1 | 1 | 0 | 0 | 0 | 0 | 0 | 0 | 0 | 0 |\n",
       "| 26 | ts45948  | Monty Python's Fliegender Zirkus    | SHOW  | Monty Python's Fliegender Zirkus consisted of two 45-minute Monty Python German television comedy specials produced by WDR for West German television. The two episodes were first broadcast in January and December 1972 and were shot entirely on film and mostly on location in Bavaria, with the first episode recorded in German and the second recorded in English and then dubbed into German.                                                                                             | 1972 | TV-MA |  43 | []                 |  1 | ... | 0 | 0 | 1 | 0 | 0 | 0 | 0 | 0 | 0 | 0 |\n",
       "| 27 | tm200475 | Beirut, Oh Beirut                   | MOVIE | In the aftermath of the 1967 defeat, four young Lebanese try to figure out their places in a society whose rules seem to have changed. It proved to be an extraordinary anticipation of the civil war that would engulf the country while the film was being edited.                                                                                                                                                                                                                              | 1975 | <!----> | 110 | ['LB']             | NA | ... | 0 | 0 | 0 | 0 | 0 | 0 | 0 | 0 | 0 | 0 |\n",
       "| 28 | tm90896  | The Return of the Prodigal Son      | MOVIE | In this Andre Gide adaptation, an activist is released after many years in prison and returns home, shaking up established relationships among his family members at the farm governed by his strict father. Demonstrating Chahineâ€™s eclecticism, this is an elegant melodrama, exuberant musical, layered allegory, and profound portrait of personal and political disillusionment.                                                                                                           | 1976 | <!----> | 124 | ['DZ', 'EG']       | NA | ... | 0 | 1 | 0 | 0 | 0 | 0 | 0 | 0 | 0 | 1 |\n",
       "| 29 | tm336403 | Khoon Khoon                         | MOVIE | As a crazed killer blazes a trail of blood through an anxious city, a hardened cop aims to take him down by any means in this remake of Dirty Harry.                                                                                                                                                                                                                                                                                                                                              | 1973 | <!----> | 131 | ['IN']             | NA | ... | 1 | 1 | 0 | 0 | 0 | 0 | 0 | 0 | 0 | 0 |\n",
       "| ... | ... | ... | ... | ... | ... | ... | ... | ... | ... | <!----> | ... | ... | ... | ... | ... | ... | ... | ... | ... | ... |\n",
       "| 5820 | tm851599  | Tersanjung: The Movie                        | MOVIE | After growing up in a tumultuous household, Yura finds herself in a love triangle with two close friends as she faces a personal and financial crisis.                                                                                                                                                                                                                                                                                                                                                                                                                                                                                                                                                                                                                                                                                                                                                  | 2021 | <!----> | 114 | ['ID']       | NA | ... | 0 | 0 | 0 | 0 | 0 | 0 | 1 | 0 | 0 | 0 |\n",
       "| 5821 | tm1110241 | Kaaval                                       | MOVIE | Thampan and Antony are a long time best friends and business partners who owned a saw mill at Kattappana in the past. A family tragedy and its falling-out separates them for good. But now Antony and his family faces a grievous situation, and he is forced to ask his old friend for a help out. The timeline of the story spans over two generations                                                                                                                                                                                                                                                                                                                                                                                                                                                                                                                                               | 2021 | <!----> | 148 | ['IN']       | NA | ... | 1 | 0 | 0 | 0 | 0 | 0 | 0 | 0 | 0 | 0 |\n",
       "| 5822 | tm993616  | The Tambour of Retribution                   | MOVIE | The son of the swordsman falls in love with the daughter of Tagaga in a social paradox based on selling joy (wedding) and buying death                                                                                                                                                                                                                                                                                                                                                                                                                                                                                                                                                                                                                                                                                                                                                                  | 2021 | <!----> |  92 | ['SA']       | NA | ... | 0 | 0 | 0 | 0 | 0 | 0 | 0 | 0 | 0 | 0 |\n",
       "| 5823 | tm1099342 | Devdas Brothers                              | MOVIE | After their first heartbreaks, four jilted young men plan drastic ways to get back at the women who left them - and are in for a sobering lesson.                                                                                                                                                                                                                                                                                                                                                                                                                                                                                                                                                                                                                                                                                                                                                       | 2021 | <!----> |  99 | []           | NA | ... | 0 | 0 | 0 | 0 | 0 | 0 | 0 | 0 | 0 | 0 |\n",
       "| 5824 | tm831387  | What Happened to Mr Cha?                     | MOVIE | With the peak of his career long behind him, an actor clings to his past glory â€” until a sudden wake-up call forces him to face who he's become.                                                                                                                                                                                                                                                                                                                                                                                                                                                                                                                                                                                                                                                                                                                                                      | 2021 | <!----> | 102 | ['KR']       | NA | ... | 0 | 0 | 1 | 0 | 0 | 0 | 0 | 0 | 0 | 0 |\n",
       "| 5825 | tm878575  | The Heartbreak Club                          | MOVIE | Coping with heartbreak, the shy owner of floundering cafe find solace in the Javanese love songs of Didi Kempot.                                                                                                                                                                                                                                                                                                                                                                                                                                                                                                                                                                                                                                                                                                                                                                                        | 2021 | <!----> | 101 | ['ID']       | NA | ... | 0 | 0 | 1 | 0 | 0 | 0 | 1 | 0 | 0 | 0 |\n",
       "| 5826 | ts287687  | Lava Ka Dhaava                               | SHOW  | Actor Jaaved Jaafferi brings his signature humor to this Hindi dubbing of the show where teams creatively navigate rooms flooded with make-believe lava.                                                                                                                                                                                                                                                                                                                                                                                                                                                                                                                                                                                                                                                                                                                                                | 2021 | <!----> |  30 | ['IO']       |  1 | ... | 0 | 0 | 0 | 0 | 0 | 0 | 0 | 0 | 0 | 0 |\n",
       "| 5827 | tm1099969 | Angeliena                                    | MOVIE | After a string of life-changing revelations, a beloved parking attendant pieces a new plan together and chases her dream of traveling the world.                                                                                                                                                                                                                                                                                                                                                                                                                                                                                                                                                                                                                                                                                                                                                        | 2021 | <!----> |  95 | ['ZA']       | NA | ... | 0 | 0 | 1 | 0 | 0 | 0 | 0 | 0 | 0 | 0 |\n",
       "| 5828 | ts319608  | The Family That Sings Together: The Camargos | SHOW  | Surrounded by family and friends, ZezÃ© Di Camargo and daughter Wanessa spend time together and collaborate creatively in this exclusive reality series.                                                                                                                                                                                                                                                                                                                                                                                                                                                                                                                                                                                                                                                                                                                                                | 2021 | <!----> |  39 | ['BR']       |  1 | ... | 0 | 0 | 0 | 1 | 0 | 0 | 0 | 0 | 0 | 1 |\n",
       "| 5829 | tm846586  | Layla Majnun                                 | MOVIE | While in Azerbaijan, Layla, an Indonesian scholar, falls for Samir, an admirer of her work â€” but her arranged marriage stands in the way.                                                                                                                                                                                                                                                                                                                                                                                                                                                                                                                                                                                                                                                                                                                                                             | 2021 | <!----> | 119 | ['ID']       | NA | ... | 0 | 0 | 0 | 0 | 0 | 0 | 1 | 0 | 0 | 0 |\n",
       "| 5830 | ts288861  | Let's Eat                                    | SHOW  | A food-blogging insurance agent encounters a friend from elementary school with a vendetta against him -- but soon becomes her sidekick.                                                                                                                                                                                                                                                                                                                                                                                                                                                                                                                                                                                                                                                                                                                                                                | 2021 | TV-14 |  60 | ['TH']       |  1 | ... | 0 | 0 | 1 | 0 | 0 | 0 | 0 | 0 | 0 | 0 |\n",
       "| 5831 | ts273317  | Pitta Kathalu                                | SHOW  | Four different women, four journeys of love and betrayal. The common thread? They all want to dismantle the patriarchy.                                                                                                                                                                                                                                                                                                                                                                                                                                                                                                                                                                                                                                                                                                                                                                                 | 2021 | TV-MA |  37 | ['IN']       |  1 | ... | 0 | 0 | 0 | 0 | 0 | 0 | 1 | 0 | 0 | 0 |\n",
       "| 5832 | tm996479  | Tuesdays And Fridays                         | MOVIE | Two millennials get into a relationship where they are allowed to meet only on 'Tuesdays &amp; Fridays'.                                                                                                                                                                                                                                                                                                                                                                                                                                                                                                                                                                                                                                                                                                                                                                                                    | 2021 | <!----> | 106 | ['GB', 'IN'] | NA | ... | 0 | 0 | 1 | 0 | 0 | 0 | 1 | 0 | 0 | 0 |\n",
       "| 5833 | ts307884  | HQ Barbers                                   | SHOW  | When a family run barber shop in the heart of Lagos is threatened by real estate developers, they'll do whatever it takes to stay in business.                                                                                                                                                                                                                                                                                                                                                                                                                                                                                                                                                                                                                                                                                                                                                          | 2021 | TV-14 |  24 | ['NG']       |  1 | ... | 0 | 0 | 1 | 0 | 0 | 0 | 0 | 0 | 0 | 0 |\n",
       "| 5834 | tm1091956 | A Faraway Land                               | MOVIE | In the Faroe Islands, a married woman meets a reporter filming a documentary on overseas Filipino workers, which soon sparks a complicated love story.                                                                                                                                                                                                                                                                                                                                                                                                                                                                                                                                                                                                                                                                                                                                                  | 2021 | <!----> | 101 | ['PH', 'FO'] | NA | ... | 0 | 0 | 0 | 0 | 0 | 0 | 0 | 0 | 0 | 0 |\n",
       "| 5835 | tm985747  | I Missed You                                 | MOVIE | A woman who was overwhelmed by work and had no time to imagine the future. Her paralyzed life was interrupted by a live-streaming man who always has fun in life and acts wildly, resulting in a series of fermentation processes.                                                                                                                                                                                                                                                                                                                                                                                                                                                                                                                                                                                                                                                                      | 2021 | <!----> |  96 | ['TW']       | NA | ... | 0 | 0 | 0 | 0 | 0 | 0 | 1 | 0 | 0 | 0 |\n",
       "| 5836 | tm959213  | My Amanda                                    | MOVIE | Two unusually close friends share every aspect of their lives together. As their lives evolve, their bond remains the only constant.                                                                                                                                                                                                                                                                                                                                                                                                                                                                                                                                                                                                                                                                                                                                                                    | 2021 | <!----> |  89 | ['PH']       | NA | ... | 0 | 0 | 0 | 0 | 0 | 0 | 1 | 0 | 0 | 0 |\n",
       "| 5837 | tm1040816 | Momshies! Your Soul is Mine                  | MOVIE | Three women with totally different lives accidentally get their souls switched as they struggle with the comedic misadventures of their new worlds, they realize that their own lives and families are worth loving and living for. Jolene, a famous person who always has fans in public, Mylene - an overprotected lady who always gets pleasure and love and Karlene - a rich famous social media influencer all switch bodies but their lives did not just change, but their souls switched that leaves them with no choice but to stick together to live the peculiar lives of each other. Karlene then has to convince a group of investors to invest in her near-bankrupt hotel, but no one believes her because she is trapped in Myleneâ€™s body. In the process of all of their imaginative scenarios, they drew closer to each other into becoming the soul sisters they are destined to be. | 2021 | <!----> | 108 | ['PH']       | NA | ... | 0 | 0 | 1 | 0 | 0 | 0 | 0 | 0 | 0 | 0 |\n",
       "| 5838 | tm1053409 | Happiness Ever After                         | MOVIE | Five years later from where we left our characters, again tackling sisterhood and friendship, this time with the inclusion of a new romantic arc.                                                                                                                                                                                                                                                                                                                                                                                                                                                                                                                                                                                                                                                                                                                                                       | 2021 | <!----> |  99 | ['ZA']       | NA | ... | 0 | 0 | 0 | 0 | 0 | 0 | 1 | 0 | 0 | 0 |\n",
       "| 5839 | tm1165179 | Kongsi Raya                                  | MOVIE | Jack - a Chinese chef-manager who is in-line to take over his family`s restaurant and Sharifah, a TV programme producer for her celebrity chef father Rahim - are crazy in love. But both their fathers are against their relationship and it all escalates in intensity until the two families challenge each other in a televised cooking competition. Jack and Sharifah must find a solution before all of that gets out of hand.                                                                                                                                                                                                                                                                                                                                                                                                                                                                    | 2022 | <!----> | 102 | ['MY']       | NA | ... | 0 | 0 | 1 | 0 | 0 | 0 | 0 | 0 | 0 | 0 |\n",
       "| 5840 | tm1216735 | Sun of the Soil                              | MOVIE | In 14th-century Mali, an ambitious young royal named Mansa Musa ascended the throne of the richest kingdom in human history. This follows Malian artist Abdou Ouologuem on a journey to discover the truth behind the legendary African king.                                                                                                                                                                                                                                                                                                                                                                                                                                                                                                                                                                                                                                                           | 2022 | <!----> |  26 | []           | NA | ... | 0 | 0 | 0 | 0 | 0 | 0 | 0 | 0 | 0 | 0 |\n",
       "| 5841 | tm985215  | Princess 'Daya'Reese                         | MOVIE | Reese is a con artist from Manila who dreams of living like royalty. An opportunity arrives in the form of Princess Ulap, a runaway princess from the mysterious kingdom of Oro, who looks exactly like her. Switching places in exchange for gold, Reese flies to Ulap's kingdom where she meets Caleb, a young and determined reporter who is doing a documentary on the island of Oro. The road to happily ever after becomes bumpy when the man in search for truth begins to fall in love with the fake princess.                                                                                                                                                                                                                                                                                                                                                                                  | 2021 | <!----> | 115 | ['PH']       | NA | ... | 0 | 0 | 1 | 0 | 0 | 0 | 1 | 0 | 0 | 0 |\n",
       "| 5842 | tm1066324 | Super Monsters: Once Upon a Rhyme            | MOVIE | The Super Monsters rethink exemplary fantasies and most loved nursery rhymes with a melodic, otherworldly twist.                                                                                                                                                                                                                                                                                                                                                                                                                                                                                                                                                                                                                                                                                                                                                                                        | 2021 | <!----> |  25 | []           | NA | ... | 0 | 0 | 0 | 0 | 0 | 0 | 0 | 0 | 0 | 0 |\n",
       "| 5843 | tm1097142 | My Bride                                     | MOVIE | The story follows a young man and woman who go through various situations in their journey to find the right partner, which raises questions about traditional marriage and marriage based on love.                                                                                                                                                                                                                                                                                                                                                                                                                                                                                                                                                                                                                                                                                                     | 2021 | <!----> |  93 | ['EG']       | NA | ... | 0 | 0 | 1 | 0 | 0 | 0 | 1 | 0 | 0 | 0 |\n",
       "| 5844 | tm1074617 | Bling Empire - The Afterparty                | MOVIE | The stars of \"Bling Empire\" discuss the show's success and play bling-themed games, then comic Joel Kim Booster makes his case for joining the cast.                                                                                                                                                                                                                                                                                                                                                                                                                                                                                                                                                                                                                                                                                                                                                    | 2021 | <!----> |  35 | ['US']       | NA | ... | 0 | 0 | 0 | 0 | 0 | 0 | 0 | 0 | 0 | 0 |\n",
       "| 5845 | tm1014599 | Fine Wine                                    | MOVIE | A beautiful love story that can happen between two people regardless of their age gaps.                                                                                                                                                                                                                                                                                                                                                                                                                                                                                                                                                                                                                                                                                                                                                                                                                 | 2021 | <!----> | 100 | ['NG']       | NA | ... | 0 | 0 | 0 | 0 | 0 | 0 | 1 | 0 | 0 | 0 |\n",
       "| 5846 | tm898842  | C/O Kaadhal                                  | MOVIE | A heart warming film that explores the concept of romance with episodes involving four sets of people of different age group.                                                                                                                                                                                                                                                                                                                                                                                                                                                                                                                                                                                                                                                                                                                                                                           | 2021 | <!----> | 134 | []           | NA | ... | 0 | 0 | 0 | 0 | 0 | 0 | 0 | 0 | 0 | 0 |\n",
       "| 5847 | tm1059008 | Lokillo                                      | MOVIE | A controversial TV host and comedian who has built his career on sexist humor is forced to assume a woman's identity to elude a relentless drug dealer.                                                                                                                                                                                                                                                                                                                                                                                                                                                                                                                                                                                                                                                                                                                                                 | 2021 | <!----> |  90 | ['CO']       | NA | ... | 0 | 0 | 1 | 0 | 0 | 0 | 0 | 0 | 0 | 0 |\n",
       "| 5848 | tm1035612 | Dad Stop Embarrassing Me - The Afterparty    | MOVIE | Jamie Foxx, David Alan Grier and more from the cast of the family comedy discuss the show, humiliating family moments, bad BBQ dishes and sitcom openings.                                                                                                                                                                                                                                                                                                                                                                                                                                                                                                                                                                                                                                                                                                                                              | 2021 | PG-13 |  37 | ['US']       | NA | ... | 0 | 0 | 0 | 0 | 0 | 0 | 0 | 0 | 0 | 0 |\n",
       "| 5849 | ts271048  | Mighty Little Bheem: Kite Festival           | SHOW  | With winter behind them, Bheem and his townspeople usher in a sunny new season in all their favorite ways during the Makar Sankranti festival.                                                                                                                                                                                                                                                                                                                                                                                                                                                                                                                                                                                                                                                                                                                                                          | 2021 | <!----> |   7 | []           |  1 | ... | 0 | 0 | 1 | 0 | 0 | 0 | 0 | 0 | 0 | 0 |\n",
       "\n"
      ],
      "text/plain": [
       "     X    id        title                                        type \n",
       "1     0   ts300399  Five Came Back: The Reference Films          SHOW \n",
       "2     1   tm84618   Taxi Driver                                  MOVIE\n",
       "3     2   tm154986  Deliverance                                  MOVIE\n",
       "4     3   tm127384  Monty Python and the Holy Grail              MOVIE\n",
       "5     4   tm120801  The Dirty Dozen                              MOVIE\n",
       "6     5   ts22164   Monty Python's Flying Circus                 SHOW \n",
       "7     6   tm70993   Life of Brian                                MOVIE\n",
       "8     7   tm14873   Dirty Harry                                  MOVIE\n",
       "9     8   tm119281  Bonnie and Clyde                             MOVIE\n",
       "10    9   tm98978   The Blue Lagoon                              MOVIE\n",
       "11   10   tm44204   The Guns of Navarone                         MOVIE\n",
       "12   11   tm67378   The Professionals                            MOVIE\n",
       "13   12   tm69997   Richard Pryor: Live in Concert               MOVIE\n",
       "14   13   tm16479   White Christmas                              MOVIE\n",
       "15   14   tm135083  Cairo Station                                MOVIE\n",
       "16   15   tm89386   Hitler: A Career                             MOVIE\n",
       "17   16   tm156453  FTA                                          MOVIE\n",
       "18   17   tm14350   Alexandriaâ\\200¦ Why?                           MOVIE\n",
       "19   18   tm81728   The Land                                     MOVIE\n",
       "20   19   tm94651   Dostana                                      MOVIE\n",
       "21   20   tm27298   Saladin the Victorious                       MOVIE\n",
       "22   21   tm100027  Alibaba Aur 40 Chor                          MOVIE\n",
       "23   22   tm19608   The Blazing Sun                              MOVIE\n",
       "24   23   tm204541  Dark Waters                                  MOVIE\n",
       "25   24   tm259855  We Are All for the Fatherland                MOVIE\n",
       "26   25   tm356209  Singapore                                    MOVIE\n",
       "27   26   ts45948   Monty Python's Fliegender Zirkus             SHOW \n",
       "28   27   tm200475  Beirut, Oh Beirut                            MOVIE\n",
       "29   28   tm90896   The Return of the Prodigal Son               MOVIE\n",
       "30   29   tm336403  Khoon Khoon                                  MOVIE\n",
       "...  ...  ...       ...                                          ...  \n",
       "5821 5820 tm851599  Tersanjung: The Movie                        MOVIE\n",
       "5822 5821 tm1110241 Kaaval                                       MOVIE\n",
       "5823 5822 tm993616  The Tambour of Retribution                   MOVIE\n",
       "5824 5823 tm1099342 Devdas Brothers                              MOVIE\n",
       "5825 5824 tm831387  What Happened to Mr Cha?                     MOVIE\n",
       "5826 5825 tm878575  The Heartbreak Club                          MOVIE\n",
       "5827 5826 ts287687  Lava Ka Dhaava                               SHOW \n",
       "5828 5827 tm1099969 Angeliena                                    MOVIE\n",
       "5829 5828 ts319608  The Family That Sings Together: The Camargos SHOW \n",
       "5830 5829 tm846586  Layla Majnun                                 MOVIE\n",
       "5831 5830 ts288861  Let's Eat                                    SHOW \n",
       "5832 5831 ts273317  Pitta Kathalu                                SHOW \n",
       "5833 5832 tm996479  Tuesdays And Fridays                         MOVIE\n",
       "5834 5833 ts307884  HQ Barbers                                   SHOW \n",
       "5835 5834 tm1091956 A Faraway Land                               MOVIE\n",
       "5836 5835 tm985747  I Missed You                                 MOVIE\n",
       "5837 5836 tm959213  My Amanda                                    MOVIE\n",
       "5838 5837 tm1040816 Momshies! Your Soul is Mine                  MOVIE\n",
       "5839 5838 tm1053409 Happiness Ever After                         MOVIE\n",
       "5840 5839 tm1165179 Kongsi Raya                                  MOVIE\n",
       "5841 5840 tm1216735 Sun of the Soil                              MOVIE\n",
       "5842 5841 tm985215  Princess 'Daya'Reese                         MOVIE\n",
       "5843 5842 tm1066324 Super Monsters: Once Upon a Rhyme            MOVIE\n",
       "5844 5843 tm1097142 My Bride                                     MOVIE\n",
       "5845 5844 tm1074617 Bling Empire - The Afterparty                MOVIE\n",
       "5846 5845 tm1014599 Fine Wine                                    MOVIE\n",
       "5847 5846 tm898842  C/O Kaadhal                                  MOVIE\n",
       "5848 5847 tm1059008 Lokillo                                      MOVIE\n",
       "5849 5848 tm1035612 Dad Stop Embarrassing Me - The Afterparty    MOVIE\n",
       "5850 5849 ts271048  Mighty Little Bheem: Kite Festival           SHOW \n",
       "     description                                                                                                                                                                                                                                                                                                                                                                                                                                                                                                                                                                                                                                                                                                                                                                                                                                                                                            \n",
       "1    This collection includes 12 World War II-era propaganda films â\\200” many of which are graphic and offensive â\\200” discussed in the docuseries \"Five Came Back.\"                                                                                                                                                                                                                                                                                                                                                                                                                                                                                                                                                                                                                                                                                                                                            \n",
       "2    A mentally unstable Vietnam War veteran works as a night-time taxi driver in New York City where the perceived decadence and sleaze feed his urge for violent action.                                                                                                                                                                                                                                                                                                                                                                                                                                                                                                                                                                                                                                                                                                                                  \n",
       "3    Intent on seeing the Cahulawassee River before it's turned into one huge lake, outdoor fanatic Lewis Medlock takes his friends on a river-rafting trip they'll never forget into the dangerous American back-country.                                                                                                                                                                                                                                                                                                                                                                                                                                                                                                                                                                                                                                                                                  \n",
       "4    King Arthur, accompanied by his squire, recruits his Knights of the Round Table, including Sir Bedevere the Wise, Sir Lancelot the Brave, Sir Robin the Not-Quite-So-Brave-As-Sir-Lancelot and Sir Galahad the Pure. On the way, Arthur battles the Black Knight who, despite having had all his limbs chopped off, insists he can still fight. They reach Camelot, but Arthur decides not  to enter, as \"it is a silly place\".                                                                                                                                                                                                                                                                                                                                                                                                                                                                        \n",
       "5    12 American military prisoners in World War II are ordered to infiltrate a well-guarded enemy chÃ¢teau and kill the Nazi officers vacationing there. The soldiers, most of whom are facing death sentences for a variety of violent crimes, agree to the mission and the possible commuting of their sentences.                                                                                                                                                                                                                                                                                                                                                                                                                                                                                                                                                                                        \n",
       "6    A British sketch comedy series with the shows being composed of surreality, risquÃ© or innuendo-laden humour, sight gags and observational sketches without punchlines.                                                                                                                                                                                                                                                                                                                                                                                                                                                                                                                                                                                                                                                                                                                                \n",
       "7    Brian Cohen is an average young Jewish man, but through a series of ridiculous events, he gains a reputation as the Messiah. When he's not dodging his followers or being scolded by his shrill mother, the hapless Brian has to contend with the pompous Pontius Pilate and acronym-obsessed members of a separatist movement. Rife with Monty Python's signature absurdity, the tale finds Brian's life paralleling Biblical lore, albeit with many more laughs.                                                                                                                                                                                                                                                                                                                                                                                                                                     \n",
       "8    When a madman dubbed 'Scorpio' terrorizes San Francisco, hard-nosed cop, Harry Callahan â\\200“ famous for his take-no-prisoners approach to law enforcement â\\200“ is tasked with hunting down the psychopath. Harry eventually collars Scorpio in the process of rescuing a kidnap victim, only to see him walk on technicalities. Now, the maverick detective is determined to nail the maniac himself.                                                                                                                                                                                                                                                                                                                                                                                                                                                                                                    \n",
       "9    In the 1930s, bored waitress Bonnie Parker falls in love with an ex-con named Clyde Barrow and together they start a violent crime spree through the country, stealing cars and robbing banks.                                                                                                                                                                                                                                                                                                                                                                                                                                                                                                                                                                                                                                                                                                         \n",
       "10   Two small children and a ship's cook survive a shipwreck and find safety on an idyllic tropical island. Soon, however, the cook dies and the young boy and girl are left on their own. Days become years and Emmeline and Richard make a home for themselves surrounded by exotic creatures and nature's beauty. But will they ever see civilization again?                                                                                                                                                                                                                                                                                                                                                                                                                                                                                                                                            \n",
       "11   A team of allied saboteurs are assigned an impossible mission: infiltrate an impregnable Nazi-held island and destroy the two enormous long-range field guns that prevent the rescue of 2,000 trapped British soldiers.                                                                                                                                                                                                                                                                                                                                                                                                                                                                                                                                                                                                                                                                                \n",
       "12   An arrogant Texas millionaire hires four adventurers to rescue his kidnapped wife from a notorious Mexican bandit.                                                                                                                                                                                                                                                                                                                                                                                                                                                                                                                                                                                                                                                                                                                                                                                     \n",
       "13   Richard Pryor delivers monologues on race, sex, family and his favorite targetâ\\200”himself, live at the Terrace Theatre in Long Beach, California.                                                                                                                                                                                                                                                                                                                                                                                                                                                                                                                                                                                                                                                                                                                                                       \n",
       "14   Two talented song-and-dance men team up after the war to become one of the hottest acts in show business. In time they befriend and become romantically involved with the beautiful Haynes sisters who comprise a sister act.                                                                                                                                                                                                                                                                                                                                                                                                                                                                                                                                                                                                                                                                          \n",
       "15   Qinawi, a physically challenged peddler who makes his living selling newspapers in the central Cairo train station, is obsessed by Hanuma, an attractive young woman who sells drinks. While she jokes with him about a possible relationship, she is actually in love with Abu Siri, a strong and respected porter at the station who is struggling to unionize his fellow workers to combat their boss' exploitative and abusive treatment.                                                                                                                                                                                                                                                                                                                                                                                                                                                          \n",
       "16   A keen chronicle of the unlikely rise to power of Adolf Hitler (1889-1945) and a dissection of the Third Reich (1933-1945), but also an analysis of mass psychology and how the desperate crowd can be deceived and shepherded to the slaughterhouse.                                                                                                                                                                                                                                                                                                                                                                                                                                                                                                                                                                                                                                                  \n",
       "17   A documentary about a political troupe headed by actors Jane Fonda and Donald Sutherland which traveled to towns near military bases in the US in the early 1970s. The group put on shows called \"F.T.A.\", which stood for \"F**k the Army\", and was aimed at convincing soldiers to voice their opposition to the Vietnam War, which was raging at the time. Various singers, actors and other entertainers performed antiwar songs and skits during the show.                                                                                                                                                                                                                                                                                                                                                                                                                                         \n",
       "18   Set against the panoramic backdrop of war-torn Egypt, director Youssef Chahine tells a highly personal tale of love and determination. Amid the poverty, death and suffering caused by World War II, 18 year-old Yehia, retreats into a private world of fantasy and longing. Obsessed with Hollywood, he dreams of one day studying filmmaking in America, but after falling in love and discovering the lies of European occupation, Yehia profoundly reevaluates his identity and allegiances.                                                                                                                                                                                                                                                                                                                                                                                                      \n",
       "19   Set in 1933, the mayor informs the peasants that the share of irrigation of their land will be split equally between them and feudal lord Mahmoud Bey. The peasants send Muhammad Effendi to submit a petition to the government. Then Mahmoud Bey proposes a project that would require taking part of the peasants' lands.                                                                                                                                                                                                                                                                                                                                                                                                                                                                                                                                                                           \n",
       "20   Two close friends decide to enter law enforcement, one as a police officer, the other as a lawyer, but their friendship begins to unravel when they both fall in love with the same woman.                                                                                                                                                                                                                                                                                                                                                                                                                                                                                                                                                                                                                                                                                                             \n",
       "21   Saladin, the first sultan of Egypt and Syria, leads the Muslim military campaign against the invading Christians from Europe during the Third Crusade.                                                                                                                                                                                                                                                                                                                                                                                                                                                                                                                                                                                                                                                                                                                                                 \n",
       "22   The movie is based on the story of Ali Baba and the Forty Thieves, from the One Thousand and One Nights or Arabian Tales. The role of Ali Baba is played by Dharmendra and Hema Malini play Morjina.                                                                                                                                                                                                                                                                                                                                                                                                                                                                                                                                                                                                                                                                                                   \n",
       "23   A rich landlord floods and destroys a village on purpose to prevent the people living there from making a profit off their crops. What he doesn't know is that his own daughter is in love with Ahmed, a young man from the village.                                                                                                                                                                                                                                                                                                                                                                                                                                                                                                                                                                                                                                                                   \n",
       "24   Ragab, a poor sailor, returns home to Alexandria after three years of absence, during which he tried to save money to marry his one true love, Hamedah. But there's trouble on the harbor, and with an old friend.                                                                                                                                                                                                                                                                                                                                                                                                                                                                                                                                                                                                                                                                                     \n",
       "25   After the 1978 Israeli invasion of Lebanon, children try to sing the national anthem as citizens search for hope in the war-torn South.                                                                                                                                                                                                                                                                                                                                                                                                                                                                                                                                                                                                                                                                                                                                                                \n",
       "26   When his employee disappears in Singapore, Shyam travels from India to investigate the absence and becomes entangled in a deadly plot.                                                                                                                                                                                                                                                                                                                                                                                                                                                                                                                                                                                                                                                                                                                                                                 \n",
       "27   Monty Python's Fliegender Zirkus consisted of two 45-minute Monty Python German television comedy specials produced by WDR for West German television. The two episodes were first broadcast in January and December 1972 and were shot entirely on film and mostly on location in Bavaria, with the first episode recorded in German and the second recorded in English and then dubbed into German.                                                                                                                                                                                                                                                                                                                                                                                                                                                                                                  \n",
       "28   In the aftermath of the 1967 defeat, four young Lebanese try to figure out their places in a society whose rules seem to have changed. It proved to be an extraordinary anticipation of the civil war that would engulf the country while the film was being edited.                                                                                                                                                                                                                                                                                                                                                                                                                                                                                                                                                                                                                                   \n",
       "29   In this Andre Gide adaptation, an activist is released after many years in prison and returns home, shaking up established relationships among his family members at the farm governed by his strict father. Demonstrating Chahineâ\\200\\231s eclecticism, this is an elegant melodrama, exuberant musical, layered allegory, and profound portrait of personal and political disillusionment.                                                                                                                                                                                                                                                                                                                                                                                                                                                                                                                \n",
       "30   As a crazed killer blazes a trail of blood through an anxious city, a hardened cop aims to take him down by any means in this remake of Dirty Harry.                                                                                                                                                                                                                                                                                                                                                                                                                                                                                                                                                                                                                                                                                                                                                   \n",
       "...  ...                                                                                                                                                                                                                                                                                                                                                                                                                                                                                                                                                                                                                                                                                                                                                                                                                                                                                                    \n",
       "5821 After growing up in a tumultuous household, Yura finds herself in a love triangle with two close friends as she faces a personal and financial crisis.                                                                                                                                                                                                                                                                                                                                                                                                                                                                                                                                                                                                                                                                                                                                                 \n",
       "5822 Thampan and Antony are a long time best friends and business partners who owned a saw mill at Kattappana in the past. A family tragedy and its falling-out separates them for good. But now Antony and his family faces a grievous situation, and he is forced to ask his old friend for a help out. The timeline of the story spans over two generations                                                                                                                                                                                                                                                                                                                                                                                                                                                                                                                                              \n",
       "5823 The son of the swordsman falls in love with the daughter of Tagaga in a social paradox based on selling joy (wedding) and buying death                                                                                                                                                                                                                                                                                                                                                                                                                                                                                                                                                                                                                                                                                                                                                                 \n",
       "5824 After their first heartbreaks, four jilted young men plan drastic ways to get back at the women who left them - and are in for a sobering lesson.                                                                                                                                                                                                                                                                                                                                                                                                                                                                                                                                                                                                                                                                                                                                                      \n",
       "5825 With the peak of his career long behind him, an actor clings to his past glory â\\200” until a sudden wake-up call forces him to face who he's become.                                                                                                                                                                                                                                                                                                                                                                                                                                                                                                                                                                                                                                                                                                                                                     \n",
       "5826 Coping with heartbreak, the shy owner of floundering cafe find solace in the Javanese love songs of Didi Kempot.                                                                                                                                                                                                                                                                                                                                                                                                                                                                                                                                                                                                                                                                                                                                                                                       \n",
       "5827 Actor Jaaved Jaafferi brings his signature humor to this Hindi dubbing of the show where teams creatively navigate rooms flooded with make-believe lava.                                                                                                                                                                                                                                                                                                                                                                                                                                                                                                                                                                                                                                                                                                                                               \n",
       "5828 After a string of life-changing revelations, a beloved parking attendant pieces a new plan together and chases her dream of traveling the world.                                                                                                                                                                                                                                                                                                                                                                                                                                                                                                                                                                                                                                                                                                                                                       \n",
       "5829 Surrounded by family and friends, ZezÃ© Di Camargo and daughter Wanessa spend time together and collaborate creatively in this exclusive reality series.                                                                                                                                                                                                                                                                                                                                                                                                                                                                                                                                                                                                                                                                                                                                               \n",
       "5830 While in Azerbaijan, Layla, an Indonesian scholar, falls for Samir, an admirer of her work â\\200” but her arranged marriage stands in the way.                                                                                                                                                                                                                                                                                                                                                                                                                                                                                                                                                                                                                                                                                                                                                            \n",
       "5831 A food-blogging insurance agent encounters a friend from elementary school with a vendetta against him -- but soon becomes her sidekick.                                                                                                                                                                                                                                                                                                                                                                                                                                                                                                                                                                                                                                                                                                                                                               \n",
       "5832 Four different women, four journeys of love and betrayal. The common thread? They all want to dismantle the patriarchy.                                                                                                                                                                                                                                                                                                                                                                                                                                                                                                                                                                                                                                                                                                                                                                                \n",
       "5833 Two millennials get into a relationship where they are allowed to meet only on 'Tuesdays & Fridays'.                                                                                                                                                                                                                                                                                                                                                                                                                                                                                                                                                                                                                                                                                                                                                                                                   \n",
       "5834 When a family run barber shop in the heart of Lagos is threatened by real estate developers, they'll do whatever it takes to stay in business.                                                                                                                                                                                                                                                                                                                                                                                                                                                                                                                                                                                                                                                                                                                                                         \n",
       "5835 In the Faroe Islands, a married woman meets a reporter filming a documentary on overseas Filipino workers, which soon sparks a complicated love story.                                                                                                                                                                                                                                                                                                                                                                                                                                                                                                                                                                                                                                                                                                                                                 \n",
       "5836 A woman who was overwhelmed by work and had no time to imagine the future. Her paralyzed life was interrupted by a live-streaming man who always has fun in life and acts wildly, resulting in a series of fermentation processes.                                                                                                                                                                                                                                                                                                                                                                                                                                                                                                                                                                                                                                                                     \n",
       "5837 Two unusually close friends share every aspect of their lives together. As their lives evolve, their bond remains the only constant.                                                                                                                                                                                                                                                                                                                                                                                                                                                                                                                                                                                                                                                                                                                                                                   \n",
       "5838 Three women with totally different lives accidentally get their souls switched as they struggle with the comedic misadventures of their new worlds, they realize that their own lives and families are worth loving and living for. Jolene, a famous person who always has fans in public, Mylene - an overprotected lady who always gets pleasure and love and Karlene - a rich famous social media influencer all switch bodies but their lives did not just change, but their souls switched that leaves them with no choice but to stick together to live the peculiar lives of each other. Karlene then has to convince a group of investors to invest in her near-bankrupt hotel, but no one believes her because she is trapped in Myleneâ\\200\\231s body. In the process of all of their imaginative scenarios, they drew closer to each other into becoming the soul sisters they are destined to be.\n",
       "5839 Five years later from where we left our characters, again tackling sisterhood and friendship, this time with the inclusion of a new romantic arc.                                                                                                                                                                                                                                                                                                                                                                                                                                                                                                                                                                                                                                                                                                                                                      \n",
       "5840 Jack - a Chinese chef-manager who is in-line to take over his family`s restaurant and Sharifah, a TV programme producer for her celebrity chef father Rahim - are crazy in love. But both their fathers are against their relationship and it all escalates in intensity until the two families challenge each other in a televised cooking competition. Jack and Sharifah must find a solution before all of that gets out of hand.                                                                                                                                                                                                                                                                                                                                                                                                                                                                   \n",
       "5841 In 14th-century Mali, an ambitious young royal named Mansa Musa ascended the throne of the richest kingdom in human history. This follows Malian artist Abdou Ouologuem on a journey to discover the truth behind the legendary African king.                                                                                                                                                                                                                                                                                                                                                                                                                                                                                                                                                                                                                                                          \n",
       "5842 Reese is a con artist from Manila who dreams of living like royalty. An opportunity arrives in the form of Princess Ulap, a runaway princess from the mysterious kingdom of Oro, who looks exactly like her. Switching places in exchange for gold, Reese flies to Ulap's kingdom where she meets Caleb, a young and determined reporter who is doing a documentary on the island of Oro. The road to happily ever after becomes bumpy when the man in search for truth begins to fall in love with the fake princess.                                                                                                                                                                                                                                                                                                                                                                                 \n",
       "5843 The Super Monsters rethink exemplary fantasies and most loved nursery rhymes with a melodic, otherworldly twist.                                                                                                                                                                                                                                                                                                                                                                                                                                                                                                                                                                                                                                                                                                                                                                                       \n",
       "5844 The story follows a young man and woman who go through various situations in their journey to find the right partner, which raises questions about traditional marriage and marriage based on love.                                                                                                                                                                                                                                                                                                                                                                                                                                                                                                                                                                                                                                                                                                    \n",
       "5845 The stars of \"Bling Empire\" discuss the show's success and play bling-themed games, then comic Joel Kim Booster makes his case for joining the cast.                                                                                                                                                                                                                                                                                                                                                                                                                                                                                                                                                                                                                                                                                                                                                   \n",
       "5846 A beautiful love story that can happen between two people regardless of their age gaps.                                                                                                                                                                                                                                                                                                                                                                                                                                                                                                                                                                                                                                                                                                                                                                                                                \n",
       "5847 A heart warming film that explores the concept of romance with episodes involving four sets of people of different age group.                                                                                                                                                                                                                                                                                                                                                                                                                                                                                                                                                                                                                                                                                                                                                                          \n",
       "5848 A controversial TV host and comedian who has built his career on sexist humor is forced to assume a woman's identity to elude a relentless drug dealer.                                                                                                                                                                                                                                                                                                                                                                                                                                                                                                                                                                                                                                                                                                                                                \n",
       "5849 Jamie Foxx, David Alan Grier and more from the cast of the family comedy discuss the show, humiliating family moments, bad BBQ dishes and sitcom openings.                                                                                                                                                                                                                                                                                                                                                                                                                                                                                                                                                                                                                                                                                                                                             \n",
       "5850 With winter behind them, Bheem and his townspeople usher in a sunny new season in all their favorite ways during the Makar Sankranti festival.                                                                                                                                                                                                                                                                                                                                                                                                                                                                                                                                                                                                                                                                                                                                                         \n",
       "     release_year age_certification runtime production_countries seasons ...\n",
       "1    1945         TV-MA              51     ['US']                1      ...\n",
       "2    1976         R                 114     ['US']               NA      ...\n",
       "3    1972         R                 109     ['US']               NA      ...\n",
       "4    1975         PG                 91     ['GB']               NA      ...\n",
       "5    1967                           150     ['GB', 'US']         NA      ...\n",
       "6    1969         TV-14              30     ['GB']                4      ...\n",
       "7    1979         R                  94     ['GB']               NA      ...\n",
       "8    1971         R                 102     ['US']               NA      ...\n",
       "9    1967         R                 110     ['US']               NA      ...\n",
       "10   1980         R                 104     ['US']               NA      ...\n",
       "11   1961                           158     ['GB', 'US']         NA      ...\n",
       "12   1966         PG-13             117     ['US']               NA      ...\n",
       "13   1979         R                  78     ['US']               NA      ...\n",
       "14   1954                           115     ['US']               NA      ...\n",
       "15   1958                            77     ['EG']               NA      ...\n",
       "16   1977         PG                150     ['DE']               NA      ...\n",
       "17   1972         R                  97     ['US']               NA      ...\n",
       "18   1979                           133     ['EG']               NA      ...\n",
       "19   1969                           129     ['EG']               NA      ...\n",
       "20   1980                           161     ['IN']               NA      ...\n",
       "21   1963                           186     ['EG']               NA      ...\n",
       "22   1979                           146     ['SU', 'IN']         NA      ...\n",
       "23   1954                           100     ['EG']               NA      ...\n",
       "24   1956                           120     ['EG']               NA      ...\n",
       "25   1979                            74     ['LB', 'CA', 'FR']   NA      ...\n",
       "26   1960                           158     ['IN']               NA      ...\n",
       "27   1972         TV-MA              43     []                    1      ...\n",
       "28   1975                           110     ['LB']               NA      ...\n",
       "29   1976                           124     ['DZ', 'EG']         NA      ...\n",
       "30   1973                           131     ['IN']               NA      ...\n",
       "...  ...          ...               ...     ...                  ...        \n",
       "5821 2021                           114     ['ID']               NA      ...\n",
       "5822 2021                           148     ['IN']               NA      ...\n",
       "5823 2021                            92     ['SA']               NA      ...\n",
       "5824 2021                            99     []                   NA      ...\n",
       "5825 2021                           102     ['KR']               NA      ...\n",
       "5826 2021                           101     ['ID']               NA      ...\n",
       "5827 2021                            30     ['IO']                1      ...\n",
       "5828 2021                            95     ['ZA']               NA      ...\n",
       "5829 2021                            39     ['BR']                1      ...\n",
       "5830 2021                           119     ['ID']               NA      ...\n",
       "5831 2021         TV-14              60     ['TH']                1      ...\n",
       "5832 2021         TV-MA              37     ['IN']                1      ...\n",
       "5833 2021                           106     ['GB', 'IN']         NA      ...\n",
       "5834 2021         TV-14              24     ['NG']                1      ...\n",
       "5835 2021                           101     ['PH', 'FO']         NA      ...\n",
       "5836 2021                            96     ['TW']               NA      ...\n",
       "5837 2021                            89     ['PH']               NA      ...\n",
       "5838 2021                           108     ['PH']               NA      ...\n",
       "5839 2021                            99     ['ZA']               NA      ...\n",
       "5840 2022                           102     ['MY']               NA      ...\n",
       "5841 2022                            26     []                   NA      ...\n",
       "5842 2021                           115     ['PH']               NA      ...\n",
       "5843 2021                            25     []                   NA      ...\n",
       "5844 2021                            93     ['EG']               NA      ...\n",
       "5845 2021                            35     ['US']               NA      ...\n",
       "5846 2021                           100     ['NG']               NA      ...\n",
       "5847 2021                           134     []                   NA      ...\n",
       "5848 2021                            90     ['CO']               NA      ...\n",
       "5849 2021         PG-13              37     ['US']               NA      ...\n",
       "5850 2021                             7     []                    1      ...\n",
       "     thriller crime comedy documentation fantasy scifi romance horror history\n",
       "1    0        0     0      1             0       0     0       0      0      \n",
       "2    0        1     0      0             0       0     0       0      0      \n",
       "3    1        0     0      0             0       0     0       0      0      \n",
       "4    0        0     1      0             1       0     0       0      0      \n",
       "5    0        0     0      0             0       0     0       0      0      \n",
       "6    0        0     1      0             0       0     0       0      0      \n",
       "7    0        0     1      0             0       0     0       0      0      \n",
       "8    1        1     0      0             0       0     0       0      0      \n",
       "9    0        1     0      0             0       0     0       0      0      \n",
       "10   0        0     0      0             0       0     1       0      0      \n",
       "11   0        0     0      0             0       0     0       0      0      \n",
       "12   0        0     0      0             0       0     0       0      0      \n",
       "13   0        0     1      1             0       0     0       0      0      \n",
       "14   0        0     1      0             0       0     1       0      0      \n",
       "15   0        1     1      0             0       0     0       0      0      \n",
       "16   0        0     0      1             0       0     0       0      1      \n",
       "17   0        0     1      1             0       0     0       0      0      \n",
       "18   0        0     0      0             0       0     0       0      0      \n",
       "19   0        0     0      0             0       0     0       0      0      \n",
       "20   0        1     1      0             0       0     1       0      0      \n",
       "21   0        0     0      0             0       0     1       0      1      \n",
       "22   0        0     0      0             1       0     1       0      0      \n",
       "23   0        1     0      0             0       0     1       0      0      \n",
       "24   1        0     0      0             0       0     1       0      0      \n",
       "25   0        0     0      1             0       0     0       0      0      \n",
       "26   1        1     0      0             0       0     0       0      0      \n",
       "27   0        0     1      0             0       0     0       0      0      \n",
       "28   0        0     0      0             0       0     0       0      0      \n",
       "29   0        1     0      0             0       0     0       0      0      \n",
       "30   1        1     0      0             0       0     0       0      0      \n",
       "...  ...      ...   ...    ...           ...     ...   ...     ...    ...    \n",
       "5821 0        0     0      0             0       0     1       0      0      \n",
       "5822 1        0     0      0             0       0     0       0      0      \n",
       "5823 0        0     0      0             0       0     0       0      0      \n",
       "5824 0        0     0      0             0       0     0       0      0      \n",
       "5825 0        0     1      0             0       0     0       0      0      \n",
       "5826 0        0     1      0             0       0     1       0      0      \n",
       "5827 0        0     0      0             0       0     0       0      0      \n",
       "5828 0        0     1      0             0       0     0       0      0      \n",
       "5829 0        0     0      1             0       0     0       0      0      \n",
       "5830 0        0     0      0             0       0     1       0      0      \n",
       "5831 0        0     1      0             0       0     0       0      0      \n",
       "5832 0        0     0      0             0       0     1       0      0      \n",
       "5833 0        0     1      0             0       0     1       0      0      \n",
       "5834 0        0     1      0             0       0     0       0      0      \n",
       "5835 0        0     0      0             0       0     0       0      0      \n",
       "5836 0        0     0      0             0       0     1       0      0      \n",
       "5837 0        0     0      0             0       0     1       0      0      \n",
       "5838 0        0     1      0             0       0     0       0      0      \n",
       "5839 0        0     0      0             0       0     1       0      0      \n",
       "5840 0        0     1      0             0       0     0       0      0      \n",
       "5841 0        0     0      0             0       0     0       0      0      \n",
       "5842 0        0     1      0             0       0     1       0      0      \n",
       "5843 0        0     0      0             0       0     0       0      0      \n",
       "5844 0        0     1      0             0       0     1       0      0      \n",
       "5845 0        0     0      0             0       0     0       0      0      \n",
       "5846 0        0     0      0             0       0     1       0      0      \n",
       "5847 0        0     0      0             0       0     0       0      0      \n",
       "5848 0        0     1      0             0       0     0       0      0      \n",
       "5849 0        0     0      0             0       0     0       0      0      \n",
       "5850 0        0     1      0             0       0     0       0      0      \n",
       "     music\n",
       "1    0    \n",
       "2    0    \n",
       "3    0    \n",
       "4    0    \n",
       "5    0    \n",
       "6    0    \n",
       "7    0    \n",
       "8    0    \n",
       "9    0    \n",
       "10   0    \n",
       "11   0    \n",
       "12   0    \n",
       "13   0    \n",
       "14   0    \n",
       "15   0    \n",
       "16   0    \n",
       "17   1    \n",
       "18   0    \n",
       "19   0    \n",
       "20   0    \n",
       "21   0    \n",
       "22   0    \n",
       "23   0    \n",
       "24   0    \n",
       "25   0    \n",
       "26   0    \n",
       "27   0    \n",
       "28   0    \n",
       "29   1    \n",
       "30   0    \n",
       "...  ...  \n",
       "5821 0    \n",
       "5822 0    \n",
       "5823 0    \n",
       "5824 0    \n",
       "5825 0    \n",
       "5826 0    \n",
       "5827 0    \n",
       "5828 0    \n",
       "5829 1    \n",
       "5830 0    \n",
       "5831 0    \n",
       "5832 0    \n",
       "5833 0    \n",
       "5834 0    \n",
       "5835 0    \n",
       "5836 0    \n",
       "5837 0    \n",
       "5838 0    \n",
       "5839 0    \n",
       "5840 0    \n",
       "5841 0    \n",
       "5842 0    \n",
       "5843 0    \n",
       "5844 0    \n",
       "5845 0    \n",
       "5846 0    \n",
       "5847 0    \n",
       "5848 0    \n",
       "5849 0    \n",
       "5850 0    "
      ]
     },
     "metadata": {},
     "output_type": "display_data"
    }
   ],
   "source": [
    "Netflix"
   ]
  },
  {
   "cell_type": "markdown",
   "id": "63756c20-b682-4fe1-871c-12bbbcb189e5",
   "metadata": {
    "tags": []
   },
   "source": [
    "Questions: \n",
    "\n",
    "Does the release year relate to the IMDB score? The TMBD score? \n",
    "Hoe does genre relate to age certification? \n",
    "Is there a difference in IMDBScore among the genre categories of drama, comedy and romance?"
   ]
  },
  {
   "cell_type": "markdown",
   "id": "69f22024-89f3-4455-8a69-0c3f5659ffff",
   "metadata": {
    "jp-MarkdownHeadingCollapsed": true,
    "tags": []
   },
   "source": [
    "# Question 1: Is there a difference in IMDBscore among the age certifications of TV-MA, TV-Y and TV-G?\n"
   ]
  },
  {
   "cell_type": "markdown",
   "id": "57abc012-cc12-44cc-8f57-f9664f1d4e9e",
   "metadata": {},
   "source": [
    "# Data Wrangling"
   ]
  },
  {
   "cell_type": "code",
   "execution_count": 4,
   "id": "e3ff088c-7789-4de9-848a-0756c09ef4ac",
   "metadata": {
    "tags": [],
    "vscode": {
     "languageId": "r"
    }
   },
   "outputs": [
    {
     "data": {
      "text/html": [
       "<style>\n",
       ".list-inline {list-style: none; margin:0; padding: 0}\n",
       ".list-inline>li {display: inline-block}\n",
       ".list-inline>li:not(:last-child)::after {content: \"\\00b7\"; padding: 0 .5ex}\n",
       "</style>\n",
       "<ol class=list-inline><li>'TV-MA'</li><li>'R'</li><li>'R'</li><li>'PG'</li><li>''</li><li>'TV-14'</li><li>'R'</li><li>'R'</li><li>'R'</li><li>'R'</li><li>''</li><li>'PG-13'</li><li>'R'</li><li>''</li><li>''</li><li>'PG'</li><li>'R'</li><li>''</li><li>''</li><li>''</li><li>''</li><li>''</li><li>''</li><li>''</li><li>''</li><li>''</li><li>'TV-MA'</li><li>''</li><li>''</li><li>''</li><li>''</li><li>''</li><li>''</li><li>''</li><li>''</li><li>'TV-PG'</li><li>'R'</li><li>'R'</li><li>'R'</li><li>'R'</li><li>'R'</li><li>'PG'</li><li>'R'</li><li>'R'</li><li>'TV-PG'</li><li>'TV-Y'</li><li>'TV-G'</li><li>'PG-13'</li><li>'TV-G'</li><li>'PG-13'</li><li>'PG-13'</li><li>'R'</li><li>'R'</li><li>'TV-PG'</li><li>'R'</li><li>'TV-Y'</li><li>''</li><li>''</li><li>''</li><li>'TV-Y'</li><li>'R'</li><li>''</li><li>''</li><li>''</li><li>'R'</li><li>''</li><li>''</li><li>''</li><li>''</li><li>''</li><li>''</li><li>''</li><li>''</li><li>''</li><li>''</li><li>'R'</li><li>''</li><li>''</li><li>''</li><li>''</li><li>''</li><li>''</li><li>''</li><li>'TV-PG'</li><li>''</li><li>''</li><li>''</li><li>''</li><li>''</li><li>''</li><li>''</li><li>'TV-PG'</li><li>'PG-13'</li><li>'TV-PG'</li><li>'R'</li><li>'TV-Y7'</li><li>'R'</li><li>'PG-13'</li><li>'R'</li><li>'R'</li><li>'TV-14'</li><li>'TV-14'</li><li>'PG-13'</li><li>'TV-14'</li><li>'R'</li><li>'PG-13'</li><li>'PG-13'</li><li>'TV-14'</li><li>'PG-13'</li><li>'R'</li><li>'TV-14'</li><li>'R'</li><li>'R'</li><li>'PG'</li><li>'TV-Y7'</li><li>'PG-13'</li><li>'R'</li><li>'TV-Y'</li><li>'R'</li><li>'TV-Y'</li><li>'TV-PG'</li><li>'TV-14'</li><li>'PG'</li><li>'R'</li><li>'PG-13'</li><li>'TV-G'</li><li>'PG'</li><li>'PG-13'</li><li>'R'</li><li>''</li><li>'PG'</li><li>'R'</li><li>'PG'</li><li>'PG-13'</li><li>'TV-G'</li><li>'PG-13'</li><li>'TV-Y7'</li><li>'PG-13'</li><li>'PG-13'</li><li>'PG-13'</li><li>'R'</li><li>'R'</li><li>'R'</li><li>'PG'</li><li>'R'</li><li>'TV-G'</li><li>'R'</li><li>'TV-Y7'</li><li>'PG-13'</li><li>'TV-Y7'</li><li>'R'</li><li>'TV-PG'</li><li>'PG'</li><li>'PG-13'</li><li>'R'</li><li>'R'</li><li>'R'</li><li>'TV-PG'</li><li>'TV-PG'</li><li>'TV-PG'</li><li>'TV-MA'</li><li>'TV-Y7'</li><li>'G'</li><li>''</li><li>'G'</li><li>'TV-MA'</li><li>''</li><li>'PG-13'</li><li>'G'</li><li>'TV-MA'</li><li>''</li><li>'R'</li><li>'R'</li><li>'PG-13'</li><li>''</li><li>''</li><li>''</li><li>'TV-MA'</li><li>''</li><li>''</li><li>''</li><li>''</li><li>''</li><li>'G'</li><li>''</li><li>''</li><li>'G'</li><li>''</li><li>''</li><li>'G'</li><li>'PG'</li><li>'PG-13'</li><li>''</li><li>''</li><li>'PG-13'</li><li>''</li><li>''</li><li>'PG'</li><li>'NC-17'</li><li>'PG-13'</li><li>...</li><li>''</li><li>''</li><li>''</li><li>''</li><li>''</li><li>''</li><li>'TV-14'</li><li>'TV-MA'</li><li>''</li><li>''</li><li>''</li><li>''</li><li>''</li><li>''</li><li>''</li><li>'R'</li><li>'TV-MA'</li><li>'TV-Y'</li><li>''</li><li>''</li><li>'TV-14'</li><li>''</li><li>'R'</li><li>''</li><li>''</li><li>'TV-14'</li><li>''</li><li>''</li><li>''</li><li>'TV-MA'</li><li>''</li><li>''</li><li>''</li><li>'TV-MA'</li><li>''</li><li>''</li><li>'TV-PG'</li><li>''</li><li>'PG'</li><li>'TV-14'</li><li>''</li><li>''</li><li>'R'</li><li>'TV-MA'</li><li>'R'</li><li>'TV-PG'</li><li>''</li><li>''</li><li>''</li><li>'TV-PG'</li><li>'TV-PG'</li><li>''</li><li>''</li><li>'R'</li><li>''</li><li>''</li><li>'PG-13'</li><li>'TV-14'</li><li>''</li><li>''</li><li>'TV-14'</li><li>''</li><li>''</li><li>''</li><li>''</li><li>''</li><li>'TV-MA'</li><li>'R'</li><li>''</li><li>'G'</li><li>''</li><li>'TV-PG'</li><li>''</li><li>''</li><li>''</li><li>''</li><li>''</li><li>''</li><li>''</li><li>''</li><li>''</li><li>''</li><li>''</li><li>'TV-MA'</li><li>''</li><li>'TV-MA'</li><li>'PG'</li><li>''</li><li>'TV-PG'</li><li>''</li><li>''</li><li>''</li><li>''</li><li>'TV-MA'</li><li>'G'</li><li>''</li><li>''</li><li>'R'</li><li>''</li><li>''</li><li>''</li><li>''</li><li>''</li><li>''</li><li>''</li><li>'TV-PG'</li><li>''</li><li>'TV-14'</li><li>'R'</li><li>''</li><li>'TV-MA'</li><li>''</li><li>''</li><li>'PG-13'</li><li>''</li><li>''</li><li>''</li><li>'PG'</li><li>''</li><li>''</li><li>''</li><li>''</li><li>''</li><li>''</li><li>''</li><li>''</li><li>'TV-14'</li><li>''</li><li>'TV-MA'</li><li>''</li><li>''</li><li>''</li><li>''</li><li>''</li><li>'TV-MA'</li><li>'TV-MA'</li><li>''</li><li>''</li><li>''</li><li>'R'</li><li>'PG'</li><li>''</li><li>''</li><li>''</li><li>''</li><li>''</li><li>''</li><li>''</li><li>'R'</li><li>''</li><li>'R'</li><li>'TV-14'</li><li>''</li><li>''</li><li>''</li><li>''</li><li>''</li><li>''</li><li>''</li><li>''</li><li>''</li><li>''</li><li>''</li><li>''</li><li>''</li><li>''</li><li>''</li><li>''</li><li>''</li><li>'TV-MA'</li><li>''</li><li>''</li><li>''</li><li>''</li><li>''</li><li>''</li><li>''</li><li>''</li><li>''</li><li>''</li><li>'TV-14'</li><li>'TV-MA'</li><li>''</li><li>'TV-14'</li><li>''</li><li>''</li><li>''</li><li>''</li><li>''</li><li>''</li><li>''</li><li>''</li><li>''</li><li>''</li><li>''</li><li>''</li><li>''</li><li>''</li><li>'PG-13'</li><li>''</li></ol>\n"
      ],
      "text/latex": [
       "\\begin{enumerate*}\n",
       "\\item 'TV-MA'\n",
       "\\item 'R'\n",
       "\\item 'R'\n",
       "\\item 'PG'\n",
       "\\item ''\n",
       "\\item 'TV-14'\n",
       "\\item 'R'\n",
       "\\item 'R'\n",
       "\\item 'R'\n",
       "\\item 'R'\n",
       "\\item ''\n",
       "\\item 'PG-13'\n",
       "\\item 'R'\n",
       "\\item ''\n",
       "\\item ''\n",
       "\\item 'PG'\n",
       "\\item 'R'\n",
       "\\item ''\n",
       "\\item ''\n",
       "\\item ''\n",
       "\\item ''\n",
       "\\item ''\n",
       "\\item ''\n",
       "\\item ''\n",
       "\\item ''\n",
       "\\item ''\n",
       "\\item 'TV-MA'\n",
       "\\item ''\n",
       "\\item ''\n",
       "\\item ''\n",
       "\\item ''\n",
       "\\item ''\n",
       "\\item ''\n",
       "\\item ''\n",
       "\\item ''\n",
       "\\item 'TV-PG'\n",
       "\\item 'R'\n",
       "\\item 'R'\n",
       "\\item 'R'\n",
       "\\item 'R'\n",
       "\\item 'R'\n",
       "\\item 'PG'\n",
       "\\item 'R'\n",
       "\\item 'R'\n",
       "\\item 'TV-PG'\n",
       "\\item 'TV-Y'\n",
       "\\item 'TV-G'\n",
       "\\item 'PG-13'\n",
       "\\item 'TV-G'\n",
       "\\item 'PG-13'\n",
       "\\item 'PG-13'\n",
       "\\item 'R'\n",
       "\\item 'R'\n",
       "\\item 'TV-PG'\n",
       "\\item 'R'\n",
       "\\item 'TV-Y'\n",
       "\\item ''\n",
       "\\item ''\n",
       "\\item ''\n",
       "\\item 'TV-Y'\n",
       "\\item 'R'\n",
       "\\item ''\n",
       "\\item ''\n",
       "\\item ''\n",
       "\\item 'R'\n",
       "\\item ''\n",
       "\\item ''\n",
       "\\item ''\n",
       "\\item ''\n",
       "\\item ''\n",
       "\\item ''\n",
       "\\item ''\n",
       "\\item ''\n",
       "\\item ''\n",
       "\\item ''\n",
       "\\item 'R'\n",
       "\\item ''\n",
       "\\item ''\n",
       "\\item ''\n",
       "\\item ''\n",
       "\\item ''\n",
       "\\item ''\n",
       "\\item ''\n",
       "\\item 'TV-PG'\n",
       "\\item ''\n",
       "\\item ''\n",
       "\\item ''\n",
       "\\item ''\n",
       "\\item ''\n",
       "\\item ''\n",
       "\\item ''\n",
       "\\item 'TV-PG'\n",
       "\\item 'PG-13'\n",
       "\\item 'TV-PG'\n",
       "\\item 'R'\n",
       "\\item 'TV-Y7'\n",
       "\\item 'R'\n",
       "\\item 'PG-13'\n",
       "\\item 'R'\n",
       "\\item 'R'\n",
       "\\item 'TV-14'\n",
       "\\item 'TV-14'\n",
       "\\item 'PG-13'\n",
       "\\item 'TV-14'\n",
       "\\item 'R'\n",
       "\\item 'PG-13'\n",
       "\\item 'PG-13'\n",
       "\\item 'TV-14'\n",
       "\\item 'PG-13'\n",
       "\\item 'R'\n",
       "\\item 'TV-14'\n",
       "\\item 'R'\n",
       "\\item 'R'\n",
       "\\item 'PG'\n",
       "\\item 'TV-Y7'\n",
       "\\item 'PG-13'\n",
       "\\item 'R'\n",
       "\\item 'TV-Y'\n",
       "\\item 'R'\n",
       "\\item 'TV-Y'\n",
       "\\item 'TV-PG'\n",
       "\\item 'TV-14'\n",
       "\\item 'PG'\n",
       "\\item 'R'\n",
       "\\item 'PG-13'\n",
       "\\item 'TV-G'\n",
       "\\item 'PG'\n",
       "\\item 'PG-13'\n",
       "\\item 'R'\n",
       "\\item ''\n",
       "\\item 'PG'\n",
       "\\item 'R'\n",
       "\\item 'PG'\n",
       "\\item 'PG-13'\n",
       "\\item 'TV-G'\n",
       "\\item 'PG-13'\n",
       "\\item 'TV-Y7'\n",
       "\\item 'PG-13'\n",
       "\\item 'PG-13'\n",
       "\\item 'PG-13'\n",
       "\\item 'R'\n",
       "\\item 'R'\n",
       "\\item 'R'\n",
       "\\item 'PG'\n",
       "\\item 'R'\n",
       "\\item 'TV-G'\n",
       "\\item 'R'\n",
       "\\item 'TV-Y7'\n",
       "\\item 'PG-13'\n",
       "\\item 'TV-Y7'\n",
       "\\item 'R'\n",
       "\\item 'TV-PG'\n",
       "\\item 'PG'\n",
       "\\item 'PG-13'\n",
       "\\item 'R'\n",
       "\\item 'R'\n",
       "\\item 'R'\n",
       "\\item 'TV-PG'\n",
       "\\item 'TV-PG'\n",
       "\\item 'TV-PG'\n",
       "\\item 'TV-MA'\n",
       "\\item 'TV-Y7'\n",
       "\\item 'G'\n",
       "\\item ''\n",
       "\\item 'G'\n",
       "\\item 'TV-MA'\n",
       "\\item ''\n",
       "\\item 'PG-13'\n",
       "\\item 'G'\n",
       "\\item 'TV-MA'\n",
       "\\item ''\n",
       "\\item 'R'\n",
       "\\item 'R'\n",
       "\\item 'PG-13'\n",
       "\\item ''\n",
       "\\item ''\n",
       "\\item ''\n",
       "\\item 'TV-MA'\n",
       "\\item ''\n",
       "\\item ''\n",
       "\\item ''\n",
       "\\item ''\n",
       "\\item ''\n",
       "\\item 'G'\n",
       "\\item ''\n",
       "\\item ''\n",
       "\\item 'G'\n",
       "\\item ''\n",
       "\\item ''\n",
       "\\item 'G'\n",
       "\\item 'PG'\n",
       "\\item 'PG-13'\n",
       "\\item ''\n",
       "\\item ''\n",
       "\\item 'PG-13'\n",
       "\\item ''\n",
       "\\item ''\n",
       "\\item 'PG'\n",
       "\\item 'NC-17'\n",
       "\\item 'PG-13'\n",
       "\\item ...\n",
       "\\item ''\n",
       "\\item ''\n",
       "\\item ''\n",
       "\\item ''\n",
       "\\item ''\n",
       "\\item ''\n",
       "\\item 'TV-14'\n",
       "\\item 'TV-MA'\n",
       "\\item ''\n",
       "\\item ''\n",
       "\\item ''\n",
       "\\item ''\n",
       "\\item ''\n",
       "\\item ''\n",
       "\\item ''\n",
       "\\item 'R'\n",
       "\\item 'TV-MA'\n",
       "\\item 'TV-Y'\n",
       "\\item ''\n",
       "\\item ''\n",
       "\\item 'TV-14'\n",
       "\\item ''\n",
       "\\item 'R'\n",
       "\\item ''\n",
       "\\item ''\n",
       "\\item 'TV-14'\n",
       "\\item ''\n",
       "\\item ''\n",
       "\\item ''\n",
       "\\item 'TV-MA'\n",
       "\\item ''\n",
       "\\item ''\n",
       "\\item ''\n",
       "\\item 'TV-MA'\n",
       "\\item ''\n",
       "\\item ''\n",
       "\\item 'TV-PG'\n",
       "\\item ''\n",
       "\\item 'PG'\n",
       "\\item 'TV-14'\n",
       "\\item ''\n",
       "\\item ''\n",
       "\\item 'R'\n",
       "\\item 'TV-MA'\n",
       "\\item 'R'\n",
       "\\item 'TV-PG'\n",
       "\\item ''\n",
       "\\item ''\n",
       "\\item ''\n",
       "\\item 'TV-PG'\n",
       "\\item 'TV-PG'\n",
       "\\item ''\n",
       "\\item ''\n",
       "\\item 'R'\n",
       "\\item ''\n",
       "\\item ''\n",
       "\\item 'PG-13'\n",
       "\\item 'TV-14'\n",
       "\\item ''\n",
       "\\item ''\n",
       "\\item 'TV-14'\n",
       "\\item ''\n",
       "\\item ''\n",
       "\\item ''\n",
       "\\item ''\n",
       "\\item ''\n",
       "\\item 'TV-MA'\n",
       "\\item 'R'\n",
       "\\item ''\n",
       "\\item 'G'\n",
       "\\item ''\n",
       "\\item 'TV-PG'\n",
       "\\item ''\n",
       "\\item ''\n",
       "\\item ''\n",
       "\\item ''\n",
       "\\item ''\n",
       "\\item ''\n",
       "\\item ''\n",
       "\\item ''\n",
       "\\item ''\n",
       "\\item ''\n",
       "\\item ''\n",
       "\\item 'TV-MA'\n",
       "\\item ''\n",
       "\\item 'TV-MA'\n",
       "\\item 'PG'\n",
       "\\item ''\n",
       "\\item 'TV-PG'\n",
       "\\item ''\n",
       "\\item ''\n",
       "\\item ''\n",
       "\\item ''\n",
       "\\item 'TV-MA'\n",
       "\\item 'G'\n",
       "\\item ''\n",
       "\\item ''\n",
       "\\item 'R'\n",
       "\\item ''\n",
       "\\item ''\n",
       "\\item ''\n",
       "\\item ''\n",
       "\\item ''\n",
       "\\item ''\n",
       "\\item ''\n",
       "\\item 'TV-PG'\n",
       "\\item ''\n",
       "\\item 'TV-14'\n",
       "\\item 'R'\n",
       "\\item ''\n",
       "\\item 'TV-MA'\n",
       "\\item ''\n",
       "\\item ''\n",
       "\\item 'PG-13'\n",
       "\\item ''\n",
       "\\item ''\n",
       "\\item ''\n",
       "\\item 'PG'\n",
       "\\item ''\n",
       "\\item ''\n",
       "\\item ''\n",
       "\\item ''\n",
       "\\item ''\n",
       "\\item ''\n",
       "\\item ''\n",
       "\\item ''\n",
       "\\item 'TV-14'\n",
       "\\item ''\n",
       "\\item 'TV-MA'\n",
       "\\item ''\n",
       "\\item ''\n",
       "\\item ''\n",
       "\\item ''\n",
       "\\item ''\n",
       "\\item 'TV-MA'\n",
       "\\item 'TV-MA'\n",
       "\\item ''\n",
       "\\item ''\n",
       "\\item ''\n",
       "\\item 'R'\n",
       "\\item 'PG'\n",
       "\\item ''\n",
       "\\item ''\n",
       "\\item ''\n",
       "\\item ''\n",
       "\\item ''\n",
       "\\item ''\n",
       "\\item ''\n",
       "\\item 'R'\n",
       "\\item ''\n",
       "\\item 'R'\n",
       "\\item 'TV-14'\n",
       "\\item ''\n",
       "\\item ''\n",
       "\\item ''\n",
       "\\item ''\n",
       "\\item ''\n",
       "\\item ''\n",
       "\\item ''\n",
       "\\item ''\n",
       "\\item ''\n",
       "\\item ''\n",
       "\\item ''\n",
       "\\item ''\n",
       "\\item ''\n",
       "\\item ''\n",
       "\\item ''\n",
       "\\item ''\n",
       "\\item ''\n",
       "\\item 'TV-MA'\n",
       "\\item ''\n",
       "\\item ''\n",
       "\\item ''\n",
       "\\item ''\n",
       "\\item ''\n",
       "\\item ''\n",
       "\\item ''\n",
       "\\item ''\n",
       "\\item ''\n",
       "\\item ''\n",
       "\\item 'TV-14'\n",
       "\\item 'TV-MA'\n",
       "\\item ''\n",
       "\\item 'TV-14'\n",
       "\\item ''\n",
       "\\item ''\n",
       "\\item ''\n",
       "\\item ''\n",
       "\\item ''\n",
       "\\item ''\n",
       "\\item ''\n",
       "\\item ''\n",
       "\\item ''\n",
       "\\item ''\n",
       "\\item ''\n",
       "\\item ''\n",
       "\\item ''\n",
       "\\item ''\n",
       "\\item 'PG-13'\n",
       "\\item ''\n",
       "\\end{enumerate*}\n"
      ],
      "text/markdown": [
       "1. 'TV-MA'\n",
       "2. 'R'\n",
       "3. 'R'\n",
       "4. 'PG'\n",
       "5. ''\n",
       "6. 'TV-14'\n",
       "7. 'R'\n",
       "8. 'R'\n",
       "9. 'R'\n",
       "10. 'R'\n",
       "11. ''\n",
       "12. 'PG-13'\n",
       "13. 'R'\n",
       "14. ''\n",
       "15. ''\n",
       "16. 'PG'\n",
       "17. 'R'\n",
       "18. ''\n",
       "19. ''\n",
       "20. ''\n",
       "21. ''\n",
       "22. ''\n",
       "23. ''\n",
       "24. ''\n",
       "25. ''\n",
       "26. ''\n",
       "27. 'TV-MA'\n",
       "28. ''\n",
       "29. ''\n",
       "30. ''\n",
       "31. ''\n",
       "32. ''\n",
       "33. ''\n",
       "34. ''\n",
       "35. ''\n",
       "36. 'TV-PG'\n",
       "37. 'R'\n",
       "38. 'R'\n",
       "39. 'R'\n",
       "40. 'R'\n",
       "41. 'R'\n",
       "42. 'PG'\n",
       "43. 'R'\n",
       "44. 'R'\n",
       "45. 'TV-PG'\n",
       "46. 'TV-Y'\n",
       "47. 'TV-G'\n",
       "48. 'PG-13'\n",
       "49. 'TV-G'\n",
       "50. 'PG-13'\n",
       "51. 'PG-13'\n",
       "52. 'R'\n",
       "53. 'R'\n",
       "54. 'TV-PG'\n",
       "55. 'R'\n",
       "56. 'TV-Y'\n",
       "57. ''\n",
       "58. ''\n",
       "59. ''\n",
       "60. 'TV-Y'\n",
       "61. 'R'\n",
       "62. ''\n",
       "63. ''\n",
       "64. ''\n",
       "65. 'R'\n",
       "66. ''\n",
       "67. ''\n",
       "68. ''\n",
       "69. ''\n",
       "70. ''\n",
       "71. ''\n",
       "72. ''\n",
       "73. ''\n",
       "74. ''\n",
       "75. ''\n",
       "76. 'R'\n",
       "77. ''\n",
       "78. ''\n",
       "79. ''\n",
       "80. ''\n",
       "81. ''\n",
       "82. ''\n",
       "83. ''\n",
       "84. 'TV-PG'\n",
       "85. ''\n",
       "86. ''\n",
       "87. ''\n",
       "88. ''\n",
       "89. ''\n",
       "90. ''\n",
       "91. ''\n",
       "92. 'TV-PG'\n",
       "93. 'PG-13'\n",
       "94. 'TV-PG'\n",
       "95. 'R'\n",
       "96. 'TV-Y7'\n",
       "97. 'R'\n",
       "98. 'PG-13'\n",
       "99. 'R'\n",
       "100. 'R'\n",
       "101. 'TV-14'\n",
       "102. 'TV-14'\n",
       "103. 'PG-13'\n",
       "104. 'TV-14'\n",
       "105. 'R'\n",
       "106. 'PG-13'\n",
       "107. 'PG-13'\n",
       "108. 'TV-14'\n",
       "109. 'PG-13'\n",
       "110. 'R'\n",
       "111. 'TV-14'\n",
       "112. 'R'\n",
       "113. 'R'\n",
       "114. 'PG'\n",
       "115. 'TV-Y7'\n",
       "116. 'PG-13'\n",
       "117. 'R'\n",
       "118. 'TV-Y'\n",
       "119. 'R'\n",
       "120. 'TV-Y'\n",
       "121. 'TV-PG'\n",
       "122. 'TV-14'\n",
       "123. 'PG'\n",
       "124. 'R'\n",
       "125. 'PG-13'\n",
       "126. 'TV-G'\n",
       "127. 'PG'\n",
       "128. 'PG-13'\n",
       "129. 'R'\n",
       "130. ''\n",
       "131. 'PG'\n",
       "132. 'R'\n",
       "133. 'PG'\n",
       "134. 'PG-13'\n",
       "135. 'TV-G'\n",
       "136. 'PG-13'\n",
       "137. 'TV-Y7'\n",
       "138. 'PG-13'\n",
       "139. 'PG-13'\n",
       "140. 'PG-13'\n",
       "141. 'R'\n",
       "142. 'R'\n",
       "143. 'R'\n",
       "144. 'PG'\n",
       "145. 'R'\n",
       "146. 'TV-G'\n",
       "147. 'R'\n",
       "148. 'TV-Y7'\n",
       "149. 'PG-13'\n",
       "150. 'TV-Y7'\n",
       "151. 'R'\n",
       "152. 'TV-PG'\n",
       "153. 'PG'\n",
       "154. 'PG-13'\n",
       "155. 'R'\n",
       "156. 'R'\n",
       "157. 'R'\n",
       "158. 'TV-PG'\n",
       "159. 'TV-PG'\n",
       "160. 'TV-PG'\n",
       "161. 'TV-MA'\n",
       "162. 'TV-Y7'\n",
       "163. 'G'\n",
       "164. ''\n",
       "165. 'G'\n",
       "166. 'TV-MA'\n",
       "167. ''\n",
       "168. 'PG-13'\n",
       "169. 'G'\n",
       "170. 'TV-MA'\n",
       "171. ''\n",
       "172. 'R'\n",
       "173. 'R'\n",
       "174. 'PG-13'\n",
       "175. ''\n",
       "176. ''\n",
       "177. ''\n",
       "178. 'TV-MA'\n",
       "179. ''\n",
       "180. ''\n",
       "181. ''\n",
       "182. ''\n",
       "183. ''\n",
       "184. 'G'\n",
       "185. ''\n",
       "186. ''\n",
       "187. 'G'\n",
       "188. ''\n",
       "189. ''\n",
       "190. 'G'\n",
       "191. 'PG'\n",
       "192. 'PG-13'\n",
       "193. ''\n",
       "194. ''\n",
       "195. 'PG-13'\n",
       "196. ''\n",
       "197. ''\n",
       "198. 'PG'\n",
       "199. 'NC-17'\n",
       "200. 'PG-13'\n",
       "201. ...\n",
       "202. ''\n",
       "203. ''\n",
       "204. ''\n",
       "205. ''\n",
       "206. ''\n",
       "207. ''\n",
       "208. 'TV-14'\n",
       "209. 'TV-MA'\n",
       "210. ''\n",
       "211. ''\n",
       "212. ''\n",
       "213. ''\n",
       "214. ''\n",
       "215. ''\n",
       "216. ''\n",
       "217. 'R'\n",
       "218. 'TV-MA'\n",
       "219. 'TV-Y'\n",
       "220. ''\n",
       "221. ''\n",
       "222. 'TV-14'\n",
       "223. ''\n",
       "224. 'R'\n",
       "225. ''\n",
       "226. ''\n",
       "227. 'TV-14'\n",
       "228. ''\n",
       "229. ''\n",
       "230. ''\n",
       "231. 'TV-MA'\n",
       "232. ''\n",
       "233. ''\n",
       "234. ''\n",
       "235. 'TV-MA'\n",
       "236. ''\n",
       "237. ''\n",
       "238. 'TV-PG'\n",
       "239. ''\n",
       "240. 'PG'\n",
       "241. 'TV-14'\n",
       "242. ''\n",
       "243. ''\n",
       "244. 'R'\n",
       "245. 'TV-MA'\n",
       "246. 'R'\n",
       "247. 'TV-PG'\n",
       "248. ''\n",
       "249. ''\n",
       "250. ''\n",
       "251. 'TV-PG'\n",
       "252. 'TV-PG'\n",
       "253. ''\n",
       "254. ''\n",
       "255. 'R'\n",
       "256. ''\n",
       "257. ''\n",
       "258. 'PG-13'\n",
       "259. 'TV-14'\n",
       "260. ''\n",
       "261. ''\n",
       "262. 'TV-14'\n",
       "263. ''\n",
       "264. ''\n",
       "265. ''\n",
       "266. ''\n",
       "267. ''\n",
       "268. 'TV-MA'\n",
       "269. 'R'\n",
       "270. ''\n",
       "271. 'G'\n",
       "272. ''\n",
       "273. 'TV-PG'\n",
       "274. ''\n",
       "275. ''\n",
       "276. ''\n",
       "277. ''\n",
       "278. ''\n",
       "279. ''\n",
       "280. ''\n",
       "281. ''\n",
       "282. ''\n",
       "283. ''\n",
       "284. ''\n",
       "285. 'TV-MA'\n",
       "286. ''\n",
       "287. 'TV-MA'\n",
       "288. 'PG'\n",
       "289. ''\n",
       "290. 'TV-PG'\n",
       "291. ''\n",
       "292. ''\n",
       "293. ''\n",
       "294. ''\n",
       "295. 'TV-MA'\n",
       "296. 'G'\n",
       "297. ''\n",
       "298. ''\n",
       "299. 'R'\n",
       "300. ''\n",
       "301. ''\n",
       "302. ''\n",
       "303. ''\n",
       "304. ''\n",
       "305. ''\n",
       "306. ''\n",
       "307. 'TV-PG'\n",
       "308. ''\n",
       "309. 'TV-14'\n",
       "310. 'R'\n",
       "311. ''\n",
       "312. 'TV-MA'\n",
       "313. ''\n",
       "314. ''\n",
       "315. 'PG-13'\n",
       "316. ''\n",
       "317. ''\n",
       "318. ''\n",
       "319. 'PG'\n",
       "320. ''\n",
       "321. ''\n",
       "322. ''\n",
       "323. ''\n",
       "324. ''\n",
       "325. ''\n",
       "326. ''\n",
       "327. ''\n",
       "328. 'TV-14'\n",
       "329. ''\n",
       "330. 'TV-MA'\n",
       "331. ''\n",
       "332. ''\n",
       "333. ''\n",
       "334. ''\n",
       "335. ''\n",
       "336. 'TV-MA'\n",
       "337. 'TV-MA'\n",
       "338. ''\n",
       "339. ''\n",
       "340. ''\n",
       "341. 'R'\n",
       "342. 'PG'\n",
       "343. ''\n",
       "344. ''\n",
       "345. ''\n",
       "346. ''\n",
       "347. ''\n",
       "348. ''\n",
       "349. ''\n",
       "350. 'R'\n",
       "351. ''\n",
       "352. 'R'\n",
       "353. 'TV-14'\n",
       "354. ''\n",
       "355. ''\n",
       "356. ''\n",
       "357. ''\n",
       "358. ''\n",
       "359. ''\n",
       "360. ''\n",
       "361. ''\n",
       "362. ''\n",
       "363. ''\n",
       "364. ''\n",
       "365. ''\n",
       "366. ''\n",
       "367. ''\n",
       "368. ''\n",
       "369. ''\n",
       "370. ''\n",
       "371. 'TV-MA'\n",
       "372. ''\n",
       "373. ''\n",
       "374. ''\n",
       "375. ''\n",
       "376. ''\n",
       "377. ''\n",
       "378. ''\n",
       "379. ''\n",
       "380. ''\n",
       "381. ''\n",
       "382. 'TV-14'\n",
       "383. 'TV-MA'\n",
       "384. ''\n",
       "385. 'TV-14'\n",
       "386. ''\n",
       "387. ''\n",
       "388. ''\n",
       "389. ''\n",
       "390. ''\n",
       "391. ''\n",
       "392. ''\n",
       "393. ''\n",
       "394. ''\n",
       "395. ''\n",
       "396. ''\n",
       "397. ''\n",
       "398. ''\n",
       "399. ''\n",
       "400. 'PG-13'\n",
       "401. ''\n",
       "\n",
       "\n"
      ],
      "text/plain": [
       "   [1] \"TV-MA\" \"R\"     \"R\"     \"PG\"    \"\"      \"TV-14\" \"R\"     \"R\"     \"R\"    \n",
       "  [10] \"R\"     \"\"      \"PG-13\" \"R\"     \"\"      \"\"      \"PG\"    \"R\"     \"\"     \n",
       "  [19] \"\"      \"\"      \"\"      \"\"      \"\"      \"\"      \"\"      \"\"      \"TV-MA\"\n",
       "  [28] \"\"      \"\"      \"\"      \"\"      \"\"      \"\"      \"\"      \"\"      \"TV-PG\"\n",
       "  [37] \"R\"     \"R\"     \"R\"     \"R\"     \"R\"     \"PG\"    \"R\"     \"R\"     \"TV-PG\"\n",
       "  [46] \"TV-Y\"  \"TV-G\"  \"PG-13\" \"TV-G\"  \"PG-13\" \"PG-13\" \"R\"     \"R\"     \"TV-PG\"\n",
       "  [55] \"R\"     \"TV-Y\"  \"\"      \"\"      \"\"      \"TV-Y\"  \"R\"     \"\"      \"\"     \n",
       "  [64] \"\"      \"R\"     \"\"      \"\"      \"\"      \"\"      \"\"      \"\"      \"\"     \n",
       "  [73] \"\"      \"\"      \"\"      \"R\"     \"\"      \"\"      \"\"      \"\"      \"\"     \n",
       "  [82] \"\"      \"\"      \"TV-PG\" \"\"      \"\"      \"\"      \"\"      \"\"      \"\"     \n",
       "  [91] \"\"      \"TV-PG\" \"PG-13\" \"TV-PG\" \"R\"     \"TV-Y7\" \"R\"     \"PG-13\" \"R\"    \n",
       " [100] \"R\"     \"TV-14\" \"TV-14\" \"PG-13\" \"TV-14\" \"R\"     \"PG-13\" \"PG-13\" \"TV-14\"\n",
       " [109] \"PG-13\" \"R\"     \"TV-14\" \"R\"     \"R\"     \"PG\"    \"TV-Y7\" \"PG-13\" \"R\"    \n",
       " [118] \"TV-Y\"  \"R\"     \"TV-Y\"  \"TV-PG\" \"TV-14\" \"PG\"    \"R\"     \"PG-13\" \"TV-G\" \n",
       " [127] \"PG\"    \"PG-13\" \"R\"     \"\"      \"PG\"    \"R\"     \"PG\"    \"PG-13\" \"TV-G\" \n",
       " [136] \"PG-13\" \"TV-Y7\" \"PG-13\" \"PG-13\" \"PG-13\" \"R\"     \"R\"     \"R\"     \"PG\"   \n",
       " [145] \"R\"     \"TV-G\"  \"R\"     \"TV-Y7\" \"PG-13\" \"TV-Y7\" \"R\"     \"TV-PG\" \"PG\"   \n",
       " [154] \"PG-13\" \"R\"     \"R\"     \"R\"     \"TV-PG\" \"TV-PG\" \"TV-PG\" \"TV-MA\" \"TV-Y7\"\n",
       " [163] \"G\"     \"\"      \"G\"     \"TV-MA\" \"\"      \"PG-13\" \"G\"     \"TV-MA\" \"\"     \n",
       " [172] \"R\"     \"R\"     \"PG-13\" \"\"      \"\"      \"\"      \"TV-MA\" \"\"      \"\"     \n",
       " [181] \"\"      \"\"      \"\"      \"G\"     \"\"      \"\"      \"G\"     \"\"      \"\"     \n",
       " [190] \"G\"     \"PG\"    \"PG-13\" \"\"      \"\"      \"PG-13\" \"\"      \"\"      \"PG\"   \n",
       " [199] \"NC-17\" \"PG-13\" \"\"      \"\"      \"\"      \"\"      \"PG-13\" \"\"      \"\"     \n",
       " [208] \"\"      \"\"      \"\"      \"\"      \"\"      \"\"      \"\"      \"\"      \"\"     \n",
       " [217] \"TV-MA\" \"TV-PG\" \"TV-MA\" \"TV-14\" \"R\"     \"PG-13\" \"TV-PG\" \"TV-14\" \"TV-MA\"\n",
       " [226] \"TV-PG\" \"PG-13\" \"TV-14\" \"TV-MA\" \"TV-PG\" \"TV-MA\" \"R\"     \"TV-14\" \"TV-Y7\"\n",
       " [235] \"PG-13\" \"TV-14\" \"TV-14\" \"PG-13\" \"TV-Y7\" \"R\"     \"TV-G\"  \"PG-13\" \"PG-13\"\n",
       " [244] \"TV-14\" \"TV-14\" \"TV-PG\" \"R\"     \"\"      \"TV-Y7\" \"R\"     \"TV-14\" \"PG-13\"\n",
       " [253] \"R\"     \"R\"     \"TV-G\"  \"PG-13\" \"R\"     \"R\"     \"PG-13\" \"TV-MA\" \"R\"    \n",
       " [262] \"TV-14\" \"PG-13\" \"PG-13\" \"PG-13\" \"R\"     \"R\"     \"PG-13\" \"TV-Y7\" \"PG-13\"\n",
       " [271] \"\"      \"TV-G\"  \"R\"     \"R\"     \"R\"     \"R\"     \"PG-13\" \"TV-G\"  \"PG-13\"\n",
       " [280] \"R\"     \"R\"     \"PG-13\" \"R\"     \"R\"     \"TV-PG\" \"TV-Y7\" \"PG\"    \"TV-14\"\n",
       " [289] \"\"      \"R\"     \"TV-14\" \"R\"     \"R\"     \"PG\"    \"R\"     \"R\"     \"R\"    \n",
       " [298] \"PG-13\" \"R\"     \"PG-13\" \"R\"     \"TV-14\" \"R\"     \"TV-MA\" \"R\"     \"TV-G\" \n",
       " [307] \"PG-13\" \"PG-13\" \"TV-Y\"  \"TV-Y7\" \"PG-13\" \"R\"     \"PG-13\" \"G\"     \"PG-13\"\n",
       " [316] \"PG-13\" \"PG-13\" \"PG-13\" \"TV-PG\" \"R\"     \"TV-14\" \"PG\"    \"R\"     \"R\"    \n",
       " [325] \"TV-MA\" \"PG\"    \"R\"     \"R\"     \"PG-13\" \"TV-14\" \"R\"     \"TV-Y\"  \"TV-G\" \n",
       " [334] \"R\"     \"TV-14\" \"TV-G\"  \"PG\"    \"\"      \"PG-13\" \"R\"     \"PG-13\" \"PG-13\"\n",
       " [343] \"PG\"    \"PG-13\" \"R\"     \"PG-13\" \"TV-MA\" \"PG\"    \"TV-G\"  \"TV-PG\" \"\"     \n",
       " [352] \"G\"     \"R\"     \"R\"     \"PG-13\" \"R\"     \"PG\"    \"\"      \"PG-13\" \"R\"    \n",
       " [361] \"TV-MA\" \"R\"     \"R\"     \"TV-14\" \"TV-Y\"  \"\"      \"TV-14\" \"TV-Y7\" \"PG\"   \n",
       " [370] \"PG-13\" \"TV-14\" \"TV-14\" \"PG\"    \"PG-13\" \"G\"     \"TV-G\"  \"TV-G\"  \"PG-13\"\n",
       " [379] \"TV-G\"  \"TV-PG\" \"PG\"    \"TV-14\" \"TV-MA\" \"PG\"    \"\"      \"\"      \"TV-Y7\"\n",
       " [388] \"PG\"    \"\"      \"PG-13\" \"\"      \"PG\"    \"PG-13\" \"R\"     \"R\"     \"\"     \n",
       " [397] \"R\"     \"TV-Y7\" \"\"      \"\"      \"\"      \"\"      \"R\"     \"PG\"    \"R\"    \n",
       " [406] \"TV-14\" \"G\"     \"PG\"    \"PG-13\" \"R\"     \"R\"     \"TV-PG\" \"PG-13\" \"\"     \n",
       " [415] \"\"      \"\"      \"PG-13\" \"TV-14\" \"PG-13\" \"G\"     \"PG-13\" \"\"      \"G\"    \n",
       " [424] \"PG-13\" \"TV-14\" \"TV-MA\" \"TV-Y\"  \"TV-14\" \"PG-13\" \"\"      \"\"      \"\"     \n",
       " [433] \"\"      \"TV-Y\"  \"G\"     \"\"      \"TV-14\" \"\"      \"\"      \"PG-13\" \"PG-13\"\n",
       " [442] \"R\"     \"\"      \"PG-13\" \"\"      \"\"      \"TV-G\"  \"R\"     \"PG-13\" \"PG-13\"\n",
       " [451] \"PG-13\" \"G\"     \"PG-13\" \"PG-13\" \"\"      \"TV-PG\" \"TV-Y\"  \"\"      \"PG\"   \n",
       " [460] \"\"      \"R\"     \"\"      \"PG-13\" \"PG-13\" \"PG-13\" \"PG-13\" \"TV-G\"  \"PG-13\"\n",
       " [469] \"PG\"    \"TV-PG\" \"PG\"    \"\"      \"\"      \"R\"     \"PG-13\" \"PG-13\" \"PG-13\"\n",
       " [478] \"\"      \"PG\"    \"TV-14\" \"TV-MA\" \"\"      \"PG-13\" \"\"      \"PG\"    \"\"     \n",
       " [487] \"PG-13\" \"R\"     \"\"      \"TV-MA\" \"TV-PG\" \"PG\"    \"PG\"    \"PG\"    \"PG-13\"\n",
       " [496] \"\"      \"PG-13\" \"PG-13\" \"\"      \"PG-13\" \"\"      \"\"      \"\"      \"\"     \n",
       " [505] \"\"      \"PG-13\" \"PG-13\" \"R\"     \"\"      \"PG-13\" \"TV-G\"  \"PG-13\" \"PG\"   \n",
       " [514] \"PG-13\" \"TV-14\" \"TV-14\" \"G\"     \"R\"     \"TV-MA\" \"PG-13\" \"\"      \"PG-13\"\n",
       " [523] \"PG\"    \"PG\"    \"\"      \"\"      \"PG-13\" \"\"      \"\"      \"TV-14\" \"PG-13\"\n",
       " [532] \"\"      \"\"      \"\"      \"\"      \"TV-14\" \"PG-13\" \"\"      \"PG-13\" \"G\"    \n",
       " [541] \"\"      \"\"      \"\"      \"\"      \"\"      \"\"      \"\"      \"\"      \"R\"    \n",
       " [550] \"\"      \"PG\"    \"\"      \"TV-MA\" \"G\"     \"G\"     \"TV-14\" \"TV-MA\" \"TV-Y\" \n",
       " [559] \"\"      \"\"      \"PG\"    \"PG\"    \"PG\"    \"\"      \"TV-14\" \"\"      \"PG\"   \n",
       " [568] \"\"      \"G\"     \"\"      \"\"      \"\"      \"\"      \"\"      \"\"      \"TV-MA\"\n",
       " [577] \"\"      \"TV-14\" \"G\"     \"\"      \"\"      \"\"      \"\"      \"NC-17\" \"TV-14\"\n",
       " [586] \"G\"     \"\"      \"\"      \"\"      \"TV-14\" \"\"      \"\"      \"TV-14\" \"\"     \n",
       " [595] \"\"      \"\"      \"TV-14\" \"PG-13\" \"\"      \"TV-14\" \"\"      \"\"      \"TV-14\"\n",
       " [604] \"\"      \"\"      \"\"      \"\"      \"\"      \"\"      \"TV-14\" \"\"      \"\"     \n",
       " [613] \"\"      \"G\"     \"PG\"    \"G\"     \"\"      \"PG\"    \"TV-PG\" \"\"      \"\"     \n",
       " [622] \"\"      \"TV-14\" \"\"      \"TV-MA\" \"PG\"    \"PG\"    \"G\"     \"\"      \"\"     \n",
       " [631] \"\"      \"\"      \"TV-MA\" \"G\"     \"TV-14\" \"\"      \"\"      \"\"      \"\"     \n",
       " [640] \"\"      \"TV-MA\" \"R\"     \"R\"     \"PG-13\" \"TV-Y7\" \"PG-13\" \"PG-13\" \"TV-14\"\n",
       " [649] \"TV-PG\" \"TV-MA\" \"R\"     \"R\"     \"TV-14\" \"TV-14\" \"TV-14\" \"PG-13\" \"R\"    \n",
       " [658] \"TV-14\" \"TV-MA\" \"PG\"    \"PG-13\" \"TV-14\" \"TV-Y7\" \"TV-MA\" \"TV-Y7\" \"PG-13\"\n",
       " [667] \"R\"     \"R\"     \"TV-MA\" \"TV-14\" \"TV-MA\" \"PG-13\" \"PG-13\" \"TV-Y7\" \"TV-MA\"\n",
       " [676] \"PG\"    \"PG\"    \"PG-13\" \"PG-13\" \"PG\"    \"TV-14\" \"PG\"    \"NC-17\" \"TV-14\"\n",
       " [685] \"TV-14\" \"TV-14\" \"TV-14\" \"PG-13\" \"R\"     \"\"      \"TV-MA\" \"TV-G\"  \"TV-PG\"\n",
       " [694] \"\"      \"TV-14\" \"TV-14\" \"TV-Y\"  \"TV-14\" \"R\"     \"PG-13\" \"PG-13\" \"PG\"   \n",
       " [703] \"\"      \"TV-14\" \"PG\"    \"PG-13\" \"\"      \"R\"     \"PG\"    \"TV-MA\" \"PG-13\"\n",
       " [712] \"TV-14\" \"PG-13\" \"\"      \"\"      \"TV-14\" \"TV-Y7\" \"\"      \"TV-MA\" \"TV-Y\" \n",
       " [721] \"R\"     \"PG\"    \"TV-Y\"  \"\"      \"G\"     \"\"      \"TV-Y\"  \"TV-14\" \"PG\"   \n",
       " [730] \"R\"     \"\"      \"TV-G\"  \"TV-PG\" \"\"      \"PG-13\" \"G\"     \"R\"     \"\"     \n",
       " [739] \"PG-13\" \"\"      \"\"      \"\"      \"\"      \"\"      \"G\"     \"PG\"    \"R\"    \n",
       " [748] \"PG\"    \"PG\"    \"\"      \"PG-13\" \"TV-MA\" \"G\"     \"\"      \"\"      \"\"     \n",
       " [757] \"G\"     \"\"      \"PG-13\" \"TV-Y\"  \"G\"     \"PG\"    \"TV-PG\" \"TV-MA\" \"\"     \n",
       " [766] \"TV-PG\" \"\"      \"PG-13\" \"G\"     \"\"      \"PG\"    \"\"      \"\"      \"PG\"   \n",
       " [775] \"\"      \"\"      \"R\"     \"\"      \"\"      \"G\"     \"TV-14\" \"PG\"    \"PG-13\"\n",
       " [784] \"TV-PG\" \"\"      \"\"      \"PG-13\" \"\"      \"\"      \"NC-17\" \"PG-13\" \"G\"    \n",
       " [793] \"G\"     \"G\"     \"TV-14\" \"\"      \"PG-13\" \"PG\"    \"\"      \"PG\"    \"PG-13\"\n",
       " [802] \"R\"     \"TV-Y\"  \"\"      \"TV-14\" \"\"      \"G\"     \"\"      \"G\"     \"\"     \n",
       " [811] \"\"      \"\"      \"\"      \"\"      \"PG-13\" \"G\"     \"\"      \"\"      \"\"     \n",
       " [820] \"\"      \"PG\"    \"PG\"    \"\"      \"\"      \"\"      \"G\"     \"\"      \"TV-14\"\n",
       " [829] \"\"      \"TV-14\" \"TV-Y\"  \"\"      \"\"      \"TV-MA\" \"TV-MA\" \"TV-MA\" \"TV-14\"\n",
       " [838] \"TV-14\" \"TV-PG\" \"TV-14\" \"PG\"    \"TV-14\" \"R\"     \"PG-13\" \"TV-14\" \"R\"    \n",
       " [847] \"R\"     \"TV-14\" \"PG-13\" \"R\"     \"TV-14\" \"PG\"    \"R\"     \"TV-MA\" \"PG-13\"\n",
       " [856] \"R\"     \"TV-14\" \"TV-MA\" \"PG-13\" \"R\"     \"TV-14\" \"PG-13\" \"PG-13\" \"TV-14\"\n",
       " [865] \"TV-G\"  \"PG-13\" \"R\"     \"PG-13\" \"TV-MA\" \"PG-13\" \"TV-G\"  \"TV-MA\" \"PG-13\"\n",
       " [874] \"TV-14\" \"R\"     \"R\"     \"PG\"    \"TV-MA\" \"R\"     \"R\"     \"PG-13\" \"TV-14\"\n",
       " [883] \"TV-Y\"  \"PG-13\" \"R\"     \"PG-13\" \"TV-14\" \"PG-13\" \"TV-G\"  \"R\"     \"PG\"   \n",
       " [892] \"R\"     \"TV-MA\" \"TV-14\" \"PG\"    \"TV-14\" \"R\"     \"TV-MA\" \"PG-13\" \"R\"    \n",
       " [901] \"TV-14\" \"TV-PG\" \"PG-13\" \"TV-Y\"  \"TV-14\" \"TV-MA\" \"TV-Y7\" \"\"      \"TV-PG\"\n",
       " [910] \"TV-14\" \"TV-14\" \"R\"     \"TV-G\"  \"R\"     \"\"      \"PG\"    \"PG-13\" \"TV-G\" \n",
       " [919] \"R\"     \"PG-13\" \"TV-Y\"  \"\"      \"\"      \"PG-13\" \"\"      \"\"      \"TV-G\" \n",
       " [928] \"TV-14\" \"R\"     \"PG-13\" \"TV-G\"  \"TV-G\"  \"\"      \"PG-13\" \"TV-14\" \"\"     \n",
       " [937] \"PG-13\" \"PG-13\" \"R\"     \"TV-Y7\" \"PG\"    \"TV-14\" \"TV-Y7\" \"\"      \"TV-MA\"\n",
       " [946] \"TV-Y\"  \"PG-13\" \"\"      \"\"      \"R\"     \"R\"     \"TV-G\"  \"TV-Y7\" \"TV-G\" \n",
       " [955] \"G\"     \"TV-MA\" \"NC-17\" \"\"      \"PG\"    \"\"      \"TV-PG\" \"\"      \"TV-Y7\"\n",
       " [964] \"PG\"    \"PG-13\" \"G\"     \"\"      \"TV-MA\" \"\"      \"\"      \"PG-13\" \"\"     \n",
       " [973] \"PG-13\" \"PG\"    \"\"      \"TV-14\" \"PG\"    \"\"      \"\"      \"\"      \"\"     \n",
       " [982] \"R\"     \"TV-G\"  \"\"      \"\"      \"PG-13\" \"TV-MA\" \"\"      \"TV-MA\" \"\"     \n",
       " [991] \"R\"     \"\"      \"PG-13\" \"PG-13\" \"TV-14\" \"TV-Y\"  \"\"      \"\"      \"\"     \n",
       "[1000] \"PG-13\" \"\"      \"PG\"    \"\"      \"PG\"    \"TV-PG\" \"\"      \"\"      \"\"     \n",
       "[1009] \"\"      \"PG-13\" \"PG\"    \"PG-13\" \"PG\"    \"PG-13\" \"\"      \"\"      \"\"     \n",
       "[1018] \"PG\"    \"\"      \"\"      \"PG-13\" \"\"      \"\"      \"\"      \"\"      \"PG-13\"\n",
       "[1027] \"\"      \"\"      \"\"      \"PG-13\" \"\"      \"\"      \"\"      \"\"      \"PG\"   \n",
       "[1036] \"\"      \"TV-PG\" \"\"      \"\"      \"\"      \"\"      \"PG\"    \"PG-13\" \"\"     \n",
       "[1045] \"TV-14\" \"\"      \"R\"     \"R\"     \"\"      \"G\"     \"\"      \"R\"     \"\"     \n",
       "[1054] \"PG-13\" \"\"      \"PG-13\" \"R\"     \"\"      \"\"      \"\"      \"PG\"    \"\"     \n",
       "[1063] \"\"      \"\"      \"\"      \"PG\"    \"\"      \"G\"     \"\"      \"\"      \"\"     \n",
       "[1072] \"PG-13\" \"TV-14\" \"\"      \"\"      \"\"      \"\"      \"\"      \"TV-14\" \"\"     \n",
       "[1081] \"\"      \"G\"     \"\"      \"R\"     \"G\"     \"\"      \"\"      \"\"      \"\"     \n",
       "[1090] \"\"      \"\"      \"\"      \"G\"     \"\"      \"G\"     \"PG-13\" \"G\"     \"\"     \n",
       "[1099] \"\"      \"\"      \"\"      \"\"      \"\"      \"\"      \"G\"     \"\"      \"\"     \n",
       "[1108] \"\"      \"\"      \"\"      \"\"      \"TV-14\" \"\"      \"\"      \"\"      \"TV-14\"\n",
       "[1117] \"\"      \"\"      \"\"      \"PG\"    \"\"      \"TV-MA\" \"TV-MA\" \"TV-14\" \"TV-14\"\n",
       "[1126] \"TV-14\" \"TV-PG\" \"PG-13\" \"TV-MA\" \"TV-MA\" \"R\"     \"TV-MA\" \"TV-MA\" \"R\"    \n",
       "[1135] \"R\"     \"R\"     \"TV-14\" \"TV-PG\" \"TV-MA\" \"R\"     \"R\"     \"R\"     \"R\"    \n",
       "[1144] \"R\"     \"TV-14\" \"TV-Y7\" \"TV-MA\" \"TV-MA\" \"TV-14\" \"TV-MA\" \"TV-14\" \"TV-MA\"\n",
       "[1153] \"TV-MA\" \"TV-MA\" \"PG\"    \"R\"     \"R\"     \"TV-14\" \"TV-14\" \"TV-MA\" \"TV-14\"\n",
       "[1162] \"TV-MA\" \"TV-14\" \"TV-MA\" \"TV-14\" \"TV-MA\" \"TV-14\" \"PG-13\" \"TV-14\" \"TV-14\"\n",
       "[1171] \"R\"     \"TV-14\" \"TV-MA\" \"\"      \"TV-14\" \"PG-13\" \"TV-14\" \"TV-14\" \"R\"    \n",
       "[1180] \"R\"     \"TV-14\" \"R\"     \"TV-14\" \"PG-13\" \"TV-MA\" \"TV-G\"  \"PG\"    \"R\"    \n",
       "[1189] \"TV-MA\" \"R\"     \"PG-13\" \"TV-MA\" \"TV-MA\" \"TV-G\"  \"TV-MA\" \"TV-MA\" \"TV-14\"\n",
       "[1198] \"TV-MA\" \"R\"     \"R\"     \"TV-14\" \"PG\"    \"R\"     \"NC-17\" \"TV-G\"  \"R\"    \n",
       "[1207] \"PG-13\" \"TV-14\" \"R\"     \"TV-14\" \"PG-13\" \"TV-14\" \"R\"     \"TV-MA\" \"TV-MA\"\n",
       "[1216] \"TV-MA\" \"TV-MA\" \"TV-MA\" \"PG-13\" \"TV-MA\" \"TV-MA\" \"PG-13\" \"TV-MA\" \"R\"    \n",
       "[1225] \"\"      \"PG-13\" \"TV-14\" \"R\"     \"R\"     \"PG-13\" \"TV-MA\" \"\"      \"TV-14\"\n",
       "[1234] \"\"      \"TV-Y7\" \"TV-MA\" \"TV-MA\" \"R\"     \"TV-MA\" \"R\"     \"R\"     \"TV-MA\"\n",
       "[1243] \"TV-PG\" \"\"      \"TV-14\" \"TV-14\" \"PG-13\" \"\"      \"TV-MA\" \"\"      \"\"     \n",
       "[1252] \"TV-14\" \"PG-13\" \"TV-MA\" \"R\"     \"R\"     \"R\"     \"TV-14\" \"TV-14\" \"\"     \n",
       "[1261] \"TV-14\" \"TV-MA\" \"PG-13\" \"TV-Y7\" \"PG-13\" \"TV-Y7\" \"\"      \"TV-MA\" \"TV-Y7\"\n",
       "[1270] \"PG-13\" \"R\"     \"\"      \"\"      \"\"      \"PG\"    \"TV-MA\" \"R\"     \"R\"    \n",
       "[1279] \"\"      \"TV-MA\" \"\"      \"PG-13\" \"\"      \"TV-MA\" \"TV-MA\" \"PG-13\" \"PG-13\"\n",
       "[1288] \"\"      \"TV-MA\" \"PG\"    \"\"      \"R\"     \"\"      \"\"      \"PG-13\" \"TV-PG\"\n",
       "[1297] \"R\"     \"TV-PG\" \"\"      \"PG\"    \"\"      \"TV-14\" \"\"      \"TV-PG\" \"\"     \n",
       "[1306] \"\"      \"TV-Y\"  \"TV-Y7\" \"TV-14\" \"\"      \"\"      \"TV-Y7\" \"TV-Y7\" \"TV-Y7\"\n",
       "[1315] \"\"      \"\"      \"TV-14\" \"\"      \"TV-MA\" \"TV-14\" \"PG\"    \"\"      \"PG-13\"\n",
       "[1324] \"TV-MA\" \"TV-14\" \"\"      \"TV-MA\" \"TV-MA\" \"\"      \"TV-14\" \"TV-14\" \"TV-Y\" \n",
       "[1333] \"TV-Y\"  \"\"      \"TV-Y7\" \"\"      \"R\"     \"\"      \"TV-MA\" \"PG-13\" \"TV-MA\"\n",
       "[1342] \"\"      \"TV-14\" \"\"      \"TV-MA\" \"TV-14\" \"\"      \"TV-Y7\" \"TV-MA\" \"\"     \n",
       "[1351] \"R\"     \"TV-G\"  \"R\"     \"\"      \"TV-MA\" \"PG-13\" \"TV-G\"  \"TV-Y\"  \"TV-Y\" \n",
       "[1360] \"R\"     \"\"      \"PG\"    \"PG-13\" \"R\"     \"TV-PG\" \"G\"     \"TV-Y7\" \"TV-Y\" \n",
       "[1369] \"\"      \"G\"     \"TV-Y7\" \"TV-14\" \"TV-MA\" \"PG-13\" \"TV-Y\"  \"\"      \"TV-Y7\"\n",
       "[1378] \"TV-MA\" \"TV-14\" \"R\"     \"\"      \"TV-Y7\" \"\"      \"\"      \"\"      \"\"     \n",
       "[1387] \"R\"     \"PG-13\" \"\"      \"\"      \"TV-14\" \"\"      \"TV-MA\" \"TV-14\" \"TV-G\" \n",
       "[1396] \"\"      \"R\"     \"TV-MA\" \"PG\"    \"\"      \"\"      \"TV-PG\" \"PG\"    \"TV-Y\" \n",
       "[1405] \"\"      \"TV-Y\"  \"TV-PG\" \"R\"     \"PG\"    \"TV-MA\" \"\"      \"\"      \"\"     \n",
       "[1414] \"\"      \"TV-MA\" \"\"      \"\"      \"TV-MA\" \"\"      \"\"      \"PG\"    \"PG-13\"\n",
       "[1423] \"TV-Y\"  \"\"      \"TV-MA\" \"R\"     \"\"      \"\"      \"TV-MA\" \"\"      \"TV-14\"\n",
       "[1432] \"R\"     \"R\"     \"\"      \"TV-MA\" \"\"      \"\"      \"PG-13\" \"TV-14\" \"TV-14\"\n",
       "[1441] \"R\"     \"TV-14\" \"TV-14\" \"\"      \"PG-13\" \"\"      \"G\"     \"TV-MA\" \"\"     \n",
       "[1450] \"TV-PG\" \"PG\"    \"PG-13\" \"PG-13\" \"TV-14\" \"TV-MA\" \"PG-13\" \"\"      \"TV-Y\" \n",
       "[1459] \"\"      \"\"      \"\"      \"\"      \"\"      \"\"      \"R\"     \"TV-Y\"  \"\"     \n",
       "[1468] \"\"      \"\"      \"\"      \"\"      \"\"      \"\"      \"TV-MA\" \"\"      \"R\"    \n",
       "[1477] \"\"      \"\"      \"R\"     \"\"      \"TV-MA\" \"PG-13\" \"R\"     \"PG\"    \"TV-MA\"\n",
       "[1486] \"\"      \"\"      \"TV-MA\" \"\"      \"TV-14\" \"\"      \"\"      \"TV-MA\" \"R\"    \n",
       "[1495] \"\"      \"\"      \"PG\"    \"\"      \"\"      \"\"      \"\"      \"PG-13\" \"\"     \n",
       "[1504] \"\"      \"TV-G\"  \"TV-Y7\" \"\"      \"TV-MA\" \"\"      \"\"      \"\"      \"PG\"   \n",
       "[1513] \"PG-13\" \"\"      \"TV-MA\" \"TV-14\" \"\"      \"PG\"    \"TV-14\" \"PG-13\" \"PG-13\"\n",
       "[1522] \"\"      \"PG\"    \"\"      \"TV-PG\" \"\"      \"\"      \"\"      \"\"      \"PG\"   \n",
       "[1531] \"\"      \"\"      \"\"      \"R\"     \"PG-13\" \"\"      \"\"      \"\"      \"TV-MA\"\n",
       "[1540] \"\"      \"\"      \"TV-14\" \"\"      \"\"      \"\"      \"PG-13\" \"TV-MA\" \"\"     \n",
       "[1549] \"TV-PG\" \"\"      \"\"      \"\"      \"PG-13\" \"TV-MA\" \"TV-MA\" \"TV-PG\" \"R\"    \n",
       "[1558] \"\"      \"\"      \"TV-Y\"  \"G\"     \"TV-14\" \"\"      \"\"      \"TV-Y\"  \"\"     \n",
       "[1567] \"PG-13\" \"\"      \"\"      \"\"      \"TV-14\" \"\"      \"PG-13\" \"\"      \"\"     \n",
       "[1576] \"\"      \"\"      \"\"      \"\"      \"G\"     \"\"      \"\"      \"\"      \"TV-14\"\n",
       "[1585] \"\"      \"\"      \"PG\"    \"\"      \"\"      \"TV-Y\"  \"\"      \"\"      \"R\"    \n",
       "[1594] \"\"      \"R\"     \"\"      \"\"      \"\"      \"TV-Y7\" \"\"      \"\"      \"\"     \n",
       "[1603] \"TV-PG\" \"\"      \"\"      \"PG-13\" \"\"      \"\"      \"\"      \"\"      \"\"     \n",
       "[1612] \"\"      \"\"      \"\"      \"PG-13\" \"\"      \"\"      \"\"      \"PG-13\" \"\"     \n",
       "[1621] \"PG-13\" \"G\"     \"\"      \"\"      \"\"      \"TV-14\" \"PG-13\" \"\"      \"\"     \n",
       "[1630] \"TV-14\" \"\"      \"TV-14\" \"TV-14\" \"\"      \"\"      \"\"      \"\"      \"\"     \n",
       "[1639] \"R\"     \"TV-14\" \"\"      \"TV-14\" \"\"      \"PG-13\" \"\"      \"\"      \"\"     \n",
       "[1648] \"\"      \"\"      \"PG-13\" \"\"      \"\"      \"\"      \"\"      \"PG-13\" \"\"     \n",
       "[1657] \"\"      \"\"      \"\"      \"\"      \"PG-13\" \"\"      \"\"      \"\"      \"PG\"   \n",
       "[1666] \"\"      \"TV-14\" \"\"      \"\"      \"PG-13\" \"PG\"    \"\"      \"\"      \"\"     \n",
       "[1675] \"\"      \"\"      \"G\"     \"PG\"    \"\"      \"TV-MA\" \"\"      \"\"      \"\"     \n",
       "[1684] \"TV-14\" \"\"      \"\"      \"\"      \"\"      \"\"      \"TV-14\" \"\"      \"TV-14\"\n",
       "[1693] \"TV-14\" \"PG-13\" \"R\"     \"R\"     \"\"      \"PG\"    \"\"      \"TV-PG\" \"\"     \n",
       "[1702] \"\"      \"\"      \"\"      \"\"      \"\"      \"TV-MA\" \"TV-MA\" \"PG\"    \"TV-MA\"\n",
       "[1711] \"R\"     \"TV-MA\" \"R\"     \"R\"     \"TV-14\" \"TV-14\" \"TV-14\" \"R\"     \"R\"    \n",
       "[1720] \"PG-13\" \"TV-14\" \"R\"     \"TV-MA\" \"R\"     \"TV-MA\" \"TV-14\" \"TV-MA\" \"R\"    \n",
       "[1729] \"R\"     \"TV-PG\" \"TV-MA\" \"TV-Y7\" \"TV-MA\" \"TV-MA\" \"TV-14\" \"TV-14\" \"TV-MA\"\n",
       "[1738] \"R\"     \"R\"     \"TV-MA\" \"TV-MA\" \"TV-MA\" \"TV-MA\" \"PG-13\" \"TV-14\" \"PG-13\"\n",
       "[1747] \"TV-14\" \"TV-MA\" \"TV-MA\" \"TV-MA\" \"TV-MA\" \"TV-MA\" \"R\"     \"TV-G\"  \"PG-13\"\n",
       "[1756] \"TV-MA\" \"TV-G\"  \"TV-14\" \"R\"     \"TV-PG\" \"TV-14\" \"\"      \"R\"     \"TV-MA\"\n",
       "[1765] \"TV-14\" \"TV-PG\" \"\"      \"R\"     \"TV-G\"  \"TV-MA\" \"TV-MA\" \"TV-MA\" \"R\"    \n",
       "[1774] \"PG-13\" \"PG-13\" \"R\"     \"TV-PG\" \"\"      \"R\"     \"PG-13\" \"R\"     \"TV-14\"\n",
       "[1783] \"TV-MA\" \"R\"     \"TV-14\" \"TV-MA\" \"R\"     \"TV-MA\" \"R\"     \"TV-PG\" \"\"     \n",
       "[1792] \"TV-MA\" \"R\"     \"R\"     \"R\"     \"R\"     \"TV-MA\" \"TV-MA\" \"TV-MA\" \"TV-MA\"\n",
       "[1801] \"TV-MA\" \"R\"     \"R\"     \"TV-14\" \"TV-PG\" \"TV-MA\" \"TV-14\" \"\"      \"R\"    \n",
       "[1810] \"PG-13\" \"\"      \"TV-14\" \"TV-MA\" \"TV-MA\" \"TV-MA\" \"TV-14\" \"TV-14\" \"TV-14\"\n",
       "[1819] \"\"      \"\"      \"\"      \"TV-14\" \"\"      \"PG-13\" \"TV-MA\" \"PG-13\" \"TV-Y7\"\n",
       "[1828] \"\"      \"R\"     \"R\"     \"PG-13\" \"TV-MA\" \"TV-14\" \"TV-Y\"  \"TV-Y7\" \"PG\"   \n",
       "[1837] \"TV-14\" \"\"      \"R\"     \"\"      \"TV-MA\" \"TV-Y7\" \"R\"     \"TV-14\" \"\"     \n",
       "[1846] \"R\"     \"R\"     \"\"      \"R\"     \"\"      \"R\"     \"R\"     \"TV-MA\" \"TV-14\"\n",
       "[1855] \"\"      \"\"      \"TV-MA\" \"TV-MA\" \"R\"     \"PG-13\" \"R\"     \"R\"     \"R\"    \n",
       "[1864] \"R\"     \"\"      \"TV-MA\" \"PG-13\" \"TV-MA\" \"R\"     \"TV-MA\" \"R\"     \"TV-MA\"\n",
       "[1873] \"TV-MA\" \"\"      \"PG-13\" \"R\"     \"TV-14\" \"\"      \"TV-MA\" \"TV-14\" \"TV-14\"\n",
       "[1882] \"TV-MA\" \"TV-MA\" \"TV-MA\" \"PG-13\" \"TV-PG\" \"TV-14\" \"TV-Y7\" \"R\"     \"\"     \n",
       "[1891] \"TV-MA\" \"TV-14\" \"TV-PG\" \"R\"     \"\"      \"TV-MA\" \"TV-MA\" \"\"      \"TV-Y7\"\n",
       "[1900] \"TV-MA\" \"\"      \"TV-14\" \"\"      \"R\"     \"TV-MA\" \"TV-MA\" \"R\"     \"R\"    \n",
       "[1909] \"\"      \"PG\"    \"R\"     \"TV-MA\" \"R\"     \"TV-MA\" \"TV-14\" \"PG-13\" \"R\"    \n",
       "[1918] \"TV-PG\" \"\"      \"TV-14\" \"\"      \"\"      \"PG-13\" \"R\"     \"\"      \"\"     \n",
       "[1927] \"PG-13\" \"PG-13\" \"\"      \"R\"     \"PG-13\" \"\"      \"TV-14\" \"TV-PG\" \"\"     \n",
       "[1936] \"TV-MA\" \"R\"     \"TV-MA\" \"R\"     \"TV-PG\" \"R\"     \"R\"     \"TV-Y7\" \"PG-13\"\n",
       "[1945] \"TV-14\" \"\"      \"TV-MA\" \"\"      \"NC-17\" \"TV-MA\" \"TV-G\"  \"\"      \"\"     \n",
       "[1954] \"R\"     \"TV-MA\" \"\"      \"R\"     \"TV-MA\" \"\"      \"TV-Y\"  \"TV-MA\" \"R\"    \n",
       "[1963] \"\"      \"R\"     \"TV-Y\"  \"TV-14\" \"\"      \"TV-Y7\" \"\"      \"R\"     \"\"     \n",
       "[1972] \"R\"     \"TV-MA\" \"TV-Y7\" \"R\"     \"TV-14\" \"R\"     \"R\"     \"TV-PG\" \"PG-13\"\n",
       "[1981] \"TV-14\" \"TV-Y7\" \"R\"     \"\"      \"TV-MA\" \"\"      \"TV-MA\" \"TV-Y7\" \"\"     \n",
       "[1990] \"PG\"    \"\"      \"TV-14\" \"TV-MA\" \"TV-MA\" \"TV-14\" \"TV-MA\" \"\"      \"TV-MA\"\n",
       "[1999] \"PG-13\" \"\"      \"TV-MA\" \"R\"     \"TV-14\" \"\"      \"\"      \"TV-MA\" \"TV-MA\"\n",
       "[2008] \"\"      \"TV-PG\" \"R\"     \"\"      \"\"      \"\"      \"TV-PG\" \"TV-14\" \"\"     \n",
       "[2017] \"\"      \"\"      \"PG\"    \"\"      \"TV-MA\" \"\"      \"R\"     \"TV-MA\" \"R\"    \n",
       "[2026] \"R\"     \"TV-MA\" \"TV-14\" \"TV-14\" \"PG-13\" \"\"      \"TV-MA\" \"TV-Y\"  \"TV-14\"\n",
       "[2035] \"TV-MA\" \"PG-13\" \"\"      \"\"      \"\"      \"TV-MA\" \"\"      \"TV-MA\" \"TV-Y7\"\n",
       "[2044] \"TV-PG\" \"PG-13\" \"R\"     \"TV-PG\" \"TV-MA\" \"R\"     \"TV-MA\" \"TV-14\" \"\"     \n",
       "[2053] \"PG-13\" \"TV-MA\" \"PG-13\" \"TV-Y7\" \"TV-MA\" \"\"      \"TV-MA\" \"TV-MA\" \"\"     \n",
       "[2062] \"R\"     \"PG-13\" \"TV-PG\" \"\"      \"TV-Y7\" \"TV-Y\"  \"R\"     \"TV-MA\" \"R\"    \n",
       "[2071] \"\"      \"TV-MA\" \"PG-13\" \"R\"     \"TV-Y\"  \"R\"     \"TV-Y7\" \"TV-PG\" \"TV-14\"\n",
       "[2080] \"TV-14\" \"PG\"    \"TV-MA\" \"TV-PG\" \"\"      \"TV-MA\" \"PG\"    \"TV-Y7\" \"TV-14\"\n",
       "[2089] \"TV-MA\" \"\"      \"PG-13\" \"TV-MA\" \"TV-MA\" \"\"      \"\"      \"PG-13\" \"R\"    \n",
       "[2098] \"TV-MA\" \"PG-13\" \"TV-MA\" \"PG\"    \"\"      \"PG-13\" \"\"      \"TV-MA\" \"TV-14\"\n",
       "[2107] \"PG\"    \"TV-MA\" \"\"      \"TV-14\" \"TV-14\" \"TV-MA\" \"TV-MA\" \"\"      \"R\"    \n",
       "[2116] \"\"      \"TV-G\"  \"\"      \"TV-MA\" \"\"      \"TV-MA\" \"\"      \"TV-MA\" \"PG\"   \n",
       "[2125] \"TV-14\" \"TV-MA\" \"TV-Y\"  \"TV-MA\" \"TV-MA\" \"TV-14\" \"TV-Y\"  \"\"      \"\"     \n",
       "[2134] \"PG-13\" \"TV-MA\" \"R\"     \"\"      \"TV-MA\" \"PG\"    \"R\"     \"\"      \"TV-MA\"\n",
       "[2143] \"\"      \"TV-MA\" \"\"      \"\"      \"R\"     \"TV-PG\" \"PG\"    \"TV-14\" \"TV-PG\"\n",
       "[2152] \"TV-PG\" \"TV-Y\"  \"R\"     \"\"      \"R\"     \"R\"     \"\"      \"TV-MA\" \"PG\"   \n",
       "[2161] \"TV-MA\" \"\"      \"TV-MA\" \"\"      \"G\"     \"\"      \"TV-14\" \"\"      \"\"     \n",
       "[2170] \"\"      \"R\"     \"\"      \"\"      \"TV-MA\" \"TV-14\" \"\"      \"TV-14\" \"TV-14\"\n",
       "[2179] \"\"      \"R\"     \"PG\"    \"\"      \"TV-Y\"  \"R\"     \"R\"     \"\"      \"TV-PG\"\n",
       "[2188] \"R\"     \"\"      \"TV-Y7\" \"TV-PG\" \"TV-MA\" \"TV-MA\" \"\"      \"\"      \"TV-MA\"\n",
       "[2197] \"TV-Y\"  \"TV-MA\" \"TV-14\" \"TV-MA\" \"\"      \"R\"     \"\"      \"\"      \"TV-MA\"\n",
       "[2206] \"PG\"    \"TV-Y7\" \"TV-MA\" \"\"      \"PG\"    \"\"      \"\"      \"\"      \"\"     \n",
       "[2215] \"\"      \"\"      \"PG-13\" \"TV-MA\" \"PG\"    \"TV-MA\" \"\"      \"\"      \"\"     \n",
       "[2224] \"\"      \"TV-Y7\" \"TV-MA\" \"\"      \"R\"     \"G\"     \"\"      \"\"      \"TV-MA\"\n",
       "[2233] \"\"      \"TV-MA\" \"TV-MA\" \"\"      \"\"      \"\"      \"TV-PG\" \"TV-MA\" \"TV-MA\"\n",
       "[2242] \"TV-MA\" \"\"      \"\"      \"PG-13\" \"TV-MA\" \"TV-MA\" \"TV-MA\" \"TV-Y\"  \"\"     \n",
       "[2251] \"\"      \"TV-Y\"  \"\"      \"\"      \"\"      \"TV-MA\" \"TV-MA\" \"\"      \"\"     \n",
       "[2260] \"\"      \"TV-PG\" \"TV-PG\" \"\"      \"PG-13\" \"\"      \"\"      \"PG\"    \"TV-MA\"\n",
       "[2269] \"\"      \"TV-MA\" \"PG-13\" \"TV-MA\" \"PG-13\" \"\"      \"TV-MA\" \"NC-17\" \"\"     \n",
       "[2278] \"\"      \"\"      \"\"      \"\"      \"\"      \"\"      \"\"      \"\"      \"TV-PG\"\n",
       "[2287] \"TV-MA\" \"\"      \"\"      \"TV-14\" \"\"      \"TV-PG\" \"\"      \"R\"     \"TV-Y7\"\n",
       "[2296] \"\"      \"TV-MA\" \"\"      \"NC-17\" \"TV-MA\" \"\"      \"TV-MA\" \"TV-14\" \"TV-MA\"\n",
       "[2305] \"\"      \"PG\"    \"\"      \"\"      \"TV-MA\" \"TV-14\" \"TV-Y\"  \"TV-14\" \"\"     \n",
       "[2314] \"\"      \"\"      \"\"      \"\"      \"\"      \"\"      \"TV-MA\" \"R\"     \"\"     \n",
       "[2323] \"TV-MA\" \"PG\"    \"\"      \"PG-13\" \"TV-G\"  \"\"      \"\"      \"TV-14\" \"\"     \n",
       "[2332] \"\"      \"R\"     \"\"      \"TV-MA\" \"TV-14\" \"\"      \"\"      \"PG\"    \"TV-MA\"\n",
       "[2341] \"TV-PG\" \"PG-13\" \"TV-Y7\" \"\"      \"PG-13\" \"\"      \"R\"     \"\"      \"\"     \n",
       "[2350] \"TV-14\" \"PG\"    \"R\"     \"TV-Y7\" \"G\"     \"TV-MA\" \"\"      \"\"      \"TV-MA\"\n",
       "[2359] \"TV-MA\" \"\"      \"G\"     \"TV-MA\" \"R\"     \"\"      \"\"      \"\"      \"TV-14\"\n",
       "[2368] \"\"      \"\"      \"\"      \"TV-14\" \"\"      \"R\"     \"\"      \"R\"     \"TV-14\"\n",
       "[2377] \"R\"     \"\"      \"\"      \"TV-14\" \"\"      \"\"      \"\"      \"\"      \"TV-Y\" \n",
       "[2386] \"TV-MA\" \"TV-G\"  \"TV-G\"  \"\"      \"\"      \"TV-MA\" \"TV-MA\" \"\"      \"\"     \n",
       "[2395] \"\"      \"\"      \"\"      \"TV-14\" \"\"      \"TV-14\" \"\"      \"\"      \"\"     \n",
       "[2404] \"TV-Y7\" \"\"      \"TV-MA\" \"\"      \"\"      \"\"      \"\"      \"TV-MA\" \"\"     \n",
       "[2413] \"\"      \"\"      \"\"      \"TV-14\" \"\"      \"TV-Y\"  \"TV-MA\" \"TV-14\" \"TV-MA\"\n",
       "[2422] \"\"      \"\"      \"\"      \"TV-MA\" \"\"      \"G\"     \"\"      \"TV-Y7\" \"\"     \n",
       "[2431] \"\"      \"\"      \"\"      \"\"      \"\"      \"\"      \"\"      \"\"      \"\"     \n",
       "[2440] \"TV-14\" \"\"      \"\"      \"\"      \"\"      \"TV-MA\" \"\"      \"\"      \"R\"    \n",
       "[2449] \"TV-MA\" \"TV-MA\" \"\"      \"\"      \"\"      \"TV-MA\" \"\"      \"PG-13\" \"PG\"   \n",
       "[2458] \"\"      \"\"      \"PG-13\" \"\"      \"\"      \"\"      \"\"      \"\"      \"TV-MA\"\n",
       "[2467] \"PG\"    \"\"      \"\"      \"\"      \"\"      \"\"      \"PG\"    \"TV-PG\" \"PG-13\"\n",
       "[2476] \"\"      \"\"      \"\"      \"\"      \"\"      \"\"      \"\"      \"NC-17\" \"\"     \n",
       "[2485] \"PG\"    \"TV-PG\" \"\"      \"TV-Y\"  \"\"      \"\"      \"PG\"    \"TV-MA\" \"\"     \n",
       "[2494] \"TV-14\" \"\"      \"PG\"    \"\"      \"\"      \"TV-Y7\" \"\"      \"\"      \"\"     \n",
       "[2503] \"\"      \"TV-14\" \"TV-14\" \"\"      \"\"      \"PG\"    \"PG\"    \"\"      \"\"     \n",
       "[2512] \"TV-G\"  \"TV-Y7\" \"\"      \"TV-MA\" \"\"      \"\"      \"TV-Y7\" \"\"      \"PG-13\"\n",
       "[2521] \"TV-Y7\" \"\"      \"\"      \"\"      \"\"      \"\"      \"\"      \"\"      \"PG\"   \n",
       "[2530] \"PG\"    \"PG-13\" \"\"      \"TV-MA\" \"\"      \"\"      \"\"      \"\"      \"\"     \n",
       "[2539] \"\"      \"\"      \"\"      \"TV-G\"  \"G\"     \"\"      \"\"      \"TV-MA\" \"TV-MA\"\n",
       "[2548] \"PG\"    \"TV-MA\" \"TV-MA\" \"\"      \"\"      \"\"      \"PG-13\" \"\"      \"PG\"   \n",
       "[2557] \"TV-MA\" \"TV-Y7\" \"TV-14\" \"\"      \"G\"     \"\"      \"\"      \"\"      \"\"     \n",
       "[2566] \"TV-MA\" \"\"      \"\"      \"\"      \"\"      \"\"      \"TV-PG\" \"TV-MA\" \"\"     \n",
       "[2575] \"TV-14\" \"TV-Y\"  \"PG-13\" \"TV-MA\" \"TV-G\"  \"\"      \"TV-MA\" \"\"      \"PG-13\"\n",
       "[2584] \"\"      \"TV-MA\" \"TV-Y7\" \"TV-PG\" \"R\"     \"TV-14\" \"\"      \"G\"     \"PG-13\"\n",
       "[2593] \"TV-14\" \"TV-MA\" \"\"      \"\"      \"\"      \"R\"     \"\"      \"PG-13\" \"\"     \n",
       "[2602] \"TV-MA\" \"\"      \"\"      \"\"      \"\"      \"PG-13\" \"G\"     \"\"      \"\"     \n",
       "[2611] \"\"      \"\"      \"G\"     \"G\"     \"\"      \"\"      \"\"      \"\"      \"\"     \n",
       "[2620] \"\"      \"\"      \"\"      \"\"      \"R\"     \"\"      \"\"      \"\"      \"\"     \n",
       "[2629] \"TV-MA\" \"PG\"    \"\"      \"\"      \"\"      \"\"      \"TV-Y7\" \"TV-Y\"  \"\"     \n",
       "[2638] \"TV-MA\" \"\"      \"TV-MA\" \"\"      \"G\"     \"TV-Y\"  \"\"      \"\"      \"G\"    \n",
       "[2647] \"\"      \"\"      \"TV-MA\" \"\"      \"\"      \"\"      \"\"      \"TV-14\" \"TV-PG\"\n",
       "[2656] \"\"      \"PG\"    \"\"      \"TV-PG\" \"TV-14\" \"TV-PG\" \"\"      \"TV-Y\"  \"\"     \n",
       "[2665] \"\"      \"NC-17\" \"\"      \"\"      \"\"      \"\"      \"\"      \"TV-14\" \"TV-14\"\n",
       "[2674] \"TV-MA\" \"TV-Y7\" \"\"      \"\"      \"TV-Y7\" \"\"      \"TV-14\" \"\"      \"\"     \n",
       "[2683] \"TV-MA\" \"\"      \"\"      \"\"      \"TV-PG\" \"\"      \"TV-PG\" \"\"      \"PG-13\"\n",
       "[2692] \"\"      \"\"      \"\"      \"\"      \"\"      \"G\"     \"\"      \"R\"     \"\"     \n",
       "[2701] \"\"      \"\"      \"\"      \"\"      \"\"      \"TV-Y\"  \"\"      \"\"      \"\"     \n",
       "[2710] \"\"      \"\"      \"R\"     \"TV-MA\" \"\"      \"\"      \"\"      \"\"      \"\"     \n",
       "[2719] \"\"      \"\"      \"\"      \"\"      \"PG-13\" \"\"      \"\"      \"\"      \"\"     \n",
       "[2728] \"\"      \"TV-Y7\" \"\"      \"\"      \"\"      \"PG\"    \"TV-PG\" \"\"      \"\"     \n",
       "[2737] \"\"      \"TV-Y7\" \"G\"     \"\"      \"\"      \"\"      \"\"      \"\"      \"\"     \n",
       "[2746] \"PG\"    \"\"      \"\"      \"\"      \"\"      \"\"      \"\"      \"\"      \"\"     \n",
       "[2755] \"TV-PG\" \"\"      \"\"      \"\"      \"\"      \"PG-13\" \"R\"     \"PG-13\" \"\"     \n",
       "[2764] \"\"      \"\"      \"PG-13\" \"\"      \"\"      \"\"      \"\"      \"\"      \"\"     \n",
       "[2773] \"\"      \"\"      \"PG\"    \"PG\"    \"\"      \"\"      \"\"      \"\"      \"R\"    \n",
       "[2782] \"\"      \"\"      \"\"      \"PG-13\" \"\"      \"\"      \"\"      \"\"      \"TV-Y7\"\n",
       "[2791] \"\"      \"\"      \"\"      \"R\"     \"\"      \"\"      \"\"      \"TV-MA\" \"PG\"   \n",
       "[2800] \"\"      \"\"      \"G\"     \"PG-13\" \"\"      \"\"      \"\"      \"\"      \"\"     \n",
       "[2809] \"\"      \"\"      \"\"      \"\"      \"\"      \"G\"     \"\"      \"\"      \"\"     \n",
       "[2818] \"\"      \"TV-14\" \"\"      \"\"      \"TV-Y\"  \"\"      \"PG-13\" \"\"      \"TV-MA\"\n",
       "[2827] \"\"      \"\"      \"\"      \"\"      \"PG-13\" \"\"      \"TV-MA\" \"\"      \"\"     \n",
       "[2836] \"\"      \"\"      \"\"      \"TV-MA\" \"\"      \"TV-MA\" \"PG-13\" \"TV-Y\"  \"\"     \n",
       "[2845] \"\"      \"\"      \"\"      \"\"      \"\"      \"\"      \"TV-14\" \"\"      \"\"     \n",
       "[2854] \"\"      \"\"      \"\"      \"\"      \"TV-PG\" \"TV-MA\" \"TV-MA\" \"G\"     \"\"     \n",
       "[2863] \"\"      \"PG-13\" \"PG-13\" \"PG-13\" \"\"      \"\"      \"\"      \"TV-14\" \"\"     \n",
       "[2872] \"\"      \"TV-MA\" \"\"      \"\"      \"\"      \"\"      \"\"      \"PG-13\" \"\"     \n",
       "[2881] \"PG\"    \"\"      \"\"      \"G\"     \"TV-14\" \"\"      \"\"      \"\"      \"\"     \n",
       "[2890] \"\"      \"\"      \"\"      \"PG-13\" \"\"      \"\"      \"R\"     \"\"      \"\"     \n",
       "[2899] \"\"      \"PG-13\" \"PG-13\" \"\"      \"PG\"    \"\"      \"\"      \"\"      \"\"     \n",
       "[2908] \"\"      \"\"      \"\"      \"\"      \"\"      \"\"      \"\"      \"\"      \"\"     \n",
       "[2917] \"\"      \"\"      \"\"      \"\"      \"\"      \"G\"     \"\"      \"\"      \"\"     \n",
       "[2926] \"\"      \"G\"     \"\"      \"\"      \"\"      \"\"      \"\"      \"\"      \"\"     \n",
       "[2935] \"\"      \"\"      \"\"      \"\"      \"\"      \"\"      \"\"      \"\"      \"\"     \n",
       "[2944] \"\"      \"\"      \"PG-13\" \"\"      \"\"      \"\"      \"G\"     \"\"      \"\"     \n",
       "[2953] \"G\"     \"\"      \"\"      \"\"      \"\"      \"\"      \"\"      \"PG-13\" \"\"     \n",
       "[2962] \"\"      \"\"      \"\"      \"\"      \"TV-Y\"  \"\"      \"TV-14\" \"\"      \"\"     \n",
       "[2971] \"TV-14\" \"\"      \"\"      \"\"      \"\"      \"\"      \"\"      \"R\"     \"\"     \n",
       "[2980] \"\"      \"\"      \"\"      \"\"      \"G\"     \"R\"     \"\"      \"\"      \"\"     \n",
       "[2989] \"TV-Y\"  \"\"      \"\"      \"\"      \"\"      \"\"      \"\"      \"G\"     \"\"     \n",
       "[2998] \"\"      \"\"      \"PG\"    \"\"      \"\"      \"TV-Y\"  \"\"      \"PG\"    \"TV-MA\"\n",
       "[3007] \"\"      \"\"      \"\"      \"\"      \"TV-PG\" \"\"      \"PG\"    \"\"      \"\"     \n",
       "[3016] \"\"      \"\"      \"G\"     \"\"      \"\"      \"PG-13\" \"TV-PG\" \"\"      \"\"     \n",
       "[3025] \"\"      \"\"      \"\"      \"TV-PG\" \"PG\"    \"\"      \"TV-MA\" \"\"      \"\"     \n",
       "[3034] \"\"      \"\"      \"\"      \"G\"     \"\"      \"\"      \"\"      \"\"      \"\"     \n",
       "[3043] \"TV-14\" \"TV-PG\" \"TV-14\" \"R\"     \"TV-MA\" \"TV-MA\" \"TV-14\" \"TV-MA\" \"TV-MA\"\n",
       "[3052] \"TV-MA\" \"TV-PG\" \"TV-MA\" \"TV-MA\" \"TV-MA\" \"TV-MA\" \"PG-13\" \"TV-14\" \"TV-PG\"\n",
       "[3061] \"TV-14\" \"TV-MA\" \"TV-14\" \"TV-MA\" \"TV-MA\" \"TV-MA\" \"TV-MA\" \"TV-MA\" \"TV-MA\"\n",
       "[3070] \"TV-14\" \"TV-MA\" \"TV-MA\" \"R\"     \"TV-MA\" \"TV-MA\" \"R\"     \"R\"     \"TV-PG\"\n",
       "[3079] \"TV-MA\" \"TV-MA\" \"TV-14\" \"TV-14\" \"R\"     \"TV-MA\" \"\"      \"R\"     \"TV-MA\"\n",
       "[3088] \"R\"     \"TV-MA\" \"\"      \"PG-13\" \"TV-MA\" \"R\"     \"TV-MA\" \"\"      \"R\"    \n",
       "[3097] \"TV-14\" \"PG-13\" \"R\"     \"\"      \"\"      \"R\"     \"TV-MA\" \"TV-PG\" \"TV-MA\"\n",
       "[3106] \"R\"     \"TV-MA\" \"\"      \"R\"     \"TV-14\" \"PG-13\" \"PG\"    \"R\"     \"TV-MA\"\n",
       "[3115] \"R\"     \"R\"     \"R\"     \"R\"     \"R\"     \"R\"     \"TV-MA\" \"TV-MA\" \"R\"    \n",
       "[3124] \"PG-13\" \"TV-MA\" \"PG-13\" \"\"      \"R\"     \"\"      \"TV-MA\" \"R\"     \"PG-13\"\n",
       "[3133] \"TV-14\" \"TV-MA\" \"PG-13\" \"\"      \"TV-MA\" \"R\"     \"R\"     \"\"      \"\"     \n",
       "[3142] \"R\"     \"TV-MA\" \"\"      \"TV-MA\" \"TV-MA\" \"TV-MA\" \"TV-G\"  \"TV-MA\" \"\"     \n",
       "[3151] \"TV-G\"  \"PG-13\" \"R\"     \"R\"     \"TV-MA\" \"R\"     \"TV-MA\" \"\"      \"TV-14\"\n",
       "[3160] \"PG-13\" \"R\"     \"PG-13\" \"TV-MA\" \"TV-MA\" \"TV-MA\" \"TV-MA\" \"TV-MA\" \"TV-MA\"\n",
       "[3169] \"TV-MA\" \"R\"     \"TV-PG\" \"R\"     \"\"      \"PG-13\" \"PG-13\" \"PG-13\" \"TV-MA\"\n",
       "[3178] \"R\"     \"TV-PG\" \"\"      \"TV-MA\" \"TV-MA\" \"PG-13\" \"PG-13\" \"R\"     \"TV-MA\"\n",
       "[3187] \"\"      \"TV-PG\" \"PG-13\" \"R\"     \"PG-13\" \"TV-MA\" \"TV-MA\" \"PG-13\" \"TV-MA\"\n",
       "[3196] \"R\"     \"TV-MA\" \"\"      \"R\"     \"TV-MA\" \"TV-14\" \"TV-MA\" \"\"      \"TV-MA\"\n",
       "[3205] \"R\"     \"TV-MA\" \"PG-13\" \"TV-MA\" \"TV-PG\" \"TV-MA\" \"R\"     \"PG-13\" \"TV-PG\"\n",
       "[3214] \"R\"     \"TV-Y7\" \"R\"     \"TV-14\" \"PG-13\" \"TV-14\" \"\"      \"TV-MA\" \"\"     \n",
       "[3223] \"PG-13\" \"R\"     \"TV-MA\" \"TV-MA\" \"TV-14\" \"\"      \"TV-MA\" \"R\"     \"TV-MA\"\n",
       "[3232] \"\"      \"R\"     \"\"      \"R\"     \"\"      \"TV-MA\" \"\"      \"PG-13\" \"TV-MA\"\n",
       "[3241] \"TV-MA\" \"TV-14\" \"TV-MA\" \"TV-14\" \"TV-14\" \"\"      \"R\"     \"TV-MA\" \"R\"    \n",
       "[3250] \"\"      \"TV-G\"  \"\"      \"TV-MA\" \"PG\"    \"R\"     \"TV-MA\" \"\"      \"TV-14\"\n",
       "[3259] \"R\"     \"R\"     \"TV-Y7\" \"TV-G\"  \"R\"     \"PG-13\" \"TV-MA\" \"TV-14\" \"R\"    \n",
       "[3268] \"\"      \"TV-MA\" \"PG\"    \"TV-MA\" \"PG\"    \"TV-MA\" \"TV-MA\" \"R\"     \"TV-PG\"\n",
       "[3277] \"TV-MA\" \"TV-MA\" \"\"      \"R\"     \"R\"     \"TV-MA\" \"TV-MA\" \"\"      \"PG\"   \n",
       "[3286] \"TV-14\" \"TV-MA\" \"PG-13\" \"PG-13\" \"\"      \"R\"     \"PG\"    \"\"      \"TV-MA\"\n",
       "[3295] \"PG\"    \"R\"     \"\"      \"R\"     \"R\"     \"TV-14\" \"TV-MA\" \"PG-13\" \"TV-MA\"\n",
       "[3304] \"TV-14\" \"\"      \"TV-MA\" \"PG\"    \"TV-MA\" \"R\"     \"PG-13\" \"TV-MA\" \"\"     \n",
       "[3313] \"G\"     \"TV-MA\" \"\"      \"\"      \"\"      \"TV-MA\" \"TV-14\" \"R\"     \"PG\"   \n",
       "[3322] \"TV-14\" \"TV-MA\" \"PG\"    \"\"      \"\"      \"\"      \"TV-14\" \"TV-MA\" \"TV-14\"\n",
       "[3331] \"\"      \"\"      \"TV-MA\" \"TV-G\"  \"TV-14\" \"R\"     \"R\"     \"TV-MA\" \"TV-MA\"\n",
       "[3340] \"R\"     \"TV-PG\" \"\"      \"TV-14\" \"PG\"    \"TV-MA\" \"\"      \"R\"     \"TV-MA\"\n",
       "[3349] \"\"      \"TV-MA\" \"TV-MA\" \"TV-14\" \"TV-Y7\" \"\"      \"\"      \"TV-14\" \"PG-13\"\n",
       "[3358] \"TV-MA\" \"TV-PG\" \"\"      \"\"      \"\"      \"R\"     \"\"      \"\"      \"\"     \n",
       "[3367] \"\"      \"TV-PG\" \"PG-13\" \"TV-Y7\" \"TV-14\" \"\"      \"TV-Y7\" \"TV-MA\" \"R\"    \n",
       "[3376] \"\"      \"\"      \"TV-MA\" \"\"      \"\"      \"PG-13\" \"R\"     \"TV-MA\" \"TV-MA\"\n",
       "[3385] \"TV-14\" \"\"      \"TV-Y7\" \"R\"     \"\"      \"TV-MA\" \"\"      \"\"      \"\"     \n",
       "[3394] \"TV-MA\" \"TV-14\" \"TV-MA\" \"TV-MA\" \"PG-13\" \"G\"     \"\"      \"\"      \"PG\"   \n",
       "[3403] \"TV-PG\" \"TV-MA\" \"TV-MA\" \"\"      \"TV-14\" \"\"      \"TV-PG\" \"\"      \"TV-Y7\"\n",
       "[3412] \"TV-14\" \"\"      \"PG\"    \"TV-MA\" \"TV-MA\" \"TV-Y\"  \"R\"     \"TV-14\" \"\"     \n",
       "[3421] \"NC-17\" \"\"      \"\"      \"\"      \"R\"     \"TV-MA\" \"TV-14\" \"TV-14\" \"TV-14\"\n",
       "[3430] \"TV-MA\" \"PG\"    \"\"      \"TV-G\"  \"TV-PG\" \"TV-MA\" \"TV-MA\" \"PG-13\" \"TV-MA\"\n",
       "[3439] \"\"      \"\"      \"R\"     \"\"      \"TV-MA\" \"TV-14\" \"TV-MA\" \"TV-MA\" \"TV-MA\"\n",
       "[3448] \"NC-17\" \"\"      \"PG-13\" \"TV-MA\" \"TV-14\" \"TV-MA\" \"\"      \"\"      \"TV-MA\"\n",
       "[3457] \"TV-MA\" \"TV-Y\"  \"R\"     \"\"      \"\"      \"PG-13\" \"TV-MA\" \"\"      \"TV-MA\"\n",
       "[3466] \"PG-13\" \"\"      \"TV-14\" \"PG-13\" \"\"      \"PG-13\" \"TV-MA\" \"TV-MA\" \"\"     \n",
       "[3475] \"\"      \"TV-MA\" \"TV-14\" \"TV-14\" \"TV-G\"  \"TV-Y\"  \"TV-MA\" \"R\"     \"R\"    \n",
       "[3484] \"\"      \"R\"     \"\"      \"\"      \"TV-MA\" \"TV-MA\" \"TV-MA\" \"\"      \"\"     \n",
       "[3493] \"\"      \"TV-MA\" \"\"      \"TV-14\" \"\"      \"\"      \"PG-13\" \"TV-14\" \"TV-MA\"\n",
       "[3502] \"\"      \"\"      \"\"      \"\"      \"\"      \"TV-MA\" \"\"      \"TV-G\"  \"TV-MA\"\n",
       "[3511] \"\"      \"\"      \"TV-14\" \"TV-14\" \"\"      \"\"      \"G\"     \"TV-MA\" \"R\"    \n",
       "[3520] \"TV-MA\" \"\"      \"TV-PG\" \"\"      \"TV-PG\" \"\"      \"PG\"    \"\"      \"R\"    \n",
       "[3529] \"\"      \"TV-MA\" \"TV-MA\" \"PG\"    \"R\"     \"\"      \"\"      \"\"      \"\"     \n",
       "[3538] \"TV-MA\" \"\"      \"\"      \"PG-13\" \"\"      \"\"      \"TV-14\" \"TV-MA\" \"\"     \n",
       "[3547] \"TV-MA\" \"\"      \"PG-13\" \"PG\"    \"TV-MA\" \"\"      \"G\"     \"TV-MA\" \"TV-Y\" \n",
       "[3556] \"TV-MA\" \"TV-Y7\" \"TV-MA\" \"\"      \"TV-14\" \"TV-MA\" \"R\"     \"TV-14\" \"TV-MA\"\n",
       "[3565] \"TV-MA\" \"TV-MA\" \"\"      \"TV-MA\" \"\"      \"TV-MA\" \"TV-MA\" \"\"      \"TV-PG\"\n",
       "[3574] \"\"      \"TV-MA\" \"\"      \"\"      \"NC-17\" \"\"      \"TV-PG\" \"TV-MA\" \"TV-MA\"\n",
       "[3583] \"\"      \"TV-PG\" \"\"      \"TV-PG\" \"\"      \"TV-MA\" \"TV-MA\" \"TV-MA\" \"\"     \n",
       "[3592] \"TV-MA\" \"TV-MA\" \"R\"     \"\"      \"\"      \"\"      \"\"      \"\"      \"TV-MA\"\n",
       "[3601] \"\"      \"TV-MA\" \"TV-MA\" \"\"      \"\"      \"\"      \"TV-14\" \"\"      \"TV-MA\"\n",
       "[3610] \"PG-13\" \"\"      \"TV-MA\" \"TV-MA\" \"PG\"    \"\"      \"\"      \"TV-Y7\" \"TV-MA\"\n",
       "[3619] \"\"      \"\"      \"\"      \"\"      \"\"      \"\"      \"TV-MA\" \"R\"     \"TV-MA\"\n",
       "[3628] \"TV-MA\" \"TV-14\" \"TV-Y\"  \"\"      \"TV-MA\" \"\"      \"TV-14\" \"TV-MA\" \"TV-14\"\n",
       "[3637] \"TV-MA\" \"\"      \"\"      \"\"      \"PG\"    \"TV-14\" \"TV-MA\" \"TV-14\" \"\"     \n",
       "[3646] \"\"      \"\"      \"\"      \"TV-MA\" \"\"      \"TV-PG\" \"TV-G\"  \"\"      \"R\"    \n",
       "[3655] \"\"      \"TV-MA\" \"TV-MA\" \"\"      \"\"      \"TV-Y\"  \"TV-MA\" \"TV-MA\" \"TV-14\"\n",
       "[3664] \"\"      \"PG-13\" \"\"      \"\"      \"\"      \"TV-MA\" \"TV-PG\" \"\"      \"TV-PG\"\n",
       "[3673] \"TV-MA\" \"\"      \"\"      \"TV-MA\" \"\"      \"\"      \"\"      \"\"      \"TV-Y7\"\n",
       "[3682] \"\"      \"\"      \"R\"     \"TV-MA\" \"\"      \"\"      \"\"      \"TV-MA\" \"TV-MA\"\n",
       "[3691] \"R\"     \"TV-MA\" \"\"      \"\"      \"TV-MA\" \"\"      \"\"      \"\"      \"TV-14\"\n",
       "[3700] \"PG-13\" \"TV-Y\"  \"TV-Y\"  \"PG-13\" \"R\"     \"\"      \"\"      \"\"      \"TV-MA\"\n",
       "[3709] \"TV-14\" \"\"      \"PG\"    \"\"      \"\"      \"R\"     \"\"      \"TV-PG\" \"TV-MA\"\n",
       "[3718] \"TV-MA\" \"TV-MA\" \"TV-14\" \"TV-MA\" \"\"      \"\"      \"TV-14\" \"\"      \"\"     \n",
       "[3727] \"R\"     \"\"      \"\"      \"R\"     \"TV-14\" \"TV-MA\" \"\"      \"\"      \"PG-13\"\n",
       "[3736] \"\"      \"\"      \"PG\"    \"\"      \"TV-MA\" \"PG\"    \"\"      \"PG\"    \"TV-MA\"\n",
       "[3745] \"TV-MA\" \"TV-Y7\" \"PG-13\" \"PG-13\" \"\"      \"\"      \"\"      \"TV-Y\"  \"\"     \n",
       "[3754] \"TV-MA\" \"\"      \"\"      \"TV-G\"  \"TV-14\" \"R\"     \"\"      \"TV-MA\" \"TV-MA\"\n",
       "[3763] \"\"      \"\"      \"TV-MA\" \"TV-MA\" \"\"      \"TV-PG\" \"TV-MA\" \"\"      \"TV-MA\"\n",
       "[3772] \"\"      \"\"      \"TV-MA\" \"TV-PG\" \"TV-MA\" \"TV-MA\" \"\"      \"TV-MA\" \"\"     \n",
       "[3781] \"PG-13\" \"\"      \"TV-14\" \"\"      \"\"      \"TV-MA\" \"TV-MA\" \"PG-13\" \"\"     \n",
       "[3790] \"TV-MA\" \"\"      \"\"      \"\"      \"\"      \"TV-MA\" \"\"      \"TV-MA\" \"TV-MA\"\n",
       "[3799] \"\"      \"TV-Y7\" \"TV-MA\" \"\"      \"\"      \"TV-G\"  \"PG-13\" \"\"      \"TV-MA\"\n",
       "[3808] \"TV-MA\" \"\"      \"\"      \"\"      \"\"      \"\"      \"PG\"    \"R\"     \"PG-13\"\n",
       "[3817] \"TV-PG\" \"\"      \"\"      \"\"      \"\"      \"\"      \"\"      \"TV-Y7\" \"\"     \n",
       "[3826] \"\"      \"TV-14\" \"\"      \"\"      \"TV-MA\" \"TV-PG\" \"PG\"    \"TV-MA\" \"TV-G\" \n",
       "[3835] \"G\"     \"R\"     \"\"      \"TV-PG\" \"\"      \"\"      \"TV-MA\" \"TV-MA\" \"TV-MA\"\n",
       "[3844] \"\"      \"\"      \"\"      \"\"      \"TV-MA\" \"\"      \"\"      \"\"      \"\"     \n",
       "[3853] \"\"      \"\"      \"\"      \"R\"     \"TV-MA\" \"TV-PG\" \"\"      \"TV-PG\" \"TV-14\"\n",
       "[3862] \"\"      \"TV-MA\" \"TV-PG\" \"TV-Y7\" \"\"      \"TV-PG\" \"\"      \"\"      \"\"     \n",
       "[3871] \"\"      \"\"      \"TV-PG\" \"\"      \"\"      \"\"      \"R\"     \"TV-MA\" \"\"     \n",
       "[3880] \"TV-MA\" \"TV-Y7\" \"TV-G\"  \"TV-14\" \"\"      \"PG-13\" \"R\"     \"TV-Y7\" \"\"     \n",
       "[3889] \"PG\"    \"\"      \"\"      \"\"      \"\"      \"TV-MA\" \"PG-13\" \"TV-14\" \"TV-MA\"\n",
       "[3898] \"TV-MA\" \"\"      \"\"      \"\"      \"\"      \"TV-14\" \"PG-13\" \"\"      \"TV-14\"\n",
       "[3907] \"TV-MA\" \"\"      \"\"      \"\"      \"TV-PG\" \"PG-13\" \"\"      \"\"      \"TV-MA\"\n",
       "[3916] \"TV-G\"  \"TV-PG\" \"TV-MA\" \"\"      \"TV-MA\" \"TV-MA\" \"G\"     \"\"      \"\"     \n",
       "[3925] \"\"      \"TV-MA\" \"PG\"    \"\"      \"TV-14\" \"TV-14\" \"\"      \"TV-MA\" \"PG\"   \n",
       "[3934] \"\"      \"TV-MA\" \"TV-MA\" \"\"      \"\"      \"\"      \"\"      \"\"      \"TV-MA\"\n",
       "[3943] \"TV-14\" \"\"      \"PG-13\" \"TV-14\" \"\"      \"\"      \"TV-MA\" \"TV-14\" \"\"     \n",
       "[3952] \"\"      \"TV-MA\" \"TV-MA\" \"\"      \"\"      \"\"      \"\"      \"TV-MA\" \"\"     \n",
       "[3961] \"\"      \"\"      \"\"      \"TV-MA\" \"\"      \"\"      \"TV-MA\" \"\"      \"\"     \n",
       "[3970] \"TV-MA\" \"\"      \"\"      \"\"      \"\"      \"PG\"    \"\"      \"\"      \"TV-MA\"\n",
       "[3979] \"\"      \"PG-13\" \"TV-MA\" \"\"      \"\"      \"PG-13\" \"\"      \"PG\"    \"\"     \n",
       "[3988] \"\"      \"R\"     \"\"      \"TV-14\" \"\"      \"\"      \"TV-G\"  \"\"      \"\"     \n",
       "[3997] \"\"      \"\"      \"\"      \"R\"     \"\"      \"TV-MA\" \"TV-MA\" \"\"      \"\"     \n",
       "[4006] \"TV-PG\" \"\"      \"\"      \"\"      \"\"      \"\"      \"\"      \"\"      \"\"     \n",
       "[4015] \"PG\"    \"\"      \"\"      \"TV-MA\" \"\"      \"\"      \"\"      \"\"      \"\"     \n",
       "[4024] \"\"      \"\"      \"\"      \"\"      \"\"      \"\"      \"\"      \"\"      \"\"     \n",
       "[4033] \"\"      \"\"      \"R\"     \"TV-Y7\" \"R\"     \"\"      \"TV-PG\" \"\"      \"\"     \n",
       "[4042] \"TV-PG\" \"TV-14\" \"TV-MA\" \"TV-MA\" \"PG-13\" \"\"      \"TV-PG\" \"\"      \"\"     \n",
       "[4051] \"\"      \"TV-MA\" \"\"      \"\"      \"TV-MA\" \"PG\"    \"PG\"    \"\"      \"\"     \n",
       "[4060] \"\"      \"G\"     \"\"      \"\"      \"\"      \"\"      \"\"      \"\"      \"\"     \n",
       "[4069] \"\"      \"\"      \"\"      \"\"      \"\"      \"TV-Y\"  \"\"      \"TV-14\" \"PG-13\"\n",
       "[4078] \"\"      \"\"      \"\"      \"\"      \"\"      \"PG-13\" \"TV-14\" \"\"      \"TV-MA\"\n",
       "[4087] \"TV-14\" \"\"      \"\"      \"TV-MA\" \"TV-14\" \"PG\"    \"\"      \"\"      \"\"     \n",
       "[4096] \"\"      \"\"      \"\"      \"\"      \"TV-MA\" \"\"      \"\"      \"\"      \"\"     \n",
       "[4105] \"TV-Y\"  \"\"      \"\"      \"\"      \"\"      \"\"      \"TV-14\" \"\"      \"PG-13\"\n",
       "[4114] \"\"      \"TV-MA\" \"\"      \"\"      \"\"      \"\"      \"\"      \"R\"     \"\"     \n",
       "[4123] \"TV-14\" \"TV-Y\"  \"\"      \"TV-PG\" \"\"      \"\"      \"TV-14\" \"TV-MA\" \"\"     \n",
       "[4132] \"\"      \"\"      \"\"      \"\"      \"TV-MA\" \"G\"     \"R\"     \"\"      \"TV-MA\"\n",
       "[4141] \"\"      \"\"      \"\"      \"\"      \"\"      \"\"      \"\"      \"TV-14\" \"\"     \n",
       "[4150] \"\"      \"\"      \"\"      \"\"      \"\"      \"\"      \"PG-13\" \"PG-13\" \"\"     \n",
       "[4159] \"\"      \"\"      \"TV-Y\"  \"\"      \"\"      \"\"      \"\"      \"\"      \"\"     \n",
       "[4168] \"\"      \"G\"     \"TV-14\" \"\"      \"PG\"    \"\"      \"R\"     \"\"      \"\"     \n",
       "[4177] \"\"      \"\"      \"TV-14\" \"\"      \"\"      \"\"      \"\"      \"\"      \"R\"    \n",
       "[4186] \"\"      \"\"      \"\"      \"PG-13\" \"TV-MA\" \"TV-14\" \"TV-G\"  \"\"      \"\"     \n",
       "[4195] \"\"      \"\"      \"\"      \"\"      \"\"      \"\"      \"TV-MA\" \"R\"     \"\"     \n",
       "[4204] \"PG\"    \"TV-Y\"  \"\"      \"\"      \"G\"     \"\"      \"\"      \"\"      \"\"     \n",
       "[4213] \"TV-MA\" \"\"      \"\"      \"PG\"    \"\"      \"\"      \"\"      \"\"      \"TV-MA\"\n",
       "[4222] \"\"      \"\"      \"\"      \"\"      \"\"      \"TV-MA\" \"\"      \"R\"     \"\"     \n",
       "[4231] \"\"      \"TV-PG\" \"\"      \"TV-14\" \"\"      \"\"      \"PG-13\" \"\"      \"\"     \n",
       "[4240] \"\"      \"\"      \"\"      \"TV-MA\" \"PG\"    \"\"      \"\"      \"\"      \"TV-G\" \n",
       "[4249] \"\"      \"\"      \"\"      \"\"      \"\"      \"\"      \"\"      \"G\"     \"\"     \n",
       "[4258] \"\"      \"\"      \"\"      \"\"      \"PG\"    \"\"      \"TV-MA\" \"TV-MA\" \"TV-MA\"\n",
       "[4267] \"\"      \"\"      \"\"      \"\"      \"\"      \"PG-13\" \"\"      \"TV-Y7\" \"\"     \n",
       "[4276] \"\"      \"\"      \"TV-14\" \"\"      \"\"      \"TV-Y\"  \"\"      \"\"      \"\"     \n",
       "[4285] \"\"      \"\"      \"\"      \"\"      \"\"      \"\"      \"\"      \"\"      \"\"     \n",
       "[4294] \"\"      \"\"      \"\"      \"\"      \"TV-MA\" \"\"      \"\"      \"PG\"    \"\"     \n",
       "[4303] \"\"      \"\"      \"TV-MA\" \"TV-MA\" \"\"      \"\"      \"\"      \"\"      \"\"     \n",
       "[4312] \"TV-G\"  \"\"      \"TV-MA\" \"\"      \"PG\"    \"\"      \"\"      \"TV-PG\" \"G\"    \n",
       "[4321] \"\"      \"PG-13\" \"\"      \"\"      \"\"      \"TV-MA\" \"\"      \"TV-Y\"  \"\"     \n",
       "[4330] \"\"      \"\"      \"TV-MA\" \"\"      \"TV-Y\"  \"G\"     \"TV-Y7\" \"\"      \"\"     \n",
       "[4339] \"\"      \"\"      \"\"      \"\"      \"\"      \"\"      \"\"      \"\"      \"TV-14\"\n",
       "[4348] \"R\"     \"\"      \"\"      \"\"      \"\"      \"G\"     \"\"      \"\"      \"\"     \n",
       "[4357] \"TV-Y\"  \"\"      \"TV-Y\"  \"PG\"    \"\"      \"\"      \"\"      \"\"      \"TV-14\"\n",
       "[4366] \"\"      \"\"      \"\"      \"\"      \"\"      \"PG-13\" \"\"      \"\"      \"TV-MA\"\n",
       "[4375] \"\"      \"\"      \"\"      \"\"      \"\"      \"\"      \"R\"     \"\"      \"\"     \n",
       "[4384] \"\"      \"G\"     \"\"      \"\"      \"\"      \"TV-Y\"  \"\"      \"\"      \"\"     \n",
       "[4393] \"\"      \"TV-MA\" \"TV-14\" \"\"      \"\"      \"G\"     \"\"      \"\"      \"\"     \n",
       "[4402] \"PG-13\" \"TV-PG\" \"\"      \"\"      \"\"      \"\"      \"TV-14\" \"\"      \"\"     \n",
       "[4411] \"\"      \"\"      \"\"      \"\"      \"\"      \"\"      \"\"      \"\"      \"\"     \n",
       "[4420] \"\"      \"\"      \"\"      \"\"      \"PG-13\" \"TV-Y\"  \"\"      \"TV-Y\"  \"\"     \n",
       "[4429] \"\"      \"\"      \"TV-MA\" \"TV-MA\" \"TV-14\" \"\"      \"\"      \"\"      \"TV-MA\"\n",
       "[4438] \"R\"     \"PG-13\" \"TV-MA\" \"\"      \"G\"     \"\"      \"PG\"    \"\"      \"\"     \n",
       "[4447] \"TV-PG\" \"\"      \"\"      \"\"      \"TV-PG\" \"\"      \"TV-PG\" \"\"      \"\"     \n",
       "[4456] \"TV-14\" \"\"      \"\"      \"TV-PG\" \"\"      \"\"      \"\"      \"\"      \"\"     \n",
       "[4465] \"\"      \"\"      \"\"      \"G\"     \"\"      \"\"      \"\"      \"\"      \"\"     \n",
       "[4474] \"TV-G\"  \"\"      \"\"      \"\"      \"\"      \"G\"     \"\"      \"\"      \"PG\"   \n",
       "[4483] \"\"      \"\"      \"TV-MA\" \"\"      \"\"      \"\"      \"TV-14\" \"\"      \"\"     \n",
       "[4492] \"\"      \"\"      \"\"      \"PG-13\" \"TV-MA\" \"\"      \"\"      \"\"      \"\"     \n",
       "[4501] \"\"      \"\"      \"G\"     \"\"      \"\"      \"PG-13\" \"\"      \"\"      \"\"     \n",
       "[4510] \"\"      \"\"      \"G\"     \"\"      \"\"      \"TV-14\" \"\"      \"\"      \"\"     \n",
       "[4519] \"\"      \"\"      \"\"      \"\"      \"\"      \"\"      \"TV-MA\" \"\"      \"\"     \n",
       "[4528] \"\"      \"\"      \"\"      \"\"      \"\"      \"\"      \"\"      \"\"      \"G\"    \n",
       "[4537] \"G\"     \"\"      \"\"      \"\"      \"\"      \"\"      \"\"      \"\"      \"\"     \n",
       "[4546] \"\"      \"\"      \"\"      \"\"      \"\"      \"\"      \"PG\"    \"\"      \"\"     \n",
       "[4555] \"\"      \"\"      \"\"      \"\"      \"\"      \"\"      \"\"      \"PG-13\" \"\"     \n",
       "[4564] \"\"      \"\"      \"\"      \"\"      \"\"      \"\"      \"\"      \"\"      \"\"     \n",
       "[4573] \"\"      \"\"      \"\"      \"PG-13\" \"\"      \"\"      \"\"      \"G\"     \"\"     \n",
       "[4582] \"\"      \"\"      \"\"      \"\"      \"\"      \"G\"     \"TV-14\" \"\"      \"\"     \n",
       "[4591] \"\"      \"TV-MA\" \"G\"     \"\"      \"PG-13\" \"\"      \"TV-14\" \"PG-13\" \"\"     \n",
       "[4600] \"\"      \"\"      \"\"      \"\"      \"\"      \"\"      \"\"      \"\"      \"TV-Y7\"\n",
       "[4609] \"\"      \"TV-MA\" \"G\"     \"\"      \"PG-13\" \"\"      \"\"      \"\"      \"TV-14\"\n",
       "[4618] \"\"      \"\"      \"\"      \"TV-14\" \"\"      \"\"      \"\"      \"\"      \"\"     \n",
       "[4627] \"\"      \"\"      \"\"      \"\"      \"\"      \"\"      \"TV-14\" \"\"      \"\"     \n",
       "[4636] \"R\"     \"\"      \"\"      \"\"      \"PG\"    \"\"      \"\"      \"\"      \"\"     \n",
       "[4645] \"\"      \"G\"     \"TV-Y7\" \"\"      \"\"      \"\"      \"\"      \"\"      \"\"     \n",
       "[4654] \"\"      \"\"      \"\"      \"\"      \"\"      \"\"      \"\"      \"\"      \"\"     \n",
       "[4663] \"\"      \"\"      \"\"      \"\"      \"\"      \"\"      \"\"      \"\"      \"\"     \n",
       "[4672] \"\"      \"TV-14\" \"\"      \"\"      \"TV-Y7\" \"G\"     \"\"      \"\"      \"\"     \n",
       "[4681] \"TV-14\" \"\"      \"\"      \"\"      \"\"      \"\"      \"\"      \"\"      \"\"     \n",
       "[4690] \"\"      \"\"      \"\"      \"PG-13\" \"TV-MA\" \"R\"     \"PG\"    \"PG-13\" \"PG\"   \n",
       "[4699] \"R\"     \"R\"     \"TV-MA\" \"TV-PG\" \"PG\"    \"R\"     \"TV-MA\" \"TV-MA\" \"TV-MA\"\n",
       "[4708] \"\"      \"PG-13\" \"TV-MA\" \"TV-14\" \"PG-13\" \"TV-MA\" \"TV-MA\" \"R\"     \"TV-MA\"\n",
       "[4717] \"\"      \"TV-MA\" \"TV-14\" \"TV-MA\" \"TV-MA\" \"PG-13\" \"TV-14\" \"\"      \"TV-MA\"\n",
       "[4726] \"TV-MA\" \"R\"     \"R\"     \"TV-MA\" \"TV-MA\" \"TV-MA\" \"\"      \"\"      \"TV-MA\"\n",
       "[4735] \"PG-13\" \"TV-MA\" \"TV-MA\" \"TV-MA\" \"PG-13\" \"TV-14\" \"TV-MA\" \"TV-MA\" \"TV-MA\"\n",
       "[4744] \"R\"     \"TV-MA\" \"TV-14\" \"TV-Y7\" \"PG-13\" \"TV-MA\" \"TV-MA\" \"PG-13\" \"\"     \n",
       "[4753] \"TV-14\" \"TV-MA\" \"TV-MA\" \"TV-14\" \"TV-MA\" \"TV-PG\" \"TV-MA\" \"\"      \"R\"    \n",
       "[4762] \"PG-13\" \"PG-13\" \"PG-13\" \"TV-14\" \"PG\"    \"TV-MA\" \"TV-MA\" \"TV-MA\" \"TV-14\"\n",
       "[4771] \"R\"     \"\"      \"TV-MA\" \"TV-MA\" \"\"      \"TV-14\" \"TV-MA\" \"R\"     \"TV-14\"\n",
       "[4780] \"TV-14\" \"R\"     \"TV-MA\" \"TV-MA\" \"R\"     \"R\"     \"R\"     \"TV-14\" \"R\"    \n",
       "[4789] \"TV-MA\" \"R\"     \"TV-G\"  \"\"      \"TV-PG\" \"TV-14\" \"R\"     \"\"      \"TV-Y7\"\n",
       "[4798] \"\"      \"R\"     \"TV-MA\" \"TV-MA\" \"TV-Y7\" \"TV-MA\" \"R\"     \"\"      \"R\"    \n",
       "[4807] \"TV-MA\" \"TV-MA\" \"\"      \"TV-MA\" \"TV-MA\" \"\"      \"TV-MA\" \"\"      \"R\"    \n",
       "[4816] \"\"      \"TV-MA\" \"PG-13\" \"R\"     \"\"      \"TV-MA\" \"TV-MA\" \"R\"     \"PG\"   \n",
       "[4825] \"PG-13\" \"PG-13\" \"TV-MA\" \"TV-14\" \"TV-MA\" \"R\"     \"TV-14\" \"TV-14\" \"TV-MA\"\n",
       "[4834] \"TV-MA\" \"TV-MA\" \"\"      \"\"      \"\"      \"\"      \"R\"     \"R\"     \"\"     \n",
       "[4843] \"\"      \"\"      \"TV-MA\" \"R\"     \"\"      \"\"      \"R\"     \"PG-13\" \"TV-MA\"\n",
       "[4852] \"TV-PG\" \"PG-13\" \"TV-MA\" \"R\"     \"\"      \"PG-13\" \"TV-MA\" \"R\"     \"TV-MA\"\n",
       "[4861] \"TV-14\" \"TV-MA\" \"\"      \"\"      \"TV-MA\" \"R\"     \"TV-MA\" \"R\"     \"\"     \n",
       "[4870] \"\"      \"R\"     \"TV-MA\" \"TV-Y7\" \"R\"     \"TV-MA\" \"\"      \"PG\"    \"TV-MA\"\n",
       "[4879] \"PG-13\" \"TV-MA\" \"TV-MA\" \"\"      \"TV-MA\" \"R\"     \"\"      \"R\"     \"TV-MA\"\n",
       "[4888] \"NC-17\" \"TV-MA\" \"\"      \"\"      \"TV-MA\" \"\"      \"PG\"    \"\"      \"R\"    \n",
       "[4897] \"TV-MA\" \"TV-MA\" \"TV-14\" \"TV-MA\" \"\"      \"R\"     \"\"      \"TV-MA\" \"\"     \n",
       "[4906] \"TV-14\" \"\"      \"PG-13\" \"PG-13\" \"PG-13\" \"TV-14\" \"TV-MA\" \"PG\"    \"TV-PG\"\n",
       "[4915] \"R\"     \"TV-Y\"  \"TV-14\" \"R\"     \"TV-MA\" \"\"      \"R\"     \"TV-MA\" \"TV-MA\"\n",
       "[4924] \"TV-PG\" \"\"      \"TV-MA\" \"R\"     \"PG\"    \"\"      \"TV-MA\" \"PG-13\" \"TV-MA\"\n",
       "[4933] \"TV-MA\" \"\"      \"TV-MA\" \"\"      \"\"      \"PG\"    \"TV-PG\" \"TV-14\" \"\"     \n",
       "[4942] \"TV-14\" \"\"      \"\"      \"TV-MA\" \"TV-MA\" \"TV-MA\" \"PG-13\" \"TV-MA\" \"\"     \n",
       "[4951] \"PG\"    \"TV-PG\" \"\"      \"TV-MA\" \"TV-14\" \"TV-MA\" \"PG\"    \"\"      \"R\"    \n",
       "[4960] \"R\"     \"TV-MA\" \"\"      \"TV-MA\" \"R\"     \"\"      \"\"      \"\"      \"TV-MA\"\n",
       "[4969] \"R\"     \"\"      \"TV-MA\" \"TV-MA\" \"R\"     \"R\"     \"TV-MA\" \"R\"     \"TV-MA\"\n",
       "[4978] \"R\"     \"TV-MA\" \"\"      \"\"      \"\"      \"R\"     \"TV-MA\" \"\"      \"\"     \n",
       "[4987] \"TV-MA\" \"TV-MA\" \"TV-MA\" \"TV-MA\" \"TV-14\" \"\"      \"TV-MA\" \"PG\"    \"\"     \n",
       "[4996] \"PG-13\" \"TV-G\"  \"\"      \"TV-14\" \"TV-14\" \"TV-14\" \"R\"     \"\"      \"\"     \n",
       "[5005] \"TV-MA\" \"\"      \"TV-MA\" \"R\"     \"TV-14\" \"R\"     \"\"      \"TV-MA\" \"R\"    \n",
       "[5014] \"\"      \"R\"     \"\"      \"R\"     \"\"      \"PG-13\" \"TV-14\" \"\"      \"TV-Y7\"\n",
       "[5023] \"R\"     \"R\"     \"TV-MA\" \"TV-MA\" \"TV-PG\" \"R\"     \"TV-14\" \"R\"     \"TV-14\"\n",
       "[5032] \"G\"     \"R\"     \"R\"     \"\"      \"TV-PG\" \"TV-MA\" \"\"      \"\"      \"\"     \n",
       "[5041] \"\"      \"\"      \"TV-PG\" \"PG-13\" \"TV-14\" \"R\"     \"\"      \"TV-MA\" \"TV-MA\"\n",
       "[5050] \"\"      \"R\"     \"TV-MA\" \"\"      \"TV-14\" \"TV-MA\" \"TV-MA\" \"\"      \"\"     \n",
       "[5059] \"TV-PG\" \"\"      \"\"      \"TV-Y7\" \"PG-13\" \"PG-13\" \"TV-PG\" \"PG\"    \"PG-13\"\n",
       "[5068] \"\"      \"R\"     \"PG\"    \"R\"     \"\"      \"\"      \"TV-MA\" \"TV-MA\" \"TV-MA\"\n",
       "[5077] \"TV-14\" \"R\"     \"PG-13\" \"\"      \"TV-MA\" \"\"      \"\"      \"TV-14\" \"TV-MA\"\n",
       "[5086] \"\"      \"TV-MA\" \"TV-Y7\" \"TV-14\" \"TV-MA\" \"TV-14\" \"R\"     \"TV-14\" \"TV-MA\"\n",
       "[5095] \"R\"     \"TV-MA\" \"\"      \"\"      \"TV-14\" \"\"      \"TV-14\" \"\"      \"TV-MA\"\n",
       "[5104] \"\"      \"TV-Y\"  \"TV-PG\" \"TV-MA\" \"R\"     \"\"      \"TV-14\" \"TV-14\" \"PG-13\"\n",
       "[5113] \"TV-MA\" \"TV-MA\" \"\"      \"TV-MA\" \"\"      \"PG-13\" \"\"      \"TV-14\" \"TV-Y7\"\n",
       "[5122] \"\"      \"\"      \"\"      \"TV-MA\" \"R\"     \"TV-MA\" \"TV-MA\" \"TV-14\" \"TV-14\"\n",
       "[5131] \"TV-MA\" \"\"      \"\"      \"\"      \"TV-14\" \"\"      \"TV-Y\"  \"\"      \"NC-17\"\n",
       "[5140] \"TV-MA\" \"R\"     \"TV-MA\" \"TV-PG\" \"\"      \"PG-13\" \"\"      \"TV-MA\" \"TV-MA\"\n",
       "[5149] \"TV-MA\" \"\"      \"TV-MA\" \"R\"     \"TV-14\" \"PG\"    \"\"      \"\"      \"\"     \n",
       "[5158] \"PG-13\" \"TV-14\" \"PG-13\" \"\"      \"TV-PG\" \"G\"     \"TV-14\" \"R\"     \"\"     \n",
       "[5167] \"\"      \"\"      \"TV-MA\" \"\"      \"\"      \"TV-MA\" \"R\"     \"\"      \"TV-14\"\n",
       "[5176] \"\"      \"\"      \"TV-MA\" \"\"      \"\"      \"R\"     \"PG-13\" \"TV-14\" \"\"     \n",
       "[5185] \"R\"     \"R\"     \"TV-MA\" \"TV-MA\" \"TV-MA\" \"TV-MA\" \"TV-MA\" \"\"      \"\"     \n",
       "[5194] \"PG-13\" \"TV-G\"  \"\"      \"TV-14\" \"TV-MA\" \"TV-PG\" \"\"      \"TV-14\" \"PG-13\"\n",
       "[5203] \"TV-14\" \"\"      \"TV-14\" \"R\"     \"\"      \"TV-MA\" \"TV-PG\" \"TV-MA\" \"\"     \n",
       "[5212] \"TV-MA\" \"\"      \"TV-Y7\" \"TV-Y\"  \"\"      \"\"      \"TV-PG\" \"TV-MA\" \"\"     \n",
       "[5221] \"TV-MA\" \"\"      \"\"      \"TV-14\" \"\"      \"R\"     \"R\"     \"TV-MA\" \"TV-MA\"\n",
       "[5230] \"R\"     \"TV-MA\" \"TV-MA\" \"\"      \"PG-13\" \"TV-MA\" \"TV-MA\" \"\"      \"\"     \n",
       "[5239] \"\"      \"PG-13\" \"PG-13\" \"TV-14\" \"TV-PG\" \"TV-MA\" \"TV-MA\" \"R\"     \"\"     \n",
       "[5248] \"\"      \"\"      \"\"      \"\"      \"\"      \"\"      \"\"      \"TV-14\" \"\"     \n",
       "[5257] \"G\"     \"TV-14\" \"\"      \"PG-13\" \"PG-13\" \"TV-MA\" \"PG-13\" \"TV-MA\" \"TV-MA\"\n",
       "[5266] \"\"      \"TV-MA\" \"\"      \"TV-MA\" \"\"      \"\"      \"\"      \"TV-PG\" \"\"     \n",
       "[5275] \"\"      \"\"      \"TV-MA\" \"TV-G\"  \"\"      \"TV-14\" \"\"      \"TV-MA\" \"TV-MA\"\n",
       "[5284] \"\"      \"TV-MA\" \"TV-MA\" \"\"      \"TV-Y7\" \"PG-13\" \"R\"     \"TV-Y7\" \"\"     \n",
       "[5293] \"\"      \"TV-PG\" \"TV-MA\" \"\"      \"\"      \"TV-PG\" \"TV-Y\"  \"TV-G\"  \"PG\"   \n",
       "[5302] \"TV-Y\"  \"\"      \"TV-G\"  \"TV-Y\"  \"TV-Y7\" \"\"      \"\"      \"\"      \"\"     \n",
       "[5311] \"\"      \"TV-MA\" \"TV-MA\" \"TV-MA\" \"TV-MA\" \"TV-14\" \"\"      \"TV-MA\" \"G\"    \n",
       "[5320] \"\"      \"TV-14\" \"PG\"    \"TV-MA\" \"TV-14\" \"TV-MA\" \"PG\"    \"TV-14\" \"TV-MA\"\n",
       "[5329] \"\"      \"TV-MA\" \"TV-MA\" \"TV-MA\" \"\"      \"\"      \"TV-MA\" \"TV-MA\" \"\"     \n",
       "[5338] \"TV-Y\"  \"\"      \"R\"     \"TV-MA\" \"TV-PG\" \"\"      \"\"      \"\"      \"\"     \n",
       "[5347] \"TV-14\" \"\"      \"TV-PG\" \"TV-14\" \"\"      \"R\"     \"\"      \"TV-14\" \"\"     \n",
       "[5356] \"\"      \"TV-MA\" \"TV-MA\" \"TV-Y7\" \"TV-14\" \"TV-PG\" \"R\"     \"\"      \"\"     \n",
       "[5365] \"\"      \"TV-Y\"  \"\"      \"TV-PG\" \"\"      \"TV-Y7\" \"TV-Y\"  \"G\"     \"PG-13\"\n",
       "[5374] \"TV-MA\" \"\"      \"\"      \"TV-Y7\" \"TV-MA\" \"TV-Y\"  \"\"      \"\"      \"TV-MA\"\n",
       "[5383] \"TV-G\"  \"\"      \"TV-MA\" \"\"      \"TV-MA\" \"PG-13\" \"TV-Y7\" \"TV-Y7\" \"\"     \n",
       "[5392] \"\"      \"TV-MA\" \"\"      \"\"      \"\"      \"\"      \"R\"     \"TV-MA\" \"PG-13\"\n",
       "[5401] \"TV-14\" \"TV-14\" \"\"      \"PG-13\" \"TV-MA\" \"TV-MA\" \"\"      \"PG\"    \"\"     \n",
       "[5410] \"R\"     \"\"      \"TV-MA\" \"\"      \"\"      \"TV-MA\" \"TV-PG\" \"TV-Y\"  \"TV-MA\"\n",
       "[5419] \"TV-14\" \"TV-MA\" \"\"      \"TV-MA\" \"\"      \"TV-14\" \"R\"     \"TV-PG\" \"TV-MA\"\n",
       "[5428] \"\"      \"R\"     \"\"      \"TV-Y\"  \"\"      \"\"      \"TV-14\" \"TV-MA\" \"\"     \n",
       "[5437] \"R\"     \"\"      \"\"      \"\"      \"TV-14\" \"TV-MA\" \"TV-MA\" \"TV-Y7\" \"\"     \n",
       "[5446] \"\"      \"\"      \"\"      \"TV-Y\"  \"\"      \"TV-MA\" \"PG-13\" \"TV-MA\" \"\"     \n",
       "[5455] \"\"      \"TV-G\"  \"TV-14\" \"TV-14\" \"TV-Y\"  \"\"      \"\"      \"TV-MA\" \"\"     \n",
       "[5464] \"\"      \"\"      \"TV-MA\" \"G\"     \"PG-13\" \"\"      \"\"      \"TV-14\" \"TV-PG\"\n",
       "[5473] \"TV-MA\" \"PG-13\" \"\"      \"TV-Y7\" \"R\"     \"\"      \"TV-14\" \"\"      \"R\"    \n",
       "[5482] \"\"      \"TV-PG\" \"\"      \"TV-Y7\" \"\"      \"\"      \"R\"     \"TV-PG\" \"G\"    \n",
       "[5491] \"PG-13\" \"\"      \"TV-MA\" \"TV-MA\" \"\"      \"\"      \"TV-MA\" \"\"      \"TV-MA\"\n",
       "[5500] \"\"      \"\"      \"\"      \"TV-MA\" \"\"      \"\"      \"TV-14\" \"TV-G\"  \"\"     \n",
       "[5509] \"TV-MA\" \"\"      \"PG-13\" \"PG\"    \"\"      \"\"      \"\"      \"TV-MA\" \"TV-14\"\n",
       "[5518] \"\"      \"\"      \"\"      \"\"      \"PG-13\" \"\"      \"\"      \"TV-MA\" \"TV-14\"\n",
       "[5527] \"TV-MA\" \"\"      \"\"      \"\"      \"\"      \"\"      \"\"      \"R\"     \"\"     \n",
       "[5536] \"PG\"    \"\"      \"TV-Y\"  \"\"      \"TV-MA\" \"\"      \"\"      \"\"      \"TV-MA\"\n",
       "[5545] \"TV-MA\" \"\"      \"TV-MA\" \"\"      \"G\"     \"\"      \"\"      \"R\"     \"\"     \n",
       "[5554] \"\"      \"\"      \"TV-MA\" \"TV-Y\"  \"\"      \"\"      \"\"      \"\"      \"TV-MA\"\n",
       "[5563] \"\"      \"TV-MA\" \"PG-13\" \"\"      \"\"      \"PG-13\" \"TV-14\" \"\"      \"\"     \n",
       "[5572] \"TV-MA\" \"\"      \"TV-MA\" \"TV-MA\" \"\"      \"\"      \"\"      \"\"      \"\"     \n",
       "[5581] \"R\"     \"\"      \"\"      \"\"      \"R\"     \"TV-MA\" \"\"      \"PG-13\" \"TV-MA\"\n",
       "[5590] \"R\"     \"\"      \"TV-14\" \"\"      \"\"      \"\"      \"\"      \"TV-PG\" \"\"     \n",
       "[5599] \"\"      \"R\"     \"\"      \"\"      \"\"      \"\"      \"\"      \"\"      \"PG-13\"\n",
       "[5608] \"\"      \"\"      \"\"      \"\"      \"\"      \"\"      \"\"      \"TV-Y\"  \"\"     \n",
       "[5617] \"\"      \"\"      \"\"      \"\"      \"TV-G\"  \"\"      \"\"      \"\"      \"\"     \n",
       "[5626] \"\"      \"\"      \"TV-MA\" \"\"      \"\"      \"\"      \"\"      \"\"      \"PG-13\"\n",
       "[5635] \"\"      \"\"      \"\"      \"\"      \"PG-13\" \"\"      \"\"      \"\"      \"\"     \n",
       "[5644] \"PG-13\" \"\"      \"TV-14\" \"PG-13\" \"\"      \"\"      \"G\"     \"\"      \"\"     \n",
       "[5653] \"\"      \"\"      \"\"      \"\"      \"TV-14\" \"TV-MA\" \"\"      \"\"      \"\"     \n",
       "[5662] \"\"      \"\"      \"\"      \"\"      \"R\"     \"TV-MA\" \"TV-Y\"  \"\"      \"\"     \n",
       "[5671] \"TV-14\" \"\"      \"R\"     \"\"      \"\"      \"TV-14\" \"\"      \"\"      \"\"     \n",
       "[5680] \"TV-MA\" \"\"      \"\"      \"\"      \"TV-MA\" \"\"      \"\"      \"TV-PG\" \"\"     \n",
       "[5689] \"PG\"    \"TV-14\" \"\"      \"\"      \"R\"     \"TV-MA\" \"R\"     \"TV-PG\" \"\"     \n",
       "[5698] \"\"      \"\"      \"TV-PG\" \"TV-PG\" \"\"      \"\"      \"R\"     \"\"      \"\"     \n",
       "[5707] \"PG-13\" \"TV-14\" \"\"      \"\"      \"TV-14\" \"\"      \"\"      \"\"      \"\"     \n",
       "[5716] \"\"      \"TV-MA\" \"R\"     \"\"      \"G\"     \"\"      \"TV-PG\" \"\"      \"\"     \n",
       "[5725] \"\"      \"\"      \"\"      \"\"      \"\"      \"\"      \"\"      \"\"      \"\"     \n",
       "[5734] \"TV-MA\" \"\"      \"TV-MA\" \"PG\"    \"\"      \"TV-PG\" \"\"      \"\"      \"\"     \n",
       "[5743] \"\"      \"TV-MA\" \"G\"     \"\"      \"\"      \"R\"     \"\"      \"\"      \"\"     \n",
       "[5752] \"\"      \"\"      \"\"      \"\"      \"TV-PG\" \"\"      \"TV-14\" \"R\"     \"\"     \n",
       "[5761] \"TV-MA\" \"\"      \"\"      \"PG-13\" \"\"      \"\"      \"\"      \"PG\"    \"\"     \n",
       "[5770] \"\"      \"\"      \"\"      \"\"      \"\"      \"\"      \"\"      \"TV-14\" \"\"     \n",
       "[5779] \"TV-MA\" \"\"      \"\"      \"\"      \"\"      \"\"      \"TV-MA\" \"TV-MA\" \"\"     \n",
       "[5788] \"\"      \"\"      \"R\"     \"PG\"    \"\"      \"\"      \"\"      \"\"      \"\"     \n",
       "[5797] \"\"      \"\"      \"R\"     \"\"      \"R\"     \"TV-14\" \"\"      \"\"      \"\"     \n",
       "[5806] \"\"      \"\"      \"\"      \"\"      \"\"      \"\"      \"\"      \"\"      \"\"     \n",
       "[5815] \"\"      \"\"      \"\"      \"\"      \"\"      \"TV-MA\" \"\"      \"\"      \"\"     \n",
       "[5824] \"\"      \"\"      \"\"      \"\"      \"\"      \"\"      \"\"      \"TV-14\" \"TV-MA\"\n",
       "[5833] \"\"      \"TV-14\" \"\"      \"\"      \"\"      \"\"      \"\"      \"\"      \"\"     \n",
       "[5842] \"\"      \"\"      \"\"      \"\"      \"\"      \"\"      \"\"      \"PG-13\" \"\"     "
      ]
     },
     "metadata": {},
     "output_type": "display_data"
    }
   ],
   "source": [
    "Netflix$age_certification"
   ]
  },
  {
   "cell_type": "code",
   "execution_count": 5,
   "id": "8c9b7d18-4784-4f8a-8572-98cab13ac01e",
   "metadata": {
    "vscode": {
     "languageId": "r"
    }
   },
   "outputs": [],
   "source": [
    "Netflix1 <- na.omit(Netflix %>% filter(age_certification %in% c('TV-MA','TV-Y','TV-G')))"
   ]
  },
  {
   "cell_type": "code",
   "execution_count": 6,
   "id": "a1352f55-002f-41d7-840e-ea252ee8e877",
   "metadata": {
    "vscode": {
     "languageId": "r"
    }
   },
   "outputs": [
    {
     "data": {
      "text/html": [
       "<style>\n",
       ".list-inline {list-style: none; margin:0; padding: 0}\n",
       ".list-inline>li {display: inline-block}\n",
       ".list-inline>li:not(:last-child)::after {content: \"\\00b7\"; padding: 0 .5ex}\n",
       "</style>\n",
       "<ol class=list-inline><li>'TV-MA'</li><li>'TV-Y'</li><li>'TV-G'</li></ol>\n"
      ],
      "text/latex": [
       "\\begin{enumerate*}\n",
       "\\item 'TV-MA'\n",
       "\\item 'TV-Y'\n",
       "\\item 'TV-G'\n",
       "\\end{enumerate*}\n"
      ],
      "text/markdown": [
       "1. 'TV-MA'\n",
       "2. 'TV-Y'\n",
       "3. 'TV-G'\n",
       "\n",
       "\n"
      ],
      "text/plain": [
       "[1] \"TV-MA\" \"TV-Y\"  \"TV-G\" "
      ]
     },
     "metadata": {},
     "output_type": "display_data"
    }
   ],
   "source": [
    "unique( Netflix1$age_certification)"
   ]
  },
  {
   "cell_type": "code",
   "execution_count": 7,
   "id": "a2baf4c3-c92e-4eec-a8dc-106debbee507",
   "metadata": {
    "collapsed": true,
    "jupyter": {
     "outputs_hidden": true
    },
    "tags": [],
    "vscode": {
     "languageId": "r"
    }
   },
   "outputs": [
    {
     "data": {
      "text/html": [
       "<table class=\"dataframe\">\n",
       "<caption>A data.frame: 984 × 34</caption>\n",
       "<thead>\n",
       "\t<tr><th></th><th scope=col>X</th><th scope=col>id</th><th scope=col>title</th><th scope=col>type</th><th scope=col>description</th><th scope=col>release_year</th><th scope=col>age_certification</th><th scope=col>runtime</th><th scope=col>production_countries</th><th scope=col>seasons</th><th scope=col>...</th><th scope=col>thriller</th><th scope=col>crime</th><th scope=col>comedy</th><th scope=col>documentation</th><th scope=col>fantasy</th><th scope=col>scifi</th><th scope=col>romance</th><th scope=col>horror</th><th scope=col>history</th><th scope=col>music</th></tr>\n",
       "\t<tr><th></th><th scope=col>&lt;int&gt;</th><th scope=col>&lt;chr&gt;</th><th scope=col>&lt;chr&gt;</th><th scope=col>&lt;chr&gt;</th><th scope=col>&lt;chr&gt;</th><th scope=col>&lt;int&gt;</th><th scope=col>&lt;chr&gt;</th><th scope=col>&lt;int&gt;</th><th scope=col>&lt;chr&gt;</th><th scope=col>&lt;dbl&gt;</th><th scope=col>...</th><th scope=col>&lt;int&gt;</th><th scope=col>&lt;int&gt;</th><th scope=col>&lt;int&gt;</th><th scope=col>&lt;int&gt;</th><th scope=col>&lt;int&gt;</th><th scope=col>&lt;int&gt;</th><th scope=col>&lt;int&gt;</th><th scope=col>&lt;int&gt;</th><th scope=col>&lt;int&gt;</th><th scope=col>&lt;int&gt;</th></tr>\n",
       "</thead>\n",
       "<tbody>\n",
       "\t<tr><th scope=row>2</th><td> 26</td><td>ts45948</td><td>Monty Python's Fliegender Zirkus        </td><td>SHOW</td><td>Monty Python's Fliegender Zirkus consisted of two 45-minute Monty Python German television comedy specials produced by WDR for West German television. The two episodes were first broadcast in January and December 1972 and were shot entirely on film and mostly on location in Bavaria, with the first episode recorded in German and the second recorded in English and then dubbed into German.                                                                                                                                                                                                                                                                                                                                                                                                                                                                            </td><td>1972</td><td>TV-MA</td><td> 43</td><td>[]          </td><td> 1</td><td>...</td><td>0</td><td>0</td><td>1</td><td>0</td><td>0</td><td>0</td><td>0</td><td>0</td><td>0</td><td>0</td></tr>\n",
       "\t<tr><th scope=row>3</th><td> 45</td><td>ts21715</td><td><span style=white-space:pre-wrap>Thomas &amp; Friends                        </span></td><td>SHOW</td><td><span style=white-space:pre-wrap>Thomas &amp; Friends is a British children's television series, which had its first broadcast on the ITV network on 4 September 1984. It is based on The Railway Series of books by the Reverend Wilbert Awdry and his son, Christopher Awdry. These books deal with the adventures of a group of anthropomorphised locomotives and road vehicles who live on the fictional Island of Sodor. The books were based on stories Wilbert told to entertain his son, Christopher during his recovery from measles. From Series one to four, many of the stories are based on events from Awdry's personal experience.                                                                                                                                                                                                                                                                     </span></td><td>1984</td><td>TV-Y </td><td> 10</td><td><span style=white-space:pre-wrap>['GB']      </span></td><td>24</td><td>...</td><td>0</td><td>0</td><td>1</td><td>0</td><td>1</td><td>0</td><td>0</td><td>0</td><td>0</td><td>1</td></tr>\n",
       "\t<tr><th scope=row>4</th><td> 46</td><td>ts20678</td><td>Saved by the Bell                       </td><td>SHOW</td><td>Lovable schemer Zack Morris leads his pals on adventures at California's Bayside High School. The friends navigate relationships, final exams, school dances, breakups and more while frequently frustrating their principal, Mr. Richard Belding, who does his best to keep them in check.                                                                                                                                                                                                                                                                                                                                                                                                                                                                                                                                                                                      </td><td>1989</td><td>TV-G </td><td> 23</td><td>['US']      </td><td> 5</td><td>...</td><td>0</td><td>0</td><td>1</td><td>0</td><td>0</td><td>0</td><td>1</td><td>0</td><td>0</td><td>0</td></tr>\n",
       "\t<tr><th scope=row>5</th><td> 48</td><td>ts25028</td><td>Wheel of Fortune                        </td><td>SHOW</td><td>This game show sees contestants solve word puzzles, similar to those used in Hangman, to win cash and prizes determined by spinning a giant carnival wheel.                                                                                                                                                                                                                                                                                                                                                                                                                                                                                                                                                                                                                                                                                                                      </td><td>1983</td><td>TV-G </td><td> 26</td><td>['US']      </td><td>39</td><td>...</td><td>0</td><td>0</td><td>0</td><td>0</td><td>0</td><td>0</td><td>0</td><td>0</td><td>0</td><td>0</td></tr>\n",
       "\t<tr><th scope=row>6</th><td> 55</td><td>ts987  </td><td>Danger Mouse                            </td><td>SHOW</td><td>Danger Mouse, the world's greatest secret agent, and his side-kick Penfold work to foil the evil schemes of Baron Greenback.                                                                                                                                                                                                                                                                                                                                                                                                                                                                                                                                                                                                                                                                                                                                                     </td><td>1981</td><td>TV-Y </td><td> 14</td><td>['GB']      </td><td>10</td><td>...</td><td>0</td><td>0</td><td>1</td><td>0</td><td>0</td><td>1</td><td>0</td><td>0</td><td>0</td><td>0</td></tr>\n",
       "\t<tr><th scope=row>7</th><td> 59</td><td>ts2760 </td><td>Fireman Sam                             </td><td>SHOW</td><td>Follow the adventures of fireman Sam and his colleagues as they protect the citizens of the Welsh town of Pontypandy. Whenever the alarm sounds, brave Sam and his co-workers can be counted on to jump into a fire engine, hop onto a helicopter, or even launch an inflatable lifeboat to battle blazes, mount rescue missions, or provide medical attention to those in need.                                                                                                                                                                                                                                                                                                                                                                                                                                                                                                 </td><td>1987</td><td>TV-Y </td><td> 10</td><td>['GB']      </td><td>13</td><td>...</td><td>0</td><td>1</td><td>1</td><td>0</td><td>0</td><td>0</td><td>0</td><td>0</td><td>0</td><td>0</td></tr>\n",
       "\t<tr><th scope=row>8</th><td>117</td><td>ts25252</td><td>Yu-Gi-Oh!                               </td><td>SHOW</td><td>A timid young boy who loves all sorts of games, one day solves an ancient puzzle known as the Millennium Puzzle, causing his body to play host to a mysterious spirit with the personality of a gambler.                                                                                                                                                                                                                                                                                                                                                                                                                                                                                                                                                                                                                                                                         </td><td>1998</td><td>TV-Y </td><td> 22</td><td>['JP']      </td><td> 7</td><td>...</td><td>0</td><td>0</td><td>1</td><td>0</td><td>1</td><td>1</td><td>0</td><td>0</td><td>0</td><td>0</td></tr>\n",
       "\t<tr><th scope=row>9</th><td>119</td><td>ts22193</td><td>The Magic School Bus                    </td><td>SHOW</td><td>An eccentric schoolteacher takes her class on wondrous educational field trips with the help of a magical school bus.                                                                                                                                                                                                                                                                                                                                                                                                                                                                                                                                                                                                                                                                                                                                                            </td><td>1994</td><td>TV-Y </td><td> 26</td><td>['CA', 'US']</td><td> 4</td><td>...</td><td>0</td><td>0</td><td>1</td><td>0</td><td>1</td><td>1</td><td>0</td><td>0</td><td>0</td><td>0</td></tr>\n",
       "\t<tr><th scope=row>10</th><td>125</td><td>ts16919</td><td>All That                                </td><td>SHOW</td><td>The new kids of comedy bring the funny as All That, Americaâ€™s #1 kidâ€™s sketch comedy show, returns with a new cast and a few familiar faces. From Executive Producers Kenan Thompson and Kel Mitchell.                                                                                                                                                                                                                                                                                                                                                                                                                                                                                                                                                                                                                                                                       </td><td>1994</td><td>TV-G </td><td> 22</td><td>['US']      </td><td>11</td><td>...</td><td>0</td><td>0</td><td>1</td><td>0</td><td>0</td><td>0</td><td>0</td><td>0</td><td>0</td><td>1</td></tr>\n",
       "\t<tr><th scope=row>11</th><td>134</td><td>ts8570 </td><td><span style=white-space:pre-wrap>Barney &amp; Friends                        </span></td><td>SHOW</td><td><span style=white-space:pre-wrap>Barney &amp; Friends is an American children's television series aimed at children from ages 2 to 5. The series, which first aired on April 6, 1992, features the title character Barney, a purple anthropomorphic Tyrannosaurus rex who conveys educational messages through songs and small dance routines with a friendly, optimistic attitude.\n",
       "\n",
       "New episodes have not been produced since 2009; however reruns continue to air on various PBS stations.                                                                                                                                                                                                                                                                                                                                                                                                                        </span></td><td>1992</td><td>TV-G </td><td> 28</td><td><span style=white-space:pre-wrap>['US']      </span></td><td>14</td><td>...</td><td>0</td><td>0</td><td>1</td><td>0</td><td>0</td><td>0</td><td>0</td><td>0</td><td>0</td><td>0</td></tr>\n",
       "\t<tr><th scope=row>13</th><td>160</td><td>ts21684</td><td>Heartbreak High                         </td><td>SHOW</td><td>The ins and outs of the classroom lives of a group of students who attend the fictional Hartley High School in Sydney.                                                                                                                                                                                                                                                                                                                                                                                                                                                                                                                                                                                                                                                                                                                                                           </td><td>1994</td><td>TV-MA</td><td> 45</td><td>['AU']      </td><td> 7</td><td>...</td><td>0</td><td>0</td><td>1</td><td>0</td><td>0</td><td>0</td><td>1</td><td>0</td><td>0</td><td>0</td></tr>\n",
       "\t<tr><th scope=row>14</th><td>165</td><td>ts28516</td><td>Okupas                                  </td><td>SHOW</td><td>During the year 2000, Ricardo, Pollo, Walter and Chiqui occupied a house in the Buenos Aires neighborhood of Congreso. The four young people forge a strong friendship that leads them to go through different stories of crime, drugs and social marginalization.                                                                                                                                                                                                                                                                                                                                                                                                                                                                                                                                                                                                               </td><td>2000</td><td>TV-MA</td><td> 40</td><td>['AR']      </td><td> 1</td><td>...</td><td>0</td><td>1</td><td>0</td><td>0</td><td>0</td><td>0</td><td>0</td><td>0</td><td>0</td><td>0</td></tr>\n",
       "\t<tr><th scope=row>15</th><td>169</td><td>ts22039</td><td>H                                       </td><td>SHOW</td><td>H is a French sitcom with seventy-one, 22-minute episodes. The series was created by Kader Aoun, Xavier Matthieu and Ã‰ric Judor, and produced by Phillippe Berthe, Ã‰douard Molinaro, Jean-Luc Moreau and Charles NÃ©mÃ¨s. It ran from 24 October 1998 to 20 April 2002 on Canal+. In Canada, it is shown weekly on TV5.\n",
       "\n",
       "The title \"H\" comes from the three words that characterize the series: Humour, Histoire et HÃ´pital.                                                                                                                                                                                                                                                                                                                                                                                                                                                </td><td>1998</td><td>TV-MA</td><td> 25</td><td>['FR']      </td><td> 4</td><td>...</td><td>0</td><td>0</td><td>1</td><td>0</td><td>0</td><td>0</td><td>0</td><td>0</td><td>0</td><td>0</td></tr>\n",
       "\t<tr><th scope=row>17</th><td>216</td><td>ts4    </td><td>Breaking Bad                            </td><td>SHOW</td><td>When Walter White, a New Mexico chemistry teacher, is diagnosed with Stage III cancer and given a prognosis of only two years left to live. He becomes filled with a sense of fearlessness and an unrelenting desire to secure his family's financial future at any cost as he enters the dangerous world of drugs and crime.                                                                                                                                                                                                                                                                                                                                                                                                                                                                                                                                                    </td><td>2008</td><td>TV-MA</td><td> 48</td><td>['US']      </td><td> 5</td><td>...</td><td>1</td><td>1</td><td>0</td><td>0</td><td>0</td><td>0</td><td>0</td><td>0</td><td>0</td><td>0</td></tr>\n",
       "\t<tr><th scope=row>18</th><td>218</td><td>ts9    </td><td>The Walking Dead                        </td><td>SHOW</td><td>Sheriff's deputy Rick Grimes awakens from a coma to find a post-apocalyptic world dominated by flesh-eating zombies. He sets out to find his family and encounters many other survivors along the way.                                                                                                                                                                                                                                                                                                                                                                                                                                                                                                                                                                                                                                                                           </td><td>2010</td><td>TV-MA</td><td> 46</td><td>['US']      </td><td>11</td><td>...</td><td>1</td><td>0</td><td>0</td><td>0</td><td>0</td><td>1</td><td>0</td><td>1</td><td>0</td><td>0</td></tr>\n",
       "\t<tr><th scope=row>19</th><td>224</td><td>ts6644 </td><td>Borgen                                  </td><td>SHOW</td><td>40-year old political leader Birgitte Nyborg secures her party a landslide victory through her idealism and huge effort, then faces the biggest challenge of her life: how most effectively to use the newly won seats, and how far she is willing to go in order to gain as much influence as possible.                                                                                                                                                                                                                                                                                                                                                                                                                                                                                                                                                                         </td><td>2010</td><td>TV-MA</td><td> 58</td><td>['DK']      </td><td> 4</td><td>...</td><td>0</td><td>0</td><td>0</td><td>0</td><td>0</td><td>0</td><td>0</td><td>0</td><td>0</td><td>0</td></tr>\n",
       "\t<tr><th scope=row>20</th><td>228</td><td>ts17156</td><td>Arrested Development                    </td><td>SHOW</td><td>The story of a wealthy family that lost everything, and the one son who had no choice but to keep them all together.                                                                                                                                                                                                                                                                                                                                                                                                                                                                                                                                                                                                                                                                                                                                                             </td><td>2003</td><td>TV-MA</td><td> 28</td><td>['US']      </td><td> 5</td><td>...</td><td>0</td><td>0</td><td>1</td><td>0</td><td>0</td><td>0</td><td>0</td><td>0</td><td>0</td><td>0</td></tr>\n",
       "\t<tr><th scope=row>21</th><td>230</td><td>ts26091</td><td>The Staircase                           </td><td>SHOW</td><td>Academy Award-winning documentary filmmaker, Jean-Xavier de Lestrade, presents a gripping courtroom thriller, offering a rare and revealing inside look at a high-profile murder trial. In 2001, author Michael Peterson was arraigned for the murder of his wife Kathleen, whose body was discovered lying in a pool of blood on the stairway of their home. Granted unusual access to Peterson's lawyers, home and immediate family, de Lestrade's cameras capture the defense team as it considers its strategic options. The series is an engrossing look at contemporary American justice that features more twists than a legal bestseller.                                                                                                                                                                                                                                </td><td>2004</td><td>TV-MA</td><td> 49</td><td>['FR']      </td><td> 2</td><td>...</td><td>0</td><td>1</td><td>0</td><td>1</td><td>0</td><td>0</td><td>0</td><td>0</td><td>0</td><td>0</td></tr>\n",
       "\t<tr><th scope=row>22</th><td>240</td><td>ts21464</td><td>Zoey 101                                </td><td>SHOW</td><td>Zoey 101 is an American television series which originally aired on Nickelodeon from January 9, 2005 until May 2, 2008. It focuses on the lives of teenager Zoey Brooks and her friends as they attend Pacific Coast Academy, a fictional boarding school in Southern California. It was created by Dan Schneider. It was initially filmed at Pepperdine University in Malibu, California, then at stages in Valencia, California beginning in season 3. It was nominated for an \"Outstanding Children's Program\" Emmy in 2005. Zoey 101 was the most expensive production ever for Nickelodeon series, as it was shot completely on location in Malibu. It was also Nickelodeon's best performance for a series premiere in almost eight years. Despite this, many critics have made negative comments about the show, its setting, and its characters.                         </td><td>2005</td><td>TV-G </td><td> 25</td><td>['US']      </td><td> 4</td><td>...</td><td>0</td><td>0</td><td>1</td><td>0</td><td>0</td><td>0</td><td>1</td><td>0</td><td>0</td><td>0</td></tr>\n",
       "\t<tr><th scope=row>23</th><td>254</td><td>ts30311</td><td>Victorious                              </td><td>SHOW</td><td>Aspiring singer Tori Vega navigates life while attending a performing arts high school called Hollywood Arts.                                                                                                                                                                                                                                                                                                                                                                                                                                                                                                                                                                                                                                                                                                                                                                    </td><td>2010</td><td>TV-G </td><td> 25</td><td>['US']      </td><td> 4</td><td>...</td><td>0</td><td>0</td><td>1</td><td>0</td><td>0</td><td>0</td><td>1</td><td>0</td><td>0</td><td>1</td></tr>\n",
       "\t<tr><th scope=row>24</th><td>259</td><td>ts22267</td><td>Trailer Park Boys                       </td><td>SHOW</td><td>Follow the booze-fueled misadventures of three longtime pals and petty serial criminals who run scams from their Nova Scotia trailer park.                                                                                                                                                                                                                                                                                                                                                                                                                                                                                                                                                                                                                                                                                                                                       </td><td>2001</td><td>TV-MA</td><td> 25</td><td>['CA']      </td><td>12</td><td>...</td><td>0</td><td>1</td><td>1</td><td>0</td><td>0</td><td>0</td><td>0</td><td>0</td><td>0</td><td>0</td></tr>\n",
       "\t<tr><th scope=row>25</th><td>271</td><td>ts22456</td><td>Ned's Declassified School Survival Guide</td><td>SHOW</td><td>The whacky adventures of Ned Bigby and his best pals Moze and Cookie at James K. Polk Middle School, as \"every-kid\" Ned shatters the fourth wall to share tips and tricks on navigating middle school or junior high hurdles. Ned's not super cool, and he has no superpowers. He is, however, witty, well-groomed, upbeat and self-aware. Moreover, with more than a little help from his two best friends, he's equipped to conquer middle school minefields. From crushing bullies to crushes, from off- the-wall, mean and cool teachers to pop quizzes, elections and detentions, Ned knows that nothing, including the seventh grade, is as bad as it seems, and friendship matters most.                                                                                                                                                                                  </td><td>2004</td><td>TV-G </td><td> 25</td><td>['US']      </td><td> 3</td><td>...</td><td>0</td><td>0</td><td>1</td><td>0</td><td>0</td><td>0</td><td>0</td><td>0</td><td>0</td><td>0</td></tr>\n",
       "\t<tr><th scope=row>26</th><td>277</td><td>ts22018</td><td>iCarly                                  </td><td>SHOW</td><td>Watch Carly, Sam, and Freddie, as they try to balance their everyday 8th grade lives with their newfound fame managing and starring in the most awesome show on the web.                                                                                                                                                                                                                                                                                                                                                                                                                                                                                                                                                                                                                                                                                                         </td><td>2007</td><td>TV-G </td><td> 26</td><td>['US']      </td><td> 6</td><td>...</td><td>0</td><td>0</td><td>1</td><td>0</td><td>0</td><td>0</td><td>1</td><td>0</td><td>0</td><td>0</td></tr>\n",
       "\t<tr><th scope=row>27</th><td>303</td><td>ts15986</td><td>Dead Set                                </td><td>SHOW</td><td>Zombies are rampaging throughout Britain. Blissfully unaware of gory events outside, the Big Brother housemates are in for the ultimate eviction night...                                                                                                                                                                                                                                                                                                                                                                                                                                                                                                                                                                                                                                                                                                                        </td><td>2008</td><td>TV-MA</td><td>141</td><td>['GB']      </td><td> 1</td><td>...</td><td>1</td><td>0</td><td>1</td><td>0</td><td>0</td><td>1</td><td>0</td><td>1</td><td>0</td><td>0</td></tr>\n",
       "\t<tr><th scope=row>28</th><td>305</td><td>ts22318</td><td>Winx Club                               </td><td>SHOW</td><td>In a magical universe, witches, warriors begin fighting in the name of good .vs. evil! At a magic school, five teenage girls are selected to defend the universe with their magic.                                                                                                                                                                                                                                                                                                                                                                                                                                                                                                                                                                                                                                                                                               </td><td>2004</td><td>TV-G </td><td> 23</td><td>['IT']      </td><td> 8</td><td>...</td><td>1</td><td>0</td><td>1</td><td>0</td><td>1</td><td>0</td><td>0</td><td>0</td><td>0</td><td>0</td></tr>\n",
       "\t<tr><th scope=row>29</th><td>308</td><td>ts30356</td><td>Octonauts                               </td><td>SHOW</td><td>The Octonauts is a British children's television series, produced by Silvergate Media for the BBC channel Cbeebies. The series is animated in Ireland by Brown Bag Films but uses British voice actors. The TV series is based on American-Canadian children's books written by Vicki Wong and Michael C. Murphy of Meomi Design Inc.\n",
       "\n",
       "The Octonauts follows an underwater exploring crew made up of stylized anthropomorphic animals, a team of eight adventurers who live in an undersea base, the Octopod, from where they go on undersea adventures with the help of a fleet of aquatic vehicles.\n",
       "\n",
       "The subject matter is reminiscent of Star Trek and Thunderbirds blended with Jacques Cousteau. Although it is science fiction as regards its technology, the exotic creatures and locations that the crew encounter are real marine animals in their natural habitats.</td><td>2010</td><td>TV-Y </td><td> 15</td><td>['GB']      </td><td> 7</td><td>...</td><td>0</td><td>0</td><td>1</td><td>0</td><td>0</td><td>0</td><td>0</td><td>0</td><td>0</td><td>0</td></tr>\n",
       "\t<tr><th scope=row>30</th><td>324</td><td>ts21740</td><td>Black Butler                            </td><td>SHOW</td><td>In Victorian-era London, on the night of Ciel Phantomhive's tenth birthday a fire destroyed his manor and killed both of his parents. In a moment of death Ceil strikes a deal with a demon, his soul in exchange for revenge. This demon becomes his butler and calls himself by name of Sebastian Michaelis, to protect and serve Ciel until the deal has been completed. One month after the fire Ciel returns from being missing, with his new butler Sebastian. Ceil is now the head of the Phantomhive corporation, handling all business affairs as well as the work as the Queen of Englandâ€™s guard dog and looking for his parents murders.                                                                                                                                                                                                                           </td><td>2008</td><td>TV-MA</td><td> 25</td><td>['JP']      </td><td> 3</td><td>...</td><td>1</td><td>1</td><td>1</td><td>0</td><td>1</td><td>1</td><td>0</td><td>1</td><td>0</td><td>0</td></tr>\n",
       "\t<tr><th scope=row>31</th><td>331</td><td>ts31514</td><td>Strawberry Shortcake                    </td><td>SHOW</td><td>Strawberry and her friends, including her sister, Apple Dumplin', and her pony, Honey Pie, embark on sweet-smelling adventures in Strawberryland.                                                                                                                                                                                                                                                                                                                                                                                                                                                                                                                                                                                                                                                                                                                                </td><td>2003</td><td>TV-Y </td><td> 23</td><td>['US']      </td><td> 4</td><td>...</td><td>0</td><td>0</td><td>0</td><td>0</td><td>0</td><td>0</td><td>0</td><td>0</td><td>0</td><td>0</td></tr>\n",
       "\t<tr><th scope=row>32</th><td>332</td><td>ts33559</td><td>Shaun the Sheep                         </td><td>SHOW</td><td>Shaun the Sheep thinks and acts like a person in a barnyard, which usually gets him into trouble. The farmer's sheepdog, Bitzer, tries to keep Shaun and his friends out of trouble. The farmer is oblivious to the humanlike features of his flock, who are like one big, happy family.                                                                                                                                                                                                                                                                                                                                                                                                                                                                                                                                                                                         </td><td>2007</td><td>TV-G </td><td>  7</td><td>['GB']      </td><td> 6</td><td>...</td><td>0</td><td>0</td><td>1</td><td>0</td><td>0</td><td>0</td><td>0</td><td>0</td><td>0</td><td>0</td></tr>\n",
       "\t<tr><th scope=row>33</th><td>335</td><td>ts12815</td><td>Big Time Rush                           </td><td>SHOW</td><td>Four teenage friends move from Minneapolis to Los Angeles to form a potential chart-topping boy band after Kendall is inadvertently discovered by an eccentric record executive, Gustavo Rocque. As they seize this opportunity of a lifetime, these friends embark on an exciting comedy and music-filled journey to prove to themselves and their record label that they are serious about their new career choice.                                                                                                                                                                                                                                                                                                                                                                                                                                                            </td><td>2009</td><td>TV-G </td><td> 25</td><td>['US']      </td><td> 4</td><td>...</td><td>0</td><td>0</td><td>1</td><td>0</td><td>0</td><td>0</td><td>0</td><td>0</td><td>0</td><td>0</td></tr>\n",
       "\t<tr><th scope=row>...</th><td>...</td><td>...</td><td>...</td><td>...</td><td>...</td><td>...</td><td>...</td><td>...</td><td>...</td><td>...</td><td></td><td>...</td><td>...</td><td>...</td><td>...</td><td>...</td><td>...</td><td>...</td><td>...</td><td>...</td><td>...</td></tr>\n",
       "\t<tr><th scope=row>1035</th><td>5524</td><td>ts288064</td><td>Somos.                                       </td><td>SHOW</td><td>The lives of the people of Allende, a Mexican border town, are overtaken by a powerful cartel's operations, leading to tragedy. Inspired by true events.                                                                                                                                                                                                                                                                                                                                                                                                         </td><td>2021</td><td>TV-MA</td><td>52</td><td>['MX']      </td><td>1</td><td>...</td><td>0</td><td>1</td><td>0</td><td>0</td><td>0</td><td>0</td><td>0</td><td>0</td><td>1</td><td>0</td></tr>\n",
       "\t<tr><th scope=row>1036</th><td>5526</td><td>ts304690</td><td>Remember You                                 </td><td>SHOW</td><td>A genius detective teams up with a colleague to investigate a case that hits close to home, but the duo becomes entangled in a cat-and-mouse game.                                                                                                                                                                                                                                                                                                                                                                                                               </td><td>2021</td><td>TV-MA</td><td>67</td><td>['TH']      </td><td>1</td><td>...</td><td>0</td><td>1</td><td>0</td><td>0</td><td>0</td><td>0</td><td>1</td><td>0</td><td>0</td><td>0</td></tr>\n",
       "\t<tr><th scope=row>1038</th><td>5539</td><td>ts267062</td><td>Jiva!                                        </td><td>SHOW</td><td>A talented street dancer from Umlazi, Durban must confront her fears and deal with family objections to pursue her dancing dreams.                                                                                                                                                                                                                                                                                                                                                                                                                               </td><td>2021</td><td>TV-MA</td><td>41</td><td>['ZA']      </td><td>1</td><td>...</td><td>0</td><td>0</td><td>0</td><td>0</td><td>0</td><td>0</td><td>0</td><td>0</td><td>0</td><td>0</td></tr>\n",
       "\t<tr><th scope=row>1039</th><td>5543</td><td>ts305732</td><td>Metal Shop Masters                           </td><td>SHOW</td><td>A group of metal artists torch, cut and weld epic, badass creations from hardened steel. Only one will win a $50,000 prize.                                                                                                                                                                                                                                                                                                                                                                                                                                      </td><td>2021</td><td>TV-MA</td><td>33</td><td>['US']      </td><td>1</td><td>...</td><td>0</td><td>0</td><td>0</td><td>0</td><td>0</td><td>0</td><td>0</td><td>0</td><td>0</td><td>0</td></tr>\n",
       "\t<tr><th scope=row>1040</th><td>5544</td><td>ts313902</td><td>Your Life is a Joke                          </td><td>SHOW</td><td>Comedian Oliver Polak gets to know celebrities at some of their favorite spots before roasting them with good-natured stand-up sets.                                                                                                                                                                                                                                                                                                                                                                                                                             </td><td>2021</td><td>TV-MA</td><td>37</td><td>['DE']      </td><td>1</td><td>...</td><td>0</td><td>0</td><td>1</td><td>1</td><td>0</td><td>0</td><td>0</td><td>0</td><td>0</td><td>0</td></tr>\n",
       "\t<tr><th scope=row>1041</th><td>5546</td><td>ts302653</td><td>Light the Night                              </td><td>SHOW</td><td>Taking the hotel on Linsen North Road in Taiwan as the background, it is a realistic drama that describes the love and hatred between the Japanese-style hotel proprietress and Yang Jin Hua in 1988 and a group of amorous ladies under her.                                                                                                                                                                                                                                                                                                                    </td><td>2021</td><td>TV-MA</td><td>59</td><td>['TW']      </td><td>3</td><td>...</td><td>1</td><td>1</td><td>0</td><td>0</td><td>0</td><td>0</td><td>0</td><td>0</td><td>0</td><td>0</td></tr>\n",
       "\t<tr><th scope=row>1042</th><td>5555</td><td>ts308516</td><td><span style=white-space:pre-wrap>Young, Famous &amp; African                      </span></td><td>SHOW</td><td><span style=white-space:pre-wrap>This reality series follows a crew of famed, affluent stars as they work and play, flirt and feud in Johannesburg, South Africa. This all-African reality series includes actor Khanyi Mbau, musician Diamond Platnumz and rapper Nadia Nakai.                                                                                                                                                                                                                                                                                                                   </span></td><td>2022</td><td>TV-MA</td><td>43</td><td><span style=white-space:pre-wrap>['ZA']      </span></td><td>1</td><td>...</td><td>0</td><td>0</td><td>0</td><td>0</td><td>0</td><td>0</td><td>0</td><td>0</td><td>0</td><td>0</td></tr>\n",
       "\t<tr><th scope=row>1043</th><td>5556</td><td>ts329882</td><td>Secrets of Summer                            </td><td>SHOW</td><td>A remote Argentine resort revives its wakeboarding competition, drawing in Mexican athlete Steffi, who is determined to uncover a family secret.                                                                                                                                                                                                                                                                                                                                                                                                                 </td><td>2022</td><td>TV-Y </td><td>30</td><td>['ES']      </td><td>1</td><td>...</td><td>0</td><td>0</td><td>0</td><td>0</td><td>0</td><td>0</td><td>0</td><td>0</td><td>0</td><td>1</td></tr>\n",
       "\t<tr><th scope=row>1044</th><td>5561</td><td>ts232506</td><td>50M2                                         </td><td>SHOW</td><td>After being betrayed by his boss, a hitman hides out in a vacant tailor shop, where he's mistaken for the late owner's son, an identity he decides to embrace.                                                                                                                                                                                                                                                                                                                                                                                                   </td><td>2021</td><td>TV-MA</td><td>49</td><td>['TR']      </td><td>1</td><td>...</td><td>1</td><td>1</td><td>1</td><td>0</td><td>0</td><td>0</td><td>0</td><td>0</td><td>0</td><td>0</td></tr>\n",
       "\t<tr><th scope=row>1045</th><td>5563</td><td>ts330289</td><td>Smother-In-Law                               </td><td>SHOW</td><td>Living with her family since the pandemic struck, the meddling Isadir does her best to disrupt the lives of her bumbling son and rival daughter-in-law.                                                                                                                                                                                                                                                                                                                                                                                                          </td><td>2022</td><td>TV-MA</td><td>25</td><td>['BR']      </td><td>1</td><td>...</td><td>0</td><td>0</td><td>1</td><td>0</td><td>0</td><td>0</td><td>0</td><td>0</td><td>0</td><td>0</td></tr>\n",
       "\t<tr><th scope=row>1046</th><td>5571</td><td>ts302570</td><td>John of God: The Crimes of a Spiritual Healer</td><td>SHOW</td><td>Idolized medium JoÃ£o Teixeira de Faria rises to international fame before horrifying abuse is revealed by survivors, prosecutors and the press.                                                                                                                                                                                                                                                                                                                                                                                                                 </td><td>2021</td><td>TV-MA</td><td>50</td><td>['BR']      </td><td>1</td><td>...</td><td>0</td><td>1</td><td>0</td><td>1</td><td>0</td><td>0</td><td>0</td><td>0</td><td>0</td><td>0</td></tr>\n",
       "\t<tr><th scope=row>1048</th><td>5574</td><td>ts343426</td><td>Senzo: Murder of a Soccer Star               </td><td>SHOW</td><td>Soccer player Senzo Meyiwa was a national hero before his killing shocked South Africa. Who did it, and why? This docuseries dives into the evidence.                                                                                                                                                                                                                                                                                                                                                                                                            </td><td>2022</td><td>TV-MA</td><td>42</td><td>['ZA', 'US']</td><td>1</td><td>...</td><td>0</td><td>1</td><td>0</td><td>1</td><td>0</td><td>0</td><td>0</td><td>0</td><td>0</td><td>0</td></tr>\n",
       "\t<tr><th scope=row>1049</th><td>5585</td><td>ts310331</td><td>Twenty Somethings: Austin                    </td><td>SHOW</td><td>Set in Austin, Texas, this growing-up reality show is where twenty-somethings find love, friendship and embark on a new adventure: life.                                                                                                                                                                                                                                                                                                                                                                                                                         </td><td>2021</td><td>TV-MA</td><td>32</td><td>['US']      </td><td>1</td><td>...</td><td>0</td><td>0</td><td>0</td><td>0</td><td>0</td><td>0</td><td>0</td><td>0</td><td>0</td><td>0</td></tr>\n",
       "\t<tr><th scope=row>1050</th><td>5588</td><td>ts293346</td><td>Race: Bubba Wallace                          </td><td>SHOW</td><td>Follows the NASCAR driver Bubba Wallace as he competes for the 23XI Racing team.                                                                                                                                                                                                                                                                                                                                                                                                                                                                                 </td><td>2022</td><td>TV-MA</td><td>47</td><td>['US']      </td><td>1</td><td>...</td><td>0</td><td>0</td><td>0</td><td>1</td><td>0</td><td>0</td><td>0</td><td>0</td><td>0</td><td>0</td></tr>\n",
       "\t<tr><th scope=row>1051</th><td>5614</td><td>ts272669</td><td>Waffles + Mochi                              </td><td>SHOW</td><td>Curious puppet pals Waffles and Mochi travel the world exploring the wonders of food and culture while learning how to cook with fresh ingredients.                                                                                                                                                                                                                                                                                                                                                                                                              </td><td>2021</td><td>TV-Y </td><td>28</td><td>['US']      </td><td>1</td><td>...</td><td>0</td><td>0</td><td>0</td><td>0</td><td>0</td><td>0</td><td>0</td><td>0</td><td>0</td><td>0</td></tr>\n",
       "\t<tr><th scope=row>1052</th><td>5620</td><td>ts273275</td><td>Marriage or Mortgage                         </td><td>SHOW</td><td>Married or single, we've all heard it. \"You could buy a house for the price of that wedding!\" But have you ever stopped to think, what if you actually did? In the Marriage or Mortgage, a wedding planner and a real estate agent compete to win the hearts and budgets of spouses-to-be. Will they pick fairy-tale nuptials or a dream home?                                                                                                                                                                                                                   </td><td>2021</td><td>TV-G </td><td>40</td><td>['US']      </td><td>1</td><td>...</td><td>0</td><td>0</td><td>0</td><td>0</td><td>0</td><td>0</td><td>0</td><td>0</td><td>0</td><td>0</td></tr>\n",
       "\t<tr><th scope=row>1053</th><td>5627</td><td>ts289757</td><td>Crime Stories: India Detectives              </td><td>SHOW</td><td>Follows major criminal investigations from the time the crime is reported until the suspect gets captured.                                                                                                                                                                                                                                                                                                                                                                                                                                                       </td><td>2021</td><td>TV-MA</td><td>47</td><td>['IN']      </td><td>1</td><td>...</td><td>0</td><td>1</td><td>0</td><td>1</td><td>0</td><td>0</td><td>0</td><td>0</td><td>0</td><td>0</td></tr>\n",
       "\t<tr><th scope=row>1055</th><td>5666</td><td>ts297132</td><td>Brave Animated Series                        </td><td>SHOW</td><td>An adaption of Taiwanese comic series, Brave Animated Series. The comic artist of this series uses black humor to elaborate social issues, and its storytelling is very into the taste of the younger generation. This program is integrated with multiple resources like TV and music production.\n",
       "\n",
       "In a world full of discrimination and hatred, stereotype is no longer what it really is. The braves believe that only when the evil is defeated, will the world comes with peace. Yet the braves realize that they are not standing on the side of justice.</td><td>2021</td><td>TV-MA</td><td>26</td><td>['TW']      </td><td>1</td><td>...</td><td>0</td><td>0</td><td>0</td><td>0</td><td>0</td><td>0</td><td>0</td><td>0</td><td>0</td><td>0</td></tr>\n",
       "\t<tr><th scope=row>1056</th><td>5667</td><td>ts330422</td><td>Team Zenko Go                                </td><td>SHOW</td><td>Every good deed is one for this team of kids. Niah, Ari, Ellie and Jax go undercover to help others and secretly solve the city's problems!                                                                                                                                                                                                                                                                                                                                                                                                                      </td><td>2022</td><td>TV-Y </td><td>20</td><td>['US']      </td><td>1</td><td>...</td><td>0</td><td>0</td><td>0</td><td>0</td><td>0</td><td>0</td><td>0</td><td>0</td><td>0</td><td>0</td></tr>\n",
       "\t<tr><th scope=row>1057</th><td>5679</td><td>ts308053</td><td>Jailbirds New Orleans                        </td><td>SHOW</td><td>Feuds, flirtations and toilet talk go down among the incarcerated women at the Orleans Justice Center in New Orleans on this gritty reality series.                                                                                                                                                                                                                                                                                                                                                                                                              </td><td>2021</td><td>TV-MA</td><td>41</td><td>['US']      </td><td>1</td><td>...</td><td>0</td><td>0</td><td>0</td><td>1</td><td>0</td><td>0</td><td>0</td><td>0</td><td>0</td><td>0</td></tr>\n",
       "\t<tr><th scope=row>1058</th><td>5683</td><td>ts316882</td><td>Reasonable Doubt: A Tale of Two Kidnappings  </td><td>SHOW</td><td>A fender bender that turned into a kidnapping case leads documentalist Roberto HernÃ¡ndez to expose the truth behind Mexico's flawed justice system.                                                                                                                                                                                                                                                                                                                                                                                                             </td><td>2021</td><td>TV-MA</td><td>47</td><td>['MX']      </td><td>1</td><td>...</td><td>0</td><td>1</td><td>0</td><td>1</td><td>0</td><td>0</td><td>0</td><td>0</td><td>0</td><td>0</td></tr>\n",
       "\t<tr><th scope=row>1059</th><td>5693</td><td>ts286386</td><td>The Big Day                                  </td><td>SHOW</td><td>For six engaged couples, happily ever after begins on a spectacular note in this eye-popping look at Indiaâ€™s multibillion-dollar wedding industry.                                                                                                                                                                                                                                                                                                                                                                                                             </td><td>2021</td><td>TV-MA</td><td>43</td><td>['US']      </td><td>2</td><td>...</td><td>0</td><td>0</td><td>0</td><td>0</td><td>0</td><td>0</td><td>1</td><td>0</td><td>0</td><td>0</td></tr>\n",
       "\t<tr><th scope=row>1060</th><td>5716</td><td>ts285874</td><td>Magic for Humans Spain                       </td><td>SHOW</td><td>In this Spanish adaptation of \"Magic for Humans,\" folks of all ages on the streets of Barcelona are amazed by tricks that inspire delight and wonder.                                                                                                                                                                                                                                                                                                                                                                                                            </td><td>2021</td><td>TV-MA</td><td>23</td><td>['ES']      </td><td>1</td><td>...</td><td>0</td><td>0</td><td>1</td><td>0</td><td>0</td><td>0</td><td>0</td><td>0</td><td>0</td><td>0</td></tr>\n",
       "\t<tr><th scope=row>1061</th><td>5733</td><td>ts289982</td><td>Bangkok Breaking                             </td><td>SHOW</td><td>Newly arrived in Bangkok, Wanchai joins the road rescue service and unravels a city-wide conspiracy with the help of a journalist.                                                                                                                                                                                                                                                                                                                                                                                                                               </td><td>2021</td><td>TV-MA</td><td>60</td><td>['TH']      </td><td>1</td><td>...</td><td>1</td><td>1</td><td>0</td><td>0</td><td>0</td><td>0</td><td>0</td><td>0</td><td>0</td><td>0</td></tr>\n",
       "\t<tr><th scope=row>1063</th><td>5743</td><td>ts283284</td><td>Navarasa                                     </td><td>SHOW</td><td>From amusement to awe, the nine human emotions of Indian aesthetic theory are explored in this anthology series.                                                                                                                                                                                                                                                                                                                                                                                                                                                 </td><td>2021</td><td>TV-MA</td><td>34</td><td>['IN']      </td><td>1</td><td>...</td><td>0</td><td>0</td><td>0</td><td>0</td><td>0</td><td>0</td><td>0</td><td>0</td><td>0</td><td>0</td></tr>\n",
       "\t<tr><th scope=row>1064</th><td>5760</td><td>ts341760</td><td>Byron Baes                                   </td><td>SHOW</td><td>Australian influencers flock to Byron Bay for its warm, beachy beauty and cool, creative vibe. Follow these friends as they negotiate life and love.                                                                                                                                                                                                                                                                                                                                                                                                             </td><td>2022</td><td>TV-MA</td><td>39</td><td>['AU']      </td><td>1</td><td>...</td><td>0</td><td>0</td><td>0</td><td>0</td><td>0</td><td>0</td><td>0</td><td>0</td><td>0</td><td>0</td></tr>\n",
       "\t<tr><th scope=row>1066</th><td>5784</td><td>ts285471</td><td>The Wedding Coach                            </td><td>SHOW</td><td>Former bride and forever comedian Jamie Lee shares her irreverent yet practical tips and tricks for wedding planning with struggling lovebirds.                                                                                                                                                                                                                                                                                                                                                                                                                  </td><td>2021</td><td>TV-MA</td><td>33</td><td>['US']      </td><td>1</td><td>...</td><td>0</td><td>0</td><td>1</td><td>0</td><td>0</td><td>0</td><td>0</td><td>0</td><td>0</td><td>0</td></tr>\n",
       "\t<tr><th scope=row>1067</th><td>5785</td><td>ts325991</td><td>Only Jokes Allowed                           </td><td>SHOW</td><td>Six of South Africa's top comedians take center stage and showcase their talent in this collection of short stand-up sets.                                                                                                                                                                                                                                                                                                                                                                                                                                       </td><td>2022</td><td>TV-MA</td><td>16</td><td>['ZA']      </td><td>1</td><td>...</td><td>0</td><td>0</td><td>1</td><td>0</td><td>0</td><td>0</td><td>0</td><td>0</td><td>0</td><td>0</td></tr>\n",
       "\t<tr><th scope=row>1068</th><td>5819</td><td>ts287729</td><td>Alma Matters: Inside the IIT Dream           </td><td>SHOW</td><td>In a \"nation of middle-class\" the IIT dream involves clearing the world's toughest public exam for guaranteed lifelong success. Life is not an exam though. It's a hustle, one that nobody trains them for. The result? Eternal tumult.                                                                                                                                                                                                                                                                                                                          </td><td>2021</td><td>TV-MA</td><td>49</td><td>['IN']      </td><td>1</td><td>...</td><td>0</td><td>0</td><td>0</td><td>1</td><td>0</td><td>0</td><td>0</td><td>0</td><td>0</td><td>0</td></tr>\n",
       "\t<tr><th scope=row>1069</th><td>5831</td><td>ts273317</td><td>Pitta Kathalu                                </td><td>SHOW</td><td>Four different women, four journeys of love and betrayal. The common thread? They all want to dismantle the patriarchy.                                                                                                                                                                                                                                                                                                                                                                                                                                          </td><td>2021</td><td>TV-MA</td><td>37</td><td>['IN']      </td><td>1</td><td>...</td><td>0</td><td>0</td><td>0</td><td>0</td><td>0</td><td>0</td><td>1</td><td>0</td><td>0</td><td>0</td></tr>\n",
       "</tbody>\n",
       "</table>\n"
      ],
      "text/latex": [
       "A data.frame: 984 × 34\n",
       "\\begin{tabular}{r|lllllllllllllllllllll}\n",
       "  & X & id & title & type & description & release\\_year & age\\_certification & runtime & production\\_countries & seasons & ... & thriller & crime & comedy & documentation & fantasy & scifi & romance & horror & history & music\\\\\n",
       "  & <int> & <chr> & <chr> & <chr> & <chr> & <int> & <chr> & <int> & <chr> & <dbl> & ... & <int> & <int> & <int> & <int> & <int> & <int> & <int> & <int> & <int> & <int>\\\\\n",
       "\\hline\n",
       "\t2 &  26 & ts45948 & Monty Python's Fliegender Zirkus         & SHOW & Monty Python's Fliegender Zirkus consisted of two 45-minute Monty Python German television comedy specials produced by WDR for West German television. The two episodes were first broadcast in January and December 1972 and were shot entirely on film and mostly on location in Bavaria, with the first episode recorded in German and the second recorded in English and then dubbed into German.                                                                                                                                                                                                                                                                                                                                                                                                                                                                             & 1972 & TV-MA &  43 & {[}{]}           &  1 & ... & 0 & 0 & 1 & 0 & 0 & 0 & 0 & 0 & 0 & 0\\\\\n",
       "\t3 &  45 & ts21715 & Thomas \\& Friends                         & SHOW & Thomas \\& Friends is a British children's television series, which had its first broadcast on the ITV network on 4 September 1984. It is based on The Railway Series of books by the Reverend Wilbert Awdry and his son, Christopher Awdry. These books deal with the adventures of a group of anthropomorphised locomotives and road vehicles who live on the fictional Island of Sodor. The books were based on stories Wilbert told to entertain his son, Christopher during his recovery from measles. From Series one to four, many of the stories are based on events from Awdry's personal experience.                                                                                                                                                                                                                                                                      & 1984 & TV-Y  &  10 & {[}'GB'{]}       & 24 & ... & 0 & 0 & 1 & 0 & 1 & 0 & 0 & 0 & 0 & 1\\\\\n",
       "\t4 &  46 & ts20678 & Saved by the Bell                        & SHOW & Lovable schemer Zack Morris leads his pals on adventures at California's Bayside High School. The friends navigate relationships, final exams, school dances, breakups and more while frequently frustrating their principal, Mr. Richard Belding, who does his best to keep them in check.                                                                                                                                                                                                                                                                                                                                                                                                                                                                                                                                                                                       & 1989 & TV-G  &  23 & {[}'US'{]}       &  5 & ... & 0 & 0 & 1 & 0 & 0 & 0 & 1 & 0 & 0 & 0\\\\\n",
       "\t5 &  48 & ts25028 & Wheel of Fortune                         & SHOW & This game show sees contestants solve word puzzles, similar to those used in Hangman, to win cash and prizes determined by spinning a giant carnival wheel.                                                                                                                                                                                                                                                                                                                                                                                                                                                                                                                                                                                                                                                                                                                       & 1983 & TV-G  &  26 & {[}'US'{]}       & 39 & ... & 0 & 0 & 0 & 0 & 0 & 0 & 0 & 0 & 0 & 0\\\\\n",
       "\t6 &  55 & ts987   & Danger Mouse                             & SHOW & Danger Mouse, the world's greatest secret agent, and his side-kick Penfold work to foil the evil schemes of Baron Greenback.                                                                                                                                                                                                                                                                                                                                                                                                                                                                                                                                                                                                                                                                                                                                                      & 1981 & TV-Y  &  14 & {[}'GB'{]}       & 10 & ... & 0 & 0 & 1 & 0 & 0 & 1 & 0 & 0 & 0 & 0\\\\\n",
       "\t7 &  59 & ts2760  & Fireman Sam                              & SHOW & Follow the adventures of fireman Sam and his colleagues as they protect the citizens of the Welsh town of Pontypandy. Whenever the alarm sounds, brave Sam and his co-workers can be counted on to jump into a fire engine, hop onto a helicopter, or even launch an inflatable lifeboat to battle blazes, mount rescue missions, or provide medical attention to those in need.                                                                                                                                                                                                                                                                                                                                                                                                                                                                                                  & 1987 & TV-Y  &  10 & {[}'GB'{]}       & 13 & ... & 0 & 1 & 1 & 0 & 0 & 0 & 0 & 0 & 0 & 0\\\\\n",
       "\t8 & 117 & ts25252 & Yu-Gi-Oh!                                & SHOW & A timid young boy who loves all sorts of games, one day solves an ancient puzzle known as the Millennium Puzzle, causing his body to play host to a mysterious spirit with the personality of a gambler.                                                                                                                                                                                                                                                                                                                                                                                                                                                                                                                                                                                                                                                                          & 1998 & TV-Y  &  22 & {[}'JP'{]}       &  7 & ... & 0 & 0 & 1 & 0 & 1 & 1 & 0 & 0 & 0 & 0\\\\\n",
       "\t9 & 119 & ts22193 & The Magic School Bus                     & SHOW & An eccentric schoolteacher takes her class on wondrous educational field trips with the help of a magical school bus.                                                                                                                                                                                                                                                                                                                                                                                                                                                                                                                                                                                                                                                                                                                                                             & 1994 & TV-Y  &  26 & {[}'CA', 'US'{]} &  4 & ... & 0 & 0 & 1 & 0 & 1 & 1 & 0 & 0 & 0 & 0\\\\\n",
       "\t10 & 125 & ts16919 & All That                                 & SHOW & The new kids of comedy bring the funny as All That, Americaâ€™s \\#1 kidâ€™s sketch comedy show, returns with a new cast and a few familiar faces. From Executive Producers Kenan Thompson and Kel Mitchell.                                                                                                                                                                                                                                                                                                                                                                                                                                                                                                                                                                                                                                                                        & 1994 & TV-G  &  22 & {[}'US'{]}       & 11 & ... & 0 & 0 & 1 & 0 & 0 & 0 & 0 & 0 & 0 & 1\\\\\n",
       "\t11 & 134 & ts8570  & Barney \\& Friends                         & SHOW & Barney \\& Friends is an American children's television series aimed at children from ages 2 to 5. The series, which first aired on April 6, 1992, features the title character Barney, a purple anthropomorphic Tyrannosaurus rex who conveys educational messages through songs and small dance routines with a friendly, optimistic attitude.\n",
       "\n",
       "New episodes have not been produced since 2009; however reruns continue to air on various PBS stations.                                                                                                                                                                                                                                                                                                                                                                                                                         & 1992 & TV-G  &  28 & {[}'US'{]}       & 14 & ... & 0 & 0 & 1 & 0 & 0 & 0 & 0 & 0 & 0 & 0\\\\\n",
       "\t13 & 160 & ts21684 & Heartbreak High                          & SHOW & The ins and outs of the classroom lives of a group of students who attend the fictional Hartley High School in Sydney.                                                                                                                                                                                                                                                                                                                                                                                                                                                                                                                                                                                                                                                                                                                                                            & 1994 & TV-MA &  45 & {[}'AU'{]}       &  7 & ... & 0 & 0 & 1 & 0 & 0 & 0 & 1 & 0 & 0 & 0\\\\\n",
       "\t14 & 165 & ts28516 & Okupas                                   & SHOW & During the year 2000, Ricardo, Pollo, Walter and Chiqui occupied a house in the Buenos Aires neighborhood of Congreso. The four young people forge a strong friendship that leads them to go through different stories of crime, drugs and social marginalization.                                                                                                                                                                                                                                                                                                                                                                                                                                                                                                                                                                                                                & 2000 & TV-MA &  40 & {[}'AR'{]}       &  1 & ... & 0 & 1 & 0 & 0 & 0 & 0 & 0 & 0 & 0 & 0\\\\\n",
       "\t15 & 169 & ts22039 & H                                        & SHOW & H is a French sitcom with seventy-one, 22-minute episodes. The series was created by Kader Aoun, Xavier Matthieu and Ã‰ric Judor, and produced by Phillippe Berthe, Ã‰douard Molinaro, Jean-Luc Moreau and Charles NÃ©mÃ¨s. It ran from 24 October 1998 to 20 April 2002 on Canal+. In Canada, it is shown weekly on TV5.\n",
       "\n",
       "The title \"H\" comes from the three words that characterize the series: Humour, Histoire et HÃ´pital.                                                                                                                                                                                                                                                                                                                                                                                                                                                 & 1998 & TV-MA &  25 & {[}'FR'{]}       &  4 & ... & 0 & 0 & 1 & 0 & 0 & 0 & 0 & 0 & 0 & 0\\\\\n",
       "\t17 & 216 & ts4     & Breaking Bad                             & SHOW & When Walter White, a New Mexico chemistry teacher, is diagnosed with Stage III cancer and given a prognosis of only two years left to live. He becomes filled with a sense of fearlessness and an unrelenting desire to secure his family's financial future at any cost as he enters the dangerous world of drugs and crime.                                                                                                                                                                                                                                                                                                                                                                                                                                                                                                                                                     & 2008 & TV-MA &  48 & {[}'US'{]}       &  5 & ... & 1 & 1 & 0 & 0 & 0 & 0 & 0 & 0 & 0 & 0\\\\\n",
       "\t18 & 218 & ts9     & The Walking Dead                         & SHOW & Sheriff's deputy Rick Grimes awakens from a coma to find a post-apocalyptic world dominated by flesh-eating zombies. He sets out to find his family and encounters many other survivors along the way.                                                                                                                                                                                                                                                                                                                                                                                                                                                                                                                                                                                                                                                                            & 2010 & TV-MA &  46 & {[}'US'{]}       & 11 & ... & 1 & 0 & 0 & 0 & 0 & 1 & 0 & 1 & 0 & 0\\\\\n",
       "\t19 & 224 & ts6644  & Borgen                                   & SHOW & 40-year old political leader Birgitte Nyborg secures her party a landslide victory through her idealism and huge effort, then faces the biggest challenge of her life: how most effectively to use the newly won seats, and how far she is willing to go in order to gain as much influence as possible.                                                                                                                                                                                                                                                                                                                                                                                                                                                                                                                                                                          & 2010 & TV-MA &  58 & {[}'DK'{]}       &  4 & ... & 0 & 0 & 0 & 0 & 0 & 0 & 0 & 0 & 0 & 0\\\\\n",
       "\t20 & 228 & ts17156 & Arrested Development                     & SHOW & The story of a wealthy family that lost everything, and the one son who had no choice but to keep them all together.                                                                                                                                                                                                                                                                                                                                                                                                                                                                                                                                                                                                                                                                                                                                                              & 2003 & TV-MA &  28 & {[}'US'{]}       &  5 & ... & 0 & 0 & 1 & 0 & 0 & 0 & 0 & 0 & 0 & 0\\\\\n",
       "\t21 & 230 & ts26091 & The Staircase                            & SHOW & Academy Award-winning documentary filmmaker, Jean-Xavier de Lestrade, presents a gripping courtroom thriller, offering a rare and revealing inside look at a high-profile murder trial. In 2001, author Michael Peterson was arraigned for the murder of his wife Kathleen, whose body was discovered lying in a pool of blood on the stairway of their home. Granted unusual access to Peterson's lawyers, home and immediate family, de Lestrade's cameras capture the defense team as it considers its strategic options. The series is an engrossing look at contemporary American justice that features more twists than a legal bestseller.                                                                                                                                                                                                                                 & 2004 & TV-MA &  49 & {[}'FR'{]}       &  2 & ... & 0 & 1 & 0 & 1 & 0 & 0 & 0 & 0 & 0 & 0\\\\\n",
       "\t22 & 240 & ts21464 & Zoey 101                                 & SHOW & Zoey 101 is an American television series which originally aired on Nickelodeon from January 9, 2005 until May 2, 2008. It focuses on the lives of teenager Zoey Brooks and her friends as they attend Pacific Coast Academy, a fictional boarding school in Southern California. It was created by Dan Schneider. It was initially filmed at Pepperdine University in Malibu, California, then at stages in Valencia, California beginning in season 3. It was nominated for an \"Outstanding Children's Program\" Emmy in 2005. Zoey 101 was the most expensive production ever for Nickelodeon series, as it was shot completely on location in Malibu. It was also Nickelodeon's best performance for a series premiere in almost eight years. Despite this, many critics have made negative comments about the show, its setting, and its characters.                          & 2005 & TV-G  &  25 & {[}'US'{]}       &  4 & ... & 0 & 0 & 1 & 0 & 0 & 0 & 1 & 0 & 0 & 0\\\\\n",
       "\t23 & 254 & ts30311 & Victorious                               & SHOW & Aspiring singer Tori Vega navigates life while attending a performing arts high school called Hollywood Arts.                                                                                                                                                                                                                                                                                                                                                                                                                                                                                                                                                                                                                                                                                                                                                                     & 2010 & TV-G  &  25 & {[}'US'{]}       &  4 & ... & 0 & 0 & 1 & 0 & 0 & 0 & 1 & 0 & 0 & 1\\\\\n",
       "\t24 & 259 & ts22267 & Trailer Park Boys                        & SHOW & Follow the booze-fueled misadventures of three longtime pals and petty serial criminals who run scams from their Nova Scotia trailer park.                                                                                                                                                                                                                                                                                                                                                                                                                                                                                                                                                                                                                                                                                                                                        & 2001 & TV-MA &  25 & {[}'CA'{]}       & 12 & ... & 0 & 1 & 1 & 0 & 0 & 0 & 0 & 0 & 0 & 0\\\\\n",
       "\t25 & 271 & ts22456 & Ned's Declassified School Survival Guide & SHOW & The whacky adventures of Ned Bigby and his best pals Moze and Cookie at James K. Polk Middle School, as \"every-kid\" Ned shatters the fourth wall to share tips and tricks on navigating middle school or junior high hurdles. Ned's not super cool, and he has no superpowers. He is, however, witty, well-groomed, upbeat and self-aware. Moreover, with more than a little help from his two best friends, he's equipped to conquer middle school minefields. From crushing bullies to crushes, from off- the-wall, mean and cool teachers to pop quizzes, elections and detentions, Ned knows that nothing, including the seventh grade, is as bad as it seems, and friendship matters most.                                                                                                                                                                                   & 2004 & TV-G  &  25 & {[}'US'{]}       &  3 & ... & 0 & 0 & 1 & 0 & 0 & 0 & 0 & 0 & 0 & 0\\\\\n",
       "\t26 & 277 & ts22018 & iCarly                                   & SHOW & Watch Carly, Sam, and Freddie, as they try to balance their everyday 8th grade lives with their newfound fame managing and starring in the most awesome show on the web.                                                                                                                                                                                                                                                                                                                                                                                                                                                                                                                                                                                                                                                                                                          & 2007 & TV-G  &  26 & {[}'US'{]}       &  6 & ... & 0 & 0 & 1 & 0 & 0 & 0 & 1 & 0 & 0 & 0\\\\\n",
       "\t27 & 303 & ts15986 & Dead Set                                 & SHOW & Zombies are rampaging throughout Britain. Blissfully unaware of gory events outside, the Big Brother housemates are in for the ultimate eviction night...                                                                                                                                                                                                                                                                                                                                                                                                                                                                                                                                                                                                                                                                                                                         & 2008 & TV-MA & 141 & {[}'GB'{]}       &  1 & ... & 1 & 0 & 1 & 0 & 0 & 1 & 0 & 1 & 0 & 0\\\\\n",
       "\t28 & 305 & ts22318 & Winx Club                                & SHOW & In a magical universe, witches, warriors begin fighting in the name of good .vs. evil! At a magic school, five teenage girls are selected to defend the universe with their magic.                                                                                                                                                                                                                                                                                                                                                                                                                                                                                                                                                                                                                                                                                                & 2004 & TV-G  &  23 & {[}'IT'{]}       &  8 & ... & 1 & 0 & 1 & 0 & 1 & 0 & 0 & 0 & 0 & 0\\\\\n",
       "\t29 & 308 & ts30356 & Octonauts                                & SHOW & The Octonauts is a British children's television series, produced by Silvergate Media for the BBC channel Cbeebies. The series is animated in Ireland by Brown Bag Films but uses British voice actors. The TV series is based on American-Canadian children's books written by Vicki Wong and Michael C. Murphy of Meomi Design Inc.\n",
       "\n",
       "The Octonauts follows an underwater exploring crew made up of stylized anthropomorphic animals, a team of eight adventurers who live in an undersea base, the Octopod, from where they go on undersea adventures with the help of a fleet of aquatic vehicles.\n",
       "\n",
       "The subject matter is reminiscent of Star Trek and Thunderbirds blended with Jacques Cousteau. Although it is science fiction as regards its technology, the exotic creatures and locations that the crew encounter are real marine animals in their natural habitats. & 2010 & TV-Y  &  15 & {[}'GB'{]}       &  7 & ... & 0 & 0 & 1 & 0 & 0 & 0 & 0 & 0 & 0 & 0\\\\\n",
       "\t30 & 324 & ts21740 & Black Butler                             & SHOW & In Victorian-era London, on the night of Ciel Phantomhive's tenth birthday a fire destroyed his manor and killed both of his parents. In a moment of death Ceil strikes a deal with a demon, his soul in exchange for revenge. This demon becomes his butler and calls himself by name of Sebastian Michaelis, to protect and serve Ciel until the deal has been completed. One month after the fire Ciel returns from being missing, with his new butler Sebastian. Ceil is now the head of the Phantomhive corporation, handling all business affairs as well as the work as the Queen of Englandâ€™s guard dog and looking for his parents murders.                                                                                                                                                                                                                            & 2008 & TV-MA &  25 & {[}'JP'{]}       &  3 & ... & 1 & 1 & 1 & 0 & 1 & 1 & 0 & 1 & 0 & 0\\\\\n",
       "\t31 & 331 & ts31514 & Strawberry Shortcake                     & SHOW & Strawberry and her friends, including her sister, Apple Dumplin', and her pony, Honey Pie, embark on sweet-smelling adventures in Strawberryland.                                                                                                                                                                                                                                                                                                                                                                                                                                                                                                                                                                                                                                                                                                                                 & 2003 & TV-Y  &  23 & {[}'US'{]}       &  4 & ... & 0 & 0 & 0 & 0 & 0 & 0 & 0 & 0 & 0 & 0\\\\\n",
       "\t32 & 332 & ts33559 & Shaun the Sheep                          & SHOW & Shaun the Sheep thinks and acts like a person in a barnyard, which usually gets him into trouble. The farmer's sheepdog, Bitzer, tries to keep Shaun and his friends out of trouble. The farmer is oblivious to the humanlike features of his flock, who are like one big, happy family.                                                                                                                                                                                                                                                                                                                                                                                                                                                                                                                                                                                          & 2007 & TV-G  &   7 & {[}'GB'{]}       &  6 & ... & 0 & 0 & 1 & 0 & 0 & 0 & 0 & 0 & 0 & 0\\\\\n",
       "\t33 & 335 & ts12815 & Big Time Rush                            & SHOW & Four teenage friends move from Minneapolis to Los Angeles to form a potential chart-topping boy band after Kendall is inadvertently discovered by an eccentric record executive, Gustavo Rocque. As they seize this opportunity of a lifetime, these friends embark on an exciting comedy and music-filled journey to prove to themselves and their record label that they are serious about their new career choice.                                                                                                                                                                                                                                                                                                                                                                                                                                                             & 2009 & TV-G  &  25 & {[}'US'{]}       &  4 & ... & 0 & 0 & 1 & 0 & 0 & 0 & 0 & 0 & 0 & 0\\\\\n",
       "\t... & ... & ... & ... & ... & ... & ... & ... & ... & ... & ... &  & ... & ... & ... & ... & ... & ... & ... & ... & ... & ...\\\\\n",
       "\t1035 & 5524 & ts288064 & Somos.                                        & SHOW & The lives of the people of Allende, a Mexican border town, are overtaken by a powerful cartel's operations, leading to tragedy. Inspired by true events.                                                                                                                                                                                                                                                                                                                                                                                                          & 2021 & TV-MA & 52 & {[}'MX'{]}       & 1 & ... & 0 & 1 & 0 & 0 & 0 & 0 & 0 & 0 & 1 & 0\\\\\n",
       "\t1036 & 5526 & ts304690 & Remember You                                  & SHOW & A genius detective teams up with a colleague to investigate a case that hits close to home, but the duo becomes entangled in a cat-and-mouse game.                                                                                                                                                                                                                                                                                                                                                                                                                & 2021 & TV-MA & 67 & {[}'TH'{]}       & 1 & ... & 0 & 1 & 0 & 0 & 0 & 0 & 1 & 0 & 0 & 0\\\\\n",
       "\t1038 & 5539 & ts267062 & Jiva!                                         & SHOW & A talented street dancer from Umlazi, Durban must confront her fears and deal with family objections to pursue her dancing dreams.                                                                                                                                                                                                                                                                                                                                                                                                                                & 2021 & TV-MA & 41 & {[}'ZA'{]}       & 1 & ... & 0 & 0 & 0 & 0 & 0 & 0 & 0 & 0 & 0 & 0\\\\\n",
       "\t1039 & 5543 & ts305732 & Metal Shop Masters                            & SHOW & A group of metal artists torch, cut and weld epic, badass creations from hardened steel. Only one will win a \\$50,000 prize.                                                                                                                                                                                                                                                                                                                                                                                                                                       & 2021 & TV-MA & 33 & {[}'US'{]}       & 1 & ... & 0 & 0 & 0 & 0 & 0 & 0 & 0 & 0 & 0 & 0\\\\\n",
       "\t1040 & 5544 & ts313902 & Your Life is a Joke                           & SHOW & Comedian Oliver Polak gets to know celebrities at some of their favorite spots before roasting them with good-natured stand-up sets.                                                                                                                                                                                                                                                                                                                                                                                                                              & 2021 & TV-MA & 37 & {[}'DE'{]}       & 1 & ... & 0 & 0 & 1 & 1 & 0 & 0 & 0 & 0 & 0 & 0\\\\\n",
       "\t1041 & 5546 & ts302653 & Light the Night                               & SHOW & Taking the hotel on Linsen North Road in Taiwan as the background, it is a realistic drama that describes the love and hatred between the Japanese-style hotel proprietress and Yang Jin Hua in 1988 and a group of amorous ladies under her.                                                                                                                                                                                                                                                                                                                     & 2021 & TV-MA & 59 & {[}'TW'{]}       & 3 & ... & 1 & 1 & 0 & 0 & 0 & 0 & 0 & 0 & 0 & 0\\\\\n",
       "\t1042 & 5555 & ts308516 & Young, Famous \\& African                       & SHOW & This reality series follows a crew of famed, affluent stars as they work and play, flirt and feud in Johannesburg, South Africa. This all-African reality series includes actor Khanyi Mbau, musician Diamond Platnumz and rapper Nadia Nakai.                                                                                                                                                                                                                                                                                                                    & 2022 & TV-MA & 43 & {[}'ZA'{]}       & 1 & ... & 0 & 0 & 0 & 0 & 0 & 0 & 0 & 0 & 0 & 0\\\\\n",
       "\t1043 & 5556 & ts329882 & Secrets of Summer                             & SHOW & A remote Argentine resort revives its wakeboarding competition, drawing in Mexican athlete Steffi, who is determined to uncover a family secret.                                                                                                                                                                                                                                                                                                                                                                                                                  & 2022 & TV-Y  & 30 & {[}'ES'{]}       & 1 & ... & 0 & 0 & 0 & 0 & 0 & 0 & 0 & 0 & 0 & 1\\\\\n",
       "\t1044 & 5561 & ts232506 & 50M2                                          & SHOW & After being betrayed by his boss, a hitman hides out in a vacant tailor shop, where he's mistaken for the late owner's son, an identity he decides to embrace.                                                                                                                                                                                                                                                                                                                                                                                                    & 2021 & TV-MA & 49 & {[}'TR'{]}       & 1 & ... & 1 & 1 & 1 & 0 & 0 & 0 & 0 & 0 & 0 & 0\\\\\n",
       "\t1045 & 5563 & ts330289 & Smother-In-Law                                & SHOW & Living with her family since the pandemic struck, the meddling Isadir does her best to disrupt the lives of her bumbling son and rival daughter-in-law.                                                                                                                                                                                                                                                                                                                                                                                                           & 2022 & TV-MA & 25 & {[}'BR'{]}       & 1 & ... & 0 & 0 & 1 & 0 & 0 & 0 & 0 & 0 & 0 & 0\\\\\n",
       "\t1046 & 5571 & ts302570 & John of God: The Crimes of a Spiritual Healer & SHOW & Idolized medium JoÃ£o Teixeira de Faria rises to international fame before horrifying abuse is revealed by survivors, prosecutors and the press.                                                                                                                                                                                                                                                                                                                                                                                                                  & 2021 & TV-MA & 50 & {[}'BR'{]}       & 1 & ... & 0 & 1 & 0 & 1 & 0 & 0 & 0 & 0 & 0 & 0\\\\\n",
       "\t1048 & 5574 & ts343426 & Senzo: Murder of a Soccer Star                & SHOW & Soccer player Senzo Meyiwa was a national hero before his killing shocked South Africa. Who did it, and why? This docuseries dives into the evidence.                                                                                                                                                                                                                                                                                                                                                                                                             & 2022 & TV-MA & 42 & {[}'ZA', 'US'{]} & 1 & ... & 0 & 1 & 0 & 1 & 0 & 0 & 0 & 0 & 0 & 0\\\\\n",
       "\t1049 & 5585 & ts310331 & Twenty Somethings: Austin                     & SHOW & Set in Austin, Texas, this growing-up reality show is where twenty-somethings find love, friendship and embark on a new adventure: life.                                                                                                                                                                                                                                                                                                                                                                                                                          & 2021 & TV-MA & 32 & {[}'US'{]}       & 1 & ... & 0 & 0 & 0 & 0 & 0 & 0 & 0 & 0 & 0 & 0\\\\\n",
       "\t1050 & 5588 & ts293346 & Race: Bubba Wallace                           & SHOW & Follows the NASCAR driver Bubba Wallace as he competes for the 23XI Racing team.                                                                                                                                                                                                                                                                                                                                                                                                                                                                                  & 2022 & TV-MA & 47 & {[}'US'{]}       & 1 & ... & 0 & 0 & 0 & 1 & 0 & 0 & 0 & 0 & 0 & 0\\\\\n",
       "\t1051 & 5614 & ts272669 & Waffles + Mochi                               & SHOW & Curious puppet pals Waffles and Mochi travel the world exploring the wonders of food and culture while learning how to cook with fresh ingredients.                                                                                                                                                                                                                                                                                                                                                                                                               & 2021 & TV-Y  & 28 & {[}'US'{]}       & 1 & ... & 0 & 0 & 0 & 0 & 0 & 0 & 0 & 0 & 0 & 0\\\\\n",
       "\t1052 & 5620 & ts273275 & Marriage or Mortgage                          & SHOW & Married or single, we've all heard it. \"You could buy a house for the price of that wedding!\" But have you ever stopped to think, what if you actually did? In the Marriage or Mortgage, a wedding planner and a real estate agent compete to win the hearts and budgets of spouses-to-be. Will they pick fairy-tale nuptials or a dream home?                                                                                                                                                                                                                    & 2021 & TV-G  & 40 & {[}'US'{]}       & 1 & ... & 0 & 0 & 0 & 0 & 0 & 0 & 0 & 0 & 0 & 0\\\\\n",
       "\t1053 & 5627 & ts289757 & Crime Stories: India Detectives               & SHOW & Follows major criminal investigations from the time the crime is reported until the suspect gets captured.                                                                                                                                                                                                                                                                                                                                                                                                                                                        & 2021 & TV-MA & 47 & {[}'IN'{]}       & 1 & ... & 0 & 1 & 0 & 1 & 0 & 0 & 0 & 0 & 0 & 0\\\\\n",
       "\t1055 & 5666 & ts297132 & Brave Animated Series                         & SHOW & An adaption of Taiwanese comic series, Brave Animated Series. The comic artist of this series uses black humor to elaborate social issues, and its storytelling is very into the taste of the younger generation. This program is integrated with multiple resources like TV and music production.\n",
       "\n",
       "In a world full of discrimination and hatred, stereotype is no longer what it really is. The braves believe that only when the evil is defeated, will the world comes with peace. Yet the braves realize that they are not standing on the side of justice. & 2021 & TV-MA & 26 & {[}'TW'{]}       & 1 & ... & 0 & 0 & 0 & 0 & 0 & 0 & 0 & 0 & 0 & 0\\\\\n",
       "\t1056 & 5667 & ts330422 & Team Zenko Go                                 & SHOW & Every good deed is one for this team of kids. Niah, Ari, Ellie and Jax go undercover to help others and secretly solve the city's problems!                                                                                                                                                                                                                                                                                                                                                                                                                       & 2022 & TV-Y  & 20 & {[}'US'{]}       & 1 & ... & 0 & 0 & 0 & 0 & 0 & 0 & 0 & 0 & 0 & 0\\\\\n",
       "\t1057 & 5679 & ts308053 & Jailbirds New Orleans                         & SHOW & Feuds, flirtations and toilet talk go down among the incarcerated women at the Orleans Justice Center in New Orleans on this gritty reality series.                                                                                                                                                                                                                                                                                                                                                                                                               & 2021 & TV-MA & 41 & {[}'US'{]}       & 1 & ... & 0 & 0 & 0 & 1 & 0 & 0 & 0 & 0 & 0 & 0\\\\\n",
       "\t1058 & 5683 & ts316882 & Reasonable Doubt: A Tale of Two Kidnappings   & SHOW & A fender bender that turned into a kidnapping case leads documentalist Roberto HernÃ¡ndez to expose the truth behind Mexico's flawed justice system.                                                                                                                                                                                                                                                                                                                                                                                                              & 2021 & TV-MA & 47 & {[}'MX'{]}       & 1 & ... & 0 & 1 & 0 & 1 & 0 & 0 & 0 & 0 & 0 & 0\\\\\n",
       "\t1059 & 5693 & ts286386 & The Big Day                                   & SHOW & For six engaged couples, happily ever after begins on a spectacular note in this eye-popping look at Indiaâ€™s multibillion-dollar wedding industry.                                                                                                                                                                                                                                                                                                                                                                                                              & 2021 & TV-MA & 43 & {[}'US'{]}       & 2 & ... & 0 & 0 & 0 & 0 & 0 & 0 & 1 & 0 & 0 & 0\\\\\n",
       "\t1060 & 5716 & ts285874 & Magic for Humans Spain                        & SHOW & In this Spanish adaptation of \"Magic for Humans,\" folks of all ages on the streets of Barcelona are amazed by tricks that inspire delight and wonder.                                                                                                                                                                                                                                                                                                                                                                                                             & 2021 & TV-MA & 23 & {[}'ES'{]}       & 1 & ... & 0 & 0 & 1 & 0 & 0 & 0 & 0 & 0 & 0 & 0\\\\\n",
       "\t1061 & 5733 & ts289982 & Bangkok Breaking                              & SHOW & Newly arrived in Bangkok, Wanchai joins the road rescue service and unravels a city-wide conspiracy with the help of a journalist.                                                                                                                                                                                                                                                                                                                                                                                                                                & 2021 & TV-MA & 60 & {[}'TH'{]}       & 1 & ... & 1 & 1 & 0 & 0 & 0 & 0 & 0 & 0 & 0 & 0\\\\\n",
       "\t1063 & 5743 & ts283284 & Navarasa                                      & SHOW & From amusement to awe, the nine human emotions of Indian aesthetic theory are explored in this anthology series.                                                                                                                                                                                                                                                                                                                                                                                                                                                  & 2021 & TV-MA & 34 & {[}'IN'{]}       & 1 & ... & 0 & 0 & 0 & 0 & 0 & 0 & 0 & 0 & 0 & 0\\\\\n",
       "\t1064 & 5760 & ts341760 & Byron Baes                                    & SHOW & Australian influencers flock to Byron Bay for its warm, beachy beauty and cool, creative vibe. Follow these friends as they negotiate life and love.                                                                                                                                                                                                                                                                                                                                                                                                              & 2022 & TV-MA & 39 & {[}'AU'{]}       & 1 & ... & 0 & 0 & 0 & 0 & 0 & 0 & 0 & 0 & 0 & 0\\\\\n",
       "\t1066 & 5784 & ts285471 & The Wedding Coach                             & SHOW & Former bride and forever comedian Jamie Lee shares her irreverent yet practical tips and tricks for wedding planning with struggling lovebirds.                                                                                                                                                                                                                                                                                                                                                                                                                   & 2021 & TV-MA & 33 & {[}'US'{]}       & 1 & ... & 0 & 0 & 1 & 0 & 0 & 0 & 0 & 0 & 0 & 0\\\\\n",
       "\t1067 & 5785 & ts325991 & Only Jokes Allowed                            & SHOW & Six of South Africa's top comedians take center stage and showcase their talent in this collection of short stand-up sets.                                                                                                                                                                                                                                                                                                                                                                                                                                        & 2022 & TV-MA & 16 & {[}'ZA'{]}       & 1 & ... & 0 & 0 & 1 & 0 & 0 & 0 & 0 & 0 & 0 & 0\\\\\n",
       "\t1068 & 5819 & ts287729 & Alma Matters: Inside the IIT Dream            & SHOW & In a \"nation of middle-class\" the IIT dream involves clearing the world's toughest public exam for guaranteed lifelong success. Life is not an exam though. It's a hustle, one that nobody trains them for. The result? Eternal tumult.                                                                                                                                                                                                                                                                                                                           & 2021 & TV-MA & 49 & {[}'IN'{]}       & 1 & ... & 0 & 0 & 0 & 1 & 0 & 0 & 0 & 0 & 0 & 0\\\\\n",
       "\t1069 & 5831 & ts273317 & Pitta Kathalu                                 & SHOW & Four different women, four journeys of love and betrayal. The common thread? They all want to dismantle the patriarchy.                                                                                                                                                                                                                                                                                                                                                                                                                                           & 2021 & TV-MA & 37 & {[}'IN'{]}       & 1 & ... & 0 & 0 & 0 & 0 & 0 & 0 & 1 & 0 & 0 & 0\\\\\n",
       "\\end{tabular}\n"
      ],
      "text/markdown": [
       "\n",
       "A data.frame: 984 × 34\n",
       "\n",
       "| <!--/--> | X &lt;int&gt; | id &lt;chr&gt; | title &lt;chr&gt; | type &lt;chr&gt; | description &lt;chr&gt; | release_year &lt;int&gt; | age_certification &lt;chr&gt; | runtime &lt;int&gt; | production_countries &lt;chr&gt; | seasons &lt;dbl&gt; | ... ... | thriller &lt;int&gt; | crime &lt;int&gt; | comedy &lt;int&gt; | documentation &lt;int&gt; | fantasy &lt;int&gt; | scifi &lt;int&gt; | romance &lt;int&gt; | horror &lt;int&gt; | history &lt;int&gt; | music &lt;int&gt; |\n",
       "|---|---|---|---|---|---|---|---|---|---|---|---|---|---|---|---|---|---|---|---|---|---|\n",
       "| 2 |  26 | ts45948 | Monty Python's Fliegender Zirkus         | SHOW | Monty Python's Fliegender Zirkus consisted of two 45-minute Monty Python German television comedy specials produced by WDR for West German television. The two episodes were first broadcast in January and December 1972 and were shot entirely on film and mostly on location in Bavaria, with the first episode recorded in German and the second recorded in English and then dubbed into German.                                                                                                                                                                                                                                                                                                                                                                                                                                                                             | 1972 | TV-MA |  43 | []           |  1 | ... | 0 | 0 | 1 | 0 | 0 | 0 | 0 | 0 | 0 | 0 |\n",
       "| 3 |  45 | ts21715 | Thomas &amp; Friends                         | SHOW | Thomas &amp; Friends is a British children's television series, which had its first broadcast on the ITV network on 4 September 1984. It is based on The Railway Series of books by the Reverend Wilbert Awdry and his son, Christopher Awdry. These books deal with the adventures of a group of anthropomorphised locomotives and road vehicles who live on the fictional Island of Sodor. The books were based on stories Wilbert told to entertain his son, Christopher during his recovery from measles. From Series one to four, many of the stories are based on events from Awdry's personal experience.                                                                                                                                                                                                                                                                      | 1984 | TV-Y  |  10 | ['GB']       | 24 | ... | 0 | 0 | 1 | 0 | 1 | 0 | 0 | 0 | 0 | 1 |\n",
       "| 4 |  46 | ts20678 | Saved by the Bell                        | SHOW | Lovable schemer Zack Morris leads his pals on adventures at California's Bayside High School. The friends navigate relationships, final exams, school dances, breakups and more while frequently frustrating their principal, Mr. Richard Belding, who does his best to keep them in check.                                                                                                                                                                                                                                                                                                                                                                                                                                                                                                                                                                                       | 1989 | TV-G  |  23 | ['US']       |  5 | ... | 0 | 0 | 1 | 0 | 0 | 0 | 1 | 0 | 0 | 0 |\n",
       "| 5 |  48 | ts25028 | Wheel of Fortune                         | SHOW | This game show sees contestants solve word puzzles, similar to those used in Hangman, to win cash and prizes determined by spinning a giant carnival wheel.                                                                                                                                                                                                                                                                                                                                                                                                                                                                                                                                                                                                                                                                                                                       | 1983 | TV-G  |  26 | ['US']       | 39 | ... | 0 | 0 | 0 | 0 | 0 | 0 | 0 | 0 | 0 | 0 |\n",
       "| 6 |  55 | ts987   | Danger Mouse                             | SHOW | Danger Mouse, the world's greatest secret agent, and his side-kick Penfold work to foil the evil schemes of Baron Greenback.                                                                                                                                                                                                                                                                                                                                                                                                                                                                                                                                                                                                                                                                                                                                                      | 1981 | TV-Y  |  14 | ['GB']       | 10 | ... | 0 | 0 | 1 | 0 | 0 | 1 | 0 | 0 | 0 | 0 |\n",
       "| 7 |  59 | ts2760  | Fireman Sam                              | SHOW | Follow the adventures of fireman Sam and his colleagues as they protect the citizens of the Welsh town of Pontypandy. Whenever the alarm sounds, brave Sam and his co-workers can be counted on to jump into a fire engine, hop onto a helicopter, or even launch an inflatable lifeboat to battle blazes, mount rescue missions, or provide medical attention to those in need.                                                                                                                                                                                                                                                                                                                                                                                                                                                                                                  | 1987 | TV-Y  |  10 | ['GB']       | 13 | ... | 0 | 1 | 1 | 0 | 0 | 0 | 0 | 0 | 0 | 0 |\n",
       "| 8 | 117 | ts25252 | Yu-Gi-Oh!                                | SHOW | A timid young boy who loves all sorts of games, one day solves an ancient puzzle known as the Millennium Puzzle, causing his body to play host to a mysterious spirit with the personality of a gambler.                                                                                                                                                                                                                                                                                                                                                                                                                                                                                                                                                                                                                                                                          | 1998 | TV-Y  |  22 | ['JP']       |  7 | ... | 0 | 0 | 1 | 0 | 1 | 1 | 0 | 0 | 0 | 0 |\n",
       "| 9 | 119 | ts22193 | The Magic School Bus                     | SHOW | An eccentric schoolteacher takes her class on wondrous educational field trips with the help of a magical school bus.                                                                                                                                                                                                                                                                                                                                                                                                                                                                                                                                                                                                                                                                                                                                                             | 1994 | TV-Y  |  26 | ['CA', 'US'] |  4 | ... | 0 | 0 | 1 | 0 | 1 | 1 | 0 | 0 | 0 | 0 |\n",
       "| 10 | 125 | ts16919 | All That                                 | SHOW | The new kids of comedy bring the funny as All That, Americaâ€™s #1 kidâ€™s sketch comedy show, returns with a new cast and a few familiar faces. From Executive Producers Kenan Thompson and Kel Mitchell.                                                                                                                                                                                                                                                                                                                                                                                                                                                                                                                                                                                                                                                                        | 1994 | TV-G  |  22 | ['US']       | 11 | ... | 0 | 0 | 1 | 0 | 0 | 0 | 0 | 0 | 0 | 1 |\n",
       "| 11 | 134 | ts8570  | Barney &amp; Friends                         | SHOW | Barney &amp; Friends is an American children's television series aimed at children from ages 2 to 5. The series, which first aired on April 6, 1992, features the title character Barney, a purple anthropomorphic Tyrannosaurus rex who conveys educational messages through songs and small dance routines with a friendly, optimistic attitude.\n",
       "\n",
       "New episodes have not been produced since 2009; however reruns continue to air on various PBS stations.                                                                                                                                                                                                                                                                                                                                                                                                                         | 1992 | TV-G  |  28 | ['US']       | 14 | ... | 0 | 0 | 1 | 0 | 0 | 0 | 0 | 0 | 0 | 0 |\n",
       "| 13 | 160 | ts21684 | Heartbreak High                          | SHOW | The ins and outs of the classroom lives of a group of students who attend the fictional Hartley High School in Sydney.                                                                                                                                                                                                                                                                                                                                                                                                                                                                                                                                                                                                                                                                                                                                                            | 1994 | TV-MA |  45 | ['AU']       |  7 | ... | 0 | 0 | 1 | 0 | 0 | 0 | 1 | 0 | 0 | 0 |\n",
       "| 14 | 165 | ts28516 | Okupas                                   | SHOW | During the year 2000, Ricardo, Pollo, Walter and Chiqui occupied a house in the Buenos Aires neighborhood of Congreso. The four young people forge a strong friendship that leads them to go through different stories of crime, drugs and social marginalization.                                                                                                                                                                                                                                                                                                                                                                                                                                                                                                                                                                                                                | 2000 | TV-MA |  40 | ['AR']       |  1 | ... | 0 | 1 | 0 | 0 | 0 | 0 | 0 | 0 | 0 | 0 |\n",
       "| 15 | 169 | ts22039 | H                                        | SHOW | H is a French sitcom with seventy-one, 22-minute episodes. The series was created by Kader Aoun, Xavier Matthieu and Ã‰ric Judor, and produced by Phillippe Berthe, Ã‰douard Molinaro, Jean-Luc Moreau and Charles NÃ©mÃ¨s. It ran from 24 October 1998 to 20 April 2002 on Canal+. In Canada, it is shown weekly on TV5.\n",
       "\n",
       "The title \"H\" comes from the three words that characterize the series: Humour, Histoire et HÃ´pital.                                                                                                                                                                                                                                                                                                                                                                                                                                                 | 1998 | TV-MA |  25 | ['FR']       |  4 | ... | 0 | 0 | 1 | 0 | 0 | 0 | 0 | 0 | 0 | 0 |\n",
       "| 17 | 216 | ts4     | Breaking Bad                             | SHOW | When Walter White, a New Mexico chemistry teacher, is diagnosed with Stage III cancer and given a prognosis of only two years left to live. He becomes filled with a sense of fearlessness and an unrelenting desire to secure his family's financial future at any cost as he enters the dangerous world of drugs and crime.                                                                                                                                                                                                                                                                                                                                                                                                                                                                                                                                                     | 2008 | TV-MA |  48 | ['US']       |  5 | ... | 1 | 1 | 0 | 0 | 0 | 0 | 0 | 0 | 0 | 0 |\n",
       "| 18 | 218 | ts9     | The Walking Dead                         | SHOW | Sheriff's deputy Rick Grimes awakens from a coma to find a post-apocalyptic world dominated by flesh-eating zombies. He sets out to find his family and encounters many other survivors along the way.                                                                                                                                                                                                                                                                                                                                                                                                                                                                                                                                                                                                                                                                            | 2010 | TV-MA |  46 | ['US']       | 11 | ... | 1 | 0 | 0 | 0 | 0 | 1 | 0 | 1 | 0 | 0 |\n",
       "| 19 | 224 | ts6644  | Borgen                                   | SHOW | 40-year old political leader Birgitte Nyborg secures her party a landslide victory through her idealism and huge effort, then faces the biggest challenge of her life: how most effectively to use the newly won seats, and how far she is willing to go in order to gain as much influence as possible.                                                                                                                                                                                                                                                                                                                                                                                                                                                                                                                                                                          | 2010 | TV-MA |  58 | ['DK']       |  4 | ... | 0 | 0 | 0 | 0 | 0 | 0 | 0 | 0 | 0 | 0 |\n",
       "| 20 | 228 | ts17156 | Arrested Development                     | SHOW | The story of a wealthy family that lost everything, and the one son who had no choice but to keep them all together.                                                                                                                                                                                                                                                                                                                                                                                                                                                                                                                                                                                                                                                                                                                                                              | 2003 | TV-MA |  28 | ['US']       |  5 | ... | 0 | 0 | 1 | 0 | 0 | 0 | 0 | 0 | 0 | 0 |\n",
       "| 21 | 230 | ts26091 | The Staircase                            | SHOW | Academy Award-winning documentary filmmaker, Jean-Xavier de Lestrade, presents a gripping courtroom thriller, offering a rare and revealing inside look at a high-profile murder trial. In 2001, author Michael Peterson was arraigned for the murder of his wife Kathleen, whose body was discovered lying in a pool of blood on the stairway of their home. Granted unusual access to Peterson's lawyers, home and immediate family, de Lestrade's cameras capture the defense team as it considers its strategic options. The series is an engrossing look at contemporary American justice that features more twists than a legal bestseller.                                                                                                                                                                                                                                 | 2004 | TV-MA |  49 | ['FR']       |  2 | ... | 0 | 1 | 0 | 1 | 0 | 0 | 0 | 0 | 0 | 0 |\n",
       "| 22 | 240 | ts21464 | Zoey 101                                 | SHOW | Zoey 101 is an American television series which originally aired on Nickelodeon from January 9, 2005 until May 2, 2008. It focuses on the lives of teenager Zoey Brooks and her friends as they attend Pacific Coast Academy, a fictional boarding school in Southern California. It was created by Dan Schneider. It was initially filmed at Pepperdine University in Malibu, California, then at stages in Valencia, California beginning in season 3. It was nominated for an \"Outstanding Children's Program\" Emmy in 2005. Zoey 101 was the most expensive production ever for Nickelodeon series, as it was shot completely on location in Malibu. It was also Nickelodeon's best performance for a series premiere in almost eight years. Despite this, many critics have made negative comments about the show, its setting, and its characters.                          | 2005 | TV-G  |  25 | ['US']       |  4 | ... | 0 | 0 | 1 | 0 | 0 | 0 | 1 | 0 | 0 | 0 |\n",
       "| 23 | 254 | ts30311 | Victorious                               | SHOW | Aspiring singer Tori Vega navigates life while attending a performing arts high school called Hollywood Arts.                                                                                                                                                                                                                                                                                                                                                                                                                                                                                                                                                                                                                                                                                                                                                                     | 2010 | TV-G  |  25 | ['US']       |  4 | ... | 0 | 0 | 1 | 0 | 0 | 0 | 1 | 0 | 0 | 1 |\n",
       "| 24 | 259 | ts22267 | Trailer Park Boys                        | SHOW | Follow the booze-fueled misadventures of three longtime pals and petty serial criminals who run scams from their Nova Scotia trailer park.                                                                                                                                                                                                                                                                                                                                                                                                                                                                                                                                                                                                                                                                                                                                        | 2001 | TV-MA |  25 | ['CA']       | 12 | ... | 0 | 1 | 1 | 0 | 0 | 0 | 0 | 0 | 0 | 0 |\n",
       "| 25 | 271 | ts22456 | Ned's Declassified School Survival Guide | SHOW | The whacky adventures of Ned Bigby and his best pals Moze and Cookie at James K. Polk Middle School, as \"every-kid\" Ned shatters the fourth wall to share tips and tricks on navigating middle school or junior high hurdles. Ned's not super cool, and he has no superpowers. He is, however, witty, well-groomed, upbeat and self-aware. Moreover, with more than a little help from his two best friends, he's equipped to conquer middle school minefields. From crushing bullies to crushes, from off- the-wall, mean and cool teachers to pop quizzes, elections and detentions, Ned knows that nothing, including the seventh grade, is as bad as it seems, and friendship matters most.                                                                                                                                                                                   | 2004 | TV-G  |  25 | ['US']       |  3 | ... | 0 | 0 | 1 | 0 | 0 | 0 | 0 | 0 | 0 | 0 |\n",
       "| 26 | 277 | ts22018 | iCarly                                   | SHOW | Watch Carly, Sam, and Freddie, as they try to balance their everyday 8th grade lives with their newfound fame managing and starring in the most awesome show on the web.                                                                                                                                                                                                                                                                                                                                                                                                                                                                                                                                                                                                                                                                                                          | 2007 | TV-G  |  26 | ['US']       |  6 | ... | 0 | 0 | 1 | 0 | 0 | 0 | 1 | 0 | 0 | 0 |\n",
       "| 27 | 303 | ts15986 | Dead Set                                 | SHOW | Zombies are rampaging throughout Britain. Blissfully unaware of gory events outside, the Big Brother housemates are in for the ultimate eviction night...                                                                                                                                                                                                                                                                                                                                                                                                                                                                                                                                                                                                                                                                                                                         | 2008 | TV-MA | 141 | ['GB']       |  1 | ... | 1 | 0 | 1 | 0 | 0 | 1 | 0 | 1 | 0 | 0 |\n",
       "| 28 | 305 | ts22318 | Winx Club                                | SHOW | In a magical universe, witches, warriors begin fighting in the name of good .vs. evil! At a magic school, five teenage girls are selected to defend the universe with their magic.                                                                                                                                                                                                                                                                                                                                                                                                                                                                                                                                                                                                                                                                                                | 2004 | TV-G  |  23 | ['IT']       |  8 | ... | 1 | 0 | 1 | 0 | 1 | 0 | 0 | 0 | 0 | 0 |\n",
       "| 29 | 308 | ts30356 | Octonauts                                | SHOW | The Octonauts is a British children's television series, produced by Silvergate Media for the BBC channel Cbeebies. The series is animated in Ireland by Brown Bag Films but uses British voice actors. The TV series is based on American-Canadian children's books written by Vicki Wong and Michael C. Murphy of Meomi Design Inc.\n",
       "\n",
       "The Octonauts follows an underwater exploring crew made up of stylized anthropomorphic animals, a team of eight adventurers who live in an undersea base, the Octopod, from where they go on undersea adventures with the help of a fleet of aquatic vehicles.\n",
       "\n",
       "The subject matter is reminiscent of Star Trek and Thunderbirds blended with Jacques Cousteau. Although it is science fiction as regards its technology, the exotic creatures and locations that the crew encounter are real marine animals in their natural habitats. | 2010 | TV-Y  |  15 | ['GB']       |  7 | ... | 0 | 0 | 1 | 0 | 0 | 0 | 0 | 0 | 0 | 0 |\n",
       "| 30 | 324 | ts21740 | Black Butler                             | SHOW | In Victorian-era London, on the night of Ciel Phantomhive's tenth birthday a fire destroyed his manor and killed both of his parents. In a moment of death Ceil strikes a deal with a demon, his soul in exchange for revenge. This demon becomes his butler and calls himself by name of Sebastian Michaelis, to protect and serve Ciel until the deal has been completed. One month after the fire Ciel returns from being missing, with his new butler Sebastian. Ceil is now the head of the Phantomhive corporation, handling all business affairs as well as the work as the Queen of Englandâ€™s guard dog and looking for his parents murders.                                                                                                                                                                                                                            | 2008 | TV-MA |  25 | ['JP']       |  3 | ... | 1 | 1 | 1 | 0 | 1 | 1 | 0 | 1 | 0 | 0 |\n",
       "| 31 | 331 | ts31514 | Strawberry Shortcake                     | SHOW | Strawberry and her friends, including her sister, Apple Dumplin', and her pony, Honey Pie, embark on sweet-smelling adventures in Strawberryland.                                                                                                                                                                                                                                                                                                                                                                                                                                                                                                                                                                                                                                                                                                                                 | 2003 | TV-Y  |  23 | ['US']       |  4 | ... | 0 | 0 | 0 | 0 | 0 | 0 | 0 | 0 | 0 | 0 |\n",
       "| 32 | 332 | ts33559 | Shaun the Sheep                          | SHOW | Shaun the Sheep thinks and acts like a person in a barnyard, which usually gets him into trouble. The farmer's sheepdog, Bitzer, tries to keep Shaun and his friends out of trouble. The farmer is oblivious to the humanlike features of his flock, who are like one big, happy family.                                                                                                                                                                                                                                                                                                                                                                                                                                                                                                                                                                                          | 2007 | TV-G  |   7 | ['GB']       |  6 | ... | 0 | 0 | 1 | 0 | 0 | 0 | 0 | 0 | 0 | 0 |\n",
       "| 33 | 335 | ts12815 | Big Time Rush                            | SHOW | Four teenage friends move from Minneapolis to Los Angeles to form a potential chart-topping boy band after Kendall is inadvertently discovered by an eccentric record executive, Gustavo Rocque. As they seize this opportunity of a lifetime, these friends embark on an exciting comedy and music-filled journey to prove to themselves and their record label that they are serious about their new career choice.                                                                                                                                                                                                                                                                                                                                                                                                                                                             | 2009 | TV-G  |  25 | ['US']       |  4 | ... | 0 | 0 | 1 | 0 | 0 | 0 | 0 | 0 | 0 | 0 |\n",
       "| ... | ... | ... | ... | ... | ... | ... | ... | ... | ... | ... | <!----> | ... | ... | ... | ... | ... | ... | ... | ... | ... | ... |\n",
       "| 1035 | 5524 | ts288064 | Somos.                                        | SHOW | The lives of the people of Allende, a Mexican border town, are overtaken by a powerful cartel's operations, leading to tragedy. Inspired by true events.                                                                                                                                                                                                                                                                                                                                                                                                          | 2021 | TV-MA | 52 | ['MX']       | 1 | ... | 0 | 1 | 0 | 0 | 0 | 0 | 0 | 0 | 1 | 0 |\n",
       "| 1036 | 5526 | ts304690 | Remember You                                  | SHOW | A genius detective teams up with a colleague to investigate a case that hits close to home, but the duo becomes entangled in a cat-and-mouse game.                                                                                                                                                                                                                                                                                                                                                                                                                | 2021 | TV-MA | 67 | ['TH']       | 1 | ... | 0 | 1 | 0 | 0 | 0 | 0 | 1 | 0 | 0 | 0 |\n",
       "| 1038 | 5539 | ts267062 | Jiva!                                         | SHOW | A talented street dancer from Umlazi, Durban must confront her fears and deal with family objections to pursue her dancing dreams.                                                                                                                                                                                                                                                                                                                                                                                                                                | 2021 | TV-MA | 41 | ['ZA']       | 1 | ... | 0 | 0 | 0 | 0 | 0 | 0 | 0 | 0 | 0 | 0 |\n",
       "| 1039 | 5543 | ts305732 | Metal Shop Masters                            | SHOW | A group of metal artists torch, cut and weld epic, badass creations from hardened steel. Only one will win a $50,000 prize.                                                                                                                                                                                                                                                                                                                                                                                                                                       | 2021 | TV-MA | 33 | ['US']       | 1 | ... | 0 | 0 | 0 | 0 | 0 | 0 | 0 | 0 | 0 | 0 |\n",
       "| 1040 | 5544 | ts313902 | Your Life is a Joke                           | SHOW | Comedian Oliver Polak gets to know celebrities at some of their favorite spots before roasting them with good-natured stand-up sets.                                                                                                                                                                                                                                                                                                                                                                                                                              | 2021 | TV-MA | 37 | ['DE']       | 1 | ... | 0 | 0 | 1 | 1 | 0 | 0 | 0 | 0 | 0 | 0 |\n",
       "| 1041 | 5546 | ts302653 | Light the Night                               | SHOW | Taking the hotel on Linsen North Road in Taiwan as the background, it is a realistic drama that describes the love and hatred between the Japanese-style hotel proprietress and Yang Jin Hua in 1988 and a group of amorous ladies under her.                                                                                                                                                                                                                                                                                                                     | 2021 | TV-MA | 59 | ['TW']       | 3 | ... | 1 | 1 | 0 | 0 | 0 | 0 | 0 | 0 | 0 | 0 |\n",
       "| 1042 | 5555 | ts308516 | Young, Famous &amp; African                       | SHOW | This reality series follows a crew of famed, affluent stars as they work and play, flirt and feud in Johannesburg, South Africa. This all-African reality series includes actor Khanyi Mbau, musician Diamond Platnumz and rapper Nadia Nakai.                                                                                                                                                                                                                                                                                                                    | 2022 | TV-MA | 43 | ['ZA']       | 1 | ... | 0 | 0 | 0 | 0 | 0 | 0 | 0 | 0 | 0 | 0 |\n",
       "| 1043 | 5556 | ts329882 | Secrets of Summer                             | SHOW | A remote Argentine resort revives its wakeboarding competition, drawing in Mexican athlete Steffi, who is determined to uncover a family secret.                                                                                                                                                                                                                                                                                                                                                                                                                  | 2022 | TV-Y  | 30 | ['ES']       | 1 | ... | 0 | 0 | 0 | 0 | 0 | 0 | 0 | 0 | 0 | 1 |\n",
       "| 1044 | 5561 | ts232506 | 50M2                                          | SHOW | After being betrayed by his boss, a hitman hides out in a vacant tailor shop, where he's mistaken for the late owner's son, an identity he decides to embrace.                                                                                                                                                                                                                                                                                                                                                                                                    | 2021 | TV-MA | 49 | ['TR']       | 1 | ... | 1 | 1 | 1 | 0 | 0 | 0 | 0 | 0 | 0 | 0 |\n",
       "| 1045 | 5563 | ts330289 | Smother-In-Law                                | SHOW | Living with her family since the pandemic struck, the meddling Isadir does her best to disrupt the lives of her bumbling son and rival daughter-in-law.                                                                                                                                                                                                                                                                                                                                                                                                           | 2022 | TV-MA | 25 | ['BR']       | 1 | ... | 0 | 0 | 1 | 0 | 0 | 0 | 0 | 0 | 0 | 0 |\n",
       "| 1046 | 5571 | ts302570 | John of God: The Crimes of a Spiritual Healer | SHOW | Idolized medium JoÃ£o Teixeira de Faria rises to international fame before horrifying abuse is revealed by survivors, prosecutors and the press.                                                                                                                                                                                                                                                                                                                                                                                                                  | 2021 | TV-MA | 50 | ['BR']       | 1 | ... | 0 | 1 | 0 | 1 | 0 | 0 | 0 | 0 | 0 | 0 |\n",
       "| 1048 | 5574 | ts343426 | Senzo: Murder of a Soccer Star                | SHOW | Soccer player Senzo Meyiwa was a national hero before his killing shocked South Africa. Who did it, and why? This docuseries dives into the evidence.                                                                                                                                                                                                                                                                                                                                                                                                             | 2022 | TV-MA | 42 | ['ZA', 'US'] | 1 | ... | 0 | 1 | 0 | 1 | 0 | 0 | 0 | 0 | 0 | 0 |\n",
       "| 1049 | 5585 | ts310331 | Twenty Somethings: Austin                     | SHOW | Set in Austin, Texas, this growing-up reality show is where twenty-somethings find love, friendship and embark on a new adventure: life.                                                                                                                                                                                                                                                                                                                                                                                                                          | 2021 | TV-MA | 32 | ['US']       | 1 | ... | 0 | 0 | 0 | 0 | 0 | 0 | 0 | 0 | 0 | 0 |\n",
       "| 1050 | 5588 | ts293346 | Race: Bubba Wallace                           | SHOW | Follows the NASCAR driver Bubba Wallace as he competes for the 23XI Racing team.                                                                                                                                                                                                                                                                                                                                                                                                                                                                                  | 2022 | TV-MA | 47 | ['US']       | 1 | ... | 0 | 0 | 0 | 1 | 0 | 0 | 0 | 0 | 0 | 0 |\n",
       "| 1051 | 5614 | ts272669 | Waffles + Mochi                               | SHOW | Curious puppet pals Waffles and Mochi travel the world exploring the wonders of food and culture while learning how to cook with fresh ingredients.                                                                                                                                                                                                                                                                                                                                                                                                               | 2021 | TV-Y  | 28 | ['US']       | 1 | ... | 0 | 0 | 0 | 0 | 0 | 0 | 0 | 0 | 0 | 0 |\n",
       "| 1052 | 5620 | ts273275 | Marriage or Mortgage                          | SHOW | Married or single, we've all heard it. \"You could buy a house for the price of that wedding!\" But have you ever stopped to think, what if you actually did? In the Marriage or Mortgage, a wedding planner and a real estate agent compete to win the hearts and budgets of spouses-to-be. Will they pick fairy-tale nuptials or a dream home?                                                                                                                                                                                                                    | 2021 | TV-G  | 40 | ['US']       | 1 | ... | 0 | 0 | 0 | 0 | 0 | 0 | 0 | 0 | 0 | 0 |\n",
       "| 1053 | 5627 | ts289757 | Crime Stories: India Detectives               | SHOW | Follows major criminal investigations from the time the crime is reported until the suspect gets captured.                                                                                                                                                                                                                                                                                                                                                                                                                                                        | 2021 | TV-MA | 47 | ['IN']       | 1 | ... | 0 | 1 | 0 | 1 | 0 | 0 | 0 | 0 | 0 | 0 |\n",
       "| 1055 | 5666 | ts297132 | Brave Animated Series                         | SHOW | An adaption of Taiwanese comic series, Brave Animated Series. The comic artist of this series uses black humor to elaborate social issues, and its storytelling is very into the taste of the younger generation. This program is integrated with multiple resources like TV and music production.\n",
       "\n",
       "In a world full of discrimination and hatred, stereotype is no longer what it really is. The braves believe that only when the evil is defeated, will the world comes with peace. Yet the braves realize that they are not standing on the side of justice. | 2021 | TV-MA | 26 | ['TW']       | 1 | ... | 0 | 0 | 0 | 0 | 0 | 0 | 0 | 0 | 0 | 0 |\n",
       "| 1056 | 5667 | ts330422 | Team Zenko Go                                 | SHOW | Every good deed is one for this team of kids. Niah, Ari, Ellie and Jax go undercover to help others and secretly solve the city's problems!                                                                                                                                                                                                                                                                                                                                                                                                                       | 2022 | TV-Y  | 20 | ['US']       | 1 | ... | 0 | 0 | 0 | 0 | 0 | 0 | 0 | 0 | 0 | 0 |\n",
       "| 1057 | 5679 | ts308053 | Jailbirds New Orleans                         | SHOW | Feuds, flirtations and toilet talk go down among the incarcerated women at the Orleans Justice Center in New Orleans on this gritty reality series.                                                                                                                                                                                                                                                                                                                                                                                                               | 2021 | TV-MA | 41 | ['US']       | 1 | ... | 0 | 0 | 0 | 1 | 0 | 0 | 0 | 0 | 0 | 0 |\n",
       "| 1058 | 5683 | ts316882 | Reasonable Doubt: A Tale of Two Kidnappings   | SHOW | A fender bender that turned into a kidnapping case leads documentalist Roberto HernÃ¡ndez to expose the truth behind Mexico's flawed justice system.                                                                                                                                                                                                                                                                                                                                                                                                              | 2021 | TV-MA | 47 | ['MX']       | 1 | ... | 0 | 1 | 0 | 1 | 0 | 0 | 0 | 0 | 0 | 0 |\n",
       "| 1059 | 5693 | ts286386 | The Big Day                                   | SHOW | For six engaged couples, happily ever after begins on a spectacular note in this eye-popping look at Indiaâ€™s multibillion-dollar wedding industry.                                                                                                                                                                                                                                                                                                                                                                                                              | 2021 | TV-MA | 43 | ['US']       | 2 | ... | 0 | 0 | 0 | 0 | 0 | 0 | 1 | 0 | 0 | 0 |\n",
       "| 1060 | 5716 | ts285874 | Magic for Humans Spain                        | SHOW | In this Spanish adaptation of \"Magic for Humans,\" folks of all ages on the streets of Barcelona are amazed by tricks that inspire delight and wonder.                                                                                                                                                                                                                                                                                                                                                                                                             | 2021 | TV-MA | 23 | ['ES']       | 1 | ... | 0 | 0 | 1 | 0 | 0 | 0 | 0 | 0 | 0 | 0 |\n",
       "| 1061 | 5733 | ts289982 | Bangkok Breaking                              | SHOW | Newly arrived in Bangkok, Wanchai joins the road rescue service and unravels a city-wide conspiracy with the help of a journalist.                                                                                                                                                                                                                                                                                                                                                                                                                                | 2021 | TV-MA | 60 | ['TH']       | 1 | ... | 1 | 1 | 0 | 0 | 0 | 0 | 0 | 0 | 0 | 0 |\n",
       "| 1063 | 5743 | ts283284 | Navarasa                                      | SHOW | From amusement to awe, the nine human emotions of Indian aesthetic theory are explored in this anthology series.                                                                                                                                                                                                                                                                                                                                                                                                                                                  | 2021 | TV-MA | 34 | ['IN']       | 1 | ... | 0 | 0 | 0 | 0 | 0 | 0 | 0 | 0 | 0 | 0 |\n",
       "| 1064 | 5760 | ts341760 | Byron Baes                                    | SHOW | Australian influencers flock to Byron Bay for its warm, beachy beauty and cool, creative vibe. Follow these friends as they negotiate life and love.                                                                                                                                                                                                                                                                                                                                                                                                              | 2022 | TV-MA | 39 | ['AU']       | 1 | ... | 0 | 0 | 0 | 0 | 0 | 0 | 0 | 0 | 0 | 0 |\n",
       "| 1066 | 5784 | ts285471 | The Wedding Coach                             | SHOW | Former bride and forever comedian Jamie Lee shares her irreverent yet practical tips and tricks for wedding planning with struggling lovebirds.                                                                                                                                                                                                                                                                                                                                                                                                                   | 2021 | TV-MA | 33 | ['US']       | 1 | ... | 0 | 0 | 1 | 0 | 0 | 0 | 0 | 0 | 0 | 0 |\n",
       "| 1067 | 5785 | ts325991 | Only Jokes Allowed                            | SHOW | Six of South Africa's top comedians take center stage and showcase their talent in this collection of short stand-up sets.                                                                                                                                                                                                                                                                                                                                                                                                                                        | 2022 | TV-MA | 16 | ['ZA']       | 1 | ... | 0 | 0 | 1 | 0 | 0 | 0 | 0 | 0 | 0 | 0 |\n",
       "| 1068 | 5819 | ts287729 | Alma Matters: Inside the IIT Dream            | SHOW | In a \"nation of middle-class\" the IIT dream involves clearing the world's toughest public exam for guaranteed lifelong success. Life is not an exam though. It's a hustle, one that nobody trains them for. The result? Eternal tumult.                                                                                                                                                                                                                                                                                                                           | 2021 | TV-MA | 49 | ['IN']       | 1 | ... | 0 | 0 | 0 | 1 | 0 | 0 | 0 | 0 | 0 | 0 |\n",
       "| 1069 | 5831 | ts273317 | Pitta Kathalu                                 | SHOW | Four different women, four journeys of love and betrayal. The common thread? They all want to dismantle the patriarchy.                                                                                                                                                                                                                                                                                                                                                                                                                                           | 2021 | TV-MA | 37 | ['IN']       | 1 | ... | 0 | 0 | 0 | 0 | 0 | 0 | 1 | 0 | 0 | 0 |\n",
       "\n"
      ],
      "text/plain": [
       "     X    id       title                                         type\n",
       "2     26  ts45948  Monty Python's Fliegender Zirkus              SHOW\n",
       "3     45  ts21715  Thomas & Friends                              SHOW\n",
       "4     46  ts20678  Saved by the Bell                             SHOW\n",
       "5     48  ts25028  Wheel of Fortune                              SHOW\n",
       "6     55  ts987    Danger Mouse                                  SHOW\n",
       "7     59  ts2760   Fireman Sam                                   SHOW\n",
       "8    117  ts25252  Yu-Gi-Oh!                                     SHOW\n",
       "9    119  ts22193  The Magic School Bus                          SHOW\n",
       "10   125  ts16919  All That                                      SHOW\n",
       "11   134  ts8570   Barney & Friends                              SHOW\n",
       "13   160  ts21684  Heartbreak High                               SHOW\n",
       "14   165  ts28516  Okupas                                        SHOW\n",
       "15   169  ts22039  H                                             SHOW\n",
       "17   216  ts4      Breaking Bad                                  SHOW\n",
       "18   218  ts9      The Walking Dead                              SHOW\n",
       "19   224  ts6644   Borgen                                        SHOW\n",
       "20   228  ts17156  Arrested Development                          SHOW\n",
       "21   230  ts26091  The Staircase                                 SHOW\n",
       "22   240  ts21464  Zoey 101                                      SHOW\n",
       "23   254  ts30311  Victorious                                    SHOW\n",
       "24   259  ts22267  Trailer Park Boys                             SHOW\n",
       "25   271  ts22456  Ned's Declassified School Survival Guide      SHOW\n",
       "26   277  ts22018  iCarly                                        SHOW\n",
       "27   303  ts15986  Dead Set                                      SHOW\n",
       "28   305  ts22318  Winx Club                                     SHOW\n",
       "29   308  ts30356  Octonauts                                     SHOW\n",
       "30   324  ts21740  Black Butler                                  SHOW\n",
       "31   331  ts31514  Strawberry Shortcake                          SHOW\n",
       "32   332  ts33559  Shaun the Sheep                               SHOW\n",
       "33   335  ts12815  Big Time Rush                                 SHOW\n",
       "...  ...  ...      ...                                           ... \n",
       "1035 5524 ts288064 Somos.                                        SHOW\n",
       "1036 5526 ts304690 Remember You                                  SHOW\n",
       "1038 5539 ts267062 Jiva!                                         SHOW\n",
       "1039 5543 ts305732 Metal Shop Masters                            SHOW\n",
       "1040 5544 ts313902 Your Life is a Joke                           SHOW\n",
       "1041 5546 ts302653 Light the Night                               SHOW\n",
       "1042 5555 ts308516 Young, Famous & African                       SHOW\n",
       "1043 5556 ts329882 Secrets of Summer                             SHOW\n",
       "1044 5561 ts232506 50M2                                          SHOW\n",
       "1045 5563 ts330289 Smother-In-Law                                SHOW\n",
       "1046 5571 ts302570 John of God: The Crimes of a Spiritual Healer SHOW\n",
       "1048 5574 ts343426 Senzo: Murder of a Soccer Star                SHOW\n",
       "1049 5585 ts310331 Twenty Somethings: Austin                     SHOW\n",
       "1050 5588 ts293346 Race: Bubba Wallace                           SHOW\n",
       "1051 5614 ts272669 Waffles + Mochi                               SHOW\n",
       "1052 5620 ts273275 Marriage or Mortgage                          SHOW\n",
       "1053 5627 ts289757 Crime Stories: India Detectives               SHOW\n",
       "1055 5666 ts297132 Brave Animated Series                         SHOW\n",
       "1056 5667 ts330422 Team Zenko Go                                 SHOW\n",
       "1057 5679 ts308053 Jailbirds New Orleans                         SHOW\n",
       "1058 5683 ts316882 Reasonable Doubt: A Tale of Two Kidnappings   SHOW\n",
       "1059 5693 ts286386 The Big Day                                   SHOW\n",
       "1060 5716 ts285874 Magic for Humans Spain                        SHOW\n",
       "1061 5733 ts289982 Bangkok Breaking                              SHOW\n",
       "1063 5743 ts283284 Navarasa                                      SHOW\n",
       "1064 5760 ts341760 Byron Baes                                    SHOW\n",
       "1066 5784 ts285471 The Wedding Coach                             SHOW\n",
       "1067 5785 ts325991 Only Jokes Allowed                            SHOW\n",
       "1068 5819 ts287729 Alma Matters: Inside the IIT Dream            SHOW\n",
       "1069 5831 ts273317 Pitta Kathalu                                 SHOW\n",
       "     description                                                                                                                                                                                                                                                                                                                                                                                                                                                                                                                                                                                                                                                                                                                                                                                                                                                                      \n",
       "2    Monty Python's Fliegender Zirkus consisted of two 45-minute Monty Python German television comedy specials produced by WDR for West German television. The two episodes were first broadcast in January and December 1972 and were shot entirely on film and mostly on location in Bavaria, with the first episode recorded in German and the second recorded in English and then dubbed into German.                                                                                                                                                                                                                                                                                                                                                                                                                                                                            \n",
       "3    Thomas & Friends is a British children's television series, which had its first broadcast on the ITV network on 4 September 1984. It is based on The Railway Series of books by the Reverend Wilbert Awdry and his son, Christopher Awdry. These books deal with the adventures of a group of anthropomorphised locomotives and road vehicles who live on the fictional Island of Sodor. The books were based on stories Wilbert told to entertain his son, Christopher during his recovery from measles. From Series one to four, many of the stories are based on events from Awdry's personal experience.                                                                                                                                                                                                                                                                     \n",
       "4    Lovable schemer Zack Morris leads his pals on adventures at California's Bayside High School. The friends navigate relationships, final exams, school dances, breakups and more while frequently frustrating their principal, Mr. Richard Belding, who does his best to keep them in check.                                                                                                                                                                                                                                                                                                                                                                                                                                                                                                                                                                                      \n",
       "5    This game show sees contestants solve word puzzles, similar to those used in Hangman, to win cash and prizes determined by spinning a giant carnival wheel.                                                                                                                                                                                                                                                                                                                                                                                                                                                                                                                                                                                                                                                                                                                      \n",
       "6    Danger Mouse, the world's greatest secret agent, and his side-kick Penfold work to foil the evil schemes of Baron Greenback.                                                                                                                                                                                                                                                                                                                                                                                                                                                                                                                                                                                                                                                                                                                                                     \n",
       "7    Follow the adventures of fireman Sam and his colleagues as they protect the citizens of the Welsh town of Pontypandy. Whenever the alarm sounds, brave Sam and his co-workers can be counted on to jump into a fire engine, hop onto a helicopter, or even launch an inflatable lifeboat to battle blazes, mount rescue missions, or provide medical attention to those in need.                                                                                                                                                                                                                                                                                                                                                                                                                                                                                                 \n",
       "8    A timid young boy who loves all sorts of games, one day solves an ancient puzzle known as the Millennium Puzzle, causing his body to play host to a mysterious spirit with the personality of a gambler.                                                                                                                                                                                                                                                                                                                                                                                                                                                                                                                                                                                                                                                                         \n",
       "9    An eccentric schoolteacher takes her class on wondrous educational field trips with the help of a magical school bus.                                                                                                                                                                                                                                                                                                                                                                                                                                                                                                                                                                                                                                                                                                                                                            \n",
       "10   The new kids of comedy bring the funny as All That, Americaâ\\200\\231s #1 kidâ\\200\\231s sketch comedy show, returns with a new cast and a few familiar faces. From Executive Producers Kenan Thompson and Kel Mitchell.                                                                                                                                                                                                                                                                                                                                                                                                                                                                                                                                                                                                                                                                       \n",
       "11   Barney & Friends is an American children's television series aimed at children from ages 2 to 5. The series, which first aired on April 6, 1992, features the title character Barney, a purple anthropomorphic Tyrannosaurus rex who conveys educational messages through songs and small dance routines with a friendly, optimistic attitude.\\n\\nNew episodes have not been produced since 2009; however reruns continue to air on various PBS stations.                                                                                                                                                                                                                                                                                                                                                                                                                        \n",
       "13   The ins and outs of the classroom lives of a group of students who attend the fictional Hartley High School in Sydney.                                                                                                                                                                                                                                                                                                                                                                                                                                                                                                                                                                                                                                                                                                                                                           \n",
       "14   During the year 2000, Ricardo, Pollo, Walter and Chiqui occupied a house in the Buenos Aires neighborhood of Congreso. The four young people forge a strong friendship that leads them to go through different stories of crime, drugs and social marginalization.                                                                                                                                                                                                                                                                                                                                                                                                                                                                                                                                                                                                               \n",
       "15   H is a French sitcom with seventy-one, 22-minute episodes. The series was created by Kader Aoun, Xavier Matthieu and Ã‰ric Judor, and produced by Phillippe Berthe, Ã‰douard Molinaro, Jean-Luc Moreau and Charles NÃ©mÃ¨s. It ran from 24 October 1998 to 20 April 2002 on Canal+. In Canada, it is shown weekly on TV5.\\n\\nThe title \"H\" comes from the three words that characterize the series: Humour, Histoire et HÃ´pital.                                                                                                                                                                                                                                                                                                                                                                                                                                                \n",
       "17   When Walter White, a New Mexico chemistry teacher, is diagnosed with Stage III cancer and given a prognosis of only two years left to live. He becomes filled with a sense of fearlessness and an unrelenting desire to secure his family's financial future at any cost as he enters the dangerous world of drugs and crime.                                                                                                                                                                                                                                                                                                                                                                                                                                                                                                                                                    \n",
       "18   Sheriff's deputy Rick Grimes awakens from a coma to find a post-apocalyptic world dominated by flesh-eating zombies. He sets out to find his family and encounters many other survivors along the way.                                                                                                                                                                                                                                                                                                                                                                                                                                                                                                                                                                                                                                                                           \n",
       "19   40-year old political leader Birgitte Nyborg secures her party a landslide victory through her idealism and huge effort, then faces the biggest challenge of her life: how most effectively to use the newly won seats, and how far she is willing to go in order to gain as much influence as possible.                                                                                                                                                                                                                                                                                                                                                                                                                                                                                                                                                                         \n",
       "20   The story of a wealthy family that lost everything, and the one son who had no choice but to keep them all together.                                                                                                                                                                                                                                                                                                                                                                                                                                                                                                                                                                                                                                                                                                                                                             \n",
       "21   Academy Award-winning documentary filmmaker, Jean-Xavier de Lestrade, presents a gripping courtroom thriller, offering a rare and revealing inside look at a high-profile murder trial. In 2001, author Michael Peterson was arraigned for the murder of his wife Kathleen, whose body was discovered lying in a pool of blood on the stairway of their home. Granted unusual access to Peterson's lawyers, home and immediate family, de Lestrade's cameras capture the defense team as it considers its strategic options. The series is an engrossing look at contemporary American justice that features more twists than a legal bestseller.                                                                                                                                                                                                                                \n",
       "22   Zoey 101 is an American television series which originally aired on Nickelodeon from January 9, 2005 until May 2, 2008. It focuses on the lives of teenager Zoey Brooks and her friends as they attend Pacific Coast Academy, a fictional boarding school in Southern California. It was created by Dan Schneider. It was initially filmed at Pepperdine University in Malibu, California, then at stages in Valencia, California beginning in season 3. It was nominated for an \"Outstanding Children's Program\" Emmy in 2005. Zoey 101 was the most expensive production ever for Nickelodeon series, as it was shot completely on location in Malibu. It was also Nickelodeon's best performance for a series premiere in almost eight years. Despite this, many critics have made negative comments about the show, its setting, and its characters.                         \n",
       "23   Aspiring singer Tori Vega navigates life while attending a performing arts high school called Hollywood Arts.                                                                                                                                                                                                                                                                                                                                                                                                                                                                                                                                                                                                                                                                                                                                                                    \n",
       "24   Follow the booze-fueled misadventures of three longtime pals and petty serial criminals who run scams from their Nova Scotia trailer park.                                                                                                                                                                                                                                                                                                                                                                                                                                                                                                                                                                                                                                                                                                                                       \n",
       "25   The whacky adventures of Ned Bigby and his best pals Moze and Cookie at James K. Polk Middle School, as \"every-kid\" Ned shatters the fourth wall to share tips and tricks on navigating middle school or junior high hurdles. Ned's not super cool, and he has no superpowers. He is, however, witty, well-groomed, upbeat and self-aware. Moreover, with more than a little help from his two best friends, he's equipped to conquer middle school minefields. From crushing bullies to crushes, from off- the-wall, mean and cool teachers to pop quizzes, elections and detentions, Ned knows that nothing, including the seventh grade, is as bad as it seems, and friendship matters most.                                                                                                                                                                                  \n",
       "26   Watch Carly, Sam, and Freddie, as they try to balance their everyday 8th grade lives with their newfound fame managing and starring in the most awesome show on the web.                                                                                                                                                                                                                                                                                                                                                                                                                                                                                                                                                                                                                                                                                                         \n",
       "27   Zombies are rampaging throughout Britain. Blissfully unaware of gory events outside, the Big Brother housemates are in for the ultimate eviction night...                                                                                                                                                                                                                                                                                                                                                                                                                                                                                                                                                                                                                                                                                                                        \n",
       "28   In a magical universe, witches, warriors begin fighting in the name of good .vs. evil! At a magic school, five teenage girls are selected to defend the universe with their magic.                                                                                                                                                                                                                                                                                                                                                                                                                                                                                                                                                                                                                                                                                               \n",
       "29   The Octonauts is a British children's television series, produced by Silvergate Media for the BBC channel Cbeebies. The series is animated in Ireland by Brown Bag Films but uses British voice actors. The TV series is based on American-Canadian children's books written by Vicki Wong and Michael C. Murphy of Meomi Design Inc.\\n\\nThe Octonauts follows an underwater exploring crew made up of stylized anthropomorphic animals, a team of eight adventurers who live in an undersea base, the Octopod, from where they go on undersea adventures with the help of a fleet of aquatic vehicles.\\n\\nThe subject matter is reminiscent of Star Trek and Thunderbirds blended with Jacques Cousteau. Although it is science fiction as regards its technology, the exotic creatures and locations that the crew encounter are real marine animals in their natural habitats.\n",
       "30   In Victorian-era London, on the night of Ciel Phantomhive's tenth birthday a fire destroyed his manor and killed both of his parents. In a moment of death Ceil strikes a deal with a demon, his soul in exchange for revenge. This demon becomes his butler and calls himself by name of Sebastian Michaelis, to protect and serve Ciel until the deal has been completed. One month after the fire Ciel returns from being missing, with his new butler Sebastian. Ceil is now the head of the Phantomhive corporation, handling all business affairs as well as the work as the Queen of Englandâ\\200\\231s guard dog and looking for his parents murders.                                                                                                                                                                                                                           \n",
       "31   Strawberry and her friends, including her sister, Apple Dumplin', and her pony, Honey Pie, embark on sweet-smelling adventures in Strawberryland.                                                                                                                                                                                                                                                                                                                                                                                                                                                                                                                                                                                                                                                                                                                                \n",
       "32   Shaun the Sheep thinks and acts like a person in a barnyard, which usually gets him into trouble. The farmer's sheepdog, Bitzer, tries to keep Shaun and his friends out of trouble. The farmer is oblivious to the humanlike features of his flock, who are like one big, happy family.                                                                                                                                                                                                                                                                                                                                                                                                                                                                                                                                                                                         \n",
       "33   Four teenage friends move from Minneapolis to Los Angeles to form a potential chart-topping boy band after Kendall is inadvertently discovered by an eccentric record executive, Gustavo Rocque. As they seize this opportunity of a lifetime, these friends embark on an exciting comedy and music-filled journey to prove to themselves and their record label that they are serious about their new career choice.                                                                                                                                                                                                                                                                                                                                                                                                                                                            \n",
       "...  ...                                                                                                                                                                                                                                                                                                                                                                                                                                                                                                                                                                                                                                                                                                                                                                                                                                                                              \n",
       "1035 The lives of the people of Allende, a Mexican border town, are overtaken by a powerful cartel's operations, leading to tragedy. Inspired by true events.                                                                                                                                                                                                                                                                                                                                                                                                                                                                                                                                                                                                                                                                                                                         \n",
       "1036 A genius detective teams up with a colleague to investigate a case that hits close to home, but the duo becomes entangled in a cat-and-mouse game.                                                                                                                                                                                                                                                                                                                                                                                                                                                                                                                                                                                                                                                                                                                               \n",
       "1038 A talented street dancer from Umlazi, Durban must confront her fears and deal with family objections to pursue her dancing dreams.                                                                                                                                                                                                                                                                                                                                                                                                                                                                                                                                                                                                                                                                                                                                               \n",
       "1039 A group of metal artists torch, cut and weld epic, badass creations from hardened steel. Only one will win a $50,000 prize.                                                                                                                                                                                                                                                                                                                                                                                                                                                                                                                                                                                                                                                                                                                                                      \n",
       "1040 Comedian Oliver Polak gets to know celebrities at some of their favorite spots before roasting them with good-natured stand-up sets.                                                                                                                                                                                                                                                                                                                                                                                                                                                                                                                                                                                                                                                                                                                                             \n",
       "1041 Taking the hotel on Linsen North Road in Taiwan as the background, it is a realistic drama that describes the love and hatred between the Japanese-style hotel proprietress and Yang Jin Hua in 1988 and a group of amorous ladies under her.                                                                                                                                                                                                                                                                                                                                                                                                                                                                                                                                                                                                                                    \n",
       "1042 This reality series follows a crew of famed, affluent stars as they work and play, flirt and feud in Johannesburg, South Africa. This all-African reality series includes actor Khanyi Mbau, musician Diamond Platnumz and rapper Nadia Nakai.                                                                                                                                                                                                                                                                                                                                                                                                                                                                                                                                                                                                                                   \n",
       "1043 A remote Argentine resort revives its wakeboarding competition, drawing in Mexican athlete Steffi, who is determined to uncover a family secret.                                                                                                                                                                                                                                                                                                                                                                                                                                                                                                                                                                                                                                                                                                                                 \n",
       "1044 After being betrayed by his boss, a hitman hides out in a vacant tailor shop, where he's mistaken for the late owner's son, an identity he decides to embrace.                                                                                                                                                                                                                                                                                                                                                                                                                                                                                                                                                                                                                                                                                                                   \n",
       "1045 Living with her family since the pandemic struck, the meddling Isadir does her best to disrupt the lives of her bumbling son and rival daughter-in-law.                                                                                                                                                                                                                                                                                                                                                                                                                                                                                                                                                                                                                                                                                                                          \n",
       "1046 Idolized medium JoÃ£o Teixeira de Faria rises to international fame before horrifying abuse is revealed by survivors, prosecutors and the press.                                                                                                                                                                                                                                                                                                                                                                                                                                                                                                                                                                                                                                                                                                                                 \n",
       "1048 Soccer player Senzo Meyiwa was a national hero before his killing shocked South Africa. Who did it, and why? This docuseries dives into the evidence.                                                                                                                                                                                                                                                                                                                                                                                                                                                                                                                                                                                                                                                                                                                            \n",
       "1049 Set in Austin, Texas, this growing-up reality show is where twenty-somethings find love, friendship and embark on a new adventure: life.                                                                                                                                                                                                                                                                                                                                                                                                                                                                                                                                                                                                                                                                                                                                         \n",
       "1050 Follows the NASCAR driver Bubba Wallace as he competes for the 23XI Racing team.                                                                                                                                                                                                                                                                                                                                                                                                                                                                                                                                                                                                                                                                                                                                                                                                 \n",
       "1051 Curious puppet pals Waffles and Mochi travel the world exploring the wonders of food and culture while learning how to cook with fresh ingredients.                                                                                                                                                                                                                                                                                                                                                                                                                                                                                                                                                                                                                                                                                                                              \n",
       "1052 Married or single, we've all heard it. \"You could buy a house for the price of that wedding!\" But have you ever stopped to think, what if you actually did? In the Marriage or Mortgage, a wedding planner and a real estate agent compete to win the hearts and budgets of spouses-to-be. Will they pick fairy-tale nuptials or a dream home?                                                                                                                                                                                                                                                                                                                                                                                                                                                                                                                                   \n",
       "1053 Follows major criminal investigations from the time the crime is reported until the suspect gets captured.                                                                                                                                                                                                                                                                                                                                                                                                                                                                                                                                                                                                                                                                                                                                                                       \n",
       "1055 An adaption of Taiwanese comic series, Brave Animated Series. The comic artist of this series uses black humor to elaborate social issues, and its storytelling is very into the taste of the younger generation. This program is integrated with multiple resources like TV and music production.\\n\\nIn a world full of discrimination and hatred, stereotype is no longer what it really is. The braves believe that only when the evil is defeated, will the world comes with peace. Yet the braves realize that they are not standing on the side of justice.                                                                                                                                                                                                                                                                                                                \n",
       "1056 Every good deed is one for this team of kids. Niah, Ari, Ellie and Jax go undercover to help others and secretly solve the city's problems!                                                                                                                                                                                                                                                                                                                                                                                                                                                                                                                                                                                                                                                                                                                                      \n",
       "1057 Feuds, flirtations and toilet talk go down among the incarcerated women at the Orleans Justice Center in New Orleans on this gritty reality series.                                                                                                                                                                                                                                                                                                                                                                                                                                                                                                                                                                                                                                                                                                                              \n",
       "1058 A fender bender that turned into a kidnapping case leads documentalist Roberto HernÃ¡ndez to expose the truth behind Mexico's flawed justice system.                                                                                                                                                                                                                                                                                                                                                                                                                                                                                                                                                                                                                                                                                                                             \n",
       "1059 For six engaged couples, happily ever after begins on a spectacular note in this eye-popping look at Indiaâ\\200\\231s multibillion-dollar wedding industry.                                                                                                                                                                                                                                                                                                                                                                                                                                                                                                                                                                                                                                                                                                                             \n",
       "1060 In this Spanish adaptation of \"Magic for Humans,\" folks of all ages on the streets of Barcelona are amazed by tricks that inspire delight and wonder.                                                                                                                                                                                                                                                                                                                                                                                                                                                                                                                                                                                                                                                                                                                            \n",
       "1061 Newly arrived in Bangkok, Wanchai joins the road rescue service and unravels a city-wide conspiracy with the help of a journalist.                                                                                                                                                                                                                                                                                                                                                                                                                                                                                                                                                                                                                                                                                                                                               \n",
       "1063 From amusement to awe, the nine human emotions of Indian aesthetic theory are explored in this anthology series.                                                                                                                                                                                                                                                                                                                                                                                                                                                                                                                                                                                                                                                                                                                                                                 \n",
       "1064 Australian influencers flock to Byron Bay for its warm, beachy beauty and cool, creative vibe. Follow these friends as they negotiate life and love.                                                                                                                                                                                                                                                                                                                                                                                                                                                                                                                                                                                                                                                                                                                             \n",
       "1066 Former bride and forever comedian Jamie Lee shares her irreverent yet practical tips and tricks for wedding planning with struggling lovebirds.                                                                                                                                                                                                                                                                                                                                                                                                                                                                                                                                                                                                                                                                                                                                  \n",
       "1067 Six of South Africa's top comedians take center stage and showcase their talent in this collection of short stand-up sets.                                                                                                                                                                                                                                                                                                                                                                                                                                                                                                                                                                                                                                                                                                                                                       \n",
       "1068 In a \"nation of middle-class\" the IIT dream involves clearing the world's toughest public exam for guaranteed lifelong success. Life is not an exam though. It's a hustle, one that nobody trains them for. The result? Eternal tumult.                                                                                                                                                                                                                                                                                                                                                                                                                                                                                                                                                                                                                                          \n",
       "1069 Four different women, four journeys of love and betrayal. The common thread? They all want to dismantle the patriarchy.                                                                                                                                                                                                                                                                                                                                                                                                                                                                                                                                                                                                                                                                                                                                                          \n",
       "     release_year age_certification runtime production_countries seasons ...\n",
       "2    1972         TV-MA              43     []                    1      ...\n",
       "3    1984         TV-Y               10     ['GB']               24      ...\n",
       "4    1989         TV-G               23     ['US']                5      ...\n",
       "5    1983         TV-G               26     ['US']               39      ...\n",
       "6    1981         TV-Y               14     ['GB']               10      ...\n",
       "7    1987         TV-Y               10     ['GB']               13      ...\n",
       "8    1998         TV-Y               22     ['JP']                7      ...\n",
       "9    1994         TV-Y               26     ['CA', 'US']          4      ...\n",
       "10   1994         TV-G               22     ['US']               11      ...\n",
       "11   1992         TV-G               28     ['US']               14      ...\n",
       "13   1994         TV-MA              45     ['AU']                7      ...\n",
       "14   2000         TV-MA              40     ['AR']                1      ...\n",
       "15   1998         TV-MA              25     ['FR']                4      ...\n",
       "17   2008         TV-MA              48     ['US']                5      ...\n",
       "18   2010         TV-MA              46     ['US']               11      ...\n",
       "19   2010         TV-MA              58     ['DK']                4      ...\n",
       "20   2003         TV-MA              28     ['US']                5      ...\n",
       "21   2004         TV-MA              49     ['FR']                2      ...\n",
       "22   2005         TV-G               25     ['US']                4      ...\n",
       "23   2010         TV-G               25     ['US']                4      ...\n",
       "24   2001         TV-MA              25     ['CA']               12      ...\n",
       "25   2004         TV-G               25     ['US']                3      ...\n",
       "26   2007         TV-G               26     ['US']                6      ...\n",
       "27   2008         TV-MA             141     ['GB']                1      ...\n",
       "28   2004         TV-G               23     ['IT']                8      ...\n",
       "29   2010         TV-Y               15     ['GB']                7      ...\n",
       "30   2008         TV-MA              25     ['JP']                3      ...\n",
       "31   2003         TV-Y               23     ['US']                4      ...\n",
       "32   2007         TV-G                7     ['GB']                6      ...\n",
       "33   2009         TV-G               25     ['US']                4      ...\n",
       "...  ...          ...               ...     ...                  ...        \n",
       "1035 2021         TV-MA             52      ['MX']               1       ...\n",
       "1036 2021         TV-MA             67      ['TH']               1       ...\n",
       "1038 2021         TV-MA             41      ['ZA']               1       ...\n",
       "1039 2021         TV-MA             33      ['US']               1       ...\n",
       "1040 2021         TV-MA             37      ['DE']               1       ...\n",
       "1041 2021         TV-MA             59      ['TW']               3       ...\n",
       "1042 2022         TV-MA             43      ['ZA']               1       ...\n",
       "1043 2022         TV-Y              30      ['ES']               1       ...\n",
       "1044 2021         TV-MA             49      ['TR']               1       ...\n",
       "1045 2022         TV-MA             25      ['BR']               1       ...\n",
       "1046 2021         TV-MA             50      ['BR']               1       ...\n",
       "1048 2022         TV-MA             42      ['ZA', 'US']         1       ...\n",
       "1049 2021         TV-MA             32      ['US']               1       ...\n",
       "1050 2022         TV-MA             47      ['US']               1       ...\n",
       "1051 2021         TV-Y              28      ['US']               1       ...\n",
       "1052 2021         TV-G              40      ['US']               1       ...\n",
       "1053 2021         TV-MA             47      ['IN']               1       ...\n",
       "1055 2021         TV-MA             26      ['TW']               1       ...\n",
       "1056 2022         TV-Y              20      ['US']               1       ...\n",
       "1057 2021         TV-MA             41      ['US']               1       ...\n",
       "1058 2021         TV-MA             47      ['MX']               1       ...\n",
       "1059 2021         TV-MA             43      ['US']               2       ...\n",
       "1060 2021         TV-MA             23      ['ES']               1       ...\n",
       "1061 2021         TV-MA             60      ['TH']               1       ...\n",
       "1063 2021         TV-MA             34      ['IN']               1       ...\n",
       "1064 2022         TV-MA             39      ['AU']               1       ...\n",
       "1066 2021         TV-MA             33      ['US']               1       ...\n",
       "1067 2022         TV-MA             16      ['ZA']               1       ...\n",
       "1068 2021         TV-MA             49      ['IN']               1       ...\n",
       "1069 2021         TV-MA             37      ['IN']               1       ...\n",
       "     thriller crime comedy documentation fantasy scifi romance horror history\n",
       "2    0        0     1      0             0       0     0       0      0      \n",
       "3    0        0     1      0             1       0     0       0      0      \n",
       "4    0        0     1      0             0       0     1       0      0      \n",
       "5    0        0     0      0             0       0     0       0      0      \n",
       "6    0        0     1      0             0       1     0       0      0      \n",
       "7    0        1     1      0             0       0     0       0      0      \n",
       "8    0        0     1      0             1       1     0       0      0      \n",
       "9    0        0     1      0             1       1     0       0      0      \n",
       "10   0        0     1      0             0       0     0       0      0      \n",
       "11   0        0     1      0             0       0     0       0      0      \n",
       "13   0        0     1      0             0       0     1       0      0      \n",
       "14   0        1     0      0             0       0     0       0      0      \n",
       "15   0        0     1      0             0       0     0       0      0      \n",
       "17   1        1     0      0             0       0     0       0      0      \n",
       "18   1        0     0      0             0       1     0       1      0      \n",
       "19   0        0     0      0             0       0     0       0      0      \n",
       "20   0        0     1      0             0       0     0       0      0      \n",
       "21   0        1     0      1             0       0     0       0      0      \n",
       "22   0        0     1      0             0       0     1       0      0      \n",
       "23   0        0     1      0             0       0     1       0      0      \n",
       "24   0        1     1      0             0       0     0       0      0      \n",
       "25   0        0     1      0             0       0     0       0      0      \n",
       "26   0        0     1      0             0       0     1       0      0      \n",
       "27   1        0     1      0             0       1     0       1      0      \n",
       "28   1        0     1      0             1       0     0       0      0      \n",
       "29   0        0     1      0             0       0     0       0      0      \n",
       "30   1        1     1      0             1       1     0       1      0      \n",
       "31   0        0     0      0             0       0     0       0      0      \n",
       "32   0        0     1      0             0       0     0       0      0      \n",
       "33   0        0     1      0             0       0     0       0      0      \n",
       "...  ...      ...   ...    ...           ...     ...   ...     ...    ...    \n",
       "1035 0        1     0      0             0       0     0       0      1      \n",
       "1036 0        1     0      0             0       0     1       0      0      \n",
       "1038 0        0     0      0             0       0     0       0      0      \n",
       "1039 0        0     0      0             0       0     0       0      0      \n",
       "1040 0        0     1      1             0       0     0       0      0      \n",
       "1041 1        1     0      0             0       0     0       0      0      \n",
       "1042 0        0     0      0             0       0     0       0      0      \n",
       "1043 0        0     0      0             0       0     0       0      0      \n",
       "1044 1        1     1      0             0       0     0       0      0      \n",
       "1045 0        0     1      0             0       0     0       0      0      \n",
       "1046 0        1     0      1             0       0     0       0      0      \n",
       "1048 0        1     0      1             0       0     0       0      0      \n",
       "1049 0        0     0      0             0       0     0       0      0      \n",
       "1050 0        0     0      1             0       0     0       0      0      \n",
       "1051 0        0     0      0             0       0     0       0      0      \n",
       "1052 0        0     0      0             0       0     0       0      0      \n",
       "1053 0        1     0      1             0       0     0       0      0      \n",
       "1055 0        0     0      0             0       0     0       0      0      \n",
       "1056 0        0     0      0             0       0     0       0      0      \n",
       "1057 0        0     0      1             0       0     0       0      0      \n",
       "1058 0        1     0      1             0       0     0       0      0      \n",
       "1059 0        0     0      0             0       0     1       0      0      \n",
       "1060 0        0     1      0             0       0     0       0      0      \n",
       "1061 1        1     0      0             0       0     0       0      0      \n",
       "1063 0        0     0      0             0       0     0       0      0      \n",
       "1064 0        0     0      0             0       0     0       0      0      \n",
       "1066 0        0     1      0             0       0     0       0      0      \n",
       "1067 0        0     1      0             0       0     0       0      0      \n",
       "1068 0        0     0      1             0       0     0       0      0      \n",
       "1069 0        0     0      0             0       0     1       0      0      \n",
       "     music\n",
       "2    0    \n",
       "3    1    \n",
       "4    0    \n",
       "5    0    \n",
       "6    0    \n",
       "7    0    \n",
       "8    0    \n",
       "9    0    \n",
       "10   1    \n",
       "11   0    \n",
       "13   0    \n",
       "14   0    \n",
       "15   0    \n",
       "17   0    \n",
       "18   0    \n",
       "19   0    \n",
       "20   0    \n",
       "21   0    \n",
       "22   0    \n",
       "23   1    \n",
       "24   0    \n",
       "25   0    \n",
       "26   0    \n",
       "27   0    \n",
       "28   0    \n",
       "29   0    \n",
       "30   0    \n",
       "31   0    \n",
       "32   0    \n",
       "33   0    \n",
       "...  ...  \n",
       "1035 0    \n",
       "1036 0    \n",
       "1038 0    \n",
       "1039 0    \n",
       "1040 0    \n",
       "1041 0    \n",
       "1042 0    \n",
       "1043 1    \n",
       "1044 0    \n",
       "1045 0    \n",
       "1046 0    \n",
       "1048 0    \n",
       "1049 0    \n",
       "1050 0    \n",
       "1051 0    \n",
       "1052 0    \n",
       "1053 0    \n",
       "1055 0    \n",
       "1056 0    \n",
       "1057 0    \n",
       "1058 0    \n",
       "1059 0    \n",
       "1060 0    \n",
       "1061 0    \n",
       "1063 0    \n",
       "1064 0    \n",
       "1066 0    \n",
       "1067 0    \n",
       "1068 0    \n",
       "1069 0    "
      ]
     },
     "metadata": {},
     "output_type": "display_data"
    }
   ],
   "source": [
    "Netflix1"
   ]
  },
  {
   "cell_type": "markdown",
   "id": "e1e2cbaa-e80c-4b53-bace-c29a27030570",
   "metadata": {},
   "source": [
    "1 dependent variable (IMDBscore). 1 independent vairable with 3 levels. \n",
    "\n",
    "**Test: 1 way between subjects ANOVA**"
   ]
  },
  {
   "cell_type": "markdown",
   "id": "3d0fd9d2-2f39-4f65-a9f0-9dc5f6067254",
   "metadata": {},
   "source": [
    "# Create/Confirm normality of Dependent variable "
   ]
  },
  {
   "cell_type": "code",
   "execution_count": 8,
   "id": "77bd1c7e-fd9d-436d-a0be-a68006e433d8",
   "metadata": {
    "vscode": {
     "languageId": "r"
    }
   },
   "outputs": [],
   "source": [
    "Netflix1$imdb_score <- as.numeric(Netflix1$imdb_score)"
   ]
  },
  {
   "cell_type": "code",
   "execution_count": 9,
   "id": "c8373337-6145-4dbc-9f82-e25fbd3dcbea",
   "metadata": {
    "tags": [],
    "vscode": {
     "languageId": "r"
    }
   },
   "outputs": [
    {
     "data": {
      "image/png": "[encoded data removed]",
      "text/plain": [
       "Plot with title \"\""
      ]
     },
     "metadata": {
      "image/png": {
       "height": 420,
       "width": 420
      }
     },
     "output_type": "display_data"
    }
   ],
   "source": [
    "plotNormalHistogram(Netflix1$imdb_score)"
   ]
  },
  {
   "cell_type": "code",
   "execution_count": null,
   "id": "84aa213f-3167-4080-9a17-f46404bf9304",
   "metadata": {
    "vscode": {
     "languageId": "r"
    }
   },
   "outputs": [],
   "source": []
  },
  {
   "cell_type": "code",
   "execution_count": 10,
   "id": "0d908901-d681-416b-9834-9bf782edb748",
   "metadata": {
    "vscode": {
     "languageId": "r"
    }
   },
   "outputs": [],
   "source": [
    "Netflix1$imdb_scoreSQ <- Netflix1$imdb_score * Netflix1$imdb_score"
   ]
  },
  {
   "cell_type": "code",
   "execution_count": 11,
   "id": "e57d0842-6071-45da-8416-eaf83d87bde7",
   "metadata": {
    "tags": [],
    "vscode": {
     "languageId": "r"
    }
   },
   "outputs": [
    {
     "data": {
      "image/png": "[encoded data removed]",
      "text/plain": [
       "Plot with title \"\""
      ]
     },
     "metadata": {
      "image/png": {
       "height": 420,
       "width": 420
      }
     },
     "output_type": "display_data"
    }
   ],
   "source": [
    "plotNormalHistogram(Netflix1$imdb_scoreSQ)"
   ]
  },
  {
   "cell_type": "markdown",
   "id": "907faa71-cb35-48b2-8c3f-031016b382c0",
   "metadata": {
    "tags": []
   },
   "source": [
    "# Test for Homogeneity of Variance"
   ]
  },
  {
   "cell_type": "code",
   "execution_count": 12,
   "id": "30ae0d74-9e90-4c93-b633-db4cb8b86a3b",
   "metadata": {
    "tags": [],
    "vscode": {
     "languageId": "r"
    }
   },
   "outputs": [
    {
     "data": {
      "text/plain": [
       "\n",
       "\tBartlett test of homogeneity of variances\n",
       "\n",
       "data:  imdb_scoreSQ by age_certification\n",
       "Bartlett's K-squared = 2.5777, df = 2, p-value = 0.2756\n"
      ]
     },
     "metadata": {},
     "output_type": "display_data"
    }
   ],
   "source": [
    "bartlett.test(imdb_scoreSQ ~ age_certification, data=Netflix1)"
   ]
  },
  {
   "cell_type": "code",
   "execution_count": 13,
   "id": "789836d9-6acf-46a6-bcd6-65881c8e3fad",
   "metadata": {
    "tags": [],
    "vscode": {
     "languageId": "r"
    }
   },
   "outputs": [
    {
     "name": "stdout",
     "output_type": "stream",
     "text": [
      "'data.frame':\t5850 obs. of  34 variables:\n",
      " $ X                   : int  0 1 2 3 4 5 6 7 8 9 ...\n",
      " $ id                  : chr  \"ts300399\" \"tm84618\" \"tm154986\" \"tm127384\" ...\n",
      " $ title               : chr  \"Five Came Back: The Reference Films\" \"Taxi Driver\" \"Deliverance\" \"Monty Python and the Holy Grail\" ...\n",
      " $ type                : chr  \"SHOW\" \"MOVIE\" \"MOVIE\" \"MOVIE\" ...\n",
      " $ description         : chr  \"This collection includes 12 World War II-era propaganda films â\\200” many of which are graphic and offensive â\\\"| __truncated__ \"A mentally unstable Vietnam War veteran works as a night-time taxi driver in New York City where the perceived \"| __truncated__ \"Intent on seeing the Cahulawassee River before it's turned into one huge lake, outdoor fanatic Lewis Medlock ta\"| __truncated__ \"King Arthur, accompanied by his squire, recruits his Knights of the Round Table, including Sir Bedevere the Wis\"| __truncated__ ...\n",
      " $ release_year        : int  1945 1976 1972 1975 1967 1969 1979 1971 1967 1980 ...\n",
      " $ age_certification   : chr  \"TV-MA\" \"R\" \"R\" \"PG\" ...\n",
      " $ runtime             : int  51 114 109 91 150 30 94 102 110 104 ...\n",
      " $ production_countries: chr  \"['US']\" \"['US']\" \"['US']\" \"['GB']\" ...\n",
      " $ seasons             : num  1 NA NA NA NA 4 NA NA NA NA ...\n",
      " $ imdb_id             : chr  \"\" \"tt0075314\" \"tt0068473\" \"tt0071853\" ...\n",
      " $ imdb_score          : num  NA 8.2 7.7 8.2 7.7 8.8 8 7.7 7.7 5.8 ...\n",
      " $ imdb_votes          : num  NA 808582 107673 534486 72662 ...\n",
      " $ tmdb_popularity     : num  0.6 41 10 15.5 20.4 ...\n",
      " $ tmdb_score          : num  NA 8.18 7.3 7.81 7.6 ...\n",
      " $ drama               : int  0 1 1 0 0 0 0 0 1 1 ...\n",
      " $ sport               : int  0 0 0 0 0 0 0 0 0 0 ...\n",
      " $ war                 : int  0 0 0 0 1 0 0 0 0 0 ...\n",
      " $ animation           : int  0 0 0 0 0 0 0 0 0 0 ...\n",
      " $ family              : int  0 0 0 0 0 0 0 0 0 0 ...\n",
      " $ action              : int  0 0 1 1 1 0 0 1 1 1 ...\n",
      " $ western             : int  0 0 0 0 0 0 0 0 0 0 ...\n",
      " $ european            : int  0 0 1 0 0 1 0 0 0 0 ...\n",
      " $ reality             : int  0 0 0 0 0 0 0 0 0 0 ...\n",
      " $ thriller            : int  0 0 1 0 0 0 0 1 0 0 ...\n",
      " $ crime               : int  0 1 0 0 0 0 0 1 1 0 ...\n",
      " $ comedy              : int  0 0 0 1 0 1 1 0 0 0 ...\n",
      " $ documentation       : int  1 0 0 0 0 0 0 0 0 0 ...\n",
      " $ fantasy             : int  0 0 0 1 0 0 0 0 0 0 ...\n",
      " $ scifi               : int  0 0 0 0 0 0 0 0 0 0 ...\n",
      " $ romance             : int  0 0 0 0 0 0 0 0 0 1 ...\n",
      " $ horror              : int  0 0 0 0 0 0 0 0 0 0 ...\n",
      " $ history             : int  0 0 0 0 0 0 0 0 0 0 ...\n",
      " $ music               : int  0 0 0 0 0 0 0 0 0 0 ...\n"
     ]
    }
   ],
   "source": [
    "str(Netflix)"
   ]
  },
  {
   "cell_type": "code",
   "execution_count": 14,
   "id": "7801c529-8a4e-49a6-8ef9-beebabab028b",
   "metadata": {
    "vscode": {
     "languageId": "r"
    }
   },
   "outputs": [],
   "source": [
    "# The p-value is > .05 so we have met this assumption"
   ]
  },
  {
   "cell_type": "code",
   "execution_count": 15,
   "id": "d780810d-49f0-4057-be3c-3170ce59a34b",
   "metadata": {
    "vscode": {
     "languageId": "r"
    }
   },
   "outputs": [],
   "source": [
    "# Run Analysis "
   ]
  },
  {
   "cell_type": "code",
   "execution_count": 16,
   "id": "a54c8825-e9ad-4f0f-a0e8-2fff11962d44",
   "metadata": {
    "vscode": {
     "languageId": "r"
    }
   },
   "outputs": [],
   "source": [
    "Netflix1ANOVA <- aov(Netflix1$imdb_score ~ Netflix1$age_certification)"
   ]
  },
  {
   "cell_type": "code",
   "execution_count": 17,
   "id": "69790364-2ab7-4f1a-8881-54ffa69aa202",
   "metadata": {
    "vscode": {
     "languageId": "r"
    }
   },
   "outputs": [
    {
     "data": {
      "text/plain": [
       "                            Df Sum Sq Mean Sq F value   Pr(>F)    \n",
       "Netflix1$age_certification   2   47.2   23.60   22.06 4.25e-10 ***\n",
       "Residuals                  981 1049.4    1.07                     \n",
       "---\n",
       "Signif. codes:  0 '***' 0.001 '**' 0.01 '*' 0.05 '.' 0.1 ' ' 1"
      ]
     },
     "metadata": {},
     "output_type": "display_data"
    }
   ],
   "source": [
    "summary(Netflix1ANOVA)"
   ]
  },
  {
   "cell_type": "code",
   "execution_count": 18,
   "id": "ffd2ecba-4e4a-4c2f-9e19-7fda7e876e70",
   "metadata": {
    "vscode": {
     "languageId": "r"
    }
   },
   "outputs": [],
   "source": [
    "# The test shows a significant differencce in ratings between age certifications "
   ]
  },
  {
   "cell_type": "markdown",
   "id": "e96e74e3-ae25-4e92-8d24-3e7ce62e8393",
   "metadata": {},
   "source": [
    "# Computing Post Hocs "
   ]
  },
  {
   "cell_type": "code",
   "execution_count": 19,
   "id": "7ec6a376-c71b-4d37-a9cc-a3797a95463d",
   "metadata": {
    "vscode": {
     "languageId": "r"
    }
   },
   "outputs": [
    {
     "data": {
      "text/plain": [
       "\n",
       "\tPairwise comparisons using t tests with pooled SD \n",
       "\n",
       "data:  Netflix1$imdb_score and Netflix1$age_certification \n",
       "\n",
       "      TV-G    TV-MA  \n",
       "TV-MA 3.6e-08 -      \n",
       "TV-Y  0.18    4.0e-05\n",
       "\n",
       "P value adjustment method: none "
      ]
     },
     "metadata": {},
     "output_type": "display_data"
    }
   ],
   "source": [
    "pairwise.t.test(Netflix1$imdb_score, Netflix1$age_certification, p.adjust=\"none\")"
   ]
  },
  {
   "cell_type": "markdown",
   "id": "b3200bfd-f9f0-45cd-b02a-322406c61ffe",
   "metadata": {},
   "source": [
    "There is a significant difference for score between G rating and MA rating, and between Y and MA rating. There is not a significant difference between G and Y ratings. "
   ]
  },
  {
   "cell_type": "markdown",
   "id": "217466ea-77c5-49a3-96f9-ecc5ac62ce89",
   "metadata": {},
   "source": [
    "# Determine Means and Draw Conclusions"
   ]
  },
  {
   "cell_type": "code",
   "execution_count": 20,
   "id": "6b1b226d-d948-4ca6-b154-f3213c0dc2e3",
   "metadata": {
    "vscode": {
     "languageId": "r"
    }
   },
   "outputs": [],
   "source": [
    "Means <- Netflix1 %>% group_by(age_certification) %>% summarize(Mean = mean(imdb_score))"
   ]
  },
  {
   "cell_type": "code",
   "execution_count": 21,
   "id": "bedf1340-6da4-488e-b5b0-51baadd912bf",
   "metadata": {
    "vscode": {
     "languageId": "r"
    }
   },
   "outputs": [
    {
     "data": {
      "text/html": [
       "<table class=\"dataframe\">\n",
       "<caption>A tibble: 3 × 2</caption>\n",
       "<thead>\n",
       "\t<tr><th scope=col>age_certification</th><th scope=col>Mean</th></tr>\n",
       "\t<tr><th scope=col>&lt;chr&gt;</th><th scope=col>&lt;dbl&gt;</th></tr>\n",
       "</thead>\n",
       "<tbody>\n",
       "\t<tr><td>TV-G </td><td>6.321622</td></tr>\n",
       "\t<tr><td>TV-MA</td><td>7.018613</td></tr>\n",
       "\t<tr><td>TV-Y </td><td>6.539773</td></tr>\n",
       "</tbody>\n",
       "</table>\n"
      ],
      "text/latex": [
       "A tibble: 3 × 2\n",
       "\\begin{tabular}{ll}\n",
       " age\\_certification & Mean\\\\\n",
       " <chr> & <dbl>\\\\\n",
       "\\hline\n",
       "\t TV-G  & 6.321622\\\\\n",
       "\t TV-MA & 7.018613\\\\\n",
       "\t TV-Y  & 6.539773\\\\\n",
       "\\end{tabular}\n"
      ],
      "text/markdown": [
       "\n",
       "A tibble: 3 × 2\n",
       "\n",
       "| age_certification &lt;chr&gt; | Mean &lt;dbl&gt; |\n",
       "|---|---|\n",
       "| TV-G  | 6.321622 |\n",
       "| TV-MA | 7.018613 |\n",
       "| TV-Y  | 6.539773 |\n",
       "\n"
      ],
      "text/plain": [
       "  age_certification Mean    \n",
       "1 TV-G              6.321622\n",
       "2 TV-MA             7.018613\n",
       "3 TV-Y              6.539773"
      ]
     },
     "metadata": {},
     "output_type": "display_data"
    }
   ],
   "source": [
    "Means"
   ]
  },
  {
   "cell_type": "markdown",
   "id": "86b44d2b-d9b6-44b3-8c35-da2db3f1e5f2",
   "metadata": {},
   "source": [
    "**Looking at the means we can see that ratings with TV-MA recieve higher IMDB scores on avgerage than shows with a rating of TV-G and TV-Y.**"
   ]
  },
  {
   "cell_type": "markdown",
   "id": "d69f8d6a-d2fd-42b5-bf59-05aa76824e39",
   "metadata": {},
   "source": [
    "# Linear Regression "
   ]
  },
  {
   "cell_type": "code",
   "execution_count": 22,
   "id": "d2d08c78-b817-475b-90cf-ab3dbebca825",
   "metadata": {
    "collapsed": true,
    "jupyter": {
     "outputs_hidden": true,
     "source_hidden": true
    },
    "tags": [],
    "vscode": {
     "languageId": "r"
    }
   },
   "outputs": [
    {
     "name": "stderr",
     "output_type": "stream",
     "text": [
      "Warning message:\n",
      "\"package 'car' is in use and will not be installed\"\n",
      "Installing package into 'C:/Users/Summe/OneDrive/Documents/R/win-library/4.1'\n",
      "(as 'lib' is unspecified)\n",
      "\n"
     ]
    },
    {
     "name": "stdout",
     "output_type": "stream",
     "text": [
      "package 'caret' successfully unpacked and MD5 sums checked\n",
      "\n",
      "The downloaded binary packages are in\n",
      "\tC:\\Users\\Summe\\AppData\\Local\\Temp\\Rtmpeqk7NR\\downloaded_packages\n"
     ]
    },
    {
     "name": "stderr",
     "output_type": "stream",
     "text": [
      "Installing package into 'C:/Users/Summe/OneDrive/Documents/R/win-library/4.1'\n",
      "(as 'lib' is unspecified)\n",
      "\n"
     ]
    },
    {
     "name": "stdout",
     "output_type": "stream",
     "text": [
      "package 'gvlma' successfully unpacked and MD5 sums checked\n",
      "\n",
      "The downloaded binary packages are in\n",
      "\tC:\\Users\\Summe\\AppData\\Local\\Temp\\Rtmpeqk7NR\\downloaded_packages\n"
     ]
    },
    {
     "name": "stderr",
     "output_type": "stream",
     "text": [
      "Installing package into 'C:/Users/Summe/OneDrive/Documents/R/win-library/4.1'\n",
      "(as 'lib' is unspecified)\n",
      "\n"
     ]
    },
    {
     "name": "stdout",
     "output_type": "stream",
     "text": [
      "package 'predictmeans' successfully unpacked and MD5 sums checked\n",
      "\n",
      "The downloaded binary packages are in\n",
      "\tC:\\Users\\Summe\\AppData\\Local\\Temp\\Rtmpeqk7NR\\downloaded_packages\n"
     ]
    },
    {
     "name": "stderr",
     "output_type": "stream",
     "text": [
      "Installing package into 'C:/Users/Summe/OneDrive/Documents/R/win-library/4.1'\n",
      "(as 'lib' is unspecified)\n",
      "\n"
     ]
    },
    {
     "name": "stdout",
     "output_type": "stream",
     "text": [
      "package 'e1071' successfully unpacked and MD5 sums checked\n"
     ]
    },
    {
     "name": "stderr",
     "output_type": "stream",
     "text": [
      "Warning message:\n",
      "\"cannot remove prior installation of package 'e1071'\"\n",
      "Warning message in file.copy(savedcopy, lib, recursive = TRUE):\n",
      "\"problem copying C:\\Users\\Summe\\OneDrive\\Documents\\R\\win-library\\4.1\\00LOCK\\e1071\\libs\\x64\\e1071.dll to C:\\Users\\Summe\\OneDrive\\Documents\\R\\win-library\\4.1\\e1071\\libs\\x64\\e1071.dll: Permission denied\"\n",
      "Warning message:\n",
      "\"restored 'e1071'\"\n"
     ]
    },
    {
     "name": "stdout",
     "output_type": "stream",
     "text": [
      "\n",
      "The downloaded binary packages are in\n",
      "\tC:\\Users\\Summe\\AppData\\Local\\Temp\\Rtmpeqk7NR\\downloaded_packages\n"
     ]
    },
    {
     "name": "stderr",
     "output_type": "stream",
     "text": [
      "Installing package into 'C:/Users/Summe/OneDrive/Documents/R/win-library/4.1'\n",
      "(as 'lib' is unspecified)\n",
      "\n"
     ]
    },
    {
     "name": "stdout",
     "output_type": "stream",
     "text": [
      "package 'lmtest' successfully unpacked and MD5 sums checked\n"
     ]
    },
    {
     "name": "stderr",
     "output_type": "stream",
     "text": [
      "Warning message:\n",
      "\"cannot remove prior installation of package 'lmtest'\"\n",
      "Warning message in file.copy(savedcopy, lib, recursive = TRUE):\n",
      "\"problem copying C:\\Users\\Summe\\OneDrive\\Documents\\R\\win-library\\4.1\\00LOCK\\lmtest\\libs\\x64\\lmtest.dll to C:\\Users\\Summe\\OneDrive\\Documents\\R\\win-library\\4.1\\lmtest\\libs\\x64\\lmtest.dll: Permission denied\"\n",
      "Warning message:\n",
      "\"restored 'lmtest'\"\n"
     ]
    },
    {
     "name": "stdout",
     "output_type": "stream",
     "text": [
      "\n",
      "The downloaded binary packages are in\n",
      "\tC:\\Users\\Summe\\AppData\\Local\\Temp\\Rtmpeqk7NR\\downloaded_packages\n"
     ]
    },
    {
     "name": "stderr",
     "output_type": "stream",
     "text": [
      "Warning message:\n",
      "\"package 'caret' was built under R version 4.1.3\"\n",
      "Loading required package: ggplot2\n",
      "\n",
      "Warning message:\n",
      "\"package 'ggplot2' was built under R version 4.1.3\"\n",
      "Loading required package: lattice\n",
      "\n",
      "Warning message:\n",
      "\"package 'predictmeans' was built under R version 4.1.3\"\n",
      "Loading required package: lme4\n",
      "\n",
      "Warning message:\n",
      "\"package 'lme4' was built under R version 4.1.3\"\n",
      "Loading required package: Matrix\n",
      "\n",
      "Loading required package: nlme\n",
      "\n",
      "\n",
      "Attaching package: 'nlme'\n",
      "\n",
      "\n",
      "The following object is masked from 'package:lme4':\n",
      "\n",
      "    lmList\n",
      "\n",
      "\n",
      "The following object is masked from 'package:dplyr':\n",
      "\n",
      "    collapse\n",
      "\n",
      "\n",
      "Loading required package: lmeInfo\n",
      "\n",
      "Warning message:\n",
      "\"package 'lmeInfo' was built under R version 4.1.3\"\n",
      "Loading required package: parallel\n",
      "\n",
      "Warning message:\n",
      "\"package 'e1071' was built under R version 4.1.3\"\n",
      "Warning message:\n",
      "\"package 'lmtest' was built under R version 4.1.3\"\n",
      "Loading required package: zoo\n",
      "\n",
      "\n",
      "Attaching package: 'zoo'\n",
      "\n",
      "\n",
      "The following objects are masked from 'package:base':\n",
      "\n",
      "    as.Date, as.Date.numeric\n",
      "\n",
      "\n"
     ]
    }
   ],
   "source": [
    "install.packages(\"car\")\n",
    "install.packages(\"caret\")\n",
    "install.packages(\"gvlma\")\n",
    "install.packages(\"predictmeans\")\n",
    "install.packages(\"e1071\")\n",
    "install.packages(\"lmtest\")\n",
    "library(\"car\")\n",
    "library(\"caret\")\n",
    "library(\"gvlma\")\n",
    "library(\"predictmeans\")\n",
    "library(\"e1071\")\n",
    "library(\"lmtest\")"
   ]
  },
  {
   "cell_type": "markdown",
   "id": "83e57f73-5a53-4300-9158-bb4ba3bb7a70",
   "metadata": {
    "tags": []
   },
   "source": [
    "# Question 2 Does the TMDB score impact the IMDB score?"
   ]
  },
  {
   "cell_type": "code",
   "execution_count": 23,
   "id": "40addfc2-109e-4ebe-a7a7-eec2b2e2c52e",
   "metadata": {
    "tags": [],
    "vscode": {
     "languageId": "r"
    }
   },
   "outputs": [
    {
     "data": {
      "image/png": "[encoded data removed]",
      "text/plain": [
       "Plot with title \"imdb score by tmdb score\""
      ]
     },
     "metadata": {
      "image/png": {
       "height": 420,
       "width": 420
      }
     },
     "output_type": "display_data"
    }
   ],
   "source": [
    "scatter.smooth(x=Netflix$tmdb_score, y=Netflix$imdb_score, main=\"imdb score by tmdb score\")"
   ]
  },
  {
   "cell_type": "code",
   "execution_count": 24,
   "id": "823b1338-b8ea-48d4-b4da-adf02f4c5497",
   "metadata": {
    "vscode": {
     "languageId": "r"
    }
   },
   "outputs": [],
   "source": [
    "lmMod <- lm(imdb_score~tmdb_score, data=Netflix)"
   ]
  },
  {
   "cell_type": "code",
   "execution_count": 25,
   "id": "652191f0-b917-4caa-aa18-4bc44fd5c140",
   "metadata": {
    "vscode": {
     "languageId": "r"
    }
   },
   "outputs": [
    {
     "data": {
      "text/plain": [
       "\n",
       "Call:\n",
       "lm(formula = imdb_score ~ tmdb_score, data = Netflix)\n",
       "\n",
       "Coefficients:\n",
       "(Intercept)   tmdb_score  \n",
       "      2.599        0.574  \n"
      ]
     },
     "metadata": {},
     "output_type": "display_data"
    }
   ],
   "source": [
    "lmMod"
   ]
  },
  {
   "cell_type": "markdown",
   "id": "0690a6ea-f396-409f-94d4-4bde667f160f",
   "metadata": {},
   "source": [
    "# Test for Linearity Passed"
   ]
  },
  {
   "cell_type": "code",
   "execution_count": 26,
   "id": "adfddbbc-645b-402a-80a3-b7a34c058d46",
   "metadata": {
    "vscode": {
     "languageId": "r"
    }
   },
   "outputs": [
    {
     "data": {
      "image/png": "[encoded data removed]",
      "text/plain": [
       "Plot with title \"\""
      ]
     },
     "metadata": {
      "image/png": {
       "height": 420,
       "width": 420
      }
     },
     "output_type": "display_data"
    }
   ],
   "source": [
    "par(mfrow=c(2,2))\n",
    "plot(lmMod)"
   ]
  },
  {
   "cell_type": "code",
   "execution_count": 27,
   "id": "8da4ae34-bb45-4e65-8208-849719a36344",
   "metadata": {
    "vscode": {
     "languageId": "r"
    }
   },
   "outputs": [
    {
     "data": {
      "text/plain": [
       "\n",
       "\tstudentized Breusch-Pagan test\n",
       "\n",
       "data:  lmMod\n",
       "BP = 3.3555, df = 1, p-value = 0.06698\n"
      ]
     },
     "metadata": {},
     "output_type": "display_data"
    }
   ],
   "source": [
    "lmtest::bptest(lmMod)"
   ]
  },
  {
   "cell_type": "markdown",
   "id": "95de0881-8729-4aab-8e22-799fee2104de",
   "metadata": {},
   "source": [
    "# Test for Homoscedasticity and for Homogeneity of Variance passed "
   ]
  },
  {
   "cell_type": "code",
   "execution_count": 28,
   "id": "bf9e553e-d294-4785-ae35-31d637ab9177",
   "metadata": {
    "vscode": {
     "languageId": "r"
    }
   },
   "outputs": [
    {
     "data": {
      "image/png": "[encoded data removed]",
      "text/plain": [
       "Plot with title \"Cook's Distance\""
      ]
     },
     "metadata": {
      "image/png": {
       "height": 420,
       "width": 420
      }
     },
     "output_type": "display_data"
    }
   ],
   "source": [
    " CookD(lmMod, group=NULL, plot=TRUE, idn=3, newwd=FALSE)"
   ]
  },
  {
   "cell_type": "code",
   "execution_count": 29,
   "id": "aa07afa1-dc93-43df-bcde-685c89f43666",
   "metadata": {
    "vscode": {
     "languageId": "r"
    }
   },
   "outputs": [
    {
     "data": {
      "image/png": "[encoded data removed]",
      "text/plain": [
       "plot without title"
      ]
     },
     "metadata": {
      "image/png": {
       "height": 420,
       "width": 420
      }
     },
     "output_type": "display_data"
    }
   ],
   "source": [
    "lev = hat(model.matrix(lmMod))\n",
    "plot(lev)"
   ]
  },
  {
   "cell_type": "code",
   "execution_count": 30,
   "id": "76bea47b-3dfe-4381-9890-bbfb53af985a",
   "metadata": {
    "tags": [],
    "vscode": {
     "languageId": "r"
    }
   },
   "outputs": [
    {
     "name": "stderr",
     "output_type": "stream",
     "text": [
      "Warning message in cbind(parts$left, ellip_h, parts$right, deparse.level = 0L):\n",
      "\"number of rows of result is not a multiple of vector length (arg 2)\"\n",
      "Warning message in cbind(parts$left, ellip_h, parts$right, deparse.level = 0L):\n",
      "\"number of rows of result is not a multiple of vector length (arg 2)\"\n",
      "Warning message in cbind(parts$left, ellip_h, parts$right, deparse.level = 0L):\n",
      "\"number of rows of result is not a multiple of vector length (arg 2)\"\n",
      "Warning message in cbind(parts$left, ellip_h, parts$right, deparse.level = 0L):\n",
      "\"number of rows of result is not a multiple of vector length (arg 2)\"\n"
     ]
    },
    {
     "data": {
      "text/html": [
       "<table class=\"dataframe\">\n",
       "<caption>A data.frame: 0 × 34</caption>\n",
       "<thead>\n",
       "\t<tr><th scope=col>X</th><th scope=col>id</th><th scope=col>title</th><th scope=col>type</th><th scope=col>description</th><th scope=col>release_year</th><th scope=col>age_certification</th><th scope=col>runtime</th><th scope=col>production_countries</th><th scope=col>seasons</th><th scope=col>...</th><th scope=col>thriller</th><th scope=col>crime</th><th scope=col>comedy</th><th scope=col>documentation</th><th scope=col>fantasy</th><th scope=col>scifi</th><th scope=col>romance</th><th scope=col>horror</th><th scope=col>history</th><th scope=col>music</th></tr>\n",
       "\t<tr><th scope=col>&lt;int&gt;</th><th scope=col>&lt;chr&gt;</th><th scope=col>&lt;chr&gt;</th><th scope=col>&lt;chr&gt;</th><th scope=col>&lt;chr&gt;</th><th scope=col>&lt;int&gt;</th><th scope=col>&lt;chr&gt;</th><th scope=col>&lt;int&gt;</th><th scope=col>&lt;chr&gt;</th><th scope=col>&lt;dbl&gt;</th><th scope=col>...</th><th scope=col>&lt;int&gt;</th><th scope=col>&lt;int&gt;</th><th scope=col>&lt;int&gt;</th><th scope=col>&lt;int&gt;</th><th scope=col>&lt;int&gt;</th><th scope=col>&lt;int&gt;</th><th scope=col>&lt;int&gt;</th><th scope=col>&lt;int&gt;</th><th scope=col>&lt;int&gt;</th><th scope=col>&lt;int&gt;</th></tr>\n",
       "</thead>\n",
       "<tbody>\n",
       "</tbody>\n",
       "</table>\n"
      ],
      "text/latex": [
       "A data.frame: 0 × 34\n",
       "\\begin{tabular}{lllllllllllllllllllll}\n",
       " X & id & title & type & description & release\\_year & age\\_certification & runtime & production\\_countries & seasons & ... & thriller & crime & comedy & documentation & fantasy & scifi & romance & horror & history & music\\\\\n",
       " <int> & <chr> & <chr> & <chr> & <chr> & <int> & <chr> & <int> & <chr> & <dbl> & ... & <int> & <int> & <int> & <int> & <int> & <int> & <int> & <int> & <int> & <int>\\\\\n",
       "\\hline\n",
       "\\end{tabular}\n"
      ],
      "text/markdown": [
       "\n",
       "A data.frame: 0 × 34\n",
       "\n",
       "| X &lt;int&gt; | id &lt;chr&gt; | title &lt;chr&gt; | type &lt;chr&gt; | description &lt;chr&gt; | release_year &lt;int&gt; | age_certification &lt;chr&gt; | runtime &lt;int&gt; | production_countries &lt;chr&gt; | seasons &lt;dbl&gt; | ... ... | thriller &lt;int&gt; | crime &lt;int&gt; | comedy &lt;int&gt; | documentation &lt;int&gt; | fantasy &lt;int&gt; | scifi &lt;int&gt; | romance &lt;int&gt; | horror &lt;int&gt; | history &lt;int&gt; | music &lt;int&gt; |\n",
       "|---|---|---|---|---|---|---|---|---|---|---|---|---|---|---|---|---|---|---|---|---|\n",
       "\n"
      ],
      "text/plain": [
       "     X id title type description release_year age_certification runtime\n",
       "     production_countries seasons ... thriller crime comedy documentation\n",
       "     fantasy scifi romance horror history music"
      ]
     },
     "metadata": {},
     "output_type": "display_data"
    }
   ],
   "source": [
    "Netflix[lev>.2,]"
   ]
  },
  {
   "cell_type": "code",
   "execution_count": 31,
   "id": "b602854d-07be-4485-b0f4-89187b98b073",
   "metadata": {
    "vscode": {
     "languageId": "r"
    }
   },
   "outputs": [],
   "source": [
    "# No outliers in X space"
   ]
  },
  {
   "cell_type": "code",
   "execution_count": 32,
   "id": "ad743b9a-7e7f-48cf-ae7d-6d1059959c4d",
   "metadata": {
    "tags": [],
    "vscode": {
     "languageId": "r"
    }
   },
   "outputs": [
    {
     "data": {
      "text/plain": [
       "      rstudent unadjusted p-value Bonferroni p\n",
       "3624 -6.052003         1.5319e-09   7.8815e-06\n",
       "5299 -5.502400         3.9280e-08   2.0210e-04\n",
       "2839 -5.366492         8.3804e-08   4.3117e-04\n",
       "4567 -5.275950         1.3749e-07   7.0737e-04\n",
       "4427 -5.024126         5.2285e-07   2.6901e-03\n",
       "5353 -4.917611         9.0334e-07   4.6477e-03\n",
       "4335 -4.895221         1.0120e-06   5.2066e-03\n",
       "4997 -4.717479         2.4511e-06   1.2611e-02\n",
       "2945 -4.677718         2.9752e-06   1.5307e-02\n",
       "5806 -4.557715         5.2911e-06   2.7223e-02"
      ]
     },
     "metadata": {},
     "output_type": "display_data"
    }
   ],
   "source": [
    "car::outlierTest(lmMod)"
   ]
  },
  {
   "cell_type": "code",
   "execution_count": 33,
   "id": "d398509a-f56c-460e-a3aa-daeac7f351ba",
   "metadata": {
    "vscode": {
     "languageId": "r"
    }
   },
   "outputs": [],
   "source": [
    "# No outliers in Y space"
   ]
  },
  {
   "cell_type": "code",
   "execution_count": 34,
   "id": "ea72659e-3ac1-4ff4-bb84-0d2b4dbe148c",
   "metadata": {
    "collapsed": true,
    "jupyter": {
     "outputs_hidden": true
    },
    "tags": [],
    "vscode": {
     "languageId": "r"
    }
   },
   "outputs": [
    {
     "name": "stdout",
     "output_type": "stream",
     "text": [
      "Potentially influential observations of\n",
      "\t lm(formula = imdb_score ~ tmdb_score, data = Netflix) :\n",
      "\n",
      "     dfb.1_ dfb.tmd_ dffit   cov.r   cook.d hat    \n",
      "20   -0.09   0.08    -0.10_*  1.00_*  0.00   0.00  \n",
      "30    0.01  -0.01     0.01    1.00_*  0.00   0.00_*\n",
      "33    0.06  -0.05     0.06_*  1.00_*  0.00   0.00  \n",
      "201   0.07  -0.06     0.07_*  1.00    0.00   0.00_*\n",
      "349   0.00  -0.01    -0.04    1.00_*  0.00   0.00  \n",
      "439   0.02  -0.01     0.04    1.00_*  0.00   0.00  \n",
      "460   0.08  -0.08     0.08_*  1.00_*  0.00   0.00_*\n",
      "517   0.00   0.00     0.00    1.00_*  0.00   0.00  \n",
      "518   0.01  -0.01     0.01    1.00_*  0.00   0.00  \n",
      "526  -0.01   0.01    -0.01    1.00_*  0.00   0.00  \n",
      "537  -0.02   0.02    -0.02    1.00_*  0.00   0.00_*\n",
      "559  -0.08   0.07    -0.08_*  1.00    0.00   0.00_*\n",
      "567  -0.06   0.05    -0.06    1.00    0.00   0.00_*\n",
      "585   0.22  -0.21     0.22_*  1.00_*  0.02   0.00_*\n",
      "589   0.00  -0.01    -0.03    1.00_*  0.00   0.00  \n",
      "591  -0.03   0.02    -0.03    1.00_*  0.00   0.00_*\n",
      "595   0.10  -0.10    -0.11_*  1.00    0.01   0.00_*\n",
      "599  -0.05   0.05    -0.05    1.00_*  0.00   0.00_*\n",
      "600   0.00   0.00     0.00    1.00_*  0.00   0.00  \n",
      "624   0.06  -0.05     0.06_*  1.00    0.00   0.00  \n",
      "626   0.01  -0.01     0.01    1.00_*  0.00   0.00  \n",
      "685   0.01  -0.01    -0.01    1.00_*  0.00   0.00  \n",
      "716   0.30  -0.30     0.30_*  1.00    0.05   0.01_*\n",
      "727   0.07  -0.08    -0.08_*  1.00    0.00   0.00_*\n",
      "733   0.01  -0.02    -0.02    1.00_*  0.00   0.00  \n",
      "749  -0.07   0.06    -0.08_*  0.99_*  0.00   0.00  \n",
      "767   0.00   0.00     0.00    1.00_*  0.00   0.00  \n",
      "783   0.01  -0.01     0.01    1.00_*  0.00   0.00_*\n",
      "793   0.08  -0.07     0.08_*  1.00_*  0.00   0.00  \n",
      "796   0.05  -0.05     0.05    1.00_*  0.00   0.00_*\n",
      "802  -0.04   0.03    -0.05    1.00_*  0.00   0.00  \n",
      "821  -0.01   0.00    -0.04    1.00_*  0.00   0.00  \n",
      "827   0.04  -0.04     0.04    1.00_*  0.00   0.00_*\n",
      "928   0.05  -0.06    -0.08_*  1.00_*  0.00   0.00  \n",
      "940   0.01  -0.02    -0.04    1.00_*  0.00   0.00  \n",
      "946   0.06  -0.06     0.06_*  1.00    0.00   0.00_*\n",
      "960   0.02  -0.02     0.04    1.00_*  0.00   0.00  \n",
      "995   0.00   0.00     0.00    1.00_*  0.00   0.00_*\n",
      "1009  0.01  -0.01     0.01    1.00_*  0.00   0.00  \n",
      "1034 -0.02   0.02     0.02    1.00_*  0.00   0.00_*\n",
      "1037  0.01  -0.01    -0.01    1.00_*  0.00   0.00  \n",
      "1044 -0.03   0.03    -0.03    1.00_*  0.00   0.00_*\n",
      "1067  0.00   0.00     0.00    1.00_*  0.00   0.00_*\n",
      "1075  0.09  -0.09     0.09_*  1.00    0.00   0.00_*\n",
      "1087  0.06  -0.05     0.06_*  1.00_*  0.00   0.00  \n",
      "1092 -0.13   0.13    -0.13_*  1.00    0.01   0.00_*\n",
      "1095 -0.03   0.03    -0.04    1.00_*  0.00   0.00  \n",
      "1100  0.01  -0.01     0.01    1.00_*  0.00   0.00_*\n",
      "1299 -0.02   0.02    -0.02    1.00_*  0.00   0.00  \n",
      "1304  0.00   0.00     0.00    1.00_*  0.00   0.00_*\n",
      "1352  0.03  -0.03    -0.05    1.00_*  0.00   0.00  \n",
      "1368  0.00   0.00    -0.03    1.00_*  0.00   0.00  \n",
      "1404  0.07  -0.07    -0.08_*  1.00    0.00   0.00_*\n",
      "1406  0.03  -0.04    -0.04    1.00    0.00   0.00_*\n",
      "1407 -0.02   0.01    -0.05    1.00_*  0.00   0.00  \n",
      "1461 -0.01   0.01    -0.01    1.00_*  0.00   0.00  \n",
      "1462  0.00   0.00     0.00    1.00_*  0.00   0.00_*\n",
      "1486 -0.01   0.01    -0.01    1.00_*  0.00   0.00  \n",
      "1499 -0.03   0.02    -0.03    1.00_*  0.00   0.00_*\n",
      "1508 -0.01   0.02     0.02    1.00_*  0.00   0.00  \n",
      "1513 -0.02   0.01    -0.04    1.00_*  0.00   0.00  \n",
      "1526 -0.03   0.03    -0.03    1.00_*  0.00   0.00_*\n",
      "1549 -0.04   0.03    -0.05    1.00_*  0.00   0.00  \n",
      "1578 -0.12   0.12    -0.12_*  1.00    0.01   0.00_*\n",
      "1594 -0.02   0.01    -0.02    1.00_*  0.00   0.00  \n",
      "1605  0.00   0.00     0.00    1.00_*  0.00   0.00  \n",
      "1607 -0.08   0.07    -0.08_*  1.00_*  0.00   0.00_*\n",
      "1612  0.02  -0.02     0.02    1.00_*  0.00   0.00_*\n",
      "1618 -0.01   0.01    -0.01    1.00_*  0.00   0.00_*\n",
      "1630  0.06  -0.06    -0.07_*  1.00    0.00   0.00  \n",
      "1633  0.05  -0.05    -0.05    1.00    0.00   0.00_*\n",
      "1643  0.06  -0.05     0.06    1.00    0.00   0.00_*\n",
      "1660 -0.09   0.08    -0.09_*  1.00    0.00   0.00_*\n",
      "1661  0.02  -0.02     0.02    1.00_*  0.00   0.00_*\n",
      "1665 -0.02   0.02    -0.02    1.00_*  0.00   0.00_*\n",
      "1673 -0.01   0.00    -0.03    1.00_*  0.00   0.00  \n",
      "1677  0.03  -0.03     0.03    1.00_*  0.00   0.00  \n",
      "1696 -0.04   0.03    -0.07_*  0.99_*  0.00   0.00  \n",
      "1761  0.01  -0.02    -0.04    1.00_*  0.00   0.00  \n",
      "1870 -0.02   0.01    -0.04    1.00_*  0.00   0.00  \n",
      "1949 -0.02   0.02    -0.02    1.00_*  0.00   0.00_*\n",
      "1960 -0.02   0.02     0.02    1.00_*  0.00   0.00_*\n",
      "1982  0.05  -0.06    -0.07_*  1.00_*  0.00   0.00  \n",
      "1988 -0.04   0.04    -0.05    1.00_*  0.00   0.00  \n",
      "1996  0.00   0.00    -0.03    1.00_*  0.00   0.00  \n",
      "2033  0.08  -0.09    -0.09_*  1.00    0.00   0.00_*\n",
      "2034 -0.05   0.05    -0.05    1.00_*  0.00   0.00_*\n",
      "2067  0.07  -0.07    -0.08_*  1.00    0.00   0.00_*\n",
      "2081 -0.03   0.02    -0.04    1.00_*  0.00   0.00  \n",
      "2084  0.00   0.00     0.00    1.00_*  0.00   0.00  \n",
      "2094  0.01  -0.02    -0.06_*  0.99_*  0.00   0.00  \n",
      "2127  0.15  -0.16    -0.17_*  1.00_*  0.01   0.00_*\n",
      "2138  0.01  -0.01    -0.01    1.00_*  0.00   0.00  \n",
      "2183  0.07  -0.08    -0.09_*  1.00_*  0.00   0.00  \n",
      "2186 -0.06   0.06    -0.06_*  1.00    0.00   0.00_*\n",
      "2202 -0.06   0.05    -0.06_*  1.00    0.00   0.00  \n",
      "2343  0.03  -0.04    -0.05    1.00_*  0.00   0.00  \n",
      "2373 -0.06   0.06    -0.07_*  1.00    0.00   0.00  \n",
      "2385  0.02  -0.02     0.02    1.00_*  0.00   0.00_*\n",
      "2388  0.01  -0.01    -0.05    1.00_*  0.00   0.00  \n",
      "2404  0.01  -0.02    -0.02    1.00_*  0.00   0.00_*\n",
      "2410 -0.02   0.01    -0.02    1.00_*  0.00   0.00_*\n",
      "2520 -0.06   0.06    -0.07_*  1.00    0.00   0.00  \n",
      "2521  0.00   0.00    -0.01    1.00_*  0.00   0.00  \n",
      "2556 -0.07   0.06    -0.08_*  1.00_*  0.00   0.00  \n",
      "2576  0.04  -0.04    -0.05    1.00    0.00   0.00_*\n",
      "2589 -0.02   0.02    -0.02    1.00_*  0.00   0.00_*\n",
      "2603  0.06  -0.07    -0.07_*  1.00    0.00   0.00_*\n",
      "2636  0.00   0.00     0.00    1.00_*  0.00   0.00  \n",
      "2639 -0.07   0.06    -0.07_*  1.00    0.00   0.00_*\n",
      "2643  0.06  -0.06     0.07_*  1.00_*  0.00   0.00  \n",
      "2649  0.03  -0.03     0.05    1.00_*  0.00   0.00  \n",
      "2667 -0.04   0.03    -0.05    1.00_*  0.00   0.00  \n",
      "2677  0.01  -0.01     0.01    1.00_*  0.00   0.00_*\n",
      "2683  0.05  -0.04     0.05    1.00    0.00   0.00_*\n",
      "2684 -0.03   0.03    -0.03    1.00_*  0.00   0.00_*\n",
      "2693 -0.02   0.02    -0.02    1.00_*  0.00   0.00_*\n",
      "2712  0.00   0.00     0.00    1.00_*  0.00   0.00  \n",
      "2727  0.00   0.00     0.00    1.00_*  0.00   0.00  \n",
      "2740 -0.04   0.03    -0.04    1.00_*  0.00   0.00_*\n",
      "2744  0.02  -0.03    -0.05    1.00_*  0.00   0.00  \n",
      "2760  0.02  -0.02     0.02    1.00_*  0.00   0.00_*\n",
      "2803  0.13  -0.13     0.13_*  1.00_*  0.01   0.00_*\n",
      "2819  0.32  -0.31     0.32_*  1.00_*  0.05   0.01_*\n",
      "2839  0.08  -0.10    -0.12_*  0.99_*  0.01   0.00  \n",
      "2841 -0.05   0.04    -0.05    1.00_*  0.00   0.00  \n",
      "2853  0.14  -0.14     0.14_*  1.00_*  0.01   0.00_*\n",
      "2858  0.09  -0.08     0.09_*  1.00_*  0.00   0.00_*\n",
      "2861 -0.03   0.02    -0.04    1.00_*  0.00   0.00  \n",
      "2869  0.07  -0.08    -0.08_*  1.00    0.00   0.00_*\n",
      "2871 -0.05   0.04    -0.05    1.00    0.00   0.00_*\n",
      "2881 -0.04   0.03    -0.05    1.00_*  0.00   0.00  \n",
      "2884  0.02  -0.03    -0.05    1.00_*  0.00   0.00  \n",
      "2918  0.29  -0.29     0.29_*  1.00    0.04   0.01_*\n",
      "2922  0.03  -0.03     0.03    1.00_*  0.00   0.00_*\n",
      "2925  0.02  -0.02     0.02    1.00_*  0.00   0.00  \n",
      "2926 -0.03   0.03    -0.03    1.00_*  0.00   0.00  \n",
      "2928  0.05  -0.05     0.05    1.00_*  0.00   0.00_*\n",
      "2929  0.19  -0.18     0.19_*  1.00    0.02   0.00_*\n",
      "2936  0.06  -0.06    -0.07_*  1.00    0.00   0.00_*\n",
      "2945  0.00  -0.01    -0.07_*  0.99_*  0.00   0.00  \n",
      "2947  0.01  -0.01     0.01    1.00_*  0.00   0.00  \n",
      "2958  0.06  -0.06     0.06_*  1.00_*  0.00   0.00_*\n",
      "2959 -0.01   0.01    -0.01    1.00_*  0.00   0.00  \n",
      "2976 -0.01   0.01    -0.01    1.00_*  0.00   0.00  \n",
      "2981 -0.03   0.03    -0.04    1.00_*  0.00   0.00_*\n",
      "2990 -0.01   0.01    -0.01    1.00_*  0.00   0.00_*\n",
      "2996  0.10  -0.10     0.10_*  1.00_*  0.00   0.00_*\n",
      "2997 -0.01   0.01    -0.01    1.00_*  0.00   0.00_*\n",
      "2998 -0.05   0.05    -0.05    1.00    0.00   0.00_*\n",
      "3001 -0.05   0.05    -0.06    1.00_*  0.00   0.00  \n",
      "3006  0.07  -0.07    -0.08_*  1.00    0.00   0.00_*\n",
      "3008  0.03  -0.02     0.03    1.00_*  0.00   0.00_*\n",
      "3010  0.00   0.00     0.00    1.00_*  0.00   0.00  \n",
      "3021 -0.04   0.04    -0.04    1.00_*  0.00   0.00_*\n",
      "3144  0.00  -0.01    -0.05    1.00_*  0.00   0.00  \n",
      "3193  0.09  -0.09     0.09_*  1.00    0.00   0.00_*\n",
      "3298 -0.07   0.06    -0.07_*  1.00_*  0.00   0.00  \n",
      "3353  0.06  -0.06    -0.07_*  1.00    0.00   0.00_*\n",
      "3403  0.04  -0.04    -0.04    1.00_*  0.00   0.00_*\n",
      "3421 -0.05   0.04    -0.06    1.00_*  0.00   0.00  \n",
      "3480  0.09  -0.09    -0.10_*  1.00    0.00   0.00_*\n",
      "3504 -0.02   0.01    -0.05    1.00_*  0.00   0.00  \n",
      "3507  0.01   0.00     0.03    1.00_*  0.00   0.00  \n",
      "3556  0.10  -0.11    -0.11_*  1.00    0.01   0.00_*\n",
      "3596 -0.01   0.00    -0.04    1.00_*  0.00   0.00  \n",
      "3599 -0.10   0.09    -0.10_*  1.00_*  0.00   0.00_*\n",
      "3624  0.09  -0.10    -0.13_*  0.99_*  0.01   0.00  \n",
      "3630  0.12  -0.13    -0.14_*  1.00_*  0.01   0.00_*\n",
      "3643 -0.09   0.09    -0.09_*  1.00    0.00   0.00_*\n",
      "3653  0.15  -0.15     0.15_*  1.00_*  0.01   0.00_*\n",
      "3684 -0.06   0.05    -0.06    1.00    0.00   0.00_*\n",
      "3694 -0.07   0.07    -0.08_*  1.00_*  0.00   0.00  \n",
      "3699  0.01  -0.01    -0.01    1.00_*  0.00   0.00_*\n",
      "3701  0.00   0.00     0.01    1.00_*  0.00   0.00_*\n",
      "3704 -0.05   0.05    -0.06_*  1.00    0.00   0.00  \n",
      "3712 -0.03   0.03    -0.04    1.00_*  0.00   0.00  \n",
      "3724  0.01  -0.02    -0.04    1.00_*  0.00   0.00  \n",
      "3753 -0.09   0.08    -0.09_*  1.00    0.00   0.00_*\n",
      "3777  0.07  -0.07    -0.08_*  1.00    0.00   0.00_*\n",
      "3786 -0.01   0.01     0.01    1.00_*  0.00   0.00  \n",
      "3787  0.00   0.00    -0.01    1.00_*  0.00   0.00  \n",
      "3791 -0.09   0.08    -0.09_*  1.00    0.00   0.00_*\n",
      "3810 -0.05   0.05    -0.06_*  1.00_*  0.00   0.00  \n",
      "3831 -0.03   0.02    -0.04    1.00_*  0.00   0.00  \n",
      "3878  0.01  -0.01     0.01    1.00_*  0.00   0.00_*\n",
      "3879  0.18  -0.18     0.18_*  1.00_*  0.02   0.01_*\n",
      "3883  0.01  -0.01    -0.01    1.00_*  0.00   0.00  \n",
      "3894  0.03  -0.03    -0.05    1.00_*  0.00   0.00  \n",
      "3896  0.07  -0.08    -0.08_*  1.00    0.00   0.00_*\n",
      "3901 -0.07   0.07    -0.07_*  1.00    0.00   0.00_*\n",
      "3909 -0.01   0.00    -0.04    1.00_*  0.00   0.00  \n",
      "3946  0.01  -0.01    -0.01    1.00_*  0.00   0.00_*\n",
      "3951 -0.09   0.08    -0.09_*  1.00    0.00   0.00_*\n",
      "3962 -0.04   0.03    -0.05    1.00_*  0.00   0.00  \n",
      "3965 -0.05   0.05    -0.07_*  1.00_*  0.00   0.00  \n",
      "3972  0.05  -0.06    -0.06_*  1.00    0.00   0.00  \n",
      "4000 -0.06   0.05    -0.06_*  1.00    0.00   0.00  \n",
      "4001  0.00   0.00     0.00    1.00_*  0.00   0.00  \n",
      "4005  0.06  -0.07    -0.07_*  1.00    0.00   0.00_*\n",
      "4006  0.01  -0.01    -0.01    1.00_*  0.00   0.00  \n",
      "4010  0.03  -0.03    -0.05    1.00_*  0.00   0.00  \n",
      "4036  0.01  -0.01     0.01    1.00_*  0.00   0.00  \n",
      "4038 -0.01   0.01    -0.01    1.00_*  0.00   0.00  \n",
      "4041  0.00   0.00     0.00    1.00_*  0.00   0.00  \n",
      "4043  0.09  -0.10    -0.11_*  1.00_*  0.01   0.00  \n",
      "4048  0.05  -0.06    -0.07_*  1.00_*  0.00   0.00  \n",
      "4052  0.09  -0.10    -0.10_*  1.00    0.01   0.00_*\n",
      "4056 -0.07   0.07    -0.08_*  1.00_*  0.00   0.00  \n",
      "4058  0.07  -0.08    -0.08_*  1.00    0.00   0.00_*\n",
      "4068 -0.02   0.01    -0.03    1.00_*  0.00   0.00  \n",
      "4077 -0.01   0.01    -0.01    1.00_*  0.00   0.00  \n",
      "4091 -0.02   0.01    -0.04    1.00_*  0.00   0.00  \n",
      "4099 -0.02   0.02    -0.02    1.00_*  0.00   0.00  \n",
      "4131 -0.07   0.07    -0.07_*  1.00    0.00   0.00  \n",
      "4148  0.01  -0.01    -0.01    1.00_*  0.00   0.00  \n",
      "4153  0.00   0.00     0.00    1.00_*  0.00   0.00  \n",
      "4154  0.04  -0.05    -0.06_*  1.00    0.00   0.00  \n",
      "4174 -0.03   0.03    -0.05    1.00_*  0.00   0.00  \n",
      "4176  0.14  -0.15    -0.16_*  1.00_*  0.01   0.00_*\n",
      "4190  0.16  -0.15     0.16_*  1.00_*  0.01   0.00_*\n",
      "4196  0.07  -0.06     0.07_*  1.00_*  0.00   0.00  \n",
      "4203  0.09  -0.10    -0.10_*  1.00    0.01   0.00_*\n",
      "4204  0.01  -0.01    -0.03    1.00_*  0.00   0.00  \n",
      "4221  0.07  -0.07    -0.08_*  1.00    0.00   0.00  \n",
      "4228 -0.01   0.01     0.01    1.00_*  0.00   0.00  \n",
      "4229 -0.05   0.04    -0.06    1.00_*  0.00   0.00  \n",
      "4239 -0.06   0.06    -0.06_*  1.00    0.00   0.00_*\n",
      "4266  0.13  -0.14    -0.15_*  1.00_*  0.01   0.00_*\n",
      "4274  0.03  -0.03    -0.04    1.00_*  0.00   0.00_*\n",
      "4277 -0.08   0.08    -0.08_*  1.00_*  0.00   0.00_*\n",
      "4290  0.05  -0.06    -0.06_*  1.00_*  0.00   0.00_*\n",
      "4297  0.14  -0.15    -0.16_*  1.00_*  0.01   0.00_*\n",
      "4300  0.02  -0.02     0.02    1.00_*  0.00   0.00_*\n",
      "4303 -0.04   0.04    -0.04    1.00_*  0.00   0.00_*\n",
      "4321  0.05  -0.06    -0.06_*  1.00_*  0.00   0.00_*\n",
      "4328  0.04  -0.05    -0.05    1.00_*  0.00   0.00_*\n",
      "4330 -0.02   0.01    -0.04    1.00_*  0.00   0.00  \n",
      "4332  0.12  -0.12    -0.13_*  1.00_*  0.01   0.00_*\n",
      "4335  0.08  -0.09    -0.12_*  0.99_*  0.01   0.00  \n",
      "4344 -0.01   0.01    -0.04    1.00_*  0.00   0.00  \n",
      "4365  0.15  -0.17    -0.18_*  0.99_*  0.02   0.00_*\n",
      "4376 -0.08   0.08    -0.08_*  1.00    0.00   0.00  \n",
      "4383  0.03  -0.03     0.04    1.00_*  0.00   0.00_*\n",
      "4395  0.10  -0.11    -0.11_*  1.00    0.01   0.00_*\n",
      "4399 -0.05   0.05    -0.06    1.00_*  0.00   0.00  \n",
      "4409 -0.02   0.02    -0.02    1.00_*  0.00   0.00_*\n",
      "4416  0.03  -0.03     0.03    1.00_*  0.00   0.00_*\n",
      "4420  0.10  -0.10    -0.11_*  1.00    0.01   0.00_*\n",
      "4422 -0.01   0.01    -0.04    1.00_*  0.00   0.00  \n",
      "4426  0.00  -0.01    -0.06    0.99_*  0.00   0.00  \n",
      "4427  0.18  -0.19    -0.21_*  0.99_*  0.02   0.00_*\n",
      "4430 -0.01   0.01    -0.04    1.00_*  0.00   0.00  \n",
      "4432  0.02  -0.03    -0.04    1.00_*  0.00   0.00  \n",
      "4440  0.00  -0.01    -0.03    1.00_*  0.00   0.00  \n",
      "4443  0.15  -0.16    -0.17_*  1.00_*  0.01   0.00_*\n",
      "4451 -0.01   0.01     0.01    1.00_*  0.00   0.00  \n",
      "4456  0.01  -0.01    -0.01    1.00_*  0.00   0.00  \n",
      "4459  0.06  -0.07    -0.07_*  1.00    0.00   0.00_*\n",
      "4460  0.00  -0.01    -0.03    1.00_*  0.00   0.00  \n",
      "4463  0.09  -0.08     0.09_*  1.00    0.00   0.00_*\n",
      "4465 -0.05   0.05    -0.05    1.00    0.00   0.00_*\n",
      "4474  0.03  -0.03    -0.05    1.00_*  0.00   0.00  \n",
      "4485  0.08  -0.08     0.08_*  1.00_*  0.00   0.00_*\n",
      "4490  0.05  -0.05     0.05    1.00    0.00   0.00_*\n",
      "4496  0.11  -0.12    -0.13_*  1.00_*  0.01   0.00_*\n",
      "4510 -0.02   0.02    -0.02    1.00_*  0.00   0.00_*\n",
      "4515  0.07  -0.07    -0.08_*  1.00    0.00   0.00_*\n",
      "4516  0.02  -0.02    -0.03    1.00_*  0.00   0.00  \n",
      "4520  0.02  -0.03    -0.05    1.00_*  0.00   0.00  \n",
      "4525  0.06  -0.06    -0.07_*  1.00    0.00   0.00_*\n",
      "4527  0.21  -0.21     0.21_*  1.00_*  0.02   0.01_*\n",
      "4530  0.01  -0.02    -0.04    1.00_*  0.00   0.00  \n",
      "4543  0.06  -0.05     0.06_*  1.00    0.00   0.00  \n",
      "4546  0.00   0.00    -0.03    1.00_*  0.00   0.00  \n",
      "4562  0.01  -0.01     0.01    1.00_*  0.00   0.00  \n",
      "4567  0.09  -0.11    -0.13_*  0.99_*  0.01   0.00  \n",
      "4574  0.01  -0.01     0.01    1.00_*  0.00   0.00_*\n",
      "4578  0.00   0.00     0.00    1.00_*  0.00   0.00_*\n",
      "4597  0.02  -0.02    -0.02    1.00_*  0.00   0.00_*\n",
      "4601  0.01  -0.01    -0.04    1.00_*  0.00   0.00  \n",
      "4602 -0.02   0.02     0.02    1.00_*  0.00   0.00  \n",
      "4603  0.01  -0.01     0.01    1.00_*  0.00   0.00_*\n",
      "4608  0.01  -0.01    -0.01    1.00_*  0.00   0.00_*\n",
      "4613  0.13  -0.14    -0.15_*  1.00_*  0.01   0.00_*\n",
      "4620 -0.02   0.01    -0.05    1.00_*  0.00   0.00  \n",
      "4626  0.05  -0.05     0.05    1.00    0.00   0.00_*\n",
      "4630  0.04  -0.04    -0.06_*  1.00_*  0.00   0.00  \n",
      "4647  0.01  -0.01    -0.01    1.00_*  0.00   0.00_*\n",
      "4651  0.00   0.00     0.00    1.00_*  0.00   0.00_*\n",
      "4662 -0.04   0.04    -0.04    1.00_*  0.00   0.00_*\n",
      "4665  0.05  -0.06    -0.06_*  1.00_*  0.00   0.00_*\n",
      "4688  0.02  -0.03    -0.05    1.00_*  0.00   0.00  \n",
      "4689  0.02  -0.03    -0.03    1.00_*  0.00   0.00_*\n",
      "4694 -0.03   0.03    -0.04    1.00_*  0.00   0.00  \n",
      "4798 -0.02   0.02    -0.02    1.00_*  0.00   0.00_*\n",
      "4815 -0.03   0.02    -0.04    1.00_*  0.00   0.00  \n",
      "4854 -0.02   0.02     0.02    1.00_*  0.00   0.00  \n",
      "4888 -0.05   0.05    -0.07_*  1.00_*  0.00   0.00  \n",
      "4915  0.00  -0.01    -0.03    1.00_*  0.00   0.00  \n",
      "4947 -0.01   0.01    -0.03    1.00_*  0.00   0.00  \n",
      "4985  0.02  -0.02     0.02    1.00_*  0.00   0.00  \n",
      "4997  0.14  -0.15    -0.17_*  0.99_*  0.01   0.00_*\n",
      "5010 -0.09   0.08    -0.09_*  1.00    0.00   0.00_*\n",
      "5014  0.04  -0.04    -0.05    1.00_*  0.00   0.00_*\n",
      "5027  0.03  -0.04    -0.05    1.00_*  0.00   0.00  \n",
      "5030 -0.01   0.00    -0.03    1.00_*  0.00   0.00  \n",
      "5058  0.06  -0.06     0.07_*  1.00_*  0.00   0.00  \n",
      "5060 -0.03   0.02    -0.04    1.00_*  0.00   0.00  \n",
      "5143  0.03  -0.03     0.04    1.00_*  0.00   0.00  \n",
      "5182  0.11  -0.12    -0.13_*  1.00_*  0.01   0.00_*\n",
      "5189  0.00   0.00     0.00    1.00_*  0.00   0.00_*\n",
      "5208  0.00   0.00    -0.03    1.00_*  0.00   0.00  \n",
      "5211 -0.04   0.04    -0.04    1.00_*  0.00   0.00_*\n",
      "5215  0.06  -0.07    -0.08_*  1.00    0.00   0.00  \n",
      "5227 -0.01   0.01    -0.04    1.00_*  0.00   0.00  \n",
      "5242  0.01  -0.02    -0.05    1.00_*  0.00   0.00  \n",
      "5270  0.03  -0.03    -0.05    1.00_*  0.00   0.00  \n",
      "5275 -0.03   0.02    -0.04    1.00_*  0.00   0.00  \n",
      "5280  0.31  -0.30     0.31_*  1.00_*  0.05   0.01_*\n",
      "5287 -0.01   0.01    -0.03    1.00_*  0.00   0.00  \n",
      "5296  0.01  -0.02    -0.06    1.00_*  0.00   0.00  \n",
      "5299  0.06  -0.08    -0.11_*  0.99_*  0.01   0.00  \n",
      "5314  0.01  -0.01    -0.01    1.00_*  0.00   0.00  \n",
      "5319  0.00   0.00    -0.04    1.00_*  0.00   0.00  \n",
      "5321 -0.06   0.05    -0.08_*  0.99_*  0.00   0.00  \n",
      "5335  0.15  -0.16    -0.17_*  1.00_*  0.01   0.00_*\n",
      "5343 -0.02   0.02    -0.02    1.00_*  0.00   0.00_*\n",
      "5353  0.18  -0.19    -0.20_*  0.99_*  0.02   0.00_*\n",
      "5377  0.07  -0.07    -0.08_*  1.00    0.00   0.00_*\n",
      "5380  0.04  -0.05    -0.06_*  1.00_*  0.00   0.00  \n",
      "5401  0.00  -0.01    -0.01    1.00_*  0.00   0.00_*\n",
      "5404 -0.02   0.01    -0.04    1.00_*  0.00   0.00  \n",
      "5420  0.06  -0.06    -0.07_*  1.00_*  0.00   0.00  \n",
      "5424  0.08  -0.09    -0.10_*  1.00_*  0.01   0.00  \n",
      "5449  0.03  -0.04    -0.05    1.00_*  0.00   0.00  \n",
      "5501  0.10  -0.10     0.10_*  1.00    0.01   0.00_*\n",
      "5545  0.06  -0.05     0.06    1.00_*  0.00   0.00_*\n",
      "5547  0.01  -0.01    -0.01    1.00_*  0.00   0.00  \n",
      "5556  0.10  -0.11    -0.12_*  1.00_*  0.01   0.00  \n",
      "5564  0.12  -0.13    -0.14_*  1.00_*  0.01   0.00_*\n",
      "5575  0.12  -0.13    -0.14_*  1.00_*  0.01   0.00_*\n",
      "5584 -0.09   0.09    -0.10_*  1.00    0.00   0.00_*\n",
      "5586  0.17  -0.17     0.17_*  1.00_*  0.01   0.00_*\n",
      "5596  0.03  -0.03     0.03    1.00_*  0.00   0.00_*\n",
      "5603  0.02  -0.02    -0.03    1.00_*  0.00   0.00_*\n",
      "5621  0.12  -0.13    -0.14_*  1.00_*  0.01   0.00_*\n",
      "5625 -0.01   0.01     0.01    1.00_*  0.00   0.00  \n",
      "5630  0.17  -0.17     0.17_*  1.00_*  0.01   0.01_*\n",
      "5635  0.02  -0.03    -0.03    1.00_*  0.00   0.00_*\n",
      "5646  0.02  -0.02    -0.05    1.00_*  0.00   0.00  \n",
      "5654  0.03  -0.04    -0.05    1.00_*  0.00   0.00  \n",
      "5656  0.00  -0.01    -0.04    1.00_*  0.00   0.00  \n",
      "5663 -0.01   0.00    -0.04    1.00_*  0.00   0.00  \n",
      "5672  0.08  -0.09    -0.09_*  1.00    0.00   0.00_*\n",
      "5696 -0.11   0.11    -0.11_*  1.00_*  0.01   0.00_*\n",
      "5701  0.06  -0.07    -0.08_*  1.00_*  0.00   0.00  \n",
      "5709  0.09  -0.09     0.09_*  1.00    0.00   0.00_*\n",
      "5717  0.04  -0.03     0.04    1.00_*  0.00   0.00_*\n",
      "5722  0.10  -0.09     0.10_*  1.00_*  0.01   0.00_*\n",
      "5731  0.01  -0.02    -0.04    1.00_*  0.00   0.00  \n",
      "5745  0.18  -0.17     0.18_*  1.00    0.02   0.00_*\n",
      "5749  0.02  -0.03    -0.05    1.00_*  0.00   0.00  \n",
      "5756  0.05  -0.06    -0.06_*  1.00_*  0.00   0.00_*\n",
      "5761 -0.04   0.04    -0.06_*  1.00_*  0.00   0.00  \n",
      "5767 -0.10   0.10    -0.11_*  1.00_*  0.01   0.00_*\n",
      "5781  0.03  -0.03     0.03    1.00_*  0.00   0.00_*\n",
      "5782  0.11  -0.12    -0.12_*  1.00_*  0.01   0.00_*\n",
      "5784 -0.05   0.04    -0.06_*  1.00_*  0.00   0.00  \n",
      "5785  0.13  -0.14    -0.15_*  1.00_*  0.01   0.00_*\n",
      "5786  0.13  -0.14    -0.15_*  1.00_*  0.01   0.00_*\n",
      "5794 -0.04   0.03    -0.05    1.00_*  0.00   0.00  \n",
      "5797  0.05  -0.06    -0.07_*  1.00    0.00   0.00  \n",
      "5802  0.07  -0.08    -0.08_*  1.00    0.00   0.00_*\n",
      "5804  0.04  -0.04     0.04    1.00_*  0.00   0.00_*\n",
      "5806  0.03  -0.04    -0.07_*  0.99_*  0.00   0.00  \n",
      "5813  0.05  -0.06    -0.06_*  1.00_*  0.00   0.00_*\n",
      "5815  0.02  -0.02    -0.04    1.00_*  0.00   0.00  \n",
      "5816 -0.02   0.02    -0.02    1.00_*  0.00   0.00_*\n",
      "5825  0.00   0.00    -0.03    1.00_*  0.00   0.00  \n",
      "5839  0.01  -0.02    -0.04    1.00_*  0.00   0.00  \n",
      "5848 -0.02   0.02    -0.04    1.00_*  0.00   0.00  \n",
      "5850  0.02  -0.02    -0.02    1.00_*  0.00   0.00_*\n"
     ]
    }
   ],
   "source": [
    "summary(influence.measures(lmMod))"
   ]
  },
  {
   "cell_type": "code",
   "execution_count": 35,
   "id": "602ad55d-5e45-4528-921b-94843a023685",
   "metadata": {
    "vscode": {
     "languageId": "r"
    }
   },
   "outputs": [],
   "source": [
    "# No oultiers in X an Y space"
   ]
  },
  {
   "cell_type": "code",
   "execution_count": 36,
   "id": "b693f126-3d24-4381-923c-606bd09c4188",
   "metadata": {
    "vscode": {
     "languageId": "r"
    }
   },
   "outputs": [
    {
     "data": {
      "text/plain": [
       "\n",
       "Call:\n",
       "lm(formula = imdb_score ~ tmdb_score, data = Netflix)\n",
       "\n",
       "Residuals:\n",
       "    Min      1Q  Median      3Q     Max \n",
       "-5.7060 -0.4823  0.1254  0.6124  4.1269 \n",
       "\n",
       "Coefficients:\n",
       "            Estimate Std. Error t value Pr(>|t|)    \n",
       "(Intercept)  2.59911    0.07968   32.62   <2e-16 ***\n",
       "tmdb_score   0.57401    0.01152   49.85   <2e-16 ***\n",
       "---\n",
       "Signif. codes:  0 '***' 0.001 '**' 0.01 '*' 0.05 '.' 0.1 ' ' 1\n",
       "\n",
       "Residual standard error: 0.9463 on 5143 degrees of freedom\n",
       "  (705 observations deleted due to missingness)\n",
       "Multiple R-squared:  0.3258,\tAdjusted R-squared:  0.3256 \n",
       "F-statistic:  2485 on 1 and 5143 DF,  p-value: < 2.2e-16\n"
      ]
     },
     "metadata": {},
     "output_type": "display_data"
    }
   ],
   "source": [
    "summary(lmMod)"
   ]
  },
  {
   "cell_type": "code",
   "execution_count": 37,
   "id": "7b0a3e69-5836-4a10-95f6-4457350bec89",
   "metadata": {
    "vscode": {
     "languageId": "r"
    }
   },
   "outputs": [],
   "source": [
    "# There is significant ecidence to prove there is a linear relationship between the Tmdb and Imdb score. "
   ]
  },
  {
   "cell_type": "markdown",
   "id": "346f985f-a591-4ee6-8ab8-a256d2a13fa3",
   "metadata": {},
   "source": [
    "# Predictions\n",
    "\n",
    "If the Tmbd score is 6 we can predict that the Imdb score will be 6.04"
   ]
  },
  {
   "cell_type": "code",
   "execution_count": 38,
   "id": "a4a144cb-15dc-45a1-882c-027935110fd5",
   "metadata": {
    "vscode": {
     "languageId": "r"
    }
   },
   "outputs": [
    {
     "ename": "ERROR",
     "evalue": "Error in eval(expr, envir, enclos): attempt to apply non-function\n",
     "output_type": "error",
     "traceback": [
      "Error in eval(expr, envir, enclos): attempt to apply non-function\nTraceback:\n"
     ]
    }
   ],
   "source": [
    "(y = 0.574(6) + 2.59911) (Y= 6.0431)"
   ]
  },
  {
   "cell_type": "markdown",
   "id": "c4b11234-b7a3-432e-a0df-3685e31820dd",
   "metadata": {},
   "source": [
    "# Question 3: Is there a difference in runtime among the different genres?"
   ]
  },
  {
   "cell_type": "code",
   "execution_count": null,
   "id": "a93d00ba-38c1-4633-b42b-5b59c2b1fe03",
   "metadata": {
    "vscode": {
     "languageId": "r"
    }
   },
   "outputs": [],
   "source": []
  },
  {
   "cell_type": "code",
   "execution_count": null,
   "id": "7b55caa2-500e-4a52-849c-37dc5caa6674",
   "metadata": {
    "vscode": {
     "languageId": "r"
    }
   },
   "outputs": [],
   "source": []
  },
  {
   "cell_type": "markdown",
   "id": "d893710d-9573-4aec-95d5-a32856b7f57a",
   "metadata": {},
   "source": [
    "# Question 4: Average ratings amoung genres?"
   ]
  },
  {
   "cell_type": "code",
   "execution_count": null,
   "id": "347b02ea-125d-4a12-bf5d-f55b78bb3956",
   "metadata": {
    "vscode": {
     "languageId": "r"
    }
   },
   "outputs": [],
   "source": []
  },
  {
   "cell_type": "markdown",
   "id": "a0ca347d-6f65-4141-a237-41d9ed9faf50",
   "metadata": {},
   "source": [
    "# Question 5: How does 'year realeased' relate to 'rating'? "
   ]
  },
  {
   "cell_type": "code",
   "execution_count": null,
   "id": "1b5cc70f-03ee-416e-aae4-d0d0852c4307",
   "metadata": {
    "tags": [],
    "vscode": {
     "languageId": "r"
    }
   },
   "outputs": [],
   "source": [
    "str(Netflix)"
   ]
  },
  {
   "cell_type": "code",
   "execution_count": null,
   "id": "324c2172-3b2f-44a5-a560-a9a2c2195879",
   "metadata": {
    "vscode": {
     "languageId": "r"
    }
   },
   "outputs": [],
   "source": [
    "Netflix$release_year <- as.integer(Netflix$release_year)"
   ]
  },
  {
   "cell_type": "code",
   "execution_count": null,
   "id": "a6a7f0f8-c49c-498a-8cd9-1ea9b999f82b",
   "metadata": {
    "vscode": {
     "languageId": "r"
    }
   },
   "outputs": [],
   "source": []
  },
  {
   "cell_type": "code",
   "execution_count": null,
   "id": "4702a899-82c3-429c-8f6c-be510b6ac2f7",
   "metadata": {
    "vscode": {
     "languageId": "r"
    }
   },
   "outputs": [],
   "source": [
    "scatter.smooth(x=Netflix$release_year, y=Netflix$imdb_score, main=\"release year by imdb score\")"
   ]
  },
  {
   "cell_type": "code",
   "execution_count": null,
   "id": "d0ca270a-c31b-43aa-a62b-5da20d0b7f27",
   "metadata": {
    "tags": [],
    "vscode": {
     "languageId": "r"
    }
   },
   "outputs": [],
   "source": [
    "Netflix %>% \n",
    "    select(imdb_score) %>% \n",
    "    drop_na(imdb_score) %>%\n",
    "    filter(!complete.cases(.)) %>%\n",
    "    View()"
   ]
  },
  {
   "cell_type": "code",
   "execution_count": null,
   "id": "872a0ace-b14a-491c-bf79-f3ff956e5b00",
   "metadata": {
    "tags": [],
    "vscode": {
     "languageId": "r"
    }
   },
   "outputs": [],
   "source": [
    "Netflix$imdb_score(is.na(Netflix$imdb_score) <- mean(Netflix$imdb_score, na.rm = TRUE)"
   ]
  },
  {
   "cell_type": "code",
   "execution_count": null,
   "id": "59799489-70e0-4577-8a62-e88d3064ba74",
   "metadata": {
    "vscode": {
     "languageId": "r"
    }
   },
   "outputs": [],
   "source": [
    "Means2 <- Netflix %>% group_by(release_year) %>% summarize(Mean = mean(imdb_score))"
   ]
  },
  {
   "cell_type": "code",
   "execution_count": null,
   "id": "3713fb2b-5e51-4e4b-b623-b629601ceb79",
   "metadata": {
    "tags": [],
    "vscode": {
     "languageId": "r"
    }
   },
   "outputs": [],
   "source": [
    "Means2"
   ]
  },
  {
   "cell_type": "markdown",
   "id": "40793ebd-f5eb-4675-841e-c5bd98fa56b4",
   "metadata": {},
   "source": [
    "# Second Data Set"
   ]
  },
  {
   "cell_type": "code",
   "execution_count": null,
   "id": "f2e40476-2b22-4fc4-a6a5-139e9de90b11",
   "metadata": {
    "vscode": {
     "languageId": "r"
    }
   },
   "outputs": [],
   "source": [
    "Netflix2 = read.csv(\"C:/Users/Summe/OneDrive/Desktop/NetflixOriginals.csv\")"
   ]
  },
  {
   "cell_type": "code",
   "execution_count": null,
   "id": "d039e94a-6635-418b-9b91-4724aad91b67",
   "metadata": {
    "tags": [],
    "vscode": {
     "languageId": "r"
    }
   },
   "outputs": [],
   "source": [
    "Netflix2"
   ]
  },
  {
   "cell_type": "code",
   "execution_count": null,
   "id": "64c241a2-85d8-4b37-968f-1ca52ae86090",
   "metadata": {
    "vscode": {
     "languageId": "r"
    }
   },
   "outputs": [],
   "source": [
    "unique(Netflix2$Genre)"
   ]
  },
  {
   "cell_type": "code",
   "execution_count": null,
   "id": "de63c114-ba31-4a5c-b609-661b241fabb0",
   "metadata": {
    "vscode": {
     "languageId": "r"
    }
   },
   "outputs": [],
   "source": [
    "GenreMean <- Netflix2 %>% group_by(Genre) %>% summarize(Mean = mean(IMDB.Score))"
   ]
  },
  {
   "cell_type": "code",
   "execution_count": null,
   "id": "c49ed6d6-3216-46e2-891d-44b59a927766",
   "metadata": {
    "vscode": {
     "languageId": "r"
    }
   },
   "outputs": [],
   "source": [
    "GenreMean"
   ]
  },
  {
   "cell_type": "markdown",
   "id": "5235ad8c-e350-4134-b645-b318ef2cb20f",
   "metadata": {},
   "source": [
    "Lowest Score: 4.4 = Superhero-Comedy \n",
    "Highest Score: 8.2 = Animation/Christmas/Comedy/Adventure"
   ]
  },
  {
   "cell_type": "code",
   "execution_count": null,
   "id": "71561b90-235e-4aee-88da-42fb33560abf",
   "metadata": {
    "vscode": {
     "languageId": "r"
    }
   },
   "outputs": [],
   "source": []
  },
  {
   "cell_type": "markdown",
   "id": "0787eb63-d4de-4f83-a26b-0d614c451cd4",
   "metadata": {},
   "source": [
    "# How have movie times changed through the decades? "
   ]
  },
  {
   "cell_type": "raw",
   "id": "67e7a211-3ac2-46f6-a8d8-d94be0f9ce33",
   "metadata": {},
   "source": [
    "Netflix(head)"
   ]
  },
  {
   "cell_type": "code",
   "execution_count": 39,
   "id": "6ce72b66-4880-498b-b5bd-fe64b45f9c33",
   "metadata": {
    "vscode": {
     "languageId": "r"
    }
   },
   "outputs": [
    {
     "data": {
      "text/html": [
       "<style>\n",
       ".list-inline {list-style: none; margin:0; padding: 0}\n",
       ".list-inline>li {display: inline-block}\n",
       ".list-inline>li:not(:last-child)::after {content: \"\\00b7\"; padding: 0 .5ex}\n",
       "</style>\n",
       "<ol class=list-inline><li>1945</li><li>1976</li><li>1972</li><li>1975</li><li>1967</li><li>1969</li><li>1979</li><li>1971</li><li>1980</li><li>1961</li><li>1966</li><li>1954</li><li>1958</li><li>1977</li><li>1963</li><li>1956</li><li>1960</li><li>1973</li><li>1974</li><li>1959</li><li>1978</li><li>1989</li><li>1990</li><li>1987</li><li>1984</li><li>1983</li><li>1982</li><li>1986</li><li>1981</li><li>1988</li><li>1985</li><li>2000</li><li>1996</li><li>1997</li><li>1995</li><li>1994</li><li>1999</li><li>1998</li><li>1993</li><li>1992</li><li>1991</li><li>2008</li><li>2002</li><li>2010</li><li>2005</li><li>2007</li><li>2004</li><li>2006</li><li>2009</li><li>2003</li><li>2001</li><li>2011</li><li>2012</li><li>2013</li><li>2014</li><li>2015</li><li>2016</li><li>2018</li><li>2017</li><li>2019</li><li>2020</li><li>2022</li><li>2021</li></ol>\n"
      ],
      "text/latex": [
       "\\begin{enumerate*}\n",
       "\\item 1945\n",
       "\\item 1976\n",
       "\\item 1972\n",
       "\\item 1975\n",
       "\\item 1967\n",
       "\\item 1969\n",
       "\\item 1979\n",
       "\\item 1971\n",
       "\\item 1980\n",
       "\\item 1961\n",
       "\\item 1966\n",
       "\\item 1954\n",
       "\\item 1958\n",
       "\\item 1977\n",
       "\\item 1963\n",
       "\\item 1956\n",
       "\\item 1960\n",
       "\\item 1973\n",
       "\\item 1974\n",
       "\\item 1959\n",
       "\\item 1978\n",
       "\\item 1989\n",
       "\\item 1990\n",
       "\\item 1987\n",
       "\\item 1984\n",
       "\\item 1983\n",
       "\\item 1982\n",
       "\\item 1986\n",
       "\\item 1981\n",
       "\\item 1988\n",
       "\\item 1985\n",
       "\\item 2000\n",
       "\\item 1996\n",
       "\\item 1997\n",
       "\\item 1995\n",
       "\\item 1994\n",
       "\\item 1999\n",
       "\\item 1998\n",
       "\\item 1993\n",
       "\\item 1992\n",
       "\\item 1991\n",
       "\\item 2008\n",
       "\\item 2002\n",
       "\\item 2010\n",
       "\\item 2005\n",
       "\\item 2007\n",
       "\\item 2004\n",
       "\\item 2006\n",
       "\\item 2009\n",
       "\\item 2003\n",
       "\\item 2001\n",
       "\\item 2011\n",
       "\\item 2012\n",
       "\\item 2013\n",
       "\\item 2014\n",
       "\\item 2015\n",
       "\\item 2016\n",
       "\\item 2018\n",
       "\\item 2017\n",
       "\\item 2019\n",
       "\\item 2020\n",
       "\\item 2022\n",
       "\\item 2021\n",
       "\\end{enumerate*}\n"
      ],
      "text/markdown": [
       "1. 1945\n",
       "2. 1976\n",
       "3. 1972\n",
       "4. 1975\n",
       "5. 1967\n",
       "6. 1969\n",
       "7. 1979\n",
       "8. 1971\n",
       "9. 1980\n",
       "10. 1961\n",
       "11. 1966\n",
       "12. 1954\n",
       "13. 1958\n",
       "14. 1977\n",
       "15. 1963\n",
       "16. 1956\n",
       "17. 1960\n",
       "18. 1973\n",
       "19. 1974\n",
       "20. 1959\n",
       "21. 1978\n",
       "22. 1989\n",
       "23. 1990\n",
       "24. 1987\n",
       "25. 1984\n",
       "26. 1983\n",
       "27. 1982\n",
       "28. 1986\n",
       "29. 1981\n",
       "30. 1988\n",
       "31. 1985\n",
       "32. 2000\n",
       "33. 1996\n",
       "34. 1997\n",
       "35. 1995\n",
       "36. 1994\n",
       "37. 1999\n",
       "38. 1998\n",
       "39. 1993\n",
       "40. 1992\n",
       "41. 1991\n",
       "42. 2008\n",
       "43. 2002\n",
       "44. 2010\n",
       "45. 2005\n",
       "46. 2007\n",
       "47. 2004\n",
       "48. 2006\n",
       "49. 2009\n",
       "50. 2003\n",
       "51. 2001\n",
       "52. 2011\n",
       "53. 2012\n",
       "54. 2013\n",
       "55. 2014\n",
       "56. 2015\n",
       "57. 2016\n",
       "58. 2018\n",
       "59. 2017\n",
       "60. 2019\n",
       "61. 2020\n",
       "62. 2022\n",
       "63. 2021\n",
       "\n",
       "\n"
      ],
      "text/plain": [
       " [1] 1945 1976 1972 1975 1967 1969 1979 1971 1980 1961 1966 1954 1958 1977 1963\n",
       "[16] 1956 1960 1973 1974 1959 1978 1989 1990 1987 1984 1983 1982 1986 1981 1988\n",
       "[31] 1985 2000 1996 1997 1995 1994 1999 1998 1993 1992 1991 2008 2002 2010 2005\n",
       "[46] 2007 2004 2006 2009 2003 2001 2011 2012 2013 2014 2015 2016 2018 2017 2019\n",
       "[61] 2020 2022 2021"
      ]
     },
     "metadata": {},
     "output_type": "display_data"
    }
   ],
   "source": [
    "unique( Netflix$release_year)"
   ]
  },
  {
   "cell_type": "code",
   "execution_count": 40,
   "id": "43412356-51b9-49a5-8a60-3ba0114977c2",
   "metadata": {
    "vscode": {
     "languageId": "r"
    }
   },
   "outputs": [],
   "source": [
    "Netflix90 <- na.omit(Netflix %>% filter(release_year %in% c('1990','1991','1992','1993','1994','1995','1996','1997','1998','1999')))"
   ]
  },
  {
   "cell_type": "code",
   "execution_count": 41,
   "id": "07dc5c20-43aa-4c1f-aa34-cf60d5a75339",
   "metadata": {
    "vscode": {
     "languageId": "r"
    }
   },
   "outputs": [],
   "source": [
    "Netflix00 <- na.omit(Netflix %>% filter(release_year %in% c('2000','2001','2002','2003','2004','2005','2006','2007','2008','2009')))"
   ]
  },
  {
   "cell_type": "code",
   "execution_count": 42,
   "id": "d869116e-9514-492e-92f5-e6a5f518a076",
   "metadata": {
    "vscode": {
     "languageId": "r"
    }
   },
   "outputs": [],
   "source": [
    "Netflix10 <- na.omit(Netflix %>% filter(release_year %in% c('2010','2011','2012','2013','2014','2015','2016','2017','2018','2019')))"
   ]
  },
  {
   "cell_type": "code",
   "execution_count": 43,
   "id": "d634c787-cdd1-4489-bfad-6f9bbf4e8005",
   "metadata": {
    "vscode": {
     "languageId": "r"
    }
   },
   "outputs": [
    {
     "data": {
      "text/html": [
       "<style>\n",
       ".list-inline {list-style: none; margin:0; padding: 0}\n",
       ".list-inline>li {display: inline-block}\n",
       ".list-inline>li:not(:last-child)::after {content: \"\\00b7\"; padding: 0 .5ex}\n",
       "</style>\n",
       "<ol class=list-inline><li>2010</li><li>2011</li><li>2012</li><li>2013</li><li>2014</li><li>2015</li><li>2016</li><li>2018</li><li>2017</li><li>2019</li></ol>\n"
      ],
      "text/latex": [
       "\\begin{enumerate*}\n",
       "\\item 2010\n",
       "\\item 2011\n",
       "\\item 2012\n",
       "\\item 2013\n",
       "\\item 2014\n",
       "\\item 2015\n",
       "\\item 2016\n",
       "\\item 2018\n",
       "\\item 2017\n",
       "\\item 2019\n",
       "\\end{enumerate*}\n"
      ],
      "text/markdown": [
       "1. 2010\n",
       "2. 2011\n",
       "3. 2012\n",
       "4. 2013\n",
       "5. 2014\n",
       "6. 2015\n",
       "7. 2016\n",
       "8. 2018\n",
       "9. 2017\n",
       "10. 2019\n",
       "\n",
       "\n"
      ],
      "text/plain": [
       " [1] 2010 2011 2012 2013 2014 2015 2016 2018 2017 2019"
      ]
     },
     "metadata": {},
     "output_type": "display_data"
    }
   ],
   "source": [
    "unique( Netflix10$release_year)"
   ]
  },
  {
   "cell_type": "code",
   "execution_count": 44,
   "id": "c949d880-a27f-41da-9c98-8633fd6f4e7a",
   "metadata": {
    "vscode": {
     "languageId": "r"
    }
   },
   "outputs": [
    {
     "data": {
      "text/html": [
       "<style>\n",
       ".list-inline {list-style: none; margin:0; padding: 0}\n",
       ".list-inline>li {display: inline-block}\n",
       ".list-inline>li:not(:last-child)::after {content: \"\\00b7\"; padding: 0 .5ex}\n",
       "</style>\n",
       "<ol class=list-inline><li>2000</li><li>2008</li><li>2002</li><li>2005</li><li>2006</li><li>2009</li><li>2003</li><li>2007</li><li>2004</li><li>2001</li></ol>\n"
      ],
      "text/latex": [
       "\\begin{enumerate*}\n",
       "\\item 2000\n",
       "\\item 2008\n",
       "\\item 2002\n",
       "\\item 2005\n",
       "\\item 2006\n",
       "\\item 2009\n",
       "\\item 2003\n",
       "\\item 2007\n",
       "\\item 2004\n",
       "\\item 2001\n",
       "\\end{enumerate*}\n"
      ],
      "text/markdown": [
       "1. 2000\n",
       "2. 2008\n",
       "3. 2002\n",
       "4. 2005\n",
       "5. 2006\n",
       "6. 2009\n",
       "7. 2003\n",
       "8. 2007\n",
       "9. 2004\n",
       "10. 2001\n",
       "\n",
       "\n"
      ],
      "text/plain": [
       " [1] 2000 2008 2002 2005 2006 2009 2003 2007 2004 2001"
      ]
     },
     "metadata": {},
     "output_type": "display_data"
    }
   ],
   "source": [
    "unique( Netflix00$release_year)"
   ]
  },
  {
   "cell_type": "code",
   "execution_count": 45,
   "id": "4890ca0f-454e-4b2f-a252-9cbdc3029297",
   "metadata": {
    "vscode": {
     "languageId": "r"
    }
   },
   "outputs": [
    {
     "data": {
      "text/html": [
       "<style>\n",
       ".list-inline {list-style: none; margin:0; padding: 0}\n",
       ".list-inline>li {display: inline-block}\n",
       ".list-inline>li:not(:last-child)::after {content: \"\\00b7\"; padding: 0 .5ex}\n",
       "</style>\n",
       "<ol class=list-inline><li>1997</li><li>1999</li><li>1998</li><li>1995</li><li>1993</li><li>1994</li><li>1992</li><li>1996</li></ol>\n"
      ],
      "text/latex": [
       "\\begin{enumerate*}\n",
       "\\item 1997\n",
       "\\item 1999\n",
       "\\item 1998\n",
       "\\item 1995\n",
       "\\item 1993\n",
       "\\item 1994\n",
       "\\item 1992\n",
       "\\item 1996\n",
       "\\end{enumerate*}\n"
      ],
      "text/markdown": [
       "1. 1997\n",
       "2. 1999\n",
       "3. 1998\n",
       "4. 1995\n",
       "5. 1993\n",
       "6. 1994\n",
       "7. 1992\n",
       "8. 1996\n",
       "\n",
       "\n"
      ],
      "text/plain": [
       "[1] 1997 1999 1998 1995 1993 1994 1992 1996"
      ]
     },
     "metadata": {},
     "output_type": "display_data"
    }
   ],
   "source": [
    "unique( Netflix90$release_year)"
   ]
  },
  {
   "cell_type": "code",
   "execution_count": 46,
   "id": "f8c83cad-e658-446d-b9c6-095582cbb463",
   "metadata": {
    "vscode": {
     "languageId": "r"
    }
   },
   "outputs": [],
   "source": [
    "MeansRunTime <- Netflix90 %>% group_by(release_year) %>% summarize(Mean = mean(runtime))"
   ]
  },
  {
   "cell_type": "code",
   "execution_count": 47,
   "id": "99bb94c5-df7e-44ad-b5d7-c7ef85e2de03",
   "metadata": {
    "tags": [],
    "vscode": {
     "languageId": "r"
    }
   },
   "outputs": [
    {
     "data": {
      "text/html": [
       "<table class=\"dataframe\">\n",
       "<caption>A tibble: 8 × 2</caption>\n",
       "<thead>\n",
       "\t<tr><th scope=col>release_year</th><th scope=col>Mean</th></tr>\n",
       "\t<tr><th scope=col>&lt;int&gt;</th><th scope=col>&lt;dbl&gt;</th></tr>\n",
       "</thead>\n",
       "<tbody>\n",
       "\t<tr><td>1992</td><td>28.00</td></tr>\n",
       "\t<tr><td>1993</td><td>22.00</td></tr>\n",
       "\t<tr><td>1994</td><td>28.75</td></tr>\n",
       "\t<tr><td>1995</td><td>23.00</td></tr>\n",
       "\t<tr><td>1996</td><td>23.00</td></tr>\n",
       "\t<tr><td>1997</td><td>33.00</td></tr>\n",
       "\t<tr><td>1998</td><td>27.40</td></tr>\n",
       "\t<tr><td>1999</td><td>17.00</td></tr>\n",
       "</tbody>\n",
       "</table>\n"
      ],
      "text/latex": [
       "A tibble: 8 × 2\n",
       "\\begin{tabular}{ll}\n",
       " release\\_year & Mean\\\\\n",
       " <int> & <dbl>\\\\\n",
       "\\hline\n",
       "\t 1992 & 28.00\\\\\n",
       "\t 1993 & 22.00\\\\\n",
       "\t 1994 & 28.75\\\\\n",
       "\t 1995 & 23.00\\\\\n",
       "\t 1996 & 23.00\\\\\n",
       "\t 1997 & 33.00\\\\\n",
       "\t 1998 & 27.40\\\\\n",
       "\t 1999 & 17.00\\\\\n",
       "\\end{tabular}\n"
      ],
      "text/markdown": [
       "\n",
       "A tibble: 8 × 2\n",
       "\n",
       "| release_year &lt;int&gt; | Mean &lt;dbl&gt; |\n",
       "|---|---|\n",
       "| 1992 | 28.00 |\n",
       "| 1993 | 22.00 |\n",
       "| 1994 | 28.75 |\n",
       "| 1995 | 23.00 |\n",
       "| 1996 | 23.00 |\n",
       "| 1997 | 33.00 |\n",
       "| 1998 | 27.40 |\n",
       "| 1999 | 17.00 |\n",
       "\n"
      ],
      "text/plain": [
       "  release_year Mean \n",
       "1 1992         28.00\n",
       "2 1993         22.00\n",
       "3 1994         28.75\n",
       "4 1995         23.00\n",
       "5 1996         23.00\n",
       "6 1997         33.00\n",
       "7 1998         27.40\n",
       "8 1999         17.00"
      ]
     },
     "metadata": {},
     "output_type": "display_data"
    }
   ],
   "source": [
    "MeansRunTime"
   ]
  },
  {
   "cell_type": "code",
   "execution_count": 48,
   "id": "467d08dc-d1c1-4062-bdb4-f6ddcb0ff6f8",
   "metadata": {
    "vscode": {
     "languageId": "r"
    }
   },
   "outputs": [],
   "source": [
    "MeansRunTime <- Netflix90 %>% summarize(Mean = mean(runtime))"
   ]
  },
  {
   "cell_type": "code",
   "execution_count": 49,
   "id": "2b1a9e9d-4685-4e35-9f10-4c60d84ad3e4",
   "metadata": {
    "tags": [],
    "vscode": {
     "languageId": "r"
    }
   },
   "outputs": [
    {
     "data": {
      "text/html": [
       "<table class=\"dataframe\">\n",
       "<caption>A data.frame: 1 × 1</caption>\n",
       "<thead>\n",
       "\t<tr><th scope=col>Mean</th></tr>\n",
       "\t<tr><th scope=col>&lt;dbl&gt;</th></tr>\n",
       "</thead>\n",
       "<tbody>\n",
       "\t<tr><td>25.38095</td></tr>\n",
       "</tbody>\n",
       "</table>\n"
      ],
      "text/latex": [
       "A data.frame: 1 × 1\n",
       "\\begin{tabular}{l}\n",
       " Mean\\\\\n",
       " <dbl>\\\\\n",
       "\\hline\n",
       "\t 25.38095\\\\\n",
       "\\end{tabular}\n"
      ],
      "text/markdown": [
       "\n",
       "A data.frame: 1 × 1\n",
       "\n",
       "| Mean &lt;dbl&gt; |\n",
       "|---|\n",
       "| 25.38095 |\n",
       "\n"
      ],
      "text/plain": [
       "  Mean    \n",
       "1 25.38095"
      ]
     },
     "metadata": {},
     "output_type": "display_data"
    }
   ],
   "source": [
    "MeansRunTime"
   ]
  },
  {
   "cell_type": "code",
   "execution_count": 50,
   "id": "06b70f29-109e-44cb-9139-51ecfdaf8daf",
   "metadata": {
    "vscode": {
     "languageId": "r"
    }
   },
   "outputs": [],
   "source": [
    "MeansRunTime <- Netflix00 %>% summarize(Mean = mean(runtime))"
   ]
  },
  {
   "cell_type": "code",
   "execution_count": 51,
   "id": "f3068100-2b8a-4ca7-a339-f7f97290d649",
   "metadata": {
    "tags": [],
    "vscode": {
     "languageId": "r"
    }
   },
   "outputs": [
    {
     "data": {
      "text/html": [
       "<table class=\"dataframe\">\n",
       "<caption>A data.frame: 1 × 1</caption>\n",
       "<thead>\n",
       "\t<tr><th scope=col>Mean</th></tr>\n",
       "\t<tr><th scope=col>&lt;dbl&gt;</th></tr>\n",
       "</thead>\n",
       "<tbody>\n",
       "\t<tr><td>33.2</td></tr>\n",
       "</tbody>\n",
       "</table>\n"
      ],
      "text/latex": [
       "A data.frame: 1 × 1\n",
       "\\begin{tabular}{l}\n",
       " Mean\\\\\n",
       " <dbl>\\\\\n",
       "\\hline\n",
       "\t 33.2\\\\\n",
       "\\end{tabular}\n"
      ],
      "text/markdown": [
       "\n",
       "A data.frame: 1 × 1\n",
       "\n",
       "| Mean &lt;dbl&gt; |\n",
       "|---|\n",
       "| 33.2 |\n",
       "\n"
      ],
      "text/plain": [
       "  Mean\n",
       "1 33.2"
      ]
     },
     "metadata": {},
     "output_type": "display_data"
    }
   ],
   "source": [
    "MeansRunTime"
   ]
  },
  {
   "cell_type": "code",
   "execution_count": 52,
   "id": "a1037ccf-e811-490b-a530-8b628b8e0dbf",
   "metadata": {
    "vscode": {
     "languageId": "r"
    }
   },
   "outputs": [],
   "source": [
    "MeansRunTime <- Netflix10 %>% summarize(Mean = mean(runtime))"
   ]
  },
  {
   "cell_type": "code",
   "execution_count": 53,
   "id": "56acf8d1-b40c-4b20-a883-ce20efa6a302",
   "metadata": {
    "tags": [],
    "vscode": {
     "languageId": "r"
    }
   },
   "outputs": [
    {
     "data": {
      "text/html": [
       "<table class=\"dataframe\">\n",
       "<caption>A data.frame: 1 × 1</caption>\n",
       "<thead>\n",
       "\t<tr><th scope=col>Mean</th></tr>\n",
       "\t<tr><th scope=col>&lt;dbl&gt;</th></tr>\n",
       "</thead>\n",
       "<tbody>\n",
       "\t<tr><td>38.78705</td></tr>\n",
       "</tbody>\n",
       "</table>\n"
      ],
      "text/latex": [
       "A data.frame: 1 × 1\n",
       "\\begin{tabular}{l}\n",
       " Mean\\\\\n",
       " <dbl>\\\\\n",
       "\\hline\n",
       "\t 38.78705\\\\\n",
       "\\end{tabular}\n"
      ],
      "text/markdown": [
       "\n",
       "A data.frame: 1 × 1\n",
       "\n",
       "| Mean &lt;dbl&gt; |\n",
       "|---|\n",
       "| 38.78705 |\n",
       "\n"
      ],
      "text/plain": [
       "  Mean    \n",
       "1 38.78705"
      ]
     },
     "metadata": {},
     "output_type": "display_data"
    }
   ],
   "source": [
    "MeansRunTime"
   ]
  },
  {
   "cell_type": "markdown",
   "id": "3f46002c-76e6-42be-9e3c-2788b44c2085",
   "metadata": {},
   "source": [
    "# Is there a difference in runtime among the three seperate data frames of the 90's, 00's and 10's?"
   ]
  },
  {
   "cell_type": "code",
   "execution_count": null,
   "id": "26935cbd-6916-4375-b8ab-5cbb8e68cdbd",
   "metadata": {
    "tags": [],
    "vscode": {
     "languageId": "r"
    }
   },
   "outputs": [],
   "source": [
    "NetflixDecades <- rbind(Netflix00, Netflix)"
   ]
  },
  {
   "cell_type": "code",
   "execution_count": null,
   "id": "8d3b4483-67d3-4b62-919c-ee615a44429f",
   "metadata": {
    "jupyter": {
     "source_hidden": true
    },
    "tags": [],
    "vscode": {
     "languageId": "r"
    }
   },
   "outputs": [],
   "source": [
    "list1 <- list(Netflix00=Netflix00, Netflix90=Netflix90, Netflix01=Netflix10)\n",
    "\n",
    "res <- sapply(list1, function(x) {\n",
    "  dat <- cbind(release_year, x)\n",
    "  sapply(dat[-(1:3)], function(y) {\n",
    "    z <- aov(y ~ Group*Time + Error(Name/(Group*Time)), data=dat)\n",
    "    sz <- summary(z)\n",
    "    p <- sz$`Error: Name:Group:Time`[[1]][1, 5]\n",
    "    p\n",
    "  })\n",
    "})"
   ]
  },
  {
   "cell_type": "code",
   "execution_count": null,
   "id": "14790e3f-b121-4866-bb55-12f80fafcc1d",
   "metadata": {
    "tags": [],
    "vscode": {
     "languageId": "r"
    }
   },
   "outputs": [],
   "source": [
    "Netflix90"
   ]
  },
  {
   "cell_type": "code",
   "execution_count": null,
   "id": "85b6b447-477c-473d-9347-cc7bdee60d86",
   "metadata": {
    "vscode": {
     "languageId": "r"
    }
   },
   "outputs": [],
   "source": []
  }
 ],
 "metadata": {
  "kernelspec": {
   "display_name": "R",
   "language": "R",
   "name": "ir"
  },
  "language_info": {
   "codemirror_mode": "r",
   "file_extension": ".r",
   "mimetype": "text/x-r-source",
   "name": "R",
   "pygments_lexer": "r",
   "version": "4.1.2"
  }
 },
 "nbformat": 4,
 "nbformat_minor": 5
}
